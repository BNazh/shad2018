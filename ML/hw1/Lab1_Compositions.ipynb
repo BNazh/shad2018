{
 "cells": [
  {
   "cell_type": "markdown",
   "metadata": {
    "toc": true
   },
   "source": [
    "<h1>Table of Contents<span class=\"tocSkip\"></span></h1>\n",
    "<div class=\"toc\"><ul class=\"toc-item\"><li><span><a href=\"#imports\" data-toc-modified-id=\"imports-1\"><span class=\"toc-item-num\">1&nbsp;&nbsp;</span>imports</a></span></li><li><span><a href=\"#Лабораторная-работа-1.-Композиции-алгоритмов-(22-балла)\" data-toc-modified-id=\"Лабораторная-работа-1.-Композиции-алгоритмов-(22-балла)-2\"><span class=\"toc-item-num\">2&nbsp;&nbsp;</span>Лабораторная работа 1. Композиции алгоритмов (22 балла)</a></span><ul class=\"toc-item\"><li><ul class=\"toc-item\"><li><span><a href=\"#Оценивание-и-штрафы\" data-toc-modified-id=\"Оценивание-и-штрафы-2.0.1\"><span class=\"toc-item-num\">2.0.1&nbsp;&nbsp;</span>Оценивание и штрафы</a></span></li></ul></li><li><span><a href=\"#Bias-Variance-decomposition-(6-баллов)\" data-toc-modified-id=\"Bias-Variance-decomposition-(6-баллов)-2.1\"><span class=\"toc-item-num\">2.1&nbsp;&nbsp;</span>Bias-Variance decomposition (6 баллов)</a></span></li><li><span><a href=\"#Композиции-алгоритмов\" data-toc-modified-id=\"Композиции-алгоритмов-2.2\"><span class=\"toc-item-num\">2.2&nbsp;&nbsp;</span>Композиции алгоритмов</a></span><ul class=\"toc-item\"><li><span><a href=\"#Bagging-+-RSM\" data-toc-modified-id=\"Bagging-+-RSM-2.2.1\"><span class=\"toc-item-num\">2.2.1&nbsp;&nbsp;</span>Bagging + RSM</a></span></li><li><span><a href=\"#Градиентный-бустинг-(5-баллов)\" data-toc-modified-id=\"Градиентный-бустинг-(5-баллов)-2.2.2\"><span class=\"toc-item-num\">2.2.2&nbsp;&nbsp;</span>Градиентный бустинг (5 баллов)</a></span></li><li><span><a href=\"#Adaboost-(5-баллов)\" data-toc-modified-id=\"Adaboost-(5-баллов)-2.2.3\"><span class=\"toc-item-num\">2.2.3&nbsp;&nbsp;</span>Adaboost (5 баллов)</a></span></li><li><span><a href=\"#Стекинг-(6-баллов)\" data-toc-modified-id=\"Стекинг-(6-баллов)-2.2.4\"><span class=\"toc-item-num\">2.2.4&nbsp;&nbsp;</span>Стекинг (6 баллов)</a></span></li></ul></li></ul></li></ul></div>"
   ]
  },
  {
   "cell_type": "markdown",
   "metadata": {},
   "source": [
    "# imports"
   ]
  },
  {
   "cell_type": "code",
   "execution_count": 1,
   "metadata": {
    "ExecuteTime": {
     "end_time": "2018-10-03T15:00:18.079674Z",
     "start_time": "2018-10-03T15:00:16.899034Z"
    }
   },
   "outputs": [],
   "source": [
    "import matplotlib.pyplot as plt\n",
    "import numpy as np\n",
    "import pandas as pd\n",
    "import xgboost as xgb\n",
    "\n",
    "from sklearn.base import clone\n",
    "from sklearn.linear_model import LinearRegression, LogisticRegression\n",
    "from sklearn.metrics import accuracy_score, mean_squared_error\n",
    "from sklearn.model_selection import KFold, cross_val_predict, train_test_split\n",
    "from sklearn.neighbors import KNeighborsClassifier, KNeighborsRegressor\n",
    "from sklearn.svm import SVC, SVR\n",
    "from sklearn.tree import DecisionTreeClassifier, DecisionTreeRegressor"
   ]
  },
  {
   "cell_type": "markdown",
   "metadata": {},
   "source": [
    "# Лабораторная работа 1. Композиции алгоритмов (22 балла)\n",
    "\n",
    "Результат лабораторной работы − отчет. Мы предпочитаем принимать отчеты в формате ноутбуков IPython (ipynb-файл). Постарайтесь сделать ваш отчет интересным рассказом, последовательно отвечающим на вопросы из заданий. Помимо ответов на вопросы, в отчете так же должен быть код, однако чем меньше кода, тем лучше всем: нам − меньше проверять, вам — проще найти ошибку или дополнить эксперимент. При проверке оценивается четкость ответов на вопросы, аккуратность отчета и кода.\n",
    "\n",
    "### Оценивание и штрафы\n",
    "Каждая из задач имеет определенную «стоимость» (указана в скобках около задачи). Сдавать задание после указанного срока сдачи нельзя. «Похожие» решения считаются плагиатом и все задействованные студенты (в том числе те, у кого списали) не могут получить за него больше 0 баллов и понижают карму (подробнее о плагиате см. на странице курса). Если вы нашли решение какого-то из заданий в открытом источнике, необходимо прислать ссылку на этот источник (скорее всего вы будете не единственным, кто это нашел, поэтому чтобы исключить подозрение в плагиате, нам необходима ссылка на источник)."
   ]
  },
  {
   "cell_type": "markdown",
   "metadata": {},
   "source": [
    "## Bias-Variance decomposition (6 баллов)\n",
    "\n",
    "![](http://scott.fortmann-roe.com/docs/docs/BiasVariance/biasvariance.png)"
   ]
  },
  {
   "cell_type": "markdown",
   "metadata": {},
   "source": [
    "Сгенерируем следующую выборку: объектами будут являться $\\ell = 20$ фиксированных точек $X~= \\{x_1, \\dots, x_\\ell\\}$, равномерно распределённых на отрезке $[0, \\pi]$, а ответами $y_i = \\cos(x_i) + N(0, 0.1)$."
   ]
  },
  {
   "cell_type": "markdown",
   "metadata": {},
   "source": [
    "**(1.3 балла) Задание 1.**  На рисунках ниже для разных семейств алгоритмов изображена истинная кривая зависимости ответов от объектов $y = \\cos(x)$, а также кривые для $100$ алгоритмов, обученных на различных реализациях выборки. Охарактеризуйте смещение и разброс для каждого из четырёх методов. Ответ поясните."
   ]
  },
  {
   "cell_type": "markdown",
   "metadata": {},
   "source": [
    "<table>\n",
    "    <tr>\n",
    "        <td>\n",
    "            <img src='bv_linear.png' width=350>\n",
    "            <br>\n",
    "            <div align=\"center\">\n",
    "                а) Линейная регрессия\n",
    "            </div>\n",
    "        </td>\n",
    "        <td>\n",
    "            <img src='bv_2nn.png' width=350>\n",
    "            <br>\n",
    "            <div align=\"center\">\n",
    "                б) kNN, $k = 2$\n",
    "            </div>\n",
    "        </td>\n",
    "    </tr>\n",
    "    <tr>\n",
    "        <td>\n",
    "            <img src='bv_svm_rbf_1.png' width=350>\n",
    "            <br>\n",
    "            <div align=\"center\">\n",
    "                в) SVM с RBF-ядром, $\\gamma = 1$\n",
    "            </div>\n",
    "        </td>\n",
    "        <td>\n",
    "            <img src='bv_svm_rbf_100.png' width=350>\n",
    "            <br>\n",
    "            <div align=\"center\">\n",
    "                г) SVM с RBF-ядром, $\\gamma = 100$\n",
    "            </div>\n",
    "        </td>\n",
    "    </tr>\n",
    "</table>"
   ]
  },
  {
   "cell_type": "markdown",
   "metadata": {},
   "source": [
    "**Ответ.** \n",
    "Истинная кривая ответов $y=\\cos(x)$ и будет являться минимумом среднеквадратичного риска $a^*(x)=E(y \\mid x)=E(\\cos(x) + \\eta)=\\cos(x)$.\n",
    "Значение разброса (на глаз можно оценить как среднюю ширину полосы из предсказанных кривых) невелико для всех четырех методов. А вот смещение (среднее отклонение среднего предсказания от истинного) будет значительно больше в случае SVM($\\gamma=100$)."
   ]
  },
  {
   "cell_type": "markdown",
   "metadata": {},
   "source": [
    "**(2.7 балла) Задание 2.** Для описанной формулировки задачи некорректно говорить о смещении и разбросе на всём отрезке $[0, \\pi]$. Объясните, почему. Предложите, как можно исправить условие, чтобы избежать этой некорректности. Перестройте графики к задаче для исправленного условия, и охарактеризуйте смещение и разброс на этих графиках для каждого из четырёх методов."
   ]
  },
  {
   "cell_type": "markdown",
   "metadata": {},
   "source": [
    "**Ответ.** Некорректно говорить о смещении и разбросе на всем отрезке $[0, \\pi]$, т.к. при оценке матожиданий $E_{x,y}$ и $E_{X^l}$ значения $x_i$ приходят из меньшего множества $X=\\left\\{\\frac{k\\pi}{20}\\right\\}_{k=0}^{20} \\subset [0, \\pi]$. Пусть тогда $x_i \\sim U[0, \\pi]$."
   ]
  },
  {
   "cell_type": "code",
   "execution_count": 2,
   "metadata": {
    "ExecuteTime": {
     "end_time": "2018-10-03T15:00:18.085690Z",
     "start_time": "2018-10-03T15:00:18.081679Z"
    }
   },
   "outputs": [],
   "source": [
    "X_test = np.linspace(0, np.pi, 100)\n",
    "y_test = np.cos(X_test)\n",
    "def gen_X_y(fix_x=False):\n",
    "    while True:\n",
    "        if not fix_x:\n",
    "            X = np.random.uniform(0, np.pi, 20)\n",
    "        else:\n",
    "            X = np.linspace(0, np.pi, 20)\n",
    "        yield X, np.cos(X) + np.random.normal(scale=0.1, size=len(X))\n",
    "    \n",
    "sample_generator = gen_X_y()"
   ]
  },
  {
   "cell_type": "code",
   "execution_count": 3,
   "metadata": {
    "ExecuteTime": {
     "end_time": "2018-10-03T15:00:18.500294Z",
     "start_time": "2018-10-03T15:00:18.087695Z"
    }
   },
   "outputs": [
    {
     "data": {
      "image/png": "[encoded data removed]",
      "text/plain": [
       "<Figure size 432x288 with 1 Axes>"
      ]
     },
     "metadata": {
      "needs_background": "light"
     },
     "output_type": "display_data"
    }
   ],
   "source": [
    "plt.scatter(*next(sample_generator))\n",
    "plt.plot(X_test, y_test)\n",
    "plt.show()"
   ]
  },
  {
   "cell_type": "code",
   "execution_count": 4,
   "metadata": {
    "ExecuteTime": {
     "end_time": "2018-10-03T15:00:18.561457Z",
     "start_time": "2018-10-03T15:00:18.502801Z"
    }
   },
   "outputs": [],
   "source": [
    "def clf_predict(X, y, X_test, clf):\n",
    "    clf = clone(clf).fit(X.reshape(-1, 1), y)\n",
    "    return clf.predict(X_test.reshape(-1, 1))    "
   ]
  },
  {
   "cell_type": "code",
   "execution_count": 5,
   "metadata": {
    "ExecuteTime": {
     "end_time": "2018-10-03T15:00:18.728404Z",
     "start_time": "2018-10-03T15:00:18.562961Z"
    }
   },
   "outputs": [],
   "source": [
    "def draw_preds(clf, sample_generator=sample_generator, ax=plt):\n",
    "    preds = [clf_predict(*next(sample_generator), X_test, clf) for i in range(100)]\n",
    "    bias2 = np.mean((np.mean(preds, axis=0) - y_test) ** 2)\n",
    "    variance = np.mean(np.mean([(np.mean(preds, axis=0) - x) ** 2 for x in preds], axis=0))\n",
    "    [ax.plot(X_test, pred, c='b', linewidth=0.3) for pred in preds]\n",
    "    ax.plot(X_test, y_test, c='r')\n",
    "    return bias2, variance"
   ]
  },
  {
   "cell_type": "markdown",
   "metadata": {},
   "source": [
    "**Продолжение.** Теперь разброс больше во всех 4-х случаях. Смещение увеличивается при приближении к границе отрезка для всех алгоритмов, кроме KNN(2)."
   ]
  },
  {
   "cell_type": "code",
   "execution_count": 6,
   "metadata": {
    "ExecuteTime": {
     "end_time": "2018-10-03T15:00:20.268998Z",
     "start_time": "2018-10-03T15:00:18.730408Z"
    }
   },
   "outputs": [
    {
     "data": {
      "image/png": "[encoded data removed]",
      "text/plain": [
       "<Figure size 1080x720 with 4 Axes>"
      ]
     },
     "metadata": {
      "needs_background": "light"
     },
     "output_type": "display_data"
    }
   ],
   "source": [
    "f, axs = plt.subplots(2, 2, figsize=(15, 10), gridspec_kw=dict(hspace=0.35))\n",
    "for i, (clf_name, clf) in enumerate([\n",
    "    ('KNN', KNeighborsRegressor(2)),\n",
    "    ('LinReg', LinearRegression()),\n",
    "    ('SVR(gamma=1)', SVR(gamma=1)),\n",
    "    ('SVR(gamma=100)', SVR(gamma=100))\n",
    "]):\n",
    "    ax = axs[i//2][i%2]\n",
    "    bias2, variance = draw_preds(clf, ax=ax)\n",
    "    ax.set_title('%s\\nbias=%.4f\\nvar=%.4f' % (\n",
    "        clf_name,\n",
    "        bias2,\n",
    "        variance\n",
    "    ))\n",
    "    \n",
    "plt.show()"
   ]
  },
  {
   "cell_type": "markdown",
   "metadata": {},
   "source": [
    "\n",
    "Теперь рассмотрим другую задачу: регрессии со среднеквадратичной функцией потерь, а также некоторый алгоритм $a$. Тогда качество алгоритма $a$ может быть записано следующим образом:\n",
    "\n",
    "$$Q(a) = \\mathbb{E}_{X^l} \\mathbb{E}_{x,y}(a(x) - y)^2,$$\n",
    "\n",
    "где первое матожидание вычисляется по всевозможным обучающим выборкам $X^l$ размера $l$. К сожалению, на реальных данных эта формула неприменима из-за невозможности сгенерировать необходимые для оценки данные. Поэтому проведем приближенный численный эксперимент с эмпирическими оценками матожиданий.\n",
    "\n",
    "С помощью бутстраппинга можно просемплировать из обучающей выборки $N$ новых выборок того же размера, тем самым \"имитируя\" пространство всевозможных обучающих выборок, после чего обучить на каждой выбранный алгоритм. Обозначим вектор истинных меток тестовой выборки за $y \\in \\mathbb{R}^{m}$. Векторы прогнозов для объектов из тестовой выборки для каждой модели обозначим за $\\hat{y}_i \\in \\mathbb{R}^{m}, i \\in \\{1, .., N\\}$. Тогда средний квадрат ошибки по всем моделям на тестовой выборке запишется как\n",
    "\n",
    "$$error=\\frac{1}{N}\\sum_{i=1}^{N}MSE(y,\\hat{y}_i).$$\n",
    "\n",
    "Обозначим среднее предсказание за $$\\overline{y} = \\frac{1}{N}\\sum_{i=1}^{N} \\hat{y}_i.$$\n",
    "\n",
    "Тогда квадрат отклонения среднего предсказания и разброс прогнозов относительно среднего предсказания всех моделей на тестовой выборке от истинных меток запишутся следующим образом, соответственно:\n",
    "\n",
    "$$bias^2 = MSE(y, \\overline y),$$\n",
    "\n",
    "$$variance = \\frac{1}{N}\\sum_{i=1}^N MSE(\\hat{y}_i, \\overline y).$$\n"
   ]
  },
  {
   "cell_type": "markdown",
   "metadata": {},
   "source": [
    "Для начала рассмотрим в качестве алгоритма решающее дерево. Как известно, при увеличении высоты дерева алгоритм может быть сильно чувствителен к составу обучающей выборки. Чтобы подтвердить эти предположения, проведите следующие эксперименты."
   ]
  },
  {
   "cell_type": "markdown",
   "metadata": {},
   "source": [
    "Загрузите [набор данных](http://archive.ics.uci.edu/ml/datasets/BlogFeedback). Каждый объект — пост в блоге. Он описывается различными признаками: длина текста поста, наличие наиболее частотных слов, день недели, количество комментариев за последние 24 часа и т.п., а так же целевым признаком — количеством комментариев к посту. Полный список признаков и описание находятся на странице датасета. \n",
    "\n",
    "Разбейте данные из файла **blogData_train.csv** на обучающую и тестовую выборки в пропорциях 1 к 4 соответственно. Обратите внимание, что обучающая выборка меньше тестовой. Такая большая тестовая выборка позволит сделать измерение качества моделей достаточно достоверным. "
   ]
  },
  {
   "cell_type": "code",
   "execution_count": 7,
   "metadata": {
    "ExecuteTime": {
     "end_time": "2018-10-03T15:00:22.591691Z",
     "start_time": "2018-10-03T15:00:20.270502Z"
    }
   },
   "outputs": [
    {
     "data": {
      "text/html": [
       "<div>\n",
       "<style scoped>\n",
       "    .dataframe tbody tr th:only-of-type {\n",
       "        vertical-align: middle;\n",
       "    }\n",
       "\n",
       "    .dataframe tbody tr th {\n",
       "        vertical-align: top;\n",
       "    }\n",
       "\n",
       "    .dataframe thead th {\n",
       "        text-align: right;\n",
       "    }\n",
       "</style>\n",
       "<table border=\"1\" class=\"dataframe\">\n",
       "  <thead>\n",
       "    <tr style=\"text-align: right;\">\n",
       "      <th></th>\n",
       "      <th>1</th>\n",
       "      <th>2</th>\n",
       "      <th>3</th>\n",
       "      <th>4</th>\n",
       "      <th>5</th>\n",
       "      <th>6</th>\n",
       "      <th>7</th>\n",
       "      <th>8</th>\n",
       "      <th>9</th>\n",
       "      <th>10</th>\n",
       "      <th>...</th>\n",
       "      <th>272</th>\n",
       "      <th>273</th>\n",
       "      <th>274</th>\n",
       "      <th>275</th>\n",
       "      <th>276</th>\n",
       "      <th>277</th>\n",
       "      <th>278</th>\n",
       "      <th>279</th>\n",
       "      <th>280</th>\n",
       "      <th>281</th>\n",
       "    </tr>\n",
       "  </thead>\n",
       "  <tbody>\n",
       "    <tr>\n",
       "      <th>0</th>\n",
       "      <td>40.30467</td>\n",
       "      <td>53.845657</td>\n",
       "      <td>0.0</td>\n",
       "      <td>401.0</td>\n",
       "      <td>15.0</td>\n",
       "      <td>15.52416</td>\n",
       "      <td>32.44188</td>\n",
       "      <td>0.0</td>\n",
       "      <td>377.0</td>\n",
       "      <td>3.0</td>\n",
       "      <td>...</td>\n",
       "      <td>0.0</td>\n",
       "      <td>1.0</td>\n",
       "      <td>0.0</td>\n",
       "      <td>0.0</td>\n",
       "      <td>0.0</td>\n",
       "      <td>0.0</td>\n",
       "      <td>0.0</td>\n",
       "      <td>0.0</td>\n",
       "      <td>0.0</td>\n",
       "      <td>1.0</td>\n",
       "    </tr>\n",
       "    <tr>\n",
       "      <th>1</th>\n",
       "      <td>40.30467</td>\n",
       "      <td>53.845657</td>\n",
       "      <td>0.0</td>\n",
       "      <td>401.0</td>\n",
       "      <td>15.0</td>\n",
       "      <td>15.52416</td>\n",
       "      <td>32.44188</td>\n",
       "      <td>0.0</td>\n",
       "      <td>377.0</td>\n",
       "      <td>3.0</td>\n",
       "      <td>...</td>\n",
       "      <td>1.0</td>\n",
       "      <td>0.0</td>\n",
       "      <td>0.0</td>\n",
       "      <td>0.0</td>\n",
       "      <td>0.0</td>\n",
       "      <td>0.0</td>\n",
       "      <td>0.0</td>\n",
       "      <td>0.0</td>\n",
       "      <td>0.0</td>\n",
       "      <td>0.0</td>\n",
       "    </tr>\n",
       "    <tr>\n",
       "      <th>2</th>\n",
       "      <td>40.30467</td>\n",
       "      <td>53.845657</td>\n",
       "      <td>0.0</td>\n",
       "      <td>401.0</td>\n",
       "      <td>15.0</td>\n",
       "      <td>15.52416</td>\n",
       "      <td>32.44188</td>\n",
       "      <td>0.0</td>\n",
       "      <td>377.0</td>\n",
       "      <td>3.0</td>\n",
       "      <td>...</td>\n",
       "      <td>1.0</td>\n",
       "      <td>0.0</td>\n",
       "      <td>0.0</td>\n",
       "      <td>0.0</td>\n",
       "      <td>0.0</td>\n",
       "      <td>0.0</td>\n",
       "      <td>0.0</td>\n",
       "      <td>0.0</td>\n",
       "      <td>0.0</td>\n",
       "      <td>0.0</td>\n",
       "    </tr>\n",
       "    <tr>\n",
       "      <th>3</th>\n",
       "      <td>40.30467</td>\n",
       "      <td>53.845657</td>\n",
       "      <td>0.0</td>\n",
       "      <td>401.0</td>\n",
       "      <td>15.0</td>\n",
       "      <td>15.52416</td>\n",
       "      <td>32.44188</td>\n",
       "      <td>0.0</td>\n",
       "      <td>377.0</td>\n",
       "      <td>3.0</td>\n",
       "      <td>...</td>\n",
       "      <td>0.0</td>\n",
       "      <td>1.0</td>\n",
       "      <td>0.0</td>\n",
       "      <td>0.0</td>\n",
       "      <td>0.0</td>\n",
       "      <td>0.0</td>\n",
       "      <td>0.0</td>\n",
       "      <td>0.0</td>\n",
       "      <td>0.0</td>\n",
       "      <td>1.0</td>\n",
       "    </tr>\n",
       "    <tr>\n",
       "      <th>4</th>\n",
       "      <td>40.30467</td>\n",
       "      <td>53.845657</td>\n",
       "      <td>0.0</td>\n",
       "      <td>401.0</td>\n",
       "      <td>15.0</td>\n",
       "      <td>15.52416</td>\n",
       "      <td>32.44188</td>\n",
       "      <td>0.0</td>\n",
       "      <td>377.0</td>\n",
       "      <td>3.0</td>\n",
       "      <td>...</td>\n",
       "      <td>0.0</td>\n",
       "      <td>1.0</td>\n",
       "      <td>0.0</td>\n",
       "      <td>0.0</td>\n",
       "      <td>0.0</td>\n",
       "      <td>0.0</td>\n",
       "      <td>0.0</td>\n",
       "      <td>0.0</td>\n",
       "      <td>0.0</td>\n",
       "      <td>27.0</td>\n",
       "    </tr>\n",
       "  </tbody>\n",
       "</table>\n",
       "<p>5 rows × 281 columns</p>\n",
       "</div>"
      ],
      "text/plain": [
       "        1          2    3      4     5         6         7    8      9    10   \\\n",
       "0  40.30467  53.845657  0.0  401.0  15.0  15.52416  32.44188  0.0  377.0  3.0   \n",
       "1  40.30467  53.845657  0.0  401.0  15.0  15.52416  32.44188  0.0  377.0  3.0   \n",
       "2  40.30467  53.845657  0.0  401.0  15.0  15.52416  32.44188  0.0  377.0  3.0   \n",
       "3  40.30467  53.845657  0.0  401.0  15.0  15.52416  32.44188  0.0  377.0  3.0   \n",
       "4  40.30467  53.845657  0.0  401.0  15.0  15.52416  32.44188  0.0  377.0  3.0   \n",
       "\n",
       "   ...   272  273  274  275  276  277  278  279  280   281  \n",
       "0  ...   0.0  1.0  0.0  0.0  0.0  0.0  0.0  0.0  0.0   1.0  \n",
       "1  ...   1.0  0.0  0.0  0.0  0.0  0.0  0.0  0.0  0.0   0.0  \n",
       "2  ...   1.0  0.0  0.0  0.0  0.0  0.0  0.0  0.0  0.0   0.0  \n",
       "3  ...   0.0  1.0  0.0  0.0  0.0  0.0  0.0  0.0  0.0   1.0  \n",
       "4  ...   0.0  1.0  0.0  0.0  0.0  0.0  0.0  0.0  0.0  27.0  \n",
       "\n",
       "[5 rows x 281 columns]"
      ]
     },
     "execution_count": 7,
     "metadata": {},
     "output_type": "execute_result"
    }
   ],
   "source": [
    "data = pd.read_csv('./BlogFeedback/blogData_train.csv', header=None)\n",
    "data.columns = data.columns + 1\n",
    "N = 100\n",
    "data.head()"
   ]
  },
  {
   "cell_type": "code",
   "execution_count": 8,
   "metadata": {
    "ExecuteTime": {
     "end_time": "2018-10-03T15:00:22.596704Z",
     "start_time": "2018-10-03T15:00:22.593696Z"
    }
   },
   "outputs": [],
   "source": [
    "def split_X_y(data):\n",
    "    X, y = data.loc[:, :280], data[281]\n",
    "    return X, y"
   ]
  },
  {
   "cell_type": "code",
   "execution_count": 9,
   "metadata": {
    "ExecuteTime": {
     "end_time": "2018-10-03T15:00:22.862413Z",
     "start_time": "2018-10-03T15:00:22.599211Z"
    }
   },
   "outputs": [
    {
     "name": "stdout",
     "output_type": "stream",
     "text": [
      "(10479, 281) (41918, 281)\n"
     ]
    },
    {
     "name": "stderr",
     "output_type": "stream",
     "text": [
      "C:\\Users\\Nadzeya_Salahub\\AppData\\Local\\Continuum\\Anaconda3\\envs\\shad\\lib\\site-packages\\sklearn\\model_selection\\_split.py:2026: FutureWarning: From version 0.21, test_size will always complement train_size unless both are specified.\n",
      "  FutureWarning)\n"
     ]
    }
   ],
   "source": [
    "train, test = train_test_split(data, train_size=0.2)\n",
    "print(train.shape, test.shape)"
   ]
  },
  {
   "cell_type": "markdown",
   "metadata": {
    "collapsed": true
   },
   "source": [
    "**(1.3 балла) Задание 3.** Постройте графики зависимости $error$, $bias^2$ и $variance$ от глубины решающего дерева (от 1 до 15 включительно) для $N=100$. "
   ]
  },
  {
   "cell_type": "code",
   "execution_count": 10,
   "metadata": {
    "ExecuteTime": {
     "end_time": "2018-10-03T15:00:22.877953Z",
     "start_time": "2018-10-03T15:00:22.864417Z"
    }
   },
   "outputs": [],
   "source": [
    "def predict(train, test, estimator):\n",
    "    X_train, y_train = split_X_y(train)\n",
    "    X_test, y_test = split_X_y(test)\n",
    "    estimator.fit(X_train, y_train)\n",
    "    y_hat = estimator.predict(X_test)\n",
    "    return y_hat"
   ]
  },
  {
   "cell_type": "code",
   "execution_count": 11,
   "metadata": {
    "ExecuteTime": {
     "end_time": "2018-10-03T15:00:24.584500Z",
     "start_time": "2018-10-03T15:00:22.879958Z"
    }
   },
   "outputs": [],
   "source": [
    "train_samples = [train.sample(train.shape[0], replace=True) for _ in range(N)]"
   ]
  },
  {
   "cell_type": "code",
   "execution_count": 12,
   "metadata": {
    "ExecuteTime": {
     "end_time": "2018-10-03T15:00:24.591017Z",
     "start_time": "2018-10-03T15:00:24.586506Z"
    }
   },
   "outputs": [],
   "source": [
    "def calc_metrics(estimator, train_samples=train_samples, test=test):\n",
    "    X_test, y_test = split_X_y(test)\n",
    "        \n",
    "    predictions = [predict(train, test, estimator) for train in train_samples]\n",
    "    y_mean = np.mean(predictions, axis=0)\n",
    "    \n",
    "    error = np.mean([mean_squared_error(y_test, pred) for pred in predictions])\n",
    "    \n",
    "    bias2 = mean_squared_error(y_test, y_mean)\n",
    "    \n",
    "    variance = np.mean([mean_squared_error(pred, y_mean) for pred in predictions])\n",
    "    \n",
    "    return {'error': error,\n",
    "            'bias2': bias2,\n",
    "            'variance': variance}"
   ]
  },
  {
   "cell_type": "code",
   "execution_count": 13,
   "metadata": {
    "ExecuteTime": {
     "end_time": "2018-10-03T15:06:23.845054Z",
     "start_time": "2018-10-03T15:00:24.593023Z"
    }
   },
   "outputs": [],
   "source": [
    "metrics = {i: calc_metrics(DecisionTreeRegressor(max_depth=i)) for i in range(1, 16)}"
   ]
  },
  {
   "cell_type": "code",
   "execution_count": 14,
   "metadata": {
    "ExecuteTime": {
     "end_time": "2018-10-03T15:06:23.851071Z",
     "start_time": "2018-10-03T15:06:23.847061Z"
    }
   },
   "outputs": [],
   "source": [
    "metrics_df = pd.DataFrame.from_dict(metrics, orient='index')"
   ]
  },
  {
   "cell_type": "code",
   "execution_count": 15,
   "metadata": {
    "ExecuteTime": {
     "end_time": "2018-10-03T15:06:24.263192Z",
     "start_time": "2018-10-03T15:06:23.853075Z"
    }
   },
   "outputs": [
    {
     "data": {
      "image/png": "[encoded data removed]",
      "text/plain": [
       "<Figure size 432x288 with 1 Axes>"
      ]
     },
     "metadata": {
      "needs_background": "light"
     },
     "output_type": "display_data"
    }
   ],
   "source": [
    "metrics_df.plot()\n",
    "plt.show()"
   ]
  },
  {
   "cell_type": "markdown",
   "metadata": {},
   "source": [
    "**(0.7 балла) Задание 4.** Являются ли какие-то из полученных графиков монотонными? А должны ли они быть монотонными, если бы гипотетически эксперименты были проведены на всевозможных выборках? Почему? Убедитесь численно, что верно bias-variance разложение ошибки: $$error = bias^2 + variance$$"
   ]
  },
  {
   "cell_type": "markdown",
   "metadata": {},
   "source": [
    "**Ответ.** Графики $bias^2$ и $variance$ являются монотонными, a их сумма имеет выраженный минимум при $max\\_depth=2$. С увеличением глубины дерева модель сильнее подстраивается под каждую обучающую выборку, значит, разброс должен расти с ростом глубины дерева. Смещение должно монотонно уменьшаться с ростом глубины дерева."
   ]
  },
  {
   "cell_type": "code",
   "execution_count": 16,
   "metadata": {
    "ExecuteTime": {
     "end_time": "2018-10-03T15:06:24.333387Z",
     "start_time": "2018-10-03T15:06:24.265198Z"
    }
   },
   "outputs": [
    {
     "data": {
      "text/html": [
       "<div>\n",
       "<style scoped>\n",
       "    .dataframe tbody tr th:only-of-type {\n",
       "        vertical-align: middle;\n",
       "    }\n",
       "\n",
       "    .dataframe tbody tr th {\n",
       "        vertical-align: top;\n",
       "    }\n",
       "\n",
       "    .dataframe thead th {\n",
       "        text-align: right;\n",
       "    }\n",
       "</style>\n",
       "<table border=\"1\" class=\"dataframe\">\n",
       "  <thead>\n",
       "    <tr style=\"text-align: right;\">\n",
       "      <th></th>\n",
       "      <th>error</th>\n",
       "      <th>bias2+variance</th>\n",
       "    </tr>\n",
       "  </thead>\n",
       "  <tbody>\n",
       "    <tr>\n",
       "      <th>1</th>\n",
       "      <td>1089.274306</td>\n",
       "      <td>1089.274306</td>\n",
       "    </tr>\n",
       "    <tr>\n",
       "      <th>2</th>\n",
       "      <td>850.911227</td>\n",
       "      <td>850.911227</td>\n",
       "    </tr>\n",
       "    <tr>\n",
       "      <th>3</th>\n",
       "      <td>869.692652</td>\n",
       "      <td>869.692652</td>\n",
       "    </tr>\n",
       "    <tr>\n",
       "      <th>4</th>\n",
       "      <td>967.916567</td>\n",
       "      <td>967.916567</td>\n",
       "    </tr>\n",
       "    <tr>\n",
       "      <th>5</th>\n",
       "      <td>1025.510041</td>\n",
       "      <td>1025.510041</td>\n",
       "    </tr>\n",
       "    <tr>\n",
       "      <th>6</th>\n",
       "      <td>1066.384828</td>\n",
       "      <td>1066.384828</td>\n",
       "    </tr>\n",
       "    <tr>\n",
       "      <th>7</th>\n",
       "      <td>1132.012102</td>\n",
       "      <td>1132.012102</td>\n",
       "    </tr>\n",
       "    <tr>\n",
       "      <th>8</th>\n",
       "      <td>1160.690854</td>\n",
       "      <td>1160.690854</td>\n",
       "    </tr>\n",
       "    <tr>\n",
       "      <th>9</th>\n",
       "      <td>1218.375413</td>\n",
       "      <td>1218.375413</td>\n",
       "    </tr>\n",
       "    <tr>\n",
       "      <th>10</th>\n",
       "      <td>1224.281679</td>\n",
       "      <td>1224.281679</td>\n",
       "    </tr>\n",
       "    <tr>\n",
       "      <th>11</th>\n",
       "      <td>1262.416077</td>\n",
       "      <td>1262.416077</td>\n",
       "    </tr>\n",
       "    <tr>\n",
       "      <th>12</th>\n",
       "      <td>1259.530559</td>\n",
       "      <td>1259.530559</td>\n",
       "    </tr>\n",
       "    <tr>\n",
       "      <th>13</th>\n",
       "      <td>1274.986630</td>\n",
       "      <td>1274.986630</td>\n",
       "    </tr>\n",
       "    <tr>\n",
       "      <th>14</th>\n",
       "      <td>1276.216337</td>\n",
       "      <td>1276.216337</td>\n",
       "    </tr>\n",
       "    <tr>\n",
       "      <th>15</th>\n",
       "      <td>1290.254930</td>\n",
       "      <td>1290.254930</td>\n",
       "    </tr>\n",
       "  </tbody>\n",
       "</table>\n",
       "</div>"
      ],
      "text/plain": [
       "          error  bias2+variance\n",
       "1   1089.274306     1089.274306\n",
       "2    850.911227      850.911227\n",
       "3    869.692652      869.692652\n",
       "4    967.916567      967.916567\n",
       "5   1025.510041     1025.510041\n",
       "6   1066.384828     1066.384828\n",
       "7   1132.012102     1132.012102\n",
       "8   1160.690854     1160.690854\n",
       "9   1218.375413     1218.375413\n",
       "10  1224.281679     1224.281679\n",
       "11  1262.416077     1262.416077\n",
       "12  1259.530559     1259.530559\n",
       "13  1274.986630     1274.986630\n",
       "14  1276.216337     1276.216337\n",
       "15  1290.254930     1290.254930"
      ]
     },
     "execution_count": 16,
     "metadata": {},
     "output_type": "execute_result"
    }
   ],
   "source": [
    "metrics_df.assign(**{'bias2+variance': metrics_df.bias2 + metrics_df.variance}).iloc[:, [0, 3]]"
   ]
  },
  {
   "cell_type": "markdown",
   "metadata": {
    "collapsed": true
   },
   "source": [
    "## Композиции алгоритмов\n",
    "\n",
    "Несмотря на описанный выше недостаток решающих деревьев, объединение их в композиции позволяет существенно улучшить качество предсказания. Рассмотрим несколько способов построения композиций.\n",
    "\n",
    "### Bagging + RSM\n",
    "\n",
    "![](https://sites.google.com/site/rajhansgondane2506/_/rsrc/1467898300734/publications/rrftrain.jpg?height=215&width=320)\n",
    "\n",
    "Один из способов объединения алгоритмов в композиции — обучение каждого отдельного алгоритма на некоторой подвыборке из исходной выборки ([bagging](https://en.wikipedia.org/wiki/Bootstrap_aggregating)) и подмножестве исходных признаков ([RSM](https://en.wikipedia.org/wiki/Random_subspace_method)). В sklearn этот тип композиции реализован в классе [BaggingRegressor](http://scikit-learn.org/stable/modules/generated/sklearn.ensemble.BaggingRegressor.html) (для случая регресии). Подобный подход также есть в реализации [RandomForest](http://scikit-learn.org/stable/modules/generated/sklearn.ensemble.RandomForestRegressor.html)."
   ]
  },
  {
   "cell_type": "markdown",
   "metadata": {},
   "source": [
    "### Градиентный бустинг (5 баллов)"
   ]
  },
  {
   "cell_type": "markdown",
   "metadata": {},
   "source": [
    "В случае бустинга композиция алгоритмов строится последовательно. Каждый следующий базовый алгоритм акцентируется на тех объектах, на которых обученная ранее композиция допускала ошибку.\n",
    "\n",
    "На данный момент одной из самых широко распространенных реализаций бустинга является библиотека [XGBoost](https://github.com/dmlc/xgboost). В ней большое внимание уделяется регуляризации и скорости, нежели в других реализациях бустинга (например,  [GradientBoostingRegressor](http://scikit-learn.org/stable/modules/generated/sklearn.ensemble.GradientBoostingRegressor.html) из sklearn). Кроме того, XGBoost позволяет оптимизировать различные функции потерь, а также более гибок, засчет большого числа параметров."
   ]
  },
  {
   "cell_type": "markdown",
   "metadata": {},
   "source": [
    "XGBoost строит композицию из $K$ базовых алгоритмов $b_k$:\n",
    "\n",
    "$$ \\hat{y}_i = \\hat{y}_i^{K} = \\sum_{k=1}^{K} b_k(x_i) = \\hat{y}_i^{\\left(K - 1\\right)} + b_K(x_i), $$\n",
    "\n",
    "минимизируя следующий функционал:\n",
    "\n",
    "$$ Obj = \\sum_{i=1}^N \\mathcal{L}(y_i, \\hat{y}_i ) + \\sum_{k=1}^{K} \\Omega(b_k),$$\n",
    "\n",
    "где\n",
    " - $N$ — размер обучающей выборки;\n",
    " - $x_i, y_i, \\hat{y}_i$ — i-ый объект, правильный ответ и предсказание модели для него;\n",
    " - $\\hat{y}_i^{t}$ — предсказание композиции из $t$ уже обученных базовых алгоритмов для i-го объекта;\n",
    " - $\\Omega$ — регуляризатор;\n",
    " - $\\mathcal{L}(y_i, \\hat{y}_i)$ — функция потерь.\n",
    "\n",
    "Функционал, оптимизируемый на $t$-ой итерации:\n",
    "\n",
    "$$ Obj^{(t)} = \\sum_{i=1}^N \\mathcal{L}\\left(y_i, \\hat{y}_i^{(t-1)} + b_t(x_i)\\right) + \\Omega(b_t).$$"
   ]
  },
  {
   "cell_type": "markdown",
   "metadata": {},
   "source": [
    "В XGBoost реализовано несколько различных функций потерь, что позволяет решать задачи классификации (бинарной и мультиклассовой), регрессии и ранжирования. Вот некоторые из них:\n",
    "\n",
    "- reg:linear — линейная регрессия\n",
    "- reg:logistic — логистическая регрессия\n",
    "- binary:logistic — логистическая регрессия\n",
    "- multi:softmax — softmax функция потерь для многоклассовой классификации\n",
    "- rank:pairwise — минимизация pairwise-функции потерь для задачи ранжирования"
   ]
  },
  {
   "cell_type": "markdown",
   "metadata": {},
   "source": [
    "**(1.3 балла) Задание 5.** Какой функции потерь будет соответствовать градиентный бустинг, который на каждой итерации настраивается на разность между вектором истинных меток и текущим вектором предсказанных меток?"
   ]
  },
  {
   "cell_type": "markdown",
   "metadata": {
    "collapsed": true
   },
   "source": [
    "**Ответ.** При градиентном бустинге на каждой итерации базовый алгоритм настраивается на вектор антиградиента. Из условия \n",
    "$$-g=y-\\hat y \\Rightarrow$$\n",
    "$$\\mathcal{L'}(y_i, \\hat y_i)=\\hat y_i - y_i \\Rightarrow$$\n",
    "$$\\mathcal{L}(y_i, \\hat y_i)=\\frac{1}{2}(\\hat y_i - y_i) ^ 2.$$"
   ]
  },
  {
   "cell_type": "markdown",
   "metadata": {},
   "source": [
    "**(1.3 балла) Задание 6.** Градиентный бустинг обучается на пяти объектах с функцией потерь для одного объекта\n",
    "$$\\mathcal{L}(\\tilde y, y) = (\\tilde y - y)^4$$\n",
    "\n",
    "На некоторой итерации полученная композиция даёт ответ $(5, 10, 6, 3, 0)$. На какой вектор ответов будет настраиваться следующий базовый алгоритм, если истинный вектор ответов равен $(6, 8, 6, 4, 1)$?"
   ]
  },
  {
   "cell_type": "markdown",
   "metadata": {
    "collapsed": true
   },
   "source": [
    "**Ответ.** Следующий базовый алгоритм будет настраиваться на вектор антиградиента:\n",
    "$$(-g_i)_{i=1}^5=-4((\\tilde y_i - y_i)^3)_{i=1}^{5}=4\\cdot(1, -8, 0, 1, 1)^T.$$"
   ]
  },
  {
   "cell_type": "markdown",
   "metadata": {},
   "source": [
    "**(1.7 балл) Задание 7.** Проведите аналогичный эксперимент с bias-variance разложением для градиентного бустинга для количество алгоритмов 1, 5, 10, 25 и 50, используя в качестве базовых алгоритмов решающие деревья. Обратите внимание, что данная библиотека имеет два интерфейса (стандартный и аналог sklearn), названия параметров в которых могут отличаться."
   ]
  },
  {
   "cell_type": "code",
   "execution_count": 17,
   "metadata": {
    "ExecuteTime": {
     "end_time": "2018-10-03T15:27:27.849973Z",
     "start_time": "2018-10-03T15:06:24.335392Z"
    },
    "scrolled": true
   },
   "outputs": [],
   "source": [
    "metrics_xgb = {i: calc_metrics(xgb.XGBRegressor(n_estimators=i)) for i in [1, 5, 10, 25, 50]}"
   ]
  },
  {
   "cell_type": "code",
   "execution_count": 18,
   "metadata": {
    "ExecuteTime": {
     "end_time": "2018-10-03T15:27:35.171828Z",
     "start_time": "2018-10-03T15:27:28.810385Z"
    }
   },
   "outputs": [],
   "source": [
    "metrics_df_xgb = pd.DataFrame.from_dict(metrics_xgb, orient='index')"
   ]
  },
  {
   "cell_type": "code",
   "execution_count": 19,
   "metadata": {
    "ExecuteTime": {
     "end_time": "2018-10-03T15:27:43.363536Z",
     "start_time": "2018-10-03T15:27:35.173866Z"
    }
   },
   "outputs": [
    {
     "data": {
      "text/html": [
       "<div>\n",
       "<style scoped>\n",
       "    .dataframe tbody tr th:only-of-type {\n",
       "        vertical-align: middle;\n",
       "    }\n",
       "\n",
       "    .dataframe tbody tr th {\n",
       "        vertical-align: top;\n",
       "    }\n",
       "\n",
       "    .dataframe thead th {\n",
       "        text-align: right;\n",
       "    }\n",
       "</style>\n",
       "<table border=\"1\" class=\"dataframe\">\n",
       "  <thead>\n",
       "    <tr style=\"text-align: right;\">\n",
       "      <th></th>\n",
       "      <th>error</th>\n",
       "      <th>bias2</th>\n",
       "      <th>variance</th>\n",
       "    </tr>\n",
       "  </thead>\n",
       "  <tbody>\n",
       "    <tr>\n",
       "      <th>1</th>\n",
       "      <td>1288.014876</td>\n",
       "      <td>1286.740777</td>\n",
       "      <td>1.274086</td>\n",
       "    </tr>\n",
       "    <tr>\n",
       "      <th>5</th>\n",
       "      <td>941.642339</td>\n",
       "      <td>928.989097</td>\n",
       "      <td>12.653225</td>\n",
       "    </tr>\n",
       "    <tr>\n",
       "      <th>10</th>\n",
       "      <td>762.808465</td>\n",
       "      <td>736.924094</td>\n",
       "      <td>25.884371</td>\n",
       "    </tr>\n",
       "    <tr>\n",
       "      <th>25</th>\n",
       "      <td>652.805387</td>\n",
       "      <td>606.396382</td>\n",
       "      <td>46.408989</td>\n",
       "    </tr>\n",
       "    <tr>\n",
       "      <th>50</th>\n",
       "      <td>647.263537</td>\n",
       "      <td>589.323971</td>\n",
       "      <td>57.939575</td>\n",
       "    </tr>\n",
       "  </tbody>\n",
       "</table>\n",
       "</div>"
      ],
      "text/plain": [
       "          error        bias2   variance\n",
       "1   1288.014876  1286.740777   1.274086\n",
       "5    941.642339   928.989097  12.653225\n",
       "10   762.808465   736.924094  25.884371\n",
       "25   652.805387   606.396382  46.408989\n",
       "50   647.263537   589.323971  57.939575"
      ]
     },
     "execution_count": 19,
     "metadata": {},
     "output_type": "execute_result"
    }
   ],
   "source": [
    "metrics_df_xgb"
   ]
  },
  {
   "cell_type": "code",
   "execution_count": 20,
   "metadata": {
    "ExecuteTime": {
     "end_time": "2018-10-03T15:27:43.772087Z",
     "start_time": "2018-10-03T15:27:43.364568Z"
    }
   },
   "outputs": [
    {
     "data": {
      "text/html": [
       "<div>\n",
       "<style scoped>\n",
       "    .dataframe tbody tr th:only-of-type {\n",
       "        vertical-align: middle;\n",
       "    }\n",
       "\n",
       "    .dataframe tbody tr th {\n",
       "        vertical-align: top;\n",
       "    }\n",
       "\n",
       "    .dataframe thead th {\n",
       "        text-align: right;\n",
       "    }\n",
       "</style>\n",
       "<table border=\"1\" class=\"dataframe\">\n",
       "  <thead>\n",
       "    <tr style=\"text-align: right;\">\n",
       "      <th></th>\n",
       "      <th>error</th>\n",
       "      <th>bias2</th>\n",
       "      <th>variance</th>\n",
       "    </tr>\n",
       "  </thead>\n",
       "  <tbody>\n",
       "    <tr>\n",
       "      <th>1</th>\n",
       "      <td>1089.274306</td>\n",
       "      <td>1067.882642</td>\n",
       "      <td>21.391664</td>\n",
       "    </tr>\n",
       "    <tr>\n",
       "      <th>2</th>\n",
       "      <td>850.911227</td>\n",
       "      <td>753.011035</td>\n",
       "      <td>97.900192</td>\n",
       "    </tr>\n",
       "    <tr>\n",
       "      <th>3</th>\n",
       "      <td>869.692652</td>\n",
       "      <td>659.390691</td>\n",
       "      <td>210.301961</td>\n",
       "    </tr>\n",
       "    <tr>\n",
       "      <th>4</th>\n",
       "      <td>967.916567</td>\n",
       "      <td>631.158583</td>\n",
       "      <td>336.757984</td>\n",
       "    </tr>\n",
       "    <tr>\n",
       "      <th>5</th>\n",
       "      <td>1025.510041</td>\n",
       "      <td>616.583598</td>\n",
       "      <td>408.926443</td>\n",
       "    </tr>\n",
       "    <tr>\n",
       "      <th>6</th>\n",
       "      <td>1066.384828</td>\n",
       "      <td>610.914186</td>\n",
       "      <td>455.470641</td>\n",
       "    </tr>\n",
       "    <tr>\n",
       "      <th>7</th>\n",
       "      <td>1132.012102</td>\n",
       "      <td>614.453952</td>\n",
       "      <td>517.558150</td>\n",
       "    </tr>\n",
       "    <tr>\n",
       "      <th>8</th>\n",
       "      <td>1160.690854</td>\n",
       "      <td>613.680477</td>\n",
       "      <td>547.010377</td>\n",
       "    </tr>\n",
       "    <tr>\n",
       "      <th>9</th>\n",
       "      <td>1218.375413</td>\n",
       "      <td>617.298402</td>\n",
       "      <td>601.077011</td>\n",
       "    </tr>\n",
       "    <tr>\n",
       "      <th>10</th>\n",
       "      <td>1224.281679</td>\n",
       "      <td>615.361729</td>\n",
       "      <td>608.919950</td>\n",
       "    </tr>\n",
       "    <tr>\n",
       "      <th>11</th>\n",
       "      <td>1262.416077</td>\n",
       "      <td>618.704261</td>\n",
       "      <td>643.711815</td>\n",
       "    </tr>\n",
       "    <tr>\n",
       "      <th>12</th>\n",
       "      <td>1259.530559</td>\n",
       "      <td>618.460955</td>\n",
       "      <td>641.069604</td>\n",
       "    </tr>\n",
       "    <tr>\n",
       "      <th>13</th>\n",
       "      <td>1274.986630</td>\n",
       "      <td>619.383555</td>\n",
       "      <td>655.603075</td>\n",
       "    </tr>\n",
       "    <tr>\n",
       "      <th>14</th>\n",
       "      <td>1276.216337</td>\n",
       "      <td>618.556907</td>\n",
       "      <td>657.659430</td>\n",
       "    </tr>\n",
       "    <tr>\n",
       "      <th>15</th>\n",
       "      <td>1290.254930</td>\n",
       "      <td>622.384988</td>\n",
       "      <td>667.869942</td>\n",
       "    </tr>\n",
       "  </tbody>\n",
       "</table>\n",
       "</div>"
      ],
      "text/plain": [
       "          error        bias2    variance\n",
       "1   1089.274306  1067.882642   21.391664\n",
       "2    850.911227   753.011035   97.900192\n",
       "3    869.692652   659.390691  210.301961\n",
       "4    967.916567   631.158583  336.757984\n",
       "5   1025.510041   616.583598  408.926443\n",
       "6   1066.384828   610.914186  455.470641\n",
       "7   1132.012102   614.453952  517.558150\n",
       "8   1160.690854   613.680477  547.010377\n",
       "9   1218.375413   617.298402  601.077011\n",
       "10  1224.281679   615.361729  608.919950\n",
       "11  1262.416077   618.704261  643.711815\n",
       "12  1259.530559   618.460955  641.069604\n",
       "13  1274.986630   619.383555  655.603075\n",
       "14  1276.216337   618.556907  657.659430\n",
       "15  1290.254930   622.384988  667.869942"
      ]
     },
     "execution_count": 20,
     "metadata": {},
     "output_type": "execute_result"
    }
   ],
   "source": [
    "metrics_df"
   ]
  },
  {
   "cell_type": "code",
   "execution_count": 21,
   "metadata": {
    "ExecuteTime": {
     "end_time": "2018-10-03T15:27:58.839136Z",
     "start_time": "2018-10-03T15:27:43.931743Z"
    }
   },
   "outputs": [
    {
     "data": {
      "image/png": "[encoded data removed]",
      "text/plain": [
       "<Figure size 432x288 with 1 Axes>"
      ]
     },
     "metadata": {
      "needs_background": "light"
     },
     "output_type": "display_data"
    }
   ],
   "source": [
    "metrics_df_xgb.plot()\n",
    "plt.show()"
   ]
  },
  {
   "cell_type": "markdown",
   "metadata": {},
   "source": [
    "**(0.7 балла) Задание 8.** Отличаются ли графики в рассмотренных моделях (решающее дерево, градиентный бустинг на решающих деревьях)  между собой? На какую компоненту из разложения ошибки влияет объединение алгоритмов в рассмотренный тип композиции? Поясните свой ответ."
   ]
  },
  {
   "cell_type": "markdown",
   "metadata": {
    "collapsed": true
   },
   "source": [
    "**Ответ.** В случае градиентного бустинга на порядок уменьшилась $variance$-компонента ошибки. Графики отличаются отсутсвием минимума $error$-кривой в случае бустинга."
   ]
  },
  {
   "cell_type": "markdown",
   "metadata": {
    "collapsed": true
   },
   "source": [
    "### Adaboost (5 баллов)"
   ]
  },
  {
   "cell_type": "markdown",
   "metadata": {},
   "source": [
    "**(2.5 балла) Задание 9.**   Обозначим через $\\tilde w^{(N)}$ нормированный вектор весов\n",
    "    на $N$-й итерации алгоритма AdaBoost.\n",
    "    Покажите, что взвешенная ошибка базового классификатора $b_N$\n",
    "    относительно весов со следующего шага $\\tilde w_i^{(N + 1)}$\n",
    "    равна $1/2$:\n",
    "    $$\n",
    "        \\sum_{i = 1}^{\\ell}\n",
    "            \\tilde w_i^{(N + 1)}\n",
    "            [b_N(x_i) \\neq y_i]\n",
    "        =\n",
    "        \\frac{1}{2}.\n",
    "    $$"
   ]
  },
  {
   "cell_type": "markdown",
   "metadata": {},
   "source": [
    "**Ответ.** $$\\sum_{i = 1}^l \\tilde w^{(N+1)}_i[b_N(x_i) \\ne y_i] = \\frac{\\sum_{i = 1}^l  w^{(N+1)}_i[b_N(x_i) \\ne y_i]}{\\sum_{i = 1}^l  w^{(N+1)}_i} = \\frac{\\sum_{i = 1}^l  w^{(N)}_i \\exp(-\\alpha_Nb_N(x_i)y_i) [b_N(x_i) \\ne y_i]}{\\sum_{i = 1}^l  w^{(N+1)}_i}=$$\n",
    "$$= \\frac{\\sum_{i = 1}^l  w^{(N)}_i \\exp(\\alpha_N) [b_N(x_i) =- y_i]+\\sum_{i = 1}^l  w^{(N)}_i  [b_N(x_i) =0]}{\\sum_{i = 1}^l  w^{(N)}_i \\exp(-\\alpha_Nb_N(x_i)y_i) } =$$\n",
    "$$=\\left[ \\alpha_n = \\frac{1}{2} \\ln\\frac{P(b_N, \\tilde W^{(N)})}{N(b_N, \\tilde W^{(N)})} =  \\frac{1}{2} \\ln\\frac{P(b_N,  W^{(N)})}{N(b_N,  W^{(N)})}\\right] = \\frac{\\sqrt{\\frac{P}{N}}\\cdot N + 1 -N-P}{\\sqrt{\\frac{N}{P}}\\cdot P+\\sqrt{\\frac{P}{N}}\\cdot N + 1 -N-P} =$$\n",
    "$$=\\left[ \\text{ Если отказов нет, то $N+P=1$ } \\right]=\\frac{\\sqrt{PN}}{2\\sqrt{PN}}=\\frac{1}{2}.$$\n"
   ]
  },
  {
   "cell_type": "markdown",
   "metadata": {},
   "source": [
    "**(2.5 балла) Задание 10.**\n",
    "* Рассмотрим алгоритм AdaBoost - бустинг с экспоненциальной функцией потерь:\n",
    "$$\\mathcal{L}(M)=\\exp(-M),$$\n",
    "где $M$ - отступ объекта. Покажите, что алгоритм неучтойчив к шуму, т.е. возможен неограниченный рост отношения весов шумовых объектов по отношению к весам пороговых объектов.\n",
    "* Покажите, что бустинг с логистической функцией потерь\n",
    "$$\\mathcal{L}(M) = \\log (1+\\exp(-M))$$\n",
    "устойчив к шуму в описанном выше смысле.\n",
    "\n",
    "*Примечание*. Пороговые объекты - это те, для которых значение отступа положительно и порядка нуля, то есть они лежат близко к границе между классами и в своём классе. Шумовые объекты лежат глубоко в чужом классе, на них отступ принимает большие отрицательные значения."
   ]
  },
  {
   "cell_type": "code",
   "execution_count": null,
   "metadata": {},
   "outputs": [],
   "source": []
  },
  {
   "cell_type": "markdown",
   "metadata": {},
   "source": [
    "### Стекинг (6 баллов)\n",
    "![](https://4.bp.blogspot.com/-hCxAb57kzDQ/VuMgHy3hAhI/AAAAAAAAAVk/djmL9IHv5QkLWeudjE50qDoCTbiUrTetA/s1600/Stacking.jpg)\n",
    "\n",
    "[Stacking](https://en.wikipedia.org/wiki/Ensemble_learning#Stacking) — еще один способ объединить несколько алгоритмов в один, который часто используется как в решении реальных задач из промышленной сферы, так и в конкурсах на платформах вроде Kaggle. Подход использует понятие *базовых классификаторов*, каждый из которых независимо обучается на некотором (возможно одном и том же) множестве признаков, а также *мета-классификатора*, использующего предсказания базовых классификаторов как факторы. \n",
    "\n",
    "Загрузите [датасет](https://archive.ics.uci.edu/ml/datasets/covertype). В тренировочных целях предлагается вместо задачи мультиклассификации решать задачу обычной бинарной классификации — научиться отличать **Spruce-Fir** (значение целевой переменной — 1) от **Lodgepole Pine** (значение целевой переменной — 2). Разделите выборку на обучение и тест в соотношении 50/50. В качестве метрики используйте [accuracy_score](http://scikit-learn.org/stable/modules/generated/sklearn.metrics.accuracy_score.html)."
   ]
  },
  {
   "cell_type": "markdown",
   "metadata": {},
   "source": [
    "**(1.5 балла) Задание 11.** Использование мета-классификатора подразумевает получение предсказаний от базовых классификаторов для тех объектов обучающей выборки, на которых мета-классификатор будет обучаться. В свою очередь базовые классификаторы тоже должны быть обучены на некоторой выборке. Чтобы избежать переобучения, обучающее множество делится на $n$ фолдов, $(n-1)$ из которых используются для обучения базовых классификаторов, а $n$-ый — для предсказания (вычисления мета-фактора).\n",
    "\n",
    "Для получения мета-факторов для тестовых данных базовые классификаторы могут быть обучены на всем обучающем множестве, поскольку проблема переобучения здесь не возникает. Другими словами, если мы хотим посчитать факторы для тестового множества, мы можем спокойно использовать обучающее множество для тренировки базовых классификаторов. Если же мы хотим посчитать факторы для обучающего множества, то необходимо следить, чтобы классификатор не предсказывал для тех объектов, на которых обучался.\n",
    "\n",
    "Мета-классификатор может быть обучен как на множестве исходных факторов, дополненным мета-факторами, так и исключительно на множестве мета-факторов. Выбор зависит от решаемой задачи.\n",
    "\n",
    "Напишите функцию, которая получает на вход классификатор, обучающую и тестовые выборки, а также параметры [кросс-валидатора](http://scikit-learn.org/stable/modules/generated/sklearn.model_selection.KFold.html) и возвращающую значения мета-фактора для обучающего и тестового множеств"
   ]
  },
  {
   "cell_type": "code",
   "execution_count": 22,
   "metadata": {
    "ExecuteTime": {
     "end_time": "2018-10-03T15:28:43.121315Z",
     "start_time": "2018-10-03T15:27:58.903977Z"
    }
   },
   "outputs": [],
   "source": [
    "df = pd.read_csv('./covtype.data', header=None)\n",
    "df = df[df.iloc[:, -1].isin([1, 2])]"
   ]
  },
  {
   "cell_type": "code",
   "execution_count": 23,
   "metadata": {
    "ExecuteTime": {
     "end_time": "2018-10-03T15:28:43.189498Z",
     "start_time": "2018-10-03T15:28:43.122818Z"
    }
   },
   "outputs": [],
   "source": [
    "X, y = df.iloc[:, :-1], df.iloc[:, -1]"
   ]
  },
  {
   "cell_type": "code",
   "execution_count": 24,
   "metadata": {
    "ExecuteTime": {
     "end_time": "2018-10-03T15:28:46.613003Z",
     "start_time": "2018-10-03T15:28:43.191501Z"
    }
   },
   "outputs": [
    {
     "name": "stderr",
     "output_type": "stream",
     "text": [
      "C:\\Users\\Nadzeya_Salahub\\AppData\\Local\\Continuum\\Anaconda3\\envs\\shad\\lib\\site-packages\\sklearn\\model_selection\\_split.py:2026: FutureWarning: From version 0.21, test_size will always complement train_size unless both are specified.\n",
      "  FutureWarning)\n"
     ]
    }
   ],
   "source": [
    "X_train, X_test, y_train, y_test = train_test_split(X, y, train_size=0.5)"
   ]
  },
  {
   "cell_type": "code",
   "execution_count": 25,
   "metadata": {
    "ExecuteTime": {
     "end_time": "2018-10-03T15:28:46.782103Z",
     "start_time": "2018-10-03T15:28:46.615012Z"
    }
   },
   "outputs": [],
   "source": [
    "def compute_meta_feature(clf, X_train, X_test, y_train, cv=KFold(5), method='predict_proba', *args, **kwargs):\n",
    "    train_meta = cross_val_predict(clone(clf), X_train, y_train, cv=cv, method=method)\n",
    "    test_meta = getattr(clone(clf).fit(X_train, y_train), method)(X_test)\n",
    "    \n",
    "    # reshape regression output\n",
    "    if len(train_meta.shape) == 1:\n",
    "        train_meta = train_meta.reshape((-1, 1))\n",
    "    if len(test_meta.shape) == 1:\n",
    "        test_meta = test_meta.reshape((-1, 1))\n",
    "    \n",
    "    return train_meta, test_meta"
   ]
  },
  {
   "cell_type": "markdown",
   "metadata": {},
   "source": [
    "Поэкспериментируйте со стекингом, ответьте на вопросы и обоснуйте наблюдения."
   ]
  },
  {
   "cell_type": "markdown",
   "metadata": {},
   "source": [
    "**(1.5 балла) Задание 12.** Обучите различные известные вам модели машинного обучения и сделайте из них стекинг-композицию. \n",
    "  \n",
    "  Базовые алгоритмы могут отличаться друг от друга:\n",
    "    - моделью машинного обучения,\n",
    "    - гиперпараметрами (например, различные функции потерь или глубины деревьев),\n",
    "    - набором факторов,\n",
    "    - типом модели: для данной задачи можно использовать как классификаторы, так и регрессоры.\n",
    "  \n",
    "  Обратите внимание, что бинарные мета-факторы дают меньше полезного сигнала мета-классификатору, чем числовые, поэтому базовым классификаторам лучше возвращать вероятность/числовую функцию, чем метки классов."
   ]
  },
  {
   "cell_type": "code",
   "execution_count": 26,
   "metadata": {
    "ExecuteTime": {
     "end_time": "2018-10-03T15:29:41.283351Z",
     "start_time": "2018-10-03T15:28:46.827105Z"
    }
   },
   "outputs": [
    {
     "name": "stdout",
     "output_type": "stream",
     "text": [
      "logreg test acc 0.773701281652536\n"
     ]
    }
   ],
   "source": [
    "# logreg\n",
    "X_train_log, X_test_log = compute_meta_feature(LogisticRegression(), X_train, X_test, y_train)\n",
    "print('logreg test acc', accuracy_score(y_test, X_test_log.argmax(axis=1) + 1))"
   ]
  },
  {
   "cell_type": "code",
   "execution_count": 27,
   "metadata": {
    "ExecuteTime": {
     "end_time": "2018-10-03T15:30:18.768202Z",
     "start_time": "2018-10-03T15:29:41.329536Z"
    }
   },
   "outputs": [
    {
     "name": "stdout",
     "output_type": "stream",
     "text": [
      "knn test acc 0.96989146547859\n"
     ]
    }
   ],
   "source": [
    "# KNN\n",
    "X_train_knn, X_test_knn = compute_meta_feature(KNeighborsClassifier(3), X_train, X_test, y_train)\n",
    "print('knn test acc',accuracy_score(y_test, X_test_knn.argmax(axis=1) + 1))"
   ]
  },
  {
   "cell_type": "code",
   "execution_count": 28,
   "metadata": {
    "ExecuteTime": {
     "end_time": "2018-10-03T15:30:55.276175Z",
     "start_time": "2018-10-03T15:30:18.963714Z"
    }
   },
   "outputs": [
    {
     "name": "stdout",
     "output_type": "stream",
     "text": [
      "linreg test acc 0.775676472607858\n"
     ]
    }
   ],
   "source": [
    "# linreg\n",
    "X_train_lin, X_test_lin = compute_meta_feature(LinearRegression(), X_train, X_test, y_train, method='predict')\n",
    "print('linreg test acc',accuracy_score(y_test, (X_test_lin > 1.5).astype(int) + 1))"
   ]
  },
  {
   "cell_type": "code",
   "execution_count": 29,
   "metadata": {
    "ExecuteTime": {
     "end_time": "2018-10-03T15:31:12.740684Z",
     "start_time": "2018-10-03T15:30:55.396495Z"
    }
   },
   "outputs": [
    {
     "name": "stdout",
     "output_type": "stream",
     "text": [
      "DT test acc 0.9371574215073656\n"
     ]
    }
   ],
   "source": [
    "# desicion tree\n",
    "X_train_dt, X_test_dt = compute_meta_feature(DecisionTreeClassifier(), X_train, X_test, y_train)\n",
    "print('DT test acc', accuracy_score(y_test, X_test_dt.argmax(axis=1) + 1))"
   ]
  },
  {
   "cell_type": "code",
   "execution_count": 30,
   "metadata": {
    "ExecuteTime": {
     "end_time": "2018-10-03T15:31:13.283167Z",
     "start_time": "2018-10-03T15:31:12.742189Z"
    }
   },
   "outputs": [],
   "source": [
    "# meta clf - logreg\n",
    "top_clf = LogisticRegression()\n",
    "\n",
    "top_clf.fit(np.hstack((\n",
    "    X_train_log,\n",
    "    X_train_lin,\n",
    "    X_train_knn,\n",
    "    X_train_dt\n",
    ")), y_train)\n",
    "\n",
    "final_prediction = top_clf.predict(np.hstack((\n",
    "    X_test_log,\n",
    "    X_test_lin,\n",
    "    X_test_knn,\n",
    "    X_test_dt\n",
    ")))"
   ]
  },
  {
   "cell_type": "markdown",
   "metadata": {},
   "source": [
    "Итоговая точность выше, чем у каждого отдельно взятого классификатора."
   ]
  },
  {
   "cell_type": "code",
   "execution_count": 31,
   "metadata": {
    "ExecuteTime": {
     "end_time": "2018-10-03T15:31:13.637906Z",
     "start_time": "2018-10-03T15:31:13.284635Z"
    }
   },
   "outputs": [
    {
     "name": "stdout",
     "output_type": "stream",
     "text": [
      "meta test acc 0.9699601326488159\n"
     ]
    }
   ],
   "source": [
    "print('meta test acc', accuracy_score(y_test, final_prediction))"
   ]
  },
  {
   "cell_type": "markdown",
   "metadata": {},
   "source": [
    "**(1.3 балла) Задание 13.** Обучите мета-классификатор на различных наборах факторов:\n",
    "    - исходные факторы,\n",
    "    - исходные факторы + мета-факторы,\n",
    "    - мета-факторы.\n",
    "    \n",
    "   Имеет ли смысл добавлять исходные факторы в мета-классификатор, если базовые классификаторы уже обучены на этом наборе? Удается ли добиться улучшения качества за счет стекинга? Какие классификаторы лучше сочетаются друг с другом в такой композиции?"
   ]
  },
  {
   "cell_type": "code",
   "execution_count": 32,
   "metadata": {
    "ExecuteTime": {
     "end_time": "2018-10-03T15:31:14.499341Z",
     "start_time": "2018-10-03T15:31:13.639951Z"
    }
   },
   "outputs": [
    {
     "name": "stdout",
     "output_type": "stream",
     "text": [
      "meta factors 0.9699601326488159\n"
     ]
    }
   ],
   "source": [
    "# meta factors only\n",
    "\n",
    "top_clf = LogisticRegression()\n",
    "\n",
    "top_clf.fit(np.hstack((\n",
    "    X_train_log,\n",
    "    X_train_lin,\n",
    "    X_train_knn,\n",
    "    X_train_dt\n",
    ")), y_train)\n",
    "\n",
    "final_prediction = top_clf.predict(np.hstack((\n",
    "    X_test_log,\n",
    "    X_test_lin,\n",
    "    X_test_knn,\n",
    "    X_test_dt\n",
    ")))\n",
    "\n",
    "print('meta factors', accuracy_score(y_test, final_prediction))"
   ]
  },
  {
   "cell_type": "code",
   "execution_count": 33,
   "metadata": {
    "ExecuteTime": {
     "end_time": "2018-10-03T15:31:23.883200Z",
     "start_time": "2018-10-03T15:31:14.500845Z"
    }
   },
   "outputs": [
    {
     "name": "stdout",
     "output_type": "stream",
     "text": [
      "initial factors 0.773701281652536\n"
     ]
    }
   ],
   "source": [
    "# initial factors only\n",
    "\n",
    "top_clf = LogisticRegression()\n",
    "\n",
    "top_clf.fit(X_train, y_train)\n",
    "\n",
    "final_prediction = top_clf.predict(X_test)\n",
    "\n",
    "print('initial factors', accuracy_score(y_test, final_prediction))"
   ]
  },
  {
   "cell_type": "code",
   "execution_count": 34,
   "metadata": {
    "ExecuteTime": {
     "end_time": "2018-10-03T15:31:34.992974Z",
     "start_time": "2018-10-03T15:31:23.884705Z"
    }
   },
   "outputs": [
    {
     "name": "stdout",
     "output_type": "stream",
     "text": [
      "meta+initial factors 0.9703196254811751\n"
     ]
    }
   ],
   "source": [
    "# meta+initial factors\n",
    "\n",
    "top_clf = LogisticRegression()\n",
    "\n",
    "top_clf.fit(np.hstack((\n",
    "    X_train_log,\n",
    "    X_train_lin,\n",
    "    X_train_knn,\n",
    "    X_train_dt,\n",
    "    X_train\n",
    ")), y_train)\n",
    "\n",
    "final_prediction = top_clf.predict(np.hstack((\n",
    "    X_test_log,\n",
    "    X_test_lin,\n",
    "    X_test_knn,\n",
    "    X_test_dt,\n",
    "    X_test\n",
    ")))\n",
    "\n",
    "print('meta+initial factors', accuracy_score(y_test, final_prediction))"
   ]
  },
  {
   "cell_type": "markdown",
   "metadata": {},
   "source": [
    "Точность стекинг-композиции с исходными факторами выше, чем без них."
   ]
  },
  {
   "cell_type": "markdown",
   "metadata": {},
   "source": [
    "**(0.7 балла) Задание 14.** Попробуйте разные размеры фолда при подсчете мета-факторов. Влияет ли размер на качество?"
   ]
  },
  {
   "cell_type": "code",
   "execution_count": 35,
   "metadata": {
    "ExecuteTime": {
     "end_time": "2018-10-03T15:31:35.031577Z",
     "start_time": "2018-10-03T15:31:35.029572Z"
    }
   },
   "outputs": [],
   "source": [
    "cv3 = KFold(3)"
   ]
  },
  {
   "cell_type": "code",
   "execution_count": 36,
   "metadata": {
    "ExecuteTime": {
     "end_time": "2018-10-03T15:32:47.547503Z",
     "start_time": "2018-10-03T15:31:35.041103Z"
    }
   },
   "outputs": [],
   "source": [
    "# get meta factors\n",
    "\n",
    "X_train_log, X_test_log = compute_meta_feature(LogisticRegression(), X_train, X_test, y_train, cv=cv3)\n",
    "\n",
    "X_train_knn, X_test_knn = compute_meta_feature(KNeighborsClassifier(3), X_train, X_test, y_train, cv=cv3)\n",
    "\n",
    "X_train_lin, X_test_lin = compute_meta_feature(LinearRegression(), X_train, X_test, y_train, cv=cv3, method='predict')\n",
    "\n",
    "X_train_dt, X_test_dt = compute_meta_feature(DecisionTreeClassifier(), X_train, X_test, y_train, cv=cv3)"
   ]
  },
  {
   "cell_type": "code",
   "execution_count": 37,
   "metadata": {
    "ExecuteTime": {
     "end_time": "2018-10-03T15:32:48.334322Z",
     "start_time": "2018-10-03T15:32:47.637243Z"
    }
   },
   "outputs": [
    {
     "data": {
      "text/plain": [
       "LogisticRegression(C=1.0, class_weight=None, dual=False, fit_intercept=True,\n",
       "          intercept_scaling=1, max_iter=100, multi_class='ovr', n_jobs=1,\n",
       "          penalty='l2', random_state=None, solver='liblinear', tol=0.0001,\n",
       "          verbose=0, warm_start=False)"
      ]
     },
     "execution_count": 37,
     "metadata": {},
     "output_type": "execute_result"
    }
   ],
   "source": [
    "top_clf = LogisticRegression()\n",
    "top_clf.fit(np.hstack((\n",
    "    X_train_log,\n",
    "    X_train_lin,\n",
    "    X_train_knn,\n",
    "    X_train_dt\n",
    ")), y_train)"
   ]
  },
  {
   "cell_type": "code",
   "execution_count": 38,
   "metadata": {
    "ExecuteTime": {
     "end_time": "2018-10-03T15:32:48.402887Z",
     "start_time": "2018-10-03T15:32:48.383869Z"
    }
   },
   "outputs": [],
   "source": [
    "final_prediction = top_clf.predict(np.hstack((\n",
    "    X_test_log,\n",
    "    X_test_lin,\n",
    "    X_test_knn,\n",
    "    X_test_dt\n",
    ")))"
   ]
  },
  {
   "cell_type": "markdown",
   "metadata": {},
   "source": [
    "В данном случае при количестве точность ниже при количестве фолдов = 3."
   ]
  },
  {
   "cell_type": "code",
   "execution_count": 39,
   "metadata": {
    "ExecuteTime": {
     "end_time": "2018-10-03T15:32:48.890495Z",
     "start_time": "2018-10-03T15:32:48.403889Z"
    }
   },
   "outputs": [
    {
     "data": {
      "text/plain": [
       "0.9700328390643492"
      ]
     },
     "execution_count": 39,
     "metadata": {},
     "output_type": "execute_result"
    }
   ],
   "source": [
    "accuracy_score(y_test, final_prediction)"
   ]
  },
  {
   "cell_type": "markdown",
   "metadata": {},
   "source": [
    "**(1 балл) Задание 15.** Зафиксируйте некоторый набор базовых классификаторов. Обучите поверх них линейную модель и сравните ее с мета-классификатором, который считает среднее по всем метафакторам. Дает ли преимущество линейная модель? О чем говорят коэффициенты линейной модели в данном случае?"
   ]
  },
  {
   "cell_type": "code",
   "execution_count": 40,
   "metadata": {
    "ExecuteTime": {
     "end_time": "2018-10-03T15:32:49.333762Z",
     "start_time": "2018-10-03T15:32:48.892520Z"
    }
   },
   "outputs": [
    {
     "data": {
      "text/plain": [
       "array([[-0.18907551, -0.6695713 ,  1.38588244, -4.0722062 ,  3.2135594 ,\n",
       "        -1.40824682,  0.54960001]])"
      ]
     },
     "execution_count": 40,
     "metadata": {},
     "output_type": "execute_result"
    }
   ],
   "source": [
    "top_clf.coef_"
   ]
  },
  {
   "cell_type": "code",
   "execution_count": 41,
   "metadata": {
    "ExecuteTime": {
     "end_time": "2018-10-03T15:32:49.870192Z",
     "start_time": "2018-10-03T15:32:49.453014Z"
    }
   },
   "outputs": [],
   "source": [
    "# scale linear regression's predictions to [0, 1]\n",
    "from sklearn.preprocessing import minmax_scale\n",
    "X_test_lin_minmax = minmax_scale(X_test_lin)"
   ]
  },
  {
   "cell_type": "code",
   "execution_count": 42,
   "metadata": {
    "ExecuteTime": {
     "end_time": "2018-10-03T15:32:50.334000Z",
     "start_time": "2018-10-03T15:32:49.871196Z"
    }
   },
   "outputs": [],
   "source": [
    "mean_meta = np.mean([    \n",
    "    X_test_log,\n",
    "    np.hstack((1 - X_test_lin_minmax, X_test_lin_minmax)),\n",
    "    X_test_knn,\n",
    "    X_test_dt\n",
    "], axis=0)"
   ]
  },
  {
   "cell_type": "code",
   "execution_count": 43,
   "metadata": {
    "ExecuteTime": {
     "end_time": "2018-10-03T15:32:50.870812Z",
     "start_time": "2018-10-03T15:32:50.335996Z"
    }
   },
   "outputs": [
    {
     "data": {
      "text/plain": [
       "0.9546473536884369"
      ]
     },
     "execution_count": 43,
     "metadata": {},
     "output_type": "execute_result"
    }
   ],
   "source": [
    "accuracy_score(y_test, mean_meta.argmax(axis=1) + 1)"
   ]
  },
  {
   "cell_type": "markdown",
   "metadata": {},
   "source": [
    "Линейная модель строит взвешенное среднее. Эти веса тоже обучаются, поэтому получается лучше:)"
   ]
  },
  {
   "cell_type": "code",
   "execution_count": null,
   "metadata": {},
   "outputs": [],
   "source": []
  }
 ],
 "metadata": {
  "anaconda-cloud": {},
  "kernelspec": {
   "display_name": "Python 3",
   "language": "python",
   "name": "python3"
  },
  "language_info": {
   "codemirror_mode": {
    "name": "ipython",
    "version": 3
   },
   "file_extension": ".py",
   "mimetype": "text/x-python",
   "name": "python",
   "nbconvert_exporter": "python",
   "pygments_lexer": "ipython3",
   "version": "3.6.5"
  },
  "toc": {
   "base_numbering": 1,
   "nav_menu": {},
   "number_sections": true,
   "sideBar": true,
   "skip_h1_title": false,
   "title_cell": "Table of Contents",
   "title_sidebar": "Contents",
   "toc_cell": true,
   "toc_position": {
    "height": "calc(100% - 180px)",
    "left": "10px",
    "top": "150px",
    "width": "279px"
   },
   "toc_section_display": true,
   "toc_window_display": true
  }
 },
 "nbformat": 4,
 "nbformat_minor": 2
}
