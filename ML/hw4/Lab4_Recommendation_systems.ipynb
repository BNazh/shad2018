{
 "cells": [
  {
   "cell_type": "markdown",
   "metadata": {
    "toc": true
   },
   "source": [
    "<h1>Table of Contents<span class=\"tocSkip\"></span></h1>\n",
    "<div class=\"toc\"><ul class=\"toc-item\"><li><span><a href=\"#Лабораторная-работа-4.-Рекомендательные-системы-и-категориальные-признаки-(20-баллов)\" data-toc-modified-id=\"Лабораторная-работа-4.-Рекомендательные-системы-и-категориальные-признаки-(20-баллов)-1\"><span class=\"toc-item-num\">1&nbsp;&nbsp;</span>Лабораторная работа 4. Рекомендательные системы и категориальные признаки (20 баллов)</a></span><ul class=\"toc-item\"><li><ul class=\"toc-item\"><li><span><a href=\"#Оценивание-и-штрафы\" data-toc-modified-id=\"Оценивание-и-штрафы-1.0.1\"><span class=\"toc-item-num\">1.0.1&nbsp;&nbsp;</span>Оценивание и штрафы</a></span></li></ul></li><li><span><a href=\"#Рекомендательные-системы-(10-баллов)\" data-toc-modified-id=\"Рекомендательные-системы-(10-баллов)-1.1\"><span class=\"toc-item-num\">1.1&nbsp;&nbsp;</span>Рекомендательные системы (10 баллов)</a></span></li><li><span><a href=\"#Оценивание-качества-рекомендаций\" data-toc-modified-id=\"Оценивание-качества-рекомендаций-1.2\"><span class=\"toc-item-num\">1.2&nbsp;&nbsp;</span>Оценивание качества рекомендаций</a></span><ul class=\"toc-item\"><li><ul class=\"toc-item\"><li><span><a href=\"#RMSE\" data-toc-modified-id=\"RMSE-1.2.0.1\"><span class=\"toc-item-num\">1.2.0.1&nbsp;&nbsp;</span>RMSE</a></span></li><li><span><a href=\"#MAP\" data-toc-modified-id=\"MAP-1.2.0.2\"><span class=\"toc-item-num\">1.2.0.2&nbsp;&nbsp;</span>MAP</a></span></li><li><span><a href=\"#Другие-способы-оценки-качества-рекомендаций\" data-toc-modified-id=\"Другие-способы-оценки-качества-рекомендаций-1.2.0.3\"><span class=\"toc-item-num\">1.2.0.3&nbsp;&nbsp;</span>Другие способы оценки качества рекомендаций</a></span></li></ul></li></ul></li><li><span><a href=\"#Коллаборативная-фильтрация\" data-toc-modified-id=\"Коллаборативная-фильтрация-1.3\"><span class=\"toc-item-num\">1.3&nbsp;&nbsp;</span>Коллаборативная фильтрация</a></span><ul class=\"toc-item\"><li><span><a href=\"#Most-popular\" data-toc-modified-id=\"Most-popular-1.3.1\"><span class=\"toc-item-num\">1.3.1&nbsp;&nbsp;</span>Most popular</a></span></li><li><span><a href=\"#Memory-based\" data-toc-modified-id=\"Memory-based-1.3.2\"><span class=\"toc-item-num\">1.3.2&nbsp;&nbsp;</span>Memory-based</a></span></li><li><span><a href=\"#Matrix-factorization\" data-toc-modified-id=\"Matrix-factorization-1.3.3\"><span class=\"toc-item-num\">1.3.3&nbsp;&nbsp;</span>Matrix factorization</a></span></li></ul></li><li><span><a href=\"#Категориальные-и-разреженные-признаки-(10-баллов)\" data-toc-modified-id=\"Категориальные-и-разреженные-признаки-(10-баллов)-1.4\"><span class=\"toc-item-num\">1.4&nbsp;&nbsp;</span>Категориальные и разреженные признаки (10 баллов)</a></span><ul class=\"toc-item\"><li><span><a href=\"#Разреженные-признаки\" data-toc-modified-id=\"Разреженные-признаки-1.4.1\"><span class=\"toc-item-num\">1.4.1&nbsp;&nbsp;</span>Разреженные признаки</a></span><ul class=\"toc-item\"><li><span><a href=\"#Vowpal-Wabbit\" data-toc-modified-id=\"Vowpal-Wabbit-1.4.1.1\"><span class=\"toc-item-num\">1.4.1.1&nbsp;&nbsp;</span>Vowpal Wabbit</a></span></li></ul></li><li><span><a href=\"#libFm\" data-toc-modified-id=\"libFm-1.4.2\"><span class=\"toc-item-num\">1.4.2&nbsp;&nbsp;</span>libFm</a></span></li><li><span><a href=\"#Признаки-счётчики\" data-toc-modified-id=\"Признаки-счётчики-1.4.3\"><span class=\"toc-item-num\">1.4.3&nbsp;&nbsp;</span>Признаки-счётчики</a></span></li></ul></li></ul></li></ul></div>"
   ]
  },
  {
   "cell_type": "markdown",
   "metadata": {},
   "source": [
    "# Лабораторная работа 4. Рекомендательные системы и категориальные признаки (20 баллов)\n",
    "\n",
    "Результат лабораторной работы − отчет. Мы предпочитаем принимать отчеты в формате ноутбуков IPython (ipynb-файл). Постарайтесь сделать ваш отчет интересным рассказом, последовательно отвечающим на вопросы из заданий. Помимо ответов на вопросы, в отчете так же должен быть код, однако чем меньше кода, тем лучше всем: нам − меньше проверять, вам — проще найти ошибку или дополнить эксперимент. При проверке оценивается четкость ответов на вопросы, аккуратность отчета и кода.\n",
    "\n",
    "### Оценивание и штрафы\n",
    "Каждая из задач имеет определенную «стоимость» (указана в скобках около задачи). Сдавать задание после указанного срока сдачи нельзя. «Похожие» решения считаются плагиатом и все задействованные студенты (в том числе те, у кого списали) не могут получить за него больше 0 баллов и понижают карму (подробнее о плагиате см. на странице курса). Если вы нашли решение какого-то из заданий в открытом источнике, необходимо прислать ссылку на этот источник (скорее всего вы будете не единственным, кто это нашел, поэтому чтобы исключить подозрение в плагиате, нам необходима ссылка на источник)."
   ]
  },
  {
   "cell_type": "markdown",
   "metadata": {},
   "source": [
    "## Рекомендательные системы (10 баллов)"
   ]
  },
  {
   "cell_type": "markdown",
   "metadata": {},
   "source": [
    "![](http://i.imgur.com/vHUVoWw.png)\n",
    "\n",
    "В этой лабораторной работе будет рассмотрена задача предсказания оценки, которую пользователь поставит фильму. Особенность этой задачи в том, что объекты выборки описываются категориальными признаками, принимающими большое число значений (например: идентификатор пользователя, идентификатор фильма, тэги, киноперсоны).\n",
    "\n",
    "Мы будем работать с датасетом [MovieLens + IMDb/Rotten Tomatoes](http://files.grouplens.org/datasets/hetrec2011/hetrec2011-movielens-2k-v2.zip) ([описание](http://files.grouplens.org/datasets/hetrec2011/hetrec2011-movielens-readme.txt)). Набор содержит данные о предпочтениях пользователей сервиса рекомендации кинофильмов [MovieLens](http://www.movielens.org/). Пользовательские оценки для фильмов принимают целые значения в интервале от 1 до 5, они записаны в файле *user_ratedmovies.dat* (а так же в *user_ratedmovies-timestamps.dat*,  где для каждой оценки записаны дата и время в формате timestamp), остальные файлы содержат дополнительную информацию о фильмах, которую можно использовать в качестве признаков. Заметьте: кроме оценок (и тегов), про пользователя ничего не известно.\n",
    "\n",
    "На основании этих данных необходимо построить модель, предсказывающую оценку пользователя фильму, который он еще не смотрел."
   ]
  },
  {
   "cell_type": "markdown",
   "metadata": {},
   "source": [
    "## Оценивание качества рекомендаций\n",
    "\n",
    "Выберем некоторого пользователя $u$ и обозначим известные для него рейтинги за $R^u$. В качестве тестовых рейтингов этого пользователя $R^u_{test}$ рассмотрим три рейтинга, поставленные последними по времени. Остальные известные рейтинги будут составлять обучающую выборку $R^u_{train}$. Тогда все известные рейтинги можно представить как $R^u=R^u_{train}\\cup R^u_{test}$. Отсутствующие оценки обозначим за $R^u_{unknown}$. \n",
    "\n",
    "Для измерения качества рекомендаций в этой лабораторной работе используйте две метрики RMSE и MAP, описанные ниже.\n",
    "\n",
    "#### RMSE\n",
    "\n",
    "Метрика [RMSE](https://en.wikipedia.org/wiki/Root-mean-square_deviation) вычисляется следующим образом:\n",
    "$$ RMSE = \\sqrt{ \\frac{1}{\\left|R_{test}\\right|} \\sum_{(u,i) \\in R_{test}} (r_{ui} - \\hat{r}_{ui})^2 },$$\n",
    "где $r_{ui}$ — наблюдаемая (правильная) оценка, а $\\hat{r}_{ui}$ — оценка, предсказанная моделью.\n",
    "\n",
    "Метрика RMSE предназначена для оценки точности предсказания, ее удобно оптимизировать напрямую. Однако, нужно учесть, что RMSE не лучший кандидат для оценки качества рекомендаций:\n",
    "- Во-первых, RMSE оценивает точность предсказания рейтингов, что в задачах рекомендаций, как правило, менее важно, нежели верное ранжирование объектов (безотносительно абсолютных значений рейтингов). На практике часто бывает, что алгоритмы с худшим RMSE в продакшене работают лучше, чем алгоритмы с меньшим значением RMSE. Например, при использовании моделей рекомендаций на основе матричных разложений, заполнение отсутствующих оценок нулями имеет имеет худшее значение RMSE чем если бы эти оценки не учитывались совсем, но при этом часто сами рекомендации становятся лучше. \n",
    "- Во-вторых, RMSE одинаково штрафует точность предсказания оценок более популярных фильмов (которые попадут в блок рекомендаций) и менее популярных фильмов (длинный хвост из нерелевантных фильмов).\n",
    "\n",
    "#### MAP\n",
    "\n",
    "Для оценки качества рекомендаций также можно использовать метрику качества ранжирования. В этом случае для каждого пользователя $u$ предскажем оценку для всех фильмов из $R^u_{test}$ и $R^u_{unknown}$ и отсортируем эти фильмы по убыванию предсказанного рейтинга. Ожидается, что хороший алгоритм должен выдать релевантные фильмы вверху списка. Обозначим позиции объектов в этом списке за $k^u_i$.\n",
    "\n",
    "Назовем релевантными те фильмы, которые входят в $R^u_{test}$ и имеют оценку $\\ge 3$. Обозначим их за $Rel^u$. Тогда можно вычислить следующую метрику качества рекомендаций для одного пользователя:\n",
    "\n",
    "$$AP^u=\\frac{1}{|Rel^u|} \\sum_{(u,i) \\in Rel^u} \\frac{1}{k^u_i}.$$\n",
    "\n",
    "Усреднив значение этой метрики по всем пользователями, мы получим окончательное значение метрики $MAP$. Пользователей без релевантных фильмов в тестовой выборке можно не учитывать.\n",
    "\n",
    "#### Другие способы оценки качества рекомендаций\n",
    "\n",
    "На практике, как правило, качество рекомендательных систем оценивается в онлайне с помощью [A/B-тестирования](https://ru.wikipedia.org/wiki/A/B-тестирование)."
   ]
  },
  {
   "cell_type": "markdown",
   "metadata": {},
   "source": [
    "## Коллаборативная фильтрация"
   ]
  },
  {
   "cell_type": "markdown",
   "metadata": {},
   "source": [
    "Загрузите данные и создайте разреженную матрицу пользователи-фильмы, где в каждой ячейке стоит рейтинг, если он известен, или ноль, если неизвестен."
   ]
  },
  {
   "cell_type": "code",
   "execution_count": 1,
   "metadata": {
    "ExecuteTime": {
     "end_time": "2018-11-06T16:15:30.015709Z",
     "start_time": "2018-11-06T16:15:23.559769Z"
    }
   },
   "outputs": [],
   "source": [
    "import numpy as np\n",
    "import pandas as pd\n",
    "ratings_df = pd.read_csv(open('./hetrec2011-movielens-2k-v2/user_ratedmovies-timestamps.dat', 'rb'), sep='\\t')"
   ]
  },
  {
   "cell_type": "code",
   "execution_count": 2,
   "metadata": {
    "ExecuteTime": {
     "end_time": "2018-11-06T16:15:30.120960Z",
     "start_time": "2018-11-06T16:15:30.017716Z"
    }
   },
   "outputs": [
    {
     "name": "stdout",
     "output_type": "stream",
     "text": [
      "(855598, 4)\n"
     ]
    },
    {
     "data": {
      "text/html": [
       "<div>\n",
       "<style scoped>\n",
       "    .dataframe tbody tr th:only-of-type {\n",
       "        vertical-align: middle;\n",
       "    }\n",
       "\n",
       "    .dataframe tbody tr th {\n",
       "        vertical-align: top;\n",
       "    }\n",
       "\n",
       "    .dataframe thead th {\n",
       "        text-align: right;\n",
       "    }\n",
       "</style>\n",
       "<table border=\"1\" class=\"dataframe\">\n",
       "  <thead>\n",
       "    <tr style=\"text-align: right;\">\n",
       "      <th></th>\n",
       "      <th>userID</th>\n",
       "      <th>movieID</th>\n",
       "      <th>rating</th>\n",
       "      <th>timestamp</th>\n",
       "    </tr>\n",
       "  </thead>\n",
       "  <tbody>\n",
       "    <tr>\n",
       "      <th>0</th>\n",
       "      <td>75</td>\n",
       "      <td>3</td>\n",
       "      <td>1.0</td>\n",
       "      <td>1162160236000</td>\n",
       "    </tr>\n",
       "    <tr>\n",
       "      <th>1</th>\n",
       "      <td>75</td>\n",
       "      <td>32</td>\n",
       "      <td>4.5</td>\n",
       "      <td>1162160624000</td>\n",
       "    </tr>\n",
       "    <tr>\n",
       "      <th>2</th>\n",
       "      <td>75</td>\n",
       "      <td>110</td>\n",
       "      <td>4.0</td>\n",
       "      <td>1162161008000</td>\n",
       "    </tr>\n",
       "    <tr>\n",
       "      <th>3</th>\n",
       "      <td>75</td>\n",
       "      <td>160</td>\n",
       "      <td>2.0</td>\n",
       "      <td>1162160212000</td>\n",
       "    </tr>\n",
       "    <tr>\n",
       "      <th>4</th>\n",
       "      <td>75</td>\n",
       "      <td>163</td>\n",
       "      <td>4.0</td>\n",
       "      <td>1162160970000</td>\n",
       "    </tr>\n",
       "  </tbody>\n",
       "</table>\n",
       "</div>"
      ],
      "text/plain": [
       "   userID  movieID  rating      timestamp\n",
       "0      75        3     1.0  1162160236000\n",
       "1      75       32     4.5  1162160624000\n",
       "2      75      110     4.0  1162161008000\n",
       "3      75      160     2.0  1162160212000\n",
       "4      75      163     4.0  1162160970000"
      ]
     },
     "execution_count": 2,
     "metadata": {},
     "output_type": "execute_result"
    }
   ],
   "source": [
    "print(ratings_df.shape)\n",
    "ratings_df.head()"
   ]
  },
  {
   "cell_type": "code",
   "execution_count": 3,
   "metadata": {
    "ExecuteTime": {
     "end_time": "2018-11-06T16:15:31.984453Z",
     "start_time": "2018-11-06T16:15:30.123466Z"
    }
   },
   "outputs": [],
   "source": [
    "ratings_df['date'] = ratings_df.timestamp.apply(pd.Timestamp)"
   ]
  },
  {
   "cell_type": "code",
   "execution_count": 4,
   "metadata": {
    "ExecuteTime": {
     "end_time": "2018-11-06T16:15:31.996487Z",
     "start_time": "2018-11-06T16:15:31.985957Z"
    }
   },
   "outputs": [
    {
     "data": {
      "text/html": [
       "<div>\n",
       "<style scoped>\n",
       "    .dataframe tbody tr th:only-of-type {\n",
       "        vertical-align: middle;\n",
       "    }\n",
       "\n",
       "    .dataframe tbody tr th {\n",
       "        vertical-align: top;\n",
       "    }\n",
       "\n",
       "    .dataframe thead th {\n",
       "        text-align: right;\n",
       "    }\n",
       "</style>\n",
       "<table border=\"1\" class=\"dataframe\">\n",
       "  <thead>\n",
       "    <tr style=\"text-align: right;\">\n",
       "      <th></th>\n",
       "      <th>userID</th>\n",
       "      <th>movieID</th>\n",
       "      <th>rating</th>\n",
       "      <th>timestamp</th>\n",
       "      <th>date</th>\n",
       "    </tr>\n",
       "  </thead>\n",
       "  <tbody>\n",
       "    <tr>\n",
       "      <th>0</th>\n",
       "      <td>75</td>\n",
       "      <td>3</td>\n",
       "      <td>1.0</td>\n",
       "      <td>1162160236000</td>\n",
       "      <td>1970-01-01 00:19:22.160236</td>\n",
       "    </tr>\n",
       "    <tr>\n",
       "      <th>1</th>\n",
       "      <td>75</td>\n",
       "      <td>32</td>\n",
       "      <td>4.5</td>\n",
       "      <td>1162160624000</td>\n",
       "      <td>1970-01-01 00:19:22.160624</td>\n",
       "    </tr>\n",
       "    <tr>\n",
       "      <th>2</th>\n",
       "      <td>75</td>\n",
       "      <td>110</td>\n",
       "      <td>4.0</td>\n",
       "      <td>1162161008000</td>\n",
       "      <td>1970-01-01 00:19:22.161008</td>\n",
       "    </tr>\n",
       "    <tr>\n",
       "      <th>3</th>\n",
       "      <td>75</td>\n",
       "      <td>160</td>\n",
       "      <td>2.0</td>\n",
       "      <td>1162160212000</td>\n",
       "      <td>1970-01-01 00:19:22.160212</td>\n",
       "    </tr>\n",
       "    <tr>\n",
       "      <th>4</th>\n",
       "      <td>75</td>\n",
       "      <td>163</td>\n",
       "      <td>4.0</td>\n",
       "      <td>1162160970000</td>\n",
       "      <td>1970-01-01 00:19:22.160970</td>\n",
       "    </tr>\n",
       "  </tbody>\n",
       "</table>\n",
       "</div>"
      ],
      "text/plain": [
       "   userID  movieID  rating      timestamp                       date\n",
       "0      75        3     1.0  1162160236000 1970-01-01 00:19:22.160236\n",
       "1      75       32     4.5  1162160624000 1970-01-01 00:19:22.160624\n",
       "2      75      110     4.0  1162161008000 1970-01-01 00:19:22.161008\n",
       "3      75      160     2.0  1162160212000 1970-01-01 00:19:22.160212\n",
       "4      75      163     4.0  1162160970000 1970-01-01 00:19:22.160970"
      ]
     },
     "execution_count": 4,
     "metadata": {},
     "output_type": "execute_result"
    }
   ],
   "source": [
    "ratings_df.head()"
   ]
  },
  {
   "cell_type": "code",
   "execution_count": null,
   "metadata": {},
   "outputs": [],
   "source": []
  },
  {
   "cell_type": "code",
   "execution_count": 5,
   "metadata": {
    "ExecuteTime": {
     "end_time": "2018-11-06T16:15:40.635694Z",
     "start_time": "2018-11-06T16:15:37.857490Z"
    }
   },
   "outputs": [],
   "source": [
    "def train_test_split(df):\n",
    "    df['subset'] = 'train'\n",
    "    df.subset[-3:] = 'test'\n",
    "    return df\n",
    "\n",
    "rdf = (ratings_df\n",
    "       .groupby(['userID'])\n",
    "       .apply(train_test_split)\n",
    "      )\n",
    "(_, test), (_ ,train) = rdf.groupby('subset')"
   ]
  },
  {
   "cell_type": "code",
   "execution_count": 6,
   "metadata": {
    "ExecuteTime": {
     "end_time": "2018-11-06T16:15:40.640677Z",
     "start_time": "2018-11-06T16:15:40.637169Z"
    }
   },
   "outputs": [
    {
     "data": {
      "text/plain": [
       "((849259, 6), (6339, 6))"
      ]
     },
     "execution_count": 6,
     "metadata": {},
     "output_type": "execute_result"
    }
   ],
   "source": [
    "train.shape, test.shape"
   ]
  },
  {
   "cell_type": "markdown",
   "metadata": {},
   "source": [
    "### Most popular\n",
    "\n",
    "**Задание 1 (1.5 балла)** Постройте рекоммендации на основе **most popular** метода, при котором пользователям рекомендуются объекты в порядке убываниях их популярности (например, среднего рейтинга). Оцените качество рекомендаций с использованием метрики MAP."
   ]
  },
  {
   "cell_type": "code",
   "execution_count": 7,
   "metadata": {
    "ExecuteTime": {
     "end_time": "2018-11-06T16:15:42.913620Z",
     "start_time": "2018-11-06T16:15:40.643687Z"
    }
   },
   "outputs": [],
   "source": [
    "from scipy import sparse\n",
    "from scipy.sparse import csr_matrix"
   ]
  },
  {
   "cell_type": "code",
   "execution_count": 8,
   "metadata": {
    "ExecuteTime": {
     "end_time": "2018-11-06T16:15:44.231096Z",
     "start_time": "2018-11-06T16:15:42.915604Z"
    }
   },
   "outputs": [],
   "source": [
    "train_ratings_pivot = train.pivot('userID', 'movieID', 'rating')\n",
    "train_ratings = csr_matrix(train_ratings_pivot.fillna(0))"
   ]
  },
  {
   "cell_type": "code",
   "execution_count": 9,
   "metadata": {
    "ExecuteTime": {
     "end_time": "2018-11-06T16:15:44.946396Z",
     "start_time": "2018-11-06T16:15:44.233096Z"
    }
   },
   "outputs": [],
   "source": [
    "train_movie_ratings = train_ratings_pivot.mean(axis=0)"
   ]
  },
  {
   "cell_type": "code",
   "execution_count": 10,
   "metadata": {
    "ExecuteTime": {
     "end_time": "2018-11-06T16:15:44.955420Z",
     "start_time": "2018-11-06T16:15:44.948400Z"
    }
   },
   "outputs": [
    {
     "data": {
      "text/plain": [
       "movieID\n",
       "26142    5.0\n",
       "1039     5.0\n",
       "63310    5.0\n",
       "32352    5.0\n",
       "53835    5.0\n",
       "dtype: float64"
      ]
     },
     "execution_count": 10,
     "metadata": {},
     "output_type": "execute_result"
    }
   ],
   "source": [
    "train_movie_ratings.sort_values(ascending=False).head()"
   ]
  },
  {
   "cell_type": "code",
   "execution_count": 11,
   "metadata": {
    "ExecuteTime": {
     "end_time": "2018-11-06T16:15:45.177310Z",
     "start_time": "2018-11-06T16:15:44.957927Z"
    }
   },
   "outputs": [],
   "source": [
    "def recommend(user, top=5):\n",
    "    seen_movies = train.movieID[train.userID == user].values\n",
    "    unseen_movies = pd.Index(train.movieID.values, name='movieID').difference(seen_movies)\n",
    "    pred = train_movie_ratings.loc[unseen_movies].to_frame('score')\n",
    "    pred = pred.sort_values('score', ascending=False)\n",
    "    pred['rank'] = np.arange(len(pred))\n",
    "    return pred"
   ]
  },
  {
   "cell_type": "code",
   "execution_count": 42,
   "metadata": {
    "ExecuteTime": {
     "end_time": "2018-11-06T16:25:00.561468Z",
     "start_time": "2018-11-06T16:25:00.558468Z"
    }
   },
   "outputs": [],
   "source": [
    "def ap(user_id, user_recommendations):\n",
    "    test_movies = test.movieID[(test.userID == user_id) & (test.rating > 3)].values\n",
    "#     user_recommendations = all_recommendations[all_recommendations.userID == user_id]\n",
    "    rel = user_recommendations[user_recommendations.movieID.isin(test_movies)]\n",
    "    if len(rel) > 0:\n",
    "        idx = rel['rank'] + 1\n",
    "        a = 1. / len(rel) * sum(1. / idx)\n",
    "        return a\n",
    "    return np.nan"
   ]
  },
  {
   "cell_type": "code",
   "execution_count": 13,
   "metadata": {
    "ExecuteTime": {
     "end_time": "2018-11-06T16:17:06.202667Z",
     "start_time": "2018-11-06T16:15:50.104889Z"
    }
   },
   "outputs": [],
   "source": [
    "users = test.userID.unique()\n",
    "avg_recommendations = pd.concat((recommend(u) for u in users), keys=users, names=['userID']).reset_index()"
   ]
  },
  {
   "cell_type": "code",
   "execution_count": 14,
   "metadata": {
    "ExecuteTime": {
     "end_time": "2018-11-06T16:17:06.216705Z",
     "start_time": "2018-11-06T16:17:06.204672Z"
    }
   },
   "outputs": [
    {
     "data": {
      "text/html": [
       "<div>\n",
       "<style scoped>\n",
       "    .dataframe tbody tr th:only-of-type {\n",
       "        vertical-align: middle;\n",
       "    }\n",
       "\n",
       "    .dataframe tbody tr th {\n",
       "        vertical-align: top;\n",
       "    }\n",
       "\n",
       "    .dataframe thead th {\n",
       "        text-align: right;\n",
       "    }\n",
       "</style>\n",
       "<table border=\"1\" class=\"dataframe\">\n",
       "  <thead>\n",
       "    <tr style=\"text-align: right;\">\n",
       "      <th></th>\n",
       "      <th>userID</th>\n",
       "      <th>movieID</th>\n",
       "      <th>score</th>\n",
       "      <th>rank</th>\n",
       "    </tr>\n",
       "  </thead>\n",
       "  <tbody>\n",
       "    <tr>\n",
       "      <th>0</th>\n",
       "      <td>75</td>\n",
       "      <td>32352</td>\n",
       "      <td>5.0</td>\n",
       "      <td>0</td>\n",
       "    </tr>\n",
       "    <tr>\n",
       "      <th>1</th>\n",
       "      <td>75</td>\n",
       "      <td>60983</td>\n",
       "      <td>5.0</td>\n",
       "      <td>1</td>\n",
       "    </tr>\n",
       "    <tr>\n",
       "      <th>2</th>\n",
       "      <td>75</td>\n",
       "      <td>1039</td>\n",
       "      <td>5.0</td>\n",
       "      <td>2</td>\n",
       "    </tr>\n",
       "    <tr>\n",
       "      <th>3</th>\n",
       "      <td>75</td>\n",
       "      <td>42783</td>\n",
       "      <td>5.0</td>\n",
       "      <td>3</td>\n",
       "    </tr>\n",
       "    <tr>\n",
       "      <th>4</th>\n",
       "      <td>75</td>\n",
       "      <td>61236</td>\n",
       "      <td>5.0</td>\n",
       "      <td>4</td>\n",
       "    </tr>\n",
       "  </tbody>\n",
       "</table>\n",
       "</div>"
      ],
      "text/plain": [
       "   userID  movieID  score  rank\n",
       "0      75    32352    5.0     0\n",
       "1      75    60983    5.0     1\n",
       "2      75     1039    5.0     2\n",
       "3      75    42783    5.0     3\n",
       "4      75    61236    5.0     4"
      ]
     },
     "execution_count": 14,
     "metadata": {},
     "output_type": "execute_result"
    }
   ],
   "source": [
    "avg_recommendations.head()"
   ]
  },
  {
   "cell_type": "code",
   "execution_count": 43,
   "metadata": {
    "ExecuteTime": {
     "end_time": "2018-11-06T16:25:02.481381Z",
     "start_time": "2018-11-06T16:25:02.478366Z"
    }
   },
   "outputs": [],
   "source": [
    "def calc_map(all_recommendations):\n",
    "    return np.nanmean([ap(user_id, group_df) for user_id, group_df in all_recommendations.groupby('userID')])"
   ]
  },
  {
   "cell_type": "code",
   "execution_count": 44,
   "metadata": {
    "ExecuteTime": {
     "end_time": "2018-11-06T16:25:11.829850Z",
     "start_time": "2018-11-06T16:25:06.759053Z"
    }
   },
   "outputs": [
    {
     "data": {
      "text/plain": [
       "0.0009796988117710635"
      ]
     },
     "execution_count": 44,
     "metadata": {},
     "output_type": "execute_result"
    }
   ],
   "source": [
    "calc_map(avg_recommendations)"
   ]
  },
  {
   "cell_type": "markdown",
   "metadata": {},
   "source": [
    "Для дальнейшей работы нам понадобится библиотека [Graphlab Create](https://turi.com/products/create/).\n",
    "\n",
    "Чтобы получить доступ до дистрибутива необходима лицензия. Бесплатная лицензия на 1 месяц будет выслана вам на почту после регистрации. Для получения более долгой бесплатной лицензии для использования в академических целях, необходимо заполнить [форму](https://turi.com/download/academic.html).\n",
    "\n",
    "Чтобы установить библиотеку нужно выполнить следующие шаги:\n",
    "\n",
    " - Зарегистрироваться по [ссылке](https://turi.com/download/academic.html). После регистрации получаете лицензию и Product key (эта информация будет продублирована в письме на указанную при регистрации почту). \n",
    " - Далее, сразу после регистрации вы попадаете на страницу, с которой можно скачать дистрибутив для вашей системы и установить его. Либо, после регистрации, можно установить библиотеку через pip командой:"
   ]
  },
  {
   "cell_type": "raw",
   "metadata": {},
   "source": [
    "pip install --upgrade --no-cache-dir https://get.graphlab.com/GraphLab-Create/2.1/your_registered_email_address_here/your_product_key_here/GraphLab-Create-License.tar.gz"
   ]
  },
  {
   "cell_type": "markdown",
   "metadata": {},
   "source": [
    "Подробнее про установку можно так же почитать [здесь](https://turi.com/download/install-graphlab-create-command-line.html)."
   ]
  },
  {
   "cell_type": "markdown",
   "metadata": {},
   "source": [
    "Теперь рассмотрим [memory-based](https://en.wikipedia.org/wiki/Collaborative_filtering) методы рекоммендаций. Подход, лежащий в их основе, использует данные о рейтингах для вычисления сходства между пользователями (user-based) или объектами (item-based). На основе этих данных делаются предсказания рейтингов и, в дальнейшем, строятся рекомендации. Эти методы просты в реализации и эффективны на ранних стадиях разработки рекомендательных систем."
   ]
  },
  {
   "cell_type": "markdown",
   "metadata": {},
   "source": [
    "### Memory-based\n",
    "\n",
    "**Задание 2 (1.5 балла)** Постройте рекоммендации на основе [item-based](https://turi.com/products/create/docs/generated/graphlab.recommender.item_similarity_recommender.ItemSimilarityRecommender.html) подхода, реализованном в библиотеке Graphlab Create. Оцените качество рекомендаций в зависимости от выбранной функции похожести *cosine/pearson* по каждой из описанных выше метрик (RMSE, MAP)."
   ]
  },
  {
   "cell_type": "code",
   "execution_count": 23,
   "metadata": {
    "ExecuteTime": {
     "end_time": "2018-10-30T19:29:56.445377Z",
     "start_time": "2018-10-30T19:29:56.108541Z"
    }
   },
   "outputs": [],
   "source": [
    "import graphlab"
   ]
  },
  {
   "cell_type": "code",
   "execution_count": 24,
   "metadata": {
    "ExecuteTime": {
     "end_time": "2018-10-30T19:30:02.017446Z",
     "start_time": "2018-10-30T19:29:56.452564Z"
    },
    "scrolled": true
   },
   "outputs": [
    {
     "name": "stdout",
     "output_type": "stream",
     "text": [
      "This non-commercial license of GraphLab Create for academic use is assigned to nssologub@yandex.ru and will expire on October 30, 2019.\n"
     ]
    },
    {
     "name": "stderr",
     "output_type": "stream",
     "text": [
      "[INFO] graphlab.cython.cy_server: GraphLab Create v2.1 started. Logging: /tmp/graphlab_server_1540927796.log\n"
     ]
    },
    {
     "data": {
      "text/html": [
       "<pre>Recsys training: model = item_similarity</pre>"
      ],
      "text/plain": [
       "Recsys training: model = item_similarity"
      ]
     },
     "metadata": {},
     "output_type": "display_data"
    },
    {
     "data": {
      "text/html": [
       "<pre>Preparing data set.</pre>"
      ],
      "text/plain": [
       "Preparing data set."
      ]
     },
     "metadata": {},
     "output_type": "display_data"
    },
    {
     "data": {
      "text/html": [
       "<pre>    Data has 849259 observations with 2113 users and 10033 items.</pre>"
      ],
      "text/plain": [
       "    Data has 849259 observations with 2113 users and 10033 items."
      ]
     },
     "metadata": {},
     "output_type": "display_data"
    },
    {
     "data": {
      "text/html": [
       "<pre>    Data prepared in: 0.347768s</pre>"
      ],
      "text/plain": [
       "    Data prepared in: 0.347768s"
      ]
     },
     "metadata": {},
     "output_type": "display_data"
    },
    {
     "data": {
      "text/html": [
       "<pre>Training model from provided data.</pre>"
      ],
      "text/plain": [
       "Training model from provided data."
      ]
     },
     "metadata": {},
     "output_type": "display_data"
    },
    {
     "data": {
      "text/html": [
       "<pre>Gathering per-item and per-user statistics.</pre>"
      ],
      "text/plain": [
       "Gathering per-item and per-user statistics."
      ]
     },
     "metadata": {},
     "output_type": "display_data"
    },
    {
     "data": {
      "text/html": [
       "<pre>+--------------------------------+------------+</pre>"
      ],
      "text/plain": [
       "+--------------------------------+------------+"
      ]
     },
     "metadata": {},
     "output_type": "display_data"
    },
    {
     "data": {
      "text/html": [
       "<pre>| Elapsed Time (Item Statistics) | % Complete |</pre>"
      ],
      "text/plain": [
       "| Elapsed Time (Item Statistics) | % Complete |"
      ]
     },
     "metadata": {},
     "output_type": "display_data"
    },
    {
     "data": {
      "text/html": [
       "<pre>+--------------------------------+------------+</pre>"
      ],
      "text/plain": [
       "+--------------------------------+------------+"
      ]
     },
     "metadata": {},
     "output_type": "display_data"
    },
    {
     "data": {
      "text/html": [
       "<pre>| 10.57ms                        | 47.25      |</pre>"
      ],
      "text/plain": [
       "| 10.57ms                        | 47.25      |"
      ]
     },
     "metadata": {},
     "output_type": "display_data"
    },
    {
     "data": {
      "text/html": [
       "<pre>| 16.575ms                       | 100        |</pre>"
      ],
      "text/plain": [
       "| 16.575ms                       | 100        |"
      ]
     },
     "metadata": {},
     "output_type": "display_data"
    },
    {
     "data": {
      "text/html": [
       "<pre>+--------------------------------+------------+</pre>"
      ],
      "text/plain": [
       "+--------------------------------+------------+"
      ]
     },
     "metadata": {},
     "output_type": "display_data"
    },
    {
     "data": {
      "text/html": [
       "<pre>Setting up lookup tables.</pre>"
      ],
      "text/plain": [
       "Setting up lookup tables."
      ]
     },
     "metadata": {},
     "output_type": "display_data"
    },
    {
     "data": {
      "text/html": [
       "<pre>Processing data in one pass using dense lookup tables.</pre>"
      ],
      "text/plain": [
       "Processing data in one pass using dense lookup tables."
      ]
     },
     "metadata": {},
     "output_type": "display_data"
    },
    {
     "data": {
      "text/html": [
       "<pre>+-------------------------------------+------------------+-----------------+</pre>"
      ],
      "text/plain": [
       "+-------------------------------------+------------------+-----------------+"
      ]
     },
     "metadata": {},
     "output_type": "display_data"
    },
    {
     "data": {
      "text/html": [
       "<pre>| Elapsed Time (Constructing Lookups) | Total % Complete | Items Processed |</pre>"
      ],
      "text/plain": [
       "| Elapsed Time (Constructing Lookups) | Total % Complete | Items Processed |"
      ]
     },
     "metadata": {},
     "output_type": "display_data"
    },
    {
     "data": {
      "text/html": [
       "<pre>+-------------------------------------+------------------+-----------------+</pre>"
      ],
      "text/plain": [
       "+-------------------------------------+------------------+-----------------+"
      ]
     },
     "metadata": {},
     "output_type": "display_data"
    },
    {
     "data": {
      "text/html": [
       "<pre>| 123.603ms                           | 0                | 3               |</pre>"
      ],
      "text/plain": [
       "| 123.603ms                           | 0                | 3               |"
      ]
     },
     "metadata": {},
     "output_type": "display_data"
    },
    {
     "data": {
      "text/html": [
       "<pre>| 1.12s                               | 86.5             | 8680            |</pre>"
      ],
      "text/plain": [
       "| 1.12s                               | 86.5             | 8680            |"
      ]
     },
     "metadata": {},
     "output_type": "display_data"
    },
    {
     "data": {
      "text/html": [
       "<pre>| 1.49s                               | 100              | 10033           |</pre>"
      ],
      "text/plain": [
       "| 1.49s                               | 100              | 10033           |"
      ]
     },
     "metadata": {},
     "output_type": "display_data"
    },
    {
     "data": {
      "text/html": [
       "<pre>+-------------------------------------+------------------+-----------------+</pre>"
      ],
      "text/plain": [
       "+-------------------------------------+------------------+-----------------+"
      ]
     },
     "metadata": {},
     "output_type": "display_data"
    },
    {
     "data": {
      "text/html": [
       "<pre>Finalizing lookup tables.</pre>"
      ],
      "text/plain": [
       "Finalizing lookup tables."
      ]
     },
     "metadata": {},
     "output_type": "display_data"
    },
    {
     "data": {
      "text/html": [
       "<pre>Generating candidate set for working with new users.</pre>"
      ],
      "text/plain": [
       "Generating candidate set for working with new users."
      ]
     },
     "metadata": {},
     "output_type": "display_data"
    },
    {
     "data": {
      "text/html": [
       "<pre>Finished training in 2.53797s</pre>"
      ],
      "text/plain": [
       "Finished training in 2.53797s"
      ]
     },
     "metadata": {},
     "output_type": "display_data"
    },
    {
     "data": {
      "text/html": [
       "<pre>recommendations finished on 1000/2113 queries. users per second: 1964.33</pre>"
      ],
      "text/plain": [
       "recommendations finished on 1000/2113 queries. users per second: 1964.33"
      ]
     },
     "metadata": {},
     "output_type": "display_data"
    },
    {
     "data": {
      "text/html": [
       "<pre>recommendations finished on 2000/2113 queries. users per second: 1993.79</pre>"
      ],
      "text/plain": [
       "recommendations finished on 2000/2113 queries. users per second: 1993.79"
      ]
     },
     "metadata": {},
     "output_type": "display_data"
    },
    {
     "name": "stdout",
     "output_type": "stream",
     "text": [
      "+---------+---------+----------------+------+\n",
      "| user_id | item_id |     score      | rank |\n",
      "+---------+---------+----------------+------+\n",
      "|    75   |   592   | 0.258822802168 |  1   |\n",
      "|    75   |   1580  | 0.254563856583 |  2   |\n",
      "|    75   |   648   | 0.25440359918  |  3   |\n",
      "|    75   |   1240  | 0.252034544945 |  4   |\n",
      "|    75   |   2628  | 0.251483353285 |  5   |\n",
      "|    75   |   5349  | 0.241107345774 |  6   |\n",
      "|    75   |   1291  | 0.240317256405 |  7   |\n",
      "|    75   |   377   |  0.2379332884  |  8   |\n",
      "|    75   |   260   | 0.237320417395 |  9   |\n",
      "|    75   |   2716  | 0.237303596277 |  10  |\n",
      "+---------+---------+----------------+------+\n",
      "[20350470 rows x 4 columns]\n",
      "Note: Only the head of the SFrame is printed.\n",
      "You can use print_rows(num_rows=m, num_columns=n) to print more rows and columns.\n"
     ]
    }
   ],
   "source": [
    "sf = graphlab.SFrame({'user_id': train.userID,\n",
    "                      'item_id': train.movieID,\n",
    "                      'rating': train.rating})\n",
    "isr = graphlab.recommender.item_similarity_recommender.create(sf, target='rating')\n",
    "recs = isr.recommend(k=train.movieID.nunique())\n",
    "print recs"
   ]
  },
  {
   "cell_type": "code",
   "execution_count": 25,
   "metadata": {
    "ExecuteTime": {
     "end_time": "2018-10-30T19:30:02.086563Z",
     "start_time": "2018-10-30T19:30:02.021387Z"
    }
   },
   "outputs": [
    {
     "name": "stdout",
     "output_type": "stream",
     "text": [
      "Canvas is accessible via web browser at the URL: http://localhost:44277/index.html\n",
      "Opening Canvas in default web browser.\n"
     ]
    }
   ],
   "source": [
    "m.show()"
   ]
  },
  {
   "cell_type": "code",
   "execution_count": 26,
   "metadata": {
    "ExecuteTime": {
     "end_time": "2018-10-30T19:30:02.136049Z",
     "start_time": "2018-10-30T19:30:02.090627Z"
    }
   },
   "outputs": [
    {
     "data": {
      "text/html": [
       "<div style=\"max-height:1000px;max-width:1500px;overflow:auto;\"><table frame=\"box\" rules=\"cols\">\n",
       "    <tr>\n",
       "        <th style=\"padding-left: 1em; padding-right: 1em; text-align: center\">user_id</th>\n",
       "        <th style=\"padding-left: 1em; padding-right: 1em; text-align: center\">item_id</th>\n",
       "        <th style=\"padding-left: 1em; padding-right: 1em; text-align: center\">score</th>\n",
       "        <th style=\"padding-left: 1em; padding-right: 1em; text-align: center\">rank</th>\n",
       "    </tr>\n",
       "    <tr>\n",
       "        <td style=\"padding-left: 1em; padding-right: 1em; text-align: center; vertical-align: top\">75</td>\n",
       "        <td style=\"padding-left: 1em; padding-right: 1em; text-align: center; vertical-align: top\">592</td>\n",
       "        <td style=\"padding-left: 1em; padding-right: 1em; text-align: center; vertical-align: top\">0.258822802168</td>\n",
       "        <td style=\"padding-left: 1em; padding-right: 1em; text-align: center; vertical-align: top\">1</td>\n",
       "    </tr>\n",
       "    <tr>\n",
       "        <td style=\"padding-left: 1em; padding-right: 1em; text-align: center; vertical-align: top\">75</td>\n",
       "        <td style=\"padding-left: 1em; padding-right: 1em; text-align: center; vertical-align: top\">1580</td>\n",
       "        <td style=\"padding-left: 1em; padding-right: 1em; text-align: center; vertical-align: top\">0.254563856583</td>\n",
       "        <td style=\"padding-left: 1em; padding-right: 1em; text-align: center; vertical-align: top\">2</td>\n",
       "    </tr>\n",
       "    <tr>\n",
       "        <td style=\"padding-left: 1em; padding-right: 1em; text-align: center; vertical-align: top\">75</td>\n",
       "        <td style=\"padding-left: 1em; padding-right: 1em; text-align: center; vertical-align: top\">648</td>\n",
       "        <td style=\"padding-left: 1em; padding-right: 1em; text-align: center; vertical-align: top\">0.25440359918</td>\n",
       "        <td style=\"padding-left: 1em; padding-right: 1em; text-align: center; vertical-align: top\">3</td>\n",
       "    </tr>\n",
       "    <tr>\n",
       "        <td style=\"padding-left: 1em; padding-right: 1em; text-align: center; vertical-align: top\">75</td>\n",
       "        <td style=\"padding-left: 1em; padding-right: 1em; text-align: center; vertical-align: top\">1240</td>\n",
       "        <td style=\"padding-left: 1em; padding-right: 1em; text-align: center; vertical-align: top\">0.252034544945</td>\n",
       "        <td style=\"padding-left: 1em; padding-right: 1em; text-align: center; vertical-align: top\">4</td>\n",
       "    </tr>\n",
       "    <tr>\n",
       "        <td style=\"padding-left: 1em; padding-right: 1em; text-align: center; vertical-align: top\">75</td>\n",
       "        <td style=\"padding-left: 1em; padding-right: 1em; text-align: center; vertical-align: top\">2628</td>\n",
       "        <td style=\"padding-left: 1em; padding-right: 1em; text-align: center; vertical-align: top\">0.251483353285</td>\n",
       "        <td style=\"padding-left: 1em; padding-right: 1em; text-align: center; vertical-align: top\">5</td>\n",
       "    </tr>\n",
       "    <tr>\n",
       "        <td style=\"padding-left: 1em; padding-right: 1em; text-align: center; vertical-align: top\">75</td>\n",
       "        <td style=\"padding-left: 1em; padding-right: 1em; text-align: center; vertical-align: top\">5349</td>\n",
       "        <td style=\"padding-left: 1em; padding-right: 1em; text-align: center; vertical-align: top\">0.241107345774</td>\n",
       "        <td style=\"padding-left: 1em; padding-right: 1em; text-align: center; vertical-align: top\">6</td>\n",
       "    </tr>\n",
       "    <tr>\n",
       "        <td style=\"padding-left: 1em; padding-right: 1em; text-align: center; vertical-align: top\">75</td>\n",
       "        <td style=\"padding-left: 1em; padding-right: 1em; text-align: center; vertical-align: top\">1291</td>\n",
       "        <td style=\"padding-left: 1em; padding-right: 1em; text-align: center; vertical-align: top\">0.240317256405</td>\n",
       "        <td style=\"padding-left: 1em; padding-right: 1em; text-align: center; vertical-align: top\">7</td>\n",
       "    </tr>\n",
       "    <tr>\n",
       "        <td style=\"padding-left: 1em; padding-right: 1em; text-align: center; vertical-align: top\">75</td>\n",
       "        <td style=\"padding-left: 1em; padding-right: 1em; text-align: center; vertical-align: top\">377</td>\n",
       "        <td style=\"padding-left: 1em; padding-right: 1em; text-align: center; vertical-align: top\">0.2379332884</td>\n",
       "        <td style=\"padding-left: 1em; padding-right: 1em; text-align: center; vertical-align: top\">8</td>\n",
       "    </tr>\n",
       "    <tr>\n",
       "        <td style=\"padding-left: 1em; padding-right: 1em; text-align: center; vertical-align: top\">75</td>\n",
       "        <td style=\"padding-left: 1em; padding-right: 1em; text-align: center; vertical-align: top\">260</td>\n",
       "        <td style=\"padding-left: 1em; padding-right: 1em; text-align: center; vertical-align: top\">0.237320417395</td>\n",
       "        <td style=\"padding-left: 1em; padding-right: 1em; text-align: center; vertical-align: top\">9</td>\n",
       "    </tr>\n",
       "    <tr>\n",
       "        <td style=\"padding-left: 1em; padding-right: 1em; text-align: center; vertical-align: top\">75</td>\n",
       "        <td style=\"padding-left: 1em; padding-right: 1em; text-align: center; vertical-align: top\">2716</td>\n",
       "        <td style=\"padding-left: 1em; padding-right: 1em; text-align: center; vertical-align: top\">0.237303596277</td>\n",
       "        <td style=\"padding-left: 1em; padding-right: 1em; text-align: center; vertical-align: top\">10</td>\n",
       "    </tr>\n",
       "</table>\n",
       "[20350470 rows x 4 columns]<br/>Note: Only the head of the SFrame is printed.<br/>You can use print_rows(num_rows=m, num_columns=n) to print more rows and columns.\n",
       "</div>"
      ],
      "text/plain": [
       "Columns:\n",
       "\tuser_id\tint\n",
       "\titem_id\tint\n",
       "\tscore\tfloat\n",
       "\trank\tint\n",
       "\n",
       "Rows: 20350470\n",
       "\n",
       "Data:\n",
       "+---------+---------+----------------+------+\n",
       "| user_id | item_id |     score      | rank |\n",
       "+---------+---------+----------------+------+\n",
       "|    75   |   592   | 0.258822802168 |  1   |\n",
       "|    75   |   1580  | 0.254563856583 |  2   |\n",
       "|    75   |   648   | 0.25440359918  |  3   |\n",
       "|    75   |   1240  | 0.252034544945 |  4   |\n",
       "|    75   |   2628  | 0.251483353285 |  5   |\n",
       "|    75   |   5349  | 0.241107345774 |  6   |\n",
       "|    75   |   1291  | 0.240317256405 |  7   |\n",
       "|    75   |   377   |  0.2379332884  |  8   |\n",
       "|    75   |   260   | 0.237320417395 |  9   |\n",
       "|    75   |   2716  | 0.237303596277 |  10  |\n",
       "+---------+---------+----------------+------+\n",
       "[20350470 rows x 4 columns]\n",
       "Note: Only the head of the SFrame is printed.\n",
       "You can use print_rows(num_rows=m, num_columns=n) to print more rows and columns."
      ]
     },
     "execution_count": 26,
     "metadata": {},
     "output_type": "execute_result"
    }
   ],
   "source": [
    "recs"
   ]
  },
  {
   "cell_type": "code",
   "execution_count": 27,
   "metadata": {
    "ExecuteTime": {
     "end_time": "2018-10-30T19:30:53.716173Z",
     "start_time": "2018-10-30T19:30:02.139556Z"
    }
   },
   "outputs": [],
   "source": [
    "item_based_recommendations = pd.DataFrame.from_dict({\n",
    "    col: recs[col] for col in recs.column_names()\n",
    "    \n",
    "}).rename(columns={'user_id': 'userID', 'item_id': 'movieID'})"
   ]
  },
  {
   "cell_type": "code",
   "execution_count": 28,
   "metadata": {
    "ExecuteTime": {
     "end_time": "2018-10-30T19:31:21.501034Z",
     "start_time": "2018-10-30T19:30:53.718607Z"
    }
   },
   "outputs": [
    {
     "data": {
      "text/plain": [
       "0.00010758472296933836"
      ]
     },
     "execution_count": 28,
     "metadata": {},
     "output_type": "execute_result"
    }
   ],
   "source": [
    "calc_map(item_based_recommendations)"
   ]
  },
  {
   "cell_type": "markdown",
   "metadata": {},
   "source": [
    "### Matrix factorization\n",
    "\n",
    "**Задание 3 (3 балла)** Разложите матрицу рейтингов с помощью [разреженного SVD](http://scikit-learn.org/stable/modules/generated/sklearn.decomposition.TruncatedSVD.html) и, восстановив ее, получите предсказания рейтингов для всех пар пользователь-объект. В данном случае неизвестные рейтинги заполняются нулями, а затем восстанавливаются с помощью SVD (этот метод называется PureSVD). Рассмотрите 5 различных значений ранга разложения. Оцените качество рекомендаций, используя описанные выше метрики. Для обеих метрик постройте графики зависимости качества алгоритма от выбранного ранга разложения. \n",
    "\n",
    "Как значение ранга влияет на метрики? Не забывайте делать аргументированные выводы на основании полученных результатов."
   ]
  },
  {
   "cell_type": "code",
   "execution_count": 17,
   "metadata": {
    "ExecuteTime": {
     "end_time": "2018-11-06T16:17:23.659227Z",
     "start_time": "2018-11-06T16:17:11.853694Z"
    }
   },
   "outputs": [],
   "source": [
    "from sklearn.decomposition import TruncatedSVD\n",
    "from sklearn.utils.extmath import randomized_svd"
   ]
  },
  {
   "cell_type": "code",
   "execution_count": 18,
   "metadata": {
    "ExecuteTime": {
     "end_time": "2018-11-06T16:17:25.686409Z",
     "start_time": "2018-11-06T16:17:23.662232Z"
    }
   },
   "outputs": [],
   "source": [
    "u, s, d = randomized_svd(train_ratings, 10)"
   ]
  },
  {
   "cell_type": "code",
   "execution_count": 19,
   "metadata": {
    "ExecuteTime": {
     "end_time": "2018-11-06T16:17:25.808551Z",
     "start_time": "2018-11-06T16:17:25.687412Z"
    }
   },
   "outputs": [],
   "source": [
    "ratings_restored = np.dot(u * s, d)"
   ]
  },
  {
   "cell_type": "code",
   "execution_count": 20,
   "metadata": {
    "ExecuteTime": {
     "end_time": "2018-11-06T16:17:25.986565Z",
     "start_time": "2018-11-06T16:17:25.810554Z"
    }
   },
   "outputs": [],
   "source": [
    "ratings_pred = pd.DataFrame(ratings_restored, index=train_ratings_pivot.index, columns=train_ratings_pivot.columns)"
   ]
  },
  {
   "cell_type": "code",
   "execution_count": 21,
   "metadata": {
    "ExecuteTime": {
     "end_time": "2018-11-06T16:17:28.074624Z",
     "start_time": "2018-11-06T16:17:25.988569Z"
    }
   },
   "outputs": [],
   "source": [
    "ddd = ratings_pred[train_ratings_pivot.isnull()].stack().to_frame('score').reset_index()"
   ]
  },
  {
   "cell_type": "code",
   "execution_count": 22,
   "metadata": {
    "ExecuteTime": {
     "end_time": "2018-11-06T16:17:31.619224Z",
     "start_time": "2018-11-06T16:17:28.076630Z"
    }
   },
   "outputs": [],
   "source": [
    "ddd['rank'] = ddd.groupby('userID').score.apply(lambda df: np.argsort(-df))"
   ]
  },
  {
   "cell_type": "code",
   "execution_count": 45,
   "metadata": {
    "ExecuteTime": {
     "end_time": "2018-11-06T16:25:16.811122Z",
     "start_time": "2018-11-06T16:25:11.831852Z"
    }
   },
   "outputs": [
    {
     "data": {
      "text/plain": [
       "0.0010514995796254032"
      ]
     },
     "execution_count": 45,
     "metadata": {},
     "output_type": "execute_result"
    }
   ],
   "source": [
    "calc_map(ddd)"
   ]
  },
  {
   "cell_type": "markdown",
   "metadata": {},
   "source": [
    "**Задание 4 (4 балла)** В пакете GraphLab Create также есть встроенный алгоритм рекомендации  [RankingFactorizationRecommender](https://turi.com/products/create/docs/generated/graphlab.recommender.ranking_factorization_recommender.RankingFactorizationRecommender.html) ([о том как его создавать](https://turi.com/products/create/docs/generated/graphlab.recommender.ranking_factorization_recommender.create.html#graphlab.recommender.ranking_factorization_recommender.create)). Проведите эксперименты из предыдущего задания для этого алгоритма рекомендаций, рассмотрев как влияют различные параметры на результат. Сравните их с полученными ранее результатами.\n",
    "\n",
    "Описание параметров алгоритма можно найти [здесь](https://turi.com/products/create/docs/generated/graphlab.recommender.ranking_factorization_recommender.create.html). Мы рекомендуем при проведении экспериментов обратить внимание на некоторые из следующих параметров:\n",
    " - binary_targets\n",
    " - num_factors\n",
    " - ranking_regularization\n",
    " - unobserved_rating_value\n",
    " - num_sampled_negative_examples"
   ]
  },
  {
   "cell_type": "code",
   "execution_count": 29,
   "metadata": {
    "ExecuteTime": {
     "end_time": "2018-10-30T19:33:47.743141Z",
     "start_time": "2018-10-30T19:33:40.063308Z"
    }
   },
   "outputs": [
    {
     "data": {
      "text/html": [
       "<pre>Recsys training: model = ranking_factorization_recommender</pre>"
      ],
      "text/plain": [
       "Recsys training: model = ranking_factorization_recommender"
      ]
     },
     "metadata": {},
     "output_type": "display_data"
    },
    {
     "data": {
      "text/html": [
       "<pre>Preparing data set.</pre>"
      ],
      "text/plain": [
       "Preparing data set."
      ]
     },
     "metadata": {},
     "output_type": "display_data"
    },
    {
     "data": {
      "text/html": [
       "<pre>    Data has 849259 observations with 2113 users and 10033 items.</pre>"
      ],
      "text/plain": [
       "    Data has 849259 observations with 2113 users and 10033 items."
      ]
     },
     "metadata": {},
     "output_type": "display_data"
    },
    {
     "data": {
      "text/html": [
       "<pre>    Data prepared in: 0.344096s</pre>"
      ],
      "text/plain": [
       "    Data prepared in: 0.344096s"
      ]
     },
     "metadata": {},
     "output_type": "display_data"
    },
    {
     "data": {
      "text/html": [
       "<pre>Training ranking_factorization_recommender for recommendations.</pre>"
      ],
      "text/plain": [
       "Training ranking_factorization_recommender for recommendations."
      ]
     },
     "metadata": {},
     "output_type": "display_data"
    },
    {
     "data": {
      "text/html": [
       "<pre>+--------------------------------+--------------------------------------------------+----------+</pre>"
      ],
      "text/plain": [
       "+--------------------------------+--------------------------------------------------+----------+"
      ]
     },
     "metadata": {},
     "output_type": "display_data"
    },
    {
     "data": {
      "text/html": [
       "<pre>| Parameter                      | Description                                      | Value    |</pre>"
      ],
      "text/plain": [
       "| Parameter                      | Description                                      | Value    |"
      ]
     },
     "metadata": {},
     "output_type": "display_data"
    },
    {
     "data": {
      "text/html": [
       "<pre>+--------------------------------+--------------------------------------------------+----------+</pre>"
      ],
      "text/plain": [
       "+--------------------------------+--------------------------------------------------+----------+"
      ]
     },
     "metadata": {},
     "output_type": "display_data"
    },
    {
     "data": {
      "text/html": [
       "<pre>| num_factors                    | Factor Dimension                                 | 32       |</pre>"
      ],
      "text/plain": [
       "| num_factors                    | Factor Dimension                                 | 32       |"
      ]
     },
     "metadata": {},
     "output_type": "display_data"
    },
    {
     "data": {
      "text/html": [
       "<pre>| regularization                 | L2 Regularization on Factors                     | 1e-09    |</pre>"
      ],
      "text/plain": [
       "| regularization                 | L2 Regularization on Factors                     | 1e-09    |"
      ]
     },
     "metadata": {},
     "output_type": "display_data"
    },
    {
     "data": {
      "text/html": [
       "<pre>| solver                         | Solver used for training                         | sgd      |</pre>"
      ],
      "text/plain": [
       "| solver                         | Solver used for training                         | sgd      |"
      ]
     },
     "metadata": {},
     "output_type": "display_data"
    },
    {
     "data": {
      "text/html": [
       "<pre>| linear_regularization          | L2 Regularization on Linear Coefficients         | 1e-09    |</pre>"
      ],
      "text/plain": [
       "| linear_regularization          | L2 Regularization on Linear Coefficients         | 1e-09    |"
      ]
     },
     "metadata": {},
     "output_type": "display_data"
    },
    {
     "data": {
      "text/html": [
       "<pre>| ranking_regularization         | Rank-based Regularization Weight                 | 0.25     |</pre>"
      ],
      "text/plain": [
       "| ranking_regularization         | Rank-based Regularization Weight                 | 0.25     |"
      ]
     },
     "metadata": {},
     "output_type": "display_data"
    },
    {
     "data": {
      "text/html": [
       "<pre>| max_iterations                 | Maximum Number of Iterations                     | 25       |</pre>"
      ],
      "text/plain": [
       "| max_iterations                 | Maximum Number of Iterations                     | 25       |"
      ]
     },
     "metadata": {},
     "output_type": "display_data"
    },
    {
     "data": {
      "text/html": [
       "<pre>+--------------------------------+--------------------------------------------------+----------+</pre>"
      ],
      "text/plain": [
       "+--------------------------------+--------------------------------------------------+----------+"
      ]
     },
     "metadata": {},
     "output_type": "display_data"
    },
    {
     "data": {
      "text/html": [
       "<pre>  Optimizing model using SGD; tuning step size.</pre>"
      ],
      "text/plain": [
       "  Optimizing model using SGD; tuning step size."
      ]
     },
     "metadata": {},
     "output_type": "display_data"
    },
    {
     "data": {
      "text/html": [
       "<pre>  Using 106157 / 849259 points for tuning the step size.</pre>"
      ],
      "text/plain": [
       "  Using 106157 / 849259 points for tuning the step size."
      ]
     },
     "metadata": {},
     "output_type": "display_data"
    },
    {
     "data": {
      "text/html": [
       "<pre>+---------+-------------------+------------------------------------------+</pre>"
      ],
      "text/plain": [
       "+---------+-------------------+------------------------------------------+"
      ]
     },
     "metadata": {},
     "output_type": "display_data"
    },
    {
     "data": {
      "text/html": [
       "<pre>| Attempt | Initial Step Size | Estimated Objective Value                |</pre>"
      ],
      "text/plain": [
       "| Attempt | Initial Step Size | Estimated Objective Value                |"
      ]
     },
     "metadata": {},
     "output_type": "display_data"
    },
    {
     "data": {
      "text/html": [
       "<pre>+---------+-------------------+------------------------------------------+</pre>"
      ],
      "text/plain": [
       "+---------+-------------------+------------------------------------------+"
      ]
     },
     "metadata": {},
     "output_type": "display_data"
    },
    {
     "data": {
      "text/html": [
       "<pre>| 0       | 25                | Not Viable                               |</pre>"
      ],
      "text/plain": [
       "| 0       | 25                | Not Viable                               |"
      ]
     },
     "metadata": {},
     "output_type": "display_data"
    },
    {
     "data": {
      "text/html": [
       "<pre>| 1       | 6.25              | Not Viable                               |</pre>"
      ],
      "text/plain": [
       "| 1       | 6.25              | Not Viable                               |"
      ]
     },
     "metadata": {},
     "output_type": "display_data"
    },
    {
     "data": {
      "text/html": [
       "<pre>| 2       | 1.5625            | Not Viable                               |</pre>"
      ],
      "text/plain": [
       "| 2       | 1.5625            | Not Viable                               |"
      ]
     },
     "metadata": {},
     "output_type": "display_data"
    },
    {
     "data": {
      "text/html": [
       "<pre>| 3       | 0.390625          | Not Viable                               |</pre>"
      ],
      "text/plain": [
       "| 3       | 0.390625          | Not Viable                               |"
      ]
     },
     "metadata": {},
     "output_type": "display_data"
    },
    {
     "data": {
      "text/html": [
       "<pre>| 4       | 0.0976562         | 1.35529                                  |</pre>"
      ],
      "text/plain": [
       "| 4       | 0.0976562         | 1.35529                                  |"
      ]
     },
     "metadata": {},
     "output_type": "display_data"
    },
    {
     "data": {
      "text/html": [
       "<pre>| 5       | 0.0488281         | 1.40717                                  |</pre>"
      ],
      "text/plain": [
       "| 5       | 0.0488281         | 1.40717                                  |"
      ]
     },
     "metadata": {},
     "output_type": "display_data"
    },
    {
     "data": {
      "text/html": [
       "<pre>| 6       | 0.0244141         | 1.41263                                  |</pre>"
      ],
      "text/plain": [
       "| 6       | 0.0244141         | 1.41263                                  |"
      ]
     },
     "metadata": {},
     "output_type": "display_data"
    },
    {
     "data": {
      "text/html": [
       "<pre>| 7       | 0.012207          | 1.4373                                   |</pre>"
      ],
      "text/plain": [
       "| 7       | 0.012207          | 1.4373                                   |"
      ]
     },
     "metadata": {},
     "output_type": "display_data"
    },
    {
     "data": {
      "text/html": [
       "<pre>+---------+-------------------+------------------------------------------+</pre>"
      ],
      "text/plain": [
       "+---------+-------------------+------------------------------------------+"
      ]
     },
     "metadata": {},
     "output_type": "display_data"
    },
    {
     "data": {
      "text/html": [
       "<pre>| Final   | 0.0976562         | 1.35529                                  |</pre>"
      ],
      "text/plain": [
       "| Final   | 0.0976562         | 1.35529                                  |"
      ]
     },
     "metadata": {},
     "output_type": "display_data"
    },
    {
     "data": {
      "text/html": [
       "<pre>+---------+-------------------+------------------------------------------+</pre>"
      ],
      "text/plain": [
       "+---------+-------------------+------------------------------------------+"
      ]
     },
     "metadata": {},
     "output_type": "display_data"
    },
    {
     "data": {
      "text/html": [
       "<pre>Starting Optimization.</pre>"
      ],
      "text/plain": [
       "Starting Optimization."
      ]
     },
     "metadata": {},
     "output_type": "display_data"
    },
    {
     "data": {
      "text/html": [
       "<pre>+---------+--------------+-------------------+-----------------------+-------------+</pre>"
      ],
      "text/plain": [
       "+---------+--------------+-------------------+-----------------------+-------------+"
      ]
     },
     "metadata": {},
     "output_type": "display_data"
    },
    {
     "data": {
      "text/html": [
       "<pre>| Iter.   | Elapsed Time | Approx. Objective | Approx. Training RMSE | Step Size   |</pre>"
      ],
      "text/plain": [
       "| Iter.   | Elapsed Time | Approx. Objective | Approx. Training RMSE | Step Size   |"
      ]
     },
     "metadata": {},
     "output_type": "display_data"
    },
    {
     "data": {
      "text/html": [
       "<pre>+---------+--------------+-------------------+-----------------------+-------------+</pre>"
      ],
      "text/plain": [
       "+---------+--------------+-------------------+-----------------------+-------------+"
      ]
     },
     "metadata": {},
     "output_type": "display_data"
    },
    {
     "data": {
      "text/html": [
       "<pre>| Initial | 75us         | 1.9698            | 1.00232               |             |</pre>"
      ],
      "text/plain": [
       "| Initial | 75us         | 1.9698            | 1.00232               |             |"
      ]
     },
     "metadata": {},
     "output_type": "display_data"
    },
    {
     "data": {
      "text/html": [
       "<pre>+---------+--------------+-------------------+-----------------------+-------------+</pre>"
      ],
      "text/plain": [
       "+---------+--------------+-------------------+-----------------------+-------------+"
      ]
     },
     "metadata": {},
     "output_type": "display_data"
    },
    {
     "data": {
      "text/html": [
       "<pre>| 1       | 239.238ms    | DIVERGED          | DIVERGED              | 0.0976562   |</pre>"
      ],
      "text/plain": [
       "| 1       | 239.238ms    | DIVERGED          | DIVERGED              | 0.0976562   |"
      ]
     },
     "metadata": {},
     "output_type": "display_data"
    },
    {
     "data": {
      "text/html": [
       "<pre>| RESET   | 315.26ms     | 1.96978           | 1.00232               |             |</pre>"
      ],
      "text/plain": [
       "| RESET   | 315.26ms     | 1.96978           | 1.00232               |             |"
      ]
     },
     "metadata": {},
     "output_type": "display_data"
    },
    {
     "data": {
      "text/html": [
       "<pre>| 1       | 498.751ms    | 1.34879           | 0.936935              | 0.0488281   |</pre>"
      ],
      "text/plain": [
       "| 1       | 498.751ms    | 1.34879           | 0.936935              | 0.0488281   |"
      ]
     },
     "metadata": {},
     "output_type": "display_data"
    },
    {
     "data": {
      "text/html": [
       "<pre>| 2       | 657.677ms    | 1.17524           | 0.880315              | 0.0290334   |</pre>"
      ],
      "text/plain": [
       "| 2       | 657.677ms    | 1.17524           | 0.880315              | 0.0290334   |"
      ]
     },
     "metadata": {},
     "output_type": "display_data"
    },
    {
     "data": {
      "text/html": [
       "<pre>| 3       | 815.902ms    | 1.09168           | 0.845532              | 0.0214205   |</pre>"
      ],
      "text/plain": [
       "| 3       | 815.902ms    | 1.09168           | 0.845532              | 0.0214205   |"
      ]
     },
     "metadata": {},
     "output_type": "display_data"
    },
    {
     "data": {
      "text/html": [
       "<pre>| 4       | 976.947ms    | 1.02987           | 0.818116              | 0.0172633   |</pre>"
      ],
      "text/plain": [
       "| 4       | 976.947ms    | 1.02987           | 0.818116              | 0.0172633   |"
      ]
     },
     "metadata": {},
     "output_type": "display_data"
    },
    {
     "data": {
      "text/html": [
       "<pre>| 5       | 1.15s        | 0.980675          | 0.795431              | 0.014603    |</pre>"
      ],
      "text/plain": [
       "| 5       | 1.15s        | 0.980675          | 0.795431              | 0.014603    |"
      ]
     },
     "metadata": {},
     "output_type": "display_data"
    },
    {
     "data": {
      "text/html": [
       "<pre>| 6       | 1.32s        | 0.941577          | 0.776397              | 0.0127367   |</pre>"
      ],
      "text/plain": [
       "| 6       | 1.32s        | 0.941577          | 0.776397              | 0.0127367   |"
      ]
     },
     "metadata": {},
     "output_type": "display_data"
    },
    {
     "data": {
      "text/html": [
       "<pre>| 9       | 1.78s        | 0.871137          | 0.741767              | 0.00939698  |</pre>"
      ],
      "text/plain": [
       "| 9       | 1.78s        | 0.871137          | 0.741767              | 0.00939698  |"
      ]
     },
     "metadata": {},
     "output_type": "display_data"
    },
    {
     "data": {
      "text/html": [
       "<pre>| 11      | 2.09s        | 0.847835          | 0.729987              | 0.00808399  |</pre>"
      ],
      "text/plain": [
       "| 11      | 2.09s        | 0.847835          | 0.729987              | 0.00808399  |"
      ]
     },
     "metadata": {},
     "output_type": "display_data"
    },
    {
     "data": {
      "text/html": [
       "<pre>| 19      | 3.30s        | 0.802183          | 0.706195              | 0.00536543  |</pre>"
      ],
      "text/plain": [
       "| 19      | 3.30s        | 0.802183          | 0.706195              | 0.00536543  |"
      ]
     },
     "metadata": {},
     "output_type": "display_data"
    },
    {
     "data": {
      "text/html": [
       "<pre>+---------+--------------+-------------------+-----------------------+-------------+</pre>"
      ],
      "text/plain": [
       "+---------+--------------+-------------------+-----------------------+-------------+"
      ]
     },
     "metadata": {},
     "output_type": "display_data"
    },
    {
     "data": {
      "text/html": [
       "<pre>Optimization Complete: Maximum number of passes through the data reached.</pre>"
      ],
      "text/plain": [
       "Optimization Complete: Maximum number of passes through the data reached."
      ]
     },
     "metadata": {},
     "output_type": "display_data"
    },
    {
     "data": {
      "text/html": [
       "<pre>Computing final objective value and training RMSE.</pre>"
      ],
      "text/plain": [
       "Computing final objective value and training RMSE."
      ]
     },
     "metadata": {},
     "output_type": "display_data"
    },
    {
     "data": {
      "text/html": [
       "<pre>       Final objective value: 0.778866</pre>"
      ],
      "text/plain": [
       "       Final objective value: 0.778866"
      ]
     },
     "metadata": {},
     "output_type": "display_data"
    },
    {
     "data": {
      "text/html": [
       "<pre>       Final training RMSE: 0.672758</pre>"
      ],
      "text/plain": [
       "       Final training RMSE: 0.672758"
      ]
     },
     "metadata": {},
     "output_type": "display_data"
    },
    {
     "data": {
      "text/html": [
       "<pre>recommendations finished on 1000/2113 queries. users per second: 1792.02</pre>"
      ],
      "text/plain": [
       "recommendations finished on 1000/2113 queries. users per second: 1792.02"
      ]
     },
     "metadata": {},
     "output_type": "display_data"
    },
    {
     "data": {
      "text/html": [
       "<pre>recommendations finished on 2000/2113 queries. users per second: 1819.26</pre>"
      ],
      "text/plain": [
       "recommendations finished on 2000/2113 queries. users per second: 1819.26"
      ]
     },
     "metadata": {},
     "output_type": "display_data"
    },
    {
     "name": "stdout",
     "output_type": "stream",
     "text": [
      "+---------+---------+---------------+------+\n",
      "| user_id | item_id |     score     | rank |\n",
      "+---------+---------+---------------+------+\n",
      "|    75   |   2167  | 4.55986829274 |  1   |\n",
      "|    75   |   1676  | 4.39376469128 |  2   |\n",
      "|    75   |   3275  | 4.38749714368 |  3   |\n",
      "|    75   |   3265  | 4.32736392491 |  4   |\n",
      "|    75   |   3527  | 4.30602093213 |  5   |\n",
      "|    75   |   5903  | 4.29136105054 |  6   |\n",
      "|    75   |   4011  | 4.24588675969 |  7   |\n",
      "|    75   |   4387  | 4.23835487836 |  8   |\n",
      "|    75   |   1089  | 4.20452042096 |  9   |\n",
      "|    75   |   3020  | 4.20266027921 |  10  |\n",
      "+---------+---------+---------------+------+\n",
      "[20350470 rows x 4 columns]\n",
      "Note: Only the head of the SFrame is printed.\n",
      "You can use print_rows(num_rows=m, num_columns=n) to print more rows and columns.\n"
     ]
    }
   ],
   "source": [
    "sf = graphlab.SFrame({'user_id': train.userID,\n",
    "                      'item_id': train.movieID,\n",
    "                      'rating': train.rating})\n",
    "rfr = graphlab.recommender.ranking_factorization_recommender.create(sf, target='rating')\n",
    "recs2 = rfr.recommend(k=train.movieID.nunique())\n",
    "print recs2"
   ]
  },
  {
   "cell_type": "code",
   "execution_count": 30,
   "metadata": {
    "ExecuteTime": {
     "end_time": "2018-10-30T19:34:54.152385Z",
     "start_time": "2018-10-30T19:33:59.883936Z"
    }
   },
   "outputs": [],
   "source": [
    "rfr_recommendations = pd.DataFrame.from_dict({\n",
    "    col: recs2[col] for col in recs2.column_names()\n",
    "    \n",
    "}).rename(columns={'user_id': 'userID', 'item_id': 'movieID'})"
   ]
  },
  {
   "cell_type": "code",
   "execution_count": 31,
   "metadata": {
    "ExecuteTime": {
     "end_time": "2018-10-30T19:35:22.845185Z",
     "start_time": "2018-10-30T19:34:54.155585Z"
    }
   },
   "outputs": [
    {
     "data": {
      "text/plain": [
       "0.00010758472296933836"
      ]
     },
     "execution_count": 31,
     "metadata": {},
     "output_type": "execute_result"
    }
   ],
   "source": [
    "calc_map(rfr_recommendations)"
   ]
  },
  {
   "cell_type": "markdown",
   "metadata": {},
   "source": [
    "## Категориальные и разреженные признаки (10 баллов)\n",
    "\n",
    "В этой части задания мы рассмотрим несколько подходов к работе с категориальными и разреженными признаками. В данном случае это id-пользователя и id-фильма, а также предлагаем на ваше усмотрение добавить один или несколько признаков из имеющихся данных, например: жанр фильма, киноперсоны из фильма, последний оцененный пользователем фильм, средняя оценка пользователя, ...\n",
    "\n",
    "Для выбранного набора/наборов признаков будет необходимо построить рекомендательные системы, используя библиотеки [Vopwal Wabbit](https://github.com/JohnLangford/vowpal_wabbit/wiki), [LibFM](http://libfm.org) и [xgboost](https://github.com/dmlc/xgboost). При работе с этими библиотеками не забывайте, что консольные комманды нужно исполнять прямо из ipython-notebook'а, чтобы история ваших запусков сохранилась и проверяющие могли её оценить."
   ]
  },
  {
   "cell_type": "markdown",
   "metadata": {},
   "source": [
    "### Разреженные признаки\n",
    "\n",
    "В данной части раьоты вам необходимо создать разреженную матрицу данных, закодировав каждый из категориальных признаков вектором чисел. Примером может служить следующая иллюстрация добавления различных признаков:\n",
    "\n",
    "![](http://i.imgur.com/7nUMFx5.png)\n",
    "\n",
    "Здесь, для наглядности, вся матрица объект-признак разбита на части, каждая из которых соответствует одному или группе категориальных признаков. Например, часть *User* соответствует закодированному признаку *user_id*, часть *Movie* — признаку *movie_id*, *Other movies rated* содержит в себе оценки пользователя другим фильмам, а *Last movie rated* соответствует признаку \"последний оцененный пользователем фильм\"."
   ]
  },
  {
   "cell_type": "markdown",
   "metadata": {},
   "source": [
    "#### Vowpal Wabbit\n",
    "\n",
    "С этой библиотекой вы знакомились в рамках другой лабораторной работы, где были даны подробне инструкции по ее установке и функциональности.\n",
    "\n",
    "Создайте описанную выше выборку в формате пригодном для обучения модели с помощью Vopwal Wabbit."
   ]
  },
  {
   "cell_type": "code",
   "execution_count": 24,
   "metadata": {
    "ExecuteTime": {
     "end_time": "2018-11-06T16:17:37.882749Z",
     "start_time": "2018-11-06T16:17:36.717949Z"
    }
   },
   "outputs": [],
   "source": [
    "from sklearn.datasets import dump_svmlight_file, load_svmlight_file"
   ]
  },
  {
   "cell_type": "code",
   "execution_count": 25,
   "metadata": {
    "ExecuteTime": {
     "end_time": "2018-11-06T16:17:37.906815Z",
     "start_time": "2018-11-06T16:17:37.884756Z"
    }
   },
   "outputs": [
    {
     "data": {
      "text/html": [
       "<div>\n",
       "<style scoped>\n",
       "    .dataframe tbody tr th:only-of-type {\n",
       "        vertical-align: middle;\n",
       "    }\n",
       "\n",
       "    .dataframe tbody tr th {\n",
       "        vertical-align: top;\n",
       "    }\n",
       "\n",
       "    .dataframe thead th {\n",
       "        text-align: right;\n",
       "    }\n",
       "</style>\n",
       "<table border=\"1\" class=\"dataframe\">\n",
       "  <thead>\n",
       "    <tr style=\"text-align: right;\">\n",
       "      <th>movieID</th>\n",
       "      <th>1</th>\n",
       "      <th>2</th>\n",
       "      <th>3</th>\n",
       "      <th>4</th>\n",
       "      <th>5</th>\n",
       "      <th>6</th>\n",
       "      <th>7</th>\n",
       "      <th>8</th>\n",
       "      <th>9</th>\n",
       "      <th>10</th>\n",
       "      <th>...</th>\n",
       "      <th>64499</th>\n",
       "      <th>64501</th>\n",
       "      <th>64519</th>\n",
       "      <th>64575</th>\n",
       "      <th>64614</th>\n",
       "      <th>64620</th>\n",
       "      <th>64622</th>\n",
       "      <th>64701</th>\n",
       "      <th>64716</th>\n",
       "      <th>64921</th>\n",
       "    </tr>\n",
       "    <tr>\n",
       "      <th>userID</th>\n",
       "      <th></th>\n",
       "      <th></th>\n",
       "      <th></th>\n",
       "      <th></th>\n",
       "      <th></th>\n",
       "      <th></th>\n",
       "      <th></th>\n",
       "      <th></th>\n",
       "      <th></th>\n",
       "      <th></th>\n",
       "      <th></th>\n",
       "      <th></th>\n",
       "      <th></th>\n",
       "      <th></th>\n",
       "      <th></th>\n",
       "      <th></th>\n",
       "      <th></th>\n",
       "      <th></th>\n",
       "      <th></th>\n",
       "      <th></th>\n",
       "      <th></th>\n",
       "    </tr>\n",
       "  </thead>\n",
       "  <tbody>\n",
       "    <tr>\n",
       "      <th>75</th>\n",
       "      <td>NaN</td>\n",
       "      <td>NaN</td>\n",
       "      <td>1.0</td>\n",
       "      <td>NaN</td>\n",
       "      <td>NaN</td>\n",
       "      <td>NaN</td>\n",
       "      <td>NaN</td>\n",
       "      <td>NaN</td>\n",
       "      <td>NaN</td>\n",
       "      <td>NaN</td>\n",
       "      <td>...</td>\n",
       "      <td>NaN</td>\n",
       "      <td>NaN</td>\n",
       "      <td>NaN</td>\n",
       "      <td>NaN</td>\n",
       "      <td>NaN</td>\n",
       "      <td>NaN</td>\n",
       "      <td>NaN</td>\n",
       "      <td>NaN</td>\n",
       "      <td>NaN</td>\n",
       "      <td>NaN</td>\n",
       "    </tr>\n",
       "    <tr>\n",
       "      <th>78</th>\n",
       "      <td>NaN</td>\n",
       "      <td>NaN</td>\n",
       "      <td>NaN</td>\n",
       "      <td>NaN</td>\n",
       "      <td>NaN</td>\n",
       "      <td>NaN</td>\n",
       "      <td>NaN</td>\n",
       "      <td>NaN</td>\n",
       "      <td>NaN</td>\n",
       "      <td>NaN</td>\n",
       "      <td>...</td>\n",
       "      <td>NaN</td>\n",
       "      <td>NaN</td>\n",
       "      <td>NaN</td>\n",
       "      <td>NaN</td>\n",
       "      <td>NaN</td>\n",
       "      <td>NaN</td>\n",
       "      <td>NaN</td>\n",
       "      <td>NaN</td>\n",
       "      <td>NaN</td>\n",
       "      <td>NaN</td>\n",
       "    </tr>\n",
       "    <tr>\n",
       "      <th>127</th>\n",
       "      <td>NaN</td>\n",
       "      <td>NaN</td>\n",
       "      <td>NaN</td>\n",
       "      <td>NaN</td>\n",
       "      <td>NaN</td>\n",
       "      <td>NaN</td>\n",
       "      <td>NaN</td>\n",
       "      <td>NaN</td>\n",
       "      <td>NaN</td>\n",
       "      <td>NaN</td>\n",
       "      <td>...</td>\n",
       "      <td>NaN</td>\n",
       "      <td>NaN</td>\n",
       "      <td>NaN</td>\n",
       "      <td>NaN</td>\n",
       "      <td>NaN</td>\n",
       "      <td>NaN</td>\n",
       "      <td>NaN</td>\n",
       "      <td>NaN</td>\n",
       "      <td>NaN</td>\n",
       "      <td>NaN</td>\n",
       "    </tr>\n",
       "    <tr>\n",
       "      <th>170</th>\n",
       "      <td>3.0</td>\n",
       "      <td>2.0</td>\n",
       "      <td>NaN</td>\n",
       "      <td>NaN</td>\n",
       "      <td>NaN</td>\n",
       "      <td>NaN</td>\n",
       "      <td>NaN</td>\n",
       "      <td>NaN</td>\n",
       "      <td>NaN</td>\n",
       "      <td>3.5</td>\n",
       "      <td>...</td>\n",
       "      <td>NaN</td>\n",
       "      <td>NaN</td>\n",
       "      <td>NaN</td>\n",
       "      <td>NaN</td>\n",
       "      <td>NaN</td>\n",
       "      <td>NaN</td>\n",
       "      <td>NaN</td>\n",
       "      <td>NaN</td>\n",
       "      <td>NaN</td>\n",
       "      <td>NaN</td>\n",
       "    </tr>\n",
       "    <tr>\n",
       "      <th>175</th>\n",
       "      <td>4.0</td>\n",
       "      <td>NaN</td>\n",
       "      <td>NaN</td>\n",
       "      <td>NaN</td>\n",
       "      <td>NaN</td>\n",
       "      <td>5.0</td>\n",
       "      <td>NaN</td>\n",
       "      <td>NaN</td>\n",
       "      <td>NaN</td>\n",
       "      <td>NaN</td>\n",
       "      <td>...</td>\n",
       "      <td>NaN</td>\n",
       "      <td>NaN</td>\n",
       "      <td>NaN</td>\n",
       "      <td>NaN</td>\n",
       "      <td>NaN</td>\n",
       "      <td>NaN</td>\n",
       "      <td>NaN</td>\n",
       "      <td>NaN</td>\n",
       "      <td>NaN</td>\n",
       "      <td>NaN</td>\n",
       "    </tr>\n",
       "  </tbody>\n",
       "</table>\n",
       "<p>5 rows × 10033 columns</p>\n",
       "</div>"
      ],
      "text/plain": [
       "movieID  1      2      3      4      5      6      7      8      9      10     \\\n",
       "userID                                                                          \n",
       "75         NaN    NaN    1.0    NaN    NaN    NaN    NaN    NaN    NaN    NaN   \n",
       "78         NaN    NaN    NaN    NaN    NaN    NaN    NaN    NaN    NaN    NaN   \n",
       "127        NaN    NaN    NaN    NaN    NaN    NaN    NaN    NaN    NaN    NaN   \n",
       "170        3.0    2.0    NaN    NaN    NaN    NaN    NaN    NaN    NaN    3.5   \n",
       "175        4.0    NaN    NaN    NaN    NaN    5.0    NaN    NaN    NaN    NaN   \n",
       "\n",
       "movieID  ...    64499  64501  64519  64575  64614  64620  64622  64701  64716  \\\n",
       "userID   ...                                                                    \n",
       "75       ...      NaN    NaN    NaN    NaN    NaN    NaN    NaN    NaN    NaN   \n",
       "78       ...      NaN    NaN    NaN    NaN    NaN    NaN    NaN    NaN    NaN   \n",
       "127      ...      NaN    NaN    NaN    NaN    NaN    NaN    NaN    NaN    NaN   \n",
       "170      ...      NaN    NaN    NaN    NaN    NaN    NaN    NaN    NaN    NaN   \n",
       "175      ...      NaN    NaN    NaN    NaN    NaN    NaN    NaN    NaN    NaN   \n",
       "\n",
       "movieID  64921  \n",
       "userID          \n",
       "75         NaN  \n",
       "78         NaN  \n",
       "127        NaN  \n",
       "170        NaN  \n",
       "175        NaN  \n",
       "\n",
       "[5 rows x 10033 columns]"
      ]
     },
     "execution_count": 25,
     "metadata": {},
     "output_type": "execute_result"
    }
   ],
   "source": [
    "train_ratings_pivot.head()"
   ]
  },
  {
   "cell_type": "code",
   "execution_count": 26,
   "metadata": {
    "ExecuteTime": {
     "end_time": "2018-11-06T16:17:38.087236Z",
     "start_time": "2018-11-06T16:17:37.908820Z"
    }
   },
   "outputs": [],
   "source": [
    "from sklearn.preprocessing import OneHotEncoder"
   ]
  },
  {
   "cell_type": "code",
   "execution_count": 27,
   "metadata": {
    "ExecuteTime": {
     "end_time": "2018-11-06T16:17:38.236788Z",
     "start_time": "2018-11-06T16:17:38.089215Z"
    }
   },
   "outputs": [],
   "source": [
    "ohe = OneHotEncoder(sparse=True)\n"
   ]
  },
  {
   "cell_type": "code",
   "execution_count": null,
   "metadata": {
    "ExecuteTime": {
     "end_time": "2018-11-06T16:03:55.533299Z",
     "start_time": "2018-11-06T16:03:46.632191Z"
    }
   },
   "outputs": [],
   "source": []
  },
  {
   "cell_type": "code",
   "execution_count": 28,
   "metadata": {
    "ExecuteTime": {
     "end_time": "2018-11-06T16:17:38.454350Z",
     "start_time": "2018-11-06T16:17:38.239796Z"
    }
   },
   "outputs": [],
   "source": [
    "# test.pivot('userID', 'movieID', 'rating')"
   ]
  },
  {
   "cell_type": "code",
   "execution_count": 29,
   "metadata": {
    "ExecuteTime": {
     "end_time": "2018-11-06T16:17:38.655672Z",
     "start_time": "2018-11-06T16:17:38.456356Z"
    }
   },
   "outputs": [],
   "source": [
    "# test_gen = (train_ratings_pivot.applymap(lambda x: 1) - train_ratings_pivot.notnull().astype(int)).stack().reset_index()"
   ]
  },
  {
   "cell_type": "code",
   "execution_count": 30,
   "metadata": {
    "ExecuteTime": {
     "end_time": "2018-11-06T16:17:39.227078Z",
     "start_time": "2018-11-06T16:17:38.657679Z"
    }
   },
   "outputs": [
    {
     "ename": "NameError",
     "evalue": "name 'test_gen' is not defined",
     "output_type": "error",
     "traceback": [
      "\u001b[1;31m---------------------------------------------------------------------------\u001b[0m",
      "\u001b[1;31mNameError\u001b[0m                                 Traceback (most recent call last)",
      "\u001b[1;32m<ipython-input-30-bac5473c0dba>\u001b[0m in \u001b[0;36m<module>\u001b[1;34m()\u001b[0m\n\u001b[1;32m----> 1\u001b[1;33m \u001b[0mtest_gen\u001b[0m\u001b[1;33m.\u001b[0m\u001b[0mhead\u001b[0m\u001b[1;33m(\u001b[0m\u001b[1;33m)\u001b[0m\u001b[1;33m\u001b[0m\u001b[0m\n\u001b[0m",
      "\u001b[1;31mNameError\u001b[0m: name 'test_gen' is not defined"
     ]
    }
   ],
   "source": [
    "test_gen.head()"
   ]
  },
  {
   "cell_type": "code",
   "execution_count": 31,
   "metadata": {
    "ExecuteTime": {
     "end_time": "2018-11-06T16:22:54.706550Z",
     "start_time": "2018-11-06T16:22:54.486929Z"
    }
   },
   "outputs": [],
   "source": [
    "train_sparse_features = sparse.hstack((\n",
    "    ohe.fit_transform(train[['movieID']]),\n",
    "    ohe.fit_transform(train[['userID']])\n",
    "))\n",
    "test_sparse_features = sparse.hstack((\n",
    "    ohe.fit_transform(test[['movieID']]),\n",
    "    ohe.fit_transform(test[['userID']])\n",
    "))"
   ]
  },
  {
   "cell_type": "code",
   "execution_count": 32,
   "metadata": {
    "ExecuteTime": {
     "end_time": "2018-11-06T16:23:04.409359Z",
     "start_time": "2018-11-06T16:22:54.708557Z"
    }
   },
   "outputs": [],
   "source": [
    "dump_svmlight_file(train_sparse_features, train.rating, './train.libsvm')"
   ]
  },
  {
   "cell_type": "code",
   "execution_count": 33,
   "metadata": {
    "ExecuteTime": {
     "end_time": "2018-11-06T16:23:04.488815Z",
     "start_time": "2018-11-06T16:23:04.411326Z"
    }
   },
   "outputs": [],
   "source": [
    "dump_svmlight_file(test_sparse_features, test.rating, './test.libsvm')"
   ]
  },
  {
   "cell_type": "markdown",
   "metadata": {},
   "source": [
    "**Задание 7 (3 балла)** Обучите **квадратичную модель** на полученной выбороке c помощью Vopwal Wabbit. Посчитайте качество предсказаний."
   ]
  },
  {
   "cell_type": "markdown",
   "metadata": {},
   "source": [
    "### libFm\n",
    "\n",
    "Библиотека [libFM](http://libfm.org) реализует общий подход к задачам с категориальными признаками, в основе которого лежат факторизационные машины. В данном дистрибутиве реализованы такие методы как stochastic gradient descent ([SGD](https://en.wikipedia.org/wiki/Stochastic_gradient_descent)), alternating least squares ([ALS](https://arxiv.org/pdf/1206.2493.pdf)), а также Bayesian inference using Markov Chain Monte Carlo ([MCMC](https://en.wikipedia.org/wiki/Markov_chain_Monte_Carlo)). \n",
    "Подробную информацию можно найти в [мануале](http://www.libfm.org/libfm-1.42.manual.pdf).\n",
    "\n",
    "libFm принимает данные в следующем формате:\n",
    "\n",
    "    <target> <feature-id>:<feature-value> <feature-id>:<feature-value> ...\n",
    "\n",
    "Например:\n",
    "\n",
    "    4 0:1.5 3:-7.9\n",
    "    2 1:1e-5 3:2\n",
    "    -1 6:1\n",
    "\n",
    "Если признак не указан, то он считается равным нулю. Таким образом, закодированный категориальный признак можно задать одной записью, например: \n",
    "\n",
    "    <user-id>:1.0"
   ]
  },
  {
   "cell_type": "markdown",
   "metadata": {},
   "source": [
    "Создайте описанную выше выборку в формате пригодном для LibFM."
   ]
  },
  {
   "cell_type": "markdown",
   "metadata": {},
   "source": [
    "**Задание 8 (3 балла)** Постройте предсказания оценок при помощи факторизационных машин, используя библиотеку LibFM. Выберете наиболее подходящий метод обучения. Посчитайте качество построенной модели."
   ]
  },
  {
   "cell_type": "code",
   "execution_count": 34,
   "metadata": {
    "ExecuteTime": {
     "end_time": "2018-11-06T16:23:44.197622Z",
     "start_time": "2018-11-06T16:23:04.490389Z"
    }
   },
   "outputs": [
    {
     "name": "stdout",
     "output_type": "stream",
     "text": [
      "----------------------------------------------------------------------------\n",
      "libFM\n",
      "  Version: 1.40\n",
      "  Author:  Steffen Rendle, steffen.rendle@uni-konstanz.de\n",
      "  WWW:     http://www.libfm.org/\n",
      "  License: Free for academic use. See license.txt.\n",
      "----------------------------------------------------------------------------\n",
      "Loading train...\t\n",
      "has x = 0\n",
      "has xt = 1\n",
      "num_rows=849259\tnum_values=1698518\tnum_features=12146\tmin_target=0.5\tmax_target=5\n",
      "Loading test... \t\n",
      "has x = 0\n",
      "has xt = 1\n",
      "num_rows=6339\tnum_values=12678\tnum_features=3225\tmin_target=0.5\tmax_target=5\n",
      "#relations: 0\n",
      "Loading meta data...\t\n",
      "#Iter=  0\tTrain=2.01657\tTest=3.08556\n",
      "#Iter=  1\tTrain=0.910358\tTest=2.25829\n",
      "#Iter=  2\tTrain=0.805291\tTest=1.70681\n",
      "#Iter=  3\tTrain=0.798861\tTest=1.45793\n",
      "#Iter=  4\tTrain=0.798074\tTest=1.34018\n",
      "#Iter=  5\tTrain=0.79513\tTest=1.28308\n",
      "#Iter=  6\tTrain=0.787457\tTest=1.25565\n",
      "#Iter=  7\tTrain=0.777755\tTest=1.24301\n",
      "#Iter=  8\tTrain=0.769585\tTest=1.23513\n",
      "#Iter=  9\tTrain=0.762409\tTest=1.2328\n",
      "#Iter= 10\tTrain=0.754881\tTest=1.23186\n",
      "#Iter= 11\tTrain=0.748738\tTest=1.23143\n",
      "#Iter= 12\tTrain=0.743306\tTest=1.23153\n",
      "#Iter= 13\tTrain=0.738695\tTest=1.23109\n",
      "#Iter= 14\tTrain=0.735064\tTest=1.23191\n",
      "#Iter= 15\tTrain=0.731934\tTest=1.23245\n",
      "#Iter= 16\tTrain=0.728798\tTest=1.23233\n",
      "#Iter= 17\tTrain=0.725665\tTest=1.23254\n",
      "#Iter= 18\tTrain=0.722556\tTest=1.23303\n",
      "#Iter= 19\tTrain=0.719091\tTest=1.23301\n",
      "#Iter= 20\tTrain=0.716472\tTest=1.23311\n",
      "#Iter= 21\tTrain=0.71415\tTest=1.23332\n",
      "#Iter= 22\tTrain=0.712699\tTest=1.23298\n",
      "#Iter= 23\tTrain=0.711094\tTest=1.23243\n",
      "#Iter= 24\tTrain=0.710176\tTest=1.2322\n",
      "#Iter= 25\tTrain=0.70908\tTest=1.23172\n",
      "#Iter= 26\tTrain=0.708808\tTest=1.23104\n",
      "#Iter= 27\tTrain=0.708338\tTest=1.23077\n",
      "#Iter= 28\tTrain=0.707928\tTest=1.2301\n",
      "#Iter= 29\tTrain=0.707783\tTest=1.22896\n",
      "#Iter= 30\tTrain=0.707509\tTest=1.22879\n",
      "#Iter= 31\tTrain=0.707653\tTest=1.22829\n",
      "#Iter= 32\tTrain=0.707134\tTest=1.22756\n",
      "#Iter= 33\tTrain=0.706917\tTest=1.22687\n",
      "#Iter= 34\tTrain=0.706652\tTest=1.2261\n",
      "#Iter= 35\tTrain=0.70707\tTest=1.22574\n",
      "#Iter= 36\tTrain=0.70687\tTest=1.22514\n",
      "#Iter= 37\tTrain=0.706796\tTest=1.22416\n",
      "#Iter= 38\tTrain=0.706996\tTest=1.22313\n",
      "#Iter= 39\tTrain=0.70688\tTest=1.2224\n",
      "#Iter= 40\tTrain=0.706641\tTest=1.22169\n",
      "#Iter= 41\tTrain=0.706923\tTest=1.22129\n",
      "#Iter= 42\tTrain=0.70674\tTest=1.22066\n",
      "#Iter= 43\tTrain=0.706672\tTest=1.21989\n",
      "#Iter= 44\tTrain=0.706424\tTest=1.21899\n",
      "#Iter= 45\tTrain=0.70657\tTest=1.21841\n",
      "#Iter= 46\tTrain=0.706619\tTest=1.2177\n",
      "#Iter= 47\tTrain=0.706491\tTest=1.21692\n",
      "#Iter= 48\tTrain=0.706083\tTest=1.21604\n",
      "#Iter= 49\tTrain=0.70644\tTest=1.21497\n",
      "#Iter= 50\tTrain=0.706513\tTest=1.2142\n",
      "#Iter= 51\tTrain=0.706261\tTest=1.21359\n",
      "#Iter= 52\tTrain=0.706389\tTest=1.21286\n",
      "#Iter= 53\tTrain=0.706314\tTest=1.21223\n",
      "#Iter= 54\tTrain=0.706338\tTest=1.21178\n",
      "#Iter= 55\tTrain=0.706056\tTest=1.21125\n",
      "#Iter= 56\tTrain=0.70588\tTest=1.21041\n",
      "#Iter= 57\tTrain=0.705897\tTest=1.20985\n",
      "#Iter= 58\tTrain=0.706012\tTest=1.2093\n",
      "#Iter= 59\tTrain=0.706032\tTest=1.20835\n",
      "#Iter= 60\tTrain=0.706363\tTest=1.20742\n",
      "#Iter= 61\tTrain=0.705859\tTest=1.20695\n",
      "#Iter= 62\tTrain=0.70608\tTest=1.20624\n",
      "#Iter= 63\tTrain=0.705988\tTest=1.20556\n",
      "#Iter= 64\tTrain=0.705975\tTest=1.20494\n",
      "#Iter= 65\tTrain=0.705898\tTest=1.20437\n",
      "#Iter= 66\tTrain=0.706065\tTest=1.20377\n",
      "#Iter= 67\tTrain=0.706055\tTest=1.20323\n",
      "#Iter= 68\tTrain=0.706076\tTest=1.20263\n",
      "#Iter= 69\tTrain=0.705932\tTest=1.20211\n",
      "#Iter= 70\tTrain=0.705981\tTest=1.20177\n",
      "#Iter= 71\tTrain=0.706004\tTest=1.20125\n",
      "#Iter= 72\tTrain=0.705781\tTest=1.20076\n",
      "#Iter= 73\tTrain=0.70591\tTest=1.20024\n",
      "#Iter= 74\tTrain=0.705682\tTest=1.19971\n",
      "#Iter= 75\tTrain=0.705647\tTest=1.19931\n",
      "#Iter= 76\tTrain=0.70571\tTest=1.19891\n",
      "#Iter= 77\tTrain=0.705762\tTest=1.19834\n",
      "#Iter= 78\tTrain=0.705846\tTest=1.1977\n",
      "#Iter= 79\tTrain=0.705847\tTest=1.19719\n",
      "#Iter= 80\tTrain=0.705704\tTest=1.19673\n",
      "#Iter= 81\tTrain=0.705791\tTest=1.19631\n",
      "#Iter= 82\tTrain=0.705844\tTest=1.19597\n",
      "#Iter= 83\tTrain=0.705883\tTest=1.1953\n",
      "#Iter= 84\tTrain=0.705968\tTest=1.19461\n",
      "#Iter= 85\tTrain=0.705935\tTest=1.19397\n",
      "#Iter= 86\tTrain=0.706211\tTest=1.19337\n",
      "#Iter= 87\tTrain=0.70572\tTest=1.1928\n",
      "#Iter= 88\tTrain=0.705946\tTest=1.19245\n",
      "#Iter= 89\tTrain=0.70563\tTest=1.19201\n",
      "#Iter= 90\tTrain=0.70559\tTest=1.19169\n",
      "#Iter= 91\tTrain=0.705657\tTest=1.19128\n",
      "#Iter= 92\tTrain=0.705807\tTest=1.19082\n",
      "#Iter= 93\tTrain=0.705663\tTest=1.19028\n",
      "#Iter= 94\tTrain=0.705532\tTest=1.18985\n",
      "#Iter= 95\tTrain=0.705807\tTest=1.18943\n",
      "#Iter= 96\tTrain=0.70574\tTest=1.18881\n",
      "#Iter= 97\tTrain=0.705848\tTest=1.18832\n",
      "#Iter= 98\tTrain=0.706055\tTest=1.18782\n",
      "#Iter= 99\tTrain=0.705737\tTest=1.18735\n"
     ]
    }
   ],
   "source": [
    "!D:/libs/libfm/libfm-1.40.windows/libFM -task r -train train.libsvm -test test.libsvm -dim '1,1,8' -out ./libfm_pred_mcmc.libsvm"
   ]
  },
  {
   "cell_type": "code",
   "execution_count": 35,
   "metadata": {
    "ExecuteTime": {
     "end_time": "2018-11-06T16:24:22.432465Z",
     "start_time": "2018-11-06T16:23:44.199848Z"
    }
   },
   "outputs": [
    {
     "name": "stdout",
     "output_type": "stream",
     "text": [
      "----------------------------------------------------------------------------\n",
      "libFM\n",
      "  Version: 1.40\n",
      "  Author:  Steffen Rendle, steffen.rendle@uni-konstanz.de\n",
      "  WWW:     http://www.libfm.org/\n",
      "  License: Free for academic use. See license.txt.\n",
      "----------------------------------------------------------------------------\n",
      "Loading train...\t\n",
      "has x = 0\n",
      "has xt = 1\n",
      "num_rows=849259\tnum_values=1698518\tnum_features=12146\tmin_target=0.5\tmax_target=5\n",
      "Loading test... \t\n",
      "has x = 0\n",
      "has xt = 1\n",
      "num_rows=6339\tnum_values=12678\tnum_features=3225\tmin_target=0.5\tmax_target=5\n",
      "#relations: 0\n",
      "Loading meta data...\t\n",
      "#Iter=  0\tTrain=0.7522\tTest=1.95688\n",
      "#Iter=  1\tTrain=0.723322\tTest=1.88367\n",
      "#Iter=  2\tTrain=0.7068\tTest=1.8652\n",
      "#Iter=  3\tTrain=0.697416\tTest=1.85935\n",
      "#Iter=  4\tTrain=0.691343\tTest=1.85757\n",
      "#Iter=  5\tTrain=0.68698\tTest=1.858\n",
      "#Iter=  6\tTrain=0.683663\tTest=1.85849\n",
      "#Iter=  7\tTrain=0.681058\tTest=1.85846\n",
      "#Iter=  8\tTrain=0.678973\tTest=1.86005\n",
      "#Iter=  9\tTrain=0.677279\tTest=1.86246\n",
      "#Iter= 10\tTrain=0.675878\tTest=1.86459\n",
      "#Iter= 11\tTrain=0.674703\tTest=1.86691\n",
      "#Iter= 12\tTrain=0.673702\tTest=1.86872\n",
      "#Iter= 13\tTrain=0.67284\tTest=1.87087\n",
      "#Iter= 14\tTrain=0.672089\tTest=1.87329\n",
      "#Iter= 15\tTrain=0.671432\tTest=1.87573\n",
      "#Iter= 16\tTrain=0.670853\tTest=1.87842\n",
      "#Iter= 17\tTrain=0.67034\tTest=1.88085\n",
      "#Iter= 18\tTrain=0.669883\tTest=1.88301\n",
      "#Iter= 19\tTrain=0.669473\tTest=1.885\n",
      "#Iter= 20\tTrain=0.669104\tTest=1.88695\n",
      "#Iter= 21\tTrain=0.668768\tTest=1.88896\n",
      "#Iter= 22\tTrain=0.668462\tTest=1.89069\n",
      "#Iter= 23\tTrain=0.668181\tTest=1.89228\n",
      "#Iter= 24\tTrain=0.667923\tTest=1.8939\n",
      "#Iter= 25\tTrain=0.667685\tTest=1.8955\n",
      "#Iter= 26\tTrain=0.667465\tTest=1.89709\n",
      "#Iter= 27\tTrain=0.667261\tTest=1.89876\n",
      "#Iter= 28\tTrain=0.667072\tTest=1.90031\n",
      "#Iter= 29\tTrain=0.666895\tTest=1.90185\n",
      "#Iter= 30\tTrain=0.666729\tTest=1.90347\n",
      "#Iter= 31\tTrain=0.666573\tTest=1.90516\n",
      "#Iter= 32\tTrain=0.666427\tTest=1.90687\n",
      "#Iter= 33\tTrain=0.666289\tTest=1.90861\n",
      "#Iter= 34\tTrain=0.666158\tTest=1.91036\n",
      "#Iter= 35\tTrain=0.666035\tTest=1.91215\n",
      "#Iter= 36\tTrain=0.665918\tTest=1.91394\n",
      "#Iter= 37\tTrain=0.665808\tTest=1.91572\n",
      "#Iter= 38\tTrain=0.665703\tTest=1.91747\n",
      "#Iter= 39\tTrain=0.665604\tTest=1.9192\n",
      "#Iter= 40\tTrain=0.665511\tTest=1.92097\n",
      "#Iter= 41\tTrain=0.665422\tTest=1.92277\n",
      "#Iter= 42\tTrain=0.665339\tTest=1.92452\n",
      "#Iter= 43\tTrain=0.66526\tTest=1.9262\n",
      "#Iter= 44\tTrain=0.665186\tTest=1.92791\n",
      "#Iter= 45\tTrain=0.665115\tTest=1.92964\n",
      "#Iter= 46\tTrain=0.665047\tTest=1.93135\n",
      "#Iter= 47\tTrain=0.664983\tTest=1.933\n",
      "#Iter= 48\tTrain=0.664922\tTest=1.93459\n",
      "#Iter= 49\tTrain=0.664863\tTest=1.93624\n",
      "#Iter= 50\tTrain=0.664807\tTest=1.93792\n",
      "#Iter= 51\tTrain=0.664753\tTest=1.93958\n",
      "#Iter= 52\tTrain=0.664702\tTest=1.94123\n",
      "#Iter= 53\tTrain=0.664652\tTest=1.94287\n",
      "#Iter= 54\tTrain=0.664604\tTest=1.9445\n",
      "#Iter= 55\tTrain=0.664559\tTest=1.9461\n",
      "#Iter= 56\tTrain=0.664515\tTest=1.94763\n",
      "#Iter= 57\tTrain=0.664472\tTest=1.94914\n",
      "#Iter= 58\tTrain=0.664431\tTest=1.9506\n",
      "#Iter= 59\tTrain=0.664392\tTest=1.95209\n",
      "#Iter= 60\tTrain=0.664353\tTest=1.95352\n",
      "#Iter= 61\tTrain=0.664316\tTest=1.95496\n",
      "#Iter= 62\tTrain=0.66428\tTest=1.95642\n",
      "#Iter= 63\tTrain=0.664245\tTest=1.95783\n",
      "#Iter= 64\tTrain=0.664212\tTest=1.95923\n",
      "#Iter= 65\tTrain=0.664179\tTest=1.96068\n",
      "#Iter= 66\tTrain=0.664147\tTest=1.96213\n",
      "#Iter= 67\tTrain=0.664116\tTest=1.96357\n",
      "#Iter= 68\tTrain=0.664086\tTest=1.965\n",
      "#Iter= 69\tTrain=0.664057\tTest=1.96637\n",
      "#Iter= 70\tTrain=0.664029\tTest=1.96773\n",
      "#Iter= 71\tTrain=0.664002\tTest=1.96909\n",
      "#Iter= 72\tTrain=0.663975\tTest=1.97046\n",
      "#Iter= 73\tTrain=0.663949\tTest=1.9718\n",
      "#Iter= 74\tTrain=0.663924\tTest=1.97311\n",
      "#Iter= 75\tTrain=0.663899\tTest=1.97441\n",
      "#Iter= 76\tTrain=0.663876\tTest=1.97569\n",
      "#Iter= 77\tTrain=0.663852\tTest=1.97696\n",
      "#Iter= 78\tTrain=0.66383\tTest=1.97822\n",
      "#Iter= 79\tTrain=0.663808\tTest=1.97946\n",
      "#Iter= 80\tTrain=0.663787\tTest=1.9807\n",
      "#Iter= 81\tTrain=0.663766\tTest=1.98194\n",
      "#Iter= 82\tTrain=0.663746\tTest=1.9831\n",
      "#Iter= 83\tTrain=0.663726\tTest=1.98426\n",
      "#Iter= 84\tTrain=0.663707\tTest=1.98538\n",
      "#Iter= 85\tTrain=0.663688\tTest=1.9865\n",
      "#Iter= 86\tTrain=0.66367\tTest=1.9876\n",
      "#Iter= 87\tTrain=0.663652\tTest=1.98869\n",
      "#Iter= 88\tTrain=0.663635\tTest=1.98978\n",
      "#Iter= 89\tTrain=0.663618\tTest=1.99086\n",
      "#Iter= 90\tTrain=0.663602\tTest=1.99195\n",
      "#Iter= 91\tTrain=0.663586\tTest=1.99304\n",
      "#Iter= 92\tTrain=0.66357\tTest=1.99412\n",
      "#Iter= 93\tTrain=0.663555\tTest=1.9952\n",
      "#Iter= 94\tTrain=0.66354\tTest=1.99629\n",
      "#Iter= 95\tTrain=0.663526\tTest=1.99737\n",
      "#Iter= 96\tTrain=0.663512\tTest=1.99845\n",
      "#Iter= 97\tTrain=0.663498\tTest=1.99952\n",
      "#Iter= 98\tTrain=0.663485\tTest=2.0006\n",
      "#Iter= 99\tTrain=0.663471\tTest=2.00166\n"
     ]
    }
   ],
   "source": [
    "!D:/libs/libfm/libfm-1.40.windows/libFM -task r -train train.libsvm -test test.libsvm -method als -dim '1,1,8' -out ./libfm_pred_als.libsvm"
   ]
  },
  {
   "cell_type": "code",
   "execution_count": 36,
   "metadata": {
    "ExecuteTime": {
     "end_time": "2018-11-06T16:24:31.847830Z",
     "start_time": "2018-11-06T16:24:22.434457Z"
    }
   },
   "outputs": [
    {
     "name": "stdout",
     "output_type": "stream",
     "text": [
      "----------------------------------------------------------------------------\n",
      "libFM\n",
      "  Version: 1.40\n",
      "  Author:  Steffen Rendle, steffen.rendle@uni-konstanz.de\n",
      "  WWW:     http://www.libfm.org/\n",
      "  License: Free for academic use. See license.txt.\n",
      "----------------------------------------------------------------------------\n",
      "Loading train...\t\n",
      "has x = 1\n",
      "has xt = 0\n",
      "num_rows=849259\tnum_values=1698518\tnum_features=12146\tmin_target=0.5\tmax_target=5\n",
      "Loading test... \t\n",
      "has x = 1\n",
      "has xt = 0\n",
      "num_rows=6339\tnum_values=12678\tnum_features=3225\tmin_target=0.5\tmax_target=5\n",
      "#relations: 0\n",
      "Loading meta data...\t\n"
     ]
    },
    {
     "name": "stderr",
     "output_type": "stream",
     "text": [
      "Assertion failed: validation != NULL, file libfm.cpp, line 229\n"
     ]
    }
   ],
   "source": [
    "!D:/libs/libfm/libfm-1.40.windows/libFM -task r -train train.libsvm -test test.libsvm -method sgda -dim '1,1,8' -out ./libfm_pred_sgd.libsvm"
   ]
  },
  {
   "cell_type": "code",
   "execution_count": 37,
   "metadata": {
    "ExecuteTime": {
     "end_time": "2018-11-06T16:24:32.300167Z",
     "start_time": "2018-11-06T16:24:31.849837Z"
    }
   },
   "outputs": [],
   "source": [
    "mcmc_pred = test.copy()\n",
    "mcmc_pred['score'] = load_svmlight_file('./libfm_pred_mcmc.libsvm')[1]\n",
    "mcmc_pred['rank'] = mcmc_pred.groupby('userID').score.apply(lambda df: np.argsort(-df))"
   ]
  },
  {
   "cell_type": "code",
   "execution_count": 38,
   "metadata": {
    "ExecuteTime": {
     "end_time": "2018-11-06T16:24:32.800419Z",
     "start_time": "2018-11-06T16:24:32.301144Z"
    }
   },
   "outputs": [],
   "source": [
    "als_pred = test.copy()\n",
    "als_pred['score'] = load_svmlight_file('./libfm_pred_als.libsvm')[1]\n",
    "als_pred['rank'] = als_pred.groupby('userID').score.apply(lambda df: np.argsort(-df))"
   ]
  },
  {
   "cell_type": "code",
   "execution_count": 39,
   "metadata": {
    "ExecuteTime": {
     "end_time": "2018-11-06T16:24:32.815822Z",
     "start_time": "2018-11-06T16:24:32.800419Z"
    }
   },
   "outputs": [
    {
     "data": {
      "text/html": [
       "<div>\n",
       "<style scoped>\n",
       "    .dataframe tbody tr th:only-of-type {\n",
       "        vertical-align: middle;\n",
       "    }\n",
       "\n",
       "    .dataframe tbody tr th {\n",
       "        vertical-align: top;\n",
       "    }\n",
       "\n",
       "    .dataframe thead th {\n",
       "        text-align: right;\n",
       "    }\n",
       "</style>\n",
       "<table border=\"1\" class=\"dataframe\">\n",
       "  <thead>\n",
       "    <tr style=\"text-align: right;\">\n",
       "      <th></th>\n",
       "      <th>userID</th>\n",
       "      <th>movieID</th>\n",
       "      <th>rating</th>\n",
       "      <th>timestamp</th>\n",
       "      <th>date</th>\n",
       "      <th>subset</th>\n",
       "      <th>score</th>\n",
       "      <th>rank</th>\n",
       "    </tr>\n",
       "  </thead>\n",
       "  <tbody>\n",
       "    <tr>\n",
       "      <th>52</th>\n",
       "      <td>75</td>\n",
       "      <td>39052</td>\n",
       "      <td>3.5</td>\n",
       "      <td>1162160924000</td>\n",
       "      <td>1970-01-01 00:19:22.160924</td>\n",
       "      <td>test</td>\n",
       "      <td>4.42190</td>\n",
       "      <td>1</td>\n",
       "    </tr>\n",
       "    <tr>\n",
       "      <th>53</th>\n",
       "      <td>75</td>\n",
       "      <td>45431</td>\n",
       "      <td>3.5</td>\n",
       "      <td>1162160758000</td>\n",
       "      <td>1970-01-01 00:19:22.160758</td>\n",
       "      <td>test</td>\n",
       "      <td>4.52140</td>\n",
       "      <td>0</td>\n",
       "    </tr>\n",
       "    <tr>\n",
       "      <th>54</th>\n",
       "      <td>75</td>\n",
       "      <td>45722</td>\n",
       "      <td>4.5</td>\n",
       "      <td>1162160986000</td>\n",
       "      <td>1970-01-01 00:19:22.160986</td>\n",
       "      <td>test</td>\n",
       "      <td>3.18852</td>\n",
       "      <td>2</td>\n",
       "    </tr>\n",
       "    <tr>\n",
       "      <th>520</th>\n",
       "      <td>78</td>\n",
       "      <td>48774</td>\n",
       "      <td>4.5</td>\n",
       "      <td>1176683418000</td>\n",
       "      <td>1970-01-01 00:19:36.683418</td>\n",
       "      <td>test</td>\n",
       "      <td>4.23101</td>\n",
       "      <td>2</td>\n",
       "    </tr>\n",
       "    <tr>\n",
       "      <th>521</th>\n",
       "      <td>78</td>\n",
       "      <td>49272</td>\n",
       "      <td>3.0</td>\n",
       "      <td>1176683448000</td>\n",
       "      <td>1970-01-01 00:19:36.683448</td>\n",
       "      <td>test</td>\n",
       "      <td>4.61032</td>\n",
       "      <td>1</td>\n",
       "    </tr>\n",
       "  </tbody>\n",
       "</table>\n",
       "</div>"
      ],
      "text/plain": [
       "     userID  movieID  rating      timestamp                       date subset  \\\n",
       "52       75    39052     3.5  1162160924000 1970-01-01 00:19:22.160924   test   \n",
       "53       75    45431     3.5  1162160758000 1970-01-01 00:19:22.160758   test   \n",
       "54       75    45722     4.5  1162160986000 1970-01-01 00:19:22.160986   test   \n",
       "520      78    48774     4.5  1176683418000 1970-01-01 00:19:36.683418   test   \n",
       "521      78    49272     3.0  1176683448000 1970-01-01 00:19:36.683448   test   \n",
       "\n",
       "       score  rank  \n",
       "52   4.42190     1  \n",
       "53   4.52140     0  \n",
       "54   3.18852     2  \n",
       "520  4.23101     2  \n",
       "521  4.61032     1  "
      ]
     },
     "execution_count": 39,
     "metadata": {},
     "output_type": "execute_result"
    }
   ],
   "source": [
    "mcmc_pred.head()"
   ]
  },
  {
   "cell_type": "code",
   "execution_count": 46,
   "metadata": {
    "ExecuteTime": {
     "end_time": "2018-11-06T16:25:21.228864Z",
     "start_time": "2018-11-06T16:25:17.870387Z"
    }
   },
   "outputs": [
    {
     "data": {
      "text/plain": [
       "0.6197829947829947"
      ]
     },
     "execution_count": 46,
     "metadata": {},
     "output_type": "execute_result"
    }
   ],
   "source": [
    "calc_map(mcmc_pred)"
   ]
  },
  {
   "cell_type": "code",
   "execution_count": 47,
   "metadata": {
    "ExecuteTime": {
     "end_time": "2018-11-06T16:25:24.575327Z",
     "start_time": "2018-11-06T16:25:21.231141Z"
    }
   },
   "outputs": [
    {
     "data": {
      "text/plain": [
       "0.6117077367077366"
      ]
     },
     "execution_count": 47,
     "metadata": {},
     "output_type": "execute_result"
    }
   ],
   "source": [
    "calc_map(als_pred)"
   ]
  },
  {
   "cell_type": "code",
   "execution_count": null,
   "metadata": {},
   "outputs": [],
   "source": []
  },
  {
   "cell_type": "markdown",
   "metadata": {},
   "source": [
    "### Признаки-счётчики\n",
    "\n",
    "В качестве иллюстрации что такое признаки-счётчики, рассмотрим категориальный признак \"жанр фильма\". Для каждого жанра мы можем посчитать некоторое числовое значение, например, среднее значение оценок фильмов этого жанра. Затем, если в матрице данных заменить значения жанров этого категориального признака на соответствующие значения средних рейтингов данных жанров, то получится новый числовой признак-счётчик.\n",
    "\n",
    "Здесь стоит обратить внимание на следующее:\n",
    "\n",
    "1. При создании таких счётчиков категориальных признаков по целевой переменной, важно не использовать оценки из настоящего и будущего. То есть, в нашем примере, при расчете среднего для конкретного объекта нельзя использовать как оценку текущего объекта, так и оценки, которые были поставлены позже. Иначе возникнет переобучение.\n",
    "2. В качестве счетчиков можно рассматривать и другие статистики: число встречаемости данного значения, медиану целевой переменной по объектам с тем же значением данного категориального признака и т.п.\n",
    "3. Подобные признаки-счётчики можно считать не только по одному категориальному признаку, как в примере с жанром фильма, но и и по набору из нескольких категориальных признаков, например, по паре (жанр, киноперсоны).\n",
    "4. Счётчики можно считать не только по целевой переменной, но и относительно других признаков."
   ]
  },
  {
   "cell_type": "markdown",
   "metadata": {},
   "source": [
    "**Задание 8 (3 балла)** Используя исходные данные, создайте выборку с набором признаков-счётчиков. На полученной выборке с счетчиками постройте предсказания оценок, используя xgboost. Постарайтесь добиться качества сравнимого с качеством моделей из предыдущего пункта. Какие признаки-счётчики оказались наиболее удачными? Почему? "
   ]
  },
  {
   "cell_type": "code",
   "execution_count": null,
   "metadata": {},
   "outputs": [],
   "source": []
  },
  {
   "cell_type": "markdown",
   "metadata": {},
   "source": [
    "**Задание 9 (1 балл)** Приведите сравнение качества всех моделей, использованных в работе, руководствуясь значениями описанных метрик. Какие из моделей оказались лучше других по каждой из метрик? Чем это можно объяснить?"
   ]
  },
  {
   "cell_type": "code",
   "execution_count": null,
   "metadata": {},
   "outputs": [],
   "source": []
  }
 ],
 "metadata": {
  "kernelspec": {
   "display_name": "Python 3",
   "language": "python",
   "name": "python3"
  },
  "language_info": {
   "codemirror_mode": {
    "name": "ipython",
    "version": 3
   },
   "file_extension": ".py",
   "mimetype": "text/x-python",
   "name": "python",
   "nbconvert_exporter": "python",
   "pygments_lexer": "ipython3",
   "version": "3.6.0"
  },
  "toc": {
   "base_numbering": 1,
   "nav_menu": {},
   "number_sections": true,
   "sideBar": true,
   "skip_h1_title": false,
   "title_cell": "Table of Contents",
   "title_sidebar": "Contents",
   "toc_cell": true,
   "toc_position": {
    "height": "calc(100% - 180px)",
    "left": "10px",
    "top": "150px",
    "width": "431.264px"
   },
   "toc_section_display": true,
   "toc_window_display": true
  }
 },
 "nbformat": 4,
 "nbformat_minor": 2
}
