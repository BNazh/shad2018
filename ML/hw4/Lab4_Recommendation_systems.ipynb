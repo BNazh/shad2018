{
 "cells": [
  {
   "cell_type": "markdown",
   "metadata": {
    "toc": true
   },
   "source": [
    "<h1>Table of Contents<span class=\"tocSkip\"></span></h1>\n",
    "<div class=\"toc\"><ul class=\"toc-item\"><li><span><a href=\"#Лабораторная-работа-4.-Рекомендательные-системы-и-категориальные-признаки-(20-баллов)\" data-toc-modified-id=\"Лабораторная-работа-4.-Рекомендательные-системы-и-категориальные-признаки-(20-баллов)-1\"><span class=\"toc-item-num\">1&nbsp;&nbsp;</span>Лабораторная работа 4. Рекомендательные системы и категориальные признаки (20 баллов)</a></span><ul class=\"toc-item\"><li><ul class=\"toc-item\"><li><span><a href=\"#Оценивание-и-штрафы\" data-toc-modified-id=\"Оценивание-и-штрафы-1.0.1\"><span class=\"toc-item-num\">1.0.1&nbsp;&nbsp;</span>Оценивание и штрафы</a></span></li></ul></li><li><span><a href=\"#Рекомендательные-системы-(10-баллов)\" data-toc-modified-id=\"Рекомендательные-системы-(10-баллов)-1.1\"><span class=\"toc-item-num\">1.1&nbsp;&nbsp;</span>Рекомендательные системы (10 баллов)</a></span></li><li><span><a href=\"#Оценивание-качества-рекомендаций\" data-toc-modified-id=\"Оценивание-качества-рекомендаций-1.2\"><span class=\"toc-item-num\">1.2&nbsp;&nbsp;</span>Оценивание качества рекомендаций</a></span><ul class=\"toc-item\"><li><ul class=\"toc-item\"><li><span><a href=\"#RMSE\" data-toc-modified-id=\"RMSE-1.2.0.1\"><span class=\"toc-item-num\">1.2.0.1&nbsp;&nbsp;</span>RMSE</a></span></li><li><span><a href=\"#MAP\" data-toc-modified-id=\"MAP-1.2.0.2\"><span class=\"toc-item-num\">1.2.0.2&nbsp;&nbsp;</span>MAP</a></span></li><li><span><a href=\"#Другие-способы-оценки-качества-рекомендаций\" data-toc-modified-id=\"Другие-способы-оценки-качества-рекомендаций-1.2.0.3\"><span class=\"toc-item-num\">1.2.0.3&nbsp;&nbsp;</span>Другие способы оценки качества рекомендаций</a></span></li></ul></li></ul></li><li><span><a href=\"#Коллаборативная-фильтрация\" data-toc-modified-id=\"Коллаборативная-фильтрация-1.3\"><span class=\"toc-item-num\">1.3&nbsp;&nbsp;</span>Коллаборативная фильтрация</a></span><ul class=\"toc-item\"><li><span><a href=\"#Most-popular\" data-toc-modified-id=\"Most-popular-1.3.1\"><span class=\"toc-item-num\">1.3.1&nbsp;&nbsp;</span>Most popular</a></span></li><li><span><a href=\"#Memory-based\" data-toc-modified-id=\"Memory-based-1.3.2\"><span class=\"toc-item-num\">1.3.2&nbsp;&nbsp;</span>Memory-based</a></span></li><li><span><a href=\"#Matrix-factorization\" data-toc-modified-id=\"Matrix-factorization-1.3.3\"><span class=\"toc-item-num\">1.3.3&nbsp;&nbsp;</span>Matrix factorization</a></span></li></ul></li><li><span><a href=\"#Категориальные-и-разреженные-признаки-(10-баллов)\" data-toc-modified-id=\"Категориальные-и-разреженные-признаки-(10-баллов)-1.4\"><span class=\"toc-item-num\">1.4&nbsp;&nbsp;</span>Категориальные и разреженные признаки (10 баллов)</a></span><ul class=\"toc-item\"><li><span><a href=\"#Разреженные-признаки\" data-toc-modified-id=\"Разреженные-признаки-1.4.1\"><span class=\"toc-item-num\">1.4.1&nbsp;&nbsp;</span>Разреженные признаки</a></span><ul class=\"toc-item\"><li><span><a href=\"#Vowpal-Wabbit\" data-toc-modified-id=\"Vowpal-Wabbit-1.4.1.1\"><span class=\"toc-item-num\">1.4.1.1&nbsp;&nbsp;</span>Vowpal Wabbit</a></span></li></ul></li><li><span><a href=\"#libFm\" data-toc-modified-id=\"libFm-1.4.2\"><span class=\"toc-item-num\">1.4.2&nbsp;&nbsp;</span>libFm</a></span></li><li><span><a href=\"#Признаки-счётчики\" data-toc-modified-id=\"Признаки-счётчики-1.4.3\"><span class=\"toc-item-num\">1.4.3&nbsp;&nbsp;</span>Признаки-счётчики</a></span></li></ul></li></ul></li></ul></div>"
   ]
  },
  {
   "cell_type": "markdown",
   "metadata": {},
   "source": [
    "# Лабораторная работа 4. Рекомендательные системы и категориальные признаки (20 баллов)\n",
    "\n",
    "Результат лабораторной работы − отчет. Мы предпочитаем принимать отчеты в формате ноутбуков IPython (ipynb-файл). Постарайтесь сделать ваш отчет интересным рассказом, последовательно отвечающим на вопросы из заданий. Помимо ответов на вопросы, в отчете так же должен быть код, однако чем меньше кода, тем лучше всем: нам − меньше проверять, вам — проще найти ошибку или дополнить эксперимент. При проверке оценивается четкость ответов на вопросы, аккуратность отчета и кода.\n",
    "\n",
    "### Оценивание и штрафы\n",
    "Каждая из задач имеет определенную «стоимость» (указана в скобках около задачи). Сдавать задание после указанного срока сдачи нельзя. «Похожие» решения считаются плагиатом и все задействованные студенты (в том числе те, у кого списали) не могут получить за него больше 0 баллов и понижают карму (подробнее о плагиате см. на странице курса). Если вы нашли решение какого-то из заданий в открытом источнике, необходимо прислать ссылку на этот источник (скорее всего вы будете не единственным, кто это нашел, поэтому чтобы исключить подозрение в плагиате, нам необходима ссылка на источник)."
   ]
  },
  {
   "cell_type": "markdown",
   "metadata": {},
   "source": [
    "## Рекомендательные системы (10 баллов)"
   ]
  },
  {
   "cell_type": "markdown",
   "metadata": {},
   "source": [
    "![](http://i.imgur.com/vHUVoWw.png)\n",
    "\n",
    "В этой лабораторной работе будет рассмотрена задача предсказания оценки, которую пользователь поставит фильму. Особенность этой задачи в том, что объекты выборки описываются категориальными признаками, принимающими большое число значений (например: идентификатор пользователя, идентификатор фильма, тэги, киноперсоны).\n",
    "\n",
    "Мы будем работать с датасетом [MovieLens + IMDb/Rotten Tomatoes](http://files.grouplens.org/datasets/hetrec2011/hetrec2011-movielens-2k-v2.zip) ([описание](http://files.grouplens.org/datasets/hetrec2011/hetrec2011-movielens-readme.txt)). Набор содержит данные о предпочтениях пользователей сервиса рекомендации кинофильмов [MovieLens](http://www.movielens.org/). Пользовательские оценки для фильмов принимают целые значения в интервале от 1 до 5, они записаны в файле *user_ratedmovies.dat* (а так же в *user_ratedmovies-timestamps.dat*,  где для каждой оценки записаны дата и время в формате timestamp), остальные файлы содержат дополнительную информацию о фильмах, которую можно использовать в качестве признаков. Заметьте: кроме оценок (и тегов), про пользователя ничего не известно.\n",
    "\n",
    "На основании этих данных необходимо построить модель, предсказывающую оценку пользователя фильму, который он еще не смотрел."
   ]
  },
  {
   "cell_type": "markdown",
   "metadata": {},
   "source": [
    "## Оценивание качества рекомендаций\n",
    "\n",
    "Выберем некоторого пользователя $u$ и обозначим известные для него рейтинги за $R^u$. В качестве тестовых рейтингов этого пользователя $R^u_{test}$ рассмотрим три рейтинга, поставленные последними по времени. Остальные известные рейтинги будут составлять обучающую выборку $R^u_{train}$. Тогда все известные рейтинги можно представить как $R^u=R^u_{train}\\cup R^u_{test}$. Отсутствующие оценки обозначим за $R^u_{unknown}$. \n",
    "\n",
    "Для измерения качества рекомендаций в этой лабораторной работе используйте две метрики RMSE и MAP, описанные ниже.\n",
    "\n",
    "#### RMSE\n",
    "\n",
    "Метрика [RMSE](https://en.wikipedia.org/wiki/Root-mean-square_deviation) вычисляется следующим образом:\n",
    "$$ RMSE = \\sqrt{ \\frac{1}{\\left|R_{test}\\right|} \\sum_{(u,i) \\in R_{test}} (r_{ui} - \\hat{r}_{ui})^2 },$$\n",
    "где $r_{ui}$ — наблюдаемая (правильная) оценка, а $\\hat{r}_{ui}$ — оценка, предсказанная моделью.\n",
    "\n",
    "Метрика RMSE предназначена для оценки точности предсказания, ее удобно оптимизировать напрямую. Однако, нужно учесть, что RMSE не лучший кандидат для оценки качества рекомендаций:\n",
    "- Во-первых, RMSE оценивает точность предсказания рейтингов, что в задачах рекомендаций, как правило, менее важно, нежели верное ранжирование объектов (безотносительно абсолютных значений рейтингов). На практике часто бывает, что алгоритмы с худшим RMSE в продакшене работают лучше, чем алгоритмы с меньшим значением RMSE. Например, при использовании моделей рекомендаций на основе матричных разложений, заполнение отсутствующих оценок нулями имеет имеет худшее значение RMSE чем если бы эти оценки не учитывались совсем, но при этом часто сами рекомендации становятся лучше. \n",
    "- Во-вторых, RMSE одинаково штрафует точность предсказания оценок более популярных фильмов (которые попадут в блок рекомендаций) и менее популярных фильмов (длинный хвост из нерелевантных фильмов).\n",
    "\n",
    "#### MAP\n",
    "\n",
    "Для оценки качества рекомендаций также можно использовать метрику качества ранжирования. В этом случае для каждого пользователя $u$ предскажем оценку для всех фильмов из $R^u_{test}$ и $R^u_{unknown}$ и отсортируем эти фильмы по убыванию предсказанного рейтинга. Ожидается, что хороший алгоритм должен выдать релевантные фильмы вверху списка. Обозначим позиции объектов в этом списке за $k^u_i$.\n",
    "\n",
    "Назовем релевантными те фильмы, которые входят в $R^u_{test}$ и имеют оценку $\\ge 3$. Обозначим их за $Rel^u$. Тогда можно вычислить следующую метрику качества рекомендаций для одного пользователя:\n",
    "\n",
    "$$AP^u=\\frac{1}{|Rel^u|} \\sum_{(u,i) \\in Rel^u} \\frac{1}{k^u_i}.$$\n",
    "\n",
    "Усреднив значение этой метрики по всем пользователями, мы получим окончательное значение метрики $MAP$. Пользователей без релевантных фильмов в тестовой выборке можно не учитывать.\n",
    "\n",
    "#### Другие способы оценки качества рекомендаций\n",
    "\n",
    "На практике, как правило, качество рекомендательных систем оценивается в онлайне с помощью [A/B-тестирования](https://ru.wikipedia.org/wiki/A/B-тестирование)."
   ]
  },
  {
   "cell_type": "markdown",
   "metadata": {},
   "source": [
    "## Коллаборативная фильтрация"
   ]
  },
  {
   "cell_type": "markdown",
   "metadata": {},
   "source": [
    "Загрузите данные и создайте разреженную матрицу пользователи-фильмы, где в каждой ячейке стоит рейтинг, если он известен, или ноль, если неизвестен."
   ]
  },
  {
   "cell_type": "code",
   "execution_count": 82,
   "metadata": {
    "ExecuteTime": {
     "end_time": "2018-10-30T10:20:20.622200Z",
     "start_time": "2018-10-30T10:20:19.049518Z"
    }
   },
   "outputs": [],
   "source": [
    "import numpy as np\n",
    "import pandas as pd\n",
    "ratings_df = pd.read_csv(open('./hetrec2011-movielens-2k-v2/user_ratedmovies-timestamps.dat', 'rb'), sep='\\t')"
   ]
  },
  {
   "cell_type": "code",
   "execution_count": 83,
   "metadata": {
    "ExecuteTime": {
     "end_time": "2018-10-30T10:20:20.663310Z",
     "start_time": "2018-10-30T10:20:20.629219Z"
    }
   },
   "outputs": [
    {
     "name": "stdout",
     "output_type": "stream",
     "text": [
      "(855598, 4)\n"
     ]
    },
    {
     "data": {
      "text/html": [
       "<div>\n",
       "<style scoped>\n",
       "    .dataframe tbody tr th:only-of-type {\n",
       "        vertical-align: middle;\n",
       "    }\n",
       "\n",
       "    .dataframe tbody tr th {\n",
       "        vertical-align: top;\n",
       "    }\n",
       "\n",
       "    .dataframe thead th {\n",
       "        text-align: right;\n",
       "    }\n",
       "</style>\n",
       "<table border=\"1\" class=\"dataframe\">\n",
       "  <thead>\n",
       "    <tr style=\"text-align: right;\">\n",
       "      <th></th>\n",
       "      <th>userID</th>\n",
       "      <th>movieID</th>\n",
       "      <th>rating</th>\n",
       "      <th>timestamp</th>\n",
       "    </tr>\n",
       "  </thead>\n",
       "  <tbody>\n",
       "    <tr>\n",
       "      <th>0</th>\n",
       "      <td>75</td>\n",
       "      <td>3</td>\n",
       "      <td>1.0</td>\n",
       "      <td>1162160236000</td>\n",
       "    </tr>\n",
       "    <tr>\n",
       "      <th>1</th>\n",
       "      <td>75</td>\n",
       "      <td>32</td>\n",
       "      <td>4.5</td>\n",
       "      <td>1162160624000</td>\n",
       "    </tr>\n",
       "    <tr>\n",
       "      <th>2</th>\n",
       "      <td>75</td>\n",
       "      <td>110</td>\n",
       "      <td>4.0</td>\n",
       "      <td>1162161008000</td>\n",
       "    </tr>\n",
       "    <tr>\n",
       "      <th>3</th>\n",
       "      <td>75</td>\n",
       "      <td>160</td>\n",
       "      <td>2.0</td>\n",
       "      <td>1162160212000</td>\n",
       "    </tr>\n",
       "    <tr>\n",
       "      <th>4</th>\n",
       "      <td>75</td>\n",
       "      <td>163</td>\n",
       "      <td>4.0</td>\n",
       "      <td>1162160970000</td>\n",
       "    </tr>\n",
       "  </tbody>\n",
       "</table>\n",
       "</div>"
      ],
      "text/plain": [
       "   userID  movieID  rating      timestamp\n",
       "0      75        3     1.0  1162160236000\n",
       "1      75       32     4.5  1162160624000\n",
       "2      75      110     4.0  1162161008000\n",
       "3      75      160     2.0  1162160212000\n",
       "4      75      163     4.0  1162160970000"
      ]
     },
     "execution_count": 83,
     "metadata": {},
     "output_type": "execute_result"
    }
   ],
   "source": [
    "print(ratings_df.shape)\n",
    "ratings_df.head()"
   ]
  },
  {
   "cell_type": "code",
   "execution_count": 84,
   "metadata": {
    "ExecuteTime": {
     "end_time": "2018-10-30T10:20:25.921297Z",
     "start_time": "2018-10-30T10:20:23.899919Z"
    }
   },
   "outputs": [],
   "source": [
    "ratings_df['date'] = ratings_df.timestamp.apply(pd.Timestamp)"
   ]
  },
  {
   "cell_type": "code",
   "execution_count": 86,
   "metadata": {
    "ExecuteTime": {
     "end_time": "2018-10-30T10:20:30.538577Z",
     "start_time": "2018-10-30T10:20:30.416252Z"
    }
   },
   "outputs": [
    {
     "data": {
      "text/html": [
       "<div>\n",
       "<style scoped>\n",
       "    .dataframe tbody tr th:only-of-type {\n",
       "        vertical-align: middle;\n",
       "    }\n",
       "\n",
       "    .dataframe tbody tr th {\n",
       "        vertical-align: top;\n",
       "    }\n",
       "\n",
       "    .dataframe thead th {\n",
       "        text-align: right;\n",
       "    }\n",
       "</style>\n",
       "<table border=\"1\" class=\"dataframe\">\n",
       "  <thead>\n",
       "    <tr style=\"text-align: right;\">\n",
       "      <th></th>\n",
       "      <th>userID</th>\n",
       "      <th>movieID</th>\n",
       "      <th>rating</th>\n",
       "      <th>timestamp</th>\n",
       "      <th>date</th>\n",
       "    </tr>\n",
       "  </thead>\n",
       "  <tbody>\n",
       "    <tr>\n",
       "      <th>0</th>\n",
       "      <td>75</td>\n",
       "      <td>3</td>\n",
       "      <td>1.0</td>\n",
       "      <td>1162160236000</td>\n",
       "      <td>1970-01-01 00:19:22.160236</td>\n",
       "    </tr>\n",
       "    <tr>\n",
       "      <th>1</th>\n",
       "      <td>75</td>\n",
       "      <td>32</td>\n",
       "      <td>4.5</td>\n",
       "      <td>1162160624000</td>\n",
       "      <td>1970-01-01 00:19:22.160624</td>\n",
       "    </tr>\n",
       "    <tr>\n",
       "      <th>2</th>\n",
       "      <td>75</td>\n",
       "      <td>110</td>\n",
       "      <td>4.0</td>\n",
       "      <td>1162161008000</td>\n",
       "      <td>1970-01-01 00:19:22.161008</td>\n",
       "    </tr>\n",
       "    <tr>\n",
       "      <th>3</th>\n",
       "      <td>75</td>\n",
       "      <td>160</td>\n",
       "      <td>2.0</td>\n",
       "      <td>1162160212000</td>\n",
       "      <td>1970-01-01 00:19:22.160212</td>\n",
       "    </tr>\n",
       "    <tr>\n",
       "      <th>4</th>\n",
       "      <td>75</td>\n",
       "      <td>163</td>\n",
       "      <td>4.0</td>\n",
       "      <td>1162160970000</td>\n",
       "      <td>1970-01-01 00:19:22.160970</td>\n",
       "    </tr>\n",
       "  </tbody>\n",
       "</table>\n",
       "</div>"
      ],
      "text/plain": [
       "   userID  movieID  rating      timestamp                       date\n",
       "0      75        3     1.0  1162160236000 1970-01-01 00:19:22.160236\n",
       "1      75       32     4.5  1162160624000 1970-01-01 00:19:22.160624\n",
       "2      75      110     4.0  1162161008000 1970-01-01 00:19:22.161008\n",
       "3      75      160     2.0  1162160212000 1970-01-01 00:19:22.160212\n",
       "4      75      163     4.0  1162160970000 1970-01-01 00:19:22.160970"
      ]
     },
     "execution_count": 86,
     "metadata": {},
     "output_type": "execute_result"
    }
   ],
   "source": [
    "ratings_df.head()"
   ]
  },
  {
   "cell_type": "code",
   "execution_count": null,
   "metadata": {},
   "outputs": [],
   "source": []
  },
  {
   "cell_type": "code",
   "execution_count": 103,
   "metadata": {
    "ExecuteTime": {
     "end_time": "2018-10-30T11:09:04.971906Z",
     "start_time": "2018-10-30T11:09:02.580495Z"
    }
   },
   "outputs": [],
   "source": [
    "def train_test_split(df):\n",
    "    df['subset'] = 'train'\n",
    "    df.subset[-3:] = 'test'\n",
    "    return df\n",
    "\n",
    "rdf = (ratings_df\n",
    "       .groupby(['userID'])\n",
    "       .apply(train_test_split)\n",
    "      )\n",
    "(_, test), (_ ,train) = rdf.groupby('subset')"
   ]
  },
  {
   "cell_type": "code",
   "execution_count": 105,
   "metadata": {
    "ExecuteTime": {
     "end_time": "2018-10-30T11:09:29.273761Z",
     "start_time": "2018-10-30T11:09:29.269761Z"
    }
   },
   "outputs": [
    {
     "data": {
      "text/plain": [
       "((849259, 6), (6339, 6))"
      ]
     },
     "execution_count": 105,
     "metadata": {},
     "output_type": "execute_result"
    }
   ],
   "source": [
    "train.shape, test.shape"
   ]
  },
  {
   "cell_type": "markdown",
   "metadata": {},
   "source": [
    "### Most popular\n",
    "\n",
    "**Задание 1 (1.5 балла)** Постройте рекоммендации на основе **most popular** метода, при котором пользователям рекомендуются объекты в порядке убываниях их популярности (например, среднего рейтинга). Оцените качество рекомендаций с использованием метрики MAP."
   ]
  },
  {
   "cell_type": "code",
   "execution_count": 129,
   "metadata": {
    "ExecuteTime": {
     "end_time": "2018-10-30T11:13:47.342847Z",
     "start_time": "2018-10-30T11:13:47.339863Z"
    }
   },
   "outputs": [],
   "source": [
    "from scipy.sparse import csr_matrix"
   ]
  },
  {
   "cell_type": "code",
   "execution_count": 130,
   "metadata": {
    "ExecuteTime": {
     "end_time": "2018-10-30T11:13:51.874265Z",
     "start_time": "2018-10-30T11:13:50.683549Z"
    }
   },
   "outputs": [],
   "source": [
    "train_ratings_pivot = train.pivot('userID', 'movieID', 'rating')\n",
    "train_ratings = csr_matrix(train_ratings_pivot.fillna(0))"
   ]
  },
  {
   "cell_type": "code",
   "execution_count": 133,
   "metadata": {
    "ExecuteTime": {
     "end_time": "2018-10-30T11:14:14.225341Z",
     "start_time": "2018-10-30T11:14:14.003086Z"
    }
   },
   "outputs": [],
   "source": [
    "train_movie_ratings = pd.Series(train_ratings.mean(axis=0).A1, index=train_ratings_pivot.columns)"
   ]
  },
  {
   "cell_type": "code",
   "execution_count": 137,
   "metadata": {
    "ExecuteTime": {
     "end_time": "2018-10-30T11:14:49.747104Z",
     "start_time": "2018-10-30T11:14:49.739557Z"
    }
   },
   "outputs": [
    {
     "data": {
      "text/plain": [
       "movieID\n",
       "2571    3.298864\n",
       "296     3.083057\n",
       "4993    3.023663\n",
       "318     2.977047\n",
       "356     2.916469\n",
       "dtype: float64"
      ]
     },
     "execution_count": 137,
     "metadata": {},
     "output_type": "execute_result"
    }
   ],
   "source": [
    "train_movie_ratings.sort_values(ascending=False).head()"
   ]
  },
  {
   "cell_type": "code",
   "execution_count": 163,
   "metadata": {
    "ExecuteTime": {
     "end_time": "2018-10-30T11:22:20.774774Z",
     "start_time": "2018-10-30T11:22:20.770771Z"
    }
   },
   "outputs": [],
   "source": [
    "def recommend(user, top=5):\n",
    "    seen_movies = train.movieID[train.userID == user]\n",
    "    unseen_movies = pd.Index(train.movieID).difference(seen_movies)\n",
    "    return train_movie_ratings.loc[unseen_movies]"
   ]
  },
  {
   "cell_type": "code",
   "execution_count": null,
   "metadata": {},
   "outputs": [],
   "source": [
    "def map_user(test_movies, recommendations):\n",
    "    rel = recommendations.loc[test_movies]\n",
    "    "
   ]
  },
  {
   "cell_type": "code",
   "execution_count": 164,
   "metadata": {
    "ExecuteTime": {
     "end_time": "2018-10-30T11:22:21.003895Z",
     "start_time": "2018-10-30T11:22:20.946208Z"
    }
   },
   "outputs": [
    {
     "data": {
      "text/plain": [
       "movieID\n",
       "1        2.232608\n",
       "2        1.077615\n",
       "4        0.054898\n",
       "5        0.293185\n",
       "6        1.068386\n",
       "7        0.424752\n",
       "8        0.050166\n",
       "9        0.068386\n",
       "10       1.149077\n",
       "11       0.603644\n",
       "12       0.113109\n",
       "13       0.042830\n",
       "14       0.132276\n",
       "15       0.143635\n",
       "16       0.947705\n",
       "17       0.656649\n",
       "18       0.325840\n",
       "19       0.874586\n",
       "20       0.158779\n",
       "21       0.804307\n",
       "22       0.365831\n",
       "23       0.200899\n",
       "24       0.300994\n",
       "25       0.771415\n",
       "26       0.117132\n",
       "27       0.072172\n",
       "28       0.125651\n",
       "29       0.618315\n",
       "30       0.035495\n",
       "31       0.345244\n",
       "           ...   \n",
       "63479    0.004969\n",
       "63481    0.001420\n",
       "63540    0.000237\n",
       "63698    0.001420\n",
       "63760    0.002130\n",
       "63772    0.002366\n",
       "63793    0.002840\n",
       "63853    0.011595\n",
       "63859    0.005679\n",
       "63876    0.012068\n",
       "63989    0.001420\n",
       "63992    0.008282\n",
       "64030    0.001893\n",
       "64032    0.002366\n",
       "64229    0.001420\n",
       "64231    0.001183\n",
       "64278    0.001893\n",
       "64285    0.000237\n",
       "64338    0.001893\n",
       "64497    0.004496\n",
       "64499    0.004023\n",
       "64501    0.002130\n",
       "64519    0.001420\n",
       "64575    0.006152\n",
       "64614    0.006152\n",
       "64620    0.005206\n",
       "64622    0.001183\n",
       "64701    0.001183\n",
       "64716    0.002603\n",
       "64921    0.001656\n",
       "Length: 9981, dtype: float64"
      ]
     },
     "execution_count": 164,
     "metadata": {},
     "output_type": "execute_result"
    }
   ],
   "source": [
    "recommend(test.userID.iloc[0])"
   ]
  },
  {
   "cell_type": "markdown",
   "metadata": {},
   "source": [
    "Для дальнейшей работы нам понадобится библиотека [Graphlab Create](https://turi.com/products/create/).\n",
    "\n",
    "Чтобы получить доступ до дистрибутива необходима лицензия. Бесплатная лицензия на 1 месяц будет выслана вам на почту после регистрации. Для получения более долгой бесплатной лицензии для использования в академических целях, необходимо заполнить [форму](https://turi.com/download/academic.html).\n",
    "\n",
    "Чтобы установить библиотеку нужно выполнить следующие шаги:\n",
    "\n",
    " - Зарегистрироваться по [ссылке](https://turi.com/download/academic.html). После регистрации получаете лицензию и Product key (эта информация будет продублирована в письме на указанную при регистрации почту). \n",
    " - Далее, сразу после регистрации вы попадаете на страницу, с которой можно скачать дистрибутив для вашей системы и установить его. Либо, после регистрации, можно установить библиотеку через pip командой:"
   ]
  },
  {
   "cell_type": "raw",
   "metadata": {},
   "source": [
    "pip install --upgrade --no-cache-dir https://get.graphlab.com/GraphLab-Create/2.1/your_registered_email_address_here/your_product_key_here/GraphLab-Create-License.tar.gz"
   ]
  },
  {
   "cell_type": "markdown",
   "metadata": {},
   "source": [
    "Подробнее про установку можно так же почитать [здесь](https://turi.com/download/install-graphlab-create-command-line.html)."
   ]
  },
  {
   "cell_type": "markdown",
   "metadata": {},
   "source": [
    "Теперь рассмотрим [memory-based](https://en.wikipedia.org/wiki/Collaborative_filtering) методы рекоммендаций. Подход, лежащий в их основе, использует данные о рейтингах для вычисления сходства между пользователями (user-based) или объектами (item-based). На основе этих данных делаются предсказания рейтингов и, в дальнейшем, строятся рекомендации. Эти методы просты в реализации и эффективны на ранних стадиях разработки рекомендательных систем."
   ]
  },
  {
   "cell_type": "markdown",
   "metadata": {},
   "source": [
    "### Memory-based\n",
    "\n",
    "**Задание 2 (1.5 балла)** Постройте рекоммендации на основе [item-based](https://turi.com/products/create/docs/generated/graphlab.recommender.item_similarity_recommender.ItemSimilarityRecommender.html) подхода, реализованном в библиотеке Graphlab Create. Оцените качество рекомендаций в зависимости от выбранной функции похожести *cosine/pearson* по каждой из описанных выше метрик (RMSE, MAP)."
   ]
  },
  {
   "cell_type": "code",
   "execution_count": null,
   "metadata": {
    "collapsed": true
   },
   "outputs": [],
   "source": []
  },
  {
   "cell_type": "markdown",
   "metadata": {},
   "source": [
    "### Matrix factorization\n",
    "\n",
    "**Задание 3 (3 балла)** Разложите матрицу рейтингов с помощью [разреженного SVD](http://scikit-learn.org/stable/modules/generated/sklearn.decomposition.TruncatedSVD.html) и, восстановив ее, получите предсказания рейтингов для всех пар пользователь-объект. В данном случае неизвестные рейтинги заполняются нулями, а затем восстанавливаются с помощью SVD (этот метод называется PureSVD). Рассмотрите 5 различных значений ранга разложения. Оцените качество рекомендаций, используя описанные выше метрики. Для обеих метрик постройте графики зависимости качества алгоритма от выбранного ранга разложения. \n",
    "\n",
    "Как значение ранга влияет на метрики? Не забывайте делать аргументированные выводы на основании полученных результатов."
   ]
  },
  {
   "cell_type": "code",
   "execution_count": null,
   "metadata": {
    "collapsed": true
   },
   "outputs": [],
   "source": []
  },
  {
   "cell_type": "markdown",
   "metadata": {},
   "source": [
    "**Задание 4 (4 балла)** В пакете GraphLab Create также есть встроенный алгоритм рекомендации  [RankingFactorizationRecommender](https://turi.com/products/create/docs/generated/graphlab.recommender.ranking_factorization_recommender.RankingFactorizationRecommender.html) ([о том как его создавать](https://turi.com/products/create/docs/generated/graphlab.recommender.ranking_factorization_recommender.create.html#graphlab.recommender.ranking_factorization_recommender.create)). Проведите эксперименты из предыдущего задания для этого алгоритма рекомендаций, рассмотрев как влияют различные параметры на результат. Сравните их с полученными ранее результатами.\n",
    "\n",
    "Описание параметров алгоритма можно найти [здесь](https://turi.com/products/create/docs/generated/graphlab.recommender.ranking_factorization_recommender.create.html). Мы рекомендуем при проведении экспериментов обратить внимание на некоторые из следующих параметров:\n",
    " - binary_targets\n",
    " - num_factors\n",
    " - ranking_regularization\n",
    " - unobserved_rating_value\n",
    " - num_sampled_negative_examples"
   ]
  },
  {
   "cell_type": "code",
   "execution_count": null,
   "metadata": {
    "collapsed": true
   },
   "outputs": [],
   "source": []
  },
  {
   "cell_type": "markdown",
   "metadata": {},
   "source": [
    "## Категориальные и разреженные признаки (10 баллов)\n",
    "\n",
    "В этой части задания мы рассмотрим несколько подходов к работе с категориальными и разреженными признаками. В данном случае это id-пользователя и id-фильма, а также предлагаем на ваше усмотрение добавить один или несколько признаков из имеющихся данных, например: жанр фильма, киноперсоны из фильма, последний оцененный пользователем фильм, средняя оценка пользователя, ...\n",
    "\n",
    "Для выбранного набора/наборов признаков будет необходимо построить рекомендательные системы, используя библиотеки [Vopwal Wabbit](https://github.com/JohnLangford/vowpal_wabbit/wiki), [LibFM](http://libfm.org) и [xgboost](https://github.com/dmlc/xgboost). При работе с этими библиотеками не забывайте, что консольные комманды нужно исполнять прямо из ipython-notebook'а, чтобы история ваших запусков сохранилась и проверяющие могли её оценить."
   ]
  },
  {
   "cell_type": "markdown",
   "metadata": {},
   "source": [
    "### Разреженные признаки\n",
    "\n",
    "В данной части раьоты вам необходимо создать разреженную матрицу данных, закодировав каждый из категориальных признаков вектором чисел. Примером может служить следующая иллюстрация добавления различных признаков:\n",
    "\n",
    "![](http://i.imgur.com/7nUMFx5.png)\n",
    "\n",
    "Здесь, для наглядности, вся матрица объект-признак разбита на части, каждая из которых соответствует одному или группе категориальных признаков. Например, часть *User* соответствует закодированному признаку *user_id*, часть *Movie* — признаку *movie_id*, *Other movies rated* содержит в себе оценки пользователя другим фильмам, а *Last movie rated* соответствует признаку \"последний оцененный пользователем фильм\"."
   ]
  },
  {
   "cell_type": "markdown",
   "metadata": {},
   "source": [
    "#### Vowpal Wabbit\n",
    "\n",
    "С этой библиотекой вы знакомились в рамках другой лабораторной работы, где были даны подробне инструкции по ее установке и функциональности.\n",
    "\n",
    "Создайте описанную выше выборку в формате пригодном для обучения модели с помощью Vopwal Wabbit."
   ]
  },
  {
   "cell_type": "code",
   "execution_count": null,
   "metadata": {
    "collapsed": true
   },
   "outputs": [],
   "source": []
  },
  {
   "cell_type": "markdown",
   "metadata": {},
   "source": [
    "** Задание 7 (3 балла)** Обучите **квадратичную модель** на полученной выбороке c помощью Vopwal Wabbit. Посчитайте качество предсказаний."
   ]
  },
  {
   "cell_type": "code",
   "execution_count": null,
   "metadata": {
    "collapsed": true
   },
   "outputs": [],
   "source": []
  },
  {
   "cell_type": "markdown",
   "metadata": {},
   "source": [
    "### libFm\n",
    "\n",
    "Библиотека [libFM](http://libfm.org) реализует общий подход к задачам с категориальными признаками, в основе которого лежат факторизационные машины. В данном дистрибутиве реализованы такие методы как stochastic gradient descent ([SGD](https://en.wikipedia.org/wiki/Stochastic_gradient_descent)), alternating least squares ([ALS](https://arxiv.org/pdf/1206.2493.pdf)), а также Bayesian inference using Markov Chain Monte Carlo ([MCMC](https://en.wikipedia.org/wiki/Markov_chain_Monte_Carlo)). \n",
    "Подробную информацию можно найти в [мануале](http://www.libfm.org/libfm-1.42.manual.pdf).\n",
    "\n",
    "libFm принимает данные в следующем формате:\n",
    "\n",
    "    <target> <feature-id>:<feature-value> <feature-id>:<feature-value> ...\n",
    "\n",
    "Например:\n",
    "\n",
    "    4 0:1.5 3:-7.9\n",
    "    2 1:1e-5 3:2\n",
    "    -1 6:1\n",
    "\n",
    "Если признак не указан, то он считается равным нулю. Таким образом, закодированный категориальный признак можно задать одной записью, например: \n",
    "\n",
    "    <user-id>:1.0"
   ]
  },
  {
   "cell_type": "markdown",
   "metadata": {},
   "source": [
    "Создайте описанную выше выборку в формате пригодном для LibFM."
   ]
  },
  {
   "cell_type": "code",
   "execution_count": null,
   "metadata": {
    "collapsed": true
   },
   "outputs": [],
   "source": []
  },
  {
   "cell_type": "markdown",
   "metadata": {},
   "source": [
    "**Задание 8 (3 балла)** Постройте предсказания оценок при помощи факторизационных машин, используя библиотеку LibFM. Выберете наиболее подходящий метод обучения. Посчитайте качество построенной модели."
   ]
  },
  {
   "cell_type": "code",
   "execution_count": null,
   "metadata": {
    "collapsed": true
   },
   "outputs": [],
   "source": []
  },
  {
   "cell_type": "markdown",
   "metadata": {},
   "source": [
    "### Признаки-счётчики\n",
    "\n",
    "В качестве иллюстрации что такое признаки-счётчики, рассмотрим категориальный признак \"жанр фильма\". Для каждого жанра мы можем посчитать некоторое числовое значение, например, среднее значение оценок фильмов этого жанра. Затем, если в матрице данных заменить значения жанров этого категориального признака на соответствующие значения средних рейтингов данных жанров, то получится новый числовой признак-счётчик.\n",
    "\n",
    "Здесь стоит обратить внимание на следующее:\n",
    "\n",
    "1. При создании таких счётчиков категориальных признаков по целевой переменной, важно не использовать оценки из настоящего и будущего. То есть, в нашем примере, при расчете среднего для конкретного объекта нельзя использовать как оценку текущего объекта, так и оценки, которые были поставлены позже. Иначе возникнет переобучение.\n",
    "2. В качестве счетчиков можно рассматривать и другие статистики: число встречаемости данного значения, медиану целевой переменной по объектам с тем же значением данного категориального признака и т.п.\n",
    "3. Подобные признаки-счётчики можно считать не только по одному категориальному признаку, как в примере с жанром фильма, но и и по набору из нескольких категориальных признаков, например, по паре (жанр, киноперсоны).\n",
    "4. Счётчики можно считать не только по целевой переменной, но и относительно других признаков."
   ]
  },
  {
   "cell_type": "markdown",
   "metadata": {},
   "source": [
    "**Задание 8 (3 балла)** Используя исходные данные, создайте выборку с набором признаков-счётчиков. На полученной выборке с счетчиками постройте предсказания оценок, используя xgboost. Постарайтесь добиться качества сравнимого с качеством моделей из предыдущего пункта. Какие признаки-счётчики оказались наиболее удачными? Почему? "
   ]
  },
  {
   "cell_type": "code",
   "execution_count": null,
   "metadata": {
    "collapsed": true
   },
   "outputs": [],
   "source": []
  },
  {
   "cell_type": "markdown",
   "metadata": {},
   "source": [
    "**Задание 9 (1 балл)** Приведите сравнение качества всех моделей, использованных в работе, руководствуясь значениями описанных метрик. Какие из моделей оказались лучше других по каждой из метрик? Чем это можно объяснить?"
   ]
  },
  {
   "cell_type": "code",
   "execution_count": null,
   "metadata": {
    "collapsed": true
   },
   "outputs": [],
   "source": []
  }
 ],
 "metadata": {
  "kernelspec": {
   "display_name": "Python 3",
   "language": "python",
   "name": "python3"
  },
  "language_info": {
   "codemirror_mode": {
    "name": "ipython",
    "version": 3
   },
   "file_extension": ".py",
   "mimetype": "text/x-python",
   "name": "python",
   "nbconvert_exporter": "python",
   "pygments_lexer": "ipython3",
   "version": "3.6.6"
  },
  "toc": {
   "base_numbering": 1,
   "nav_menu": {},
   "number_sections": true,
   "sideBar": true,
   "skip_h1_title": false,
   "title_cell": "Table of Contents",
   "title_sidebar": "Contents",
   "toc_cell": true,
   "toc_position": {},
   "toc_section_display": true,
   "toc_window_display": false
  }
 },
 "nbformat": 4,
 "nbformat_minor": 2
}
