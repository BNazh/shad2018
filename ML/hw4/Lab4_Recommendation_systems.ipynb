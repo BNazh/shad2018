{
 "cells": [
  {
   "cell_type": "markdown",
   "metadata": {
    "toc": true
   },
   "source": [
    "<h1>Table of Contents<span class=\"tocSkip\"></span></h1>\n",
    "<div class=\"toc\"><ul class=\"toc-item\"><li><span><a href=\"#Лабораторная-работа-4.-Рекомендательные-системы-и-категориальные-признаки-(20-баллов)\" data-toc-modified-id=\"Лабораторная-работа-4.-Рекомендательные-системы-и-категориальные-признаки-(20-баллов)-1\"><span class=\"toc-item-num\">1&nbsp;&nbsp;</span>Лабораторная работа 4. Рекомендательные системы и категориальные признаки (20 баллов)</a></span><ul class=\"toc-item\"><li><ul class=\"toc-item\"><li><span><a href=\"#Оценивание-и-штрафы\" data-toc-modified-id=\"Оценивание-и-штрафы-1.0.1\"><span class=\"toc-item-num\">1.0.1&nbsp;&nbsp;</span>Оценивание и штрафы</a></span></li></ul></li><li><span><a href=\"#Рекомендательные-системы-(10-баллов)\" data-toc-modified-id=\"Рекомендательные-системы-(10-баллов)-1.1\"><span class=\"toc-item-num\">1.1&nbsp;&nbsp;</span>Рекомендательные системы (10 баллов)</a></span></li><li><span><a href=\"#Оценивание-качества-рекомендаций\" data-toc-modified-id=\"Оценивание-качества-рекомендаций-1.2\"><span class=\"toc-item-num\">1.2&nbsp;&nbsp;</span>Оценивание качества рекомендаций</a></span><ul class=\"toc-item\"><li><ul class=\"toc-item\"><li><span><a href=\"#RMSE\" data-toc-modified-id=\"RMSE-1.2.0.1\"><span class=\"toc-item-num\">1.2.0.1&nbsp;&nbsp;</span>RMSE</a></span></li><li><span><a href=\"#MAP\" data-toc-modified-id=\"MAP-1.2.0.2\"><span class=\"toc-item-num\">1.2.0.2&nbsp;&nbsp;</span>MAP</a></span></li><li><span><a href=\"#Другие-способы-оценки-качества-рекомендаций\" data-toc-modified-id=\"Другие-способы-оценки-качества-рекомендаций-1.2.0.3\"><span class=\"toc-item-num\">1.2.0.3&nbsp;&nbsp;</span>Другие способы оценки качества рекомендаций</a></span></li></ul></li></ul></li><li><span><a href=\"#Коллаборативная-фильтрация\" data-toc-modified-id=\"Коллаборативная-фильтрация-1.3\"><span class=\"toc-item-num\">1.3&nbsp;&nbsp;</span>Коллаборативная фильтрация</a></span><ul class=\"toc-item\"><li><span><a href=\"#Most-popular\" data-toc-modified-id=\"Most-popular-1.3.1\"><span class=\"toc-item-num\">1.3.1&nbsp;&nbsp;</span>Most popular</a></span></li><li><span><a href=\"#Memory-based\" data-toc-modified-id=\"Memory-based-1.3.2\"><span class=\"toc-item-num\">1.3.2&nbsp;&nbsp;</span>Memory-based</a></span></li><li><span><a href=\"#Matrix-factorization\" data-toc-modified-id=\"Matrix-factorization-1.3.3\"><span class=\"toc-item-num\">1.3.3&nbsp;&nbsp;</span>Matrix factorization</a></span></li></ul></li><li><span><a href=\"#Категориальные-и-разреженные-признаки-(10-баллов)\" data-toc-modified-id=\"Категориальные-и-разреженные-признаки-(10-баллов)-1.4\"><span class=\"toc-item-num\">1.4&nbsp;&nbsp;</span>Категориальные и разреженные признаки (10 баллов)</a></span><ul class=\"toc-item\"><li><span><a href=\"#Разреженные-признаки\" data-toc-modified-id=\"Разреженные-признаки-1.4.1\"><span class=\"toc-item-num\">1.4.1&nbsp;&nbsp;</span>Разреженные признаки</a></span><ul class=\"toc-item\"><li><span><a href=\"#Vowpal-Wabbit\" data-toc-modified-id=\"Vowpal-Wabbit-1.4.1.1\"><span class=\"toc-item-num\">1.4.1.1&nbsp;&nbsp;</span>Vowpal Wabbit</a></span></li></ul></li><li><span><a href=\"#libFm\" data-toc-modified-id=\"libFm-1.4.2\"><span class=\"toc-item-num\">1.4.2&nbsp;&nbsp;</span>libFm</a></span></li><li><span><a href=\"#Признаки-счётчики\" data-toc-modified-id=\"Признаки-счётчики-1.4.3\"><span class=\"toc-item-num\">1.4.3&nbsp;&nbsp;</span>Признаки-счётчики</a></span></li></ul></li></ul></li></ul></div>"
   ]
  },
  {
   "cell_type": "markdown",
   "metadata": {},
   "source": [
    "# Лабораторная работа 4. Рекомендательные системы и категориальные признаки (20 баллов)\n",
    "\n",
    "Результат лабораторной работы − отчет. Мы предпочитаем принимать отчеты в формате ноутбуков IPython (ipynb-файл). Постарайтесь сделать ваш отчет интересным рассказом, последовательно отвечающим на вопросы из заданий. Помимо ответов на вопросы, в отчете так же должен быть код, однако чем меньше кода, тем лучше всем: нам − меньше проверять, вам — проще найти ошибку или дополнить эксперимент. При проверке оценивается четкость ответов на вопросы, аккуратность отчета и кода.\n",
    "\n",
    "### Оценивание и штрафы\n",
    "Каждая из задач имеет определенную «стоимость» (указана в скобках около задачи). Сдавать задание после указанного срока сдачи нельзя. «Похожие» решения считаются плагиатом и все задействованные студенты (в том числе те, у кого списали) не могут получить за него больше 0 баллов и понижают карму (подробнее о плагиате см. на странице курса). Если вы нашли решение какого-то из заданий в открытом источнике, необходимо прислать ссылку на этот источник (скорее всего вы будете не единственным, кто это нашел, поэтому чтобы исключить подозрение в плагиате, нам необходима ссылка на источник)."
   ]
  },
  {
   "cell_type": "markdown",
   "metadata": {},
   "source": [
    "## Рекомендательные системы (10 баллов)"
   ]
  },
  {
   "cell_type": "markdown",
   "metadata": {},
   "source": [
    "![](http://i.imgur.com/vHUVoWw.png)\n",
    "\n",
    "В этой лабораторной работе будет рассмотрена задача предсказания оценки, которую пользователь поставит фильму. Особенность этой задачи в том, что объекты выборки описываются категориальными признаками, принимающими большое число значений (например: идентификатор пользователя, идентификатор фильма, тэги, киноперсоны).\n",
    "\n",
    "Мы будем работать с датасетом [MovieLens + IMDb/Rotten Tomatoes](http://files.grouplens.org/datasets/hetrec2011/hetrec2011-movielens-2k-v2.zip) ([описание](http://files.grouplens.org/datasets/hetrec2011/hetrec2011-movielens-readme.txt)). Набор содержит данные о предпочтениях пользователей сервиса рекомендации кинофильмов [MovieLens](http://www.movielens.org/). Пользовательские оценки для фильмов принимают целые значения в интервале от 1 до 5, они записаны в файле *user_ratedmovies.dat* (а так же в *user_ratedmovies-timestamps.dat*,  где для каждой оценки записаны дата и время в формате timestamp), остальные файлы содержат дополнительную информацию о фильмах, которую можно использовать в качестве признаков. Заметьте: кроме оценок (и тегов), про пользователя ничего не известно.\n",
    "\n",
    "На основании этих данных необходимо построить модель, предсказывающую оценку пользователя фильму, который он еще не смотрел."
   ]
  },
  {
   "cell_type": "markdown",
   "metadata": {},
   "source": [
    "## Оценивание качества рекомендаций\n",
    "\n",
    "Выберем некоторого пользователя $u$ и обозначим известные для него рейтинги за $R^u$. В качестве тестовых рейтингов этого пользователя $R^u_{test}$ рассмотрим три рейтинга, поставленные последними по времени. Остальные известные рейтинги будут составлять обучающую выборку $R^u_{train}$. Тогда все известные рейтинги можно представить как $R^u=R^u_{train}\\cup R^u_{test}$. Отсутствующие оценки обозначим за $R^u_{unknown}$. \n",
    "\n",
    "Для измерения качества рекомендаций в этой лабораторной работе используйте две метрики RMSE и MAP, описанные ниже.\n",
    "\n",
    "#### RMSE\n",
    "\n",
    "Метрика [RMSE](https://en.wikipedia.org/wiki/Root-mean-square_deviation) вычисляется следующим образом:\n",
    "$$ RMSE = \\sqrt{ \\frac{1}{\\left|R_{test}\\right|} \\sum_{(u,i) \\in R_{test}} (r_{ui} - \\hat{r}_{ui})^2 },$$\n",
    "где $r_{ui}$ — наблюдаемая (правильная) оценка, а $\\hat{r}_{ui}$ — оценка, предсказанная моделью.\n",
    "\n",
    "Метрика RMSE предназначена для оценки точности предсказания, ее удобно оптимизировать напрямую. Однако, нужно учесть, что RMSE не лучший кандидат для оценки качества рекомендаций:\n",
    "- Во-первых, RMSE оценивает точность предсказания рейтингов, что в задачах рекомендаций, как правило, менее важно, нежели верное ранжирование объектов (безотносительно абсолютных значений рейтингов). На практике часто бывает, что алгоритмы с худшим RMSE в продакшене работают лучше, чем алгоритмы с меньшим значением RMSE. Например, при использовании моделей рекомендаций на основе матричных разложений, заполнение отсутствующих оценок нулями имеет имеет худшее значение RMSE чем если бы эти оценки не учитывались совсем, но при этом часто сами рекомендации становятся лучше. \n",
    "- Во-вторых, RMSE одинаково штрафует точность предсказания оценок более популярных фильмов (которые попадут в блок рекомендаций) и менее популярных фильмов (длинный хвост из нерелевантных фильмов).\n",
    "\n",
    "#### MAP\n",
    "\n",
    "Для оценки качества рекомендаций также можно использовать метрику качества ранжирования. В этом случае для каждого пользователя $u$ предскажем оценку для всех фильмов из $R^u_{test}$ и $R^u_{unknown}$ и отсортируем эти фильмы по убыванию предсказанного рейтинга. Ожидается, что хороший алгоритм должен выдать релевантные фильмы вверху списка. Обозначим позиции объектов в этом списке за $k^u_i$.\n",
    "\n",
    "Назовем релевантными те фильмы, которые входят в $R^u_{test}$ и имеют оценку $\\ge 3$. Обозначим их за $Rel^u$. Тогда можно вычислить следующую метрику качества рекомендаций для одного пользователя:\n",
    "\n",
    "$$AP^u=\\frac{1}{|Rel^u|} \\sum_{(u,i) \\in Rel^u} \\frac{1}{k^u_i}.$$\n",
    "\n",
    "Усреднив значение этой метрики по всем пользователями, мы получим окончательное значение метрики $MAP$. Пользователей без релевантных фильмов в тестовой выборке можно не учитывать.\n",
    "\n",
    "#### Другие способы оценки качества рекомендаций\n",
    "\n",
    "На практике, как правило, качество рекомендательных систем оценивается в онлайне с помощью [A/B-тестирования](https://ru.wikipedia.org/wiki/A/B-тестирование)."
   ]
  },
  {
   "cell_type": "markdown",
   "metadata": {},
   "source": [
    "## Коллаборативная фильтрация"
   ]
  },
  {
   "cell_type": "markdown",
   "metadata": {},
   "source": [
    "Загрузите данные и создайте разреженную матрицу пользователи-фильмы, где в каждой ячейке стоит рейтинг, если он известен, или ноль, если неизвестен."
   ]
  },
  {
   "cell_type": "code",
   "execution_count": 1,
   "metadata": {
    "ExecuteTime": {
     "end_time": "2018-11-05T16:49:03.651322Z",
     "start_time": "2018-11-05T16:49:02.192747Z"
    }
   },
   "outputs": [],
   "source": [
    "import numpy as np\n",
    "import pandas as pd\n",
    "ratings_df = pd.read_csv(open('./hetrec2011-movielens-2k-v2/user_ratedmovies-timestamps.dat', 'rb'), sep='\\t')"
   ]
  },
  {
   "cell_type": "code",
   "execution_count": 2,
   "metadata": {
    "ExecuteTime": {
     "end_time": "2018-11-05T16:49:04.191861Z",
     "start_time": "2018-11-05T16:49:04.128191Z"
    }
   },
   "outputs": [
    {
     "name": "stdout",
     "output_type": "stream",
     "text": [
      "(855598, 4)\n"
     ]
    },
    {
     "data": {
      "text/html": [
       "<div>\n",
       "<style scoped>\n",
       "    .dataframe tbody tr th:only-of-type {\n",
       "        vertical-align: middle;\n",
       "    }\n",
       "\n",
       "    .dataframe tbody tr th {\n",
       "        vertical-align: top;\n",
       "    }\n",
       "\n",
       "    .dataframe thead th {\n",
       "        text-align: right;\n",
       "    }\n",
       "</style>\n",
       "<table border=\"1\" class=\"dataframe\">\n",
       "  <thead>\n",
       "    <tr style=\"text-align: right;\">\n",
       "      <th></th>\n",
       "      <th>userID</th>\n",
       "      <th>movieID</th>\n",
       "      <th>rating</th>\n",
       "      <th>timestamp</th>\n",
       "    </tr>\n",
       "  </thead>\n",
       "  <tbody>\n",
       "    <tr>\n",
       "      <th>0</th>\n",
       "      <td>75</td>\n",
       "      <td>3</td>\n",
       "      <td>1.0</td>\n",
       "      <td>1162160236000</td>\n",
       "    </tr>\n",
       "    <tr>\n",
       "      <th>1</th>\n",
       "      <td>75</td>\n",
       "      <td>32</td>\n",
       "      <td>4.5</td>\n",
       "      <td>1162160624000</td>\n",
       "    </tr>\n",
       "    <tr>\n",
       "      <th>2</th>\n",
       "      <td>75</td>\n",
       "      <td>110</td>\n",
       "      <td>4.0</td>\n",
       "      <td>1162161008000</td>\n",
       "    </tr>\n",
       "    <tr>\n",
       "      <th>3</th>\n",
       "      <td>75</td>\n",
       "      <td>160</td>\n",
       "      <td>2.0</td>\n",
       "      <td>1162160212000</td>\n",
       "    </tr>\n",
       "    <tr>\n",
       "      <th>4</th>\n",
       "      <td>75</td>\n",
       "      <td>163</td>\n",
       "      <td>4.0</td>\n",
       "      <td>1162160970000</td>\n",
       "    </tr>\n",
       "  </tbody>\n",
       "</table>\n",
       "</div>"
      ],
      "text/plain": [
       "   userID  movieID  rating      timestamp\n",
       "0      75        3     1.0  1162160236000\n",
       "1      75       32     4.5  1162160624000\n",
       "2      75      110     4.0  1162161008000\n",
       "3      75      160     2.0  1162160212000\n",
       "4      75      163     4.0  1162160970000"
      ]
     },
     "execution_count": 2,
     "metadata": {},
     "output_type": "execute_result"
    }
   ],
   "source": [
    "print(ratings_df.shape)\n",
    "ratings_df.head()"
   ]
  },
  {
   "cell_type": "code",
   "execution_count": 3,
   "metadata": {
    "ExecuteTime": {
     "end_time": "2018-11-05T16:49:05.961896Z",
     "start_time": "2018-11-05T16:49:04.558002Z"
    }
   },
   "outputs": [],
   "source": [
    "ratings_df['date'] = ratings_df.timestamp.apply(pd.Timestamp)"
   ]
  },
  {
   "cell_type": "code",
   "execution_count": 4,
   "metadata": {
    "ExecuteTime": {
     "end_time": "2018-11-05T16:49:05.975935Z",
     "start_time": "2018-11-05T16:49:05.964429Z"
    }
   },
   "outputs": [
    {
     "data": {
      "text/html": [
       "<div>\n",
       "<style scoped>\n",
       "    .dataframe tbody tr th:only-of-type {\n",
       "        vertical-align: middle;\n",
       "    }\n",
       "\n",
       "    .dataframe tbody tr th {\n",
       "        vertical-align: top;\n",
       "    }\n",
       "\n",
       "    .dataframe thead th {\n",
       "        text-align: right;\n",
       "    }\n",
       "</style>\n",
       "<table border=\"1\" class=\"dataframe\">\n",
       "  <thead>\n",
       "    <tr style=\"text-align: right;\">\n",
       "      <th></th>\n",
       "      <th>userID</th>\n",
       "      <th>movieID</th>\n",
       "      <th>rating</th>\n",
       "      <th>timestamp</th>\n",
       "      <th>date</th>\n",
       "    </tr>\n",
       "  </thead>\n",
       "  <tbody>\n",
       "    <tr>\n",
       "      <th>0</th>\n",
       "      <td>75</td>\n",
       "      <td>3</td>\n",
       "      <td>1.0</td>\n",
       "      <td>1162160236000</td>\n",
       "      <td>1970-01-01 00:19:22.160236</td>\n",
       "    </tr>\n",
       "    <tr>\n",
       "      <th>1</th>\n",
       "      <td>75</td>\n",
       "      <td>32</td>\n",
       "      <td>4.5</td>\n",
       "      <td>1162160624000</td>\n",
       "      <td>1970-01-01 00:19:22.160624</td>\n",
       "    </tr>\n",
       "    <tr>\n",
       "      <th>2</th>\n",
       "      <td>75</td>\n",
       "      <td>110</td>\n",
       "      <td>4.0</td>\n",
       "      <td>1162161008000</td>\n",
       "      <td>1970-01-01 00:19:22.161008</td>\n",
       "    </tr>\n",
       "    <tr>\n",
       "      <th>3</th>\n",
       "      <td>75</td>\n",
       "      <td>160</td>\n",
       "      <td>2.0</td>\n",
       "      <td>1162160212000</td>\n",
       "      <td>1970-01-01 00:19:22.160212</td>\n",
       "    </tr>\n",
       "    <tr>\n",
       "      <th>4</th>\n",
       "      <td>75</td>\n",
       "      <td>163</td>\n",
       "      <td>4.0</td>\n",
       "      <td>1162160970000</td>\n",
       "      <td>1970-01-01 00:19:22.160970</td>\n",
       "    </tr>\n",
       "  </tbody>\n",
       "</table>\n",
       "</div>"
      ],
      "text/plain": [
       "   userID  movieID  rating      timestamp                       date\n",
       "0      75        3     1.0  1162160236000 1970-01-01 00:19:22.160236\n",
       "1      75       32     4.5  1162160624000 1970-01-01 00:19:22.160624\n",
       "2      75      110     4.0  1162161008000 1970-01-01 00:19:22.161008\n",
       "3      75      160     2.0  1162160212000 1970-01-01 00:19:22.160212\n",
       "4      75      163     4.0  1162160970000 1970-01-01 00:19:22.160970"
      ]
     },
     "execution_count": 4,
     "metadata": {},
     "output_type": "execute_result"
    }
   ],
   "source": [
    "ratings_df.head()"
   ]
  },
  {
   "cell_type": "code",
   "execution_count": null,
   "metadata": {},
   "outputs": [],
   "source": []
  },
  {
   "cell_type": "code",
   "execution_count": 5,
   "metadata": {
    "ExecuteTime": {
     "end_time": "2018-11-05T16:49:08.524668Z",
     "start_time": "2018-11-05T16:49:06.071047Z"
    }
   },
   "outputs": [],
   "source": [
    "def train_test_split(df):\n",
    "    df['subset'] = 'train'\n",
    "    df.subset[-3:] = 'test'\n",
    "    return df\n",
    "\n",
    "rdf = (ratings_df\n",
    "       .groupby(['userID'])\n",
    "       .apply(train_test_split)\n",
    "      )\n",
    "(_, test), (_ ,train) = rdf.groupby('subset')"
   ]
  },
  {
   "cell_type": "code",
   "execution_count": 6,
   "metadata": {
    "ExecuteTime": {
     "end_time": "2018-11-05T16:49:08.530684Z",
     "start_time": "2018-11-05T16:49:08.527175Z"
    }
   },
   "outputs": [
    {
     "data": {
      "text/plain": [
       "((849259, 6), (6339, 6))"
      ]
     },
     "execution_count": 6,
     "metadata": {},
     "output_type": "execute_result"
    }
   ],
   "source": [
    "train.shape, test.shape"
   ]
  },
  {
   "cell_type": "markdown",
   "metadata": {},
   "source": [
    "### Most popular\n",
    "\n",
    "**Задание 1 (1.5 балла)** Постройте рекоммендации на основе **most popular** метода, при котором пользователям рекомендуются объекты в порядке убываниях их популярности (например, среднего рейтинга). Оцените качество рекомендаций с использованием метрики MAP."
   ]
  },
  {
   "cell_type": "code",
   "execution_count": 7,
   "metadata": {
    "ExecuteTime": {
     "end_time": "2018-11-05T16:49:09.732784Z",
     "start_time": "2018-11-05T16:49:09.695501Z"
    }
   },
   "outputs": [],
   "source": [
    "from scipy.sparse import csr_matrix"
   ]
  },
  {
   "cell_type": "code",
   "execution_count": 8,
   "metadata": {
    "ExecuteTime": {
     "end_time": "2018-11-05T16:49:11.190607Z",
     "start_time": "2018-11-05T16:49:10.031330Z"
    }
   },
   "outputs": [],
   "source": [
    "train_ratings_pivot = train.pivot('userID', 'movieID', 'rating')\n",
    "train_ratings = csr_matrix(train_ratings_pivot.fillna(0))"
   ]
  },
  {
   "cell_type": "code",
   "execution_count": 9,
   "metadata": {
    "ExecuteTime": {
     "end_time": "2018-11-05T16:49:11.406483Z",
     "start_time": "2018-11-05T16:49:11.192111Z"
    }
   },
   "outputs": [],
   "source": [
    "train_movie_ratings = train_ratings_pivot.mean(axis=0)"
   ]
  },
  {
   "cell_type": "code",
   "execution_count": 10,
   "metadata": {
    "ExecuteTime": {
     "end_time": "2018-11-05T16:49:11.648838Z",
     "start_time": "2018-11-05T16:49:11.641819Z"
    }
   },
   "outputs": [
    {
     "data": {
      "text/plain": [
       "movieID\n",
       "26142    5.0\n",
       "1039     5.0\n",
       "63310    5.0\n",
       "32352    5.0\n",
       "53835    5.0\n",
       "dtype: float64"
      ]
     },
     "execution_count": 10,
     "metadata": {},
     "output_type": "execute_result"
    }
   ],
   "source": [
    "train_movie_ratings.sort_values(ascending=False).head()"
   ]
  },
  {
   "cell_type": "code",
   "execution_count": 11,
   "metadata": {
    "ExecuteTime": {
     "end_time": "2018-11-05T16:49:12.642634Z",
     "start_time": "2018-11-05T16:49:12.638618Z"
    }
   },
   "outputs": [],
   "source": [
    "def recommend(user, top=5):\n",
    "    seen_movies = train.movieID[train.userID == user].values\n",
    "    unseen_movies = pd.Index(train.movieID.values, name='movieID').difference(seen_movies)\n",
    "    pred = train_movie_ratings.loc[unseen_movies].to_frame('score')\n",
    "    pred = pred.sort_values('score', ascending=False)\n",
    "    pred['rank'] = np.arange(len(pred))\n",
    "    return pred"
   ]
  },
  {
   "cell_type": "code",
   "execution_count": 12,
   "metadata": {
    "ExecuteTime": {
     "end_time": "2018-11-05T16:49:13.482905Z",
     "start_time": "2018-11-05T16:49:13.479392Z"
    }
   },
   "outputs": [],
   "source": [
    "def ap(user_id, all_recommendations):\n",
    "    test_movies = test.movieID[(test.userID == user_id) & (test.rating > 3)]\n",
    "    user_recommendations = all_recommendations[all_recommendations.userID == user_id]\n",
    "    rel = user_recommendations[user_recommendations.index.isin(test_movies)]\n",
    "    if len(rel) > 0:\n",
    "        idx = rel['rank']\n",
    "        a = 1. / len(rel) * sum(1. / idx)\n",
    "        return a\n",
    "    return np.nan"
   ]
  },
  {
   "cell_type": "code",
   "execution_count": 13,
   "metadata": {
    "ExecuteTime": {
     "end_time": "2018-11-05T16:50:24.078750Z",
     "start_time": "2018-11-05T16:49:14.087125Z"
    }
   },
   "outputs": [],
   "source": [
    "users = test.userID.unique()\n",
    "avg_recommendations = pd.concat((recommend(u) for u in users), keys=users, names=['userID']).reset_index()"
   ]
  },
  {
   "cell_type": "code",
   "execution_count": 14,
   "metadata": {
    "ExecuteTime": {
     "end_time": "2018-11-05T16:50:24.092286Z",
     "start_time": "2018-11-05T16:50:24.082259Z"
    }
   },
   "outputs": [
    {
     "data": {
      "text/html": [
       "<div>\n",
       "<style scoped>\n",
       "    .dataframe tbody tr th:only-of-type {\n",
       "        vertical-align: middle;\n",
       "    }\n",
       "\n",
       "    .dataframe tbody tr th {\n",
       "        vertical-align: top;\n",
       "    }\n",
       "\n",
       "    .dataframe thead th {\n",
       "        text-align: right;\n",
       "    }\n",
       "</style>\n",
       "<table border=\"1\" class=\"dataframe\">\n",
       "  <thead>\n",
       "    <tr style=\"text-align: right;\">\n",
       "      <th></th>\n",
       "      <th>userID</th>\n",
       "      <th>movieID</th>\n",
       "      <th>score</th>\n",
       "      <th>rank</th>\n",
       "    </tr>\n",
       "  </thead>\n",
       "  <tbody>\n",
       "    <tr>\n",
       "      <th>0</th>\n",
       "      <td>75</td>\n",
       "      <td>32352</td>\n",
       "      <td>5.0</td>\n",
       "      <td>0</td>\n",
       "    </tr>\n",
       "    <tr>\n",
       "      <th>1</th>\n",
       "      <td>75</td>\n",
       "      <td>60983</td>\n",
       "      <td>5.0</td>\n",
       "      <td>1</td>\n",
       "    </tr>\n",
       "    <tr>\n",
       "      <th>2</th>\n",
       "      <td>75</td>\n",
       "      <td>1039</td>\n",
       "      <td>5.0</td>\n",
       "      <td>2</td>\n",
       "    </tr>\n",
       "    <tr>\n",
       "      <th>3</th>\n",
       "      <td>75</td>\n",
       "      <td>42783</td>\n",
       "      <td>5.0</td>\n",
       "      <td>3</td>\n",
       "    </tr>\n",
       "    <tr>\n",
       "      <th>4</th>\n",
       "      <td>75</td>\n",
       "      <td>61236</td>\n",
       "      <td>5.0</td>\n",
       "      <td>4</td>\n",
       "    </tr>\n",
       "  </tbody>\n",
       "</table>\n",
       "</div>"
      ],
      "text/plain": [
       "   userID  movieID  score  rank\n",
       "0      75    32352    5.0     0\n",
       "1      75    60983    5.0     1\n",
       "2      75     1039    5.0     2\n",
       "3      75    42783    5.0     3\n",
       "4      75    61236    5.0     4"
      ]
     },
     "execution_count": 14,
     "metadata": {},
     "output_type": "execute_result"
    }
   ],
   "source": [
    "avg_recommendations.head()"
   ]
  },
  {
   "cell_type": "code",
   "execution_count": 15,
   "metadata": {
    "ExecuteTime": {
     "end_time": "2018-11-05T16:50:24.187076Z",
     "start_time": "2018-11-05T16:50:24.094291Z"
    }
   },
   "outputs": [],
   "source": [
    "def calc_map(all_recommendations):\n",
    "    return np.nanmean([ap(x, all_recommendations) for x in test.userID.unique()])"
   ]
  },
  {
   "cell_type": "code",
   "execution_count": 16,
   "metadata": {
    "ExecuteTime": {
     "end_time": "2018-11-05T16:51:27.260640Z",
     "start_time": "2018-11-05T16:50:24.189082Z"
    }
   },
   "outputs": [
    {
     "data": {
      "text/plain": [
       "0.00010759629868732516"
      ]
     },
     "execution_count": 16,
     "metadata": {},
     "output_type": "execute_result"
    }
   ],
   "source": [
    "calc_map(avg_recommendations)"
   ]
  },
  {
   "cell_type": "markdown",
   "metadata": {},
   "source": [
    "Для дальнейшей работы нам понадобится библиотека [Graphlab Create](https://turi.com/products/create/).\n",
    "\n",
    "Чтобы получить доступ до дистрибутива необходима лицензия. Бесплатная лицензия на 1 месяц будет выслана вам на почту после регистрации. Для получения более долгой бесплатной лицензии для использования в академических целях, необходимо заполнить [форму](https://turi.com/download/academic.html).\n",
    "\n",
    "Чтобы установить библиотеку нужно выполнить следующие шаги:\n",
    "\n",
    " - Зарегистрироваться по [ссылке](https://turi.com/download/academic.html). После регистрации получаете лицензию и Product key (эта информация будет продублирована в письме на указанную при регистрации почту). \n",
    " - Далее, сразу после регистрации вы попадаете на страницу, с которой можно скачать дистрибутив для вашей системы и установить его. Либо, после регистрации, можно установить библиотеку через pip командой:"
   ]
  },
  {
   "cell_type": "raw",
   "metadata": {},
   "source": [
    "pip install --upgrade --no-cache-dir https://get.graphlab.com/GraphLab-Create/2.1/your_registered_email_address_here/your_product_key_here/GraphLab-Create-License.tar.gz"
   ]
  },
  {
   "cell_type": "markdown",
   "metadata": {},
   "source": [
    "Подробнее про установку можно так же почитать [здесь](https://turi.com/download/install-graphlab-create-command-line.html)."
   ]
  },
  {
   "cell_type": "markdown",
   "metadata": {},
   "source": [
    "Теперь рассмотрим [memory-based](https://en.wikipedia.org/wiki/Collaborative_filtering) методы рекоммендаций. Подход, лежащий в их основе, использует данные о рейтингах для вычисления сходства между пользователями (user-based) или объектами (item-based). На основе этих данных делаются предсказания рейтингов и, в дальнейшем, строятся рекомендации. Эти методы просты в реализации и эффективны на ранних стадиях разработки рекомендательных систем."
   ]
  },
  {
   "cell_type": "markdown",
   "metadata": {},
   "source": [
    "### Memory-based\n",
    "\n",
    "**Задание 2 (1.5 балла)** Постройте рекоммендации на основе [item-based](https://turi.com/products/create/docs/generated/graphlab.recommender.item_similarity_recommender.ItemSimilarityRecommender.html) подхода, реализованном в библиотеке Graphlab Create. Оцените качество рекомендаций в зависимости от выбранной функции похожести *cosine/pearson* по каждой из описанных выше метрик (RMSE, MAP)."
   ]
  },
  {
   "cell_type": "code",
   "execution_count": 23,
   "metadata": {
    "ExecuteTime": {
     "end_time": "2018-10-30T19:29:56.445377Z",
     "start_time": "2018-10-30T19:29:56.108541Z"
    }
   },
   "outputs": [],
   "source": [
    "import graphlab"
   ]
  },
  {
   "cell_type": "code",
   "execution_count": 24,
   "metadata": {
    "ExecuteTime": {
     "end_time": "2018-10-30T19:30:02.017446Z",
     "start_time": "2018-10-30T19:29:56.452564Z"
    },
    "scrolled": true
   },
   "outputs": [
    {
     "name": "stdout",
     "output_type": "stream",
     "text": [
      "This non-commercial license of GraphLab Create for academic use is assigned to nssologub@yandex.ru and will expire on October 30, 2019.\n"
     ]
    },
    {
     "name": "stderr",
     "output_type": "stream",
     "text": [
      "[INFO] graphlab.cython.cy_server: GraphLab Create v2.1 started. Logging: /tmp/graphlab_server_1540927796.log\n"
     ]
    },
    {
     "data": {
      "text/html": [
       "<pre>Recsys training: model = item_similarity</pre>"
      ],
      "text/plain": [
       "Recsys training: model = item_similarity"
      ]
     },
     "metadata": {},
     "output_type": "display_data"
    },
    {
     "data": {
      "text/html": [
       "<pre>Preparing data set.</pre>"
      ],
      "text/plain": [
       "Preparing data set."
      ]
     },
     "metadata": {},
     "output_type": "display_data"
    },
    {
     "data": {
      "text/html": [
       "<pre>    Data has 849259 observations with 2113 users and 10033 items.</pre>"
      ],
      "text/plain": [
       "    Data has 849259 observations with 2113 users and 10033 items."
      ]
     },
     "metadata": {},
     "output_type": "display_data"
    },
    {
     "data": {
      "text/html": [
       "<pre>    Data prepared in: 0.347768s</pre>"
      ],
      "text/plain": [
       "    Data prepared in: 0.347768s"
      ]
     },
     "metadata": {},
     "output_type": "display_data"
    },
    {
     "data": {
      "text/html": [
       "<pre>Training model from provided data.</pre>"
      ],
      "text/plain": [
       "Training model from provided data."
      ]
     },
     "metadata": {},
     "output_type": "display_data"
    },
    {
     "data": {
      "text/html": [
       "<pre>Gathering per-item and per-user statistics.</pre>"
      ],
      "text/plain": [
       "Gathering per-item and per-user statistics."
      ]
     },
     "metadata": {},
     "output_type": "display_data"
    },
    {
     "data": {
      "text/html": [
       "<pre>+--------------------------------+------------+</pre>"
      ],
      "text/plain": [
       "+--------------------------------+------------+"
      ]
     },
     "metadata": {},
     "output_type": "display_data"
    },
    {
     "data": {
      "text/html": [
       "<pre>| Elapsed Time (Item Statistics) | % Complete |</pre>"
      ],
      "text/plain": [
       "| Elapsed Time (Item Statistics) | % Complete |"
      ]
     },
     "metadata": {},
     "output_type": "display_data"
    },
    {
     "data": {
      "text/html": [
       "<pre>+--------------------------------+------------+</pre>"
      ],
      "text/plain": [
       "+--------------------------------+------------+"
      ]
     },
     "metadata": {},
     "output_type": "display_data"
    },
    {
     "data": {
      "text/html": [
       "<pre>| 10.57ms                        | 47.25      |</pre>"
      ],
      "text/plain": [
       "| 10.57ms                        | 47.25      |"
      ]
     },
     "metadata": {},
     "output_type": "display_data"
    },
    {
     "data": {
      "text/html": [
       "<pre>| 16.575ms                       | 100        |</pre>"
      ],
      "text/plain": [
       "| 16.575ms                       | 100        |"
      ]
     },
     "metadata": {},
     "output_type": "display_data"
    },
    {
     "data": {
      "text/html": [
       "<pre>+--------------------------------+------------+</pre>"
      ],
      "text/plain": [
       "+--------------------------------+------------+"
      ]
     },
     "metadata": {},
     "output_type": "display_data"
    },
    {
     "data": {
      "text/html": [
       "<pre>Setting up lookup tables.</pre>"
      ],
      "text/plain": [
       "Setting up lookup tables."
      ]
     },
     "metadata": {},
     "output_type": "display_data"
    },
    {
     "data": {
      "text/html": [
       "<pre>Processing data in one pass using dense lookup tables.</pre>"
      ],
      "text/plain": [
       "Processing data in one pass using dense lookup tables."
      ]
     },
     "metadata": {},
     "output_type": "display_data"
    },
    {
     "data": {
      "text/html": [
       "<pre>+-------------------------------------+------------------+-----------------+</pre>"
      ],
      "text/plain": [
       "+-------------------------------------+------------------+-----------------+"
      ]
     },
     "metadata": {},
     "output_type": "display_data"
    },
    {
     "data": {
      "text/html": [
       "<pre>| Elapsed Time (Constructing Lookups) | Total % Complete | Items Processed |</pre>"
      ],
      "text/plain": [
       "| Elapsed Time (Constructing Lookups) | Total % Complete | Items Processed |"
      ]
     },
     "metadata": {},
     "output_type": "display_data"
    },
    {
     "data": {
      "text/html": [
       "<pre>+-------------------------------------+------------------+-----------------+</pre>"
      ],
      "text/plain": [
       "+-------------------------------------+------------------+-----------------+"
      ]
     },
     "metadata": {},
     "output_type": "display_data"
    },
    {
     "data": {
      "text/html": [
       "<pre>| 123.603ms                           | 0                | 3               |</pre>"
      ],
      "text/plain": [
       "| 123.603ms                           | 0                | 3               |"
      ]
     },
     "metadata": {},
     "output_type": "display_data"
    },
    {
     "data": {
      "text/html": [
       "<pre>| 1.12s                               | 86.5             | 8680            |</pre>"
      ],
      "text/plain": [
       "| 1.12s                               | 86.5             | 8680            |"
      ]
     },
     "metadata": {},
     "output_type": "display_data"
    },
    {
     "data": {
      "text/html": [
       "<pre>| 1.49s                               | 100              | 10033           |</pre>"
      ],
      "text/plain": [
       "| 1.49s                               | 100              | 10033           |"
      ]
     },
     "metadata": {},
     "output_type": "display_data"
    },
    {
     "data": {
      "text/html": [
       "<pre>+-------------------------------------+------------------+-----------------+</pre>"
      ],
      "text/plain": [
       "+-------------------------------------+------------------+-----------------+"
      ]
     },
     "metadata": {},
     "output_type": "display_data"
    },
    {
     "data": {
      "text/html": [
       "<pre>Finalizing lookup tables.</pre>"
      ],
      "text/plain": [
       "Finalizing lookup tables."
      ]
     },
     "metadata": {},
     "output_type": "display_data"
    },
    {
     "data": {
      "text/html": [
       "<pre>Generating candidate set for working with new users.</pre>"
      ],
      "text/plain": [
       "Generating candidate set for working with new users."
      ]
     },
     "metadata": {},
     "output_type": "display_data"
    },
    {
     "data": {
      "text/html": [
       "<pre>Finished training in 2.53797s</pre>"
      ],
      "text/plain": [
       "Finished training in 2.53797s"
      ]
     },
     "metadata": {},
     "output_type": "display_data"
    },
    {
     "data": {
      "text/html": [
       "<pre>recommendations finished on 1000/2113 queries. users per second: 1964.33</pre>"
      ],
      "text/plain": [
       "recommendations finished on 1000/2113 queries. users per second: 1964.33"
      ]
     },
     "metadata": {},
     "output_type": "display_data"
    },
    {
     "data": {
      "text/html": [
       "<pre>recommendations finished on 2000/2113 queries. users per second: 1993.79</pre>"
      ],
      "text/plain": [
       "recommendations finished on 2000/2113 queries. users per second: 1993.79"
      ]
     },
     "metadata": {},
     "output_type": "display_data"
    },
    {
     "name": "stdout",
     "output_type": "stream",
     "text": [
      "+---------+---------+----------------+------+\n",
      "| user_id | item_id |     score      | rank |\n",
      "+---------+---------+----------------+------+\n",
      "|    75   |   592   | 0.258822802168 |  1   |\n",
      "|    75   |   1580  | 0.254563856583 |  2   |\n",
      "|    75   |   648   | 0.25440359918  |  3   |\n",
      "|    75   |   1240  | 0.252034544945 |  4   |\n",
      "|    75   |   2628  | 0.251483353285 |  5   |\n",
      "|    75   |   5349  | 0.241107345774 |  6   |\n",
      "|    75   |   1291  | 0.240317256405 |  7   |\n",
      "|    75   |   377   |  0.2379332884  |  8   |\n",
      "|    75   |   260   | 0.237320417395 |  9   |\n",
      "|    75   |   2716  | 0.237303596277 |  10  |\n",
      "+---------+---------+----------------+------+\n",
      "[20350470 rows x 4 columns]\n",
      "Note: Only the head of the SFrame is printed.\n",
      "You can use print_rows(num_rows=m, num_columns=n) to print more rows and columns.\n"
     ]
    }
   ],
   "source": [
    "sf = graphlab.SFrame({'user_id': train.userID,\n",
    "                      'item_id': train.movieID,\n",
    "                      'rating': train.rating})\n",
    "isr = graphlab.recommender.item_similarity_recommender.create(sf, target='rating')\n",
    "recs = isr.recommend(k=train.movieID.nunique())\n",
    "print recs"
   ]
  },
  {
   "cell_type": "code",
   "execution_count": 25,
   "metadata": {
    "ExecuteTime": {
     "end_time": "2018-10-30T19:30:02.086563Z",
     "start_time": "2018-10-30T19:30:02.021387Z"
    }
   },
   "outputs": [
    {
     "name": "stdout",
     "output_type": "stream",
     "text": [
      "Canvas is accessible via web browser at the URL: http://localhost:44277/index.html\n",
      "Opening Canvas in default web browser.\n"
     ]
    }
   ],
   "source": [
    "m.show()"
   ]
  },
  {
   "cell_type": "code",
   "execution_count": 26,
   "metadata": {
    "ExecuteTime": {
     "end_time": "2018-10-30T19:30:02.136049Z",
     "start_time": "2018-10-30T19:30:02.090627Z"
    }
   },
   "outputs": [
    {
     "data": {
      "text/html": [
       "<div style=\"max-height:1000px;max-width:1500px;overflow:auto;\"><table frame=\"box\" rules=\"cols\">\n",
       "    <tr>\n",
       "        <th style=\"padding-left: 1em; padding-right: 1em; text-align: center\">user_id</th>\n",
       "        <th style=\"padding-left: 1em; padding-right: 1em; text-align: center\">item_id</th>\n",
       "        <th style=\"padding-left: 1em; padding-right: 1em; text-align: center\">score</th>\n",
       "        <th style=\"padding-left: 1em; padding-right: 1em; text-align: center\">rank</th>\n",
       "    </tr>\n",
       "    <tr>\n",
       "        <td style=\"padding-left: 1em; padding-right: 1em; text-align: center; vertical-align: top\">75</td>\n",
       "        <td style=\"padding-left: 1em; padding-right: 1em; text-align: center; vertical-align: top\">592</td>\n",
       "        <td style=\"padding-left: 1em; padding-right: 1em; text-align: center; vertical-align: top\">0.258822802168</td>\n",
       "        <td style=\"padding-left: 1em; padding-right: 1em; text-align: center; vertical-align: top\">1</td>\n",
       "    </tr>\n",
       "    <tr>\n",
       "        <td style=\"padding-left: 1em; padding-right: 1em; text-align: center; vertical-align: top\">75</td>\n",
       "        <td style=\"padding-left: 1em; padding-right: 1em; text-align: center; vertical-align: top\">1580</td>\n",
       "        <td style=\"padding-left: 1em; padding-right: 1em; text-align: center; vertical-align: top\">0.254563856583</td>\n",
       "        <td style=\"padding-left: 1em; padding-right: 1em; text-align: center; vertical-align: top\">2</td>\n",
       "    </tr>\n",
       "    <tr>\n",
       "        <td style=\"padding-left: 1em; padding-right: 1em; text-align: center; vertical-align: top\">75</td>\n",
       "        <td style=\"padding-left: 1em; padding-right: 1em; text-align: center; vertical-align: top\">648</td>\n",
       "        <td style=\"padding-left: 1em; padding-right: 1em; text-align: center; vertical-align: top\">0.25440359918</td>\n",
       "        <td style=\"padding-left: 1em; padding-right: 1em; text-align: center; vertical-align: top\">3</td>\n",
       "    </tr>\n",
       "    <tr>\n",
       "        <td style=\"padding-left: 1em; padding-right: 1em; text-align: center; vertical-align: top\">75</td>\n",
       "        <td style=\"padding-left: 1em; padding-right: 1em; text-align: center; vertical-align: top\">1240</td>\n",
       "        <td style=\"padding-left: 1em; padding-right: 1em; text-align: center; vertical-align: top\">0.252034544945</td>\n",
       "        <td style=\"padding-left: 1em; padding-right: 1em; text-align: center; vertical-align: top\">4</td>\n",
       "    </tr>\n",
       "    <tr>\n",
       "        <td style=\"padding-left: 1em; padding-right: 1em; text-align: center; vertical-align: top\">75</td>\n",
       "        <td style=\"padding-left: 1em; padding-right: 1em; text-align: center; vertical-align: top\">2628</td>\n",
       "        <td style=\"padding-left: 1em; padding-right: 1em; text-align: center; vertical-align: top\">0.251483353285</td>\n",
       "        <td style=\"padding-left: 1em; padding-right: 1em; text-align: center; vertical-align: top\">5</td>\n",
       "    </tr>\n",
       "    <tr>\n",
       "        <td style=\"padding-left: 1em; padding-right: 1em; text-align: center; vertical-align: top\">75</td>\n",
       "        <td style=\"padding-left: 1em; padding-right: 1em; text-align: center; vertical-align: top\">5349</td>\n",
       "        <td style=\"padding-left: 1em; padding-right: 1em; text-align: center; vertical-align: top\">0.241107345774</td>\n",
       "        <td style=\"padding-left: 1em; padding-right: 1em; text-align: center; vertical-align: top\">6</td>\n",
       "    </tr>\n",
       "    <tr>\n",
       "        <td style=\"padding-left: 1em; padding-right: 1em; text-align: center; vertical-align: top\">75</td>\n",
       "        <td style=\"padding-left: 1em; padding-right: 1em; text-align: center; vertical-align: top\">1291</td>\n",
       "        <td style=\"padding-left: 1em; padding-right: 1em; text-align: center; vertical-align: top\">0.240317256405</td>\n",
       "        <td style=\"padding-left: 1em; padding-right: 1em; text-align: center; vertical-align: top\">7</td>\n",
       "    </tr>\n",
       "    <tr>\n",
       "        <td style=\"padding-left: 1em; padding-right: 1em; text-align: center; vertical-align: top\">75</td>\n",
       "        <td style=\"padding-left: 1em; padding-right: 1em; text-align: center; vertical-align: top\">377</td>\n",
       "        <td style=\"padding-left: 1em; padding-right: 1em; text-align: center; vertical-align: top\">0.2379332884</td>\n",
       "        <td style=\"padding-left: 1em; padding-right: 1em; text-align: center; vertical-align: top\">8</td>\n",
       "    </tr>\n",
       "    <tr>\n",
       "        <td style=\"padding-left: 1em; padding-right: 1em; text-align: center; vertical-align: top\">75</td>\n",
       "        <td style=\"padding-left: 1em; padding-right: 1em; text-align: center; vertical-align: top\">260</td>\n",
       "        <td style=\"padding-left: 1em; padding-right: 1em; text-align: center; vertical-align: top\">0.237320417395</td>\n",
       "        <td style=\"padding-left: 1em; padding-right: 1em; text-align: center; vertical-align: top\">9</td>\n",
       "    </tr>\n",
       "    <tr>\n",
       "        <td style=\"padding-left: 1em; padding-right: 1em; text-align: center; vertical-align: top\">75</td>\n",
       "        <td style=\"padding-left: 1em; padding-right: 1em; text-align: center; vertical-align: top\">2716</td>\n",
       "        <td style=\"padding-left: 1em; padding-right: 1em; text-align: center; vertical-align: top\">0.237303596277</td>\n",
       "        <td style=\"padding-left: 1em; padding-right: 1em; text-align: center; vertical-align: top\">10</td>\n",
       "    </tr>\n",
       "</table>\n",
       "[20350470 rows x 4 columns]<br/>Note: Only the head of the SFrame is printed.<br/>You can use print_rows(num_rows=m, num_columns=n) to print more rows and columns.\n",
       "</div>"
      ],
      "text/plain": [
       "Columns:\n",
       "\tuser_id\tint\n",
       "\titem_id\tint\n",
       "\tscore\tfloat\n",
       "\trank\tint\n",
       "\n",
       "Rows: 20350470\n",
       "\n",
       "Data:\n",
       "+---------+---------+----------------+------+\n",
       "| user_id | item_id |     score      | rank |\n",
       "+---------+---------+----------------+------+\n",
       "|    75   |   592   | 0.258822802168 |  1   |\n",
       "|    75   |   1580  | 0.254563856583 |  2   |\n",
       "|    75   |   648   | 0.25440359918  |  3   |\n",
       "|    75   |   1240  | 0.252034544945 |  4   |\n",
       "|    75   |   2628  | 0.251483353285 |  5   |\n",
       "|    75   |   5349  | 0.241107345774 |  6   |\n",
       "|    75   |   1291  | 0.240317256405 |  7   |\n",
       "|    75   |   377   |  0.2379332884  |  8   |\n",
       "|    75   |   260   | 0.237320417395 |  9   |\n",
       "|    75   |   2716  | 0.237303596277 |  10  |\n",
       "+---------+---------+----------------+------+\n",
       "[20350470 rows x 4 columns]\n",
       "Note: Only the head of the SFrame is printed.\n",
       "You can use print_rows(num_rows=m, num_columns=n) to print more rows and columns."
      ]
     },
     "execution_count": 26,
     "metadata": {},
     "output_type": "execute_result"
    }
   ],
   "source": [
    "recs"
   ]
  },
  {
   "cell_type": "code",
   "execution_count": 27,
   "metadata": {
    "ExecuteTime": {
     "end_time": "2018-10-30T19:30:53.716173Z",
     "start_time": "2018-10-30T19:30:02.139556Z"
    }
   },
   "outputs": [],
   "source": [
    "item_based_recommendations = pd.DataFrame.from_dict({\n",
    "    col: recs[col] for col in recs.column_names()\n",
    "    \n",
    "}).rename(columns={'user_id': 'userID', 'item_id': 'movieID'})"
   ]
  },
  {
   "cell_type": "code",
   "execution_count": 28,
   "metadata": {
    "ExecuteTime": {
     "end_time": "2018-10-30T19:31:21.501034Z",
     "start_time": "2018-10-30T19:30:53.718607Z"
    }
   },
   "outputs": [
    {
     "data": {
      "text/plain": [
       "0.00010758472296933836"
      ]
     },
     "execution_count": 28,
     "metadata": {},
     "output_type": "execute_result"
    }
   ],
   "source": [
    "calc_map(item_based_recommendations)"
   ]
  },
  {
   "cell_type": "markdown",
   "metadata": {},
   "source": [
    "### Matrix factorization\n",
    "\n",
    "**Задание 3 (3 балла)** Разложите матрицу рейтингов с помощью [разреженного SVD](http://scikit-learn.org/stable/modules/generated/sklearn.decomposition.TruncatedSVD.html) и, восстановив ее, получите предсказания рейтингов для всех пар пользователь-объект. В данном случае неизвестные рейтинги заполняются нулями, а затем восстанавливаются с помощью SVD (этот метод называется PureSVD). Рассмотрите 5 различных значений ранга разложения. Оцените качество рекомендаций, используя описанные выше метрики. Для обеих метрик постройте графики зависимости качества алгоритма от выбранного ранга разложения. \n",
    "\n",
    "Как значение ранга влияет на метрики? Не забывайте делать аргументированные выводы на основании полученных результатов."
   ]
  },
  {
   "cell_type": "code",
   "execution_count": 35,
   "metadata": {
    "ExecuteTime": {
     "end_time": "2018-11-05T17:13:01.268985Z",
     "start_time": "2018-11-05T17:13:01.265975Z"
    }
   },
   "outputs": [],
   "source": [
    "from sklearn.decomposition import TruncatedSVD\n",
    "from sklearn.utils.extmath import randomized_svd"
   ]
  },
  {
   "cell_type": "code",
   "execution_count": 38,
   "metadata": {
    "ExecuteTime": {
     "end_time": "2018-11-05T17:13:25.929529Z",
     "start_time": "2018-11-05T17:13:25.679795Z"
    }
   },
   "outputs": [],
   "source": [
    "u, s, d = randomized_svd(train_ratings, 10)"
   ]
  },
  {
   "cell_type": "code",
   "execution_count": 44,
   "metadata": {
    "ExecuteTime": {
     "end_time": "2018-11-05T17:14:38.407406Z",
     "start_time": "2018-11-05T17:14:38.304854Z"
    }
   },
   "outputs": [],
   "source": [
    "ratings_restored = np.dot(u * s, d)"
   ]
  },
  {
   "cell_type": "code",
   "execution_count": 46,
   "metadata": {
    "ExecuteTime": {
     "end_time": "2018-11-05T17:16:55.956545Z",
     "start_time": "2018-11-05T17:16:55.953036Z"
    }
   },
   "outputs": [],
   "source": [
    "ratings_pred = pd.DataFrame(ratings_restored, index=train_ratings_pivot.index, columns=train_ratings_pivot.columns)"
   ]
  },
  {
   "cell_type": "code",
   "execution_count": 61,
   "metadata": {
    "ExecuteTime": {
     "end_time": "2018-11-05T17:26:52.020878Z",
     "start_time": "2018-11-05T17:26:50.802545Z"
    }
   },
   "outputs": [],
   "source": [
    "ddd = ratings_pred[train_ratings_pivot.isnull()].stack().to_frame('score')"
   ]
  },
  {
   "cell_type": "code",
   "execution_count": null,
   "metadata": {},
   "outputs": [],
   "source": [
    "ddd.groupby()"
   ]
  },
  {
   "cell_type": "code",
   "execution_count": 57,
   "metadata": {
    "ExecuteTime": {
     "end_time": "2018-11-05T17:25:24.111821Z",
     "start_time": "2018-11-05T17:25:17.389903Z"
    }
   },
   "outputs": [
    {
     "data": {
      "text/html": [
       "<div>\n",
       "<style scoped>\n",
       "    .dataframe tbody tr th:only-of-type {\n",
       "        vertical-align: middle;\n",
       "    }\n",
       "\n",
       "    .dataframe tbody tr th {\n",
       "        vertical-align: top;\n",
       "    }\n",
       "\n",
       "    .dataframe thead th {\n",
       "        text-align: right;\n",
       "    }\n",
       "</style>\n",
       "<table border=\"1\" class=\"dataframe\">\n",
       "  <thead>\n",
       "    <tr style=\"text-align: right;\">\n",
       "      <th></th>\n",
       "      <th>0</th>\n",
       "      <th>1</th>\n",
       "      <th>2</th>\n",
       "      <th>3</th>\n",
       "      <th>4</th>\n",
       "      <th>5</th>\n",
       "      <th>6</th>\n",
       "      <th>7</th>\n",
       "      <th>8</th>\n",
       "      <th>9</th>\n",
       "      <th>...</th>\n",
       "      <th>10006</th>\n",
       "      <th>10007</th>\n",
       "      <th>10008</th>\n",
       "      <th>10009</th>\n",
       "      <th>10010</th>\n",
       "      <th>10011</th>\n",
       "      <th>10012</th>\n",
       "      <th>10013</th>\n",
       "      <th>10014</th>\n",
       "      <th>10015</th>\n",
       "    </tr>\n",
       "    <tr>\n",
       "      <th>userID</th>\n",
       "      <th></th>\n",
       "      <th></th>\n",
       "      <th></th>\n",
       "      <th></th>\n",
       "      <th></th>\n",
       "      <th></th>\n",
       "      <th></th>\n",
       "      <th></th>\n",
       "      <th></th>\n",
       "      <th></th>\n",
       "      <th></th>\n",
       "      <th></th>\n",
       "      <th></th>\n",
       "      <th></th>\n",
       "      <th></th>\n",
       "      <th></th>\n",
       "      <th></th>\n",
       "      <th></th>\n",
       "      <th></th>\n",
       "      <th></th>\n",
       "      <th></th>\n",
       "    </tr>\n",
       "  </thead>\n",
       "  <tbody>\n",
       "    <tr>\n",
       "      <th>75</th>\n",
       "      <td>62511.0</td>\n",
       "      <td>58839.0</td>\n",
       "      <td>1250.0</td>\n",
       "      <td>688.0</td>\n",
       "      <td>62764.0</td>\n",
       "      <td>3128.0</td>\n",
       "      <td>4598.0</td>\n",
       "      <td>42632.0</td>\n",
       "      <td>63082.0</td>\n",
       "      <td>5501.0</td>\n",
       "      <td>...</td>\n",
       "      <td>NaN</td>\n",
       "      <td>NaN</td>\n",
       "      <td>NaN</td>\n",
       "      <td>NaN</td>\n",
       "      <td>NaN</td>\n",
       "      <td>NaN</td>\n",
       "      <td>NaN</td>\n",
       "      <td>NaN</td>\n",
       "      <td>NaN</td>\n",
       "      <td>NaN</td>\n",
       "    </tr>\n",
       "    <tr>\n",
       "      <th>78</th>\n",
       "      <td>63121.0</td>\n",
       "      <td>502.0</td>\n",
       "      <td>1385.0</td>\n",
       "      <td>6880.0</td>\n",
       "      <td>253.0</td>\n",
       "      <td>60526.0</td>\n",
       "      <td>46967.0</td>\n",
       "      <td>973.0</td>\n",
       "      <td>1086.0</td>\n",
       "      <td>54978.0</td>\n",
       "      <td>...</td>\n",
       "      <td>NaN</td>\n",
       "      <td>NaN</td>\n",
       "      <td>NaN</td>\n",
       "      <td>NaN</td>\n",
       "      <td>NaN</td>\n",
       "      <td>NaN</td>\n",
       "      <td>NaN</td>\n",
       "      <td>NaN</td>\n",
       "      <td>NaN</td>\n",
       "      <td>NaN</td>\n",
       "    </tr>\n",
       "    <tr>\n",
       "      <th>127</th>\n",
       "      <td>32383.0</td>\n",
       "      <td>62250.0</td>\n",
       "      <td>49276.0</td>\n",
       "      <td>5399.0</td>\n",
       "      <td>52375.0</td>\n",
       "      <td>166.0</td>\n",
       "      <td>6794.0</td>\n",
       "      <td>26208.0</td>\n",
       "      <td>8997.0</td>\n",
       "      <td>8845.0</td>\n",
       "      <td>...</td>\n",
       "      <td>NaN</td>\n",
       "      <td>NaN</td>\n",
       "      <td>NaN</td>\n",
       "      <td>NaN</td>\n",
       "      <td>NaN</td>\n",
       "      <td>NaN</td>\n",
       "      <td>NaN</td>\n",
       "      <td>NaN</td>\n",
       "      <td>NaN</td>\n",
       "      <td>NaN</td>\n",
       "    </tr>\n",
       "    <tr>\n",
       "      <th>170</th>\n",
       "      <td>54510.0</td>\n",
       "      <td>3235.0</td>\n",
       "      <td>52950.0</td>\n",
       "      <td>61678.0</td>\n",
       "      <td>912.0</td>\n",
       "      <td>46976.0</td>\n",
       "      <td>35957.0</td>\n",
       "      <td>42197.0</td>\n",
       "      <td>41527.0</td>\n",
       "      <td>4925.0</td>\n",
       "      <td>...</td>\n",
       "      <td>NaN</td>\n",
       "      <td>NaN</td>\n",
       "      <td>NaN</td>\n",
       "      <td>NaN</td>\n",
       "      <td>NaN</td>\n",
       "      <td>NaN</td>\n",
       "      <td>NaN</td>\n",
       "      <td>NaN</td>\n",
       "      <td>NaN</td>\n",
       "      <td>NaN</td>\n",
       "    </tr>\n",
       "    <tr>\n",
       "      <th>175</th>\n",
       "      <td>57640.0</td>\n",
       "      <td>26222.0</td>\n",
       "      <td>2164.0</td>\n",
       "      <td>2236.0</td>\n",
       "      <td>26388.0</td>\n",
       "      <td>1473.0</td>\n",
       "      <td>2326.0</td>\n",
       "      <td>62378.0</td>\n",
       "      <td>49817.0</td>\n",
       "      <td>1327.0</td>\n",
       "      <td>...</td>\n",
       "      <td>NaN</td>\n",
       "      <td>NaN</td>\n",
       "      <td>NaN</td>\n",
       "      <td>NaN</td>\n",
       "      <td>NaN</td>\n",
       "      <td>NaN</td>\n",
       "      <td>NaN</td>\n",
       "      <td>NaN</td>\n",
       "      <td>NaN</td>\n",
       "      <td>NaN</td>\n",
       "    </tr>\n",
       "    <tr>\n",
       "      <th>190</th>\n",
       "      <td>8207.0</td>\n",
       "      <td>2391.0</td>\n",
       "      <td>1882.0</td>\n",
       "      <td>714.0</td>\n",
       "      <td>2101.0</td>\n",
       "      <td>665.0</td>\n",
       "      <td>63772.0</td>\n",
       "      <td>54505.0</td>\n",
       "      <td>31109.0</td>\n",
       "      <td>31854.0</td>\n",
       "      <td>...</td>\n",
       "      <td>NaN</td>\n",
       "      <td>NaN</td>\n",
       "      <td>NaN</td>\n",
       "      <td>NaN</td>\n",
       "      <td>NaN</td>\n",
       "      <td>NaN</td>\n",
       "      <td>NaN</td>\n",
       "      <td>NaN</td>\n",
       "      <td>NaN</td>\n",
       "      <td>NaN</td>\n",
       "    </tr>\n",
       "    <tr>\n",
       "      <th>267</th>\n",
       "      <td>61210.0</td>\n",
       "      <td>591.0</td>\n",
       "      <td>2062.0</td>\n",
       "      <td>215.0</td>\n",
       "      <td>64499.0</td>\n",
       "      <td>43419.0</td>\n",
       "      <td>506.0</td>\n",
       "      <td>8624.0</td>\n",
       "      <td>32011.0</td>\n",
       "      <td>9017.0</td>\n",
       "      <td>...</td>\n",
       "      <td>NaN</td>\n",
       "      <td>NaN</td>\n",
       "      <td>NaN</td>\n",
       "      <td>NaN</td>\n",
       "      <td>NaN</td>\n",
       "      <td>NaN</td>\n",
       "      <td>NaN</td>\n",
       "      <td>NaN</td>\n",
       "      <td>NaN</td>\n",
       "      <td>NaN</td>\n",
       "    </tr>\n",
       "    <tr>\n",
       "      <th>325</th>\n",
       "      <td>61724.0</td>\n",
       "      <td>56775.0</td>\n",
       "      <td>7359.0</td>\n",
       "      <td>59604.0</td>\n",
       "      <td>3049.0</td>\n",
       "      <td>5933.0</td>\n",
       "      <td>61236.0</td>\n",
       "      <td>7209.0</td>\n",
       "      <td>7255.0</td>\n",
       "      <td>32049.0</td>\n",
       "      <td>...</td>\n",
       "      <td>NaN</td>\n",
       "      <td>NaN</td>\n",
       "      <td>NaN</td>\n",
       "      <td>NaN</td>\n",
       "      <td>NaN</td>\n",
       "      <td>NaN</td>\n",
       "      <td>NaN</td>\n",
       "      <td>NaN</td>\n",
       "      <td>NaN</td>\n",
       "      <td>NaN</td>\n",
       "    </tr>\n",
       "    <tr>\n",
       "      <th>383</th>\n",
       "      <td>64497.0</td>\n",
       "      <td>60201.0</td>\n",
       "      <td>8611.0</td>\n",
       "      <td>26172.0</td>\n",
       "      <td>27620.0</td>\n",
       "      <td>57274.0</td>\n",
       "      <td>1422.0</td>\n",
       "      <td>1102.0</td>\n",
       "      <td>61931.0</td>\n",
       "      <td>58975.0</td>\n",
       "      <td>...</td>\n",
       "      <td>NaN</td>\n",
       "      <td>NaN</td>\n",
       "      <td>NaN</td>\n",
       "      <td>NaN</td>\n",
       "      <td>NaN</td>\n",
       "      <td>NaN</td>\n",
       "      <td>NaN</td>\n",
       "      <td>NaN</td>\n",
       "      <td>NaN</td>\n",
       "      <td>NaN</td>\n",
       "    </tr>\n",
       "    <tr>\n",
       "      <th>476</th>\n",
       "      <td>64519.0</td>\n",
       "      <td>58806.0</td>\n",
       "      <td>30.0</td>\n",
       "      <td>3601.0</td>\n",
       "      <td>26.0</td>\n",
       "      <td>62956.0</td>\n",
       "      <td>33191.0</td>\n",
       "      <td>872.0</td>\n",
       "      <td>3866.0</td>\n",
       "      <td>63082.0</td>\n",
       "      <td>...</td>\n",
       "      <td>NaN</td>\n",
       "      <td>NaN</td>\n",
       "      <td>NaN</td>\n",
       "      <td>NaN</td>\n",
       "      <td>NaN</td>\n",
       "      <td>NaN</td>\n",
       "      <td>NaN</td>\n",
       "      <td>NaN</td>\n",
       "      <td>NaN</td>\n",
       "      <td>NaN</td>\n",
       "    </tr>\n",
       "    <tr>\n",
       "      <th>477</th>\n",
       "      <td>64231.0</td>\n",
       "      <td>59333.0</td>\n",
       "      <td>1114.0</td>\n",
       "      <td>565.0</td>\n",
       "      <td>118.0</td>\n",
       "      <td>62010.0</td>\n",
       "      <td>227.0</td>\n",
       "      <td>552.0</td>\n",
       "      <td>1913.0</td>\n",
       "      <td>61470.0</td>\n",
       "      <td>...</td>\n",
       "      <td>NaN</td>\n",
       "      <td>NaN</td>\n",
       "      <td>NaN</td>\n",
       "      <td>NaN</td>\n",
       "      <td>NaN</td>\n",
       "      <td>NaN</td>\n",
       "      <td>NaN</td>\n",
       "      <td>NaN</td>\n",
       "      <td>NaN</td>\n",
       "      <td>NaN</td>\n",
       "    </tr>\n",
       "    <tr>\n",
       "      <th>493</th>\n",
       "      <td>61024.0</td>\n",
       "      <td>33675.0</td>\n",
       "      <td>34526.0</td>\n",
       "      <td>53000.0</td>\n",
       "      <td>61862.0</td>\n",
       "      <td>4953.0</td>\n",
       "      <td>6690.0</td>\n",
       "      <td>52037.0</td>\n",
       "      <td>1376.0</td>\n",
       "      <td>1908.0</td>\n",
       "      <td>...</td>\n",
       "      <td>NaN</td>\n",
       "      <td>NaN</td>\n",
       "      <td>NaN</td>\n",
       "      <td>NaN</td>\n",
       "      <td>NaN</td>\n",
       "      <td>NaN</td>\n",
       "      <td>NaN</td>\n",
       "      <td>NaN</td>\n",
       "      <td>NaN</td>\n",
       "      <td>NaN</td>\n",
       "    </tr>\n",
       "    <tr>\n",
       "      <th>498</th>\n",
       "      <td>59912.0</td>\n",
       "      <td>54004.0</td>\n",
       "      <td>42053.0</td>\n",
       "      <td>8512.0</td>\n",
       "      <td>47793.0</td>\n",
       "      <td>71.0</td>\n",
       "      <td>48883.0</td>\n",
       "      <td>8712.0</td>\n",
       "      <td>4174.0</td>\n",
       "      <td>7216.0</td>\n",
       "      <td>...</td>\n",
       "      <td>NaN</td>\n",
       "      <td>NaN</td>\n",
       "      <td>NaN</td>\n",
       "      <td>NaN</td>\n",
       "      <td>NaN</td>\n",
       "      <td>NaN</td>\n",
       "      <td>NaN</td>\n",
       "      <td>NaN</td>\n",
       "      <td>NaN</td>\n",
       "      <td>NaN</td>\n",
       "    </tr>\n",
       "    <tr>\n",
       "      <th>533</th>\n",
       "      <td>51562.0</td>\n",
       "      <td>8988.0</td>\n",
       "      <td>50912.0</td>\n",
       "      <td>52356.0</td>\n",
       "      <td>6538.0</td>\n",
       "      <td>152.0</td>\n",
       "      <td>59519.0</td>\n",
       "      <td>9017.0</td>\n",
       "      <td>7565.0</td>\n",
       "      <td>42738.0</td>\n",
       "      <td>...</td>\n",
       "      <td>NaN</td>\n",
       "      <td>NaN</td>\n",
       "      <td>NaN</td>\n",
       "      <td>NaN</td>\n",
       "      <td>NaN</td>\n",
       "      <td>NaN</td>\n",
       "      <td>NaN</td>\n",
       "      <td>NaN</td>\n",
       "      <td>NaN</td>\n",
       "      <td>NaN</td>\n",
       "    </tr>\n",
       "    <tr>\n",
       "      <th>545</th>\n",
       "      <td>59615.0</td>\n",
       "      <td>50912.0</td>\n",
       "      <td>1503.0</td>\n",
       "      <td>26483.0</td>\n",
       "      <td>2293.0</td>\n",
       "      <td>1151.0</td>\n",
       "      <td>25938.0</td>\n",
       "      <td>50356.0</td>\n",
       "      <td>803.0</td>\n",
       "      <td>887.0</td>\n",
       "      <td>...</td>\n",
       "      <td>NaN</td>\n",
       "      <td>NaN</td>\n",
       "      <td>NaN</td>\n",
       "      <td>NaN</td>\n",
       "      <td>NaN</td>\n",
       "      <td>NaN</td>\n",
       "      <td>NaN</td>\n",
       "      <td>NaN</td>\n",
       "      <td>NaN</td>\n",
       "      <td>NaN</td>\n",
       "    </tr>\n",
       "    <tr>\n",
       "      <th>548</th>\n",
       "      <td>64614.0</td>\n",
       "      <td>57528.0</td>\n",
       "      <td>57401.0</td>\n",
       "      <td>26750.0</td>\n",
       "      <td>54978.0</td>\n",
       "      <td>55363.0</td>\n",
       "      <td>57147.0</td>\n",
       "      <td>26171.0</td>\n",
       "      <td>3440.0</td>\n",
       "      <td>59519.0</td>\n",
       "      <td>...</td>\n",
       "      <td>NaN</td>\n",
       "      <td>NaN</td>\n",
       "      <td>NaN</td>\n",
       "      <td>NaN</td>\n",
       "      <td>NaN</td>\n",
       "      <td>NaN</td>\n",
       "      <td>NaN</td>\n",
       "      <td>NaN</td>\n",
       "      <td>NaN</td>\n",
       "      <td>NaN</td>\n",
       "    </tr>\n",
       "    <tr>\n",
       "      <th>580</th>\n",
       "      <td>60044.0</td>\n",
       "      <td>55814.0</td>\n",
       "      <td>8142.0</td>\n",
       "      <td>55020.0</td>\n",
       "      <td>55118.0</td>\n",
       "      <td>46970.0</td>\n",
       "      <td>42681.0</td>\n",
       "      <td>26796.0</td>\n",
       "      <td>60948.0</td>\n",
       "      <td>58315.0</td>\n",
       "      <td>...</td>\n",
       "      <td>3986.0</td>\n",
       "      <td>4433.0</td>\n",
       "      <td>3369.0</td>\n",
       "      <td>5283.0</td>\n",
       "      <td>NaN</td>\n",
       "      <td>NaN</td>\n",
       "      <td>NaN</td>\n",
       "      <td>NaN</td>\n",
       "      <td>NaN</td>\n",
       "      <td>NaN</td>\n",
       "    </tr>\n",
       "    <tr>\n",
       "      <th>622</th>\n",
       "      <td>60766.0</td>\n",
       "      <td>9003.0</td>\n",
       "      <td>947.0</td>\n",
       "      <td>751.0</td>\n",
       "      <td>62081.0</td>\n",
       "      <td>25766.0</td>\n",
       "      <td>821.0</td>\n",
       "      <td>4610.0</td>\n",
       "      <td>32128.0</td>\n",
       "      <td>615.0</td>\n",
       "      <td>...</td>\n",
       "      <td>NaN</td>\n",
       "      <td>NaN</td>\n",
       "      <td>NaN</td>\n",
       "      <td>NaN</td>\n",
       "      <td>NaN</td>\n",
       "      <td>NaN</td>\n",
       "      <td>NaN</td>\n",
       "      <td>NaN</td>\n",
       "      <td>NaN</td>\n",
       "      <td>NaN</td>\n",
       "    </tr>\n",
       "    <tr>\n",
       "      <th>636</th>\n",
       "      <td>64497.0</td>\n",
       "      <td>60069.0</td>\n",
       "      <td>33558.0</td>\n",
       "      <td>983.0</td>\n",
       "      <td>63329.0</td>\n",
       "      <td>52767.0</td>\n",
       "      <td>475.0</td>\n",
       "      <td>63310.0</td>\n",
       "      <td>813.0</td>\n",
       "      <td>1299.0</td>\n",
       "      <td>...</td>\n",
       "      <td>NaN</td>\n",
       "      <td>NaN</td>\n",
       "      <td>NaN</td>\n",
       "      <td>NaN</td>\n",
       "      <td>NaN</td>\n",
       "      <td>NaN</td>\n",
       "      <td>NaN</td>\n",
       "      <td>NaN</td>\n",
       "      <td>NaN</td>\n",
       "      <td>NaN</td>\n",
       "    </tr>\n",
       "    <tr>\n",
       "      <th>637</th>\n",
       "      <td>62972.0</td>\n",
       "      <td>60289.0</td>\n",
       "      <td>40988.0</td>\n",
       "      <td>8996.0</td>\n",
       "      <td>44972.0</td>\n",
       "      <td>60832.0</td>\n",
       "      <td>58975.0</td>\n",
       "      <td>939.0</td>\n",
       "      <td>2665.0</td>\n",
       "      <td>62000.0</td>\n",
       "      <td>...</td>\n",
       "      <td>2488.0</td>\n",
       "      <td>2156.0</td>\n",
       "      <td>2604.0</td>\n",
       "      <td>6116.0</td>\n",
       "      <td>3293.0</td>\n",
       "      <td>5245.0</td>\n",
       "      <td>6286.0</td>\n",
       "      <td>NaN</td>\n",
       "      <td>NaN</td>\n",
       "      <td>NaN</td>\n",
       "    </tr>\n",
       "    <tr>\n",
       "      <th>728</th>\n",
       "      <td>62836.0</td>\n",
       "      <td>55946.0</td>\n",
       "      <td>1337.0</td>\n",
       "      <td>958.0</td>\n",
       "      <td>353.0</td>\n",
       "      <td>62660.0</td>\n",
       "      <td>240.0</td>\n",
       "      <td>3708.0</td>\n",
       "      <td>39435.0</td>\n",
       "      <td>62293.0</td>\n",
       "      <td>...</td>\n",
       "      <td>NaN</td>\n",
       "      <td>NaN</td>\n",
       "      <td>NaN</td>\n",
       "      <td>NaN</td>\n",
       "      <td>NaN</td>\n",
       "      <td>NaN</td>\n",
       "      <td>NaN</td>\n",
       "      <td>NaN</td>\n",
       "      <td>NaN</td>\n",
       "      <td>NaN</td>\n",
       "    </tr>\n",
       "    <tr>\n",
       "      <th>732</th>\n",
       "      <td>61354.0</td>\n",
       "      <td>52287.0</td>\n",
       "      <td>48600.0</td>\n",
       "      <td>37955.0</td>\n",
       "      <td>53127.0</td>\n",
       "      <td>51082.0</td>\n",
       "      <td>58381.0</td>\n",
       "      <td>4016.0</td>\n",
       "      <td>1287.0</td>\n",
       "      <td>341.0</td>\n",
       "      <td>...</td>\n",
       "      <td>NaN</td>\n",
       "      <td>NaN</td>\n",
       "      <td>NaN</td>\n",
       "      <td>NaN</td>\n",
       "      <td>NaN</td>\n",
       "      <td>NaN</td>\n",
       "      <td>NaN</td>\n",
       "      <td>NaN</td>\n",
       "      <td>NaN</td>\n",
       "      <td>NaN</td>\n",
       "    </tr>\n",
       "    <tr>\n",
       "      <th>783</th>\n",
       "      <td>64716.0</td>\n",
       "      <td>61470.0</td>\n",
       "      <td>27644.0</td>\n",
       "      <td>50151.0</td>\n",
       "      <td>528.0</td>\n",
       "      <td>26558.0</td>\n",
       "      <td>373.0</td>\n",
       "      <td>61937.0</td>\n",
       "      <td>60336.0</td>\n",
       "      <td>4839.0</td>\n",
       "      <td>...</td>\n",
       "      <td>NaN</td>\n",
       "      <td>NaN</td>\n",
       "      <td>NaN</td>\n",
       "      <td>NaN</td>\n",
       "      <td>NaN</td>\n",
       "      <td>NaN</td>\n",
       "      <td>NaN</td>\n",
       "      <td>NaN</td>\n",
       "      <td>NaN</td>\n",
       "      <td>NaN</td>\n",
       "    </tr>\n",
       "    <tr>\n",
       "      <th>788</th>\n",
       "      <td>1549.0</td>\n",
       "      <td>45658.0</td>\n",
       "      <td>33113.0</td>\n",
       "      <td>6736.0</td>\n",
       "      <td>26203.0</td>\n",
       "      <td>31973.0</td>\n",
       "      <td>8403.0</td>\n",
       "      <td>27838.0</td>\n",
       "      <td>46572.0</td>\n",
       "      <td>62721.0</td>\n",
       "      <td>...</td>\n",
       "      <td>NaN</td>\n",
       "      <td>NaN</td>\n",
       "      <td>NaN</td>\n",
       "      <td>NaN</td>\n",
       "      <td>NaN</td>\n",
       "      <td>NaN</td>\n",
       "      <td>NaN</td>\n",
       "      <td>NaN</td>\n",
       "      <td>NaN</td>\n",
       "      <td>NaN</td>\n",
       "    </tr>\n",
       "    <tr>\n",
       "      <th>894</th>\n",
       "      <td>63540.0</td>\n",
       "      <td>59421.0</td>\n",
       "      <td>357.0</td>\n",
       "      <td>1174.0</td>\n",
       "      <td>205.0</td>\n",
       "      <td>44864.0</td>\n",
       "      <td>3278.0</td>\n",
       "      <td>957.0</td>\n",
       "      <td>1137.0</td>\n",
       "      <td>61236.0</td>\n",
       "      <td>...</td>\n",
       "      <td>4605.0</td>\n",
       "      <td>4323.0</td>\n",
       "      <td>6724.0</td>\n",
       "      <td>5375.0</td>\n",
       "      <td>4332.0</td>\n",
       "      <td>5099.0</td>\n",
       "      <td>6473.0</td>\n",
       "      <td>4748.0</td>\n",
       "      <td>6405.0</td>\n",
       "      <td>6569.0</td>\n",
       "    </tr>\n",
       "    <tr>\n",
       "      <th>922</th>\n",
       "      <td>57147.0</td>\n",
       "      <td>26492.0</td>\n",
       "      <td>59985.0</td>\n",
       "      <td>49280.0</td>\n",
       "      <td>56908.0</td>\n",
       "      <td>36397.0</td>\n",
       "      <td>8961.0</td>\n",
       "      <td>58156.0</td>\n",
       "      <td>51088.0</td>\n",
       "      <td>36541.0</td>\n",
       "      <td>...</td>\n",
       "      <td>NaN</td>\n",
       "      <td>NaN</td>\n",
       "      <td>NaN</td>\n",
       "      <td>NaN</td>\n",
       "      <td>NaN</td>\n",
       "      <td>NaN</td>\n",
       "      <td>NaN</td>\n",
       "      <td>NaN</td>\n",
       "      <td>NaN</td>\n",
       "      <td>NaN</td>\n",
       "    </tr>\n",
       "    <tr>\n",
       "      <th>937</th>\n",
       "      <td>63436.0</td>\n",
       "      <td>60046.0</td>\n",
       "      <td>47644.0</td>\n",
       "      <td>4565.0</td>\n",
       "      <td>39381.0</td>\n",
       "      <td>61210.0</td>\n",
       "      <td>50802.0</td>\n",
       "      <td>2767.0</td>\n",
       "      <td>2981.0</td>\n",
       "      <td>61350.0</td>\n",
       "      <td>...</td>\n",
       "      <td>NaN</td>\n",
       "      <td>NaN</td>\n",
       "      <td>NaN</td>\n",
       "      <td>NaN</td>\n",
       "      <td>NaN</td>\n",
       "      <td>NaN</td>\n",
       "      <td>NaN</td>\n",
       "      <td>NaN</td>\n",
       "      <td>NaN</td>\n",
       "      <td>NaN</td>\n",
       "    </tr>\n",
       "    <tr>\n",
       "      <th>1017</th>\n",
       "      <td>64499.0</td>\n",
       "      <td>61434.0</td>\n",
       "      <td>1272.0</td>\n",
       "      <td>2368.0</td>\n",
       "      <td>1528.0</td>\n",
       "      <td>1943.0</td>\n",
       "      <td>49286.0</td>\n",
       "      <td>2841.0</td>\n",
       "      <td>716.0</td>\n",
       "      <td>62113.0</td>\n",
       "      <td>...</td>\n",
       "      <td>4964.0</td>\n",
       "      <td>5872.0</td>\n",
       "      <td>NaN</td>\n",
       "      <td>NaN</td>\n",
       "      <td>NaN</td>\n",
       "      <td>NaN</td>\n",
       "      <td>NaN</td>\n",
       "      <td>NaN</td>\n",
       "      <td>NaN</td>\n",
       "      <td>NaN</td>\n",
       "    </tr>\n",
       "    <tr>\n",
       "      <th>1035</th>\n",
       "      <td>62376.0</td>\n",
       "      <td>50442.0</td>\n",
       "      <td>885.0</td>\n",
       "      <td>46322.0</td>\n",
       "      <td>61160.0</td>\n",
       "      <td>203.0</td>\n",
       "      <td>32593.0</td>\n",
       "      <td>26770.0</td>\n",
       "      <td>62836.0</td>\n",
       "      <td>397.0</td>\n",
       "      <td>...</td>\n",
       "      <td>NaN</td>\n",
       "      <td>NaN</td>\n",
       "      <td>NaN</td>\n",
       "      <td>NaN</td>\n",
       "      <td>NaN</td>\n",
       "      <td>NaN</td>\n",
       "      <td>NaN</td>\n",
       "      <td>NaN</td>\n",
       "      <td>NaN</td>\n",
       "      <td>NaN</td>\n",
       "    </tr>\n",
       "    <tr>\n",
       "      <th>1047</th>\n",
       "      <td>37545.0</td>\n",
       "      <td>3097.0</td>\n",
       "      <td>32025.0</td>\n",
       "      <td>61210.0</td>\n",
       "      <td>5796.0</td>\n",
       "      <td>8697.0</td>\n",
       "      <td>2622.0</td>\n",
       "      <td>61160.0</td>\n",
       "      <td>33836.0</td>\n",
       "      <td>2805.0</td>\n",
       "      <td>...</td>\n",
       "      <td>NaN</td>\n",
       "      <td>NaN</td>\n",
       "      <td>NaN</td>\n",
       "      <td>NaN</td>\n",
       "      <td>NaN</td>\n",
       "      <td>NaN</td>\n",
       "      <td>NaN</td>\n",
       "      <td>NaN</td>\n",
       "      <td>NaN</td>\n",
       "      <td>NaN</td>\n",
       "    </tr>\n",
       "    <tr>\n",
       "      <th>...</th>\n",
       "      <td>...</td>\n",
       "      <td>...</td>\n",
       "      <td>...</td>\n",
       "      <td>...</td>\n",
       "      <td>...</td>\n",
       "      <td>...</td>\n",
       "      <td>...</td>\n",
       "      <td>...</td>\n",
       "      <td>...</td>\n",
       "      <td>...</td>\n",
       "      <td>...</td>\n",
       "      <td>...</td>\n",
       "      <td>...</td>\n",
       "      <td>...</td>\n",
       "      <td>...</td>\n",
       "      <td>...</td>\n",
       "      <td>...</td>\n",
       "      <td>...</td>\n",
       "      <td>...</td>\n",
       "      <td>...</td>\n",
       "      <td>...</td>\n",
       "    </tr>\n",
       "    <tr>\n",
       "      <th>70760</th>\n",
       "      <td>61289.0</td>\n",
       "      <td>1128.0</td>\n",
       "      <td>4507.0</td>\n",
       "      <td>25888.0</td>\n",
       "      <td>60735.0</td>\n",
       "      <td>3943.0</td>\n",
       "      <td>3671.0</td>\n",
       "      <td>2143.0</td>\n",
       "      <td>60688.0</td>\n",
       "      <td>267.0</td>\n",
       "      <td>...</td>\n",
       "      <td>NaN</td>\n",
       "      <td>NaN</td>\n",
       "      <td>NaN</td>\n",
       "      <td>NaN</td>\n",
       "      <td>NaN</td>\n",
       "      <td>NaN</td>\n",
       "      <td>NaN</td>\n",
       "      <td>NaN</td>\n",
       "      <td>NaN</td>\n",
       "      <td>NaN</td>\n",
       "    </tr>\n",
       "    <tr>\n",
       "      <th>70782</th>\n",
       "      <td>54958.0</td>\n",
       "      <td>1681.0</td>\n",
       "      <td>49822.0</td>\n",
       "      <td>51834.0</td>\n",
       "      <td>26903.0</td>\n",
       "      <td>7199.0</td>\n",
       "      <td>1982.0</td>\n",
       "      <td>48741.0</td>\n",
       "      <td>2313.0</td>\n",
       "      <td>8866.0</td>\n",
       "      <td>...</td>\n",
       "      <td>NaN</td>\n",
       "      <td>NaN</td>\n",
       "      <td>NaN</td>\n",
       "      <td>NaN</td>\n",
       "      <td>NaN</td>\n",
       "      <td>NaN</td>\n",
       "      <td>NaN</td>\n",
       "      <td>NaN</td>\n",
       "      <td>NaN</td>\n",
       "      <td>NaN</td>\n",
       "    </tr>\n",
       "    <tr>\n",
       "      <th>70789</th>\n",
       "      <td>61167.0</td>\n",
       "      <td>51540.0</td>\n",
       "      <td>8758.0</td>\n",
       "      <td>48262.0</td>\n",
       "      <td>59022.0</td>\n",
       "      <td>59615.0</td>\n",
       "      <td>623.0</td>\n",
       "      <td>388.0</td>\n",
       "      <td>61465.0</td>\n",
       "      <td>264.0</td>\n",
       "      <td>...</td>\n",
       "      <td>NaN</td>\n",
       "      <td>NaN</td>\n",
       "      <td>NaN</td>\n",
       "      <td>NaN</td>\n",
       "      <td>NaN</td>\n",
       "      <td>NaN</td>\n",
       "      <td>NaN</td>\n",
       "      <td>NaN</td>\n",
       "      <td>NaN</td>\n",
       "      <td>NaN</td>\n",
       "    </tr>\n",
       "    <tr>\n",
       "      <th>70793</th>\n",
       "      <td>63237.0</td>\n",
       "      <td>53129.0</td>\n",
       "      <td>7701.0</td>\n",
       "      <td>56030.0</td>\n",
       "      <td>4.0</td>\n",
       "      <td>54268.0</td>\n",
       "      <td>32591.0</td>\n",
       "      <td>803.0</td>\n",
       "      <td>61401.0</td>\n",
       "      <td>55577.0</td>\n",
       "      <td>...</td>\n",
       "      <td>NaN</td>\n",
       "      <td>NaN</td>\n",
       "      <td>NaN</td>\n",
       "      <td>NaN</td>\n",
       "      <td>NaN</td>\n",
       "      <td>NaN</td>\n",
       "      <td>NaN</td>\n",
       "      <td>NaN</td>\n",
       "      <td>NaN</td>\n",
       "      <td>NaN</td>\n",
       "    </tr>\n",
       "    <tr>\n",
       "      <th>70806</th>\n",
       "      <td>63540.0</td>\n",
       "      <td>55363.0</td>\n",
       "      <td>134.0</td>\n",
       "      <td>8917.0</td>\n",
       "      <td>216.0</td>\n",
       "      <td>62336.0</td>\n",
       "      <td>54997.0</td>\n",
       "      <td>891.0</td>\n",
       "      <td>1606.0</td>\n",
       "      <td>61470.0</td>\n",
       "      <td>...</td>\n",
       "      <td>NaN</td>\n",
       "      <td>NaN</td>\n",
       "      <td>NaN</td>\n",
       "      <td>NaN</td>\n",
       "      <td>NaN</td>\n",
       "      <td>NaN</td>\n",
       "      <td>NaN</td>\n",
       "      <td>NaN</td>\n",
       "      <td>NaN</td>\n",
       "      <td>NaN</td>\n",
       "    </tr>\n",
       "    <tr>\n",
       "      <th>70816</th>\n",
       "      <td>7953.0</td>\n",
       "      <td>549.0</td>\n",
       "      <td>912.0</td>\n",
       "      <td>63859.0</td>\n",
       "      <td>126.0</td>\n",
       "      <td>1537.0</td>\n",
       "      <td>27808.0</td>\n",
       "      <td>62792.0</td>\n",
       "      <td>59.0</td>\n",
       "      <td>26509.0</td>\n",
       "      <td>...</td>\n",
       "      <td>NaN</td>\n",
       "      <td>NaN</td>\n",
       "      <td>NaN</td>\n",
       "      <td>NaN</td>\n",
       "      <td>NaN</td>\n",
       "      <td>NaN</td>\n",
       "      <td>NaN</td>\n",
       "      <td>NaN</td>\n",
       "      <td>NaN</td>\n",
       "      <td>NaN</td>\n",
       "    </tr>\n",
       "    <tr>\n",
       "      <th>70878</th>\n",
       "      <td>2486.0</td>\n",
       "      <td>46062.0</td>\n",
       "      <td>25835.0</td>\n",
       "      <td>3550.0</td>\n",
       "      <td>8840.0</td>\n",
       "      <td>52328.0</td>\n",
       "      <td>6809.0</td>\n",
       "      <td>2231.0</td>\n",
       "      <td>42740.0</td>\n",
       "      <td>2422.0</td>\n",
       "      <td>...</td>\n",
       "      <td>NaN</td>\n",
       "      <td>NaN</td>\n",
       "      <td>NaN</td>\n",
       "      <td>NaN</td>\n",
       "      <td>NaN</td>\n",
       "      <td>NaN</td>\n",
       "      <td>NaN</td>\n",
       "      <td>NaN</td>\n",
       "      <td>NaN</td>\n",
       "      <td>NaN</td>\n",
       "    </tr>\n",
       "    <tr>\n",
       "      <th>70974</th>\n",
       "      <td>7322.0</td>\n",
       "      <td>57522.0</td>\n",
       "      <td>59129.0</td>\n",
       "      <td>26151.0</td>\n",
       "      <td>62972.0</td>\n",
       "      <td>42009.0</td>\n",
       "      <td>7026.0</td>\n",
       "      <td>33072.0</td>\n",
       "      <td>52838.0</td>\n",
       "      <td>7569.0</td>\n",
       "      <td>...</td>\n",
       "      <td>NaN</td>\n",
       "      <td>NaN</td>\n",
       "      <td>NaN</td>\n",
       "      <td>NaN</td>\n",
       "      <td>NaN</td>\n",
       "      <td>NaN</td>\n",
       "      <td>NaN</td>\n",
       "      <td>NaN</td>\n",
       "      <td>NaN</td>\n",
       "      <td>NaN</td>\n",
       "    </tr>\n",
       "    <tr>\n",
       "      <th>70981</th>\n",
       "      <td>64278.0</td>\n",
       "      <td>61011.0</td>\n",
       "      <td>281.0</td>\n",
       "      <td>8683.0</td>\n",
       "      <td>1598.0</td>\n",
       "      <td>7742.0</td>\n",
       "      <td>47640.0</td>\n",
       "      <td>2200.0</td>\n",
       "      <td>524.0</td>\n",
       "      <td>57464.0</td>\n",
       "      <td>...</td>\n",
       "      <td>NaN</td>\n",
       "      <td>NaN</td>\n",
       "      <td>NaN</td>\n",
       "      <td>NaN</td>\n",
       "      <td>NaN</td>\n",
       "      <td>NaN</td>\n",
       "      <td>NaN</td>\n",
       "      <td>NaN</td>\n",
       "      <td>NaN</td>\n",
       "      <td>NaN</td>\n",
       "    </tr>\n",
       "    <tr>\n",
       "      <th>71037</th>\n",
       "      <td>64620.0</td>\n",
       "      <td>60336.0</td>\n",
       "      <td>54193.0</td>\n",
       "      <td>651.0</td>\n",
       "      <td>26085.0</td>\n",
       "      <td>62801.0</td>\n",
       "      <td>27801.0</td>\n",
       "      <td>1649.0</td>\n",
       "      <td>8944.0</td>\n",
       "      <td>56607.0</td>\n",
       "      <td>...</td>\n",
       "      <td>NaN</td>\n",
       "      <td>NaN</td>\n",
       "      <td>NaN</td>\n",
       "      <td>NaN</td>\n",
       "      <td>NaN</td>\n",
       "      <td>NaN</td>\n",
       "      <td>NaN</td>\n",
       "      <td>NaN</td>\n",
       "      <td>NaN</td>\n",
       "      <td>NaN</td>\n",
       "    </tr>\n",
       "    <tr>\n",
       "      <th>71052</th>\n",
       "      <td>59440.0</td>\n",
       "      <td>63222.0</td>\n",
       "      <td>8640.0</td>\n",
       "      <td>5712.0</td>\n",
       "      <td>34437.0</td>\n",
       "      <td>317.0</td>\n",
       "      <td>43011.0</td>\n",
       "      <td>7437.0</td>\n",
       "      <td>6745.0</td>\n",
       "      <td>61961.0</td>\n",
       "      <td>...</td>\n",
       "      <td>1503.0</td>\n",
       "      <td>2186.0</td>\n",
       "      <td>3820.0</td>\n",
       "      <td>3078.0</td>\n",
       "      <td>2744.0</td>\n",
       "      <td>2803.0</td>\n",
       "      <td>2315.0</td>\n",
       "      <td>2111.0</td>\n",
       "      <td>2540.0</td>\n",
       "      <td>2051.0</td>\n",
       "    </tr>\n",
       "    <tr>\n",
       "      <th>71055</th>\n",
       "      <td>61697.0</td>\n",
       "      <td>8862.0</td>\n",
       "      <td>30996.0</td>\n",
       "      <td>62203.0</td>\n",
       "      <td>50005.0</td>\n",
       "      <td>7991.0</td>\n",
       "      <td>54290.0</td>\n",
       "      <td>51694.0</td>\n",
       "      <td>48883.0</td>\n",
       "      <td>45183.0</td>\n",
       "      <td>...</td>\n",
       "      <td>NaN</td>\n",
       "      <td>NaN</td>\n",
       "      <td>NaN</td>\n",
       "      <td>NaN</td>\n",
       "      <td>NaN</td>\n",
       "      <td>NaN</td>\n",
       "      <td>NaN</td>\n",
       "      <td>NaN</td>\n",
       "      <td>NaN</td>\n",
       "      <td>NaN</td>\n",
       "    </tr>\n",
       "    <tr>\n",
       "      <th>71107</th>\n",
       "      <td>61465.0</td>\n",
       "      <td>56028.0</td>\n",
       "      <td>51498.0</td>\n",
       "      <td>7002.0</td>\n",
       "      <td>52973.0</td>\n",
       "      <td>60289.0</td>\n",
       "      <td>358.0</td>\n",
       "      <td>37380.0</td>\n",
       "      <td>30970.0</td>\n",
       "      <td>52545.0</td>\n",
       "      <td>...</td>\n",
       "      <td>NaN</td>\n",
       "      <td>NaN</td>\n",
       "      <td>NaN</td>\n",
       "      <td>NaN</td>\n",
       "      <td>NaN</td>\n",
       "      <td>NaN</td>\n",
       "      <td>NaN</td>\n",
       "      <td>NaN</td>\n",
       "      <td>NaN</td>\n",
       "      <td>NaN</td>\n",
       "    </tr>\n",
       "    <tr>\n",
       "      <th>71116</th>\n",
       "      <td>61323.0</td>\n",
       "      <td>55156.0</td>\n",
       "      <td>2385.0</td>\n",
       "      <td>51304.0</td>\n",
       "      <td>61707.0</td>\n",
       "      <td>56748.0</td>\n",
       "      <td>1893.0</td>\n",
       "      <td>2925.0</td>\n",
       "      <td>62972.0</td>\n",
       "      <td>59995.0</td>\n",
       "      <td>...</td>\n",
       "      <td>NaN</td>\n",
       "      <td>NaN</td>\n",
       "      <td>NaN</td>\n",
       "      <td>NaN</td>\n",
       "      <td>NaN</td>\n",
       "      <td>NaN</td>\n",
       "      <td>NaN</td>\n",
       "      <td>NaN</td>\n",
       "      <td>NaN</td>\n",
       "      <td>NaN</td>\n",
       "    </tr>\n",
       "    <tr>\n",
       "      <th>71149</th>\n",
       "      <td>56176.0</td>\n",
       "      <td>8929.0</td>\n",
       "      <td>60333.0</td>\n",
       "      <td>7334.0</td>\n",
       "      <td>27109.0</td>\n",
       "      <td>62010.0</td>\n",
       "      <td>25904.0</td>\n",
       "      <td>7370.0</td>\n",
       "      <td>34271.0</td>\n",
       "      <td>61646.0</td>\n",
       "      <td>...</td>\n",
       "      <td>NaN</td>\n",
       "      <td>NaN</td>\n",
       "      <td>NaN</td>\n",
       "      <td>NaN</td>\n",
       "      <td>NaN</td>\n",
       "      <td>NaN</td>\n",
       "      <td>NaN</td>\n",
       "      <td>NaN</td>\n",
       "      <td>NaN</td>\n",
       "      <td>NaN</td>\n",
       "    </tr>\n",
       "    <tr>\n",
       "      <th>71278</th>\n",
       "      <td>8934.0</td>\n",
       "      <td>340.0</td>\n",
       "      <td>8828.0</td>\n",
       "      <td>1416.0</td>\n",
       "      <td>62378.0</td>\n",
       "      <td>31658.0</td>\n",
       "      <td>31032.0</td>\n",
       "      <td>27899.0</td>\n",
       "      <td>36513.0</td>\n",
       "      <td>8258.0</td>\n",
       "      <td>...</td>\n",
       "      <td>NaN</td>\n",
       "      <td>NaN</td>\n",
       "      <td>NaN</td>\n",
       "      <td>NaN</td>\n",
       "      <td>NaN</td>\n",
       "      <td>NaN</td>\n",
       "      <td>NaN</td>\n",
       "      <td>NaN</td>\n",
       "      <td>NaN</td>\n",
       "      <td>NaN</td>\n",
       "    </tr>\n",
       "    <tr>\n",
       "      <th>71287</th>\n",
       "      <td>61707.0</td>\n",
       "      <td>40581.0</td>\n",
       "      <td>6497.0</td>\n",
       "      <td>51471.0</td>\n",
       "      <td>54796.0</td>\n",
       "      <td>430.0</td>\n",
       "      <td>32627.0</td>\n",
       "      <td>7329.0</td>\n",
       "      <td>57147.0</td>\n",
       "      <td>147.0</td>\n",
       "      <td>...</td>\n",
       "      <td>NaN</td>\n",
       "      <td>NaN</td>\n",
       "      <td>NaN</td>\n",
       "      <td>NaN</td>\n",
       "      <td>NaN</td>\n",
       "      <td>NaN</td>\n",
       "      <td>NaN</td>\n",
       "      <td>NaN</td>\n",
       "      <td>NaN</td>\n",
       "      <td>NaN</td>\n",
       "    </tr>\n",
       "    <tr>\n",
       "      <th>71291</th>\n",
       "      <td>60046.0</td>\n",
       "      <td>8859.0</td>\n",
       "      <td>437.0</td>\n",
       "      <td>179.0</td>\n",
       "      <td>64231.0</td>\n",
       "      <td>39659.0</td>\n",
       "      <td>365.0</td>\n",
       "      <td>30810.0</td>\n",
       "      <td>63876.0</td>\n",
       "      <td>436.0</td>\n",
       "      <td>...</td>\n",
       "      <td>NaN</td>\n",
       "      <td>NaN</td>\n",
       "      <td>NaN</td>\n",
       "      <td>NaN</td>\n",
       "      <td>NaN</td>\n",
       "      <td>NaN</td>\n",
       "      <td>NaN</td>\n",
       "      <td>NaN</td>\n",
       "      <td>NaN</td>\n",
       "      <td>NaN</td>\n",
       "    </tr>\n",
       "    <tr>\n",
       "      <th>71307</th>\n",
       "      <td>63121.0</td>\n",
       "      <td>59915.0</td>\n",
       "      <td>55895.0</td>\n",
       "      <td>3006.0</td>\n",
       "      <td>55440.0</td>\n",
       "      <td>61961.0</td>\n",
       "      <td>1872.0</td>\n",
       "      <td>26485.0</td>\n",
       "      <td>31682.0</td>\n",
       "      <td>59908.0</td>\n",
       "      <td>...</td>\n",
       "      <td>6826.0</td>\n",
       "      <td>6396.0</td>\n",
       "      <td>7725.0</td>\n",
       "      <td>5560.0</td>\n",
       "      <td>4858.0</td>\n",
       "      <td>NaN</td>\n",
       "      <td>NaN</td>\n",
       "      <td>NaN</td>\n",
       "      <td>NaN</td>\n",
       "      <td>NaN</td>\n",
       "    </tr>\n",
       "    <tr>\n",
       "      <th>71323</th>\n",
       "      <td>63698.0</td>\n",
       "      <td>59519.0</td>\n",
       "      <td>781.0</td>\n",
       "      <td>8423.0</td>\n",
       "      <td>2572.0</td>\n",
       "      <td>32002.0</td>\n",
       "      <td>34321.0</td>\n",
       "      <td>5446.0</td>\n",
       "      <td>652.0</td>\n",
       "      <td>58494.0</td>\n",
       "      <td>...</td>\n",
       "      <td>4897.0</td>\n",
       "      <td>5654.0</td>\n",
       "      <td>5455.0</td>\n",
       "      <td>4402.0</td>\n",
       "      <td>4030.0</td>\n",
       "      <td>4690.0</td>\n",
       "      <td>6768.0</td>\n",
       "      <td>6113.0</td>\n",
       "      <td>5817.0</td>\n",
       "      <td>5374.0</td>\n",
       "    </tr>\n",
       "    <tr>\n",
       "      <th>71331</th>\n",
       "      <td>62153.0</td>\n",
       "      <td>59995.0</td>\n",
       "      <td>5838.0</td>\n",
       "      <td>33454.0</td>\n",
       "      <td>37853.0</td>\n",
       "      <td>32605.0</td>\n",
       "      <td>52604.0</td>\n",
       "      <td>46322.0</td>\n",
       "      <td>6846.0</td>\n",
       "      <td>4486.0</td>\n",
       "      <td>...</td>\n",
       "      <td>NaN</td>\n",
       "      <td>NaN</td>\n",
       "      <td>NaN</td>\n",
       "      <td>NaN</td>\n",
       "      <td>NaN</td>\n",
       "      <td>NaN</td>\n",
       "      <td>NaN</td>\n",
       "      <td>NaN</td>\n",
       "      <td>NaN</td>\n",
       "      <td>NaN</td>\n",
       "    </tr>\n",
       "    <tr>\n",
       "      <th>71420</th>\n",
       "      <td>8183.0</td>\n",
       "      <td>8887.0</td>\n",
       "      <td>31590.0</td>\n",
       "      <td>26138.0</td>\n",
       "      <td>60046.0</td>\n",
       "      <td>27790.0</td>\n",
       "      <td>55603.0</td>\n",
       "      <td>26965.0</td>\n",
       "      <td>27271.0</td>\n",
       "      <td>8652.0</td>\n",
       "      <td>...</td>\n",
       "      <td>NaN</td>\n",
       "      <td>NaN</td>\n",
       "      <td>NaN</td>\n",
       "      <td>NaN</td>\n",
       "      <td>NaN</td>\n",
       "      <td>NaN</td>\n",
       "      <td>NaN</td>\n",
       "      <td>NaN</td>\n",
       "      <td>NaN</td>\n",
       "      <td>NaN</td>\n",
       "    </tr>\n",
       "    <tr>\n",
       "      <th>71478</th>\n",
       "      <td>64497.0</td>\n",
       "      <td>60760.0</td>\n",
       "      <td>5517.0</td>\n",
       "      <td>49314.0</td>\n",
       "      <td>60161.0</td>\n",
       "      <td>48909.0</td>\n",
       "      <td>984.0</td>\n",
       "      <td>2012.0</td>\n",
       "      <td>55451.0</td>\n",
       "      <td>54272.0</td>\n",
       "      <td>...</td>\n",
       "      <td>NaN</td>\n",
       "      <td>NaN</td>\n",
       "      <td>NaN</td>\n",
       "      <td>NaN</td>\n",
       "      <td>NaN</td>\n",
       "      <td>NaN</td>\n",
       "      <td>NaN</td>\n",
       "      <td>NaN</td>\n",
       "      <td>NaN</td>\n",
       "      <td>NaN</td>\n",
       "    </tr>\n",
       "    <tr>\n",
       "      <th>71483</th>\n",
       "      <td>53835.0</td>\n",
       "      <td>57522.0</td>\n",
       "      <td>26158.0</td>\n",
       "      <td>55020.0</td>\n",
       "      <td>58376.0</td>\n",
       "      <td>5602.0</td>\n",
       "      <td>40583.0</td>\n",
       "      <td>61289.0</td>\n",
       "      <td>62293.0</td>\n",
       "      <td>653.0</td>\n",
       "      <td>...</td>\n",
       "      <td>NaN</td>\n",
       "      <td>NaN</td>\n",
       "      <td>NaN</td>\n",
       "      <td>NaN</td>\n",
       "      <td>NaN</td>\n",
       "      <td>NaN</td>\n",
       "      <td>NaN</td>\n",
       "      <td>NaN</td>\n",
       "      <td>NaN</td>\n",
       "      <td>NaN</td>\n",
       "    </tr>\n",
       "    <tr>\n",
       "      <th>71487</th>\n",
       "      <td>64229.0</td>\n",
       "      <td>60516.0</td>\n",
       "      <td>56775.0</td>\n",
       "      <td>2949.0</td>\n",
       "      <td>55110.0</td>\n",
       "      <td>63239.0</td>\n",
       "      <td>46664.0</td>\n",
       "      <td>2262.0</td>\n",
       "      <td>32285.0</td>\n",
       "      <td>60763.0</td>\n",
       "      <td>...</td>\n",
       "      <td>NaN</td>\n",
       "      <td>NaN</td>\n",
       "      <td>NaN</td>\n",
       "      <td>NaN</td>\n",
       "      <td>NaN</td>\n",
       "      <td>NaN</td>\n",
       "      <td>NaN</td>\n",
       "      <td>NaN</td>\n",
       "      <td>NaN</td>\n",
       "      <td>NaN</td>\n",
       "    </tr>\n",
       "    <tr>\n",
       "      <th>71497</th>\n",
       "      <td>55926.0</td>\n",
       "      <td>5498.0</td>\n",
       "      <td>56286.0</td>\n",
       "      <td>219.0</td>\n",
       "      <td>55276.0</td>\n",
       "      <td>26509.0</td>\n",
       "      <td>390.0</td>\n",
       "      <td>62799.0</td>\n",
       "      <td>58154.0</td>\n",
       "      <td>40732.0</td>\n",
       "      <td>...</td>\n",
       "      <td>NaN</td>\n",
       "      <td>NaN</td>\n",
       "      <td>NaN</td>\n",
       "      <td>NaN</td>\n",
       "      <td>NaN</td>\n",
       "      <td>NaN</td>\n",
       "      <td>NaN</td>\n",
       "      <td>NaN</td>\n",
       "      <td>NaN</td>\n",
       "      <td>NaN</td>\n",
       "    </tr>\n",
       "    <tr>\n",
       "      <th>71509</th>\n",
       "      <td>26158.0</td>\n",
       "      <td>39446.0</td>\n",
       "      <td>7284.0</td>\n",
       "      <td>60526.0</td>\n",
       "      <td>36401.0</td>\n",
       "      <td>7353.0</td>\n",
       "      <td>5702.0</td>\n",
       "      <td>26688.0</td>\n",
       "      <td>8530.0</td>\n",
       "      <td>5842.0</td>\n",
       "      <td>...</td>\n",
       "      <td>NaN</td>\n",
       "      <td>NaN</td>\n",
       "      <td>NaN</td>\n",
       "      <td>NaN</td>\n",
       "      <td>NaN</td>\n",
       "      <td>NaN</td>\n",
       "      <td>NaN</td>\n",
       "      <td>NaN</td>\n",
       "      <td>NaN</td>\n",
       "      <td>NaN</td>\n",
       "    </tr>\n",
       "    <tr>\n",
       "      <th>71525</th>\n",
       "      <td>63992.0</td>\n",
       "      <td>60309.0</td>\n",
       "      <td>48596.0</td>\n",
       "      <td>756.0</td>\n",
       "      <td>30783.0</td>\n",
       "      <td>64231.0</td>\n",
       "      <td>52435.0</td>\n",
       "      <td>319.0</td>\n",
       "      <td>31724.0</td>\n",
       "      <td>63540.0</td>\n",
       "      <td>...</td>\n",
       "      <td>NaN</td>\n",
       "      <td>NaN</td>\n",
       "      <td>NaN</td>\n",
       "      <td>NaN</td>\n",
       "      <td>NaN</td>\n",
       "      <td>NaN</td>\n",
       "      <td>NaN</td>\n",
       "      <td>NaN</td>\n",
       "      <td>NaN</td>\n",
       "      <td>NaN</td>\n",
       "    </tr>\n",
       "    <tr>\n",
       "      <th>71529</th>\n",
       "      <td>62553.0</td>\n",
       "      <td>8997.0</td>\n",
       "      <td>58315.0</td>\n",
       "      <td>712.0</td>\n",
       "      <td>57534.0</td>\n",
       "      <td>44301.0</td>\n",
       "      <td>1085.0</td>\n",
       "      <td>62336.0</td>\n",
       "      <td>60735.0</td>\n",
       "      <td>26002.0</td>\n",
       "      <td>...</td>\n",
       "      <td>NaN</td>\n",
       "      <td>NaN</td>\n",
       "      <td>NaN</td>\n",
       "      <td>NaN</td>\n",
       "      <td>NaN</td>\n",
       "      <td>NaN</td>\n",
       "      <td>NaN</td>\n",
       "      <td>NaN</td>\n",
       "      <td>NaN</td>\n",
       "      <td>NaN</td>\n",
       "    </tr>\n",
       "    <tr>\n",
       "      <th>71534</th>\n",
       "      <td>63876.0</td>\n",
       "      <td>55080.0</td>\n",
       "      <td>8410.0</td>\n",
       "      <td>5772.0</td>\n",
       "      <td>26404.0</td>\n",
       "      <td>5650.0</td>\n",
       "      <td>3282.0</td>\n",
       "      <td>1589.0</td>\n",
       "      <td>7302.0</td>\n",
       "      <td>6111.0</td>\n",
       "      <td>...</td>\n",
       "      <td>NaN</td>\n",
       "      <td>NaN</td>\n",
       "      <td>NaN</td>\n",
       "      <td>NaN</td>\n",
       "      <td>NaN</td>\n",
       "      <td>NaN</td>\n",
       "      <td>NaN</td>\n",
       "      <td>NaN</td>\n",
       "      <td>NaN</td>\n",
       "      <td>NaN</td>\n",
       "    </tr>\n",
       "  </tbody>\n",
       "</table>\n",
       "<p>2113 rows × 10016 columns</p>\n",
       "</div>"
      ],
      "text/plain": [
       "          0        1        2        3        4        5        6      \\\n",
       "userID                                                                  \n",
       "75      62511.0  58839.0   1250.0    688.0  62764.0   3128.0   4598.0   \n",
       "78      63121.0    502.0   1385.0   6880.0    253.0  60526.0  46967.0   \n",
       "127     32383.0  62250.0  49276.0   5399.0  52375.0    166.0   6794.0   \n",
       "170     54510.0   3235.0  52950.0  61678.0    912.0  46976.0  35957.0   \n",
       "175     57640.0  26222.0   2164.0   2236.0  26388.0   1473.0   2326.0   \n",
       "190      8207.0   2391.0   1882.0    714.0   2101.0    665.0  63772.0   \n",
       "267     61210.0    591.0   2062.0    215.0  64499.0  43419.0    506.0   \n",
       "325     61724.0  56775.0   7359.0  59604.0   3049.0   5933.0  61236.0   \n",
       "383     64497.0  60201.0   8611.0  26172.0  27620.0  57274.0   1422.0   \n",
       "476     64519.0  58806.0     30.0   3601.0     26.0  62956.0  33191.0   \n",
       "477     64231.0  59333.0   1114.0    565.0    118.0  62010.0    227.0   \n",
       "493     61024.0  33675.0  34526.0  53000.0  61862.0   4953.0   6690.0   \n",
       "498     59912.0  54004.0  42053.0   8512.0  47793.0     71.0  48883.0   \n",
       "533     51562.0   8988.0  50912.0  52356.0   6538.0    152.0  59519.0   \n",
       "545     59615.0  50912.0   1503.0  26483.0   2293.0   1151.0  25938.0   \n",
       "548     64614.0  57528.0  57401.0  26750.0  54978.0  55363.0  57147.0   \n",
       "580     60044.0  55814.0   8142.0  55020.0  55118.0  46970.0  42681.0   \n",
       "622     60766.0   9003.0    947.0    751.0  62081.0  25766.0    821.0   \n",
       "636     64497.0  60069.0  33558.0    983.0  63329.0  52767.0    475.0   \n",
       "637     62972.0  60289.0  40988.0   8996.0  44972.0  60832.0  58975.0   \n",
       "728     62836.0  55946.0   1337.0    958.0    353.0  62660.0    240.0   \n",
       "732     61354.0  52287.0  48600.0  37955.0  53127.0  51082.0  58381.0   \n",
       "783     64716.0  61470.0  27644.0  50151.0    528.0  26558.0    373.0   \n",
       "788      1549.0  45658.0  33113.0   6736.0  26203.0  31973.0   8403.0   \n",
       "894     63540.0  59421.0    357.0   1174.0    205.0  44864.0   3278.0   \n",
       "922     57147.0  26492.0  59985.0  49280.0  56908.0  36397.0   8961.0   \n",
       "937     63436.0  60046.0  47644.0   4565.0  39381.0  61210.0  50802.0   \n",
       "1017    64499.0  61434.0   1272.0   2368.0   1528.0   1943.0  49286.0   \n",
       "1035    62376.0  50442.0    885.0  46322.0  61160.0    203.0  32593.0   \n",
       "1047    37545.0   3097.0  32025.0  61210.0   5796.0   8697.0   2622.0   \n",
       "...         ...      ...      ...      ...      ...      ...      ...   \n",
       "70760   61289.0   1128.0   4507.0  25888.0  60735.0   3943.0   3671.0   \n",
       "70782   54958.0   1681.0  49822.0  51834.0  26903.0   7199.0   1982.0   \n",
       "70789   61167.0  51540.0   8758.0  48262.0  59022.0  59615.0    623.0   \n",
       "70793   63237.0  53129.0   7701.0  56030.0      4.0  54268.0  32591.0   \n",
       "70806   63540.0  55363.0    134.0   8917.0    216.0  62336.0  54997.0   \n",
       "70816    7953.0    549.0    912.0  63859.0    126.0   1537.0  27808.0   \n",
       "70878    2486.0  46062.0  25835.0   3550.0   8840.0  52328.0   6809.0   \n",
       "70974    7322.0  57522.0  59129.0  26151.0  62972.0  42009.0   7026.0   \n",
       "70981   64278.0  61011.0    281.0   8683.0   1598.0   7742.0  47640.0   \n",
       "71037   64620.0  60336.0  54193.0    651.0  26085.0  62801.0  27801.0   \n",
       "71052   59440.0  63222.0   8640.0   5712.0  34437.0    317.0  43011.0   \n",
       "71055   61697.0   8862.0  30996.0  62203.0  50005.0   7991.0  54290.0   \n",
       "71107   61465.0  56028.0  51498.0   7002.0  52973.0  60289.0    358.0   \n",
       "71116   61323.0  55156.0   2385.0  51304.0  61707.0  56748.0   1893.0   \n",
       "71149   56176.0   8929.0  60333.0   7334.0  27109.0  62010.0  25904.0   \n",
       "71278    8934.0    340.0   8828.0   1416.0  62378.0  31658.0  31032.0   \n",
       "71287   61707.0  40581.0   6497.0  51471.0  54796.0    430.0  32627.0   \n",
       "71291   60046.0   8859.0    437.0    179.0  64231.0  39659.0    365.0   \n",
       "71307   63121.0  59915.0  55895.0   3006.0  55440.0  61961.0   1872.0   \n",
       "71323   63698.0  59519.0    781.0   8423.0   2572.0  32002.0  34321.0   \n",
       "71331   62153.0  59995.0   5838.0  33454.0  37853.0  32605.0  52604.0   \n",
       "71420    8183.0   8887.0  31590.0  26138.0  60046.0  27790.0  55603.0   \n",
       "71478   64497.0  60760.0   5517.0  49314.0  60161.0  48909.0    984.0   \n",
       "71483   53835.0  57522.0  26158.0  55020.0  58376.0   5602.0  40583.0   \n",
       "71487   64229.0  60516.0  56775.0   2949.0  55110.0  63239.0  46664.0   \n",
       "71497   55926.0   5498.0  56286.0    219.0  55276.0  26509.0    390.0   \n",
       "71509   26158.0  39446.0   7284.0  60526.0  36401.0   7353.0   5702.0   \n",
       "71525   63992.0  60309.0  48596.0    756.0  30783.0  64231.0  52435.0   \n",
       "71529   62553.0   8997.0  58315.0    712.0  57534.0  44301.0   1085.0   \n",
       "71534   63876.0  55080.0   8410.0   5772.0  26404.0   5650.0   3282.0   \n",
       "\n",
       "          7        8        9       ...     10006   10007   10008   10009  \\\n",
       "userID                              ...                                     \n",
       "75      42632.0  63082.0   5501.0   ...       NaN     NaN     NaN     NaN   \n",
       "78        973.0   1086.0  54978.0   ...       NaN     NaN     NaN     NaN   \n",
       "127     26208.0   8997.0   8845.0   ...       NaN     NaN     NaN     NaN   \n",
       "170     42197.0  41527.0   4925.0   ...       NaN     NaN     NaN     NaN   \n",
       "175     62378.0  49817.0   1327.0   ...       NaN     NaN     NaN     NaN   \n",
       "190     54505.0  31109.0  31854.0   ...       NaN     NaN     NaN     NaN   \n",
       "267      8624.0  32011.0   9017.0   ...       NaN     NaN     NaN     NaN   \n",
       "325      7209.0   7255.0  32049.0   ...       NaN     NaN     NaN     NaN   \n",
       "383      1102.0  61931.0  58975.0   ...       NaN     NaN     NaN     NaN   \n",
       "476       872.0   3866.0  63082.0   ...       NaN     NaN     NaN     NaN   \n",
       "477       552.0   1913.0  61470.0   ...       NaN     NaN     NaN     NaN   \n",
       "493     52037.0   1376.0   1908.0   ...       NaN     NaN     NaN     NaN   \n",
       "498      8712.0   4174.0   7216.0   ...       NaN     NaN     NaN     NaN   \n",
       "533      9017.0   7565.0  42738.0   ...       NaN     NaN     NaN     NaN   \n",
       "545     50356.0    803.0    887.0   ...       NaN     NaN     NaN     NaN   \n",
       "548     26171.0   3440.0  59519.0   ...       NaN     NaN     NaN     NaN   \n",
       "580     26796.0  60948.0  58315.0   ...    3986.0  4433.0  3369.0  5283.0   \n",
       "622      4610.0  32128.0    615.0   ...       NaN     NaN     NaN     NaN   \n",
       "636     63310.0    813.0   1299.0   ...       NaN     NaN     NaN     NaN   \n",
       "637       939.0   2665.0  62000.0   ...    2488.0  2156.0  2604.0  6116.0   \n",
       "728      3708.0  39435.0  62293.0   ...       NaN     NaN     NaN     NaN   \n",
       "732      4016.0   1287.0    341.0   ...       NaN     NaN     NaN     NaN   \n",
       "783     61937.0  60336.0   4839.0   ...       NaN     NaN     NaN     NaN   \n",
       "788     27838.0  46572.0  62721.0   ...       NaN     NaN     NaN     NaN   \n",
       "894       957.0   1137.0  61236.0   ...    4605.0  4323.0  6724.0  5375.0   \n",
       "922     58156.0  51088.0  36541.0   ...       NaN     NaN     NaN     NaN   \n",
       "937      2767.0   2981.0  61350.0   ...       NaN     NaN     NaN     NaN   \n",
       "1017     2841.0    716.0  62113.0   ...    4964.0  5872.0     NaN     NaN   \n",
       "1035    26770.0  62836.0    397.0   ...       NaN     NaN     NaN     NaN   \n",
       "1047    61160.0  33836.0   2805.0   ...       NaN     NaN     NaN     NaN   \n",
       "...         ...      ...      ...   ...       ...     ...     ...     ...   \n",
       "70760    2143.0  60688.0    267.0   ...       NaN     NaN     NaN     NaN   \n",
       "70782   48741.0   2313.0   8866.0   ...       NaN     NaN     NaN     NaN   \n",
       "70789     388.0  61465.0    264.0   ...       NaN     NaN     NaN     NaN   \n",
       "70793     803.0  61401.0  55577.0   ...       NaN     NaN     NaN     NaN   \n",
       "70806     891.0   1606.0  61470.0   ...       NaN     NaN     NaN     NaN   \n",
       "70816   62792.0     59.0  26509.0   ...       NaN     NaN     NaN     NaN   \n",
       "70878    2231.0  42740.0   2422.0   ...       NaN     NaN     NaN     NaN   \n",
       "70974   33072.0  52838.0   7569.0   ...       NaN     NaN     NaN     NaN   \n",
       "70981    2200.0    524.0  57464.0   ...       NaN     NaN     NaN     NaN   \n",
       "71037    1649.0   8944.0  56607.0   ...       NaN     NaN     NaN     NaN   \n",
       "71052    7437.0   6745.0  61961.0   ...    1503.0  2186.0  3820.0  3078.0   \n",
       "71055   51694.0  48883.0  45183.0   ...       NaN     NaN     NaN     NaN   \n",
       "71107   37380.0  30970.0  52545.0   ...       NaN     NaN     NaN     NaN   \n",
       "71116    2925.0  62972.0  59995.0   ...       NaN     NaN     NaN     NaN   \n",
       "71149    7370.0  34271.0  61646.0   ...       NaN     NaN     NaN     NaN   \n",
       "71278   27899.0  36513.0   8258.0   ...       NaN     NaN     NaN     NaN   \n",
       "71287    7329.0  57147.0    147.0   ...       NaN     NaN     NaN     NaN   \n",
       "71291   30810.0  63876.0    436.0   ...       NaN     NaN     NaN     NaN   \n",
       "71307   26485.0  31682.0  59908.0   ...    6826.0  6396.0  7725.0  5560.0   \n",
       "71323    5446.0    652.0  58494.0   ...    4897.0  5654.0  5455.0  4402.0   \n",
       "71331   46322.0   6846.0   4486.0   ...       NaN     NaN     NaN     NaN   \n",
       "71420   26965.0  27271.0   8652.0   ...       NaN     NaN     NaN     NaN   \n",
       "71478    2012.0  55451.0  54272.0   ...       NaN     NaN     NaN     NaN   \n",
       "71483   61289.0  62293.0    653.0   ...       NaN     NaN     NaN     NaN   \n",
       "71487    2262.0  32285.0  60763.0   ...       NaN     NaN     NaN     NaN   \n",
       "71497   62799.0  58154.0  40732.0   ...       NaN     NaN     NaN     NaN   \n",
       "71509   26688.0   8530.0   5842.0   ...       NaN     NaN     NaN     NaN   \n",
       "71525     319.0  31724.0  63540.0   ...       NaN     NaN     NaN     NaN   \n",
       "71529   62336.0  60735.0  26002.0   ...       NaN     NaN     NaN     NaN   \n",
       "71534    1589.0   7302.0   6111.0   ...       NaN     NaN     NaN     NaN   \n",
       "\n",
       "         10010   10011   10012   10013   10014   10015  \n",
       "userID                                                  \n",
       "75         NaN     NaN     NaN     NaN     NaN     NaN  \n",
       "78         NaN     NaN     NaN     NaN     NaN     NaN  \n",
       "127        NaN     NaN     NaN     NaN     NaN     NaN  \n",
       "170        NaN     NaN     NaN     NaN     NaN     NaN  \n",
       "175        NaN     NaN     NaN     NaN     NaN     NaN  \n",
       "190        NaN     NaN     NaN     NaN     NaN     NaN  \n",
       "267        NaN     NaN     NaN     NaN     NaN     NaN  \n",
       "325        NaN     NaN     NaN     NaN     NaN     NaN  \n",
       "383        NaN     NaN     NaN     NaN     NaN     NaN  \n",
       "476        NaN     NaN     NaN     NaN     NaN     NaN  \n",
       "477        NaN     NaN     NaN     NaN     NaN     NaN  \n",
       "493        NaN     NaN     NaN     NaN     NaN     NaN  \n",
       "498        NaN     NaN     NaN     NaN     NaN     NaN  \n",
       "533        NaN     NaN     NaN     NaN     NaN     NaN  \n",
       "545        NaN     NaN     NaN     NaN     NaN     NaN  \n",
       "548        NaN     NaN     NaN     NaN     NaN     NaN  \n",
       "580        NaN     NaN     NaN     NaN     NaN     NaN  \n",
       "622        NaN     NaN     NaN     NaN     NaN     NaN  \n",
       "636        NaN     NaN     NaN     NaN     NaN     NaN  \n",
       "637     3293.0  5245.0  6286.0     NaN     NaN     NaN  \n",
       "728        NaN     NaN     NaN     NaN     NaN     NaN  \n",
       "732        NaN     NaN     NaN     NaN     NaN     NaN  \n",
       "783        NaN     NaN     NaN     NaN     NaN     NaN  \n",
       "788        NaN     NaN     NaN     NaN     NaN     NaN  \n",
       "894     4332.0  5099.0  6473.0  4748.0  6405.0  6569.0  \n",
       "922        NaN     NaN     NaN     NaN     NaN     NaN  \n",
       "937        NaN     NaN     NaN     NaN     NaN     NaN  \n",
       "1017       NaN     NaN     NaN     NaN     NaN     NaN  \n",
       "1035       NaN     NaN     NaN     NaN     NaN     NaN  \n",
       "1047       NaN     NaN     NaN     NaN     NaN     NaN  \n",
       "...        ...     ...     ...     ...     ...     ...  \n",
       "70760      NaN     NaN     NaN     NaN     NaN     NaN  \n",
       "70782      NaN     NaN     NaN     NaN     NaN     NaN  \n",
       "70789      NaN     NaN     NaN     NaN     NaN     NaN  \n",
       "70793      NaN     NaN     NaN     NaN     NaN     NaN  \n",
       "70806      NaN     NaN     NaN     NaN     NaN     NaN  \n",
       "70816      NaN     NaN     NaN     NaN     NaN     NaN  \n",
       "70878      NaN     NaN     NaN     NaN     NaN     NaN  \n",
       "70974      NaN     NaN     NaN     NaN     NaN     NaN  \n",
       "70981      NaN     NaN     NaN     NaN     NaN     NaN  \n",
       "71037      NaN     NaN     NaN     NaN     NaN     NaN  \n",
       "71052   2744.0  2803.0  2315.0  2111.0  2540.0  2051.0  \n",
       "71055      NaN     NaN     NaN     NaN     NaN     NaN  \n",
       "71107      NaN     NaN     NaN     NaN     NaN     NaN  \n",
       "71116      NaN     NaN     NaN     NaN     NaN     NaN  \n",
       "71149      NaN     NaN     NaN     NaN     NaN     NaN  \n",
       "71278      NaN     NaN     NaN     NaN     NaN     NaN  \n",
       "71287      NaN     NaN     NaN     NaN     NaN     NaN  \n",
       "71291      NaN     NaN     NaN     NaN     NaN     NaN  \n",
       "71307   4858.0     NaN     NaN     NaN     NaN     NaN  \n",
       "71323   4030.0  4690.0  6768.0  6113.0  5817.0  5374.0  \n",
       "71331      NaN     NaN     NaN     NaN     NaN     NaN  \n",
       "71420      NaN     NaN     NaN     NaN     NaN     NaN  \n",
       "71478      NaN     NaN     NaN     NaN     NaN     NaN  \n",
       "71483      NaN     NaN     NaN     NaN     NaN     NaN  \n",
       "71487      NaN     NaN     NaN     NaN     NaN     NaN  \n",
       "71497      NaN     NaN     NaN     NaN     NaN     NaN  \n",
       "71509      NaN     NaN     NaN     NaN     NaN     NaN  \n",
       "71525      NaN     NaN     NaN     NaN     NaN     NaN  \n",
       "71529      NaN     NaN     NaN     NaN     NaN     NaN  \n",
       "71534      NaN     NaN     NaN     NaN     NaN     NaN  \n",
       "\n",
       "[2113 rows x 10016 columns]"
      ]
     },
     "execution_count": 57,
     "metadata": {},
     "output_type": "execute_result"
    }
   ],
   "source": [
    "(ratings_pred[train_ratings_pivot.isnull()]\n",
    " .apply(lambda row: pd.Series(index=np.argsort(row.dropna()), data=row.dropna().index), axis=1))"
   ]
  },
  {
   "cell_type": "markdown",
   "metadata": {},
   "source": [
    "**Задание 4 (4 балла)** В пакете GraphLab Create также есть встроенный алгоритм рекомендации  [RankingFactorizationRecommender](https://turi.com/products/create/docs/generated/graphlab.recommender.ranking_factorization_recommender.RankingFactorizationRecommender.html) ([о том как его создавать](https://turi.com/products/create/docs/generated/graphlab.recommender.ranking_factorization_recommender.create.html#graphlab.recommender.ranking_factorization_recommender.create)). Проведите эксперименты из предыдущего задания для этого алгоритма рекомендаций, рассмотрев как влияют различные параметры на результат. Сравните их с полученными ранее результатами.\n",
    "\n",
    "Описание параметров алгоритма можно найти [здесь](https://turi.com/products/create/docs/generated/graphlab.recommender.ranking_factorization_recommender.create.html). Мы рекомендуем при проведении экспериментов обратить внимание на некоторые из следующих параметров:\n",
    " - binary_targets\n",
    " - num_factors\n",
    " - ranking_regularization\n",
    " - unobserved_rating_value\n",
    " - num_sampled_negative_examples"
   ]
  },
  {
   "cell_type": "code",
   "execution_count": 29,
   "metadata": {
    "ExecuteTime": {
     "end_time": "2018-10-30T19:33:47.743141Z",
     "start_time": "2018-10-30T19:33:40.063308Z"
    }
   },
   "outputs": [
    {
     "data": {
      "text/html": [
       "<pre>Recsys training: model = ranking_factorization_recommender</pre>"
      ],
      "text/plain": [
       "Recsys training: model = ranking_factorization_recommender"
      ]
     },
     "metadata": {},
     "output_type": "display_data"
    },
    {
     "data": {
      "text/html": [
       "<pre>Preparing data set.</pre>"
      ],
      "text/plain": [
       "Preparing data set."
      ]
     },
     "metadata": {},
     "output_type": "display_data"
    },
    {
     "data": {
      "text/html": [
       "<pre>    Data has 849259 observations with 2113 users and 10033 items.</pre>"
      ],
      "text/plain": [
       "    Data has 849259 observations with 2113 users and 10033 items."
      ]
     },
     "metadata": {},
     "output_type": "display_data"
    },
    {
     "data": {
      "text/html": [
       "<pre>    Data prepared in: 0.344096s</pre>"
      ],
      "text/plain": [
       "    Data prepared in: 0.344096s"
      ]
     },
     "metadata": {},
     "output_type": "display_data"
    },
    {
     "data": {
      "text/html": [
       "<pre>Training ranking_factorization_recommender for recommendations.</pre>"
      ],
      "text/plain": [
       "Training ranking_factorization_recommender for recommendations."
      ]
     },
     "metadata": {},
     "output_type": "display_data"
    },
    {
     "data": {
      "text/html": [
       "<pre>+--------------------------------+--------------------------------------------------+----------+</pre>"
      ],
      "text/plain": [
       "+--------------------------------+--------------------------------------------------+----------+"
      ]
     },
     "metadata": {},
     "output_type": "display_data"
    },
    {
     "data": {
      "text/html": [
       "<pre>| Parameter                      | Description                                      | Value    |</pre>"
      ],
      "text/plain": [
       "| Parameter                      | Description                                      | Value    |"
      ]
     },
     "metadata": {},
     "output_type": "display_data"
    },
    {
     "data": {
      "text/html": [
       "<pre>+--------------------------------+--------------------------------------------------+----------+</pre>"
      ],
      "text/plain": [
       "+--------------------------------+--------------------------------------------------+----------+"
      ]
     },
     "metadata": {},
     "output_type": "display_data"
    },
    {
     "data": {
      "text/html": [
       "<pre>| num_factors                    | Factor Dimension                                 | 32       |</pre>"
      ],
      "text/plain": [
       "| num_factors                    | Factor Dimension                                 | 32       |"
      ]
     },
     "metadata": {},
     "output_type": "display_data"
    },
    {
     "data": {
      "text/html": [
       "<pre>| regularization                 | L2 Regularization on Factors                     | 1e-09    |</pre>"
      ],
      "text/plain": [
       "| regularization                 | L2 Regularization on Factors                     | 1e-09    |"
      ]
     },
     "metadata": {},
     "output_type": "display_data"
    },
    {
     "data": {
      "text/html": [
       "<pre>| solver                         | Solver used for training                         | sgd      |</pre>"
      ],
      "text/plain": [
       "| solver                         | Solver used for training                         | sgd      |"
      ]
     },
     "metadata": {},
     "output_type": "display_data"
    },
    {
     "data": {
      "text/html": [
       "<pre>| linear_regularization          | L2 Regularization on Linear Coefficients         | 1e-09    |</pre>"
      ],
      "text/plain": [
       "| linear_regularization          | L2 Regularization on Linear Coefficients         | 1e-09    |"
      ]
     },
     "metadata": {},
     "output_type": "display_data"
    },
    {
     "data": {
      "text/html": [
       "<pre>| ranking_regularization         | Rank-based Regularization Weight                 | 0.25     |</pre>"
      ],
      "text/plain": [
       "| ranking_regularization         | Rank-based Regularization Weight                 | 0.25     |"
      ]
     },
     "metadata": {},
     "output_type": "display_data"
    },
    {
     "data": {
      "text/html": [
       "<pre>| max_iterations                 | Maximum Number of Iterations                     | 25       |</pre>"
      ],
      "text/plain": [
       "| max_iterations                 | Maximum Number of Iterations                     | 25       |"
      ]
     },
     "metadata": {},
     "output_type": "display_data"
    },
    {
     "data": {
      "text/html": [
       "<pre>+--------------------------------+--------------------------------------------------+----------+</pre>"
      ],
      "text/plain": [
       "+--------------------------------+--------------------------------------------------+----------+"
      ]
     },
     "metadata": {},
     "output_type": "display_data"
    },
    {
     "data": {
      "text/html": [
       "<pre>  Optimizing model using SGD; tuning step size.</pre>"
      ],
      "text/plain": [
       "  Optimizing model using SGD; tuning step size."
      ]
     },
     "metadata": {},
     "output_type": "display_data"
    },
    {
     "data": {
      "text/html": [
       "<pre>  Using 106157 / 849259 points for tuning the step size.</pre>"
      ],
      "text/plain": [
       "  Using 106157 / 849259 points for tuning the step size."
      ]
     },
     "metadata": {},
     "output_type": "display_data"
    },
    {
     "data": {
      "text/html": [
       "<pre>+---------+-------------------+------------------------------------------+</pre>"
      ],
      "text/plain": [
       "+---------+-------------------+------------------------------------------+"
      ]
     },
     "metadata": {},
     "output_type": "display_data"
    },
    {
     "data": {
      "text/html": [
       "<pre>| Attempt | Initial Step Size | Estimated Objective Value                |</pre>"
      ],
      "text/plain": [
       "| Attempt | Initial Step Size | Estimated Objective Value                |"
      ]
     },
     "metadata": {},
     "output_type": "display_data"
    },
    {
     "data": {
      "text/html": [
       "<pre>+---------+-------------------+------------------------------------------+</pre>"
      ],
      "text/plain": [
       "+---------+-------------------+------------------------------------------+"
      ]
     },
     "metadata": {},
     "output_type": "display_data"
    },
    {
     "data": {
      "text/html": [
       "<pre>| 0       | 25                | Not Viable                               |</pre>"
      ],
      "text/plain": [
       "| 0       | 25                | Not Viable                               |"
      ]
     },
     "metadata": {},
     "output_type": "display_data"
    },
    {
     "data": {
      "text/html": [
       "<pre>| 1       | 6.25              | Not Viable                               |</pre>"
      ],
      "text/plain": [
       "| 1       | 6.25              | Not Viable                               |"
      ]
     },
     "metadata": {},
     "output_type": "display_data"
    },
    {
     "data": {
      "text/html": [
       "<pre>| 2       | 1.5625            | Not Viable                               |</pre>"
      ],
      "text/plain": [
       "| 2       | 1.5625            | Not Viable                               |"
      ]
     },
     "metadata": {},
     "output_type": "display_data"
    },
    {
     "data": {
      "text/html": [
       "<pre>| 3       | 0.390625          | Not Viable                               |</pre>"
      ],
      "text/plain": [
       "| 3       | 0.390625          | Not Viable                               |"
      ]
     },
     "metadata": {},
     "output_type": "display_data"
    },
    {
     "data": {
      "text/html": [
       "<pre>| 4       | 0.0976562         | 1.35529                                  |</pre>"
      ],
      "text/plain": [
       "| 4       | 0.0976562         | 1.35529                                  |"
      ]
     },
     "metadata": {},
     "output_type": "display_data"
    },
    {
     "data": {
      "text/html": [
       "<pre>| 5       | 0.0488281         | 1.40717                                  |</pre>"
      ],
      "text/plain": [
       "| 5       | 0.0488281         | 1.40717                                  |"
      ]
     },
     "metadata": {},
     "output_type": "display_data"
    },
    {
     "data": {
      "text/html": [
       "<pre>| 6       | 0.0244141         | 1.41263                                  |</pre>"
      ],
      "text/plain": [
       "| 6       | 0.0244141         | 1.41263                                  |"
      ]
     },
     "metadata": {},
     "output_type": "display_data"
    },
    {
     "data": {
      "text/html": [
       "<pre>| 7       | 0.012207          | 1.4373                                   |</pre>"
      ],
      "text/plain": [
       "| 7       | 0.012207          | 1.4373                                   |"
      ]
     },
     "metadata": {},
     "output_type": "display_data"
    },
    {
     "data": {
      "text/html": [
       "<pre>+---------+-------------------+------------------------------------------+</pre>"
      ],
      "text/plain": [
       "+---------+-------------------+------------------------------------------+"
      ]
     },
     "metadata": {},
     "output_type": "display_data"
    },
    {
     "data": {
      "text/html": [
       "<pre>| Final   | 0.0976562         | 1.35529                                  |</pre>"
      ],
      "text/plain": [
       "| Final   | 0.0976562         | 1.35529                                  |"
      ]
     },
     "metadata": {},
     "output_type": "display_data"
    },
    {
     "data": {
      "text/html": [
       "<pre>+---------+-------------------+------------------------------------------+</pre>"
      ],
      "text/plain": [
       "+---------+-------------------+------------------------------------------+"
      ]
     },
     "metadata": {},
     "output_type": "display_data"
    },
    {
     "data": {
      "text/html": [
       "<pre>Starting Optimization.</pre>"
      ],
      "text/plain": [
       "Starting Optimization."
      ]
     },
     "metadata": {},
     "output_type": "display_data"
    },
    {
     "data": {
      "text/html": [
       "<pre>+---------+--------------+-------------------+-----------------------+-------------+</pre>"
      ],
      "text/plain": [
       "+---------+--------------+-------------------+-----------------------+-------------+"
      ]
     },
     "metadata": {},
     "output_type": "display_data"
    },
    {
     "data": {
      "text/html": [
       "<pre>| Iter.   | Elapsed Time | Approx. Objective | Approx. Training RMSE | Step Size   |</pre>"
      ],
      "text/plain": [
       "| Iter.   | Elapsed Time | Approx. Objective | Approx. Training RMSE | Step Size   |"
      ]
     },
     "metadata": {},
     "output_type": "display_data"
    },
    {
     "data": {
      "text/html": [
       "<pre>+---------+--------------+-------------------+-----------------------+-------------+</pre>"
      ],
      "text/plain": [
       "+---------+--------------+-------------------+-----------------------+-------------+"
      ]
     },
     "metadata": {},
     "output_type": "display_data"
    },
    {
     "data": {
      "text/html": [
       "<pre>| Initial | 75us         | 1.9698            | 1.00232               |             |</pre>"
      ],
      "text/plain": [
       "| Initial | 75us         | 1.9698            | 1.00232               |             |"
      ]
     },
     "metadata": {},
     "output_type": "display_data"
    },
    {
     "data": {
      "text/html": [
       "<pre>+---------+--------------+-------------------+-----------------------+-------------+</pre>"
      ],
      "text/plain": [
       "+---------+--------------+-------------------+-----------------------+-------------+"
      ]
     },
     "metadata": {},
     "output_type": "display_data"
    },
    {
     "data": {
      "text/html": [
       "<pre>| 1       | 239.238ms    | DIVERGED          | DIVERGED              | 0.0976562   |</pre>"
      ],
      "text/plain": [
       "| 1       | 239.238ms    | DIVERGED          | DIVERGED              | 0.0976562   |"
      ]
     },
     "metadata": {},
     "output_type": "display_data"
    },
    {
     "data": {
      "text/html": [
       "<pre>| RESET   | 315.26ms     | 1.96978           | 1.00232               |             |</pre>"
      ],
      "text/plain": [
       "| RESET   | 315.26ms     | 1.96978           | 1.00232               |             |"
      ]
     },
     "metadata": {},
     "output_type": "display_data"
    },
    {
     "data": {
      "text/html": [
       "<pre>| 1       | 498.751ms    | 1.34879           | 0.936935              | 0.0488281   |</pre>"
      ],
      "text/plain": [
       "| 1       | 498.751ms    | 1.34879           | 0.936935              | 0.0488281   |"
      ]
     },
     "metadata": {},
     "output_type": "display_data"
    },
    {
     "data": {
      "text/html": [
       "<pre>| 2       | 657.677ms    | 1.17524           | 0.880315              | 0.0290334   |</pre>"
      ],
      "text/plain": [
       "| 2       | 657.677ms    | 1.17524           | 0.880315              | 0.0290334   |"
      ]
     },
     "metadata": {},
     "output_type": "display_data"
    },
    {
     "data": {
      "text/html": [
       "<pre>| 3       | 815.902ms    | 1.09168           | 0.845532              | 0.0214205   |</pre>"
      ],
      "text/plain": [
       "| 3       | 815.902ms    | 1.09168           | 0.845532              | 0.0214205   |"
      ]
     },
     "metadata": {},
     "output_type": "display_data"
    },
    {
     "data": {
      "text/html": [
       "<pre>| 4       | 976.947ms    | 1.02987           | 0.818116              | 0.0172633   |</pre>"
      ],
      "text/plain": [
       "| 4       | 976.947ms    | 1.02987           | 0.818116              | 0.0172633   |"
      ]
     },
     "metadata": {},
     "output_type": "display_data"
    },
    {
     "data": {
      "text/html": [
       "<pre>| 5       | 1.15s        | 0.980675          | 0.795431              | 0.014603    |</pre>"
      ],
      "text/plain": [
       "| 5       | 1.15s        | 0.980675          | 0.795431              | 0.014603    |"
      ]
     },
     "metadata": {},
     "output_type": "display_data"
    },
    {
     "data": {
      "text/html": [
       "<pre>| 6       | 1.32s        | 0.941577          | 0.776397              | 0.0127367   |</pre>"
      ],
      "text/plain": [
       "| 6       | 1.32s        | 0.941577          | 0.776397              | 0.0127367   |"
      ]
     },
     "metadata": {},
     "output_type": "display_data"
    },
    {
     "data": {
      "text/html": [
       "<pre>| 9       | 1.78s        | 0.871137          | 0.741767              | 0.00939698  |</pre>"
      ],
      "text/plain": [
       "| 9       | 1.78s        | 0.871137          | 0.741767              | 0.00939698  |"
      ]
     },
     "metadata": {},
     "output_type": "display_data"
    },
    {
     "data": {
      "text/html": [
       "<pre>| 11      | 2.09s        | 0.847835          | 0.729987              | 0.00808399  |</pre>"
      ],
      "text/plain": [
       "| 11      | 2.09s        | 0.847835          | 0.729987              | 0.00808399  |"
      ]
     },
     "metadata": {},
     "output_type": "display_data"
    },
    {
     "data": {
      "text/html": [
       "<pre>| 19      | 3.30s        | 0.802183          | 0.706195              | 0.00536543  |</pre>"
      ],
      "text/plain": [
       "| 19      | 3.30s        | 0.802183          | 0.706195              | 0.00536543  |"
      ]
     },
     "metadata": {},
     "output_type": "display_data"
    },
    {
     "data": {
      "text/html": [
       "<pre>+---------+--------------+-------------------+-----------------------+-------------+</pre>"
      ],
      "text/plain": [
       "+---------+--------------+-------------------+-----------------------+-------------+"
      ]
     },
     "metadata": {},
     "output_type": "display_data"
    },
    {
     "data": {
      "text/html": [
       "<pre>Optimization Complete: Maximum number of passes through the data reached.</pre>"
      ],
      "text/plain": [
       "Optimization Complete: Maximum number of passes through the data reached."
      ]
     },
     "metadata": {},
     "output_type": "display_data"
    },
    {
     "data": {
      "text/html": [
       "<pre>Computing final objective value and training RMSE.</pre>"
      ],
      "text/plain": [
       "Computing final objective value and training RMSE."
      ]
     },
     "metadata": {},
     "output_type": "display_data"
    },
    {
     "data": {
      "text/html": [
       "<pre>       Final objective value: 0.778866</pre>"
      ],
      "text/plain": [
       "       Final objective value: 0.778866"
      ]
     },
     "metadata": {},
     "output_type": "display_data"
    },
    {
     "data": {
      "text/html": [
       "<pre>       Final training RMSE: 0.672758</pre>"
      ],
      "text/plain": [
       "       Final training RMSE: 0.672758"
      ]
     },
     "metadata": {},
     "output_type": "display_data"
    },
    {
     "data": {
      "text/html": [
       "<pre>recommendations finished on 1000/2113 queries. users per second: 1792.02</pre>"
      ],
      "text/plain": [
       "recommendations finished on 1000/2113 queries. users per second: 1792.02"
      ]
     },
     "metadata": {},
     "output_type": "display_data"
    },
    {
     "data": {
      "text/html": [
       "<pre>recommendations finished on 2000/2113 queries. users per second: 1819.26</pre>"
      ],
      "text/plain": [
       "recommendations finished on 2000/2113 queries. users per second: 1819.26"
      ]
     },
     "metadata": {},
     "output_type": "display_data"
    },
    {
     "name": "stdout",
     "output_type": "stream",
     "text": [
      "+---------+---------+---------------+------+\n",
      "| user_id | item_id |     score     | rank |\n",
      "+---------+---------+---------------+------+\n",
      "|    75   |   2167  | 4.55986829274 |  1   |\n",
      "|    75   |   1676  | 4.39376469128 |  2   |\n",
      "|    75   |   3275  | 4.38749714368 |  3   |\n",
      "|    75   |   3265  | 4.32736392491 |  4   |\n",
      "|    75   |   3527  | 4.30602093213 |  5   |\n",
      "|    75   |   5903  | 4.29136105054 |  6   |\n",
      "|    75   |   4011  | 4.24588675969 |  7   |\n",
      "|    75   |   4387  | 4.23835487836 |  8   |\n",
      "|    75   |   1089  | 4.20452042096 |  9   |\n",
      "|    75   |   3020  | 4.20266027921 |  10  |\n",
      "+---------+---------+---------------+------+\n",
      "[20350470 rows x 4 columns]\n",
      "Note: Only the head of the SFrame is printed.\n",
      "You can use print_rows(num_rows=m, num_columns=n) to print more rows and columns.\n"
     ]
    }
   ],
   "source": [
    "sf = graphlab.SFrame({'user_id': train.userID,\n",
    "                      'item_id': train.movieID,\n",
    "                      'rating': train.rating})\n",
    "rfr = graphlab.recommender.ranking_factorization_recommender.create(sf, target='rating')\n",
    "recs2 = rfr.recommend(k=train.movieID.nunique())\n",
    "print recs2"
   ]
  },
  {
   "cell_type": "code",
   "execution_count": 30,
   "metadata": {
    "ExecuteTime": {
     "end_time": "2018-10-30T19:34:54.152385Z",
     "start_time": "2018-10-30T19:33:59.883936Z"
    }
   },
   "outputs": [],
   "source": [
    "rfr_recommendations = pd.DataFrame.from_dict({\n",
    "    col: recs2[col] for col in recs2.column_names()\n",
    "    \n",
    "}).rename(columns={'user_id': 'userID', 'item_id': 'movieID'})"
   ]
  },
  {
   "cell_type": "code",
   "execution_count": 31,
   "metadata": {
    "ExecuteTime": {
     "end_time": "2018-10-30T19:35:22.845185Z",
     "start_time": "2018-10-30T19:34:54.155585Z"
    }
   },
   "outputs": [
    {
     "data": {
      "text/plain": [
       "0.00010758472296933836"
      ]
     },
     "execution_count": 31,
     "metadata": {},
     "output_type": "execute_result"
    }
   ],
   "source": [
    "calc_map(rfr_recommendations)"
   ]
  },
  {
   "cell_type": "markdown",
   "metadata": {},
   "source": [
    "## Категориальные и разреженные признаки (10 баллов)\n",
    "\n",
    "В этой части задания мы рассмотрим несколько подходов к работе с категориальными и разреженными признаками. В данном случае это id-пользователя и id-фильма, а также предлагаем на ваше усмотрение добавить один или несколько признаков из имеющихся данных, например: жанр фильма, киноперсоны из фильма, последний оцененный пользователем фильм, средняя оценка пользователя, ...\n",
    "\n",
    "Для выбранного набора/наборов признаков будет необходимо построить рекомендательные системы, используя библиотеки [Vopwal Wabbit](https://github.com/JohnLangford/vowpal_wabbit/wiki), [LibFM](http://libfm.org) и [xgboost](https://github.com/dmlc/xgboost). При работе с этими библиотеками не забывайте, что консольные комманды нужно исполнять прямо из ipython-notebook'а, чтобы история ваших запусков сохранилась и проверяющие могли её оценить."
   ]
  },
  {
   "cell_type": "markdown",
   "metadata": {},
   "source": [
    "### Разреженные признаки\n",
    "\n",
    "В данной части раьоты вам необходимо создать разреженную матрицу данных, закодировав каждый из категориальных признаков вектором чисел. Примером может служить следующая иллюстрация добавления различных признаков:\n",
    "\n",
    "![](http://i.imgur.com/7nUMFx5.png)\n",
    "\n",
    "Здесь, для наглядности, вся матрица объект-признак разбита на части, каждая из которых соответствует одному или группе категориальных признаков. Например, часть *User* соответствует закодированному признаку *user_id*, часть *Movie* — признаку *movie_id*, *Other movies rated* содержит в себе оценки пользователя другим фильмам, а *Last movie rated* соответствует признаку \"последний оцененный пользователем фильм\"."
   ]
  },
  {
   "cell_type": "markdown",
   "metadata": {},
   "source": [
    "#### Vowpal Wabbit\n",
    "\n",
    "С этой библиотекой вы знакомились в рамках другой лабораторной работы, где были даны подробне инструкции по ее установке и функциональности.\n",
    "\n",
    "Создайте описанную выше выборку в формате пригодном для обучения модели с помощью Vopwal Wabbit."
   ]
  },
  {
   "cell_type": "code",
   "execution_count": null,
   "metadata": {},
   "outputs": [],
   "source": []
  },
  {
   "cell_type": "markdown",
   "metadata": {},
   "source": [
    "**Задание 7 (3 балла)** Обучите **квадратичную модель** на полученной выбороке c помощью Vopwal Wabbit. Посчитайте качество предсказаний."
   ]
  },
  {
   "cell_type": "code",
   "execution_count": null,
   "metadata": {},
   "outputs": [],
   "source": []
  },
  {
   "cell_type": "markdown",
   "metadata": {},
   "source": [
    "### libFm\n",
    "\n",
    "Библиотека [libFM](http://libfm.org) реализует общий подход к задачам с категориальными признаками, в основе которого лежат факторизационные машины. В данном дистрибутиве реализованы такие методы как stochastic gradient descent ([SGD](https://en.wikipedia.org/wiki/Stochastic_gradient_descent)), alternating least squares ([ALS](https://arxiv.org/pdf/1206.2493.pdf)), а также Bayesian inference using Markov Chain Monte Carlo ([MCMC](https://en.wikipedia.org/wiki/Markov_chain_Monte_Carlo)). \n",
    "Подробную информацию можно найти в [мануале](http://www.libfm.org/libfm-1.42.manual.pdf).\n",
    "\n",
    "libFm принимает данные в следующем формате:\n",
    "\n",
    "    <target> <feature-id>:<feature-value> <feature-id>:<feature-value> ...\n",
    "\n",
    "Например:\n",
    "\n",
    "    4 0:1.5 3:-7.9\n",
    "    2 1:1e-5 3:2\n",
    "    -1 6:1\n",
    "\n",
    "Если признак не указан, то он считается равным нулю. Таким образом, закодированный категориальный признак можно задать одной записью, например: \n",
    "\n",
    "    <user-id>:1.0"
   ]
  },
  {
   "cell_type": "markdown",
   "metadata": {},
   "source": [
    "Создайте описанную выше выборку в формате пригодном для LibFM."
   ]
  },
  {
   "cell_type": "code",
   "execution_count": null,
   "metadata": {},
   "outputs": [],
   "source": []
  },
  {
   "cell_type": "markdown",
   "metadata": {},
   "source": [
    "**Задание 8 (3 балла)** Постройте предсказания оценок при помощи факторизационных машин, используя библиотеку LibFM. Выберете наиболее подходящий метод обучения. Посчитайте качество построенной модели."
   ]
  },
  {
   "cell_type": "code",
   "execution_count": null,
   "metadata": {},
   "outputs": [],
   "source": []
  },
  {
   "cell_type": "markdown",
   "metadata": {},
   "source": [
    "### Признаки-счётчики\n",
    "\n",
    "В качестве иллюстрации что такое признаки-счётчики, рассмотрим категориальный признак \"жанр фильма\". Для каждого жанра мы можем посчитать некоторое числовое значение, например, среднее значение оценок фильмов этого жанра. Затем, если в матрице данных заменить значения жанров этого категориального признака на соответствующие значения средних рейтингов данных жанров, то получится новый числовой признак-счётчик.\n",
    "\n",
    "Здесь стоит обратить внимание на следующее:\n",
    "\n",
    "1. При создании таких счётчиков категориальных признаков по целевой переменной, важно не использовать оценки из настоящего и будущего. То есть, в нашем примере, при расчете среднего для конкретного объекта нельзя использовать как оценку текущего объекта, так и оценки, которые были поставлены позже. Иначе возникнет переобучение.\n",
    "2. В качестве счетчиков можно рассматривать и другие статистики: число встречаемости данного значения, медиану целевой переменной по объектам с тем же значением данного категориального признака и т.п.\n",
    "3. Подобные признаки-счётчики можно считать не только по одному категориальному признаку, как в примере с жанром фильма, но и и по набору из нескольких категориальных признаков, например, по паре (жанр, киноперсоны).\n",
    "4. Счётчики можно считать не только по целевой переменной, но и относительно других признаков."
   ]
  },
  {
   "cell_type": "markdown",
   "metadata": {},
   "source": [
    "**Задание 8 (3 балла)** Используя исходные данные, создайте выборку с набором признаков-счётчиков. На полученной выборке с счетчиками постройте предсказания оценок, используя xgboost. Постарайтесь добиться качества сравнимого с качеством моделей из предыдущего пункта. Какие признаки-счётчики оказались наиболее удачными? Почему? "
   ]
  },
  {
   "cell_type": "code",
   "execution_count": null,
   "metadata": {},
   "outputs": [],
   "source": []
  },
  {
   "cell_type": "markdown",
   "metadata": {},
   "source": [
    "**Задание 9 (1 балл)** Приведите сравнение качества всех моделей, использованных в работе, руководствуясь значениями описанных метрик. Какие из моделей оказались лучше других по каждой из метрик? Чем это можно объяснить?"
   ]
  },
  {
   "cell_type": "code",
   "execution_count": null,
   "metadata": {},
   "outputs": [],
   "source": []
  }
 ],
 "metadata": {
  "kernelspec": {
   "display_name": "Python 3",
   "language": "python",
   "name": "python3"
  },
  "language_info": {
   "codemirror_mode": {
    "name": "ipython",
    "version": 3
   },
   "file_extension": ".py",
   "mimetype": "text/x-python",
   "name": "python",
   "nbconvert_exporter": "python",
   "pygments_lexer": "ipython3",
   "version": "3.6.0"
  },
  "toc": {
   "base_numbering": 1,
   "nav_menu": {},
   "number_sections": true,
   "sideBar": true,
   "skip_h1_title": false,
   "title_cell": "Table of Contents",
   "title_sidebar": "Contents",
   "toc_cell": true,
   "toc_position": {},
   "toc_section_display": true,
   "toc_window_display": true
  }
 },
 "nbformat": 4,
 "nbformat_minor": 2
}
