{
 "cells": [
  {
   "cell_type": "markdown",
   "metadata": {
    "toc": true
   },
   "source": [
    "<h1>Table of Contents<span class=\"tocSkip\"></span></h1>\n",
    "<div class=\"toc\"><ul class=\"toc-item\"><li><span><a href=\"#Загружаем-данные\" data-toc-modified-id=\"Загружаем-данные-1\"><span class=\"toc-item-num\">1&nbsp;&nbsp;</span>Загружаем данные</a></span></li><li><span><a href=\"#func\" data-toc-modified-id=\"func-2\"><span class=\"toc-item-num\">2&nbsp;&nbsp;</span>func</a></span></li><li><span><a href=\"#features\" data-toc-modified-id=\"features-3\"><span class=\"toc-item-num\">3&nbsp;&nbsp;</span>features</a></span></li><li><span><a href=\"#fit\" data-toc-modified-id=\"fit-4\"><span class=\"toc-item-num\">4&nbsp;&nbsp;</span>fit</a></span></li><li><span><a href=\"#baseline-cv\" data-toc-modified-id=\"baseline-cv-5\"><span class=\"toc-item-num\">5&nbsp;&nbsp;</span>baseline cv</a></span></li><li><span><a href=\"#sklearn-api\" data-toc-modified-id=\"sklearn-api-6\"><span class=\"toc-item-num\">6&nbsp;&nbsp;</span><del>sklearn api</del></a></span></li><li><span><a href=\"#predict\" data-toc-modified-id=\"predict-7\"><span class=\"toc-item-num\">7&nbsp;&nbsp;</span>predict</a></span></li><li><span><a href=\"#save\" data-toc-modified-id=\"save-8\"><span class=\"toc-item-num\">8&nbsp;&nbsp;</span>save</a></span></li></ul></div>"
   ]
  },
  {
   "cell_type": "code",
   "execution_count": 18,
   "metadata": {
    "ExecuteTime": {
     "end_time": "2018-10-26T09:22:18.587580Z",
     "start_time": "2018-10-26T09:22:18.584577Z"
    }
   },
   "outputs": [],
   "source": [
    "import pandas as pd\n",
    "\n",
    "from xgboost import XGBRegressor\n",
    "import xgboost as xgb"
   ]
  },
  {
   "cell_type": "markdown",
   "metadata": {},
   "source": [
    "# Загружаем данные"
   ]
  },
  {
   "cell_type": "code",
   "execution_count": 176,
   "metadata": {
    "ExecuteTime": {
     "end_time": "2018-10-26T11:00:23.409812Z",
     "start_time": "2018-10-26T11:00:23.298473Z"
    }
   },
   "outputs": [],
   "source": [
    "train_pool = pd.read_csv('train.csv', encoding='utf-8').sort_values('query_id')\n",
    "test_pool = pd.read_csv('test.csv', encoding='utf-8').sort_values('query_id')"
   ]
  },
  {
   "cell_type": "markdown",
   "metadata": {},
   "source": [
    "# func"
   ]
  },
  {
   "cell_type": "markdown",
   "metadata": {},
   "source": [
    "Напишем функции, генерирующие простые признаки основанные на пересечении триграмм между запросом и названием организации"
   ]
  },
  {
   "cell_type": "code",
   "execution_count": 177,
   "metadata": {
    "ExecuteTime": {
     "end_time": "2018-10-26T11:00:23.806473Z",
     "start_time": "2018-10-26T11:00:23.801441Z"
    }
   },
   "outputs": [],
   "source": [
    "import metrics as m\n",
    "import numpy as np\n",
    "def ndcg(y_true, y_pred, groups):\n",
    "    return np.nanmean([m.ndcg_score(np.array(y_true)[np.array(groups) == g], \n",
    "                                 np.array(y_pred)[np.array(groups) == g]) for g in set(groups)])"
   ]
  },
  {
   "cell_type": "code",
   "execution_count": 178,
   "metadata": {
    "ExecuteTime": {
     "end_time": "2018-10-26T11:00:23.967665Z",
     "start_time": "2018-10-26T11:00:23.962648Z"
    }
   },
   "outputs": [],
   "source": [
    "def get_trigrams(string):\n",
    "    string = '^^' + string + '$$'\n",
    "    trigrams = set()\n",
    "    trigrams_count = 0\n",
    "    \n",
    "    for i in range(len(string) - 2):\n",
    "        trigrams.add(string[i:i+3])\n",
    "        trigrams_count += 1\n",
    "        \n",
    "    return trigrams, trigrams_count\n",
    "\n",
    "def common_trigrams_factors(query, org_name):\n",
    "    query_trigrams, query_trigrams_count = get_trigrams(query)\n",
    "    org_name_trigrams, org_name_trigrams_count = get_trigrams(org_name)\n",
    "\n",
    "    factors = [float(len(query_trigrams.intersection(org_name_trigrams)))]\n",
    "\n",
    "    factors.append(0. if query_trigrams_count == 0. else 0.1 + factors[0] / query_trigrams_count)\n",
    "    factors.append(0. if org_name_trigrams_count == 0. else 0.1 + factors[0] / org_name_trigrams_count)    \n",
    "    \n",
    "    return factors"
   ]
  },
  {
   "cell_type": "code",
   "execution_count": 179,
   "metadata": {
    "ExecuteTime": {
     "end_time": "2018-10-26T11:00:24.304289Z",
     "start_time": "2018-10-26T11:00:24.298274Z"
    }
   },
   "outputs": [],
   "source": [
    "def get_bigrams(string):\n",
    "    string = '^^' + string + '$$'\n",
    "    bigrams = set()\n",
    "    bigrams_count = 0\n",
    "    \n",
    "    for i in range(len(string) - 1):\n",
    "        bigrams.add(string[i:i+2])\n",
    "        bigrams_count += 1\n",
    "        \n",
    "    return bigrams, bigrams_count\n",
    "\n",
    "def common_bigrams_factors(query, org_name):\n",
    "    query_bigrams, query_bigrams_count = get_bigrams(query)\n",
    "    org_name_bigrams, org_name_bigrams_count = get_bigrams(org_name)\n",
    "\n",
    "    factors = [float(len(query_bigrams.intersection(org_name_bigrams)))]\n",
    "\n",
    "    factors.append(0. if query_bigrams_count == 0. else 0.1 + factors[0] / query_bigrams_count)\n",
    "    factors.append(0. if org_name_bigrams_count == 0. else 0.1 + factors[0] / org_name_bigrams_count)    \n",
    "    \n",
    "    return factors"
   ]
  },
  {
   "cell_type": "markdown",
   "metadata": {},
   "source": [
    "# features"
   ]
  },
  {
   "cell_type": "markdown",
   "metadata": {},
   "source": [
    "Посчитаем данные факторы для каждого файла"
   ]
  },
  {
   "cell_type": "code",
   "execution_count": 180,
   "metadata": {
    "ExecuteTime": {
     "end_time": "2018-10-26T11:00:25.114087Z",
     "start_time": "2018-10-26T11:00:25.093003Z"
    }
   },
   "outputs": [
    {
     "data": {
      "text/html": [
       "<div>\n",
       "<style scoped>\n",
       "    .dataframe tbody tr th:only-of-type {\n",
       "        vertical-align: middle;\n",
       "    }\n",
       "\n",
       "    .dataframe tbody tr th {\n",
       "        vertical-align: top;\n",
       "    }\n",
       "\n",
       "    .dataframe thead th {\n",
       "        text-align: right;\n",
       "    }\n",
       "</style>\n",
       "<table border=\"1\" class=\"dataframe\">\n",
       "  <thead>\n",
       "    <tr style=\"text-align: right;\">\n",
       "      <th></th>\n",
       "      <th>0</th>\n",
       "      <th>1</th>\n",
       "      <th>2</th>\n",
       "      <th>0</th>\n",
       "      <th>1</th>\n",
       "      <th>2</th>\n",
       "    </tr>\n",
       "  </thead>\n",
       "  <tbody>\n",
       "    <tr>\n",
       "      <th>0</th>\n",
       "      <td>17.0</td>\n",
       "      <td>0.323684</td>\n",
       "      <td>0.469565</td>\n",
       "      <td>9.0</td>\n",
       "      <td>0.220000</td>\n",
       "      <td>0.300000</td>\n",
       "    </tr>\n",
       "    <tr>\n",
       "      <th>19</th>\n",
       "      <td>14.0</td>\n",
       "      <td>0.284211</td>\n",
       "      <td>0.600000</td>\n",
       "      <td>7.0</td>\n",
       "      <td>0.193333</td>\n",
       "      <td>0.359259</td>\n",
       "    </tr>\n",
       "    <tr>\n",
       "      <th>18</th>\n",
       "      <td>10.0</td>\n",
       "      <td>0.231579</td>\n",
       "      <td>0.688235</td>\n",
       "      <td>5.0</td>\n",
       "      <td>0.166667</td>\n",
       "      <td>0.412500</td>\n",
       "    </tr>\n",
       "    <tr>\n",
       "      <th>17</th>\n",
       "      <td>20.0</td>\n",
       "      <td>0.363158</td>\n",
       "      <td>0.500000</td>\n",
       "      <td>12.0</td>\n",
       "      <td>0.260000</td>\n",
       "      <td>0.344898</td>\n",
       "    </tr>\n",
       "    <tr>\n",
       "      <th>15</th>\n",
       "      <td>19.0</td>\n",
       "      <td>0.350000</td>\n",
       "      <td>0.458491</td>\n",
       "      <td>12.0</td>\n",
       "      <td>0.260000</td>\n",
       "      <td>0.330769</td>\n",
       "    </tr>\n",
       "    <tr>\n",
       "      <th>14</th>\n",
       "      <td>20.0</td>\n",
       "      <td>0.363158</td>\n",
       "      <td>0.500000</td>\n",
       "      <td>14.0</td>\n",
       "      <td>0.286667</td>\n",
       "      <td>0.385714</td>\n",
       "    </tr>\n",
       "    <tr>\n",
       "      <th>13</th>\n",
       "      <td>26.0</td>\n",
       "      <td>0.442105</td>\n",
       "      <td>0.665217</td>\n",
       "      <td>18.0</td>\n",
       "      <td>0.340000</td>\n",
       "      <td>0.500000</td>\n",
       "    </tr>\n",
       "    <tr>\n",
       "      <th>12</th>\n",
       "      <td>11.0</td>\n",
       "      <td>0.244737</td>\n",
       "      <td>0.523077</td>\n",
       "      <td>4.0</td>\n",
       "      <td>0.153333</td>\n",
       "      <td>0.260000</td>\n",
       "    </tr>\n",
       "    <tr>\n",
       "      <th>11</th>\n",
       "      <td>21.0</td>\n",
       "      <td>0.376316</td>\n",
       "      <td>0.520000</td>\n",
       "      <td>12.0</td>\n",
       "      <td>0.260000</td>\n",
       "      <td>0.344898</td>\n",
       "    </tr>\n",
       "    <tr>\n",
       "      <th>10</th>\n",
       "      <td>8.0</td>\n",
       "      <td>0.205263</td>\n",
       "      <td>0.375862</td>\n",
       "      <td>4.0</td>\n",
       "      <td>0.153333</td>\n",
       "      <td>0.242857</td>\n",
       "    </tr>\n",
       "    <tr>\n",
       "      <th>16</th>\n",
       "      <td>9.0</td>\n",
       "      <td>0.218421</td>\n",
       "      <td>0.421429</td>\n",
       "      <td>4.0</td>\n",
       "      <td>0.153333</td>\n",
       "      <td>0.248148</td>\n",
       "    </tr>\n",
       "    <tr>\n",
       "      <th>8</th>\n",
       "      <td>21.0</td>\n",
       "      <td>0.376316</td>\n",
       "      <td>0.556522</td>\n",
       "      <td>13.0</td>\n",
       "      <td>0.273333</td>\n",
       "      <td>0.388889</td>\n",
       "    </tr>\n",
       "    <tr>\n",
       "      <th>7</th>\n",
       "      <td>22.0</td>\n",
       "      <td>0.389474</td>\n",
       "      <td>0.485965</td>\n",
       "      <td>13.0</td>\n",
       "      <td>0.273333</td>\n",
       "      <td>0.332143</td>\n",
       "    </tr>\n",
       "    <tr>\n",
       "      <th>6</th>\n",
       "      <td>24.0</td>\n",
       "      <td>0.415789</td>\n",
       "      <td>0.645455</td>\n",
       "      <td>17.0</td>\n",
       "      <td>0.326667</td>\n",
       "      <td>0.495349</td>\n",
       "    </tr>\n",
       "    <tr>\n",
       "      <th>5</th>\n",
       "      <td>21.0</td>\n",
       "      <td>0.376316</td>\n",
       "      <td>0.537500</td>\n",
       "      <td>13.0</td>\n",
       "      <td>0.273333</td>\n",
       "      <td>0.376596</td>\n",
       "    </tr>\n",
       "    <tr>\n",
       "      <th>4</th>\n",
       "      <td>9.0</td>\n",
       "      <td>0.218421</td>\n",
       "      <td>0.662500</td>\n",
       "      <td>3.0</td>\n",
       "      <td>0.140000</td>\n",
       "      <td>0.300000</td>\n",
       "    </tr>\n",
       "    <tr>\n",
       "      <th>3</th>\n",
       "      <td>10.0</td>\n",
       "      <td>0.231579</td>\n",
       "      <td>0.394118</td>\n",
       "      <td>4.0</td>\n",
       "      <td>0.153333</td>\n",
       "      <td>0.221212</td>\n",
       "    </tr>\n",
       "    <tr>\n",
       "      <th>2</th>\n",
       "      <td>10.0</td>\n",
       "      <td>0.231579</td>\n",
       "      <td>0.444828</td>\n",
       "      <td>4.0</td>\n",
       "      <td>0.153333</td>\n",
       "      <td>0.242857</td>\n",
       "    </tr>\n",
       "    <tr>\n",
       "      <th>1</th>\n",
       "      <td>21.0</td>\n",
       "      <td>0.376316</td>\n",
       "      <td>0.520000</td>\n",
       "      <td>12.0</td>\n",
       "      <td>0.260000</td>\n",
       "      <td>0.344898</td>\n",
       "    </tr>\n",
       "    <tr>\n",
       "      <th>9</th>\n",
       "      <td>7.0</td>\n",
       "      <td>0.192105</td>\n",
       "      <td>0.341379</td>\n",
       "      <td>0.0</td>\n",
       "      <td>0.100000</td>\n",
       "      <td>0.100000</td>\n",
       "    </tr>\n",
       "    <tr>\n",
       "      <th>36</th>\n",
       "      <td>2.0</td>\n",
       "      <td>0.385714</td>\n",
       "      <td>0.322222</td>\n",
       "      <td>0.0</td>\n",
       "      <td>0.100000</td>\n",
       "      <td>0.100000</td>\n",
       "    </tr>\n",
       "    <tr>\n",
       "      <th>37</th>\n",
       "      <td>2.0</td>\n",
       "      <td>0.385714</td>\n",
       "      <td>0.385714</td>\n",
       "      <td>0.0</td>\n",
       "      <td>0.100000</td>\n",
       "      <td>0.100000</td>\n",
       "    </tr>\n",
       "    <tr>\n",
       "      <th>38</th>\n",
       "      <td>2.0</td>\n",
       "      <td>0.385714</td>\n",
       "      <td>0.350000</td>\n",
       "      <td>0.0</td>\n",
       "      <td>0.100000</td>\n",
       "      <td>0.100000</td>\n",
       "    </tr>\n",
       "    <tr>\n",
       "      <th>39</th>\n",
       "      <td>2.0</td>\n",
       "      <td>0.385714</td>\n",
       "      <td>0.180000</td>\n",
       "      <td>0.0</td>\n",
       "      <td>0.100000</td>\n",
       "      <td>0.100000</td>\n",
       "    </tr>\n",
       "    <tr>\n",
       "      <th>40</th>\n",
       "      <td>2.0</td>\n",
       "      <td>0.385714</td>\n",
       "      <td>0.225000</td>\n",
       "      <td>0.0</td>\n",
       "      <td>0.100000</td>\n",
       "      <td>0.100000</td>\n",
       "    </tr>\n",
       "    <tr>\n",
       "      <th>41</th>\n",
       "      <td>3.0</td>\n",
       "      <td>0.528571</td>\n",
       "      <td>0.300000</td>\n",
       "      <td>0.0</td>\n",
       "      <td>0.100000</td>\n",
       "      <td>0.100000</td>\n",
       "    </tr>\n",
       "    <tr>\n",
       "      <th>45</th>\n",
       "      <td>3.0</td>\n",
       "      <td>0.528571</td>\n",
       "      <td>0.250000</td>\n",
       "      <td>0.0</td>\n",
       "      <td>0.100000</td>\n",
       "      <td>0.100000</td>\n",
       "    </tr>\n",
       "    <tr>\n",
       "      <th>43</th>\n",
       "      <td>3.0</td>\n",
       "      <td>0.528571</td>\n",
       "      <td>0.185714</td>\n",
       "      <td>0.0</td>\n",
       "      <td>0.100000</td>\n",
       "      <td>0.100000</td>\n",
       "    </tr>\n",
       "    <tr>\n",
       "      <th>44</th>\n",
       "      <td>3.0</td>\n",
       "      <td>0.528571</td>\n",
       "      <td>0.185714</td>\n",
       "      <td>0.0</td>\n",
       "      <td>0.100000</td>\n",
       "      <td>0.100000</td>\n",
       "    </tr>\n",
       "    <tr>\n",
       "      <th>46</th>\n",
       "      <td>2.0</td>\n",
       "      <td>0.385714</td>\n",
       "      <td>0.266667</td>\n",
       "      <td>0.0</td>\n",
       "      <td>0.100000</td>\n",
       "      <td>0.100000</td>\n",
       "    </tr>\n",
       "    <tr>\n",
       "      <th>...</th>\n",
       "      <td>...</td>\n",
       "      <td>...</td>\n",
       "      <td>...</td>\n",
       "      <td>...</td>\n",
       "      <td>...</td>\n",
       "      <td>...</td>\n",
       "    </tr>\n",
       "    <tr>\n",
       "      <th>29236</th>\n",
       "      <td>2.0</td>\n",
       "      <td>0.205263</td>\n",
       "      <td>0.266667</td>\n",
       "      <td>0.0</td>\n",
       "      <td>0.100000</td>\n",
       "      <td>0.100000</td>\n",
       "    </tr>\n",
       "    <tr>\n",
       "      <th>29235</th>\n",
       "      <td>12.0</td>\n",
       "      <td>0.731579</td>\n",
       "      <td>0.731579</td>\n",
       "      <td>11.0</td>\n",
       "      <td>0.711111</td>\n",
       "      <td>0.711111</td>\n",
       "    </tr>\n",
       "    <tr>\n",
       "      <th>29234</th>\n",
       "      <td>15.0</td>\n",
       "      <td>0.889474</td>\n",
       "      <td>0.889474</td>\n",
       "      <td>15.0</td>\n",
       "      <td>0.933333</td>\n",
       "      <td>0.933333</td>\n",
       "    </tr>\n",
       "    <tr>\n",
       "      <th>29240</th>\n",
       "      <td>2.0</td>\n",
       "      <td>0.205263</td>\n",
       "      <td>0.233333</td>\n",
       "      <td>0.0</td>\n",
       "      <td>0.100000</td>\n",
       "      <td>0.100000</td>\n",
       "    </tr>\n",
       "    <tr>\n",
       "      <th>29259</th>\n",
       "      <td>23.0</td>\n",
       "      <td>0.611111</td>\n",
       "      <td>0.921429</td>\n",
       "      <td>22.0</td>\n",
       "      <td>0.600000</td>\n",
       "      <td>0.914815</td>\n",
       "    </tr>\n",
       "    <tr>\n",
       "      <th>29258</th>\n",
       "      <td>23.0</td>\n",
       "      <td>0.611111</td>\n",
       "      <td>0.921429</td>\n",
       "      <td>22.0</td>\n",
       "      <td>0.600000</td>\n",
       "      <td>0.914815</td>\n",
       "    </tr>\n",
       "    <tr>\n",
       "      <th>29256</th>\n",
       "      <td>13.0</td>\n",
       "      <td>0.388889</td>\n",
       "      <td>0.912500</td>\n",
       "      <td>10.0</td>\n",
       "      <td>0.327273</td>\n",
       "      <td>0.766667</td>\n",
       "    </tr>\n",
       "    <tr>\n",
       "      <th>29255</th>\n",
       "      <td>23.0</td>\n",
       "      <td>0.611111</td>\n",
       "      <td>0.406667</td>\n",
       "      <td>17.0</td>\n",
       "      <td>0.486364</td>\n",
       "      <td>0.329730</td>\n",
       "    </tr>\n",
       "    <tr>\n",
       "      <th>29254</th>\n",
       "      <td>18.0</td>\n",
       "      <td>0.500000</td>\n",
       "      <td>0.295652</td>\n",
       "      <td>13.0</td>\n",
       "      <td>0.395455</td>\n",
       "      <td>0.242857</td>\n",
       "    </tr>\n",
       "    <tr>\n",
       "      <th>29257</th>\n",
       "      <td>12.0</td>\n",
       "      <td>0.366667</td>\n",
       "      <td>0.340000</td>\n",
       "      <td>5.0</td>\n",
       "      <td>0.213636</td>\n",
       "      <td>0.202041</td>\n",
       "    </tr>\n",
       "    <tr>\n",
       "      <th>29252</th>\n",
       "      <td>22.0</td>\n",
       "      <td>0.588889</td>\n",
       "      <td>0.397297</td>\n",
       "      <td>16.0</td>\n",
       "      <td>0.463636</td>\n",
       "      <td>0.319178</td>\n",
       "    </tr>\n",
       "    <tr>\n",
       "      <th>29251</th>\n",
       "      <td>22.0</td>\n",
       "      <td>0.588889</td>\n",
       "      <td>0.678947</td>\n",
       "      <td>19.0</td>\n",
       "      <td>0.531818</td>\n",
       "      <td>0.613514</td>\n",
       "    </tr>\n",
       "    <tr>\n",
       "      <th>29250</th>\n",
       "      <td>12.0</td>\n",
       "      <td>0.366667</td>\n",
       "      <td>0.731579</td>\n",
       "      <td>9.0</td>\n",
       "      <td>0.304545</td>\n",
       "      <td>0.600000</td>\n",
       "    </tr>\n",
       "    <tr>\n",
       "      <th>29249</th>\n",
       "      <td>23.0</td>\n",
       "      <td>0.611111</td>\n",
       "      <td>0.560000</td>\n",
       "      <td>21.0</td>\n",
       "      <td>0.577273</td>\n",
       "      <td>0.528571</td>\n",
       "    </tr>\n",
       "    <tr>\n",
       "      <th>29248</th>\n",
       "      <td>25.0</td>\n",
       "      <td>0.655556</td>\n",
       "      <td>0.631915</td>\n",
       "      <td>22.0</td>\n",
       "      <td>0.600000</td>\n",
       "      <td>0.578261</td>\n",
       "    </tr>\n",
       "    <tr>\n",
       "      <th>29253</th>\n",
       "      <td>22.0</td>\n",
       "      <td>0.588889</td>\n",
       "      <td>0.423529</td>\n",
       "      <td>15.0</td>\n",
       "      <td>0.440909</td>\n",
       "      <td>0.323881</td>\n",
       "    </tr>\n",
       "    <tr>\n",
       "      <th>29271</th>\n",
       "      <td>17.0</td>\n",
       "      <td>0.839130</td>\n",
       "      <td>0.729630</td>\n",
       "      <td>13.0</td>\n",
       "      <td>0.690909</td>\n",
       "      <td>0.600000</td>\n",
       "    </tr>\n",
       "    <tr>\n",
       "      <th>29270</th>\n",
       "      <td>18.0</td>\n",
       "      <td>0.882609</td>\n",
       "      <td>0.475000</td>\n",
       "      <td>15.0</td>\n",
       "      <td>0.781818</td>\n",
       "      <td>0.419149</td>\n",
       "    </tr>\n",
       "    <tr>\n",
       "      <th>29269</th>\n",
       "      <td>19.0</td>\n",
       "      <td>0.926087</td>\n",
       "      <td>0.387879</td>\n",
       "      <td>16.0</td>\n",
       "      <td>0.827273</td>\n",
       "      <td>0.346154</td>\n",
       "    </tr>\n",
       "    <tr>\n",
       "      <th>29268</th>\n",
       "      <td>19.0</td>\n",
       "      <td>0.926087</td>\n",
       "      <td>0.600000</td>\n",
       "      <td>16.0</td>\n",
       "      <td>0.827273</td>\n",
       "      <td>0.532432</td>\n",
       "    </tr>\n",
       "    <tr>\n",
       "      <th>29267</th>\n",
       "      <td>19.0</td>\n",
       "      <td>0.926087</td>\n",
       "      <td>0.563415</td>\n",
       "      <td>16.0</td>\n",
       "      <td>0.827273</td>\n",
       "      <td>0.500000</td>\n",
       "    </tr>\n",
       "    <tr>\n",
       "      <th>29266</th>\n",
       "      <td>19.0</td>\n",
       "      <td>0.926087</td>\n",
       "      <td>0.675758</td>\n",
       "      <td>16.0</td>\n",
       "      <td>0.827273</td>\n",
       "      <td>0.600000</td>\n",
       "    </tr>\n",
       "    <tr>\n",
       "      <th>29263</th>\n",
       "      <td>19.0</td>\n",
       "      <td>0.926087</td>\n",
       "      <td>0.363889</td>\n",
       "      <td>16.0</td>\n",
       "      <td>0.827273</td>\n",
       "      <td>0.325352</td>\n",
       "    </tr>\n",
       "    <tr>\n",
       "      <th>29264</th>\n",
       "      <td>20.0</td>\n",
       "      <td>0.969565</td>\n",
       "      <td>1.052381</td>\n",
       "      <td>18.0</td>\n",
       "      <td>0.918182</td>\n",
       "      <td>1.000000</td>\n",
       "    </tr>\n",
       "    <tr>\n",
       "      <th>29262</th>\n",
       "      <td>4.0</td>\n",
       "      <td>0.273913</td>\n",
       "      <td>0.166667</td>\n",
       "      <td>0.0</td>\n",
       "      <td>0.100000</td>\n",
       "      <td>0.100000</td>\n",
       "    </tr>\n",
       "    <tr>\n",
       "      <th>29261</th>\n",
       "      <td>2.0</td>\n",
       "      <td>0.186957</td>\n",
       "      <td>0.168966</td>\n",
       "      <td>0.0</td>\n",
       "      <td>0.100000</td>\n",
       "      <td>0.100000</td>\n",
       "    </tr>\n",
       "    <tr>\n",
       "      <th>29260</th>\n",
       "      <td>2.0</td>\n",
       "      <td>0.186957</td>\n",
       "      <td>0.168966</td>\n",
       "      <td>0.0</td>\n",
       "      <td>0.100000</td>\n",
       "      <td>0.100000</td>\n",
       "    </tr>\n",
       "    <tr>\n",
       "      <th>29272</th>\n",
       "      <td>19.0</td>\n",
       "      <td>0.926087</td>\n",
       "      <td>0.600000</td>\n",
       "      <td>16.0</td>\n",
       "      <td>0.827273</td>\n",
       "      <td>0.532432</td>\n",
       "    </tr>\n",
       "    <tr>\n",
       "      <th>29265</th>\n",
       "      <td>19.0</td>\n",
       "      <td>0.926087</td>\n",
       "      <td>0.575000</td>\n",
       "      <td>17.0</td>\n",
       "      <td>0.872727</td>\n",
       "      <td>0.535897</td>\n",
       "    </tr>\n",
       "    <tr>\n",
       "      <th>29273</th>\n",
       "      <td>20.0</td>\n",
       "      <td>0.969565</td>\n",
       "      <td>1.052381</td>\n",
       "      <td>18.0</td>\n",
       "      <td>0.918182</td>\n",
       "      <td>1.000000</td>\n",
       "    </tr>\n",
       "  </tbody>\n",
       "</table>\n",
       "<p>29274 rows × 6 columns</p>\n",
       "</div>"
      ],
      "text/plain": [
       "          0         1         2     0         1         2\n",
       "0      17.0  0.323684  0.469565   9.0  0.220000  0.300000\n",
       "19     14.0  0.284211  0.600000   7.0  0.193333  0.359259\n",
       "18     10.0  0.231579  0.688235   5.0  0.166667  0.412500\n",
       "17     20.0  0.363158  0.500000  12.0  0.260000  0.344898\n",
       "15     19.0  0.350000  0.458491  12.0  0.260000  0.330769\n",
       "14     20.0  0.363158  0.500000  14.0  0.286667  0.385714\n",
       "13     26.0  0.442105  0.665217  18.0  0.340000  0.500000\n",
       "12     11.0  0.244737  0.523077   4.0  0.153333  0.260000\n",
       "11     21.0  0.376316  0.520000  12.0  0.260000  0.344898\n",
       "10      8.0  0.205263  0.375862   4.0  0.153333  0.242857\n",
       "16      9.0  0.218421  0.421429   4.0  0.153333  0.248148\n",
       "8      21.0  0.376316  0.556522  13.0  0.273333  0.388889\n",
       "7      22.0  0.389474  0.485965  13.0  0.273333  0.332143\n",
       "6      24.0  0.415789  0.645455  17.0  0.326667  0.495349\n",
       "5      21.0  0.376316  0.537500  13.0  0.273333  0.376596\n",
       "4       9.0  0.218421  0.662500   3.0  0.140000  0.300000\n",
       "3      10.0  0.231579  0.394118   4.0  0.153333  0.221212\n",
       "2      10.0  0.231579  0.444828   4.0  0.153333  0.242857\n",
       "1      21.0  0.376316  0.520000  12.0  0.260000  0.344898\n",
       "9       7.0  0.192105  0.341379   0.0  0.100000  0.100000\n",
       "36      2.0  0.385714  0.322222   0.0  0.100000  0.100000\n",
       "37      2.0  0.385714  0.385714   0.0  0.100000  0.100000\n",
       "38      2.0  0.385714  0.350000   0.0  0.100000  0.100000\n",
       "39      2.0  0.385714  0.180000   0.0  0.100000  0.100000\n",
       "40      2.0  0.385714  0.225000   0.0  0.100000  0.100000\n",
       "41      3.0  0.528571  0.300000   0.0  0.100000  0.100000\n",
       "45      3.0  0.528571  0.250000   0.0  0.100000  0.100000\n",
       "43      3.0  0.528571  0.185714   0.0  0.100000  0.100000\n",
       "44      3.0  0.528571  0.185714   0.0  0.100000  0.100000\n",
       "46      2.0  0.385714  0.266667   0.0  0.100000  0.100000\n",
       "...     ...       ...       ...   ...       ...       ...\n",
       "29236   2.0  0.205263  0.266667   0.0  0.100000  0.100000\n",
       "29235  12.0  0.731579  0.731579  11.0  0.711111  0.711111\n",
       "29234  15.0  0.889474  0.889474  15.0  0.933333  0.933333\n",
       "29240   2.0  0.205263  0.233333   0.0  0.100000  0.100000\n",
       "29259  23.0  0.611111  0.921429  22.0  0.600000  0.914815\n",
       "29258  23.0  0.611111  0.921429  22.0  0.600000  0.914815\n",
       "29256  13.0  0.388889  0.912500  10.0  0.327273  0.766667\n",
       "29255  23.0  0.611111  0.406667  17.0  0.486364  0.329730\n",
       "29254  18.0  0.500000  0.295652  13.0  0.395455  0.242857\n",
       "29257  12.0  0.366667  0.340000   5.0  0.213636  0.202041\n",
       "29252  22.0  0.588889  0.397297  16.0  0.463636  0.319178\n",
       "29251  22.0  0.588889  0.678947  19.0  0.531818  0.613514\n",
       "29250  12.0  0.366667  0.731579   9.0  0.304545  0.600000\n",
       "29249  23.0  0.611111  0.560000  21.0  0.577273  0.528571\n",
       "29248  25.0  0.655556  0.631915  22.0  0.600000  0.578261\n",
       "29253  22.0  0.588889  0.423529  15.0  0.440909  0.323881\n",
       "29271  17.0  0.839130  0.729630  13.0  0.690909  0.600000\n",
       "29270  18.0  0.882609  0.475000  15.0  0.781818  0.419149\n",
       "29269  19.0  0.926087  0.387879  16.0  0.827273  0.346154\n",
       "29268  19.0  0.926087  0.600000  16.0  0.827273  0.532432\n",
       "29267  19.0  0.926087  0.563415  16.0  0.827273  0.500000\n",
       "29266  19.0  0.926087  0.675758  16.0  0.827273  0.600000\n",
       "29263  19.0  0.926087  0.363889  16.0  0.827273  0.325352\n",
       "29264  20.0  0.969565  1.052381  18.0  0.918182  1.000000\n",
       "29262   4.0  0.273913  0.166667   0.0  0.100000  0.100000\n",
       "29261   2.0  0.186957  0.168966   0.0  0.100000  0.100000\n",
       "29260   2.0  0.186957  0.168966   0.0  0.100000  0.100000\n",
       "29272  19.0  0.926087  0.600000  16.0  0.827273  0.532432\n",
       "29265  19.0  0.926087  0.575000  17.0  0.872727  0.535897\n",
       "29273  20.0  0.969565  1.052381  18.0  0.918182  1.000000\n",
       "\n",
       "[29274 rows x 6 columns]"
      ]
     },
     "execution_count": 180,
     "metadata": {},
     "output_type": "execute_result"
    }
   ],
   "source": [
    "train_factors"
   ]
  },
  {
   "cell_type": "code",
   "execution_count": 181,
   "metadata": {
    "ExecuteTime": {
     "end_time": "2018-10-26T11:00:29.309607Z",
     "start_time": "2018-10-26T11:00:29.298607Z"
    }
   },
   "outputs": [],
   "source": [
    "train_group_sizes = train_pool.query_id.value_counts()\n",
    "\n",
    "train_pool = train_pool.join(train_group_sizes.to_frame('group_sizes'), on='query_id')"
   ]
  },
  {
   "cell_type": "code",
   "execution_count": 182,
   "metadata": {
    "ExecuteTime": {
     "end_time": "2018-10-26T11:00:40.746905Z",
     "start_time": "2018-10-26T11:00:40.738882Z"
    }
   },
   "outputs": [],
   "source": [
    "test_group_sizes = test_pool.query_id.value_counts()\n",
    "\n",
    "test_pool = test_pool.join(test_group_sizes.to_frame('group_sizes'), on='query_id')"
   ]
  },
  {
   "cell_type": "code",
   "execution_count": 183,
   "metadata": {
    "ExecuteTime": {
     "end_time": "2018-10-26T11:00:57.491702Z",
     "start_time": "2018-10-26T11:00:41.323157Z"
    }
   },
   "outputs": [],
   "source": [
    "def calc_trigram_factors(row):\n",
    "    return pd.Series(common_trigrams_factors(row.query, row.org_name))\n",
    "def calc_bigram_factors(row):\n",
    "    return pd.Series(common_bigrams_factors(row.query, row.org_name))\n",
    "    \n",
    "train_factors = pd.concat((train_pool.apply(calc_bigram_factors, axis=1), \n",
    "                           train_pool.apply(calc_trigram_factors, axis=1)), axis=1)\n",
    "test_factors = pd.concat((test_pool.apply(calc_bigram_factors, axis=1), \n",
    "                           test_pool.apply(calc_trigram_factors, axis=1)), axis=1)"
   ]
  },
  {
   "cell_type": "markdown",
   "metadata": {},
   "source": [
    "# fit"
   ]
  },
  {
   "cell_type": "markdown",
   "metadata": {},
   "source": [
    "Обучаем модель"
   ]
  },
  {
   "cell_type": "code",
   "execution_count": 184,
   "metadata": {
    "ExecuteTime": {
     "end_time": "2018-10-26T11:00:58.143082Z",
     "start_time": "2018-10-26T11:00:57.494211Z"
    }
   },
   "outputs": [
    {
     "data": {
      "text/plain": [
       "XGBRegressor(base_score=0.5, booster='gbtree', colsample_bylevel=1,\n",
       "       colsample_bytree=1, gamma=0, learning_rate=0.1, max_delta_step=0,\n",
       "       max_depth=3, min_child_weight=1, missing=None, n_estimators=100,\n",
       "       n_jobs=1, nthread=None, objective='reg:linear', random_state=0,\n",
       "       reg_alpha=0, reg_lambda=1, scale_pos_weight=1, seed=None,\n",
       "       silent=True, subsample=1)"
      ]
     },
     "execution_count": 184,
     "metadata": {},
     "output_type": "execute_result"
    }
   ],
   "source": [
    "clf = XGBRegressor(n_estimators=100)\n",
    "clf.fit(train_factors.values, train_pool[['relevance']].values)"
   ]
  },
  {
   "cell_type": "markdown",
   "metadata": {},
   "source": [
    "# baseline cv"
   ]
  },
  {
   "cell_type": "code",
   "execution_count": 157,
   "metadata": {
    "ExecuteTime": {
     "end_time": "2018-10-26T10:49:32.129311Z",
     "start_time": "2018-10-26T10:49:32.126304Z"
    }
   },
   "outputs": [],
   "source": [
    "from sklearn.model_selection import cross_val_predict, GroupKFold, cross_val_score"
   ]
  },
  {
   "cell_type": "code",
   "execution_count": 158,
   "metadata": {
    "ExecuteTime": {
     "end_time": "2018-10-26T10:49:35.022979Z",
     "start_time": "2018-10-26T10:49:32.131818Z"
    }
   },
   "outputs": [
    {
     "data": {
      "text/plain": [
       "0.7112039519725594"
      ]
     },
     "execution_count": 158,
     "metadata": {},
     "output_type": "execute_result"
    }
   ],
   "source": [
    "clf = XGBRegressor(n_estimators=100)\n",
    "baseline_pred = cross_val_predict(\n",
    "    clf,\n",
    "    train_factors.values,\n",
    "    train_pool[['relevance']].values,\n",
    "    groups=train_pool.query_id.values,\n",
    "    cv=5)\n",
    "ndcg(train_pool.relevance.values, baseline_pred, train_pool.query_id.values)"
   ]
  },
  {
   "cell_type": "code",
   "execution_count": 123,
   "metadata": {
    "ExecuteTime": {
     "end_time": "2018-10-26T10:26:29.199233Z",
     "start_time": "2018-10-26T10:26:28.776121Z"
    }
   },
   "outputs": [
    {
     "name": "stderr",
     "output_type": "stream",
     "text": [
      "D:\\Courses\\shad2018\\ML\\competition2\\metrics.py:147: RuntimeWarning: invalid value encountered in double_scalars\n",
      "  return actual / best\n"
     ]
    },
    {
     "data": {
      "text/plain": [
       "4.6456152873866445"
      ]
     },
     "execution_count": 123,
     "metadata": {},
     "output_type": "execute_result"
    }
   ],
   "source": [
    "from sklearn.linear_model import LinearRegression\n",
    "clf = LinearRegression()\n",
    "lr_pred = cross_val_predict(\n",
    "    clf,\n",
    "    X=train_factors.values,\n",
    "    y=train_pool[['relevance']].values,\n",
    "    groups=train_pool.query_id.values,\n",
    "    cv=5)\n",
    "ndcg(train_pool.relevance.values, lr_pred, train_pool.query_id.values)"
   ]
  },
  {
   "cell_type": "code",
   "execution_count": 124,
   "metadata": {
    "ExecuteTime": {
     "end_time": "2018-10-26T10:27:01.813353Z",
     "start_time": "2018-10-26T10:26:29.952430Z"
    }
   },
   "outputs": [
    {
     "name": "stderr",
     "output_type": "stream",
     "text": [
      "c:\\users\\nadzeya_salahub\\appdata\\local\\continuum\\anaconda3\\envs\\py36\\lib\\site-packages\\sklearn\\utils\\validation.py:752: DataConversionWarning: A column-vector y was passed when a 1d array was expected. Please change the shape of y to (n_samples, ), for example using ravel().\n",
      "  y = column_or_1d(y, warn=True)\n",
      "c:\\users\\nadzeya_salahub\\appdata\\local\\continuum\\anaconda3\\envs\\py36\\lib\\site-packages\\sklearn\\svm\\base.py:196: FutureWarning: The default value of gamma will change from 'auto' to 'scale' in version 0.22 to account better for unscaled features. Set gamma explicitly to 'auto' or 'scale' to avoid this warning.\n",
      "  \"avoid this warning.\", FutureWarning)\n",
      "c:\\users\\nadzeya_salahub\\appdata\\local\\continuum\\anaconda3\\envs\\py36\\lib\\site-packages\\sklearn\\utils\\validation.py:752: DataConversionWarning: A column-vector y was passed when a 1d array was expected. Please change the shape of y to (n_samples, ), for example using ravel().\n",
      "  y = column_or_1d(y, warn=True)\n",
      "c:\\users\\nadzeya_salahub\\appdata\\local\\continuum\\anaconda3\\envs\\py36\\lib\\site-packages\\sklearn\\svm\\base.py:196: FutureWarning: The default value of gamma will change from 'auto' to 'scale' in version 0.22 to account better for unscaled features. Set gamma explicitly to 'auto' or 'scale' to avoid this warning.\n",
      "  \"avoid this warning.\", FutureWarning)\n",
      "c:\\users\\nadzeya_salahub\\appdata\\local\\continuum\\anaconda3\\envs\\py36\\lib\\site-packages\\sklearn\\utils\\validation.py:752: DataConversionWarning: A column-vector y was passed when a 1d array was expected. Please change the shape of y to (n_samples, ), for example using ravel().\n",
      "  y = column_or_1d(y, warn=True)\n",
      "c:\\users\\nadzeya_salahub\\appdata\\local\\continuum\\anaconda3\\envs\\py36\\lib\\site-packages\\sklearn\\svm\\base.py:196: FutureWarning: The default value of gamma will change from 'auto' to 'scale' in version 0.22 to account better for unscaled features. Set gamma explicitly to 'auto' or 'scale' to avoid this warning.\n",
      "  \"avoid this warning.\", FutureWarning)\n",
      "c:\\users\\nadzeya_salahub\\appdata\\local\\continuum\\anaconda3\\envs\\py36\\lib\\site-packages\\sklearn\\utils\\validation.py:752: DataConversionWarning: A column-vector y was passed when a 1d array was expected. Please change the shape of y to (n_samples, ), for example using ravel().\n",
      "  y = column_or_1d(y, warn=True)\n",
      "c:\\users\\nadzeya_salahub\\appdata\\local\\continuum\\anaconda3\\envs\\py36\\lib\\site-packages\\sklearn\\svm\\base.py:196: FutureWarning: The default value of gamma will change from 'auto' to 'scale' in version 0.22 to account better for unscaled features. Set gamma explicitly to 'auto' or 'scale' to avoid this warning.\n",
      "  \"avoid this warning.\", FutureWarning)\n",
      "c:\\users\\nadzeya_salahub\\appdata\\local\\continuum\\anaconda3\\envs\\py36\\lib\\site-packages\\sklearn\\utils\\validation.py:752: DataConversionWarning: A column-vector y was passed when a 1d array was expected. Please change the shape of y to (n_samples, ), for example using ravel().\n",
      "  y = column_or_1d(y, warn=True)\n",
      "c:\\users\\nadzeya_salahub\\appdata\\local\\continuum\\anaconda3\\envs\\py36\\lib\\site-packages\\sklearn\\svm\\base.py:196: FutureWarning: The default value of gamma will change from 'auto' to 'scale' in version 0.22 to account better for unscaled features. Set gamma explicitly to 'auto' or 'scale' to avoid this warning.\n",
      "  \"avoid this warning.\", FutureWarning)\n",
      "D:\\Courses\\shad2018\\ML\\competition2\\metrics.py:147: RuntimeWarning: invalid value encountered in double_scalars\n",
      "  return actual / best\n"
     ]
    },
    {
     "data": {
      "text/plain": [
       "0.6761102646955143"
      ]
     },
     "execution_count": 124,
     "metadata": {},
     "output_type": "execute_result"
    }
   ],
   "source": [
    "from sklearn.svm import SVR\n",
    "clf = SVR()\n",
    "svr_pred = cross_val_predict(\n",
    "    clf,\n",
    "    X=train_factors.values,\n",
    "    y=train_pool[['relevance']].values,\n",
    "    groups=train_pool.query_id.values,\n",
    "    cv=5)\n",
    "ndcg(train_pool.relevance.values, svr_pred, train_pool.query_id.values)"
   ]
  },
  {
   "cell_type": "markdown",
   "metadata": {},
   "source": [
    "# ~~sklearn api~~"
   ]
  },
  {
   "cell_type": "code",
   "execution_count": 197,
   "metadata": {
    "ExecuteTime": {
     "end_time": "2018-10-26T11:09:12.102963Z",
     "start_time": "2018-10-26T11:09:12.099959Z"
    }
   },
   "outputs": [],
   "source": [
    "kf = GroupKFold(4)"
   ]
  },
  {
   "cell_type": "code",
   "execution_count": 281,
   "metadata": {
    "ExecuteTime": {
     "end_time": "2018-10-26T11:26:57.153366Z",
     "start_time": "2018-10-26T11:26:57.147357Z"
    }
   },
   "outputs": [],
   "source": [
    "from sklearn.base import clone\n",
    "\n",
    "def cross_val_predict_custom(train_pool=train_pool, train_factors=train_factors, cv_n=5, \n",
    "                             params={'objective': 'rank:pairwise', 'silent': True}):\n",
    "    kf = GroupKFold(cv_n)\n",
    "    cv_preds = np.zeros(train_pool.shape[0])\n",
    "    for tr_i, te_i in kf.split(train_factors.values, train_pool.relevance.values, train_pool.query_id.values):\n",
    "        print(tr_i)\n",
    "        tr_i = sorted(tr_i)\n",
    "        te_i = sorted(te_i)\n",
    "        \n",
    "        train_queries = train_pool.query_id.iloc[tr_i].drop_duplicates().values\n",
    "        test_queries = train_pool.query_id.iloc[te_i].drop_duplicates().values\n",
    "        \n",
    "        train_dmatrix = xgb.DMatrix(train_factors.values[tr_i], train_pool.relevance.values[tr_i])\n",
    "        train_dmatrix.set_group(train_group_sizes.loc[train_queries].values)\n",
    "\n",
    "        test_dmatrix = xgb.DMatrix(train_factors.values[te_i])\n",
    "        test_dmatrix.set_group(train_group_sizes.loc[test_queries].values)\n",
    "        \n",
    "        regr = xgb.train(params, train_dmatrix, 50)\n",
    "        cv_preds[te_i] = regr.predict(test_dmatrix)\n",
    "    return cv_preds, params"
   ]
  },
  {
   "cell_type": "code",
   "execution_count": 282,
   "metadata": {
    "ExecuteTime": {
     "end_time": "2018-10-26T11:26:59.001934Z",
     "start_time": "2018-10-26T11:26:57.337979Z"
    }
   },
   "outputs": [
    {
     "name": "stdout",
     "output_type": "stream",
     "text": [
      "[    0     1     2 ... 29245 29246 29247]\n",
      "[    0     1     2 ... 29271 29272 29273]\n",
      "[   20    21    22 ... 29271 29272 29273]\n",
      "[    0     1     2 ... 29271 29272 29273]\n",
      "[    0     1     2 ... 29271 29272 29273]\n"
     ]
    }
   ],
   "source": [
    "cv_p, params = cross_val_predict_custom(params={\n",
    "    'objective': 'rank:pairwise', \n",
    "    'silent': True,\n",
    "    'max_depth': 3\n",
    "})"
   ]
  },
  {
   "cell_type": "code",
   "execution_count": 283,
   "metadata": {
    "ExecuteTime": {
     "end_time": "2018-10-26T11:26:59.288470Z",
     "start_time": "2018-10-26T11:26:59.003941Z"
    },
    "scrolled": true
   },
   "outputs": [
    {
     "name": "stderr",
     "output_type": "stream",
     "text": [
      "D:\\Courses\\shad2018\\ML\\competition2\\metrics.py:147: RuntimeWarning: invalid value encountered in double_scalars\n",
      "  return actual / best\n"
     ]
    },
    {
     "data": {
      "text/plain": [
       "0.74678576256303"
      ]
     },
     "execution_count": 283,
     "metadata": {},
     "output_type": "execute_result"
    }
   ],
   "source": [
    "ndcg(train_pool.relevance.values, cv_p, train_pool.query_id.values)"
   ]
  },
  {
   "cell_type": "markdown",
   "metadata": {},
   "source": [
    "# predict"
   ]
  },
  {
   "cell_type": "code",
   "execution_count": 284,
   "metadata": {
    "ExecuteTime": {
     "end_time": "2018-10-26T11:27:03.710615Z",
     "start_time": "2018-10-26T11:27:03.692569Z"
    }
   },
   "outputs": [],
   "source": [
    "train_dmatrix = xgb.DMatrix(train_factors.values, train_pool.relevance)\n",
    "train_dmatrix.set_group(train_group_sizes.values)"
   ]
  },
  {
   "cell_type": "code",
   "execution_count": 285,
   "metadata": {
    "ExecuteTime": {
     "end_time": "2018-10-26T11:27:04.289282Z",
     "start_time": "2018-10-26T11:27:04.283252Z"
    }
   },
   "outputs": [],
   "source": [
    "test_dmatrix = xgb.DMatrix(test_factors.values)\n",
    "test_dmatrix.set_group(test_group_sizes.values)"
   ]
  },
  {
   "cell_type": "code",
   "execution_count": 286,
   "metadata": {
    "ExecuteTime": {
     "end_time": "2018-10-26T11:27:16.658860Z",
     "start_time": "2018-10-26T11:27:16.259744Z"
    }
   },
   "outputs": [],
   "source": [
    "clf = xgb.train(params, train_dmatrix, 50)\n",
    "predictions = clf.predict(test_dmatrix)\n",
    "test_pool['relevance'] = predictions"
   ]
  },
  {
   "cell_type": "markdown",
   "metadata": {},
   "source": [
    "# save"
   ]
  },
  {
   "cell_type": "markdown",
   "metadata": {},
   "source": [
    "Сортируем организации по предсказанной релевантности для каждой организации и записываем их в файл"
   ]
  },
  {
   "cell_type": "code",
   "execution_count": 287,
   "metadata": {
    "ExecuteTime": {
     "end_time": "2018-10-26T11:27:18.024376Z",
     "start_time": "2018-10-26T11:27:17.963187Z"
    }
   },
   "outputs": [],
   "source": [
    "test_pool.sort_values(['query_id', 'relevance'], ascending=[True, False])[['query_id', 'org_id']].to_csv('submission1.csv', index=None)"
   ]
  },
  {
   "cell_type": "code",
   "execution_count": 290,
   "metadata": {
    "ExecuteTime": {
     "end_time": "2018-10-26T11:30:43.567112Z",
     "start_time": "2018-10-26T11:30:43.563298Z"
    }
   },
   "outputs": [
    {
     "data": {
      "text/plain": [
       "{'objective': 'rank:pairwise', 'silent': True, 'max_depth': 3}"
      ]
     },
     "execution_count": 290,
     "metadata": {},
     "output_type": "execute_result"
    }
   ],
   "source": [
    "params"
   ]
  }
 ],
 "metadata": {
  "kernelspec": {
   "display_name": "Python 3",
   "language": "python",
   "name": "python3"
  },
  "language_info": {
   "codemirror_mode": {
    "name": "ipython",
    "version": 3
   },
   "file_extension": ".py",
   "mimetype": "text/x-python",
   "name": "python",
   "nbconvert_exporter": "python",
   "pygments_lexer": "ipython3",
   "version": "3.6.6"
  },
  "toc": {
   "base_numbering": 1,
   "nav_menu": {},
   "number_sections": true,
   "sideBar": true,
   "skip_h1_title": false,
   "title_cell": "Table of Contents",
   "title_sidebar": "Contents",
   "toc_cell": true,
   "toc_position": {},
   "toc_section_display": true,
   "toc_window_display": true
  }
 },
 "nbformat": 4,
 "nbformat_minor": 2
}
