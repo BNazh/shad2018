{
 "cells": [
  {
   "cell_type": "markdown",
   "metadata": {
    "toc": true
   },
   "source": [
    "<h1>Table of Contents<span class=\"tocSkip\"></span></h1>\n",
    "<div class=\"toc\"><ul class=\"toc-item\"><li><span><a href=\"#Загружаем-данные\" data-toc-modified-id=\"Загружаем-данные-1\"><span class=\"toc-item-num\">1&nbsp;&nbsp;</span>Загружаем данные</a></span></li><li><span><a href=\"#func\" data-toc-modified-id=\"func-2\"><span class=\"toc-item-num\">2&nbsp;&nbsp;</span>func</a></span></li><li><span><a href=\"#features\" data-toc-modified-id=\"features-3\"><span class=\"toc-item-num\">3&nbsp;&nbsp;</span>features</a></span></li><li><span><a href=\"#fit\" data-toc-modified-id=\"fit-4\"><span class=\"toc-item-num\">4&nbsp;&nbsp;</span>fit</a></span></li><li><span><a href=\"#baseline-cv\" data-toc-modified-id=\"baseline-cv-5\"><span class=\"toc-item-num\">5&nbsp;&nbsp;</span>baseline cv</a></span></li><li><span><a href=\"#sklearn-api\" data-toc-modified-id=\"sklearn-api-6\"><span class=\"toc-item-num\">6&nbsp;&nbsp;</span><del>sklearn api</del></a></span></li><li><span><a href=\"#predict\" data-toc-modified-id=\"predict-7\"><span class=\"toc-item-num\">7&nbsp;&nbsp;</span>predict</a></span></li><li><span><a href=\"#save\" data-toc-modified-id=\"save-8\"><span class=\"toc-item-num\">8&nbsp;&nbsp;</span>save</a></span></li></ul></div>"
   ]
  },
  {
   "cell_type": "code",
   "execution_count": 406,
   "metadata": {
    "ExecuteTime": {
     "end_time": "2018-10-26T16:19:51.010562Z",
     "start_time": "2018-10-26T16:19:51.007570Z"
    }
   },
   "outputs": [],
   "source": [
    "import pandas as pd\n",
    "\n",
    "from xgboost import XGBRegressor\n",
    "import xgboost as xgb"
   ]
  },
  {
   "cell_type": "markdown",
   "metadata": {},
   "source": [
    "# Загружаем данные"
   ]
  },
  {
   "cell_type": "code",
   "execution_count": 448,
   "metadata": {
    "ExecuteTime": {
     "end_time": "2018-10-26T16:27:44.947261Z",
     "start_time": "2018-10-26T16:27:44.824864Z"
    }
   },
   "outputs": [],
   "source": [
    "train_pool = pd.read_csv('train.csv', encoding='utf-8').sort_values('query_id')\n",
    "test_pool = pd.read_csv('test.csv', encoding='utf-8').sort_values('query_id')"
   ]
  },
  {
   "cell_type": "markdown",
   "metadata": {},
   "source": [
    "# func"
   ]
  },
  {
   "cell_type": "markdown",
   "metadata": {},
   "source": [
    "Напишем функции, генерирующие простые признаки основанные на пересечении триграмм между запросом и названием организации"
   ]
  },
  {
   "cell_type": "code",
   "execution_count": 449,
   "metadata": {
    "ExecuteTime": {
     "end_time": "2018-10-26T16:27:45.373086Z",
     "start_time": "2018-10-26T16:27:45.367600Z"
    }
   },
   "outputs": [],
   "source": [
    "import metrics as m\n",
    "import numpy as np\n",
    "def ndcg(y_true, y_pred, groups):\n",
    "    return np.nanmean([m.ndcg_score(np.array(y_true)[np.array(groups) == g], \n",
    "                                 np.array(y_pred)[np.array(groups) == g]) for g in set(groups)])"
   ]
  },
  {
   "cell_type": "code",
   "execution_count": 450,
   "metadata": {
    "ExecuteTime": {
     "end_time": "2018-10-26T16:27:45.552157Z",
     "start_time": "2018-10-26T16:27:45.546643Z"
    }
   },
   "outputs": [],
   "source": [
    "def get_trigrams(string):\n",
    "    string = '^^' + string + '$$'\n",
    "    trigrams = set()\n",
    "    trigrams_count = 0\n",
    "    \n",
    "    for i in range(len(string) - 2):\n",
    "        trigrams.add(string[i:i+3])\n",
    "        trigrams_count += 1\n",
    "        \n",
    "    return trigrams, trigrams_count\n",
    "\n",
    "def common_trigrams_factors(query, org_name):\n",
    "    query_trigrams, query_trigrams_count = get_trigrams(query)\n",
    "    org_name_trigrams, org_name_trigrams_count = get_trigrams(org_name)\n",
    "\n",
    "    factors = [float(len(query_trigrams.intersection(org_name_trigrams)))]\n",
    "\n",
    "    factors.append(0. if query_trigrams_count == 0. else 0.1 + factors[0] / query_trigrams_count)\n",
    "    factors.append(0. if org_name_trigrams_count == 0. else 0.1 + factors[0] / org_name_trigrams_count)    \n",
    "    \n",
    "    return factors"
   ]
  },
  {
   "cell_type": "code",
   "execution_count": 451,
   "metadata": {
    "ExecuteTime": {
     "end_time": "2018-10-26T16:27:45.722109Z",
     "start_time": "2018-10-26T16:27:45.714087Z"
    }
   },
   "outputs": [],
   "source": [
    "def get_bigrams(string):\n",
    "    string = '^^' + string + '$$'\n",
    "    bigrams = set()\n",
    "    bigrams_count = 0\n",
    "    \n",
    "    for i in range(len(string) - 1):\n",
    "        bigrams.add(string[i:i+2])\n",
    "        bigrams_count += 1\n",
    "        \n",
    "    return bigrams, bigrams_count\n",
    "\n",
    "def common_bigrams_factors(query, org_name):\n",
    "    query_bigrams, query_bigrams_count = get_bigrams(query)\n",
    "    org_name_bigrams, org_name_bigrams_count = get_bigrams(org_name)\n",
    "\n",
    "    factors = [float(len(query_bigrams.intersection(org_name_bigrams)))]\n",
    "\n",
    "    factors.append(0. if query_bigrams_count == 0. else 0.1 + factors[0] / query_bigrams_count)\n",
    "    factors.append(0. if org_name_bigrams_count == 0. else 0.1 + factors[0] / org_name_bigrams_count)    \n",
    "    \n",
    "    return factors"
   ]
  },
  {
   "cell_type": "code",
   "execution_count": 452,
   "metadata": {
    "ExecuteTime": {
     "end_time": "2018-10-26T16:27:45.895379Z",
     "start_time": "2018-10-26T16:27:45.889358Z"
    }
   },
   "outputs": [],
   "source": [
    "def get_grams(string, n=3):\n",
    "    string = list('^^') + string + list('$$')\n",
    "    bigrams = set()\n",
    "    bigrams_count = 0\n",
    "    \n",
    "    for i in range(len(string) - n+1):\n",
    "        bigrams.add('_'.join(string[i:i+n]))\n",
    "        bigrams_count += 1\n",
    "        \n",
    "    return bigrams, bigrams_count\n",
    "\n",
    "def common_grams_factors(query, org_name, n):\n",
    "    query_bigrams, query_bigrams_count = get_grams(query, n)\n",
    "    org_name_bigrams, org_name_bigrams_count = get_grams(org_name, n)\n",
    "\n",
    "    factors = [float(len(query_bigrams.intersection(org_name_bigrams)))]\n",
    "\n",
    "    factors.append(0. if query_bigrams_count == 0. else 0.1 + factors[0] / query_bigrams_count)\n",
    "    factors.append(0. if org_name_bigrams_count == 0. else 0.1 + factors[0] / org_name_bigrams_count)    \n",
    "    \n",
    "    return factors"
   ]
  },
  {
   "cell_type": "markdown",
   "metadata": {},
   "source": [
    "# features"
   ]
  },
  {
   "cell_type": "markdown",
   "metadata": {},
   "source": [
    "Посчитаем данные факторы для каждого файла"
   ]
  },
  {
   "cell_type": "code",
   "execution_count": 453,
   "metadata": {
    "ExecuteTime": {
     "end_time": "2018-10-26T16:27:46.444156Z",
     "start_time": "2018-10-26T16:27:46.432635Z"
    }
   },
   "outputs": [],
   "source": [
    "train_group_sizes = train_pool.query_id.value_counts()\n",
    "\n",
    "train_pool = train_pool.join(train_group_sizes.to_frame('group_sizes'), on='query_id')"
   ]
  },
  {
   "cell_type": "code",
   "execution_count": 454,
   "metadata": {
    "ExecuteTime": {
     "end_time": "2018-10-26T16:27:46.632978Z",
     "start_time": "2018-10-26T16:27:46.624453Z"
    }
   },
   "outputs": [],
   "source": [
    "test_group_sizes = test_pool.query_id.value_counts()\n",
    "\n",
    "test_pool = test_pool.join(test_group_sizes.to_frame('group_sizes'), on='query_id')"
   ]
  },
  {
   "cell_type": "code",
   "execution_count": 455,
   "metadata": {
    "ExecuteTime": {
     "end_time": "2018-10-26T16:27:47.045126Z",
     "start_time": "2018-10-26T16:27:47.032087Z"
    }
   },
   "outputs": [
    {
     "data": {
      "text/html": [
       "<div>\n",
       "<style scoped>\n",
       "    .dataframe tbody tr th:only-of-type {\n",
       "        vertical-align: middle;\n",
       "    }\n",
       "\n",
       "    .dataframe tbody tr th {\n",
       "        vertical-align: top;\n",
       "    }\n",
       "\n",
       "    .dataframe thead th {\n",
       "        text-align: right;\n",
       "    }\n",
       "</style>\n",
       "<table border=\"1\" class=\"dataframe\">\n",
       "  <thead>\n",
       "    <tr style=\"text-align: right;\">\n",
       "      <th></th>\n",
       "      <th>query_id</th>\n",
       "      <th>query</th>\n",
       "      <th>region</th>\n",
       "      <th>org_name</th>\n",
       "      <th>org_id</th>\n",
       "      <th>window_center</th>\n",
       "      <th>window_size</th>\n",
       "      <th>relevance</th>\n",
       "      <th>group_sizes</th>\n",
       "    </tr>\n",
       "  </thead>\n",
       "  <tbody>\n",
       "    <tr>\n",
       "      <th>0</th>\n",
       "      <td>11</td>\n",
       "      <td>суд, Украина, Днепропетровская область, Днепро...</td>\n",
       "      <td>21775</td>\n",
       "      <td>Суд Жовтневого району міста Дніпропетровськ</td>\n",
       "      <td>1021049127</td>\n",
       "      <td>34.613119,48.506531</td>\n",
       "      <td>0.025928,0.017380</td>\n",
       "      <td>0.00</td>\n",
       "      <td>20</td>\n",
       "    </tr>\n",
       "    <tr>\n",
       "      <th>19</th>\n",
       "      <td>11</td>\n",
       "      <td>суд, Украина, Днепропетровская область, Днепро...</td>\n",
       "      <td>21775</td>\n",
       "      <td>Дніпровський районний суд</td>\n",
       "      <td>1171413301</td>\n",
       "      <td>34.613119,48.506531</td>\n",
       "      <td>0.025928,0.017380</td>\n",
       "      <td>0.61</td>\n",
       "      <td>20</td>\n",
       "    </tr>\n",
       "    <tr>\n",
       "      <th>18</th>\n",
       "      <td>11</td>\n",
       "      <td>суд, Украина, Днепропетровская область, Днепро...</td>\n",
       "      <td>21775</td>\n",
       "      <td>Заводський суд</td>\n",
       "      <td>1218937827</td>\n",
       "      <td>34.613119,48.506531</td>\n",
       "      <td>0.025928,0.017380</td>\n",
       "      <td>0.61</td>\n",
       "      <td>20</td>\n",
       "    </tr>\n",
       "    <tr>\n",
       "      <th>17</th>\n",
       "      <td>11</td>\n",
       "      <td>суд, Украина, Днепропетровская область, Днепро...</td>\n",
       "      <td>21775</td>\n",
       "      <td>Індустріальний районний суд м. Дніпропетровська</td>\n",
       "      <td>1082076884</td>\n",
       "      <td>34.613119,48.506531</td>\n",
       "      <td>0.025928,0.017380</td>\n",
       "      <td>0.00</td>\n",
       "      <td>20</td>\n",
       "    </tr>\n",
       "    <tr>\n",
       "      <th>15</th>\n",
       "      <td>11</td>\n",
       "      <td>суд, Украина, Днепропетровская область, Днепро...</td>\n",
       "      <td>21775</td>\n",
       "      <td>Дніпропетровський апеляційний адміністративний...</td>\n",
       "      <td>1586735257</td>\n",
       "      <td>34.613119,48.506531</td>\n",
       "      <td>0.025928,0.017380</td>\n",
       "      <td>0.00</td>\n",
       "      <td>20</td>\n",
       "    </tr>\n",
       "  </tbody>\n",
       "</table>\n",
       "</div>"
      ],
      "text/plain": [
       "    query_id                                              query  region  \\\n",
       "0         11  суд, Украина, Днепропетровская область, Днепро...   21775   \n",
       "19        11  суд, Украина, Днепропетровская область, Днепро...   21775   \n",
       "18        11  суд, Украина, Днепропетровская область, Днепро...   21775   \n",
       "17        11  суд, Украина, Днепропетровская область, Днепро...   21775   \n",
       "15        11  суд, Украина, Днепропетровская область, Днепро...   21775   \n",
       "\n",
       "                                             org_name      org_id  \\\n",
       "0         Суд Жовтневого району міста Дніпропетровськ  1021049127   \n",
       "19                          Дніпровський районний суд  1171413301   \n",
       "18                                     Заводський суд  1218937827   \n",
       "17    Індустріальний районний суд м. Дніпропетровська  1082076884   \n",
       "15  Дніпропетровський апеляційний адміністративний...  1586735257   \n",
       "\n",
       "          window_center        window_size  relevance  group_sizes  \n",
       "0   34.613119,48.506531  0.025928,0.017380       0.00           20  \n",
       "19  34.613119,48.506531  0.025928,0.017380       0.61           20  \n",
       "18  34.613119,48.506531  0.025928,0.017380       0.61           20  \n",
       "17  34.613119,48.506531  0.025928,0.017380       0.00           20  \n",
       "15  34.613119,48.506531  0.025928,0.017380       0.00           20  "
      ]
     },
     "execution_count": 455,
     "metadata": {},
     "output_type": "execute_result"
    }
   ],
   "source": [
    "train_pool.head()"
   ]
  },
  {
   "cell_type": "code",
   "execution_count": 468,
   "metadata": {
    "ExecuteTime": {
     "end_time": "2018-10-26T16:30:01.438338Z",
     "start_time": "2018-10-26T16:29:26.121608Z"
    }
   },
   "outputs": [],
   "source": [
    "# def calc_trigram_factors(row):\n",
    "#     return pd.Series(common_trigrams_factors(list(row.query), list(row.org_name)))\n",
    "# def calc_bigram_factors(row):\n",
    "#     return pd.Series(common_bigrams_factors(row.query, row.org_name))\n",
    "def calc_gram_factors(row, n):\n",
    "    return pd.Series(common_grams_factors(list(row.query), list(row.org_name), n))\n",
    "def calc_word_gram_factors(row, n):\n",
    "    return pd.Series(common_grams_factors(row.query.split(), row.org_name.split(), n))\n",
    "    \n",
    "train_factors = pd.concat((\n",
    "#                            train_pool.apply(calc_gram_factors, n=1, axis=1), \n",
    "                           train_pool.apply(calc_gram_factors, n=2, axis=1), \n",
    "                           train_pool.apply(calc_gram_factors, n=3, axis=1), \n",
    "                           train_pool.apply(calc_word_gram_factors, n=1, axis=1), \n",
    "                           train_pool.apply(calc_word_gram_factors, n=2, axis=1), \n",
    "#                            train_pool.apply(calc_gram_factors, n=4, axis=1),\n",
    "#                           train_pool.window_center.str.split(',').apply(pd.Series),\n",
    "#                           train_pool.window_size.str.split(',').apply(pd.Series)\n",
    "                          ), axis=1)\n",
    "test_factors = pd.concat((\n",
    "#                            test_pool.apply(calc_gram_factors, n=1, axis=1),\n",
    "                           test_pool.apply(calc_gram_factors, n=2, axis=1),\n",
    "                           test_pool.apply(calc_gram_factors, n=3, axis=1),\n",
    "                           test_pool.apply(calc_word_gram_factors, n=1, axis=1),\n",
    "                           test_pool.apply(calc_word_gram_factors, n=2, axis=1),\n",
    "#                            test_pool.apply(calc_gram_factors, n=4, axis=1),\n",
    "#                           test_pool.window_center.str.split(',').apply(pd.Series),\n",
    "#                           test_pool.window_size.str.split(',').apply(pd.Series)\n",
    "                        ), axis=1)"
   ]
  },
  {
   "cell_type": "code",
   "execution_count": 469,
   "metadata": {
    "ExecuteTime": {
     "end_time": "2018-10-26T16:30:01.479323Z",
     "start_time": "2018-10-26T16:30:01.440844Z"
    }
   },
   "outputs": [
    {
     "data": {
      "text/html": [
       "<div>\n",
       "<style scoped>\n",
       "    .dataframe tbody tr th:only-of-type {\n",
       "        vertical-align: middle;\n",
       "    }\n",
       "\n",
       "    .dataframe tbody tr th {\n",
       "        vertical-align: top;\n",
       "    }\n",
       "\n",
       "    .dataframe thead th {\n",
       "        text-align: right;\n",
       "    }\n",
       "</style>\n",
       "<table border=\"1\" class=\"dataframe\">\n",
       "  <thead>\n",
       "    <tr style=\"text-align: right;\">\n",
       "      <th></th>\n",
       "      <th>0</th>\n",
       "      <th>1</th>\n",
       "      <th>2</th>\n",
       "      <th>0</th>\n",
       "      <th>1</th>\n",
       "      <th>2</th>\n",
       "      <th>0</th>\n",
       "      <th>1</th>\n",
       "      <th>2</th>\n",
       "      <th>0</th>\n",
       "      <th>1</th>\n",
       "      <th>2</th>\n",
       "    </tr>\n",
       "  </thead>\n",
       "  <tbody>\n",
       "    <tr>\n",
       "      <th>0</th>\n",
       "      <td>17.0</td>\n",
       "      <td>0.323684</td>\n",
       "      <td>0.469565</td>\n",
       "      <td>9.0</td>\n",
       "      <td>0.220000</td>\n",
       "      <td>0.300000</td>\n",
       "      <td>2.0</td>\n",
       "      <td>0.281818</td>\n",
       "      <td>0.322222</td>\n",
       "      <td>2.0</td>\n",
       "      <td>0.300000</td>\n",
       "      <td>0.350000</td>\n",
       "    </tr>\n",
       "    <tr>\n",
       "      <th>19</th>\n",
       "      <td>14.0</td>\n",
       "      <td>0.284211</td>\n",
       "      <td>0.600000</td>\n",
       "      <td>7.0</td>\n",
       "      <td>0.193333</td>\n",
       "      <td>0.359259</td>\n",
       "      <td>2.0</td>\n",
       "      <td>0.281818</td>\n",
       "      <td>0.385714</td>\n",
       "      <td>2.0</td>\n",
       "      <td>0.300000</td>\n",
       "      <td>0.433333</td>\n",
       "    </tr>\n",
       "    <tr>\n",
       "      <th>18</th>\n",
       "      <td>10.0</td>\n",
       "      <td>0.231579</td>\n",
       "      <td>0.688235</td>\n",
       "      <td>5.0</td>\n",
       "      <td>0.166667</td>\n",
       "      <td>0.412500</td>\n",
       "      <td>2.0</td>\n",
       "      <td>0.281818</td>\n",
       "      <td>0.433333</td>\n",
       "      <td>2.0</td>\n",
       "      <td>0.300000</td>\n",
       "      <td>0.500000</td>\n",
       "    </tr>\n",
       "    <tr>\n",
       "      <th>17</th>\n",
       "      <td>20.0</td>\n",
       "      <td>0.363158</td>\n",
       "      <td>0.500000</td>\n",
       "      <td>12.0</td>\n",
       "      <td>0.260000</td>\n",
       "      <td>0.344898</td>\n",
       "      <td>2.0</td>\n",
       "      <td>0.281818</td>\n",
       "      <td>0.322222</td>\n",
       "      <td>2.0</td>\n",
       "      <td>0.300000</td>\n",
       "      <td>0.350000</td>\n",
       "    </tr>\n",
       "    <tr>\n",
       "      <th>15</th>\n",
       "      <td>19.0</td>\n",
       "      <td>0.350000</td>\n",
       "      <td>0.458491</td>\n",
       "      <td>12.0</td>\n",
       "      <td>0.260000</td>\n",
       "      <td>0.330769</td>\n",
       "      <td>2.0</td>\n",
       "      <td>0.281818</td>\n",
       "      <td>0.350000</td>\n",
       "      <td>2.0</td>\n",
       "      <td>0.300000</td>\n",
       "      <td>0.385714</td>\n",
       "    </tr>\n",
       "    <tr>\n",
       "      <th>14</th>\n",
       "      <td>20.0</td>\n",
       "      <td>0.363158</td>\n",
       "      <td>0.500000</td>\n",
       "      <td>14.0</td>\n",
       "      <td>0.286667</td>\n",
       "      <td>0.385714</td>\n",
       "      <td>2.0</td>\n",
       "      <td>0.281818</td>\n",
       "      <td>0.350000</td>\n",
       "      <td>2.0</td>\n",
       "      <td>0.300000</td>\n",
       "      <td>0.385714</td>\n",
       "    </tr>\n",
       "    <tr>\n",
       "      <th>13</th>\n",
       "      <td>26.0</td>\n",
       "      <td>0.442105</td>\n",
       "      <td>0.665217</td>\n",
       "      <td>18.0</td>\n",
       "      <td>0.340000</td>\n",
       "      <td>0.500000</td>\n",
       "      <td>2.0</td>\n",
       "      <td>0.281818</td>\n",
       "      <td>0.350000</td>\n",
       "      <td>2.0</td>\n",
       "      <td>0.300000</td>\n",
       "      <td>0.385714</td>\n",
       "    </tr>\n",
       "    <tr>\n",
       "      <th>12</th>\n",
       "      <td>11.0</td>\n",
       "      <td>0.244737</td>\n",
       "      <td>0.523077</td>\n",
       "      <td>4.0</td>\n",
       "      <td>0.153333</td>\n",
       "      <td>0.260000</td>\n",
       "      <td>2.0</td>\n",
       "      <td>0.281818</td>\n",
       "      <td>0.385714</td>\n",
       "      <td>2.0</td>\n",
       "      <td>0.300000</td>\n",
       "      <td>0.433333</td>\n",
       "    </tr>\n",
       "    <tr>\n",
       "      <th>11</th>\n",
       "      <td>21.0</td>\n",
       "      <td>0.376316</td>\n",
       "      <td>0.520000</td>\n",
       "      <td>12.0</td>\n",
       "      <td>0.260000</td>\n",
       "      <td>0.344898</td>\n",
       "      <td>2.0</td>\n",
       "      <td>0.281818</td>\n",
       "      <td>0.350000</td>\n",
       "      <td>2.0</td>\n",
       "      <td>0.300000</td>\n",
       "      <td>0.385714</td>\n",
       "    </tr>\n",
       "    <tr>\n",
       "      <th>10</th>\n",
       "      <td>8.0</td>\n",
       "      <td>0.205263</td>\n",
       "      <td>0.375862</td>\n",
       "      <td>4.0</td>\n",
       "      <td>0.153333</td>\n",
       "      <td>0.242857</td>\n",
       "      <td>2.0</td>\n",
       "      <td>0.281818</td>\n",
       "      <td>0.385714</td>\n",
       "      <td>2.0</td>\n",
       "      <td>0.300000</td>\n",
       "      <td>0.433333</td>\n",
       "    </tr>\n",
       "    <tr>\n",
       "      <th>16</th>\n",
       "      <td>9.0</td>\n",
       "      <td>0.218421</td>\n",
       "      <td>0.421429</td>\n",
       "      <td>4.0</td>\n",
       "      <td>0.153333</td>\n",
       "      <td>0.248148</td>\n",
       "      <td>2.0</td>\n",
       "      <td>0.281818</td>\n",
       "      <td>0.385714</td>\n",
       "      <td>2.0</td>\n",
       "      <td>0.300000</td>\n",
       "      <td>0.433333</td>\n",
       "    </tr>\n",
       "    <tr>\n",
       "      <th>8</th>\n",
       "      <td>21.0</td>\n",
       "      <td>0.376316</td>\n",
       "      <td>0.556522</td>\n",
       "      <td>13.0</td>\n",
       "      <td>0.273333</td>\n",
       "      <td>0.388889</td>\n",
       "      <td>2.0</td>\n",
       "      <td>0.281818</td>\n",
       "      <td>0.322222</td>\n",
       "      <td>2.0</td>\n",
       "      <td>0.300000</td>\n",
       "      <td>0.350000</td>\n",
       "    </tr>\n",
       "    <tr>\n",
       "      <th>7</th>\n",
       "      <td>22.0</td>\n",
       "      <td>0.389474</td>\n",
       "      <td>0.485965</td>\n",
       "      <td>13.0</td>\n",
       "      <td>0.273333</td>\n",
       "      <td>0.332143</td>\n",
       "      <td>2.0</td>\n",
       "      <td>0.281818</td>\n",
       "      <td>0.322222</td>\n",
       "      <td>2.0</td>\n",
       "      <td>0.300000</td>\n",
       "      <td>0.350000</td>\n",
       "    </tr>\n",
       "    <tr>\n",
       "      <th>6</th>\n",
       "      <td>24.0</td>\n",
       "      <td>0.415789</td>\n",
       "      <td>0.645455</td>\n",
       "      <td>17.0</td>\n",
       "      <td>0.326667</td>\n",
       "      <td>0.495349</td>\n",
       "      <td>2.0</td>\n",
       "      <td>0.281818</td>\n",
       "      <td>0.350000</td>\n",
       "      <td>2.0</td>\n",
       "      <td>0.300000</td>\n",
       "      <td>0.385714</td>\n",
       "    </tr>\n",
       "    <tr>\n",
       "      <th>5</th>\n",
       "      <td>21.0</td>\n",
       "      <td>0.376316</td>\n",
       "      <td>0.537500</td>\n",
       "      <td>13.0</td>\n",
       "      <td>0.273333</td>\n",
       "      <td>0.376596</td>\n",
       "      <td>2.0</td>\n",
       "      <td>0.281818</td>\n",
       "      <td>0.322222</td>\n",
       "      <td>2.0</td>\n",
       "      <td>0.300000</td>\n",
       "      <td>0.350000</td>\n",
       "    </tr>\n",
       "    <tr>\n",
       "      <th>4</th>\n",
       "      <td>9.0</td>\n",
       "      <td>0.218421</td>\n",
       "      <td>0.662500</td>\n",
       "      <td>3.0</td>\n",
       "      <td>0.140000</td>\n",
       "      <td>0.300000</td>\n",
       "      <td>2.0</td>\n",
       "      <td>0.281818</td>\n",
       "      <td>0.433333</td>\n",
       "      <td>2.0</td>\n",
       "      <td>0.300000</td>\n",
       "      <td>0.500000</td>\n",
       "    </tr>\n",
       "    <tr>\n",
       "      <th>3</th>\n",
       "      <td>10.0</td>\n",
       "      <td>0.231579</td>\n",
       "      <td>0.394118</td>\n",
       "      <td>4.0</td>\n",
       "      <td>0.153333</td>\n",
       "      <td>0.221212</td>\n",
       "      <td>2.0</td>\n",
       "      <td>0.281818</td>\n",
       "      <td>0.385714</td>\n",
       "      <td>2.0</td>\n",
       "      <td>0.300000</td>\n",
       "      <td>0.433333</td>\n",
       "    </tr>\n",
       "    <tr>\n",
       "      <th>2</th>\n",
       "      <td>10.0</td>\n",
       "      <td>0.231579</td>\n",
       "      <td>0.444828</td>\n",
       "      <td>4.0</td>\n",
       "      <td>0.153333</td>\n",
       "      <td>0.242857</td>\n",
       "      <td>2.0</td>\n",
       "      <td>0.281818</td>\n",
       "      <td>0.385714</td>\n",
       "      <td>2.0</td>\n",
       "      <td>0.300000</td>\n",
       "      <td>0.433333</td>\n",
       "    </tr>\n",
       "    <tr>\n",
       "      <th>1</th>\n",
       "      <td>21.0</td>\n",
       "      <td>0.376316</td>\n",
       "      <td>0.520000</td>\n",
       "      <td>12.0</td>\n",
       "      <td>0.260000</td>\n",
       "      <td>0.344898</td>\n",
       "      <td>2.0</td>\n",
       "      <td>0.281818</td>\n",
       "      <td>0.350000</td>\n",
       "      <td>2.0</td>\n",
       "      <td>0.300000</td>\n",
       "      <td>0.385714</td>\n",
       "    </tr>\n",
       "    <tr>\n",
       "      <th>9</th>\n",
       "      <td>7.0</td>\n",
       "      <td>0.192105</td>\n",
       "      <td>0.341379</td>\n",
       "      <td>0.0</td>\n",
       "      <td>0.100000</td>\n",
       "      <td>0.100000</td>\n",
       "      <td>2.0</td>\n",
       "      <td>0.281818</td>\n",
       "      <td>0.385714</td>\n",
       "      <td>2.0</td>\n",
       "      <td>0.300000</td>\n",
       "      <td>0.433333</td>\n",
       "    </tr>\n",
       "    <tr>\n",
       "      <th>36</th>\n",
       "      <td>2.0</td>\n",
       "      <td>0.385714</td>\n",
       "      <td>0.322222</td>\n",
       "      <td>0.0</td>\n",
       "      <td>0.100000</td>\n",
       "      <td>0.100000</td>\n",
       "      <td>2.0</td>\n",
       "      <td>0.500000</td>\n",
       "      <td>0.500000</td>\n",
       "      <td>2.0</td>\n",
       "      <td>0.600000</td>\n",
       "      <td>0.600000</td>\n",
       "    </tr>\n",
       "    <tr>\n",
       "      <th>37</th>\n",
       "      <td>2.0</td>\n",
       "      <td>0.385714</td>\n",
       "      <td>0.385714</td>\n",
       "      <td>0.0</td>\n",
       "      <td>0.100000</td>\n",
       "      <td>0.100000</td>\n",
       "      <td>2.0</td>\n",
       "      <td>0.500000</td>\n",
       "      <td>0.500000</td>\n",
       "      <td>2.0</td>\n",
       "      <td>0.600000</td>\n",
       "      <td>0.600000</td>\n",
       "    </tr>\n",
       "    <tr>\n",
       "      <th>38</th>\n",
       "      <td>2.0</td>\n",
       "      <td>0.385714</td>\n",
       "      <td>0.350000</td>\n",
       "      <td>0.0</td>\n",
       "      <td>0.100000</td>\n",
       "      <td>0.100000</td>\n",
       "      <td>2.0</td>\n",
       "      <td>0.500000</td>\n",
       "      <td>0.500000</td>\n",
       "      <td>2.0</td>\n",
       "      <td>0.600000</td>\n",
       "      <td>0.600000</td>\n",
       "    </tr>\n",
       "    <tr>\n",
       "      <th>39</th>\n",
       "      <td>2.0</td>\n",
       "      <td>0.385714</td>\n",
       "      <td>0.180000</td>\n",
       "      <td>0.0</td>\n",
       "      <td>0.100000</td>\n",
       "      <td>0.100000</td>\n",
       "      <td>2.0</td>\n",
       "      <td>0.500000</td>\n",
       "      <td>0.385714</td>\n",
       "      <td>2.0</td>\n",
       "      <td>0.600000</td>\n",
       "      <td>0.433333</td>\n",
       "    </tr>\n",
       "    <tr>\n",
       "      <th>40</th>\n",
       "      <td>2.0</td>\n",
       "      <td>0.385714</td>\n",
       "      <td>0.225000</td>\n",
       "      <td>0.0</td>\n",
       "      <td>0.100000</td>\n",
       "      <td>0.100000</td>\n",
       "      <td>2.0</td>\n",
       "      <td>0.500000</td>\n",
       "      <td>0.433333</td>\n",
       "      <td>2.0</td>\n",
       "      <td>0.600000</td>\n",
       "      <td>0.500000</td>\n",
       "    </tr>\n",
       "    <tr>\n",
       "      <th>41</th>\n",
       "      <td>3.0</td>\n",
       "      <td>0.528571</td>\n",
       "      <td>0.300000</td>\n",
       "      <td>0.0</td>\n",
       "      <td>0.100000</td>\n",
       "      <td>0.100000</td>\n",
       "      <td>2.0</td>\n",
       "      <td>0.500000</td>\n",
       "      <td>0.433333</td>\n",
       "      <td>2.0</td>\n",
       "      <td>0.600000</td>\n",
       "      <td>0.500000</td>\n",
       "    </tr>\n",
       "    <tr>\n",
       "      <th>45</th>\n",
       "      <td>3.0</td>\n",
       "      <td>0.528571</td>\n",
       "      <td>0.250000</td>\n",
       "      <td>0.0</td>\n",
       "      <td>0.100000</td>\n",
       "      <td>0.100000</td>\n",
       "      <td>2.0</td>\n",
       "      <td>0.500000</td>\n",
       "      <td>0.385714</td>\n",
       "      <td>2.0</td>\n",
       "      <td>0.600000</td>\n",
       "      <td>0.433333</td>\n",
       "    </tr>\n",
       "    <tr>\n",
       "      <th>43</th>\n",
       "      <td>3.0</td>\n",
       "      <td>0.528571</td>\n",
       "      <td>0.185714</td>\n",
       "      <td>0.0</td>\n",
       "      <td>0.100000</td>\n",
       "      <td>0.100000</td>\n",
       "      <td>2.0</td>\n",
       "      <td>0.500000</td>\n",
       "      <td>0.385714</td>\n",
       "      <td>2.0</td>\n",
       "      <td>0.600000</td>\n",
       "      <td>0.433333</td>\n",
       "    </tr>\n",
       "    <tr>\n",
       "      <th>44</th>\n",
       "      <td>3.0</td>\n",
       "      <td>0.528571</td>\n",
       "      <td>0.185714</td>\n",
       "      <td>0.0</td>\n",
       "      <td>0.100000</td>\n",
       "      <td>0.100000</td>\n",
       "      <td>2.0</td>\n",
       "      <td>0.500000</td>\n",
       "      <td>0.385714</td>\n",
       "      <td>2.0</td>\n",
       "      <td>0.600000</td>\n",
       "      <td>0.433333</td>\n",
       "    </tr>\n",
       "    <tr>\n",
       "      <th>46</th>\n",
       "      <td>2.0</td>\n",
       "      <td>0.385714</td>\n",
       "      <td>0.266667</td>\n",
       "      <td>0.0</td>\n",
       "      <td>0.100000</td>\n",
       "      <td>0.100000</td>\n",
       "      <td>2.0</td>\n",
       "      <td>0.500000</td>\n",
       "      <td>0.500000</td>\n",
       "      <td>2.0</td>\n",
       "      <td>0.600000</td>\n",
       "      <td>0.600000</td>\n",
       "    </tr>\n",
       "    <tr>\n",
       "      <th>...</th>\n",
       "      <td>...</td>\n",
       "      <td>...</td>\n",
       "      <td>...</td>\n",
       "      <td>...</td>\n",
       "      <td>...</td>\n",
       "      <td>...</td>\n",
       "      <td>...</td>\n",
       "      <td>...</td>\n",
       "      <td>...</td>\n",
       "      <td>...</td>\n",
       "      <td>...</td>\n",
       "      <td>...</td>\n",
       "    </tr>\n",
       "    <tr>\n",
       "      <th>29236</th>\n",
       "      <td>2.0</td>\n",
       "      <td>0.205263</td>\n",
       "      <td>0.266667</td>\n",
       "      <td>0.0</td>\n",
       "      <td>0.100000</td>\n",
       "      <td>0.100000</td>\n",
       "      <td>2.0</td>\n",
       "      <td>0.433333</td>\n",
       "      <td>0.500000</td>\n",
       "      <td>2.0</td>\n",
       "      <td>0.500000</td>\n",
       "      <td>0.600000</td>\n",
       "    </tr>\n",
       "    <tr>\n",
       "      <th>29235</th>\n",
       "      <td>12.0</td>\n",
       "      <td>0.731579</td>\n",
       "      <td>0.731579</td>\n",
       "      <td>11.0</td>\n",
       "      <td>0.711111</td>\n",
       "      <td>0.711111</td>\n",
       "      <td>3.0</td>\n",
       "      <td>0.600000</td>\n",
       "      <td>0.600000</td>\n",
       "      <td>3.0</td>\n",
       "      <td>0.700000</td>\n",
       "      <td>0.700000</td>\n",
       "    </tr>\n",
       "    <tr>\n",
       "      <th>29234</th>\n",
       "      <td>15.0</td>\n",
       "      <td>0.889474</td>\n",
       "      <td>0.889474</td>\n",
       "      <td>15.0</td>\n",
       "      <td>0.933333</td>\n",
       "      <td>0.933333</td>\n",
       "      <td>3.0</td>\n",
       "      <td>0.600000</td>\n",
       "      <td>0.600000</td>\n",
       "      <td>3.0</td>\n",
       "      <td>0.700000</td>\n",
       "      <td>0.700000</td>\n",
       "    </tr>\n",
       "    <tr>\n",
       "      <th>29240</th>\n",
       "      <td>2.0</td>\n",
       "      <td>0.205263</td>\n",
       "      <td>0.233333</td>\n",
       "      <td>0.0</td>\n",
       "      <td>0.100000</td>\n",
       "      <td>0.100000</td>\n",
       "      <td>2.0</td>\n",
       "      <td>0.433333</td>\n",
       "      <td>0.433333</td>\n",
       "      <td>2.0</td>\n",
       "      <td>0.500000</td>\n",
       "      <td>0.500000</td>\n",
       "    </tr>\n",
       "    <tr>\n",
       "      <th>29259</th>\n",
       "      <td>23.0</td>\n",
       "      <td>0.611111</td>\n",
       "      <td>0.921429</td>\n",
       "      <td>22.0</td>\n",
       "      <td>0.600000</td>\n",
       "      <td>0.914815</td>\n",
       "      <td>4.0</td>\n",
       "      <td>0.544444</td>\n",
       "      <td>0.671429</td>\n",
       "      <td>3.0</td>\n",
       "      <td>0.475000</td>\n",
       "      <td>0.600000</td>\n",
       "    </tr>\n",
       "    <tr>\n",
       "      <th>29258</th>\n",
       "      <td>23.0</td>\n",
       "      <td>0.611111</td>\n",
       "      <td>0.921429</td>\n",
       "      <td>22.0</td>\n",
       "      <td>0.600000</td>\n",
       "      <td>0.914815</td>\n",
       "      <td>4.0</td>\n",
       "      <td>0.544444</td>\n",
       "      <td>0.671429</td>\n",
       "      <td>3.0</td>\n",
       "      <td>0.475000</td>\n",
       "      <td>0.600000</td>\n",
       "    </tr>\n",
       "    <tr>\n",
       "      <th>29256</th>\n",
       "      <td>13.0</td>\n",
       "      <td>0.388889</td>\n",
       "      <td>0.912500</td>\n",
       "      <td>10.0</td>\n",
       "      <td>0.327273</td>\n",
       "      <td>0.766667</td>\n",
       "      <td>3.0</td>\n",
       "      <td>0.433333</td>\n",
       "      <td>0.600000</td>\n",
       "      <td>2.0</td>\n",
       "      <td>0.350000</td>\n",
       "      <td>0.500000</td>\n",
       "    </tr>\n",
       "    <tr>\n",
       "      <th>29255</th>\n",
       "      <td>23.0</td>\n",
       "      <td>0.611111</td>\n",
       "      <td>0.406667</td>\n",
       "      <td>17.0</td>\n",
       "      <td>0.486364</td>\n",
       "      <td>0.329730</td>\n",
       "      <td>2.0</td>\n",
       "      <td>0.322222</td>\n",
       "      <td>0.242857</td>\n",
       "      <td>2.0</td>\n",
       "      <td>0.350000</td>\n",
       "      <td>0.253846</td>\n",
       "    </tr>\n",
       "    <tr>\n",
       "      <th>29254</th>\n",
       "      <td>18.0</td>\n",
       "      <td>0.500000</td>\n",
       "      <td>0.295652</td>\n",
       "      <td>13.0</td>\n",
       "      <td>0.395455</td>\n",
       "      <td>0.242857</td>\n",
       "      <td>2.0</td>\n",
       "      <td>0.322222</td>\n",
       "      <td>0.225000</td>\n",
       "      <td>2.0</td>\n",
       "      <td>0.350000</td>\n",
       "      <td>0.233333</td>\n",
       "    </tr>\n",
       "    <tr>\n",
       "      <th>29257</th>\n",
       "      <td>12.0</td>\n",
       "      <td>0.366667</td>\n",
       "      <td>0.340000</td>\n",
       "      <td>5.0</td>\n",
       "      <td>0.213636</td>\n",
       "      <td>0.202041</td>\n",
       "      <td>2.0</td>\n",
       "      <td>0.322222</td>\n",
       "      <td>0.350000</td>\n",
       "      <td>2.0</td>\n",
       "      <td>0.350000</td>\n",
       "      <td>0.385714</td>\n",
       "    </tr>\n",
       "    <tr>\n",
       "      <th>29252</th>\n",
       "      <td>22.0</td>\n",
       "      <td>0.588889</td>\n",
       "      <td>0.397297</td>\n",
       "      <td>16.0</td>\n",
       "      <td>0.463636</td>\n",
       "      <td>0.319178</td>\n",
       "      <td>2.0</td>\n",
       "      <td>0.322222</td>\n",
       "      <td>0.266667</td>\n",
       "      <td>2.0</td>\n",
       "      <td>0.350000</td>\n",
       "      <td>0.281818</td>\n",
       "    </tr>\n",
       "    <tr>\n",
       "      <th>29251</th>\n",
       "      <td>22.0</td>\n",
       "      <td>0.588889</td>\n",
       "      <td>0.678947</td>\n",
       "      <td>19.0</td>\n",
       "      <td>0.531818</td>\n",
       "      <td>0.613514</td>\n",
       "      <td>3.0</td>\n",
       "      <td>0.433333</td>\n",
       "      <td>0.475000</td>\n",
       "      <td>2.0</td>\n",
       "      <td>0.350000</td>\n",
       "      <td>0.385714</td>\n",
       "    </tr>\n",
       "    <tr>\n",
       "      <th>29250</th>\n",
       "      <td>12.0</td>\n",
       "      <td>0.366667</td>\n",
       "      <td>0.731579</td>\n",
       "      <td>9.0</td>\n",
       "      <td>0.304545</td>\n",
       "      <td>0.600000</td>\n",
       "      <td>2.0</td>\n",
       "      <td>0.322222</td>\n",
       "      <td>0.433333</td>\n",
       "      <td>2.0</td>\n",
       "      <td>0.350000</td>\n",
       "      <td>0.500000</td>\n",
       "    </tr>\n",
       "    <tr>\n",
       "      <th>29249</th>\n",
       "      <td>23.0</td>\n",
       "      <td>0.611111</td>\n",
       "      <td>0.560000</td>\n",
       "      <td>21.0</td>\n",
       "      <td>0.577273</td>\n",
       "      <td>0.528571</td>\n",
       "      <td>3.0</td>\n",
       "      <td>0.433333</td>\n",
       "      <td>0.433333</td>\n",
       "      <td>2.0</td>\n",
       "      <td>0.350000</td>\n",
       "      <td>0.350000</td>\n",
       "    </tr>\n",
       "    <tr>\n",
       "      <th>29248</th>\n",
       "      <td>25.0</td>\n",
       "      <td>0.655556</td>\n",
       "      <td>0.631915</td>\n",
       "      <td>22.0</td>\n",
       "      <td>0.600000</td>\n",
       "      <td>0.578261</td>\n",
       "      <td>3.0</td>\n",
       "      <td>0.433333</td>\n",
       "      <td>0.433333</td>\n",
       "      <td>2.0</td>\n",
       "      <td>0.350000</td>\n",
       "      <td>0.350000</td>\n",
       "    </tr>\n",
       "    <tr>\n",
       "      <th>29253</th>\n",
       "      <td>22.0</td>\n",
       "      <td>0.588889</td>\n",
       "      <td>0.423529</td>\n",
       "      <td>15.0</td>\n",
       "      <td>0.440909</td>\n",
       "      <td>0.323881</td>\n",
       "      <td>2.0</td>\n",
       "      <td>0.322222</td>\n",
       "      <td>0.281818</td>\n",
       "      <td>2.0</td>\n",
       "      <td>0.350000</td>\n",
       "      <td>0.300000</td>\n",
       "    </tr>\n",
       "    <tr>\n",
       "      <th>29271</th>\n",
       "      <td>17.0</td>\n",
       "      <td>0.839130</td>\n",
       "      <td>0.729630</td>\n",
       "      <td>13.0</td>\n",
       "      <td>0.690909</td>\n",
       "      <td>0.600000</td>\n",
       "      <td>3.0</td>\n",
       "      <td>0.528571</td>\n",
       "      <td>0.528571</td>\n",
       "      <td>2.0</td>\n",
       "      <td>0.433333</td>\n",
       "      <td>0.433333</td>\n",
       "    </tr>\n",
       "    <tr>\n",
       "      <th>29270</th>\n",
       "      <td>18.0</td>\n",
       "      <td>0.882609</td>\n",
       "      <td>0.475000</td>\n",
       "      <td>15.0</td>\n",
       "      <td>0.781818</td>\n",
       "      <td>0.419149</td>\n",
       "      <td>3.0</td>\n",
       "      <td>0.528571</td>\n",
       "      <td>0.475000</td>\n",
       "      <td>2.0</td>\n",
       "      <td>0.433333</td>\n",
       "      <td>0.385714</td>\n",
       "    </tr>\n",
       "    <tr>\n",
       "      <th>29269</th>\n",
       "      <td>19.0</td>\n",
       "      <td>0.926087</td>\n",
       "      <td>0.387879</td>\n",
       "      <td>16.0</td>\n",
       "      <td>0.827273</td>\n",
       "      <td>0.346154</td>\n",
       "      <td>4.0</td>\n",
       "      <td>0.671429</td>\n",
       "      <td>0.500000</td>\n",
       "      <td>2.0</td>\n",
       "      <td>0.433333</td>\n",
       "      <td>0.322222</td>\n",
       "    </tr>\n",
       "    <tr>\n",
       "      <th>29268</th>\n",
       "      <td>19.0</td>\n",
       "      <td>0.926087</td>\n",
       "      <td>0.600000</td>\n",
       "      <td>16.0</td>\n",
       "      <td>0.827273</td>\n",
       "      <td>0.532432</td>\n",
       "      <td>3.0</td>\n",
       "      <td>0.528571</td>\n",
       "      <td>0.528571</td>\n",
       "      <td>2.0</td>\n",
       "      <td>0.433333</td>\n",
       "      <td>0.433333</td>\n",
       "    </tr>\n",
       "    <tr>\n",
       "      <th>29267</th>\n",
       "      <td>19.0</td>\n",
       "      <td>0.926087</td>\n",
       "      <td>0.563415</td>\n",
       "      <td>16.0</td>\n",
       "      <td>0.827273</td>\n",
       "      <td>0.500000</td>\n",
       "      <td>4.0</td>\n",
       "      <td>0.671429</td>\n",
       "      <td>0.600000</td>\n",
       "      <td>3.0</td>\n",
       "      <td>0.600000</td>\n",
       "      <td>0.528571</td>\n",
       "    </tr>\n",
       "    <tr>\n",
       "      <th>29266</th>\n",
       "      <td>19.0</td>\n",
       "      <td>0.926087</td>\n",
       "      <td>0.675758</td>\n",
       "      <td>16.0</td>\n",
       "      <td>0.827273</td>\n",
       "      <td>0.600000</td>\n",
       "      <td>3.0</td>\n",
       "      <td>0.528571</td>\n",
       "      <td>0.528571</td>\n",
       "      <td>2.0</td>\n",
       "      <td>0.433333</td>\n",
       "      <td>0.433333</td>\n",
       "    </tr>\n",
       "    <tr>\n",
       "      <th>29263</th>\n",
       "      <td>19.0</td>\n",
       "      <td>0.926087</td>\n",
       "      <td>0.363889</td>\n",
       "      <td>16.0</td>\n",
       "      <td>0.827273</td>\n",
       "      <td>0.325352</td>\n",
       "      <td>4.0</td>\n",
       "      <td>0.671429</td>\n",
       "      <td>0.463636</td>\n",
       "      <td>3.0</td>\n",
       "      <td>0.600000</td>\n",
       "      <td>0.400000</td>\n",
       "    </tr>\n",
       "    <tr>\n",
       "      <th>29264</th>\n",
       "      <td>20.0</td>\n",
       "      <td>0.969565</td>\n",
       "      <td>1.052381</td>\n",
       "      <td>18.0</td>\n",
       "      <td>0.918182</td>\n",
       "      <td>1.000000</td>\n",
       "      <td>4.0</td>\n",
       "      <td>0.671429</td>\n",
       "      <td>0.766667</td>\n",
       "      <td>4.0</td>\n",
       "      <td>0.766667</td>\n",
       "      <td>0.900000</td>\n",
       "    </tr>\n",
       "    <tr>\n",
       "      <th>29262</th>\n",
       "      <td>4.0</td>\n",
       "      <td>0.273913</td>\n",
       "      <td>0.166667</td>\n",
       "      <td>0.0</td>\n",
       "      <td>0.100000</td>\n",
       "      <td>0.100000</td>\n",
       "      <td>2.0</td>\n",
       "      <td>0.385714</td>\n",
       "      <td>0.281818</td>\n",
       "      <td>2.0</td>\n",
       "      <td>0.433333</td>\n",
       "      <td>0.300000</td>\n",
       "    </tr>\n",
       "    <tr>\n",
       "      <th>29261</th>\n",
       "      <td>2.0</td>\n",
       "      <td>0.186957</td>\n",
       "      <td>0.168966</td>\n",
       "      <td>0.0</td>\n",
       "      <td>0.100000</td>\n",
       "      <td>0.100000</td>\n",
       "      <td>2.0</td>\n",
       "      <td>0.385714</td>\n",
       "      <td>0.385714</td>\n",
       "      <td>2.0</td>\n",
       "      <td>0.433333</td>\n",
       "      <td>0.433333</td>\n",
       "    </tr>\n",
       "    <tr>\n",
       "      <th>29260</th>\n",
       "      <td>2.0</td>\n",
       "      <td>0.186957</td>\n",
       "      <td>0.168966</td>\n",
       "      <td>0.0</td>\n",
       "      <td>0.100000</td>\n",
       "      <td>0.100000</td>\n",
       "      <td>2.0</td>\n",
       "      <td>0.385714</td>\n",
       "      <td>0.385714</td>\n",
       "      <td>2.0</td>\n",
       "      <td>0.433333</td>\n",
       "      <td>0.433333</td>\n",
       "    </tr>\n",
       "    <tr>\n",
       "      <th>29272</th>\n",
       "      <td>19.0</td>\n",
       "      <td>0.926087</td>\n",
       "      <td>0.600000</td>\n",
       "      <td>16.0</td>\n",
       "      <td>0.827273</td>\n",
       "      <td>0.532432</td>\n",
       "      <td>4.0</td>\n",
       "      <td>0.671429</td>\n",
       "      <td>0.600000</td>\n",
       "      <td>3.0</td>\n",
       "      <td>0.600000</td>\n",
       "      <td>0.528571</td>\n",
       "    </tr>\n",
       "    <tr>\n",
       "      <th>29265</th>\n",
       "      <td>19.0</td>\n",
       "      <td>0.926087</td>\n",
       "      <td>0.575000</td>\n",
       "      <td>17.0</td>\n",
       "      <td>0.872727</td>\n",
       "      <td>0.535897</td>\n",
       "      <td>3.0</td>\n",
       "      <td>0.528571</td>\n",
       "      <td>0.528571</td>\n",
       "      <td>3.0</td>\n",
       "      <td>0.600000</td>\n",
       "      <td>0.600000</td>\n",
       "    </tr>\n",
       "    <tr>\n",
       "      <th>29273</th>\n",
       "      <td>20.0</td>\n",
       "      <td>0.969565</td>\n",
       "      <td>1.052381</td>\n",
       "      <td>18.0</td>\n",
       "      <td>0.918182</td>\n",
       "      <td>1.000000</td>\n",
       "      <td>4.0</td>\n",
       "      <td>0.671429</td>\n",
       "      <td>0.766667</td>\n",
       "      <td>4.0</td>\n",
       "      <td>0.766667</td>\n",
       "      <td>0.900000</td>\n",
       "    </tr>\n",
       "  </tbody>\n",
       "</table>\n",
       "<p>29274 rows × 12 columns</p>\n",
       "</div>"
      ],
      "text/plain": [
       "          0         1         2     0         1         2    0         1  \\\n",
       "0      17.0  0.323684  0.469565   9.0  0.220000  0.300000  2.0  0.281818   \n",
       "19     14.0  0.284211  0.600000   7.0  0.193333  0.359259  2.0  0.281818   \n",
       "18     10.0  0.231579  0.688235   5.0  0.166667  0.412500  2.0  0.281818   \n",
       "17     20.0  0.363158  0.500000  12.0  0.260000  0.344898  2.0  0.281818   \n",
       "15     19.0  0.350000  0.458491  12.0  0.260000  0.330769  2.0  0.281818   \n",
       "14     20.0  0.363158  0.500000  14.0  0.286667  0.385714  2.0  0.281818   \n",
       "13     26.0  0.442105  0.665217  18.0  0.340000  0.500000  2.0  0.281818   \n",
       "12     11.0  0.244737  0.523077   4.0  0.153333  0.260000  2.0  0.281818   \n",
       "11     21.0  0.376316  0.520000  12.0  0.260000  0.344898  2.0  0.281818   \n",
       "10      8.0  0.205263  0.375862   4.0  0.153333  0.242857  2.0  0.281818   \n",
       "16      9.0  0.218421  0.421429   4.0  0.153333  0.248148  2.0  0.281818   \n",
       "8      21.0  0.376316  0.556522  13.0  0.273333  0.388889  2.0  0.281818   \n",
       "7      22.0  0.389474  0.485965  13.0  0.273333  0.332143  2.0  0.281818   \n",
       "6      24.0  0.415789  0.645455  17.0  0.326667  0.495349  2.0  0.281818   \n",
       "5      21.0  0.376316  0.537500  13.0  0.273333  0.376596  2.0  0.281818   \n",
       "4       9.0  0.218421  0.662500   3.0  0.140000  0.300000  2.0  0.281818   \n",
       "3      10.0  0.231579  0.394118   4.0  0.153333  0.221212  2.0  0.281818   \n",
       "2      10.0  0.231579  0.444828   4.0  0.153333  0.242857  2.0  0.281818   \n",
       "1      21.0  0.376316  0.520000  12.0  0.260000  0.344898  2.0  0.281818   \n",
       "9       7.0  0.192105  0.341379   0.0  0.100000  0.100000  2.0  0.281818   \n",
       "36      2.0  0.385714  0.322222   0.0  0.100000  0.100000  2.0  0.500000   \n",
       "37      2.0  0.385714  0.385714   0.0  0.100000  0.100000  2.0  0.500000   \n",
       "38      2.0  0.385714  0.350000   0.0  0.100000  0.100000  2.0  0.500000   \n",
       "39      2.0  0.385714  0.180000   0.0  0.100000  0.100000  2.0  0.500000   \n",
       "40      2.0  0.385714  0.225000   0.0  0.100000  0.100000  2.0  0.500000   \n",
       "41      3.0  0.528571  0.300000   0.0  0.100000  0.100000  2.0  0.500000   \n",
       "45      3.0  0.528571  0.250000   0.0  0.100000  0.100000  2.0  0.500000   \n",
       "43      3.0  0.528571  0.185714   0.0  0.100000  0.100000  2.0  0.500000   \n",
       "44      3.0  0.528571  0.185714   0.0  0.100000  0.100000  2.0  0.500000   \n",
       "46      2.0  0.385714  0.266667   0.0  0.100000  0.100000  2.0  0.500000   \n",
       "...     ...       ...       ...   ...       ...       ...  ...       ...   \n",
       "29236   2.0  0.205263  0.266667   0.0  0.100000  0.100000  2.0  0.433333   \n",
       "29235  12.0  0.731579  0.731579  11.0  0.711111  0.711111  3.0  0.600000   \n",
       "29234  15.0  0.889474  0.889474  15.0  0.933333  0.933333  3.0  0.600000   \n",
       "29240   2.0  0.205263  0.233333   0.0  0.100000  0.100000  2.0  0.433333   \n",
       "29259  23.0  0.611111  0.921429  22.0  0.600000  0.914815  4.0  0.544444   \n",
       "29258  23.0  0.611111  0.921429  22.0  0.600000  0.914815  4.0  0.544444   \n",
       "29256  13.0  0.388889  0.912500  10.0  0.327273  0.766667  3.0  0.433333   \n",
       "29255  23.0  0.611111  0.406667  17.0  0.486364  0.329730  2.0  0.322222   \n",
       "29254  18.0  0.500000  0.295652  13.0  0.395455  0.242857  2.0  0.322222   \n",
       "29257  12.0  0.366667  0.340000   5.0  0.213636  0.202041  2.0  0.322222   \n",
       "29252  22.0  0.588889  0.397297  16.0  0.463636  0.319178  2.0  0.322222   \n",
       "29251  22.0  0.588889  0.678947  19.0  0.531818  0.613514  3.0  0.433333   \n",
       "29250  12.0  0.366667  0.731579   9.0  0.304545  0.600000  2.0  0.322222   \n",
       "29249  23.0  0.611111  0.560000  21.0  0.577273  0.528571  3.0  0.433333   \n",
       "29248  25.0  0.655556  0.631915  22.0  0.600000  0.578261  3.0  0.433333   \n",
       "29253  22.0  0.588889  0.423529  15.0  0.440909  0.323881  2.0  0.322222   \n",
       "29271  17.0  0.839130  0.729630  13.0  0.690909  0.600000  3.0  0.528571   \n",
       "29270  18.0  0.882609  0.475000  15.0  0.781818  0.419149  3.0  0.528571   \n",
       "29269  19.0  0.926087  0.387879  16.0  0.827273  0.346154  4.0  0.671429   \n",
       "29268  19.0  0.926087  0.600000  16.0  0.827273  0.532432  3.0  0.528571   \n",
       "29267  19.0  0.926087  0.563415  16.0  0.827273  0.500000  4.0  0.671429   \n",
       "29266  19.0  0.926087  0.675758  16.0  0.827273  0.600000  3.0  0.528571   \n",
       "29263  19.0  0.926087  0.363889  16.0  0.827273  0.325352  4.0  0.671429   \n",
       "29264  20.0  0.969565  1.052381  18.0  0.918182  1.000000  4.0  0.671429   \n",
       "29262   4.0  0.273913  0.166667   0.0  0.100000  0.100000  2.0  0.385714   \n",
       "29261   2.0  0.186957  0.168966   0.0  0.100000  0.100000  2.0  0.385714   \n",
       "29260   2.0  0.186957  0.168966   0.0  0.100000  0.100000  2.0  0.385714   \n",
       "29272  19.0  0.926087  0.600000  16.0  0.827273  0.532432  4.0  0.671429   \n",
       "29265  19.0  0.926087  0.575000  17.0  0.872727  0.535897  3.0  0.528571   \n",
       "29273  20.0  0.969565  1.052381  18.0  0.918182  1.000000  4.0  0.671429   \n",
       "\n",
       "              2    0         1         2  \n",
       "0      0.322222  2.0  0.300000  0.350000  \n",
       "19     0.385714  2.0  0.300000  0.433333  \n",
       "18     0.433333  2.0  0.300000  0.500000  \n",
       "17     0.322222  2.0  0.300000  0.350000  \n",
       "15     0.350000  2.0  0.300000  0.385714  \n",
       "14     0.350000  2.0  0.300000  0.385714  \n",
       "13     0.350000  2.0  0.300000  0.385714  \n",
       "12     0.385714  2.0  0.300000  0.433333  \n",
       "11     0.350000  2.0  0.300000  0.385714  \n",
       "10     0.385714  2.0  0.300000  0.433333  \n",
       "16     0.385714  2.0  0.300000  0.433333  \n",
       "8      0.322222  2.0  0.300000  0.350000  \n",
       "7      0.322222  2.0  0.300000  0.350000  \n",
       "6      0.350000  2.0  0.300000  0.385714  \n",
       "5      0.322222  2.0  0.300000  0.350000  \n",
       "4      0.433333  2.0  0.300000  0.500000  \n",
       "3      0.385714  2.0  0.300000  0.433333  \n",
       "2      0.385714  2.0  0.300000  0.433333  \n",
       "1      0.350000  2.0  0.300000  0.385714  \n",
       "9      0.385714  2.0  0.300000  0.433333  \n",
       "36     0.500000  2.0  0.600000  0.600000  \n",
       "37     0.500000  2.0  0.600000  0.600000  \n",
       "38     0.500000  2.0  0.600000  0.600000  \n",
       "39     0.385714  2.0  0.600000  0.433333  \n",
       "40     0.433333  2.0  0.600000  0.500000  \n",
       "41     0.433333  2.0  0.600000  0.500000  \n",
       "45     0.385714  2.0  0.600000  0.433333  \n",
       "43     0.385714  2.0  0.600000  0.433333  \n",
       "44     0.385714  2.0  0.600000  0.433333  \n",
       "46     0.500000  2.0  0.600000  0.600000  \n",
       "...         ...  ...       ...       ...  \n",
       "29236  0.500000  2.0  0.500000  0.600000  \n",
       "29235  0.600000  3.0  0.700000  0.700000  \n",
       "29234  0.600000  3.0  0.700000  0.700000  \n",
       "29240  0.433333  2.0  0.500000  0.500000  \n",
       "29259  0.671429  3.0  0.475000  0.600000  \n",
       "29258  0.671429  3.0  0.475000  0.600000  \n",
       "29256  0.600000  2.0  0.350000  0.500000  \n",
       "29255  0.242857  2.0  0.350000  0.253846  \n",
       "29254  0.225000  2.0  0.350000  0.233333  \n",
       "29257  0.350000  2.0  0.350000  0.385714  \n",
       "29252  0.266667  2.0  0.350000  0.281818  \n",
       "29251  0.475000  2.0  0.350000  0.385714  \n",
       "29250  0.433333  2.0  0.350000  0.500000  \n",
       "29249  0.433333  2.0  0.350000  0.350000  \n",
       "29248  0.433333  2.0  0.350000  0.350000  \n",
       "29253  0.281818  2.0  0.350000  0.300000  \n",
       "29271  0.528571  2.0  0.433333  0.433333  \n",
       "29270  0.475000  2.0  0.433333  0.385714  \n",
       "29269  0.500000  2.0  0.433333  0.322222  \n",
       "29268  0.528571  2.0  0.433333  0.433333  \n",
       "29267  0.600000  3.0  0.600000  0.528571  \n",
       "29266  0.528571  2.0  0.433333  0.433333  \n",
       "29263  0.463636  3.0  0.600000  0.400000  \n",
       "29264  0.766667  4.0  0.766667  0.900000  \n",
       "29262  0.281818  2.0  0.433333  0.300000  \n",
       "29261  0.385714  2.0  0.433333  0.433333  \n",
       "29260  0.385714  2.0  0.433333  0.433333  \n",
       "29272  0.600000  3.0  0.600000  0.528571  \n",
       "29265  0.528571  3.0  0.600000  0.600000  \n",
       "29273  0.766667  4.0  0.766667  0.900000  \n",
       "\n",
       "[29274 rows x 12 columns]"
      ]
     },
     "execution_count": 469,
     "metadata": {},
     "output_type": "execute_result"
    }
   ],
   "source": [
    "train_factors"
   ]
  },
  {
   "cell_type": "markdown",
   "metadata": {},
   "source": [
    "# fit"
   ]
  },
  {
   "cell_type": "markdown",
   "metadata": {},
   "source": [
    "Обучаем модель"
   ]
  },
  {
   "cell_type": "code",
   "execution_count": 470,
   "metadata": {
    "ExecuteTime": {
     "end_time": "2018-10-26T16:30:02.670921Z",
     "start_time": "2018-10-26T16:30:01.481328Z"
    }
   },
   "outputs": [
    {
     "data": {
      "text/plain": [
       "XGBRegressor(base_score=0.5, booster='gbtree', colsample_bylevel=1,\n",
       "       colsample_bytree=1, gamma=0, learning_rate=0.1, max_delta_step=0,\n",
       "       max_depth=3, min_child_weight=1, missing=None, n_estimators=100,\n",
       "       n_jobs=1, nthread=None, objective='reg:linear', random_state=0,\n",
       "       reg_alpha=0, reg_lambda=1, scale_pos_weight=1, seed=None,\n",
       "       silent=True, subsample=1)"
      ]
     },
     "execution_count": 470,
     "metadata": {},
     "output_type": "execute_result"
    }
   ],
   "source": [
    "clf = XGBRegressor(n_estimators=100)\n",
    "clf.fit(train_factors.values, train_pool[['relevance']].values)"
   ]
  },
  {
   "cell_type": "markdown",
   "metadata": {},
   "source": [
    "# baseline cv"
   ]
  },
  {
   "cell_type": "code",
   "execution_count": 471,
   "metadata": {
    "ExecuteTime": {
     "end_time": "2018-10-26T16:30:02.678458Z",
     "start_time": "2018-10-26T16:30:02.674899Z"
    }
   },
   "outputs": [],
   "source": [
    "from sklearn.model_selection import cross_val_predict, GroupKFold, cross_val_score"
   ]
  },
  {
   "cell_type": "code",
   "execution_count": 472,
   "metadata": {
    "ExecuteTime": {
     "end_time": "2018-10-26T16:30:07.558599Z",
     "start_time": "2018-10-26T16:30:02.680445Z"
    }
   },
   "outputs": [
    {
     "data": {
      "text/plain": [
       "0.7248211594405837"
      ]
     },
     "execution_count": 472,
     "metadata": {},
     "output_type": "execute_result"
    }
   ],
   "source": [
    "clf = XGBRegressor(n_estimators=100)\n",
    "baseline_pred = cross_val_predict(\n",
    "    clf,\n",
    "    train_factors.values,\n",
    "    train_pool[['relevance']].values,\n",
    "    groups=train_pool.query_id.values,\n",
    "    cv=5)\n",
    "ndcg(train_pool.relevance.values, baseline_pred, train_pool.query_id.values)"
   ]
  },
  {
   "cell_type": "code",
   "execution_count": 473,
   "metadata": {
    "ExecuteTime": {
     "end_time": "2018-10-26T16:30:07.563112Z",
     "start_time": "2018-10-26T16:30:07.560629Z"
    }
   },
   "outputs": [],
   "source": [
    "# from sklearn.linear_model import LinearRegression\n",
    "# clf = LinearRegression()\n",
    "# lr_pred = cross_val_predict(\n",
    "#     clf,\n",
    "#     X=train_factors.values,\n",
    "#     y=train_pool[['relevance']].values,\n",
    "#     groups=train_pool.query_id.values,\n",
    "#     cv=5)\n",
    "# ndcg(train_pool.relevance.values, lr_pred, train_pool.query_id.values)"
   ]
  },
  {
   "cell_type": "code",
   "execution_count": 474,
   "metadata": {
    "ExecuteTime": {
     "end_time": "2018-10-26T16:30:07.760674Z",
     "start_time": "2018-10-26T16:30:07.565117Z"
    }
   },
   "outputs": [],
   "source": [
    "# from sklearn.svm import SVR\n",
    "# clf = SVR()\n",
    "# svr_pred = cross_val_predict(\n",
    "#     clf,\n",
    "#     X=train_factors.values,\n",
    "#     y=train_pool[['relevance']].values,\n",
    "#     groups=train_pool.query_id.values,\n",
    "#     cv=5)\n",
    "# ndcg(train_pool.relevance.values, svr_pred, train_pool.query_id.values)"
   ]
  },
  {
   "cell_type": "markdown",
   "metadata": {},
   "source": [
    "# ~~sklearn api~~"
   ]
  },
  {
   "cell_type": "code",
   "execution_count": 476,
   "metadata": {
    "ExecuteTime": {
     "end_time": "2018-10-26T16:30:08.287405Z",
     "start_time": "2018-10-26T16:30:07.990692Z"
    }
   },
   "outputs": [],
   "source": [
    "kf = GroupKFold(4)"
   ]
  },
  {
   "cell_type": "code",
   "execution_count": 475,
   "metadata": {
    "ExecuteTime": {
     "end_time": "2018-10-26T16:30:07.988658Z",
     "start_time": "2018-10-26T16:30:07.762679Z"
    }
   },
   "outputs": [],
   "source": [
    "from sklearn.base import clone\n",
    "\n",
    "def cross_val_predict_custom(train_pool=train_pool, train_factors=train_factors, cv_n=5, \n",
    "                             params={'objective': 'rank:pairwise', 'silent': True}, n_trees=50):\n",
    "    kf = GroupKFold(cv_n)\n",
    "    cv_preds = np.zeros(train_pool.shape[0])\n",
    "    for tr_i, te_i in kf.split(train_factors.values, train_pool.relevance.values, train_pool.query_id.values):\n",
    "        tr_i = sorted(tr_i)\n",
    "        te_i = sorted(te_i)\n",
    "        \n",
    "        train_queries = train_pool.query_id.iloc[tr_i].drop_duplicates().values\n",
    "        test_queries = train_pool.query_id.iloc[te_i].drop_duplicates().values\n",
    "        \n",
    "        train_dmatrix = xgb.DMatrix(train_factors.values[tr_i], train_pool.relevance.values[tr_i])\n",
    "        train_dmatrix.set_group(train_group_sizes.loc[train_queries].values)\n",
    "\n",
    "        test_dmatrix = xgb.DMatrix(train_factors.values[te_i])\n",
    "        test_dmatrix.set_group(train_group_sizes.loc[test_queries].values)\n",
    "        \n",
    "        regr = xgb.train(params, train_dmatrix, n_trees)\n",
    "        cv_preds[te_i] = regr.predict(test_dmatrix)\n",
    "    return cv_preds, params"
   ]
  },
  {
   "cell_type": "code",
   "execution_count": 495,
   "metadata": {
    "ExecuteTime": {
     "end_time": "2018-10-26T16:44:24.977086Z",
     "start_time": "2018-10-26T16:44:21.531225Z"
    }
   },
   "outputs": [
    {
     "name": "stderr",
     "output_type": "stream",
     "text": [
      "D:\\Courses\\shad2018\\ML\\competition2\\metrics.py:147: RuntimeWarning: invalid value encountered in double_scalars\n",
      "  return actual / best\n"
     ]
    },
    {
     "data": {
      "text/plain": [
       "0.7489986422667344"
      ]
     },
     "execution_count": 495,
     "metadata": {},
     "output_type": "execute_result"
    }
   ],
   "source": [
    "cv_p, params = cross_val_predict_custom(params={\n",
    "                'objective': 'rank:pairwise', \n",
    "                'silent': True,\n",
    "                'max_depth': 4,\n",
    "                'colsample_bytree': colsample_bytree\n",
    "    #     'colsample_bytree': 0.6000000000000001,\n",
    "    #     'eta': 0.07500000000000001,\n",
    "    #     'gamma': 0.8500000000000001,\n",
    "            },n_trees= 50)\n",
    "ndcg(train_pool.relevance.values, cv_p, train_pool.query_id.values)"
   ]
  },
  {
   "cell_type": "code",
   "execution_count": 496,
   "metadata": {
    "ExecuteTime": {
     "end_time": "2018-10-26T16:44:43.013770Z",
     "start_time": "2018-10-26T16:44:43.009783Z"
    }
   },
   "outputs": [
    {
     "data": {
      "text/plain": [
       "{'objective': 'rank:pairwise',\n",
       " 'silent': True,\n",
       " 'max_depth': 4,\n",
       " 'colsample_bytree': 1.0}"
      ]
     },
     "execution_count": 496,
     "metadata": {},
     "output_type": "execute_result"
    }
   ],
   "source": [
    "params"
   ]
  },
  {
   "cell_type": "code",
   "execution_count": null,
   "metadata": {},
   "outputs": [],
   "source": []
  },
  {
   "cell_type": "code",
   "execution_count": 478,
   "metadata": {
    "ExecuteTime": {
     "end_time": "2018-10-26T16:30:58.293993Z",
     "start_time": "2018-10-26T16:30:11.813357Z"
    },
    "scrolled": true
   },
   "outputs": [
    {
     "name": "stderr",
     "output_type": "stream",
     "text": [
      "D:\\Courses\\shad2018\\ML\\competition2\\metrics.py:147: RuntimeWarning: invalid value encountered in double_scalars\n",
      "  return actual / best\n"
     ]
    },
    {
     "name": "stdout",
     "output_type": "stream",
     "text": [
      "{'n_trees': 20, 'max_depth': 2, 'colsample_bytree': 1} 0.7452805472945973\n"
     ]
    },
    {
     "name": "stderr",
     "output_type": "stream",
     "text": [
      "D:\\Courses\\shad2018\\ML\\competition2\\metrics.py:147: RuntimeWarning: invalid value encountered in double_scalars\n",
      "  return actual / best\n"
     ]
    },
    {
     "name": "stdout",
     "output_type": "stream",
     "text": [
      "{'n_trees': 20, 'max_depth': 3, 'colsample_bytree': 1} 0.7473062775261374\n"
     ]
    },
    {
     "name": "stderr",
     "output_type": "stream",
     "text": [
      "D:\\Courses\\shad2018\\ML\\competition2\\metrics.py:147: RuntimeWarning: invalid value encountered in double_scalars\n",
      "  return actual / best\n"
     ]
    },
    {
     "name": "stdout",
     "output_type": "stream",
     "text": [
      "{'n_trees': 20, 'max_depth': 4, 'colsample_bytree': 1} 0.7479850712864915\n"
     ]
    },
    {
     "name": "stderr",
     "output_type": "stream",
     "text": [
      "D:\\Courses\\shad2018\\ML\\competition2\\metrics.py:147: RuntimeWarning: invalid value encountered in double_scalars\n",
      "  return actual / best\n",
      "D:\\Courses\\shad2018\\ML\\competition2\\metrics.py:147: RuntimeWarning: invalid value encountered in double_scalars\n",
      "  return actual / best\n",
      "D:\\Courses\\shad2018\\ML\\competition2\\metrics.py:147: RuntimeWarning: invalid value encountered in double_scalars\n",
      "  return actual / best\n"
     ]
    },
    {
     "name": "stdout",
     "output_type": "stream",
     "text": [
      "{'n_trees': 30, 'max_depth': 3, 'colsample_bytree': 1} 0.7506089909923365\n"
     ]
    },
    {
     "name": "stderr",
     "output_type": "stream",
     "text": [
      "D:\\Courses\\shad2018\\ML\\competition2\\metrics.py:147: RuntimeWarning: invalid value encountered in double_scalars\n",
      "  return actual / best\n"
     ]
    },
    {
     "name": "stdout",
     "output_type": "stream",
     "text": [
      "{'n_trees': 30, 'max_depth': 4, 'colsample_bytree': 1} 0.7515525047713881\n"
     ]
    },
    {
     "name": "stderr",
     "output_type": "stream",
     "text": [
      "D:\\Courses\\shad2018\\ML\\competition2\\metrics.py:147: RuntimeWarning: invalid value encountered in double_scalars\n",
      "  return actual / best\n",
      "D:\\Courses\\shad2018\\ML\\competition2\\metrics.py:147: RuntimeWarning: invalid value encountered in double_scalars\n",
      "  return actual / best\n",
      "D:\\Courses\\shad2018\\ML\\competition2\\metrics.py:147: RuntimeWarning: invalid value encountered in double_scalars\n",
      "  return actual / best\n",
      "D:\\Courses\\shad2018\\ML\\competition2\\metrics.py:147: RuntimeWarning: invalid value encountered in double_scalars\n",
      "  return actual / best\n",
      "D:\\Courses\\shad2018\\ML\\competition2\\metrics.py:147: RuntimeWarning: invalid value encountered in double_scalars\n",
      "  return actual / best\n",
      "D:\\Courses\\shad2018\\ML\\competition2\\metrics.py:147: RuntimeWarning: invalid value encountered in double_scalars\n",
      "  return actual / best\n",
      "D:\\Courses\\shad2018\\ML\\competition2\\metrics.py:147: RuntimeWarning: invalid value encountered in double_scalars\n",
      "  return actual / best\n",
      "D:\\Courses\\shad2018\\ML\\competition2\\metrics.py:147: RuntimeWarning: invalid value encountered in double_scalars\n",
      "  return actual / best\n",
      "D:\\Courses\\shad2018\\ML\\competition2\\metrics.py:147: RuntimeWarning: invalid value encountered in double_scalars\n",
      "  return actual / best\n"
     ]
    }
   ],
   "source": [
    "p = {}\n",
    "met = 0.7\n",
    "for n_trees in [20, 30, 50, 80]:\n",
    "    for max_depth in [2, 3, 4, 5]:\n",
    "        for colsample_bytree in [1]:\n",
    "#         np.linspace(0.6, 1, 5):\n",
    "            cv_p, params = cross_val_predict_custom(params={\n",
    "                'objective': 'rank:pairwise', \n",
    "                'silent': True,\n",
    "                'max_depth': max_depth,\n",
    "                'colsample_bytree': colsample_bytree\n",
    "    #     'colsample_bytree': 0.6000000000000001,\n",
    "    #     'eta': 0.07500000000000001,\n",
    "    #     'gamma': 0.8500000000000001,\n",
    "            },n_trees= n_trees)\n",
    "\n",
    "            m2 = ndcg(train_pool.relevance.values, cv_p, train_pool.query_id.values)\n",
    "            if m2 > met:\n",
    "                p['n_trees'] = n_trees\n",
    "                p['max_depth'] = max_depth\n",
    "                p['colsample_bytree'] = colsample_bytree\n",
    "                met = m2\n",
    "                print(p, m2)"
   ]
  },
  {
   "cell_type": "code",
   "execution_count": 480,
   "metadata": {
    "ExecuteTime": {
     "end_time": "2018-10-26T16:32:44.677422Z",
     "start_time": "2018-10-26T16:32:19.191985Z"
    }
   },
   "outputs": [
    {
     "name": "stderr",
     "output_type": "stream",
     "text": [
      "D:\\Courses\\shad2018\\ML\\competition2\\metrics.py:147: RuntimeWarning: invalid value encountered in double_scalars\n",
      "  return actual / best\n",
      "D:\\Courses\\shad2018\\ML\\competition2\\metrics.py:147: RuntimeWarning: invalid value encountered in double_scalars\n",
      "  return actual / best\n"
     ]
    },
    {
     "name": "stdout",
     "output_type": "stream",
     "text": [
      "{'n_trees': 40, 'max_depth': 3, 'colsample_bytree': 1} 0.7519392293035174\n"
     ]
    },
    {
     "name": "stderr",
     "output_type": "stream",
     "text": [
      "D:\\Courses\\shad2018\\ML\\competition2\\metrics.py:147: RuntimeWarning: invalid value encountered in double_scalars\n",
      "  return actual / best\n",
      "D:\\Courses\\shad2018\\ML\\competition2\\metrics.py:147: RuntimeWarning: invalid value encountered in double_scalars\n",
      "  return actual / best\n",
      "D:\\Courses\\shad2018\\ML\\competition2\\metrics.py:147: RuntimeWarning: invalid value encountered in double_scalars\n",
      "  return actual / best\n",
      "D:\\Courses\\shad2018\\ML\\competition2\\metrics.py:147: RuntimeWarning: invalid value encountered in double_scalars\n",
      "  return actual / best\n",
      "D:\\Courses\\shad2018\\ML\\competition2\\metrics.py:147: RuntimeWarning: invalid value encountered in double_scalars\n",
      "  return actual / best\n",
      "D:\\Courses\\shad2018\\ML\\competition2\\metrics.py:147: RuntimeWarning: invalid value encountered in double_scalars\n",
      "  return actual / best\n"
     ]
    }
   ],
   "source": [
    "for n_trees in [40, 60]:\n",
    "    for max_depth in [2, 3, 4, 5]:\n",
    "        for colsample_bytree in [1]:\n",
    "#         np.linspace(0.6, 1, 5):\n",
    "            cv_p, params = cross_val_predict_custom(params={\n",
    "                'objective': 'rank:pairwise', \n",
    "                'silent': True,\n",
    "                'max_depth': max_depth,\n",
    "                'colsample_bytree': colsample_bytree\n",
    "    #     'colsample_bytree': 0.6000000000000001,\n",
    "    #     'eta': 0.07500000000000001,\n",
    "    #     'gamma': 0.8500000000000001,\n",
    "            },n_trees= n_trees)\n",
    "\n",
    "            m2 = ndcg(train_pool.relevance.values, cv_p, train_pool.query_id.values)\n",
    "            if m2 > met:\n",
    "                p['n_trees'] = n_trees\n",
    "                p['max_depth'] = max_depth\n",
    "                p['colsample_bytree'] = colsample_bytree\n",
    "                met = m2\n",
    "                print(p, m2)"
   ]
  },
  {
   "cell_type": "code",
   "execution_count": 481,
   "metadata": {
    "ExecuteTime": {
     "end_time": "2018-10-26T16:34:57.160653Z",
     "start_time": "2018-10-26T16:33:06.144890Z"
    }
   },
   "outputs": [
    {
     "name": "stderr",
     "output_type": "stream",
     "text": [
      "D:\\Courses\\shad2018\\ML\\competition2\\metrics.py:147: RuntimeWarning: invalid value encountered in double_scalars\n",
      "  return actual / best\n",
      "D:\\Courses\\shad2018\\ML\\competition2\\metrics.py:147: RuntimeWarning: invalid value encountered in double_scalars\n",
      "  return actual / best\n",
      "D:\\Courses\\shad2018\\ML\\competition2\\metrics.py:147: RuntimeWarning: invalid value encountered in double_scalars\n",
      "  return actual / best\n",
      "D:\\Courses\\shad2018\\ML\\competition2\\metrics.py:147: RuntimeWarning: invalid value encountered in double_scalars\n",
      "  return actual / best\n",
      "D:\\Courses\\shad2018\\ML\\competition2\\metrics.py:147: RuntimeWarning: invalid value encountered in double_scalars\n",
      "  return actual / best\n",
      "D:\\Courses\\shad2018\\ML\\competition2\\metrics.py:147: RuntimeWarning: invalid value encountered in double_scalars\n",
      "  return actual / best\n",
      "D:\\Courses\\shad2018\\ML\\competition2\\metrics.py:147: RuntimeWarning: invalid value encountered in double_scalars\n",
      "  return actual / best\n"
     ]
    },
    {
     "name": "stdout",
     "output_type": "stream",
     "text": [
      "{'n_trees': 40, 'max_depth': 3, 'colsample_bytree': 0.7} 0.7524805727829385\n"
     ]
    },
    {
     "name": "stderr",
     "output_type": "stream",
     "text": [
      "D:\\Courses\\shad2018\\ML\\competition2\\metrics.py:147: RuntimeWarning: invalid value encountered in double_scalars\n",
      "  return actual / best\n"
     ]
    },
    {
     "name": "stdout",
     "output_type": "stream",
     "text": [
      "{'n_trees': 40, 'max_depth': 3, 'colsample_bytree': 0.8} 0.7527020681417089\n"
     ]
    },
    {
     "name": "stderr",
     "output_type": "stream",
     "text": [
      "D:\\Courses\\shad2018\\ML\\competition2\\metrics.py:147: RuntimeWarning: invalid value encountered in double_scalars\n",
      "  return actual / best\n",
      "D:\\Courses\\shad2018\\ML\\competition2\\metrics.py:147: RuntimeWarning: invalid value encountered in double_scalars\n",
      "  return actual / best\n",
      "D:\\Courses\\shad2018\\ML\\competition2\\metrics.py:147: RuntimeWarning: invalid value encountered in double_scalars\n",
      "  return actual / best\n",
      "D:\\Courses\\shad2018\\ML\\competition2\\metrics.py:147: RuntimeWarning: invalid value encountered in double_scalars\n",
      "  return actual / best\n",
      "D:\\Courses\\shad2018\\ML\\competition2\\metrics.py:147: RuntimeWarning: invalid value encountered in double_scalars\n",
      "  return actual / best\n",
      "D:\\Courses\\shad2018\\ML\\competition2\\metrics.py:147: RuntimeWarning: invalid value encountered in double_scalars\n",
      "  return actual / best\n",
      "D:\\Courses\\shad2018\\ML\\competition2\\metrics.py:147: RuntimeWarning: invalid value encountered in double_scalars\n",
      "  return actual / best\n",
      "D:\\Courses\\shad2018\\ML\\competition2\\metrics.py:147: RuntimeWarning: invalid value encountered in double_scalars\n",
      "  return actual / best\n",
      "D:\\Courses\\shad2018\\ML\\competition2\\metrics.py:147: RuntimeWarning: invalid value encountered in double_scalars\n",
      "  return actual / best\n",
      "D:\\Courses\\shad2018\\ML\\competition2\\metrics.py:147: RuntimeWarning: invalid value encountered in double_scalars\n",
      "  return actual / best\n",
      "D:\\Courses\\shad2018\\ML\\competition2\\metrics.py:147: RuntimeWarning: invalid value encountered in double_scalars\n",
      "  return actual / best\n",
      "D:\\Courses\\shad2018\\ML\\competition2\\metrics.py:147: RuntimeWarning: invalid value encountered in double_scalars\n",
      "  return actual / best\n",
      "D:\\Courses\\shad2018\\ML\\competition2\\metrics.py:147: RuntimeWarning: invalid value encountered in double_scalars\n",
      "  return actual / best\n",
      "D:\\Courses\\shad2018\\ML\\competition2\\metrics.py:147: RuntimeWarning: invalid value encountered in double_scalars\n",
      "  return actual / best\n",
      "D:\\Courses\\shad2018\\ML\\competition2\\metrics.py:147: RuntimeWarning: invalid value encountered in double_scalars\n",
      "  return actual / best\n",
      "D:\\Courses\\shad2018\\ML\\competition2\\metrics.py:147: RuntimeWarning: invalid value encountered in double_scalars\n",
      "  return actual / best\n",
      "D:\\Courses\\shad2018\\ML\\competition2\\metrics.py:147: RuntimeWarning: invalid value encountered in double_scalars\n",
      "  return actual / best\n",
      "D:\\Courses\\shad2018\\ML\\competition2\\metrics.py:147: RuntimeWarning: invalid value encountered in double_scalars\n",
      "  return actual / best\n",
      "D:\\Courses\\shad2018\\ML\\competition2\\metrics.py:147: RuntimeWarning: invalid value encountered in double_scalars\n",
      "  return actual / best\n",
      "D:\\Courses\\shad2018\\ML\\competition2\\metrics.py:147: RuntimeWarning: invalid value encountered in double_scalars\n",
      "  return actual / best\n"
     ]
    },
    {
     "name": "stdout",
     "output_type": "stream",
     "text": [
      "{'n_trees': 60, 'max_depth': 3, 'colsample_bytree': 0.8} 0.7528436813752863\n"
     ]
    },
    {
     "name": "stderr",
     "output_type": "stream",
     "text": [
      "D:\\Courses\\shad2018\\ML\\competition2\\metrics.py:147: RuntimeWarning: invalid value encountered in double_scalars\n",
      "  return actual / best\n",
      "D:\\Courses\\shad2018\\ML\\competition2\\metrics.py:147: RuntimeWarning: invalid value encountered in double_scalars\n",
      "  return actual / best\n",
      "D:\\Courses\\shad2018\\ML\\competition2\\metrics.py:147: RuntimeWarning: invalid value encountered in double_scalars\n",
      "  return actual / best\n",
      "D:\\Courses\\shad2018\\ML\\competition2\\metrics.py:147: RuntimeWarning: invalid value encountered in double_scalars\n",
      "  return actual / best\n",
      "D:\\Courses\\shad2018\\ML\\competition2\\metrics.py:147: RuntimeWarning: invalid value encountered in double_scalars\n",
      "  return actual / best\n",
      "D:\\Courses\\shad2018\\ML\\competition2\\metrics.py:147: RuntimeWarning: invalid value encountered in double_scalars\n",
      "  return actual / best\n",
      "D:\\Courses\\shad2018\\ML\\competition2\\metrics.py:147: RuntimeWarning: invalid value encountered in double_scalars\n",
      "  return actual / best\n",
      "D:\\Courses\\shad2018\\ML\\competition2\\metrics.py:147: RuntimeWarning: invalid value encountered in double_scalars\n",
      "  return actual / best\n",
      "D:\\Courses\\shad2018\\ML\\competition2\\metrics.py:147: RuntimeWarning: invalid value encountered in double_scalars\n",
      "  return actual / best\n",
      "D:\\Courses\\shad2018\\ML\\competition2\\metrics.py:147: RuntimeWarning: invalid value encountered in double_scalars\n",
      "  return actual / best\n",
      "D:\\Courses\\shad2018\\ML\\competition2\\metrics.py:147: RuntimeWarning: invalid value encountered in double_scalars\n",
      "  return actual / best\n",
      "D:\\Courses\\shad2018\\ML\\competition2\\metrics.py:147: RuntimeWarning: invalid value encountered in double_scalars\n",
      "  return actual / best\n"
     ]
    }
   ],
   "source": [
    "for n_trees in [40, 60]:\n",
    "    for max_depth in [2, 3, 4, 5]:\n",
    "        for colsample_bytree in  np.linspace(0.6, 1, 5):\n",
    "            cv_p, params = cross_val_predict_custom(params={\n",
    "                'objective': 'rank:pairwise', \n",
    "                'silent': True,\n",
    "                'max_depth': max_depth,\n",
    "                'colsample_bytree': colsample_bytree\n",
    "    #     'colsample_bytree': 0.6000000000000001,\n",
    "    #     'eta': 0.07500000000000001,\n",
    "    #     'gamma': 0.8500000000000001,\n",
    "            },n_trees= n_trees)\n",
    "\n",
    "            m2 = ndcg(train_pool.relevance.values, cv_p, train_pool.query_id.values)\n",
    "            if m2 > met:\n",
    "                p['n_trees'] = n_trees\n",
    "                p['max_depth'] = max_depth\n",
    "                p['colsample_bytree'] = colsample_bytree\n",
    "                met = m2\n",
    "                print(p, m2)"
   ]
  },
  {
   "cell_type": "code",
   "execution_count": 482,
   "metadata": {
    "ExecuteTime": {
     "end_time": "2018-10-26T16:34:57.167663Z",
     "start_time": "2018-10-26T16:34:57.163656Z"
    }
   },
   "outputs": [
    {
     "data": {
      "text/plain": [
       "{'n_trees': 60, 'max_depth': 3, 'colsample_bytree': 0.8}"
      ]
     },
     "execution_count": 482,
     "metadata": {},
     "output_type": "execute_result"
    }
   ],
   "source": [
    "p"
   ]
  },
  {
   "cell_type": "code",
   "execution_count": 483,
   "metadata": {
    "ExecuteTime": {
     "end_time": "2018-10-26T16:35:06.597880Z",
     "start_time": "2018-10-26T16:35:06.297507Z"
    },
    "scrolled": true
   },
   "outputs": [
    {
     "data": {
      "text/plain": [
       "0.7405008303297754"
      ]
     },
     "execution_count": 483,
     "metadata": {},
     "output_type": "execute_result"
    }
   ],
   "source": [
    "ndcg(train_pool.relevance.values, cv_p, train_pool.query_id.values)"
   ]
  },
  {
   "cell_type": "markdown",
   "metadata": {},
   "source": [
    "# predict"
   ]
  },
  {
   "cell_type": "code",
   "execution_count": 484,
   "metadata": {
    "ExecuteTime": {
     "end_time": "2018-10-26T16:35:09.072445Z",
     "start_time": "2018-10-26T16:35:09.056431Z"
    }
   },
   "outputs": [],
   "source": [
    "train_dmatrix = xgb.DMatrix(train_factors.values, train_pool.relevance)\n",
    "train_dmatrix.set_group(train_group_sizes.values)"
   ]
  },
  {
   "cell_type": "code",
   "execution_count": 485,
   "metadata": {
    "ExecuteTime": {
     "end_time": "2018-10-26T16:35:09.601838Z",
     "start_time": "2018-10-26T16:35:09.591838Z"
    }
   },
   "outputs": [],
   "source": [
    "test_dmatrix = xgb.DMatrix(test_factors.values)\n",
    "test_dmatrix.set_group(test_group_sizes.values)"
   ]
  },
  {
   "cell_type": "code",
   "execution_count": 497,
   "metadata": {
    "ExecuteTime": {
     "end_time": "2018-10-26T16:45:02.921845Z",
     "start_time": "2018-10-26T16:45:02.146614Z"
    }
   },
   "outputs": [],
   "source": [
    "clf = xgb.train(params, train_dmatrix, 50)\n",
    "predictions = clf.predict(test_dmatrix)\n",
    "test_pool['relevance'] = predictions"
   ]
  },
  {
   "cell_type": "markdown",
   "metadata": {},
   "source": [
    "# save"
   ]
  },
  {
   "cell_type": "markdown",
   "metadata": {},
   "source": [
    "Сортируем организации по предсказанной релевантности для каждой организации и записываем их в файл"
   ]
  },
  {
   "cell_type": "code",
   "execution_count": 498,
   "metadata": {
    "ExecuteTime": {
     "end_time": "2018-10-26T16:45:08.843414Z",
     "start_time": "2018-10-26T16:45:08.787774Z"
    }
   },
   "outputs": [],
   "source": [
    "test_pool.sort_values(['query_id', 'relevance'], ascending=[True, False])[['query_id', 'org_id']].to_csv('submission3.csv', index=None)"
   ]
  },
  {
   "cell_type": "code",
   "execution_count": 488,
   "metadata": {
    "ExecuteTime": {
     "end_time": "2018-10-26T16:35:39.892054Z",
     "start_time": "2018-10-26T16:35:39.888043Z"
    }
   },
   "outputs": [
    {
     "data": {
      "text/plain": [
       "{'objective': 'rank:pairwise',\n",
       " 'silent': True,\n",
       " 'max_depth': 5,\n",
       " 'colsample_bytree': 1.0}"
      ]
     },
     "execution_count": 488,
     "metadata": {},
     "output_type": "execute_result"
    }
   ],
   "source": [
    "params"
   ]
  },
  {
   "cell_type": "code",
   "execution_count": null,
   "metadata": {},
   "outputs": [],
   "source": []
  }
 ],
 "metadata": {
  "kernelspec": {
   "display_name": "Python 3",
   "language": "python",
   "name": "python3"
  },
  "language_info": {
   "codemirror_mode": {
    "name": "ipython",
    "version": 3
   },
   "file_extension": ".py",
   "mimetype": "text/x-python",
   "name": "python",
   "nbconvert_exporter": "python",
   "pygments_lexer": "ipython3",
   "version": "3.6.6"
  },
  "toc": {
   "base_numbering": 1,
   "nav_menu": {},
   "number_sections": true,
   "sideBar": true,
   "skip_h1_title": false,
   "title_cell": "Table of Contents",
   "title_sidebar": "Contents",
   "toc_cell": true,
   "toc_position": {},
   "toc_section_display": true,
   "toc_window_display": true
  }
 },
 "nbformat": 4,
 "nbformat_minor": 2
}
