{
 "cells": [
  {
   "cell_type": "markdown",
   "metadata": {},
   "source": [
    "# Лабораторная работа 2. Ранжирование (11 баллов)\n",
    "\n",
    "Результат лабораторной работы − отчет. Мы предпочитаем принимать отчеты в формате ноутбуков IPython (ipynb-файл). Постарайтесь сделать ваш отчет интересным рассказом, последовательно отвечающим на вопросы из заданий. Помимо ответов на вопросы, в отчете так же должен быть код, однако чем меньше кода, тем лучше всем: нам − меньше проверять, вам — проще найти ошибку или дополнить эксперимент. При проверке оценивается четкость ответов на вопросы, аккуратность отчета и кода.\n",
    "\n",
    "### Оценивание и штрафы\n",
    "Каждая из задач имеет определенную «стоимость» (указана в скобках около задачи). Сдавать задание после указанного срока сдачи нельзя. «Похожие» решения считаются плагиатом и все задействованные студенты (в том числе те, у кого списали) не могут получить за него больше 0 баллов и понижают карму (подробнее о плагиате см. на странице курса). Если вы нашли решение какого-то из заданий в открытом источнике, необходимо прислать ссылку на этот источник (скорее всего вы будете не единственным, кто это нашел, поэтому чтобы исключить подозрение в плагиате, нам необходима ссылка на источник)."
   ]
  },
  {
   "cell_type": "markdown",
   "metadata": {},
   "source": [
    "## Поисковое ранжирование\n",
    "\n",
    "![](http://i.imgur.com/2QnD2nF.jpg)\n",
    "\n",
    "Задачу поискового ранжирования можно описать следующим образом: имеется множество документов $d \\in D$ и множество запросов $q \\in Q$. Требуется оценить *степень релевантности* документа по отношению к запросу: $(q, d) \\mapsto r$, относительно которой будет производиться ранжирование. Для восстановления этой зависимости используются методы машинного обучения. Обычно используется три типа:\n",
    " - признаки запроса $q$, например: мешок слов текста запроса, его длина, ...\n",
    " - документа $d$, например: значение PageRank, мешок слов, доменное имя, ...\n",
    " - пары $(q, d)$, например: число вхождений фразы из запроса $q$ в документе $d$, ...\n",
    "\n",
    "Одна из отличительных особенностей задачи ранжирования от классических задач машинного обучения заключается в том, что качество результата зависит не от предсказанных оценок релевантности, а от порядка следования документов в рамках конкретного запроса, т.е. важно не абсолютное значение релевантности (его достаточно трудно формализовать в виде числа), а то, более или менее релевантен документ, относительно других документов.\n",
    "### Подходы к решению задачи ранжирования\n",
    "Существуют 3 основных подхода, различие между которыми в используемой функции потерь:\n",
    "  \n",
    "1. **Pointwise подход**. В этом случае рассматривается *один объект* (в случае поискового ранжирования - конкретный документ) и функция потерь считается только по нему. Любой стандартный классификатор или регрессор может решать pointwise задачу ранжирования, обучившись предсказывать значение таргета. Итоговое ранжирование получается после сортировки документов к одному запросу по предсказанию такой модели.\n",
    "2. **Pairwise подход**. В рамках данной модели функция потерь вычисляется по *паре объектов*. Другими словами, функция потерь штрафует модель, если отражированная этой моделью пара документов оказалась в неправильном порядке.\n",
    "3. **Listwise подход**. Этот подход использует все объекты для вычисления функции потерь, стараясь явно оптимизировать правильный порядок.\n",
    "\n",
    "### Оценка качества\n",
    "\n",
    "Для оценивания качества ранжирования найденных документов в поиске используются асессорские оценки. Само оценивание происходит на скрытых от обучения запросах $Queries$. Для этого традиционно используется метрика *DCG* ([Discounted Cumulative Gain](https://en.wikipedia.org/wiki/Discounted_cumulative_gain)) и ее нормализованный вариант — *nDCG*, всегда принимающий значения от 0 до 1.\n",
    "Для одного запроса DCG считается следующим образом:\n",
    "$$ DCG = \\sum_{i=1}^P\\frac{(2^{rel_i} - 1)}{\\log_2(i+1)}, $$\n",
    "\n",
    "где $P$ — число документов в поисковой выдаче, $rel_i$ — релевантность (асессорская оценка) документа, находящегося на i-той позиции.\n",
    "\n",
    "*IDCG* — идеальное (наибольшее из возможных) значение *DCG*, может быть получено путем ранжирования документов по убыванию асессорских оценок.\n",
    "\n",
    "Итоговая формула для расчета *nDCG*:\n",
    "\n",
    "$$nDCG = \\frac{DCG}{IDCG} \\in [0, 1].$$\n",
    "\n",
    "Чтобы оценить значение *nDCG* на выборке $Queries$ ($nDCG_{Queries}$) размера $N$, необходимо усреднить значение *nDCG* по всем запросам  выборки:\n",
    "$$nDCG_{Queries} = \\frac{1}{N}\\sum_{q \\in Queries}nDCG(q).$$\n",
    "\n",
    "Пример реализации метрик ранжирование на python можно найти [здесь](https://gist.github.com/mblondel/7337391)."
   ]
  },
  {
   "cell_type": "markdown",
   "metadata": {},
   "source": [
    "Загрузите данные конкурса [Интернет-математика 2009](http://imat2009.yandex.ru/datasets). Там же находится описание данных. Разбейте обучающую выборку на обучение и контроль в соотношении 70 / 30. Обратите внимание на формат данных: разбивать необходимо множество запросов, а не строчки датасета."
   ]
  },
  {
   "cell_type": "code",
   "execution_count": 1,
   "metadata": {
    "ExecuteTime": {
     "end_time": "2018-10-09T21:46:28.136098Z",
     "start_time": "2018-10-09T21:46:28.061828Z"
    }
   },
   "outputs": [],
   "source": [
    "import numpy as np"
   ]
  },
  {
   "cell_type": "code",
   "execution_count": 2,
   "metadata": {
    "ExecuteTime": {
     "end_time": "2018-10-09T21:46:28.393346Z",
     "start_time": "2018-10-09T21:46:28.221413Z"
    }
   },
   "outputs": [],
   "source": [
    "from sklearn import datasets\n",
    "from sklearn.model_selection import train_test_split, GroupKFold, GroupShuffleSplit, cross_val_predict"
   ]
  },
  {
   "cell_type": "code",
   "execution_count": 3,
   "metadata": {
    "ExecuteTime": {
     "end_time": "2018-10-09T21:46:32.379272Z",
     "start_time": "2018-10-09T21:46:28.402151Z"
    }
   },
   "outputs": [],
   "source": [
    "# read dataset, extract query ids\n",
    "X, y = datasets.load_svmlight_file('./imat2009-datasets/imat2009_learning.txt')\n",
    "with open('./imat2009-datasets/imat2009_learning.txt') as file:\n",
    "    query_ids = np.array([int(line.split('#')[1].strip()) for line in file.readlines()])"
   ]
  },
  {
   "cell_type": "code",
   "execution_count": 4,
   "metadata": {
    "ExecuteTime": {
     "end_time": "2018-10-09T21:46:32.397374Z",
     "start_time": "2018-10-09T21:46:32.380328Z"
    }
   },
   "outputs": [],
   "source": [
    "gss = GroupShuffleSplit(1, test_size=0.3)\n",
    "\n",
    "train_ids, test_ids = next(gss.split(X, y, query_ids))"
   ]
  },
  {
   "cell_type": "code",
   "execution_count": 5,
   "metadata": {
    "ExecuteTime": {
     "end_time": "2018-10-09T21:46:32.491428Z",
     "start_time": "2018-10-09T21:46:32.398594Z"
    }
   },
   "outputs": [],
   "source": [
    "X_train, y_train = X[train_ids], y[train_ids]\n",
    "X_test, y_test = X[test_ids], y[test_ids]"
   ]
  },
  {
   "cell_type": "code",
   "execution_count": 6,
   "metadata": {
    "ExecuteTime": {
     "end_time": "2018-10-09T21:46:32.498751Z",
     "start_time": "2018-10-09T21:46:32.492632Z"
    }
   },
   "outputs": [
    {
     "data": {
      "text/plain": [
       "((68577, 245), (28713, 245))"
      ]
     },
     "execution_count": 6,
     "metadata": {},
     "output_type": "execute_result"
    }
   ],
   "source": [
    "X_train.shape, X_test.shape"
   ]
  },
  {
   "cell_type": "code",
   "execution_count": null,
   "metadata": {},
   "outputs": [],
   "source": []
  },
  {
   "cell_type": "markdown",
   "metadata": {
    "collapsed": true
   },
   "source": [
    "Далее рассмотрим несколько подходов предсказания релевантности. Для оценивания качества моделей используйте метрику nDCG на контроле. В случае подбора гиперпараметров используйте кросс-валидацию по 5 блокам, где разбиение должно быть по запросам, а не строчкам датасета.\n",
    "\n",
    "**(1.3 балл) Задание 1.** *Pointwise* подход. Воспользовавшись известными вам техниками построения линейной регрессии, обучите модель, предсказывающую оценку асессора."
   ]
  },
  {
   "cell_type": "code",
   "execution_count": 7,
   "metadata": {
    "ExecuteTime": {
     "end_time": "2018-10-09T21:46:32.506495Z",
     "start_time": "2018-10-09T21:46:32.499755Z"
    }
   },
   "outputs": [],
   "source": [
    "import metrics as m"
   ]
  },
  {
   "cell_type": "code",
   "execution_count": 8,
   "metadata": {
    "ExecuteTime": {
     "end_time": "2018-10-09T21:46:32.531190Z",
     "start_time": "2018-10-09T21:46:32.507544Z"
    }
   },
   "outputs": [],
   "source": [
    "from sklearn.linear_model import LinearRegression\n",
    "from sklearn.svm import SVR"
   ]
  },
  {
   "cell_type": "code",
   "execution_count": 12,
   "metadata": {
    "ExecuteTime": {
     "end_time": "2018-10-09T18:20:12.180507Z",
     "start_time": "2018-10-09T18:18:19.261318Z"
    }
   },
   "outputs": [],
   "source": [
    "regr = LinearRegression()\n",
    "cv_pred = cross_val_predict(regr, X_train, y_train, groups=query_ids[train_ids], cv=5)"
   ]
  },
  {
   "cell_type": "code",
   "execution_count": 13,
   "metadata": {
    "ExecuteTime": {
     "end_time": "2018-10-09T18:20:12.234178Z",
     "start_time": "2018-10-09T18:20:12.200180Z"
    }
   },
   "outputs": [
    {
     "data": {
      "text/plain": [
       "0.8493547692249506"
      ]
     },
     "execution_count": 13,
     "metadata": {},
     "output_type": "execute_result"
    }
   ],
   "source": [
    "m.ndcg_score(y_train, cv_pred)"
   ]
  },
  {
   "cell_type": "code",
   "execution_count": 14,
   "metadata": {
    "ExecuteTime": {
     "end_time": "2018-10-09T18:20:41.210474Z",
     "start_time": "2018-10-09T18:20:12.246172Z"
    }
   },
   "outputs": [],
   "source": [
    "regr.fit(X_train, y_train)\n",
    "pred = regr.predict(X_test)"
   ]
  },
  {
   "cell_type": "code",
   "execution_count": 15,
   "metadata": {
    "ExecuteTime": {
     "end_time": "2018-10-09T18:20:41.297566Z",
     "start_time": "2018-10-09T18:20:41.287974Z"
    }
   },
   "outputs": [
    {
     "data": {
      "text/plain": [
       "1.0"
      ]
     },
     "execution_count": 15,
     "metadata": {},
     "output_type": "execute_result"
    }
   ],
   "source": [
    "m.ndcg_score(y_test, pred)"
   ]
  },
  {
   "cell_type": "markdown",
   "metadata": {},
   "source": [
    "###  Ранжируем с XGBoost\n",
    "\n",
    "XGBoost имеет несколько функций потерь для решения задачи ранжирования:\n",
    "1. **reg:linear** — данную функцию потерь можно использовать для решения задачи ранжирование *pointwise* подходом.\n",
    "2. **rank:pairwise** — в качестве *pairwise* модели в XGBoost реализован [RankNet](http://icml.cc/2015/wp-content/uploads/2015/06/icml_ranking.pdf), в котором минимизируется гладкий функционал качества ранжирования: $$ Obj = \\sum_{i \\prec j} \\mathcal{L}\\left(a(x_j) - a(x_i)\\right) \\rightarrow min $$ $$ \\mathcal{L}(M) = log(1 + e^{-M}), $$ где $ a(x) $ - функция ранжирования. Суммирование ведется по всем парам объектов, для которых определено отношение порядка, например, для пар документов, показанных по одному запросу. Таким образом функция потерь штрафует за то, что пара объектов неправильно упорядочена.\n",
    "3. **rank:map, rank:ndcg** — реализация [LambdaRank](https://www.microsoft.com/en-us/research/wp-content/uploads/2016/02/MSR-TR-2010-82.pdf) для двух метрик: [MAP](https://en.wikipedia.org/wiki/Information_retrieval#Mean_average_precision) и **nDCG**. Известно, что для того, чтобы оптимизировать негладкий функционал, такой как **nDCG**,  нужно домножить градиент функционала $ Obj(a) $ на значение $\\Delta NDCG_{ij} $ — изменение значения функционала качества при замене $x_i$ на $ x_j$.  Поскольку для вычисления метрик необходимы все объекты выборки, то эти две ранжирующие функции потерь являются представителями класса *listwise* моделей."
   ]
  },
  {
   "cell_type": "markdown",
   "metadata": {},
   "source": [
    "**(2.7 балла) Задание 2.** Обучите модели **reg:linear**, **rank:pairwise** и **rank:ndcg**, в качестве метрики оценки качества (*eval_metric*) используя *nDCG*, а в качестве бустера решающее дерево. Настройте [параметры](https://github.com/dmlc/xgboost/blob/master/doc/parameter.md) алгоритма и добейтесь высокого качества на тестовой выборке."
   ]
  },
  {
   "cell_type": "code",
   "execution_count": 9,
   "metadata": {
    "ExecuteTime": {
     "end_time": "2018-10-09T21:46:34.044397Z",
     "start_time": "2018-10-09T21:46:33.897497Z"
    }
   },
   "outputs": [],
   "source": [
    "import xgboost as xgb"
   ]
  },
  {
   "cell_type": "code",
   "execution_count": 10,
   "metadata": {
    "ExecuteTime": {
     "end_time": "2018-10-09T20:03:07.035739Z",
     "start_time": "2018-10-09T20:01:08.091368Z"
    }
   },
   "outputs": [
    {
     "data": {
      "text/plain": [
       "0.9629700149670524"
      ]
     },
     "execution_count": 10,
     "metadata": {},
     "output_type": "execute_result"
    }
   ],
   "source": [
    "regr = xgb.XGBRegressor(objective='reg:linear')\n",
    "\n",
    "cv_pred = cross_val_predict(regr, X_train, y_train, groups=query_ids[train_ids], cv=5)\n",
    "m.ndcg_score(y_train, cv_pred)"
   ]
  },
  {
   "cell_type": "code",
   "execution_count": 11,
   "metadata": {
    "ExecuteTime": {
     "end_time": "2018-10-09T20:05:11.366982Z",
     "start_time": "2018-10-09T20:03:07.037088Z"
    }
   },
   "outputs": [
    {
     "data": {
      "text/plain": [
       "0.9089051979394391"
      ]
     },
     "execution_count": 11,
     "metadata": {},
     "output_type": "execute_result"
    }
   ],
   "source": [
    "regr = xgb.XGBModel(objective='rank:pairwise', groups=query_ids[train_ids])\n",
    "\n",
    "cv_pred = cross_val_predict(regr, X_train, y_train, groups=query_ids[train_ids], cv=5)\n",
    "m.ndcg_score(y_train, cv_pred)"
   ]
  },
  {
   "cell_type": "code",
   "execution_count": 28,
   "metadata": {
    "ExecuteTime": {
     "end_time": "2018-10-09T18:31:37.501879Z",
     "start_time": "2018-10-09T18:30:24.808413Z"
    }
   },
   "outputs": [
    {
     "data": {
      "text/plain": [
       "0.13144503750020883"
      ]
     },
     "execution_count": 28,
     "metadata": {},
     "output_type": "execute_result"
    }
   ],
   "source": [
    "regr = xgb.XGBModel(objective='rank:map', groups=query_ids[train_ids])\n",
    "\n",
    "cv_pred = cross_val_predict(regr, X_train, y_train, groups=query_ids[train_ids], cv=5)\n",
    "m.ndcg_score(y_train, cv_pred)"
   ]
  },
  {
   "cell_type": "code",
   "execution_count": 30,
   "metadata": {
    "ExecuteTime": {
     "end_time": "2018-10-09T18:39:46.363726Z",
     "start_time": "2018-10-09T18:38:20.780369Z"
    }
   },
   "outputs": [
    {
     "data": {
      "text/plain": [
       "0.13144503750020883"
      ]
     },
     "execution_count": 30,
     "metadata": {},
     "output_type": "execute_result"
    }
   ],
   "source": [
    "regr = xgb.XGBModel(objective='rank:ndcg', groups=query_ids[train_ids])\n",
    "\n",
    "cv_pred = cross_val_predict(regr, X_train, y_train, groups=query_ids[train_ids], cv=5)\n",
    "m.ndcg_score(y_train, cv_pred)"
   ]
  },
  {
   "cell_type": "code",
   "execution_count": null,
   "metadata": {},
   "outputs": [],
   "source": []
  },
  {
   "cell_type": "markdown",
   "metadata": {},
   "source": [
    "#### Пользовательская функция потерь\n",
    "\n",
    "Библиотека XGBoost позволяет использовать пользовательские функции потерь. Для этого необходимо реализовать функцию, принимающую на вход вектор предсказанных значений и обучающую выборку, и возвращающую градиент и гессиан, посчитанный по входным данным.\n",
    "\n",
    "Важно отметить, что XGBoost использует диагональную аппроксимацию гессиана, таким образом все недиагональные элементы считаются малозначимыми и приравниваются нулю, поэтому и градиент, и гессиан являются векторами длины размера обучающей выборки.\n",
    "\n",
    "**(5.7 балла) Задание 3.** Реализуйте экспоненциальную функцию потерь для XGBoost:\n",
    "$$ Obj = \\sum_{i \\prec j} \\mathcal{L}\\left(a(x_j) - a(x_i)\\right) \\rightarrow min $$ $$ \\mathcal{L}(M) = e^{-M} $$\n",
    "\n",
    "Обучите модель с помощью данной функции потерь, настройте параметры."
   ]
  },
  {
   "cell_type": "markdown",
   "metadata": {},
   "source": [
    "**Комментарии к реализации**\n",
    "\n",
    "В случае ранжирования XGBoost'у необходимо знать о разбиении всех объектов на группы. В нашем случае в одну группу будут входить документы, соответствующие одному запросу. Функция, считающая градиент и гессиан по данным, должна знать данное разбиение датасета. Однако питоновский интерфейс класса *DMatrix* (в котором хранится датасет) не дает возможности получить это разбиение. В этом случае нужно реализовать функцию потерь в качестве функтора, конструктор которого принимает разбиение на группы в качестве параметра.\n",
    "\n",
    "Пример реализации своей функции потерь можно найти на соответствующем семинаре."
   ]
  },
  {
   "cell_type": "markdown",
   "metadata": {
    "ExecuteTime": {
     "end_time": "2018-10-09T18:47:10.276123Z",
     "start_time": "2018-10-09T18:47:10.268541Z"
    }
   },
   "source": [
    "$(e^{-M})'=-\\hat y e^{-M}$\n",
    "\n",
    "$(-\\hat y e^{-M})'= -e^{-M}+\\hat y ^ 2 e^{-M}$"
   ]
  },
  {
   "cell_type": "code",
   "execution_count": 42,
   "metadata": {
    "ExecuteTime": {
     "end_time": "2018-10-09T21:38:33.244890Z",
     "start_time": "2018-10-09T21:38:33.238411Z"
    }
   },
   "outputs": [],
   "source": [
    "class ExponentialPairwiseLoss(object):\n",
    "    def __init__(self, groups):\n",
    "        self.groups = np.array(groups)\n",
    "                            \n",
    "    def __call__(self, y_true, preds):\n",
    "        y_true = np.array(y_true)\n",
    "        preds = np.array(preds)\n",
    "        print(preds.min(), preds.max())\n",
    "        \n",
    "        grad = np.zeros_like(y_true)\n",
    "        p=0\n",
    "        hess = np.zeros_like(y_true)\n",
    "        for group in set(self.groups):\n",
    "            group_indices = np.where(self.groups == group)[0]\n",
    "#             print(group, group_indices)\n",
    "            for j in group_indices:\n",
    "                for i in group_indices:\n",
    "                    if y_true[i] < y_true[j]:\n",
    "#                         print(i, j, y_true[i] , y_true[j], preds[j] - preds[i])\n",
    "                        grad[j] += - np.exp(-(preds[j] - preds[i]))\n",
    "                        hess[j] += np.exp(-(preds[j] - preds[i]))\n",
    "            if p < 10:\n",
    "                print(grad[group_indices])\n",
    "                p+=1\n",
    "        print(grad, hess)\n",
    "        return grad, hess"
   ]
  },
  {
   "cell_type": "code",
   "execution_count": 43,
   "metadata": {
    "ExecuteTime": {
     "end_time": "2018-10-09T21:38:33.429072Z",
     "start_time": "2018-10-09T21:38:33.421845Z"
    }
   },
   "outputs": [],
   "source": [
    "# class SigmoidPairwiseLoss(object):\n",
    "#     def __init__(self, groups):\n",
    "#         self.groups = np.array(groups)\n",
    "                            \n",
    "#     def __call__(self, y_true, preds):\n",
    "#         y_true = np.array(y_true)\n",
    "#         preds = np.array(preds)\n",
    "#         print(preds.min(), preds.max())\n",
    "        \n",
    "#         grad = np.zeros_like(y_true)\n",
    "#         hess = np.zeros_like(y_true)\n",
    "#         for group in set(self.groups):\n",
    "#             group_indices = np.where(self.groups == group)[0]\n",
    "# #             print(group, group_indices)\n",
    "#             for j in group_indices:\n",
    "#                 for i in group_indices:\n",
    "#                     if y_true[i] < y_true[j]:\n",
    "#                         sigma = 1 / (1 + np.exp(-preds[j] + preds[i]))\n",
    "# #                         print(i, j, y_true[i] , y_true[j], preds[j] - preds[i])\n",
    "#                         grad[j] += sigma * (1 - sigma)\n",
    "#                         hess[j] += sigma * (1 - sigma) * (1 - 2 * sigma)\n",
    "#         print(np.where(grad!= 0), hess)\n",
    "#         return grad, hess"
   ]
  },
  {
   "cell_type": "code",
   "execution_count": 44,
   "metadata": {
    "ExecuteTime": {
     "end_time": "2018-10-09T21:38:33.634079Z",
     "start_time": "2018-10-09T21:38:33.622486Z"
    }
   },
   "outputs": [
    {
     "name": "stdout",
     "output_type": "stream",
     "text": [
      "1 3\n",
      "[-9 -2  0]\n",
      "[0 0 0]\n",
      "[-9 -2  0  0  0  0] [9 2 0 0 0 0]\n"
     ]
    },
    {
     "data": {
      "text/plain": [
       "(array([-9, -2,  0,  0,  0,  0]), array([9, 2, 0, 0, 0, 0]))"
      ]
     },
     "execution_count": 44,
     "metadata": {},
     "output_type": "execute_result"
    }
   ],
   "source": [
    "loss = ExponentialPairwiseLoss([1, 1, 1, 2, 2, 2])\n",
    "\n",
    "loss([3, 2, 1, 3, 2, 1], [1, 2, 3, 3, 2, 1])"
   ]
  },
  {
   "cell_type": "code",
   "execution_count": 45,
   "metadata": {
    "ExecuteTime": {
     "end_time": "2018-10-09T21:38:34.113660Z",
     "start_time": "2018-10-09T21:38:34.104575Z"
    }
   },
   "outputs": [
    {
     "name": "stdout",
     "output_type": "stream",
     "text": [
      "1 3\n",
      "(array([], dtype=int64),) [0 0 0 0 0 0]\n"
     ]
    },
    {
     "data": {
      "text/plain": [
       "(array([0, 0, 0, 0, 0, 0]), array([0, 0, 0, 0, 0, 0]))"
      ]
     },
     "execution_count": 45,
     "metadata": {},
     "output_type": "execute_result"
    }
   ],
   "source": [
    "loss = SigmoidPairwiseLoss([1, 1, 1, 2, 2, 2])\n",
    "\n",
    "loss([3, 2, 1, 3, 2, 1], [3, 2, 1, 3, 2, 1])"
   ]
  },
  {
   "cell_type": "code",
   "execution_count": 46,
   "metadata": {
    "ExecuteTime": {
     "end_time": "2018-10-09T21:38:44.324600Z",
     "start_time": "2018-10-09T21:38:34.524922Z"
    }
   },
   "outputs": [
    {
     "name": "stdout",
     "output_type": "stream",
     "text": [
      "0.5 0.5\n",
      "[-13.   0.  -8.   0. -13.   0. -13.   0. -13.  -8.   0. -13.   0.   0.\n",
      "   0. -13.  -8.  -8.  -8.]\n",
      "[  0. -10. -10. -10.   0.   0.   0.   0.   0.   0.   0.   0. -10.   0.\n",
      " -10.]\n",
      "[0. 0. 0. 0. 0.]\n",
      "[ 0. -5.  0.  0.  0. -5.  0. -5.]\n",
      "[0. 0. 0. 0.]\n",
      "[ 0.  0. -4. -4.  0.  0.]\n",
      "[ 0. -2. -3.  0. -3.]\n",
      "[-4.  0.  0. -3. -4.  0.]\n",
      "[-1. -1.  0. -1. -1. -1. -1.]\n",
      "[ -1.  -1.  -1. -15.   0.  -1.  -1. -18.  -1. -15.  -1.  -1.  -1.  -1.\n",
      "  -1.  -1.  -1.  -1. -15.]\n",
      "[ 0. -4.  0. ... -7.  0.  0.] [0. 4. 0. ... 7. 0. 0.]\n",
      "0.59999955 0.59999955\n",
      "[-13.   0.  -8.   0. -13.   0. -13.   0. -13.  -8.   0. -13.   0.   0.\n",
      "   0. -13.  -8.  -8.  -8.]\n",
      "[  0. -10. -10. -10.   0.   0.   0.   0.   0.   0.   0.   0. -10.   0.\n",
      " -10.]\n",
      "[0. 0. 0. 0. 0.]\n",
      "[ 0. -5.  0.  0.  0. -5.  0. -5.]\n",
      "[0. 0. 0. 0.]\n",
      "[ 0.  0. -4. -4.  0.  0.]\n",
      "[ 0. -2. -3.  0. -3.]\n",
      "[-4.  0.  0. -3. -4.  0.]\n",
      "[-1. -1.  0. -1. -1. -1. -1.]\n",
      "[ -1.  -1.  -1. -15.   0.  -1.  -1. -18.  -1. -15.  -1.  -1.  -1.  -1.\n",
      "  -1.  -1.  -1.  -1. -15.]\n",
      "[ 0. -4.  0. ... -7.  0.  0.] [0. 4. 0. ... 7. 0. 0.]\n",
      "0.6999991 0.6999991\n",
      "[-13.   0.  -8.   0. -13.   0. -13.   0. -13.  -8.   0. -13.   0.   0.\n",
      "   0. -13.  -8.  -8.  -8.]\n",
      "[  0. -10. -10. -10.   0.   0.   0.   0.   0.   0.   0.   0. -10.   0.\n",
      " -10.]\n",
      "[0. 0. 0. 0. 0.]\n",
      "[ 0. -5.  0.  0.  0. -5.  0. -5.]\n",
      "[0. 0. 0. 0.]\n",
      "[ 0.  0. -4. -4.  0.  0.]\n",
      "[ 0. -2. -3.  0. -3.]\n",
      "[-4.  0.  0. -3. -4.  0.]\n",
      "[-1. -1.  0. -1. -1. -1. -1.]\n",
      "[ -1.  -1.  -1. -15.   0.  -1.  -1. -18.  -1. -15.  -1.  -1.  -1.  -1.\n",
      "  -1.  -1.  -1.  -1. -15.]\n",
      "[ 0. -4.  0. ... -7.  0.  0.] [0. 4. 0. ... 7. 0. 0.]\n",
      "0.79999864 0.79999864\n",
      "[-13.   0.  -8.   0. -13.   0. -13.   0. -13.  -8.   0. -13.   0.   0.\n",
      "   0. -13.  -8.  -8.  -8.]\n",
      "[  0. -10. -10. -10.   0.   0.   0.   0.   0.   0.   0.   0. -10.   0.\n",
      " -10.]\n",
      "[0. 0. 0. 0. 0.]\n",
      "[ 0. -5.  0.  0.  0. -5.  0. -5.]\n",
      "[0. 0. 0. 0.]\n",
      "[ 0.  0. -4. -4.  0.  0.]\n",
      "[ 0. -2. -3.  0. -3.]\n",
      "[-4.  0.  0. -3. -4.  0.]\n",
      "[-1. -1.  0. -1. -1. -1. -1.]\n",
      "[ -1.  -1.  -1. -15.   0.  -1.  -1. -18.  -1. -15.  -1.  -1.  -1.  -1.\n",
      "  -1.  -1.  -1.  -1. -15.]\n",
      "[ 0. -4.  0. ... -7.  0.  0.] [0. 4. 0. ... 7. 0. 0.]\n",
      "0.8999982 0.8999982\n",
      "[-13.   0.  -8.   0. -13.   0. -13.   0. -13.  -8.   0. -13.   0.   0.\n",
      "   0. -13.  -8.  -8.  -8.]\n",
      "[  0. -10. -10. -10.   0.   0.   0.   0.   0.   0.   0.   0. -10.   0.\n",
      " -10.]\n",
      "[0. 0. 0. 0. 0.]\n",
      "[ 0. -5.  0.  0.  0. -5.  0. -5.]\n",
      "[0. 0. 0. 0.]\n",
      "[ 0.  0. -4. -4.  0.  0.]\n",
      "[ 0. -2. -3.  0. -3.]\n",
      "[-4.  0.  0. -3. -4.  0.]\n",
      "[-1. -1.  0. -1. -1. -1. -1.]\n",
      "[ -1.  -1.  -1. -15.   0.  -1.  -1. -18.  -1. -15.  -1.  -1.  -1.  -1.\n",
      "  -1.  -1.  -1.  -1. -15.]\n",
      "[ 0. -4.  0. ... -7.  0.  0.] [0. 4. 0. ... 7. 0. 0.]\n"
     ]
    },
    {
     "data": {
      "text/plain": [
       "0.16691396786371251"
      ]
     },
     "execution_count": 46,
     "metadata": {},
     "output_type": "execute_result"
    }
   ],
   "source": [
    "regr = xgb.XGBModel(n_estimators=5, objective=ExponentialPairwiseLoss(groups=query_ids[train_ids]))\n",
    "\n",
    "# cv_pred = cross_val_predict(regr, X_train, y_train, groups=query_ids[train_ids], cv=5)\n",
    "regr.fit(X_train, y_train)\n",
    "pred = regr.predict(X_test)\n",
    "m.ndcg_score(y_test, pred)"
   ]
  },
  {
   "cell_type": "code",
   "execution_count": null,
   "metadata": {},
   "outputs": [],
   "source": []
  },
  {
   "cell_type": "code",
   "execution_count": null,
   "metadata": {},
   "outputs": [],
   "source": []
  },
  {
   "cell_type": "markdown",
   "metadata": {},
   "source": [
    "**(1.3 балл) Задание 4.** Сравните построенные модели с точки зрения метрики nDCG на контроле и проанализируйте полученные результаты:\n",
    "  - какая модель работает лучше всего для данной задачи? \n",
    "  - в чем достоинства/недостатки каждой? \n",
    "  - сравните модели между собой: \n",
    "   - получается ли сравнимое качество линейного pointwise подхода с остальными моделями? \n",
    "   - заметна ли разница в качестве при использовании бустинга с разными функциями потерь?"
   ]
  },
  {
   "cell_type": "code",
   "execution_count": null,
   "metadata": {
    "collapsed": true
   },
   "outputs": [],
   "source": []
  }
 ],
 "metadata": {
  "kernelspec": {
   "display_name": "Python 3",
   "language": "python",
   "name": "python3"
  },
  "language_info": {
   "codemirror_mode": {
    "name": "ipython",
    "version": 3
   },
   "file_extension": ".py",
   "mimetype": "text/x-python",
   "name": "python",
   "nbconvert_exporter": "python",
   "pygments_lexer": "ipython3",
   "version": "3.6.5"
  },
  "toc": {
   "base_numbering": 1,
   "nav_menu": {},
   "number_sections": true,
   "sideBar": true,
   "skip_h1_title": false,
   "title_cell": "Table of Contents",
   "title_sidebar": "Contents",
   "toc_cell": false,
   "toc_position": {},
   "toc_section_display": true,
   "toc_window_display": false
  }
 },
 "nbformat": 4,
 "nbformat_minor": 2
}
