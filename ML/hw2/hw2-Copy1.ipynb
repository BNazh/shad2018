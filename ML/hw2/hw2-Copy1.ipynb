{
 "cells": [
  {
   "cell_type": "markdown",
   "metadata": {},
   "source": [
    "# Лабораторная работа 2. Ранжирование (11 баллов)\n",
    "\n",
    "Результат лабораторной работы − отчет. Мы предпочитаем принимать отчеты в формате ноутбуков IPython (ipynb-файл). Постарайтесь сделать ваш отчет интересным рассказом, последовательно отвечающим на вопросы из заданий. Помимо ответов на вопросы, в отчете так же должен быть код, однако чем меньше кода, тем лучше всем: нам − меньше проверять, вам — проще найти ошибку или дополнить эксперимент. При проверке оценивается четкость ответов на вопросы, аккуратность отчета и кода.\n",
    "\n",
    "### Оценивание и штрафы\n",
    "Каждая из задач имеет определенную «стоимость» (указана в скобках около задачи). Сдавать задание после указанного срока сдачи нельзя. «Похожие» решения считаются плагиатом и все задействованные студенты (в том числе те, у кого списали) не могут получить за него больше 0 баллов и понижают карму (подробнее о плагиате см. на странице курса). Если вы нашли решение какого-то из заданий в открытом источнике, необходимо прислать ссылку на этот источник (скорее всего вы будете не единственным, кто это нашел, поэтому чтобы исключить подозрение в плагиате, нам необходима ссылка на источник)."
   ]
  },
  {
   "cell_type": "markdown",
   "metadata": {},
   "source": [
    "## Поисковое ранжирование\n",
    "\n",
    "![](http://i.imgur.com/2QnD2nF.jpg)\n",
    "\n",
    "Задачу поискового ранжирования можно описать следующим образом: имеется множество документов $d \\in D$ и множество запросов $q \\in Q$. Требуется оценить *степень релевантности* документа по отношению к запросу: $(q, d) \\mapsto r$, относительно которой будет производиться ранжирование. Для восстановления этой зависимости используются методы машинного обучения. Обычно используется три типа:\n",
    " - признаки запроса $q$, например: мешок слов текста запроса, его длина, ...\n",
    " - документа $d$, например: значение PageRank, мешок слов, доменное имя, ...\n",
    " - пары $(q, d)$, например: число вхождений фразы из запроса $q$ в документе $d$, ...\n",
    "\n",
    "Одна из отличительных особенностей задачи ранжирования от классических задач машинного обучения заключается в том, что качество результата зависит не от предсказанных оценок релевантности, а от порядка следования документов в рамках конкретного запроса, т.е. важно не абсолютное значение релевантности (его достаточно трудно формализовать в виде числа), а то, более или менее релевантен документ, относительно других документов.\n",
    "### Подходы к решению задачи ранжирования\n",
    "Существуют 3 основных подхода, различие между которыми в используемой функции потерь:\n",
    "  \n",
    "1. **Pointwise подход**. В этом случае рассматривается *один объект* (в случае поискового ранжирования - конкретный документ) и функция потерь считается только по нему. Любой стандартный классификатор или регрессор может решать pointwise задачу ранжирования, обучившись предсказывать значение таргета. Итоговое ранжирование получается после сортировки документов к одному запросу по предсказанию такой модели.\n",
    "2. **Pairwise подход**. В рамках данной модели функция потерь вычисляется по *паре объектов*. Другими словами, функция потерь штрафует модель, если отражированная этой моделью пара документов оказалась в неправильном порядке.\n",
    "3. **Listwise подход**. Этот подход использует все объекты для вычисления функции потерь, стараясь явно оптимизировать правильный порядок.\n",
    "\n",
    "### Оценка качества\n",
    "\n",
    "Для оценивания качества ранжирования найденных документов в поиске используются асессорские оценки. Само оценивание происходит на скрытых от обучения запросах $Queries$. Для этого традиционно используется метрика *DCG* ([Discounted Cumulative Gain](https://en.wikipedia.org/wiki/Discounted_cumulative_gain)) и ее нормализованный вариант — *nDCG*, всегда принимающий значения от 0 до 1.\n",
    "Для одного запроса DCG считается следующим образом:\n",
    "$$ DCG = \\sum_{i=1}^P\\frac{(2^{rel_i} - 1)}{\\log_2(i+1)}, $$\n",
    "\n",
    "где $P$ — число документов в поисковой выдаче, $rel_i$ — релевантность (асессорская оценка) документа, находящегося на i-той позиции.\n",
    "\n",
    "*IDCG* — идеальное (наибольшее из возможных) значение *DCG*, может быть получено путем ранжирования документов по убыванию асессорских оценок.\n",
    "\n",
    "Итоговая формула для расчета *nDCG*:\n",
    "\n",
    "$$nDCG = \\frac{DCG}{IDCG} \\in [0, 1].$$\n",
    "\n",
    "Чтобы оценить значение *nDCG* на выборке $Queries$ ($nDCG_{Queries}$) размера $N$, необходимо усреднить значение *nDCG* по всем запросам  выборки:\n",
    "$$nDCG_{Queries} = \\frac{1}{N}\\sum_{q \\in Queries}nDCG(q).$$\n",
    "\n",
    "Пример реализации метрик ранжирование на python можно найти [здесь](https://gist.github.com/mblondel/7337391)."
   ]
  },
  {
   "cell_type": "markdown",
   "metadata": {},
   "source": [
    "Загрузите данные конкурса [Интернет-математика 2009](http://imat2009.yandex.ru/datasets). Там же находится описание данных. Разбейте обучающую выборку на обучение и контроль в соотношении 70 / 30. Обратите внимание на формат данных: разбивать необходимо множество запросов, а не строчки датасета."
   ]
  },
  {
   "cell_type": "code",
   "execution_count": 1,
   "metadata": {
    "ExecuteTime": {
     "end_time": "2018-10-10T16:35:45.348979Z",
     "start_time": "2018-10-10T16:35:45.252222Z"
    }
   },
   "outputs": [],
   "source": [
    "import numpy as np"
   ]
  },
  {
   "cell_type": "code",
   "execution_count": 2,
   "metadata": {
    "ExecuteTime": {
     "end_time": "2018-10-10T16:35:46.033803Z",
     "start_time": "2018-10-10T16:35:45.643287Z"
    }
   },
   "outputs": [],
   "source": [
    "from sklearn import datasets\n",
    "from sklearn.model_selection import train_test_split, GroupKFold, GroupShuffleSplit, cross_val_predict"
   ]
  },
  {
   "cell_type": "code",
   "execution_count": 3,
   "metadata": {
    "ExecuteTime": {
     "end_time": "2018-10-10T16:35:53.124773Z",
     "start_time": "2018-10-10T16:35:46.059872Z"
    }
   },
   "outputs": [],
   "source": [
    "# read dataset, extract query ids\n",
    "X, y = datasets.load_svmlight_file('./imat2009-datasets/imat2009_learning.txt')\n",
    "with open('./imat2009-datasets/imat2009_learning.txt') as file:\n",
    "    query_ids = np.array([int(line.split('#')[1].strip()) for line in file.readlines()])"
   ]
  },
  {
   "cell_type": "code",
   "execution_count": 4,
   "metadata": {
    "ExecuteTime": {
     "end_time": "2018-10-10T16:35:53.150419Z",
     "start_time": "2018-10-10T16:35:53.126281Z"
    }
   },
   "outputs": [],
   "source": [
    "gss = GroupShuffleSplit(1, test_size=0.3)\n",
    "\n",
    "train_ids, test_ids = next(gss.split(X, y, query_ids))"
   ]
  },
  {
   "cell_type": "code",
   "execution_count": 5,
   "metadata": {
    "ExecuteTime": {
     "end_time": "2018-10-10T16:35:53.430998Z",
     "start_time": "2018-10-10T16:35:53.152366Z"
    }
   },
   "outputs": [],
   "source": [
    "X_train, y_train = X[train_ids], y[train_ids]\n",
    "X_test, y_test = X[test_ids], y[test_ids]"
   ]
  },
  {
   "cell_type": "code",
   "execution_count": 6,
   "metadata": {
    "ExecuteTime": {
     "end_time": "2018-10-10T16:35:53.481573Z",
     "start_time": "2018-10-10T16:35:53.433449Z"
    }
   },
   "outputs": [
    {
     "data": {
      "text/plain": [
       "((68610, 245), (28680, 245))"
      ]
     },
     "execution_count": 6,
     "metadata": {},
     "output_type": "execute_result"
    }
   ],
   "source": [
    "X_train.shape, X_test.shape"
   ]
  },
  {
   "cell_type": "code",
   "execution_count": 8,
   "metadata": {
    "ExecuteTime": {
     "end_time": "2018-10-10T16:39:21.803409Z",
     "start_time": "2018-10-10T16:39:21.498642Z"
    }
   },
   "outputs": [],
   "source": [
    "import pandas as pd"
   ]
  },
  {
   "cell_type": "code",
   "execution_count": 20,
   "metadata": {
    "ExecuteTime": {
     "end_time": "2018-10-10T16:43:14.794499Z",
     "start_time": "2018-10-10T16:43:12.606456Z"
    }
   },
   "outputs": [],
   "source": [
    "train_df = pd.DataFrame([query_ids[train_ids], y_train], index=['query_id', 'y_true']).T"
   ]
  },
  {
   "cell_type": "code",
   "execution_count": 23,
   "metadata": {
    "ExecuteTime": {
     "end_time": "2018-10-10T16:49:25.345890Z",
     "start_time": "2018-10-10T16:49:04.886072Z"
    }
   },
   "outputs": [],
   "source": [
    "train_order = train_df.sort_values(by=list(train_df.columns), ascending=[True, True])\n",
    "train_groups = [train_order.query_id.value_counts()[qid] for qid in train_order.query_id.drop_duplicates()]"
   ]
  },
  {
   "cell_type": "code",
   "execution_count": 26,
   "metadata": {
    "ExecuteTime": {
     "end_time": "2018-10-10T16:49:33.011614Z",
     "start_time": "2018-10-10T16:49:33.006628Z"
    }
   },
   "outputs": [
    {
     "data": {
      "text/plain": [
       "68610"
      ]
     },
     "execution_count": 26,
     "metadata": {},
     "output_type": "execute_result"
    }
   ],
   "source": [
    "sum(train_groups)"
   ]
  },
  {
   "cell_type": "code",
   "execution_count": 28,
   "metadata": {
    "ExecuteTime": {
     "end_time": "2018-10-10T16:50:33.823131Z",
     "start_time": "2018-10-10T16:50:31.566376Z"
    }
   },
   "outputs": [],
   "source": [
    "X_train, y_train = X_train[train_order.index], y_train[train_order.index]"
   ]
  },
  {
   "cell_type": "markdown",
   "metadata": {
    "collapsed": true
   },
   "source": [
    "Далее рассмотрим несколько подходов предсказания релевантности. Для оценивания качества моделей используйте метрику nDCG на контроле. В случае подбора гиперпараметров используйте кросс-валидацию по 5 блокам, где разбиение должно быть по запросам, а не строчкам датасета.\n",
    "\n",
    "**(1.3 балл) Задание 1.** *Pointwise* подход. Воспользовавшись известными вам техниками построения линейной регрессии, обучите модель, предсказывающую оценку асессора."
   ]
  },
  {
   "cell_type": "code",
   "execution_count": 34,
   "metadata": {
    "ExecuteTime": {
     "end_time": "2018-10-10T16:52:12.266773Z",
     "start_time": "2018-10-10T16:52:12.262762Z"
    }
   },
   "outputs": [],
   "source": [
    "import metrics as m"
   ]
  },
  {
   "cell_type": "code",
   "execution_count": 35,
   "metadata": {
    "ExecuteTime": {
     "end_time": "2018-10-10T16:52:12.518093Z",
     "start_time": "2018-10-10T16:52:12.464377Z"
    }
   },
   "outputs": [],
   "source": [
    "from sklearn.linear_model import LinearRegression\n",
    "from sklearn.svm import SVR"
   ]
  },
  {
   "cell_type": "code",
   "execution_count": null,
   "metadata": {},
   "outputs": [],
   "source": []
  },
  {
   "cell_type": "code",
   "execution_count": null,
   "metadata": {
    "ExecuteTime": {
     "start_time": "2018-10-10T16:20:36.878Z"
    }
   },
   "outputs": [],
   "source": [
    "cv_res_lin = cv_test(LinearRegression())\n",
    "print(cv_res_lin['val_ndcg'], cv_res_lin['cv_ndcg'])"
   ]
  },
  {
   "cell_type": "code",
   "execution_count": 96,
   "metadata": {
    "ExecuteTime": {
     "end_time": "2018-10-10T15:49:09.573978Z",
     "start_time": "2018-10-10T15:48:33.715132Z"
    }
   },
   "outputs": [],
   "source": [
    "regr = LinearRegression()\n",
    "cv_pred = cross_val_predict(regr, X_train, y_train, groups=query_ids[train_ids], cv=5)"
   ]
  },
  {
   "cell_type": "code",
   "execution_count": 97,
   "metadata": {
    "ExecuteTime": {
     "end_time": "2018-10-10T15:49:09.588516Z",
     "start_time": "2018-10-10T15:49:09.575982Z"
    }
   },
   "outputs": [
    {
     "data": {
      "text/plain": [
       "0.7782560979607134"
      ]
     },
     "execution_count": 97,
     "metadata": {},
     "output_type": "execute_result"
    }
   ],
   "source": [
    "m.ndcg_score(y_train, cv_pred)"
   ]
  },
  {
   "cell_type": "code",
   "execution_count": 98,
   "metadata": {
    "ExecuteTime": {
     "end_time": "2018-10-10T15:49:18.478326Z",
     "start_time": "2018-10-10T15:49:09.590020Z"
    }
   },
   "outputs": [],
   "source": [
    "regr.fit(X_train, y_train)\n",
    "pred = regr.predict(X_test)"
   ]
  },
  {
   "cell_type": "code",
   "execution_count": 99,
   "metadata": {
    "ExecuteTime": {
     "end_time": "2018-10-10T15:49:18.486818Z",
     "start_time": "2018-10-10T15:49:18.480298Z"
    }
   },
   "outputs": [
    {
     "data": {
      "text/plain": [
       "0.8778265243777741"
      ]
     },
     "execution_count": 99,
     "metadata": {},
     "output_type": "execute_result"
    }
   ],
   "source": [
    "m.ndcg_score(y_test, pred)"
   ]
  },
  {
   "cell_type": "markdown",
   "metadata": {},
   "source": [
    "###  Ранжируем с XGBoost\n",
    "\n",
    "XGBoost имеет несколько функций потерь для решения задачи ранжирования:\n",
    "1. **reg:linear** — данную функцию потерь можно использовать для решения задачи ранжирование *pointwise* подходом.\n",
    "2. **rank:pairwise** — в качестве *pairwise* модели в XGBoost реализован [RankNet](http://icml.cc/2015/wp-content/uploads/2015/06/icml_ranking.pdf), в котором минимизируется гладкий функционал качества ранжирования: $$ Obj = \\sum_{i \\prec j} \\mathcal{L}\\left(a(x_j) - a(x_i)\\right) \\rightarrow min $$ $$ \\mathcal{L}(M) = log(1 + e^{-M}), $$ где $ a(x) $ - функция ранжирования. Суммирование ведется по всем парам объектов, для которых определено отношение порядка, например, для пар документов, показанных по одному запросу. Таким образом функция потерь штрафует за то, что пара объектов неправильно упорядочена.\n",
    "3. **rank:map, rank:ndcg** — реализация [LambdaRank](https://www.microsoft.com/en-us/research/wp-content/uploads/2016/02/MSR-TR-2010-82.pdf) для двух метрик: [MAP](https://en.wikipedia.org/wiki/Information_retrieval#Mean_average_precision) и **nDCG**. Известно, что для того, чтобы оптимизировать негладкий функционал, такой как **nDCG**,  нужно домножить градиент функционала $ Obj(a) $ на значение $\\Delta NDCG_{ij} $ — изменение значения функционала качества при замене $x_i$ на $ x_j$.  Поскольку для вычисления метрик необходимы все объекты выборки, то эти две ранжирующие функции потерь являются представителями класса *listwise* моделей."
   ]
  },
  {
   "cell_type": "markdown",
   "metadata": {},
   "source": [
    "**(2.7 балла) Задание 2.** Обучите модели **reg:linear**, **rank:pairwise** и **rank:ndcg**, в качестве метрики оценки качества (*eval_metric*) используя *nDCG*, а в качестве бустера решающее дерево. Настройте [параметры](https://github.com/dmlc/xgboost/blob/master/doc/parameter.md) алгоритма и добейтесь высокого качества на тестовой выборке."
   ]
  },
  {
   "cell_type": "code",
   "execution_count": 31,
   "metadata": {
    "ExecuteTime": {
     "end_time": "2018-10-10T16:50:58.790633Z",
     "start_time": "2018-10-10T16:50:58.775563Z"
    }
   },
   "outputs": [],
   "source": [
    "import xgboost as xgb"
   ]
  },
  {
   "cell_type": "code",
   "execution_count": 32,
   "metadata": {
    "ExecuteTime": {
     "end_time": "2018-10-10T16:50:59.027585Z",
     "start_time": "2018-10-10T16:50:59.023060Z"
    }
   },
   "outputs": [],
   "source": [
    "def cv_test(regr):\n",
    "    cv_pred = cross_val_predict(regr, X_train, y_train, groups=query_ids[train_ids], cv=5)\n",
    "    cv_ndcg = m.ndcg_score(y_train, cv_pred)\n",
    "    regr.fit(X_train, y_train)\n",
    "    val_pred = regr.predict(X_test)\n",
    "    val_ndcg = m.ndcg_score(y_test, val_pred)\n",
    "    return dict(\n",
    "        cv_pred = cv_pred,\n",
    "        cv_ndcg = cv_ndcg,\n",
    "        val_pred = val_pred,\n",
    "        val_ndcg = val_ndcg,\n",
    "    )"
   ]
  },
  {
   "cell_type": "code",
   "execution_count": 110,
   "metadata": {
    "ExecuteTime": {
     "end_time": "2018-10-10T16:11:21.775261Z",
     "start_time": "2018-10-10T16:07:21.978776Z"
    }
   },
   "outputs": [
    {
     "name": "stdout",
     "output_type": "stream",
     "text": [
      "0.9163322267795898 1.0\n"
     ]
    }
   ],
   "source": [
    "cv_res_reg_lin = cv_test(xgb.XGBRegressor(objective='reg:linear'))\n",
    "print(cv_res_reg_lin['val_ndcg'], cv_res_reg_lin['cv_ndcg'])"
   ]
  },
  {
   "cell_type": "code",
   "execution_count": 111,
   "metadata": {
    "ExecuteTime": {
     "end_time": "2018-10-10T16:15:28.710419Z",
     "start_time": "2018-10-10T16:11:21.777267Z"
    }
   },
   "outputs": [
    {
     "name": "stdout",
     "output_type": "stream",
     "text": [
      "0.7466915799032816 0.8007970161427865\n"
     ]
    }
   ],
   "source": [
    "cv_res_rank_pair = cv_test(xgb.XGBRegressor(objective='rank:pairwise', groups=query_ids[train_ids]))\n",
    "print(cv_res_rank_pair['val_ndcg'], cv_res_rank_pair['cv_ndcg'])"
   ]
  },
  {
   "cell_type": "code",
   "execution_count": 36,
   "metadata": {
    "ExecuteTime": {
     "end_time": "2018-10-10T16:53:36.431108Z",
     "start_time": "2018-10-10T16:52:15.110541Z"
    }
   },
   "outputs": [
    {
     "name": "stdout",
     "output_type": "stream",
     "text": [
      "0.10707760402398435 0.11423203819324675\n"
     ]
    }
   ],
   "source": [
    "cv_res_rank_map = cv_test(xgb.XGBRegressor(objective='rank:map', groups=train_groups))\n",
    "print(cv_res_rank_map['val_ndcg'], cv_res_rank_map['cv_ndcg'])"
   ]
  },
  {
   "cell_type": "code",
   "execution_count": 41,
   "metadata": {
    "ExecuteTime": {
     "end_time": "2018-10-10T17:00:43.029884Z",
     "start_time": "2018-10-10T17:00:43.025371Z"
    }
   },
   "outputs": [
    {
     "data": {
      "text/plain": [
       "{'cv_pred': array([0.5, 0.5, 0.5, ..., 0.5, 0.5, 0.5], dtype=float32),\n",
       " 'cv_ndcg': 0.11423203819324675,\n",
       " 'val_pred': array([0.5, 0.5, 0.5, ..., 0.5, 0.5, 0.5], dtype=float32),\n",
       " 'val_ndcg': 0.10707760402398435}"
      ]
     },
     "execution_count": 41,
     "metadata": {},
     "output_type": "execute_result"
    }
   ],
   "source": [
    "cv_res_rank_ndcg"
   ]
  },
  {
   "cell_type": "code",
   "execution_count": 40,
   "metadata": {
    "ExecuteTime": {
     "end_time": "2018-10-10T16:59:53.003639Z",
     "start_time": "2018-10-10T16:58:27.987778Z"
    }
   },
   "outputs": [
    {
     "name": "stdout",
     "output_type": "stream",
     "text": [
      "0.10707760402398435 0.11423203819324675\n"
     ]
    }
   ],
   "source": [
    "cv_res_rank_ndcg = cv_test(xgb.XGBRegressor(objective='rank:ndcg', groups=train_groups))\n",
    "print(cv_res_rank_ndcg['val_ndcg'], cv_res_rank_ndcg['cv_ndcg'])"
   ]
  },
  {
   "cell_type": "code",
   "execution_count": null,
   "metadata": {},
   "outputs": [],
   "source": []
  },
  {
   "cell_type": "code",
   "execution_count": null,
   "metadata": {},
   "outputs": [],
   "source": []
  },
  {
   "cell_type": "markdown",
   "metadata": {},
   "source": [
    "#### Пользовательская функция потерь\n",
    "\n",
    "Библиотека XGBoost позволяет использовать пользовательские функции потерь. Для этого необходимо реализовать функцию, принимающую на вход вектор предсказанных значений и обучающую выборку, и возвращающую градиент и гессиан, посчитанный по входным данным.\n",
    "\n",
    "Важно отметить, что XGBoost использует диагональную аппроксимацию гессиана, таким образом все недиагональные элементы считаются малозначимыми и приравниваются нулю, поэтому и градиент, и гессиан являются векторами длины размера обучающей выборки.\n",
    "\n",
    "**(5.7 балла) Задание 3.** Реализуйте экспоненциальную функцию потерь для XGBoost:\n",
    "$$ Obj = \\sum_{i \\prec j} \\mathcal{L}\\left(a(x_j) - a(x_i)\\right) \\rightarrow min $$ $$ \\mathcal{L}(M) = e^{-M} $$\n",
    "\n",
    "Обучите модель с помощью данной функции потерь, настройте параметры."
   ]
  },
  {
   "cell_type": "markdown",
   "metadata": {},
   "source": [
    "**Комментарии к реализации**\n",
    "\n",
    "В случае ранжирования XGBoost'у необходимо знать о разбиении всех объектов на группы. В нашем случае в одну группу будут входить документы, соответствующие одному запросу. Функция, считающая градиент и гессиан по данным, должна знать данное разбиение датасета. Однако питоновский интерфейс класса *DMatrix* (в котором хранится датасет) не дает возможности получить это разбиение. В этом случае нужно реализовать функцию потерь в качестве функтора, конструктор которого принимает разбиение на группы в качестве параметра.\n",
    "\n",
    "Пример реализации своей функции потерь можно найти на соответствующем семинаре."
   ]
  },
  {
   "cell_type": "code",
   "execution_count": 105,
   "metadata": {
    "ExecuteTime": {
     "end_time": "2018-10-10T15:57:49.280186Z",
     "start_time": "2018-10-10T15:57:49.274169Z"
    }
   },
   "outputs": [],
   "source": [
    "class ExponentialPairwiseLoss(object):\n",
    "    def __init__(self, groups):\n",
    "        self.groups = np.array(groups)\n",
    "                            \n",
    "    def __call__(self, y_true, preds):\n",
    "        y_true = np.array(y_true)\n",
    "        preds = np.array(preds)\n",
    "#         print(preds.min(), preds.max())\n",
    "        \n",
    "        grad = np.zeros_like(y_true)\n",
    "        hess = np.zeros_like(y_true)\n",
    "        for group in set(self.groups):\n",
    "            group_indices = np.where(self.groups == group)[0]\n",
    "            for j in group_indices:\n",
    "                for i in group_indices:\n",
    "                    if y_true[i] < y_true[j]:\n",
    "#                         print(i, j, y_true[i] , y_true[j], preds[j] - preds[i])\n",
    "                        exp = np.exp(-(preds[j] - preds[i]))\n",
    "                        grad[i] += exp\n",
    "                        grad[j] += - exp\n",
    "                        hess[i] += exp\n",
    "                        hess[j] += exp\n",
    "        return grad, hess"
   ]
  },
  {
   "cell_type": "code",
   "execution_count": 106,
   "metadata": {
    "ExecuteTime": {
     "end_time": "2018-10-10T15:57:49.425238Z",
     "start_time": "2018-10-10T15:57:49.282694Z"
    }
   },
   "outputs": [],
   "source": [
    "from sklearn.base import clone\n",
    "\n",
    "def cross_val_predict_with_obj(regr, obj, X_train, y_train, groups, cv_n=5):\n",
    "    kf = GroupKFold(cv_n)\n",
    "    cv_preds = np.zeros_like(y_train)\n",
    "    for tr_i, te_i in kf.split(X_train, y_train, groups):\n",
    "        regr = clone(regr).set_params(objective=obj(groups[tr_i]))\n",
    "        regr.fit(X_train[tr_i], y_train[tr_i])\n",
    "        cv_preds[te_i] = regr.predict(X_train[te_i])\n",
    "    return cv_preds"
   ]
  },
  {
   "cell_type": "code",
   "execution_count": 114,
   "metadata": {
    "ExecuteTime": {
     "end_time": "2018-10-10T16:32:14.491664Z",
     "start_time": "2018-10-10T16:18:16.804168Z"
    }
   },
   "outputs": [
    {
     "data": {
      "text/plain": [
       "0.8725305780631746"
      ]
     },
     "execution_count": 114,
     "metadata": {},
     "output_type": "execute_result"
    }
   ],
   "source": [
    "cv_pred_exp = cross_val_predict_with_obj(xgb.XGBModel(), ExponentialPairwiseLoss, X_train, y_train, query_ids[train_ids])\n",
    "\n",
    "m.ndcg_score(y_train, cv_pred_exp)"
   ]
  },
  {
   "cell_type": "code",
   "execution_count": null,
   "metadata": {
    "ExecuteTime": {
     "start_time": "2018-10-10T16:16:36.638Z"
    }
   },
   "outputs": [],
   "source": [
    "regr = xgb.XGBModel(objective=ExponentialPairwiseLoss(groups=query_ids[train_ids]))\n",
    "regr.fit(X_train, y_train)\n",
    "pred_exp = regr.predict(X_test)\n",
    "m.ndcg_score(y_test, pred_exp)"
   ]
  },
  {
   "cell_type": "code",
   "execution_count": null,
   "metadata": {
    "ExecuteTime": {
     "start_time": "2018-10-10T16:16:37.366Z"
    }
   },
   "outputs": [],
   "source": [
    "cv_res_rank_exp = {\n",
    "    cv_pred = cv_pred_exp,\n",
    "    cv_ndcg = m.ndcg_score(y_train, cv_pred_exp),\n",
    "    val_pred = pred_exp,\n",
    "    val_ndcg = m.ndcg_score(y_test, pred_exp)\n",
    "}"
   ]
  },
  {
   "cell_type": "code",
   "execution_count": null,
   "metadata": {
    "ExecuteTime": {
     "start_time": "2018-10-10T16:16:40.478Z"
    }
   },
   "outputs": [],
   "source": [
    "print(cv_res_rank_exp['val_ndcg'], cv_res_rank_exp['cv_ndcg'])"
   ]
  },
  {
   "cell_type": "markdown",
   "metadata": {},
   "source": [
    "**(1.3 балл) Задание 4.** Сравните построенные модели с точки зрения метрики nDCG на контроле и проанализируйте полученные результаты:\n",
    "  - какая модель работает лучше всего для данной задачи? \n",
    "  - в чем достоинства/недостатки каждой? \n",
    "  - сравните модели между собой: \n",
    "   - получается ли сравнимое качество линейного pointwise подхода с остальными моделями? \n",
    "   - заметна ли разница в качестве при использовании бустинга с разными функциями потерь?"
   ]
  },
  {
   "cell_type": "code",
   "execution_count": null,
   "metadata": {
    "collapsed": true
   },
   "outputs": [],
   "source": []
  }
 ],
 "metadata": {
  "kernelspec": {
   "display_name": "Python 3",
   "language": "python",
   "name": "python3"
  },
  "language_info": {
   "codemirror_mode": {
    "name": "ipython",
    "version": 3
   },
   "file_extension": ".py",
   "mimetype": "text/x-python",
   "name": "python",
   "nbconvert_exporter": "python",
   "pygments_lexer": "ipython3",
   "version": "3.6.0"
  },
  "toc": {
   "base_numbering": 1,
   "nav_menu": {},
   "number_sections": true,
   "sideBar": true,
   "skip_h1_title": false,
   "title_cell": "Table of Contents",
   "title_sidebar": "Contents",
   "toc_cell": false,
   "toc_position": {},
   "toc_section_display": true,
   "toc_window_display": false
  }
 },
 "nbformat": 4,
 "nbformat_minor": 2
}
