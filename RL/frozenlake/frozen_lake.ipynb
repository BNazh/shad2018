{
 "cells": [
  {
   "cell_type": "markdown",
   "metadata": {
    "toc": true
   },
   "source": [
    "<h1>Table of Contents<span class=\"tocSkip\"></span></h1>\n",
    "<div class=\"toc\"><ul class=\"toc-item\"><li><span><a href=\"#imports\" data-toc-modified-id=\"imports-1\"><span class=\"toc-item-num\">1&nbsp;&nbsp;</span>imports</a></span></li><li><span><a href=\"#data\" data-toc-modified-id=\"data-2\"><span class=\"toc-item-num\">2&nbsp;&nbsp;</span>data</a></span></li><li><span><a href=\"#play\" data-toc-modified-id=\"play-3\"><span class=\"toc-item-num\">3&nbsp;&nbsp;</span>play</a></span></li><li><span><a href=\"#draw\" data-toc-modified-id=\"draw-4\"><span class=\"toc-item-num\">4&nbsp;&nbsp;</span>draw</a></span></li><li><span><a href=\"#sandbox\" data-toc-modified-id=\"sandbox-5\"><span class=\"toc-item-num\">5&nbsp;&nbsp;</span>sandbox</a></span></li></ul></div>"
   ]
  },
  {
   "cell_type": "markdown",
   "metadata": {},
   "source": [
    "# imports"
   ]
  },
  {
   "cell_type": "code",
   "execution_count": 2,
   "metadata": {
    "ExecuteTime": {
     "end_time": "2018-09-12T09:44:08.625904Z",
     "start_time": "2018-09-12T09:44:06.080719Z"
    },
    "collapsed": true
   },
   "outputs": [],
   "source": [
    "import numpy as np"
   ]
  },
  {
   "cell_type": "markdown",
   "metadata": {},
   "source": [
    "# data"
   ]
  },
  {
   "cell_type": "code",
   "execution_count": 529,
   "metadata": {
    "ExecuteTime": {
     "end_time": "2018-09-12T12:53:20.361004Z",
     "start_time": "2018-09-12T12:53:20.356994Z"
    },
    "collapsed": true
   },
   "outputs": [],
   "source": [
    "lake = np.array([\n",
    "    list('SFFFF'),\n",
    "    list('FHFHF'),\n",
    "    list('FHFHF'),\n",
    "    list('FFFHF'),\n",
    "    list('HFFGF')\n",
    "])"
   ]
  },
  {
   "cell_type": "markdown",
   "metadata": {},
   "source": [
    "# play"
   ]
  },
  {
   "cell_type": "code",
   "execution_count": 558,
   "metadata": {
    "ExecuteTime": {
     "end_time": "2018-09-12T13:06:14.000468Z",
     "start_time": "2018-09-12T13:06:13.845060Z"
    },
    "collapsed": true
   },
   "outputs": [],
   "source": [
    "def get_state(state_tup):\n",
    "    if 0 <= state_tup[0] < lake.shape[0] and 0 <= state_tup[1] < lake.shape[1]:\n",
    "        return lake[state_tup]\n",
    "    else:\n",
    "        return 'H'\n",
    "\n",
    "\n",
    "def get_line_no(state_tup):\n",
    "    return state_tup[0] * lake.shape[1] + state_tup[1]\n",
    "\n",
    "def get_tup(line_no):\n",
    "    return (line_no // lake.shape[1], line_no % lake.shape[1])\n",
    "\n",
    "def perform_action(action, state_tup):\n",
    "    if action == 0:\n",
    "        return (state_tup[0] - 1, state_tup[1])\n",
    "    elif action == 1:\n",
    "        return (state_tup[0], state_tup[1] + 1)\n",
    "    elif action == 2:\n",
    "        return (state_tup[0] + 1, state_tup[1])\n",
    "    elif action == 3:\n",
    "        return (state_tup[0], state_tup[1] - 1)\n",
    "\n",
    "\n",
    "def session(state_tup, distr):\n",
    "    state = get_state(state_tup)\n",
    "    z = []\n",
    "    while state not in ['H', 'G']:\n",
    "        action_distr = distr[:, get_line_no(state_tup)]\n",
    "        action = np.random.choice(range(4), p=action_distr)\n",
    "        old_state_tup = state_tup\n",
    "        state_tup = perform_action(action, state_tup)\n",
    "        state = get_state(state_tup)\n",
    "        z.append((old_state_tup, action))\n",
    "    return z, state_tup, state\n",
    "\n",
    "\n",
    "def get_good_sessions(sessions):\n",
    "    rewards = []\n",
    "    for sess in sessions:\n",
    "        rewards.append((sess[-1] == 'G') / len(sess[0]))\n",
    "    return [sess  for sess, rew in zip(sessions, rewards) if rew > np.median(rewards)]\n",
    "\n",
    "def recalculate_distr_matrix(all_sessions, distr):\n",
    "    good_sessions = get_good_sessions(all_sessions)\n",
    "    new_distr = np.ones_like(distr)\n",
    "    for sess in good_sessions:\n",
    "        for state_tup, action in sess[0]:\n",
    "            new_distr[action, get_line_no(state_tup)] += 1\n",
    "#     plot_distr(new_distr)\n",
    "    new_distr /= new_distr.sum(axis=0, keepdims=True)\n",
    "    to_replace = np.isnan(new_distr).any(axis=0)\n",
    "    new_distr[:, to_replace] = distr[:, to_replace]\n",
    "    return new_distr\n",
    "\n",
    "\n",
    "def plot_distr(distr):\n",
    "    plt.figure(figsize=(distr.shape[1], distr.shape[0]))\n",
    "    sns.heatmap(distr, annot=True)\n",
    "    plt.show()\n",
    "\n",
    "\n",
    "def iteration(distr):\n",
    "    sss = []\n",
    "    for i in range(1000):\n",
    "        sss.append(session((0, 0), distr))\n",
    "    new_distr = recalculate_distr_matrix(sss, distr)\n",
    "    return new_distr"
   ]
  },
  {
   "cell_type": "code",
   "execution_count": 565,
   "metadata": {
    "ExecuteTime": {
     "end_time": "2018-09-12T13:07:01.057162Z",
     "start_time": "2018-09-12T13:06:59.907165Z"
    },
    "scrolled": false
   },
   "outputs": [
    {
     "data": {
      "image/png": "[encoded data removed]",
      "text/plain": [
       "<matplotlib.figure.Figure at 0x18498b0cdd8>"
      ]
     },
     "metadata": {},
     "output_type": "display_data"
    }
   ],
   "source": [
    "A = np.full((4, np.prod(lake.shape)), 0.25)\n",
    "new_distr = A.copy()\n",
    "for i in range(5):\n",
    "    new_distr = iteration(new_distr)\n",
    "plot_distr(new_distr)"
   ]
  },
  {
   "cell_type": "markdown",
   "metadata": {},
   "source": [
    "# draw"
   ]
  },
  {
   "cell_type": "code",
   "execution_count": 568,
   "metadata": {
    "ExecuteTime": {
     "end_time": "2018-09-12T13:07:11.521485Z",
     "start_time": "2018-09-12T13:07:11.506445Z"
    },
    "collapsed": true
   },
   "outputs": [],
   "source": [
    "def render_cell(up=False, right=False, down=False, left=False, text=''):\n",
    "    return \"\"\"{text}{left}{up}{right}{down}\"\"\".format(\n",
    "        text=text,\n",
    "        left='\\u2190' if left else ' ',\n",
    "        up='\\u2191' if up else ' ',\n",
    "        down='\\u2193' if down else ' ',\n",
    "        right='\\u2192' if right else ' ',\n",
    "    )\n",
    "\n",
    "\n",
    "def draw_startegy(distr):\n",
    "    res = np.full(lake.shape, None)\n",
    "    for i in range(distr.shape[1]):\n",
    "        tup = get_tup(i)\n",
    "        action_distr = distr[:, i]\n",
    "        t = tuple(action_distr > 0.25)\n",
    "        res[tup] = render_cell(*t, text='%s: ' % get_state(tup))\n",
    "    return ('\\n%s\\n' % ('-' * (lake.shape[1] * 10 + 1))).join(\n",
    "        ['| %s |' % ' | '.join(line) for line in res])"
   ]
  },
  {
   "cell_type": "code",
   "execution_count": 569,
   "metadata": {
    "ExecuteTime": {
     "end_time": "2018-09-12T13:07:12.686084Z",
     "start_time": "2018-09-12T13:07:12.682075Z"
    }
   },
   "outputs": [
    {
     "name": "stdout",
     "output_type": "stream",
     "text": [
      "| S:   →↓ | F:   →  | F:    ↓ | F:      | F:      |\n",
      "---------------------------------------------------\n",
      "| F:    ↓ | H:      | F:    ↓ | H:      | F:      |\n",
      "---------------------------------------------------\n",
      "| F:    ↓ | H:      | F:    ↓ | H:      | F:      |\n",
      "---------------------------------------------------\n",
      "| F:   →  | F:    ↓ | F:    ↓ | H:      | F:      |\n",
      "---------------------------------------------------\n",
      "| H:      | F:   →  | F:   →  | G:      | F:      |\n"
     ]
    }
   ],
   "source": [
    "res = draw_startegy(new_distr)\n",
    "\n",
    "\n",
    "print(res)"
   ]
  },
  {
   "cell_type": "code",
   "execution_count": 493,
   "metadata": {
    "ExecuteTime": {
     "end_time": "2018-09-12T12:23:28.719863Z",
     "start_time": "2018-09-12T12:23:28.714321Z"
    },
    "deletable": false,
    "editable": false,
    "run_control": {
     "frozen": true
    }
   },
   "outputs": [
    {
     "name": "stdout",
     "output_type": "stream",
     "text": [
      "| S:   →↓ | F:   →  | F:   →  | F:   →  | F:    ↓ |\n",
      "---------------------------------------------------\n",
      "| F:  ↑   | H:      | F:      | H:      | F:    ↓ |\n",
      "---------------------------------------------------\n",
      "| F:      | F:      | F:      | H:      | F:    ↓ |\n",
      "---------------------------------------------------\n",
      "| H:      | F:      | H:      | G:      | F: ←    |\n"
     ]
    }
   ],
   "source": [
    "res = draw_startegy(new_distr)\n",
    "\n",
    "\n",
    "print(res)"
   ]
  },
  {
   "cell_type": "code",
   "execution_count": 549,
   "metadata": {
    "ExecuteTime": {
     "end_time": "2018-09-12T13:01:04.103413Z",
     "start_time": "2018-09-12T13:00:52.989422Z"
    },
    "collapsed": true
   },
   "outputs": [],
   "source": [
    "import seaborn as sns"
   ]
  },
  {
   "cell_type": "code",
   "execution_count": 557,
   "metadata": {
    "ExecuteTime": {
     "end_time": "2018-09-12T13:05:05.710330Z",
     "start_time": "2018-09-12T13:05:05.202367Z"
    }
   },
   "outputs": [
    {
     "data": {
      "image/png": "[encoded data removed]",
      "text/plain": [
       "<matplotlib.figure.Figure at 0x1849da68400>"
      ]
     },
     "metadata": {},
     "output_type": "display_data"
    }
   ],
   "source": []
  },
  {
   "cell_type": "markdown",
   "metadata": {},
   "source": [
    "# sandbox"
   ]
  },
  {
   "cell_type": "code",
   "execution_count": 570,
   "metadata": {
    "ExecuteTime": {
     "end_time": "2018-09-12T13:21:00.701537Z",
     "start_time": "2018-09-12T13:21:00.698557Z"
    },
    "collapsed": true
   },
   "outputs": [],
   "source": [
    "from sklearn.neural_network import MLPClassifier"
   ]
  },
  {
   "cell_type": "code",
   "execution_count": null,
   "metadata": {
    "collapsed": true
   },
   "outputs": [],
   "source": [
    "MLPClassifier()"
   ]
  },
  {
   "cell_type": "code",
   "execution_count": null,
   "metadata": {
    "collapsed": true
   },
   "outputs": [],
   "source": []
  }
 ],
 "metadata": {
  "anaconda-cloud": {},
  "kernelspec": {
   "display_name": "Python [default]",
   "language": "python",
   "name": "python3"
  },
  "language_info": {
   "codemirror_mode": {
    "name": "ipython",
    "version": 3
   },
   "file_extension": ".py",
   "mimetype": "text/x-python",
   "name": "python",
   "nbconvert_exporter": "python",
   "pygments_lexer": "ipython3",
   "version": "3.5.2"
  },
  "toc": {
   "base_numbering": 1,
   "nav_menu": {},
   "number_sections": true,
   "sideBar": true,
   "skip_h1_title": false,
   "title_cell": "Table of Contents",
   "title_sidebar": "Contents",
   "toc_cell": true,
   "toc_position": {},
   "toc_section_display": true,
   "toc_window_display": true
  }
 },
 "nbformat": 4,
 "nbformat_minor": 2
}
