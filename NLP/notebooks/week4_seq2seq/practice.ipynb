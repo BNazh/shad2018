{
 "cells": [
  {
   "cell_type": "markdown",
   "metadata": {},
   "source": [
    "## Seminar and homework (10 points total)\n",
    "\n",
    "Today we shall compose encoder-decoder neural networks and apply them to the task of machine translation.\n",
    "\n",
    "![img](https://esciencegroup.files.wordpress.com/2016/03/seq2seq.jpg)\n",
    "_(img: esciencegroup.files.wordpress.com)_\n",
    "\n",
    "\n",
    "Encoder-decoder architectures are about converting anything to anything, including\n",
    " * Machine translation and spoken dialogue systems\n",
    " * [Image captioning](http://mscoco.org/dataset/#captions-challenge2015) and [image2latex](https://openai.com/requests-for-research/#im2latex) (convolutional encoder, recurrent decoder)\n",
    " * Generating [images by captions](https://arxiv.org/abs/1511.02793) (recurrent encoder, convolutional decoder)\n",
    " * Grapheme2phoneme - convert words to transcripts"
   ]
  },
  {
   "cell_type": "markdown",
   "metadata": {},
   "source": [
    "## Our task: machine translation\n",
    "\n",
    "We gonna try our encoder-decoder models on russian to english machine translation problem. More specifically, we'll translate hotel and hostel descriptions. This task shows the scale of machine translation while not requiring you to train your model for weeks if you don't use GPU.\n",
    "\n",
    "Before we get to the architecture, there's some preprocessing to be done. ~~Go tokenize~~ Alright, this time we've done preprocessing for you. As usual, the data will be tokenized with WordPunctTokenizer.\n",
    "\n",
    "However, there's one more thing to do. Our data lines contain unique rare words. If we operate on a word level, we will have to deal with large vocabulary size. If instead we use character-level models, it would take lots of iterations to process a sequence. This time we're gonna pick something inbetween.\n",
    "\n",
    "One popular approach is called [Byte Pair Encoding](https://github.com/rsennrich/subword-nmt) aka __BPE__. The algorithm starts with a character-level tokenization and then iteratively merges most frequent pairs for N iterations. This results in frequent words being merged into a single token and rare words split into syllables or even characters.\n",
    "\n"
   ]
  },
  {
   "cell_type": "code",
   "execution_count": 1,
   "metadata": {
    "ExecuteTime": {
     "end_time": "2018-10-18T23:35:16.210637Z",
     "start_time": "2018-10-18T23:35:16.204080Z"
    }
   },
   "outputs": [],
   "source": [
    "# !pip install subword-nmt &> log\n",
    "# !wget https://github.com/yandexdataschool/nlp_course/raw/62c1410427385336ef2bea74b09cba39c956207d/week4_seq2seq/data.txt -O data.txt 2> log\n",
    "# !wget https://github.com/yandexdataschool/nlp_course/raw/62c1410427385336ef2bea74b09cba39c956207d/week4_seq2seq/utils.py -O utils.py 2> log\n",
    "# !wget https://github.com/yandexdataschool/nlp_course/raw/62c1410427385336ef2bea74b09cba39c956207d/week4_seq2seq/dummy_checkpoint.npz -O dummy_checkpoint.npz 2> log\n",
    "#thanks to tilda and deephack teams for the data"
   ]
  },
  {
   "cell_type": "code",
   "execution_count": 2,
   "metadata": {
    "ExecuteTime": {
     "end_time": "2018-10-18T23:35:36.823802Z",
     "start_time": "2018-10-18T23:35:16.708181Z"
    }
   },
   "outputs": [],
   "source": [
    "from nltk.tokenize import WordPunctTokenizer\n",
    "from subword_nmt.learn_bpe import learn_bpe\n",
    "from subword_nmt.apply_bpe import BPE\n",
    "tokenizer = WordPunctTokenizer()\n",
    "def tokenize(x):\n",
    "    return ' '.join(tokenizer.tokenize(x.lower()))\n",
    "\n",
    "# split and tokenize the data\n",
    "with open('train.en', 'w') as f_src,  open('train.ru', 'w') as f_dst:\n",
    "    for line in open('data.txt'):\n",
    "        src_line, dst_line = line.strip().split('\\t')\n",
    "        f_src.write(tokenize(src_line) + '\\n')\n",
    "        f_dst.write(tokenize(dst_line) + '\\n')\n",
    "\n",
    "# build and apply bpe vocs\n",
    "bpe = {}\n",
    "for lang in ['en', 'ru']:\n",
    "    learn_bpe(open('./train.' + lang), open('bpe_rules.' + lang, 'w'), num_symbols=8000)\n",
    "    bpe[lang] = BPE(open('./bpe_rules.' + lang))\n",
    "    \n",
    "    with open('train.bpe.' + lang, 'w') as f_out:\n",
    "        for line in open('train.' + lang):\n",
    "            f_out.write(bpe[lang].process_line(line.strip()) + '\\n')"
   ]
  },
  {
   "cell_type": "markdown",
   "metadata": {},
   "source": [
    "### Building vocabularies\n",
    "\n",
    "We now need to build vocabularies that map strings to token ids and vice versa. We're gonna need these fellas when we feed training data into model or convert output matrices into words."
   ]
  },
  {
   "cell_type": "code",
   "execution_count": 3,
   "metadata": {
    "ExecuteTime": {
     "end_time": "2018-10-18T23:35:36.935200Z",
     "start_time": "2018-10-18T23:35:36.828668Z"
    }
   },
   "outputs": [],
   "source": [
    "import numpy as np\n",
    "import matplotlib.pyplot as plt\n",
    "%matplotlib inline"
   ]
  },
  {
   "cell_type": "code",
   "execution_count": 4,
   "metadata": {
    "ExecuteTime": {
     "end_time": "2018-10-18T23:35:37.149030Z",
     "start_time": "2018-10-18T23:35:36.936682Z"
    }
   },
   "outputs": [
    {
     "name": "stdout",
     "output_type": "stream",
     "text": [
      "inp: на территории обустроена бесплатная частная парковка .\n",
      "out: free private parking is available on site .\n",
      "\n",
      "inp: кроме того , в 5 минутах ходьбы работают многочисленные бары и рестораны .\n",
      "out: guests can find many bars and restaurants within a 5 - minute walk .\n",
      "\n",
      "inp: отель san mi@@ gu@@ el расположен в центре мор@@ ели@@ и , в 750 метрах от главной площади города и кафедрального собора .\n",
      "out: hotel san miguel is located in central more@@ lia , 750 metres from the city ’ s main square and cathedral .\n",
      "\n"
     ]
    }
   ],
   "source": [
    "data_inp = np.array(open('./train.bpe.ru').read().split('\\n'))\n",
    "data_out = np.array(open('./train.bpe.en').read().split('\\n'))\n",
    "\n",
    "from sklearn.model_selection import train_test_split\n",
    "train_inp, dev_inp, train_out, dev_out = train_test_split(data_inp, data_out, test_size=3000,\n",
    "                                                          random_state=42)\n",
    "for i in range(3):\n",
    "    print('inp:', train_inp[i])\n",
    "    print('out:', train_out[i], end='\\n\\n')"
   ]
  },
  {
   "cell_type": "code",
   "execution_count": 5,
   "metadata": {
    "ExecuteTime": {
     "end_time": "2018-10-18T23:35:38.068998Z",
     "start_time": "2018-10-18T23:35:37.151019Z"
    }
   },
   "outputs": [],
   "source": [
    "from utils import Vocab\n",
    "inp_voc = Vocab.from_lines(train_inp)\n",
    "out_voc = Vocab.from_lines(train_out)"
   ]
  },
  {
   "cell_type": "code",
   "execution_count": 6,
   "metadata": {
    "ExecuteTime": {
     "end_time": "2018-10-18T23:35:38.139221Z",
     "start_time": "2018-10-18T23:35:38.070071Z"
    }
   },
   "outputs": [
    {
     "name": "stdout",
     "output_type": "stream",
     "text": [
      "lines\n",
      "['гостевой дом r .', 'до афин — 20 км .', 'работает боулинг .', 'оборудован балкон .', 'подключен wi - fi .']\n",
      "\n",
      "words to ids (0 = bos, 1 = eos):\n",
      "[[   0 2688 2943 1108   29    1    1    1]\n",
      " [   0 2922 1834 8035   59 3800   29    1]\n",
      " [   0 6030 2083   29    1    1    1    1]\n",
      " [   0 4927 1870   29    1    1    1    1]\n",
      " [   0 5549 1453   27  592   29    1    1]]\n",
      "\n",
      "back to words\n",
      "['гостевой дом r .', 'до афин — 20 км .', 'работает боулинг .', 'оборудован балкон .', 'подключен wi - fi .']\n"
     ]
    }
   ],
   "source": [
    "# Here's how you cast lines into ids and backwards.\n",
    "batch_lines = sorted(train_inp, key=len)[5:10]\n",
    "batch_ids = inp_voc.to_matrix(batch_lines)\n",
    "batch_lines_restored = inp_voc.to_lines(batch_ids)\n",
    "\n",
    "print(\"lines\")\n",
    "print(batch_lines)\n",
    "print(\"\\nwords to ids (0 = bos, 1 = eos):\")\n",
    "print(batch_ids)\n",
    "print(\"\\nback to words\")\n",
    "print(batch_lines_restored)"
   ]
  },
  {
   "cell_type": "markdown",
   "metadata": {},
   "source": [
    "Draw source and translation length distributions to estimate the scope of the task."
   ]
  },
  {
   "cell_type": "code",
   "execution_count": 7,
   "metadata": {
    "ExecuteTime": {
     "end_time": "2018-10-18T23:35:38.595330Z",
     "start_time": "2018-10-18T23:35:38.140352Z"
    }
   },
   "outputs": [
    {
     "data": {
      "image/png": "[encoded data removed]",
      "text/plain": [
       "<Figure size 576x288 with 2 Axes>"
      ]
     },
     "metadata": {
      "needs_background": "light"
     },
     "output_type": "display_data"
    }
   ],
   "source": [
    "plt.figure(figsize=[8, 4])\n",
    "plt.subplot(1, 2, 1)\n",
    "plt.title(\"source length\")\n",
    "plt.hist(list(map(len, map(str.split, train_inp))), bins=20);\n",
    "\n",
    "plt.subplot(1, 2, 2)\n",
    "plt.title(\"translation length\")\n",
    "plt.hist(list(map(len, map(str.split, train_out))), bins=20);"
   ]
  },
  {
   "cell_type": "markdown",
   "metadata": {},
   "source": [
    "### Encoder-decoder model\n",
    "\n",
    "The code below contas a template for a simple encoder-decoder model: single GRU encoder/decoder, no attention or anything. This model is implemented for you as a reference and a baseline for your homework assignment."
   ]
  },
  {
   "cell_type": "code",
   "execution_count": 8,
   "metadata": {
    "ExecuteTime": {
     "end_time": "2018-10-18T23:35:38.616990Z",
     "start_time": "2018-10-18T23:35:38.596567Z"
    }
   },
   "outputs": [
    {
     "name": "stderr",
     "output_type": "stream",
     "text": [
      "Using TensorFlow backend.\n"
     ]
    }
   ],
   "source": [
    "import tensorflow as tf\n",
    "import keras.layers as L\n",
    "from utils import infer_length, infer_mask"
   ]
  },
  {
   "cell_type": "code",
   "execution_count": 9,
   "metadata": {
    "ExecuteTime": {
     "end_time": "2018-10-18T23:35:38.630062Z",
     "start_time": "2018-10-18T23:35:38.618585Z"
    }
   },
   "outputs": [],
   "source": [
    "class BasicModel:\n",
    "    def __init__(self, name, inp_voc, out_voc, emb_size=64, hid_size=128):\n",
    "        \"\"\"\n",
    "        A simple encoder-decoder model\n",
    "        \"\"\"\n",
    "        self.name, self.inp_voc, self.out_voc = name, inp_voc, out_voc\n",
    "\n",
    "        with tf.variable_scope(name):\n",
    "            self.emb_inp = L.Embedding(len(inp_voc), emb_size)\n",
    "            self.emb_out = L.Embedding(len(out_voc), emb_size)\n",
    "            self.enc0 = tf.nn.rnn_cell.GRUCell(hid_size)\n",
    "\n",
    "            self.dec_start = L.Dense(hid_size)\n",
    "            self.dec0 = tf.nn.rnn_cell.GRUCell(hid_size)\n",
    "            self.logits = L.Dense(len(out_voc))\n",
    "\n",
    "            # prepare to translate_lines\n",
    "            self.inp = tf.placeholder('int32', [None, None])\n",
    "            self.initial_state = self.prev_state = self.encode(self.inp)\n",
    "            self.prev_tokens = tf.placeholder('int32', [None])\n",
    "            self.next_state, self.next_logits = self.decode(self.prev_state, self.prev_tokens)\n",
    "        \n",
    "        self.weights = tf.get_collection(tf.GraphKeys.TRAINABLE_VARIABLES, scope=name)\n",
    "\n",
    "    def encode(self, inp, **flags):\n",
    "        \"\"\"\n",
    "        Takes symbolic input sequence, computes initial state\n",
    "        :param inp: matrix of input tokens [batch, time]\n",
    "        :returns: initial decoder state tensors, one or many\n",
    "        \"\"\"\n",
    "        inp_lengths = infer_length(inp, self.inp_voc.eos_ix)\n",
    "        inp_emb = self.emb_inp(inp)\n",
    "        with tf.variable_scope('enc0'):\n",
    "            _, enc_last = tf.nn.dynamic_rnn(\n",
    "                              self.enc0, inp_emb,\n",
    "                              sequence_length=inp_lengths,\n",
    "                              dtype = inp_emb.dtype)\n",
    "        dec_start = self.dec_start(enc_last)\n",
    "        return [dec_start]\n",
    "\n",
    "    def decode(self, prev_state, prev_tokens, **flags):\n",
    "        \"\"\"\n",
    "        Takes previous decoder state and tokens, returns new state and logits for next tokens\n",
    "        :param prev_state: a list of previous decoder state tensors\n",
    "        :param prev_tokens: previous output tokens, an int vector of [batch_size]\n",
    "        :return: a list of next decoder state tensors, a tensor of logits [batch, n_tokens]\n",
    "        \"\"\"\n",
    "        [prev_dec] = prev_state\n",
    "        prev_emb = self.emb_out(prev_tokens[:,None])[:,0]\n",
    "        with tf.variable_scope('dec0'):\n",
    "            new_dec_out, new_dec_state = self.dec0(prev_emb, prev_dec)\n",
    "        output_logits = self.logits(new_dec_out)\n",
    "        return [new_dec_state], output_logits\n",
    "\n",
    "    def translate_lines(self, inp_lines, max_len=100):\n",
    "        \"\"\"\n",
    "        Translates a list of lines by greedily selecting most likely next token at each step\n",
    "        :returns: a list of output lines, a sequence of model states at each step\n",
    "        \"\"\"\n",
    "        state = sess.run(self.initial_state, {self.inp: inp_voc.to_matrix(inp_lines)})\n",
    "        outputs = [[self.out_voc.bos_ix] for _ in range(len(inp_lines))]\n",
    "        all_states = [state]\n",
    "        finished = [False] * len(inp_lines)\n",
    "\n",
    "        for t in range(max_len):\n",
    "            state, logits = sess.run([self.next_state, self.next_logits], {**dict(zip(self.prev_state, state)),\n",
    "                                           self.prev_tokens: [out_i[-1] for out_i in outputs]})\n",
    "            next_tokens = np.argmax(logits, axis=-1)\n",
    "            all_states.append(state)\n",
    "            for i in range(len(next_tokens)):\n",
    "                outputs[i].append(next_tokens[i])\n",
    "                finished[i] |= next_tokens[i] == self.out_voc.eos_ix\n",
    "        return out_voc.to_lines(outputs), all_states"
   ]
  },
  {
   "cell_type": "code",
   "execution_count": 10,
   "metadata": {
    "ExecuteTime": {
     "end_time": "2018-10-18T23:35:38.854555Z",
     "start_time": "2018-10-18T23:35:38.631870Z"
    }
   },
   "outputs": [],
   "source": [
    "# with tf.device('/device:GPU:0'):\n",
    "tf.reset_default_graph()\n",
    "sess = tf.InteractiveSession(config=tf.ConfigProto(log_device_placement=True, allow_soft_placement=True))\n",
    "# ^^^ if you get \"variable *** already exists\": re-run this cell again - it will clear all tf operations youve 'built\n",
    "\n",
    "model = BasicModel('model', inp_voc, out_voc)\n",
    "sess.run(tf.global_variables_initializer())"
   ]
  },
  {
   "cell_type": "markdown",
   "metadata": {},
   "source": [
    "### Training loss (2 points)\n",
    "\n",
    "Our training objetive is almost the same as it was for neural language models:\n",
    "$$ L = {\\frac1{|D|}} \\sum_{X, Y \\in D} \\sum_{y_t \\in Y} - \\log p(y_t \\mid y_1, \\dots, y_{t-1}, X, \\theta) $$\n",
    "\n",
    "where $|D|$ is the __total length of all sequences__, including BOS and first EOS, but excluding PAD."
   ]
  },
  {
   "cell_type": "code",
   "execution_count": 11,
   "metadata": {
    "ExecuteTime": {
     "end_time": "2018-10-18T23:35:38.877943Z",
     "start_time": "2018-10-18T23:35:38.858918Z"
    }
   },
   "outputs": [],
   "source": [
    "def compute_logits(model, inp, out, **flags):\n",
    "    \"\"\"\n",
    "    :param inp: input tokens matrix, int32[batch, time]\n",
    "    :param out: reference tokens matrix, int32[batch, time]\n",
    "    :returns: logits of shape [batch, time, voc_size]\n",
    "    \n",
    "    * logits must be a linear output of your neural network.\n",
    "    * logits [:, 0, :] should always predic BOS\n",
    "    * logits [:, -1, :] should be probabilities of last token in out\n",
    "    This function should NOT return logits predicted when taking out[:, -1] as y_prev\n",
    "    \"\"\"\n",
    "    batch_size = tf.shape(inp)[0]\n",
    "    \n",
    "    # Encode inp, get initial state\n",
    "    first_state = model.encode(inp)\n",
    "    \n",
    "    # initial logits: always predict BOS\n",
    "    first_logits = tf.log(tf.one_hot(tf.fill([batch_size], model.out_voc.bos_ix),\n",
    "                                     len(model.out_voc)) + 1e-30)\n",
    "    \n",
    "    # Decode step\n",
    "    def step(blob, y_prev):\n",
    "        # Given previous state, obtain next state and next token logits\n",
    "        prev_state, logits = blob\n",
    "        state, logits = model.decode(prev_state, y_prev)\n",
    "        return [state, logits]\n",
    "\n",
    "    # You can now use tf.scan to run step several times.\n",
    "    # use tf.transpose(out) as elems (to process one time-step at a time)\n",
    "    # docs: https://www.tensorflow.org/api_docs/python/tf/scan\n",
    "    \n",
    "    out = tf.scan(\n",
    "        step,\n",
    "        elems=tf.transpose(out)[:-1],\n",
    "        initializer=[first_state, first_logits],\n",
    "    )\n",
    "    \n",
    "    logits_seq = out[1]\n",
    "    \n",
    "#     # prepend first_logits to logits_seq\n",
    "    logits_seq = tf.concat([tf.reshape(first_logits, (1, batch_size, -1)), \n",
    "                           logits_seq], axis=0)\n",
    "    \n",
    "#     # Make sure you convert logits_seq from [time, batch, voc_size] to [batch, time, voc_size]\n",
    "    logits_seq = tf.transpose(logits_seq, (1, 0, 2))\n",
    "    \n",
    "#     return logits_seq\n",
    "    return logits_seq"
   ]
  },
  {
   "cell_type": "code",
   "execution_count": 12,
   "metadata": {
    "ExecuteTime": {
     "end_time": "2018-10-18T23:35:39.196436Z",
     "start_time": "2018-10-18T23:35:38.884892Z"
    }
   },
   "outputs": [],
   "source": [
    "from utils import load\n",
    "load(tf.trainable_variables(), 'dummy_checkpoint.npz')\n",
    "dummy_inp = tf.constant(inp_voc.to_matrix(train_inp[:3]))\n",
    "dummy_out = tf.constant(out_voc.to_matrix(train_out[:3]))\n",
    "dummy_logits = sess.run(compute_logits(model, dummy_inp, dummy_out))\n",
    "dummy_ref = np.array([-0.13257082, -0.11084784, -0.09024167, -0.14910498], dtype='float32')\n",
    "assert np.allclose(dummy_logits.sum(-1)[0, 1:5], dummy_ref)\n",
    "ref_shape = (dummy_out.shape[0], dummy_out.shape[1], len(out_voc))\n",
    "assert dummy_logits.shape == ref_shape, \"Your logits shape should be {} but got {}\".format(dummy_logits.shape, ref_shape)\n",
    "assert all(dummy_logits[:, 0].argmax(-1) == out_voc.bos_ix), \"first step must always be BOS\""
   ]
  },
  {
   "cell_type": "code",
   "execution_count": 13,
   "metadata": {
    "ExecuteTime": {
     "end_time": "2018-10-18T23:35:39.200785Z",
     "start_time": "2018-10-18T23:35:39.197716Z"
    },
    "scrolled": true
   },
   "outputs": [],
   "source": [
    "from utils import select_values_over_last_axis\n",
    "\n",
    "def compute_loss(model, inp, out, **flags):\n",
    "    \"\"\"\n",
    "    Compute loss (float32 scalar) as in the formula above\n",
    "    :param inp: input tokens matrix, int32[batch, time]\n",
    "    :param out: reference tokens matrix, int32[batch, time]\n",
    "    \n",
    "    In order to pass the tests, your function should\n",
    "    * include loss at first EOS but not the subsequent ones\n",
    "    * divide sum of losses by a sum of input lengths (use infer_length or infer_mask)\n",
    "    \"\"\"\n",
    "    mask = infer_mask(out, out_voc.eos_ix)    \n",
    "    logits_seq = compute_logits(model, inp, out, **flags)\n",
    "    \n",
    "    # Compute loss as per instructions above\n",
    "    logp_out= select_values_over_last_axis(tf.nn.log_softmax(logits_seq, -1), out)\n",
    "    \n",
    "    return - tf.reduce_sum(logp_out * mask) / tf.reduce_sum(mask)"
   ]
  },
  {
   "cell_type": "code",
   "execution_count": 14,
   "metadata": {
    "ExecuteTime": {
     "end_time": "2018-10-18T23:35:39.582695Z",
     "start_time": "2018-10-18T23:35:39.201960Z"
    }
   },
   "outputs": [
    {
     "name": "stdout",
     "output_type": "stream",
     "text": [
      "Loss: 8.424398\n"
     ]
    }
   ],
   "source": [
    "dummy_loss = sess.run(compute_loss(model, dummy_inp, dummy_out))\n",
    "print(\"Loss:\", dummy_loss)\n",
    "assert np.allclose(dummy_loss, 8.425, rtol=0.1, atol=0.1), \"We're sorry for your loss\""
   ]
  },
  {
   "cell_type": "markdown",
   "metadata": {},
   "source": [
    "### Evaluation: BLEU\n",
    "\n",
    "Machine translation is commonly evaluated with [BLEU](https://en.wikipedia.org/wiki/BLEU) score. This metric simply computes which fraction of predicted n-grams is actually present in the reference translation. It does so for n=1,2,3 and 4 and computes the geometric average with penalty if translation is shorter than reference.\n",
    "\n",
    "While BLEU [has many drawbacks](http://www.cs.jhu.edu/~ccb/publications/re-evaluating-the-role-of-bleu-in-mt-research.pdf), it still remains the most commonly used metric and one of the simplest to compute."
   ]
  },
  {
   "cell_type": "code",
   "execution_count": 15,
   "metadata": {
    "ExecuteTime": {
     "end_time": "2018-10-18T23:35:39.587150Z",
     "start_time": "2018-10-18T23:35:39.584096Z"
    }
   },
   "outputs": [],
   "source": [
    "from nltk.translate.bleu_score import corpus_bleu\n",
    "def compute_bleu(model, inp_lines, out_lines, bpe_sep='@@ ', **flags):\n",
    "    \"\"\" Estimates corpora-level BLEU score of model's translations given inp and reference out \"\"\"\n",
    "    translations, _ = model.translate_lines(inp_lines, **flags)\n",
    "    # Note: if you experience out-of-memory error, split input lines into batches and translate separately\n",
    "    return corpus_bleu([[ref] for ref in out_lines], translations) * 100"
   ]
  },
  {
   "cell_type": "code",
   "execution_count": 16,
   "metadata": {
    "ExecuteTime": {
     "end_time": "2018-10-18T23:35:50.967273Z",
     "start_time": "2018-10-18T23:35:39.588469Z"
    }
   },
   "outputs": [
    {
     "data": {
      "text/plain": [
       "4.764888431368293"
      ]
     },
     "execution_count": 16,
     "metadata": {},
     "output_type": "execute_result"
    }
   ],
   "source": [
    "compute_bleu(model, dev_inp, dev_out)"
   ]
  },
  {
   "cell_type": "markdown",
   "metadata": {},
   "source": [
    "### Training loop\n",
    "\n",
    "Training encoder-decoder models isn't that different from any other models: sample batches, compute loss, backprop and update"
   ]
  },
  {
   "cell_type": "code",
   "execution_count": 17,
   "metadata": {
    "ExecuteTime": {
     "end_time": "2018-10-18T23:35:51.686259Z",
     "start_time": "2018-10-18T23:35:50.968548Z"
    }
   },
   "outputs": [],
   "source": [
    "inp = tf.placeholder('int32', [None, None])\n",
    "out = tf.placeholder('int32', [None, None])\n",
    "\n",
    "loss = compute_loss(model, inp, out)\n",
    "\n",
    "train_step = tf.train.AdamOptimizer().minimize(loss)"
   ]
  },
  {
   "cell_type": "code",
   "execution_count": 18,
   "metadata": {
    "ExecuteTime": {
     "end_time": "2018-10-18T23:35:51.848203Z",
     "start_time": "2018-10-18T23:35:51.687517Z"
    },
    "scrolled": false
   },
   "outputs": [],
   "source": [
    "from IPython.display import clear_output\n",
    "from tqdm import tqdm, trange\n",
    "metrics = {'train_loss': [], 'dev_bleu': [] }\n",
    "\n",
    "sess.run(tf.global_variables_initializer())\n",
    "batch_size = 32"
   ]
  },
  {
   "cell_type": "code",
   "execution_count": 27,
   "metadata": {
    "ExecuteTime": {
     "end_time": "2018-10-18T18:34:33.707769Z",
     "start_time": "2018-10-18T17:54:35.349527Z"
    },
    "scrolled": true
   },
   "outputs": [
    {
     "data": {
      "image/png": "[encoded data removed]",
      "text/plain": [
       "<Figure size 864x288 with 2 Axes>"
      ]
     },
     "metadata": {
      "needs_background": "light"
     },
     "output_type": "display_data"
    },
    {
     "name": "stdout",
     "output_type": "stream",
     "text": [
      "Mean loss=1.361\n"
     ]
    },
    {
     "name": "stderr",
     "output_type": "stream",
     "text": [
      "100%|██████████| 25000/25000 [39:58<00:00,  2.13it/s]\n"
     ]
    }
   ],
   "source": [
    "for _ in trange(25000):\n",
    "    step = len(metrics['train_loss']) + 1\n",
    "    batch_ix = np.random.randint(len(train_inp), size=batch_size)\n",
    "    feed_dict = {\n",
    "        inp: inp_voc.to_matrix(train_inp[batch_ix]),\n",
    "        out: out_voc.to_matrix(train_out[batch_ix]),\n",
    "    }\n",
    "    \n",
    "    loss_t, _ = sess.run([loss, train_step], feed_dict)\n",
    "    metrics['train_loss'].append((step, loss_t))\n",
    "    \n",
    "    if step % 100 == 0:\n",
    "        metrics['dev_bleu'].append((step, compute_bleu(model, dev_inp, dev_out)))\n",
    "        \n",
    "        clear_output(True)\n",
    "        plt.figure(figsize=(12,4))\n",
    "        for i, (name, history) in enumerate(sorted(metrics.items())):\n",
    "            plt.subplot(1, len(metrics), i + 1)\n",
    "            plt.title(name)\n",
    "            plt.plot(*zip(*history))\n",
    "            plt.grid()\n",
    "        plt.show()\n",
    "        print(\"Mean loss=%.3f\" % np.mean(metrics['train_loss'][-10:], axis=0)[1], flush=True)\n",
    "        \n",
    "# Note: it's okay if bleu oscillates up and down as long as it gets better on average over long term (e.g. 5k batches)"
   ]
  },
  {
   "cell_type": "code",
   "execution_count": 28,
   "metadata": {
    "ExecuteTime": {
     "end_time": "2018-10-18T18:34:48.293140Z",
     "start_time": "2018-10-18T18:34:48.280664Z"
    }
   },
   "outputs": [
    {
     "data": {
      "text/plain": [
       "47.7145378336999"
      ]
     },
     "execution_count": 28,
     "metadata": {},
     "output_type": "execute_result"
    }
   ],
   "source": [
    "np.mean(metrics['dev_bleu'][-10:], axis=0)[1]"
   ]
  },
  {
   "cell_type": "code",
   "execution_count": 29,
   "metadata": {
    "ExecuteTime": {
     "end_time": "2018-10-18T18:34:53.728163Z",
     "start_time": "2018-10-18T18:34:53.725841Z"
    }
   },
   "outputs": [],
   "source": [
    "assert np.mean(metrics['dev_bleu'][-10:], axis=0)[1] > 35, \"We kind of need a higher bleu BLEU from you. Kind of right now.\""
   ]
  },
  {
   "cell_type": "code",
   "execution_count": 30,
   "metadata": {
    "ExecuteTime": {
     "end_time": "2018-10-18T18:34:54.771320Z",
     "start_time": "2018-10-18T18:34:54.688706Z"
    }
   },
   "outputs": [
    {
     "name": "stdout",
     "output_type": "stream",
     "text": [
      "в распоряжении гостей общая кухня и общая гостиная .\n",
      "at the hostel you will find a shared kitchen and shared kitchen .\n",
      "\n",
      "кроме того , предоставляется прокат велосипедов , услуги трансфера и бесплатная парковка .\n",
      "bicycle rental service and car rental are available at this hotel .\n",
      "\n",
      "расстояние до города ки@@ сси@@ м@@ ми составляет 26 км .\n",
      "latina is 26 km from the property .\n",
      "\n",
      "апартаменты в пент@@ хаусе с общим открытым бассейном , садом , кондиционером и террасой для загара расположены в 5 минутах ходьбы от пляжа на курорте ка@@ бо - рой .\n",
      "featuring a private beach area , and 5 sun loungers , a children ’ s playground and a children ' s playground , and the centre of sunny beach is a 5 - minute walk from the centre .\n",
      "\n",
      "апартаменты mo@@ s@@ co@@ w point - loft red square находятся в москве , в 200 метрах от большого театра .\n",
      "apartment backpackers hostel is located in moscow , a 4 - minute walk from the museum of arts .\n",
      "\n",
      "в вашем распоряжении собственная ванная комната с душем и полотенцами .\n",
      "featuring a shower , private bathrooms also come with towels .\n",
      "\n"
     ]
    }
   ],
   "source": [
    "for inp_line, trans_line in zip(dev_inp[::500], model.translate_lines(dev_inp[::500])[0]):\n",
    "    print(inp_line)\n",
    "    print(trans_line)\n",
    "    print()"
   ]
  },
  {
   "cell_type": "markdown",
   "metadata": {},
   "source": [
    "### Your Attention Required (4 points)\n",
    "\n",
    "In this section we want you to improve over the basic model by implementing a simple attention mechanism.\n",
    "\n",
    "This is gonna be a two-parter: building the __attention layer__ and using it for an __attentive seq2seq model__."
   ]
  },
  {
   "cell_type": "markdown",
   "metadata": {},
   "source": [
    "### Attention layer\n",
    "\n",
    "Here you will have to implement a layer that computes a simple additive attention:\n",
    "\n",
    "Given encoder sequence $ h^e_0, h^e_1, h^e_2, ..., h^e_T$ and a single decoder state $h^d$,\n",
    "\n",
    "* Compute logits with a 2-layer neural network\n",
    "$$a_t = linear_{out}(tanh(linear_{e}(h^e_t) + linear_{d}(h_d)))$$\n",
    "* Get probabilities from logits, \n",
    "$$ p_t = {{e ^ {a_t}} \\over { \\sum_\\tau e^{a_\\tau} }} $$\n",
    "\n",
    "* Add up encoder states with probabilities to get __attention response__\n",
    "$$ attn = \\sum_t p_t \\cdot h^e_t $$\n",
    "\n",
    "You can learn more about attention layers in the leture slides or [from this post](https://distill.pub/2016/augmented-rnns/)."
   ]
  },
  {
   "cell_type": "code",
   "execution_count": 19,
   "metadata": {
    "ExecuteTime": {
     "end_time": "2018-10-18T23:35:51.856459Z",
     "start_time": "2018-10-18T23:35:51.849358Z"
    }
   },
   "outputs": [],
   "source": [
    "class AttentionLayer:\n",
    "    def __init__(self, name, enc_size, dec_size, hid_size, activ=tf.tanh,):\n",
    "        \"\"\" A layer that computes additive attention response and weights \"\"\"\n",
    "        self.name = name\n",
    "        self.enc_size = enc_size # num units in encoder state\n",
    "        self.dec_size = dec_size # num units in decoder state\n",
    "        self.hid_size = hid_size # attention layer hidden units\n",
    "        self.activ = activ       # attention layer hidden nonlinearity\n",
    "        with tf.variable_scope(self.name):\n",
    "            self.lin = L.Dense(self.hid_size)\n",
    "            self.lin_1 = L.Dense(1) \n",
    "            self.act = L.Activation('tanh')\n",
    "\n",
    "    def __call__(self, enc, dec, inp_mask):\n",
    "        \"\"\"\n",
    "        Computes attention response and weights\n",
    "        :param enc: encoder activation sequence, float32[batch_size, ninp, enc_size]\n",
    "        :param dec: single decoder state used as \"query\", float32[batch_size, dec_size]\n",
    "        :param inp_mask: mask on enc activatons (0 after first eos), float32 [batch_size, ninp]\n",
    "        :returns: attn[batch_size, enc_size], probs[batch_size, ninp]\n",
    "            - attn - attention response vector (weighted sum of enc)\n",
    "            - probs - attention weights after softmax\n",
    "        \"\"\"\n",
    "        with tf.variable_scope(self.name):\n",
    "            \n",
    "            # Compute logits\n",
    "            logits_seq = self.lin_1(self.act(self.lin(enc) + self.lin(dec[:, None, :])))\n",
    "            logits_seq = tf.keras.backend.squeeze(logits_seq, 2)\n",
    "            \n",
    "            # Apply mask - if mask is 0, logits should be -inf or -1e9\n",
    "            # You may need tf.where\n",
    "            logits_seq = L.multiply([logits_seq, inp_mask]) \n",
    "#             + tf.subtract(inp_mask, 1) * 1e9\n",
    "            \n",
    "            # Compute attention probabilities (softmax)\n",
    "            probs = L.Softmax()(logits_seq)\n",
    "            \n",
    "            # Compute attention response using enc and probs\n",
    "            attn = L.dot([enc, probs], [1, 1])\n",
    "                        \n",
    "            return attn, probs"
   ]
  },
  {
   "cell_type": "markdown",
   "metadata": {},
   "source": [
    "### Seq2seq model with attention\n",
    "\n",
    "You can now use the attention layer to build a network. The simplest way to implement attention is to use it in decoder phase:\n",
    "![img](https://i.imgur.com/6fKHlHb.png)\n",
    "_image from distill.pub [article](https://distill.pub/2016/augmented-rnns/)_\n",
    "\n",
    "On every step, use __previous__ decoder state to obtain attention response. Then feed concat this response to the inputs of next attetion layer.\n",
    "\n",
    "The key implementation detail here is __model state__. Put simply, you can add any tensor into the list of `encode` outputs. You will then have access to them at each `decode` step. This may include:\n",
    "* Last RNN hidden states (as in basic model)\n",
    "* The whole sequence of encoder outputs (to attend to) and mask\n",
    "* Attention probabilities (to visualize)\n",
    "\n",
    "_There are, of course, alternative ways to wire attention into your network and different kinds of attention. Take a look at [this](https://arxiv.org/abs/1609.08144), [this](https://arxiv.org/abs/1706.03762) and [this](https://arxiv.org/abs/1808.03867) for ideas. And for image captioning/im2latex there's [visual attention](https://arxiv.org/abs/1502.03044)_"
   ]
  },
  {
   "cell_type": "code",
   "execution_count": 20,
   "metadata": {
    "ExecuteTime": {
     "end_time": "2018-10-18T23:35:51.868811Z",
     "start_time": "2018-10-18T23:35:51.858014Z"
    }
   },
   "outputs": [],
   "source": [
    "class AttentiveModel(BasicModel):\n",
    "    def __init__(self, name, inp_voc, out_voc,\n",
    "                 emb_size=64, hid_size=128, attn_size=128):\n",
    "        \"\"\" Translation model that uses attention. See instructions above. \"\"\"\n",
    "        self.name = name\n",
    "        self.inp_voc = inp_voc\n",
    "        self.out_voc = out_voc\n",
    "\n",
    "        with tf.variable_scope(name):\n",
    "            \n",
    "            # YOUR CODE - define model layers\n",
    "            self.emb_inp = L.Embedding(len(inp_voc), emb_size)\n",
    "            self.emb_out = L.Embedding(len(out_voc), emb_size)\n",
    "            self.enc0 = tf.nn.rnn_cell.GRUCell(hid_size)\n",
    "\n",
    "            self.dec_start = L.Dense(hid_size)\n",
    "            self.dec0 = tf.nn.rnn_cell.GRUCell(hid_size)\n",
    "            self.logits = L.Dense(len(out_voc))\n",
    "            \n",
    "            self.attn = AttentionLayer('attention', hid_size, hid_size, attn_size)\n",
    "            \n",
    "            # END OF YOUR CODE\n",
    "            \n",
    "            # prepare to translate_lines\n",
    "            self.inp = tf.placeholder('int32', [None, None])\n",
    "            self.initial_state = self.prev_state = self.encode(self.inp)\n",
    "            self.prev_tokens = tf.placeholder('int32', [None])\n",
    "            self.next_state, self.next_logits = self.decode(self.prev_state, self.prev_tokens)\n",
    "\n",
    "        self.weights = tf.get_collection(tf.GraphKeys.TRAINABLE_VARIABLES, scope=name)\n",
    "\n",
    "    def encode(self, inp, **flags):\n",
    "        \"\"\"\n",
    "        Takes symbolic input sequence, computes initial state\n",
    "        :param inp: matrix of input tokens [batch, time]\n",
    "        :return: a list of initial decoder state tensors\n",
    "        \"\"\"\n",
    "        \n",
    "        # encode input sequence, create initial decoder states\n",
    "        inp_lengths = infer_length(inp, self.inp_voc.eos_ix)\n",
    "        inp_mask = infer_mask(inp, self.inp_voc.eos_ix)\n",
    "        inp_emb = self.emb_inp(inp)\n",
    "        with tf.variable_scope('enc0'):\n",
    "            enc_output, enc_last = tf.nn.dynamic_rnn(\n",
    "                              self.enc0, inp_emb,\n",
    "                              sequence_length=inp_lengths,\n",
    "                              dtype = inp_emb.dtype)\n",
    "        dec_start = self.dec_start(enc_last)\n",
    "        \n",
    "        # apply attention layer from initial decoder hidden state\n",
    "        _, first_attn_probas = self.attn(enc_output, dec_start, inp_mask)\n",
    "        \n",
    "        # Build first state: include\n",
    "        # * initial states for decoder recurrent layers\n",
    "        # * encoder sequence and encoder attn mask (for attention)\n",
    "        # * make sure that last state item is attention probabilities tensor\n",
    "        \n",
    "        first_state = [dec_start, enc_output, inp_mask, first_attn_probas]\n",
    "        return first_state\n",
    "\n",
    "    def decode(self, prev_state, prev_tokens, **flags):\n",
    "        \"\"\"\n",
    "        Takes previous decoder state and tokens, returns new state and logits\n",
    "        :param prev_state: a list of previous decoder state tensors\n",
    "        :param prev_tokens: previous output tokens, an int vector of [batch_size]\n",
    "        :return: a list of next decoder state tensors, a tensor of logits [batch,n_tokens]\n",
    "        \"\"\"\n",
    "        # Unpack your state: you will get tensors in the same order that you've packed in encode\n",
    "        [prev_state, prev_enc_output, attn_mask, prev_attn_probas] = prev_state\n",
    "        \n",
    "        \n",
    "        # Perform decoder step\n",
    "        # * predict next attn response and attn probas given previous decoder state\n",
    "        # * use prev token embedding and attn response to update decoder states \n",
    "        #               (concatenate and feed into decoder cell)\n",
    "        # * predict logits\n",
    "        \n",
    "        next_attn_response, next_attn_probas = self.attn(prev_enc_output, prev_state, attn_mask)\n",
    "        \n",
    "        prev_emb = self.emb_out(prev_tokens[:,None])[:,0]\n",
    "        with tf.variable_scope('dec0'):\n",
    "            new_dec_out, new_dec_state = self.dec0(tf.concat((prev_emb, next_attn_response), 1), prev_state)\n",
    "        output_logits = self.logits(new_dec_out)\n",
    "        \n",
    "        # Pack new state:\n",
    "        # * replace previous decoder state with next one\n",
    "        # * copy encoder sequence and mask from prev_state\n",
    "        # * append new attention probas\n",
    "        next_state = [new_dec_state, prev_enc_output, attn_mask, next_attn_probas]\n",
    "        return next_state, output_logits\n"
   ]
  },
  {
   "cell_type": "code",
   "execution_count": 21,
   "metadata": {
    "ExecuteTime": {
     "end_time": "2018-10-18T23:35:52.156422Z",
     "start_time": "2018-10-18T23:35:51.869887Z"
    }
   },
   "outputs": [
    {
     "name": "stderr",
     "output_type": "stream",
     "text": [
      "/home/n/anaconda3/envs/tf/lib/python3.6/site-packages/tensorflow/python/client/session.py:1662: UserWarning: An interactive session is already active. This can cause out-of-memory errors in some cases. You must explicitly call `InteractiveSession.close()` to release resources held by the other session(s).\n",
      "  warnings.warn('An interactive session is already active. This can '\n"
     ]
    }
   ],
   "source": [
    "# WARNING! this cell will clear your TF graph from the regular model. All trained variables will be gone!\n",
    "tf.reset_default_graph()\n",
    "sess = tf.InteractiveSession()\n",
    "model = AttentiveModel('model_attn', inp_voc, out_voc)"
   ]
  },
  {
   "cell_type": "markdown",
   "metadata": {},
   "source": [
    "### Training attentive model\n",
    "\n",
    "We'll reuse the infrastructure you've built for the regular model. I hope you didn't hard-code anything :)"
   ]
  },
  {
   "cell_type": "code",
   "execution_count": 22,
   "metadata": {
    "ExecuteTime": {
     "end_time": "2018-10-18T23:35:53.218036Z",
     "start_time": "2018-10-18T23:35:52.157426Z"
    }
   },
   "outputs": [],
   "source": [
    "inp = tf.placeholder('int32', [None, None])\n",
    "out = tf.placeholder('int32', [None, None])\n",
    "\n",
    "loss = compute_loss(model, inp, out)\n",
    "train_step = tf.train.AdamOptimizer().minimize(loss)"
   ]
  },
  {
   "cell_type": "code",
   "execution_count": 23,
   "metadata": {
    "ExecuteTime": {
     "end_time": "2018-10-18T23:35:53.304354Z",
     "start_time": "2018-10-18T23:35:53.219124Z"
    }
   },
   "outputs": [],
   "source": [
    "metrics = {'train_loss': [], 'dev_bleu': []}\n",
    "sess.run(tf.global_variables_initializer())\n",
    "batch_size = 32"
   ]
  },
  {
   "cell_type": "code",
   "execution_count": 24,
   "metadata": {
    "ExecuteTime": {
     "end_time": "2018-10-18T23:35:53.307579Z",
     "start_time": "2018-10-18T23:35:53.305369Z"
    }
   },
   "outputs": [],
   "source": [
    "from tqdm import trange"
   ]
  },
  {
   "cell_type": "code",
   "execution_count": 25,
   "metadata": {
    "ExecuteTime": {
     "end_time": "2018-10-19T00:27:26.547014Z",
     "start_time": "2018-10-18T23:35:53.311073Z"
    }
   },
   "outputs": [
    {
     "data": {
      "image/png": "[encoded data removed]",
      "text/plain": [
       "<Figure size 864x288 with 2 Axes>"
      ]
     },
     "metadata": {
      "needs_background": "light"
     },
     "output_type": "display_data"
    },
    {
     "name": "stdout",
     "output_type": "stream",
     "text": [
      "Mean loss=2.744\n"
     ]
    },
    {
     "name": "stderr",
     "output_type": "stream",
     "text": [
      "100%|██████████| 5000/5000 [51:33<00:00,  7.38s/it]\n"
     ]
    }
   ],
   "source": [
    "for _ in trange(5000):\n",
    "    step = len(metrics['train_loss']) + 1\n",
    "    batch_ix = np.random.randint(len(train_inp), size=batch_size)\n",
    "    feed_dict = {\n",
    "        inp: inp_voc.to_matrix(train_inp[batch_ix]),\n",
    "        out: out_voc.to_matrix(train_out[batch_ix]),\n",
    "    }\n",
    "    \n",
    "    loss_t, _ = sess.run([loss, train_step], feed_dict)\n",
    "    metrics['train_loss'].append((step, loss_t))\n",
    "    \n",
    "    if step % 100 == 0:\n",
    "        metrics['dev_bleu'].append((step, compute_bleu(model, dev_inp, dev_out)))\n",
    "        \n",
    "        clear_output(True)\n",
    "        plt.figure(figsize=(12,4))\n",
    "        for i, (name, history) in enumerate(sorted(metrics.items())):\n",
    "            plt.subplot(1, len(metrics), i + 1)\n",
    "            plt.title(name)\n",
    "            plt.plot(*zip(*history))\n",
    "            plt.grid()\n",
    "        plt.show()\n",
    "        print(\"Mean loss=%.3f\" % np.mean(metrics['train_loss'][-10:], axis=0)[1], flush=True)\n",
    "\n",
    "# Your model may train slower than the basic one. check that it's at least >30 bleu by 5k steps\n",
    "# Also: you don't have to train for 25k steps. It was chosen by a squirrel."
   ]
  },
  {
   "cell_type": "code",
   "execution_count": 28,
   "metadata": {
    "ExecuteTime": {
     "end_time": "2018-10-19T00:28:24.224123Z",
     "start_time": "2018-10-19T00:28:24.219164Z"
    }
   },
   "outputs": [
    {
     "data": {
      "text/plain": [
       "37.55683860006822"
      ]
     },
     "execution_count": 28,
     "metadata": {},
     "output_type": "execute_result"
    }
   ],
   "source": [
    "np.mean(metrics['dev_bleu'][-10:], axis=0)[1]"
   ]
  },
  {
   "cell_type": "code",
   "execution_count": 26,
   "metadata": {
    "ExecuteTime": {
     "end_time": "2018-10-19T00:27:26.702048Z",
     "start_time": "2018-10-19T00:27:26.548827Z"
    }
   },
   "outputs": [
    {
     "ename": "AssertionError",
     "evalue": "Something might be wrong with the model...",
     "output_type": "error",
     "traceback": [
      "\u001b[0;31m---------------------------------------------------------------------------\u001b[0m",
      "\u001b[0;31mAssertionError\u001b[0m                            Traceback (most recent call last)",
      "\u001b[0;32m<ipython-input-26-e7f4e0af138c>\u001b[0m in \u001b[0;36m<module>\u001b[0;34m\u001b[0m\n\u001b[0;32m----> 1\u001b[0;31m \u001b[0;32massert\u001b[0m \u001b[0mnp\u001b[0m\u001b[0;34m.\u001b[0m\u001b[0mmean\u001b[0m\u001b[0;34m(\u001b[0m\u001b[0mmetrics\u001b[0m\u001b[0;34m[\u001b[0m\u001b[0;34m'dev_bleu'\u001b[0m\u001b[0;34m]\u001b[0m\u001b[0;34m[\u001b[0m\u001b[0;34m-\u001b[0m\u001b[0;36m10\u001b[0m\u001b[0;34m:\u001b[0m\u001b[0;34m]\u001b[0m\u001b[0;34m,\u001b[0m \u001b[0maxis\u001b[0m\u001b[0;34m=\u001b[0m\u001b[0;36m0\u001b[0m\u001b[0;34m)\u001b[0m\u001b[0;34m[\u001b[0m\u001b[0;36m1\u001b[0m\u001b[0;34m]\u001b[0m \u001b[0;34m>\u001b[0m \u001b[0;36m45\u001b[0m\u001b[0;34m,\u001b[0m \u001b[0;34m\"Something might be wrong with the model...\"\u001b[0m\u001b[0;34m\u001b[0m\u001b[0m\n\u001b[0m",
      "\u001b[0;31mAssertionError\u001b[0m: Something might be wrong with the model..."
     ]
    }
   ],
   "source": [
    "assert np.mean(metrics['dev_bleu'][-10:], axis=0)[1] > 45, \"Something might be wrong with the model...\""
   ]
  },
  {
   "cell_type": "code",
   "execution_count": 29,
   "metadata": {
    "ExecuteTime": {
     "end_time": "2018-10-19T00:28:32.541550Z",
     "start_time": "2018-10-19T00:28:32.410505Z"
    }
   },
   "outputs": [
    {
     "data": {
      "text/html": [
       "\n",
       "    <div class=\"bk-root\">\n",
       "        <a href=\"https://bokeh.pydata.org\" target=\"_blank\" class=\"bk-logo bk-logo-small bk-logo-notebook\"></a>\n",
       "        <span id=\"cfb6d37c-5eba-45c9-ad74-75181353b0e9\">Loading BokehJS ...</span>\n",
       "    </div>"
      ]
     },
     "metadata": {},
     "output_type": "display_data"
    },
    {
     "data": {
      "application/javascript": [
       "\n",
       "(function(root) {\n",
       "  function now() {\n",
       "    return new Date();\n",
       "  }\n",
       "\n",
       "  var force = true;\n",
       "\n",
       "  if (typeof (root._bokeh_onload_callbacks) === \"undefined\" || force === true) {\n",
       "    root._bokeh_onload_callbacks = [];\n",
       "    root._bokeh_is_loading = undefined;\n",
       "  }\n",
       "\n",
       "  var JS_MIME_TYPE = 'application/javascript';\n",
       "  var HTML_MIME_TYPE = 'text/html';\n",
       "  var EXEC_MIME_TYPE = 'application/vnd.bokehjs_exec.v0+json';\n",
       "  var CLASS_NAME = 'output_bokeh rendered_html';\n",
       "\n",
       "  /**\n",
       "   * Render data to the DOM node\n",
       "   */\n",
       "  function render(props, node) {\n",
       "    var script = document.createElement(\"script\");\n",
       "    node.appendChild(script);\n",
       "  }\n",
       "\n",
       "  /**\n",
       "   * Handle when an output is cleared or removed\n",
       "   */\n",
       "  function handleClearOutput(event, handle) {\n",
       "    var cell = handle.cell;\n",
       "\n",
       "    var id = cell.output_area._bokeh_element_id;\n",
       "    var server_id = cell.output_area._bokeh_server_id;\n",
       "    // Clean up Bokeh references\n",
       "    if (id != null && id in Bokeh.index) {\n",
       "      Bokeh.index[id].model.document.clear();\n",
       "      delete Bokeh.index[id];\n",
       "    }\n",
       "\n",
       "    if (server_id !== undefined) {\n",
       "      // Clean up Bokeh references\n",
       "      var cmd = \"from bokeh.io.state import curstate; print(curstate().uuid_to_server['\" + server_id + \"'].get_sessions()[0].document.roots[0]._id)\";\n",
       "      cell.notebook.kernel.execute(cmd, {\n",
       "        iopub: {\n",
       "          output: function(msg) {\n",
       "            var id = msg.content.text.trim();\n",
       "            if (id in Bokeh.index) {\n",
       "              Bokeh.index[id].model.document.clear();\n",
       "              delete Bokeh.index[id];\n",
       "            }\n",
       "          }\n",
       "        }\n",
       "      });\n",
       "      // Destroy server and session\n",
       "      var cmd = \"import bokeh.io.notebook as ion; ion.destroy_server('\" + server_id + \"')\";\n",
       "      cell.notebook.kernel.execute(cmd);\n",
       "    }\n",
       "  }\n",
       "\n",
       "  /**\n",
       "   * Handle when a new output is added\n",
       "   */\n",
       "  function handleAddOutput(event, handle) {\n",
       "    var output_area = handle.output_area;\n",
       "    var output = handle.output;\n",
       "\n",
       "    // limit handleAddOutput to display_data with EXEC_MIME_TYPE content only\n",
       "    if ((output.output_type != \"display_data\") || (!output.data.hasOwnProperty(EXEC_MIME_TYPE))) {\n",
       "      return\n",
       "    }\n",
       "\n",
       "    var toinsert = output_area.element.find(\".\" + CLASS_NAME.split(' ')[0]);\n",
       "\n",
       "    if (output.metadata[EXEC_MIME_TYPE][\"id\"] !== undefined) {\n",
       "      toinsert[toinsert.length - 1].firstChild.textContent = output.data[JS_MIME_TYPE];\n",
       "      // store reference to embed id on output_area\n",
       "      output_area._bokeh_element_id = output.metadata[EXEC_MIME_TYPE][\"id\"];\n",
       "    }\n",
       "    if (output.metadata[EXEC_MIME_TYPE][\"server_id\"] !== undefined) {\n",
       "      var bk_div = document.createElement(\"div\");\n",
       "      bk_div.innerHTML = output.data[HTML_MIME_TYPE];\n",
       "      var script_attrs = bk_div.children[0].attributes;\n",
       "      for (var i = 0; i < script_attrs.length; i++) {\n",
       "        toinsert[toinsert.length - 1].firstChild.setAttribute(script_attrs[i].name, script_attrs[i].value);\n",
       "      }\n",
       "      // store reference to server id on output_area\n",
       "      output_area._bokeh_server_id = output.metadata[EXEC_MIME_TYPE][\"server_id\"];\n",
       "    }\n",
       "  }\n",
       "\n",
       "  function register_renderer(events, OutputArea) {\n",
       "\n",
       "    function append_mime(data, metadata, element) {\n",
       "      // create a DOM node to render to\n",
       "      var toinsert = this.create_output_subarea(\n",
       "        metadata,\n",
       "        CLASS_NAME,\n",
       "        EXEC_MIME_TYPE\n",
       "      );\n",
       "      this.keyboard_manager.register_events(toinsert);\n",
       "      // Render to node\n",
       "      var props = {data: data, metadata: metadata[EXEC_MIME_TYPE]};\n",
       "      render(props, toinsert[toinsert.length - 1]);\n",
       "      element.append(toinsert);\n",
       "      return toinsert\n",
       "    }\n",
       "\n",
       "    /* Handle when an output is cleared or removed */\n",
       "    events.on('clear_output.CodeCell', handleClearOutput);\n",
       "    events.on('delete.Cell', handleClearOutput);\n",
       "\n",
       "    /* Handle when a new output is added */\n",
       "    events.on('output_added.OutputArea', handleAddOutput);\n",
       "\n",
       "    /**\n",
       "     * Register the mime type and append_mime function with output_area\n",
       "     */\n",
       "    OutputArea.prototype.register_mime_type(EXEC_MIME_TYPE, append_mime, {\n",
       "      /* Is output safe? */\n",
       "      safe: true,\n",
       "      /* Index of renderer in `output_area.display_order` */\n",
       "      index: 0\n",
       "    });\n",
       "  }\n",
       "\n",
       "  // register the mime type if in Jupyter Notebook environment and previously unregistered\n",
       "  if (root.Jupyter !== undefined) {\n",
       "    var events = require('base/js/events');\n",
       "    var OutputArea = require('notebook/js/outputarea').OutputArea;\n",
       "\n",
       "    if (OutputArea.prototype.mime_types().indexOf(EXEC_MIME_TYPE) == -1) {\n",
       "      register_renderer(events, OutputArea);\n",
       "    }\n",
       "  }\n",
       "\n",
       "  \n",
       "  if (typeof (root._bokeh_timeout) === \"undefined\" || force === true) {\n",
       "    root._bokeh_timeout = Date.now() + 5000;\n",
       "    root._bokeh_failed_load = false;\n",
       "  }\n",
       "\n",
       "  var NB_LOAD_WARNING = {'data': {'text/html':\n",
       "     \"<div style='background-color: #fdd'>\\n\"+\n",
       "     \"<p>\\n\"+\n",
       "     \"BokehJS does not appear to have successfully loaded. If loading BokehJS from CDN, this \\n\"+\n",
       "     \"may be due to a slow or bad network connection. Possible fixes:\\n\"+\n",
       "     \"</p>\\n\"+\n",
       "     \"<ul>\\n\"+\n",
       "     \"<li>re-rerun `output_notebook()` to attempt to load from CDN again, or</li>\\n\"+\n",
       "     \"<li>use INLINE resources instead, as so:</li>\\n\"+\n",
       "     \"</ul>\\n\"+\n",
       "     \"<code>\\n\"+\n",
       "     \"from bokeh.resources import INLINE\\n\"+\n",
       "     \"output_notebook(resources=INLINE)\\n\"+\n",
       "     \"</code>\\n\"+\n",
       "     \"</div>\"}};\n",
       "\n",
       "  function display_loaded() {\n",
       "    var el = document.getElementById(\"cfb6d37c-5eba-45c9-ad74-75181353b0e9\");\n",
       "    if (el != null) {\n",
       "      el.textContent = \"BokehJS is loading...\";\n",
       "    }\n",
       "    if (root.Bokeh !== undefined) {\n",
       "      if (el != null) {\n",
       "        el.textContent = \"BokehJS \" + root.Bokeh.version + \" successfully loaded.\";\n",
       "      }\n",
       "    } else if (Date.now() < root._bokeh_timeout) {\n",
       "      setTimeout(display_loaded, 100)\n",
       "    }\n",
       "  }\n",
       "\n",
       "\n",
       "  function run_callbacks() {\n",
       "    try {\n",
       "      root._bokeh_onload_callbacks.forEach(function(callback) { callback() });\n",
       "    }\n",
       "    finally {\n",
       "      delete root._bokeh_onload_callbacks\n",
       "    }\n",
       "    console.info(\"Bokeh: all callbacks have finished\");\n",
       "  }\n",
       "\n",
       "  function load_libs(js_urls, callback) {\n",
       "    root._bokeh_onload_callbacks.push(callback);\n",
       "    if (root._bokeh_is_loading > 0) {\n",
       "      console.log(\"Bokeh: BokehJS is being loaded, scheduling callback at\", now());\n",
       "      return null;\n",
       "    }\n",
       "    if (js_urls == null || js_urls.length === 0) {\n",
       "      run_callbacks();\n",
       "      return null;\n",
       "    }\n",
       "    console.log(\"Bokeh: BokehJS not loaded, scheduling load and callback at\", now());\n",
       "    root._bokeh_is_loading = js_urls.length;\n",
       "    for (var i = 0; i < js_urls.length; i++) {\n",
       "      var url = js_urls[i];\n",
       "      var s = document.createElement('script');\n",
       "      s.src = url;\n",
       "      s.async = false;\n",
       "      s.onreadystatechange = s.onload = function() {\n",
       "        root._bokeh_is_loading--;\n",
       "        if (root._bokeh_is_loading === 0) {\n",
       "          console.log(\"Bokeh: all BokehJS libraries loaded\");\n",
       "          run_callbacks()\n",
       "        }\n",
       "      };\n",
       "      s.onerror = function() {\n",
       "        console.warn(\"failed to load library \" + url);\n",
       "      };\n",
       "      console.log(\"Bokeh: injecting script tag for BokehJS library: \", url);\n",
       "      document.getElementsByTagName(\"head\")[0].appendChild(s);\n",
       "    }\n",
       "  };var element = document.getElementById(\"cfb6d37c-5eba-45c9-ad74-75181353b0e9\");\n",
       "  if (element == null) {\n",
       "    console.log(\"Bokeh: ERROR: autoload.js configured with elementid 'cfb6d37c-5eba-45c9-ad74-75181353b0e9' but no matching script tag was found. \")\n",
       "    return false;\n",
       "  }\n",
       "\n",
       "  var js_urls = [\"https://cdn.pydata.org/bokeh/release/bokeh-0.13.0.min.js\", \"https://cdn.pydata.org/bokeh/release/bokeh-widgets-0.13.0.min.js\", \"https://cdn.pydata.org/bokeh/release/bokeh-tables-0.13.0.min.js\", \"https://cdn.pydata.org/bokeh/release/bokeh-gl-0.13.0.min.js\"];\n",
       "\n",
       "  var inline_js = [\n",
       "    function(Bokeh) {\n",
       "      Bokeh.set_log_level(\"info\");\n",
       "    },\n",
       "    \n",
       "    function(Bokeh) {\n",
       "      \n",
       "    },\n",
       "    function(Bokeh) {\n",
       "      console.log(\"Bokeh: injecting CSS: https://cdn.pydata.org/bokeh/release/bokeh-0.13.0.min.css\");\n",
       "      Bokeh.embed.inject_css(\"https://cdn.pydata.org/bokeh/release/bokeh-0.13.0.min.css\");\n",
       "      console.log(\"Bokeh: injecting CSS: https://cdn.pydata.org/bokeh/release/bokeh-widgets-0.13.0.min.css\");\n",
       "      Bokeh.embed.inject_css(\"https://cdn.pydata.org/bokeh/release/bokeh-widgets-0.13.0.min.css\");\n",
       "      console.log(\"Bokeh: injecting CSS: https://cdn.pydata.org/bokeh/release/bokeh-tables-0.13.0.min.css\");\n",
       "      Bokeh.embed.inject_css(\"https://cdn.pydata.org/bokeh/release/bokeh-tables-0.13.0.min.css\");\n",
       "    }\n",
       "  ];\n",
       "\n",
       "  function run_inline_js() {\n",
       "    \n",
       "    if ((root.Bokeh !== undefined) || (force === true)) {\n",
       "      for (var i = 0; i < inline_js.length; i++) {\n",
       "        inline_js[i].call(root, root.Bokeh);\n",
       "      }if (force === true) {\n",
       "        display_loaded();\n",
       "      }} else if (Date.now() < root._bokeh_timeout) {\n",
       "      setTimeout(run_inline_js, 100);\n",
       "    } else if (!root._bokeh_failed_load) {\n",
       "      console.log(\"Bokeh: BokehJS failed to load within specified timeout.\");\n",
       "      root._bokeh_failed_load = true;\n",
       "    } else if (force !== true) {\n",
       "      var cell = $(document.getElementById(\"cfb6d37c-5eba-45c9-ad74-75181353b0e9\")).parents('.cell').data().cell;\n",
       "      cell.output_area.append_execute_result(NB_LOAD_WARNING)\n",
       "    }\n",
       "\n",
       "  }\n",
       "\n",
       "  if (root._bokeh_is_loading === 0) {\n",
       "    console.log(\"Bokeh: BokehJS loaded, going straight to plotting\");\n",
       "    run_inline_js();\n",
       "  } else {\n",
       "    load_libs(js_urls, function() {\n",
       "      console.log(\"Bokeh: BokehJS plotting callback run at\", now());\n",
       "      run_inline_js();\n",
       "    });\n",
       "  }\n",
       "}(window));"
      ],
      "application/vnd.bokehjs_load.v0+json": "\n(function(root) {\n  function now() {\n    return new Date();\n  }\n\n  var force = true;\n\n  if (typeof (root._bokeh_onload_callbacks) === \"undefined\" || force === true) {\n    root._bokeh_onload_callbacks = [];\n    root._bokeh_is_loading = undefined;\n  }\n\n  \n\n  \n  if (typeof (root._bokeh_timeout) === \"undefined\" || force === true) {\n    root._bokeh_timeout = Date.now() + 5000;\n    root._bokeh_failed_load = false;\n  }\n\n  var NB_LOAD_WARNING = {'data': {'text/html':\n     \"<div style='background-color: #fdd'>\\n\"+\n     \"<p>\\n\"+\n     \"BokehJS does not appear to have successfully loaded. If loading BokehJS from CDN, this \\n\"+\n     \"may be due to a slow or bad network connection. Possible fixes:\\n\"+\n     \"</p>\\n\"+\n     \"<ul>\\n\"+\n     \"<li>re-rerun `output_notebook()` to attempt to load from CDN again, or</li>\\n\"+\n     \"<li>use INLINE resources instead, as so:</li>\\n\"+\n     \"</ul>\\n\"+\n     \"<code>\\n\"+\n     \"from bokeh.resources import INLINE\\n\"+\n     \"output_notebook(resources=INLINE)\\n\"+\n     \"</code>\\n\"+\n     \"</div>\"}};\n\n  function display_loaded() {\n    var el = document.getElementById(\"cfb6d37c-5eba-45c9-ad74-75181353b0e9\");\n    if (el != null) {\n      el.textContent = \"BokehJS is loading...\";\n    }\n    if (root.Bokeh !== undefined) {\n      if (el != null) {\n        el.textContent = \"BokehJS \" + root.Bokeh.version + \" successfully loaded.\";\n      }\n    } else if (Date.now() < root._bokeh_timeout) {\n      setTimeout(display_loaded, 100)\n    }\n  }\n\n\n  function run_callbacks() {\n    try {\n      root._bokeh_onload_callbacks.forEach(function(callback) { callback() });\n    }\n    finally {\n      delete root._bokeh_onload_callbacks\n    }\n    console.info(\"Bokeh: all callbacks have finished\");\n  }\n\n  function load_libs(js_urls, callback) {\n    root._bokeh_onload_callbacks.push(callback);\n    if (root._bokeh_is_loading > 0) {\n      console.log(\"Bokeh: BokehJS is being loaded, scheduling callback at\", now());\n      return null;\n    }\n    if (js_urls == null || js_urls.length === 0) {\n      run_callbacks();\n      return null;\n    }\n    console.log(\"Bokeh: BokehJS not loaded, scheduling load and callback at\", now());\n    root._bokeh_is_loading = js_urls.length;\n    for (var i = 0; i < js_urls.length; i++) {\n      var url = js_urls[i];\n      var s = document.createElement('script');\n      s.src = url;\n      s.async = false;\n      s.onreadystatechange = s.onload = function() {\n        root._bokeh_is_loading--;\n        if (root._bokeh_is_loading === 0) {\n          console.log(\"Bokeh: all BokehJS libraries loaded\");\n          run_callbacks()\n        }\n      };\n      s.onerror = function() {\n        console.warn(\"failed to load library \" + url);\n      };\n      console.log(\"Bokeh: injecting script tag for BokehJS library: \", url);\n      document.getElementsByTagName(\"head\")[0].appendChild(s);\n    }\n  };var element = document.getElementById(\"cfb6d37c-5eba-45c9-ad74-75181353b0e9\");\n  if (element == null) {\n    console.log(\"Bokeh: ERROR: autoload.js configured with elementid 'cfb6d37c-5eba-45c9-ad74-75181353b0e9' but no matching script tag was found. \")\n    return false;\n  }\n\n  var js_urls = [\"https://cdn.pydata.org/bokeh/release/bokeh-0.13.0.min.js\", \"https://cdn.pydata.org/bokeh/release/bokeh-widgets-0.13.0.min.js\", \"https://cdn.pydata.org/bokeh/release/bokeh-tables-0.13.0.min.js\", \"https://cdn.pydata.org/bokeh/release/bokeh-gl-0.13.0.min.js\"];\n\n  var inline_js = [\n    function(Bokeh) {\n      Bokeh.set_log_level(\"info\");\n    },\n    \n    function(Bokeh) {\n      \n    },\n    function(Bokeh) {\n      console.log(\"Bokeh: injecting CSS: https://cdn.pydata.org/bokeh/release/bokeh-0.13.0.min.css\");\n      Bokeh.embed.inject_css(\"https://cdn.pydata.org/bokeh/release/bokeh-0.13.0.min.css\");\n      console.log(\"Bokeh: injecting CSS: https://cdn.pydata.org/bokeh/release/bokeh-widgets-0.13.0.min.css\");\n      Bokeh.embed.inject_css(\"https://cdn.pydata.org/bokeh/release/bokeh-widgets-0.13.0.min.css\");\n      console.log(\"Bokeh: injecting CSS: https://cdn.pydata.org/bokeh/release/bokeh-tables-0.13.0.min.css\");\n      Bokeh.embed.inject_css(\"https://cdn.pydata.org/bokeh/release/bokeh-tables-0.13.0.min.css\");\n    }\n  ];\n\n  function run_inline_js() {\n    \n    if ((root.Bokeh !== undefined) || (force === true)) {\n      for (var i = 0; i < inline_js.length; i++) {\n        inline_js[i].call(root, root.Bokeh);\n      }if (force === true) {\n        display_loaded();\n      }} else if (Date.now() < root._bokeh_timeout) {\n      setTimeout(run_inline_js, 100);\n    } else if (!root._bokeh_failed_load) {\n      console.log(\"Bokeh: BokehJS failed to load within specified timeout.\");\n      root._bokeh_failed_load = true;\n    } else if (force !== true) {\n      var cell = $(document.getElementById(\"cfb6d37c-5eba-45c9-ad74-75181353b0e9\")).parents('.cell').data().cell;\n      cell.output_area.append_execute_result(NB_LOAD_WARNING)\n    }\n\n  }\n\n  if (root._bokeh_is_loading === 0) {\n    console.log(\"Bokeh: BokehJS loaded, going straight to plotting\");\n    run_inline_js();\n  } else {\n    load_libs(js_urls, function() {\n      console.log(\"Bokeh: BokehJS plotting callback run at\", now());\n      run_inline_js();\n    });\n  }\n}(window));"
     },
     "metadata": {},
     "output_type": "display_data"
    }
   ],
   "source": [
    "import bokeh.plotting as pl\n",
    "import bokeh.models as bm\n",
    "from bokeh.io import output_notebook, show\n",
    "output_notebook()\n",
    "\n",
    "def draw_attention(inp_line, translation, probs):\n",
    "    \"\"\" An intentionally ambiguous function to visualize attention weights \"\"\"\n",
    "    inp_tokens = inp_voc.tokenize(inp_line)\n",
    "    trans_tokens = out_voc.tokenize(translation)\n",
    "    probs = probs[:len(trans_tokens), :len(inp_tokens)]\n",
    "    \n",
    "    fig = pl.figure(x_range=(0, len(inp_tokens)), y_range=(0, len(trans_tokens)),\n",
    "                    x_axis_type=None, y_axis_type=None, tools=[])\n",
    "    fig.image([probs[::-1]], 0, 0, len(inp_tokens), len(trans_tokens))\n",
    "\n",
    "    fig.add_layout(bm.LinearAxis(axis_label='source tokens'), 'above')\n",
    "    fig.xaxis.ticker = np.arange(len(inp_tokens)) + 0.5\n",
    "    fig.xaxis.major_label_overrides = dict(zip(np.arange(len(inp_tokens)) + 0.5, inp_tokens))\n",
    "    fig.xaxis.major_label_orientation = 45\n",
    "\n",
    "    fig.add_layout(bm.LinearAxis(axis_label='translation tokens'), 'left')\n",
    "    fig.yaxis.ticker = np.arange(len(trans_tokens)) + 0.5\n",
    "    fig.yaxis.major_label_overrides = dict(zip(np.arange(len(trans_tokens)) + 0.5, trans_tokens[::-1]))\n",
    "\n",
    "    show(fig)"
   ]
  },
  {
   "cell_type": "code",
   "execution_count": 30,
   "metadata": {
    "ExecuteTime": {
     "end_time": "2018-10-19T00:28:38.501504Z",
     "start_time": "2018-10-19T00:28:38.324605Z"
    }
   },
   "outputs": [],
   "source": [
    "inp = dev_inp[::500]\n",
    "\n",
    "trans, states = model.translate_lines(inp)\n",
    "\n",
    "# select attention probs from model state (you may need to change this for your custom model)\n",
    "attention_probs = np.stack([state[-1] for state in states], axis=1)"
   ]
  },
  {
   "cell_type": "code",
   "execution_count": 31,
   "metadata": {
    "ExecuteTime": {
     "end_time": "2018-10-19T00:28:39.130742Z",
     "start_time": "2018-10-19T00:28:39.008771Z"
    },
    "scrolled": false
   },
   "outputs": [
    {
     "data": {
      "text/html": [
       "\n",
       "\n",
       "\n",
       "\n",
       "\n",
       "\n",
       "  <div class=\"bk-root\" id=\"5f00eae9-ffac-400c-b6b8-575fb5bcd776\"></div>\n"
      ]
     },
     "metadata": {},
     "output_type": "display_data"
    },
    {
     "data": {
      "application/javascript": [
       "(function(root) {\n",
       "  function embed_document(root) {\n",
       "    \n",
       "  var docs_json = {\"1df8da65-5d42-483f-9a7c-4abed20c2673\":{\"roots\":{\"references\":[{\"attributes\":{},\"id\":\"a818f50b-f853-455b-b3ff-dfd23bc7c1d8\",\"type\":\"Selection\"},{\"attributes\":{\"callback\":null,\"end\":13},\"id\":\"9e8dd9c8-200c-4019-bdfa-75c361ec9654\",\"type\":\"Range1d\"},{\"attributes\":{\"above\":[{\"id\":\"7af4186c-412b-4fe1-ab73-487861498c25\",\"type\":\"LinearAxis\"}],\"left\":[{\"id\":\"5915fdfd-9d53-444f-b791-29d7c85c0cb5\",\"type\":\"LinearAxis\"}],\"renderers\":[{\"id\":\"a4f63147-68a7-48e9-a18e-26ca34848ab2\",\"type\":\"GlyphRenderer\"},{\"id\":\"7af4186c-412b-4fe1-ab73-487861498c25\",\"type\":\"LinearAxis\"},{\"id\":\"5915fdfd-9d53-444f-b791-29d7c85c0cb5\",\"type\":\"LinearAxis\"}],\"title\":{\"id\":\"1b7973fb-7ea3-4ebc-8d54-5fb55b589c6e\",\"type\":\"Title\"},\"toolbar\":{\"id\":\"356b1719-63e7-4b44-9664-f3916da540fd\",\"type\":\"Toolbar\"},\"x_range\":{\"id\":\"1ec09f9b-bb8a-4b4b-abd0-5876fc0ac94e\",\"type\":\"Range1d\"},\"x_scale\":{\"id\":\"97f90607-ec73-4bd4-b962-4be24ac4186a\",\"type\":\"LinearScale\"},\"y_range\":{\"id\":\"9e8dd9c8-200c-4019-bdfa-75c361ec9654\",\"type\":\"Range1d\"},\"y_scale\":{\"id\":\"2b302618-dbea-47ef-9faf-b40e1aabd0e2\",\"type\":\"LinearScale\"}},\"id\":\"ac402a46-341c-4f4b-8891-fa1df0e2da3a\",\"subtype\":\"Figure\",\"type\":\"Plot\"},{\"attributes\":{\"color_mapper\":{\"id\":\"45106990-a0c0-4367-99ba-8ae01abaa21b\",\"type\":\"LinearColorMapper\"},\"dh\":{\"units\":\"data\",\"value\":13},\"dw\":{\"units\":\"data\",\"value\":11},\"image\":{\"field\":\"image\"},\"x\":{\"value\":0},\"y\":{\"value\":0}},\"id\":\"68dae07a-1aaf-47c9-b85f-5f3dc6d1b157\",\"type\":\"Image\"},{\"attributes\":{\"plot\":null,\"text\":\"\"},\"id\":\"1b7973fb-7ea3-4ebc-8d54-5fb55b589c6e\",\"type\":\"Title\"},{\"attributes\":{\"ticks\":[0.5,1.5,2.5,3.5,4.5,5.5,6.5,7.5,8.5,9.5,10.5]},\"id\":\"69e1b7e2-7fdb-4f09-a8dc-21d9c66f6674\",\"type\":\"FixedTicker\"},{\"attributes\":{\"color_mapper\":{\"id\":\"174f9f70-694c-41ad-93e5-a6a4d4bbc038\",\"type\":\"LinearColorMapper\"},\"dh\":{\"units\":\"data\",\"value\":13},\"dw\":{\"units\":\"data\",\"value\":11},\"image\":{\"field\":\"image\"},\"x\":{\"value\":0},\"y\":{\"value\":0}},\"id\":\"3e355440-3e57-40a7-9c83-c2c821d18855\",\"type\":\"Image\"},{\"attributes\":{\"callback\":null,\"end\":11},\"id\":\"1ec09f9b-bb8a-4b4b-abd0-5876fc0ac94e\",\"type\":\"Range1d\"},{\"attributes\":{\"axis_label\":\"translation tokens\",\"formatter\":{\"id\":\"1eb6a3e4-ea18-4c58-b34b-f1de0c353544\",\"type\":\"BasicTickFormatter\"},\"major_label_overrides\":{\"0.5\":\"_EOS_\",\"1.5\":\".\",\"10.5\":\"washing\",\"11.5\":\"a\",\"12.5\":\"_BOS_\",\"2.5\":\"available\",\"3.5\":\"also\",\"4.5\":\"are\",\"5.5\":\"machine\",\"6.5\":\"washing\",\"7.5\":\"a\",\"8.5\":\"and\",\"9.5\":\"machine\"},\"plot\":{\"id\":\"ac402a46-341c-4f4b-8891-fa1df0e2da3a\",\"subtype\":\"Figure\",\"type\":\"Plot\"},\"ticker\":{\"id\":\"3c1308dd-acd5-4fa7-b192-77117c325278\",\"type\":\"FixedTicker\"}},\"id\":\"5915fdfd-9d53-444f-b791-29d7c85c0cb5\",\"type\":\"LinearAxis\"},{\"attributes\":{\"data_source\":{\"id\":\"ff19bae9-f290-48fc-a52a-e2c7e65274aa\",\"type\":\"ColumnDataSource\"},\"glyph\":{\"id\":\"3e355440-3e57-40a7-9c83-c2c821d18855\",\"type\":\"Image\"},\"hover_glyph\":null,\"muted_glyph\":null,\"nonselection_glyph\":{\"id\":\"68dae07a-1aaf-47c9-b85f-5f3dc6d1b157\",\"type\":\"Image\"},\"selection_glyph\":null,\"view\":{\"id\":\"208dcd85-75af-4bb7-b4e7-0447bee7043a\",\"type\":\"CDSView\"}},\"id\":\"a4f63147-68a7-48e9-a18e-26ca34848ab2\",\"type\":\"GlyphRenderer\"},{\"attributes\":{},\"id\":\"33dad520-501b-4713-8261-e908af0093c3\",\"type\":\"UnionRenderers\"},{\"attributes\":{\"axis_label\":\"source tokens\",\"formatter\":{\"id\":\"b0f37f78-8750-4d11-a9f1-b2c2fcbd7bdf\",\"type\":\"BasicTickFormatter\"},\"major_label_orientation\":45,\"major_label_overrides\":{\"0.5\":\"_BOS_\",\"1.5\":\"\\u0432\",\"10.5\":\"_EOS_\",\"2.5\":\"\\u0440\\u0430\\u0441\\u043f\\u043e\\u0440\\u044f\\u0436\\u0435\\u043d\\u0438\\u0438\",\"3.5\":\"\\u0433\\u043e\\u0441\\u0442\\u0435\\u0439\",\"4.5\":\"\\u043e\\u0431\\u0449\\u0430\\u044f\",\"5.5\":\"\\u043a\\u0443\\u0445\\u043d\\u044f\",\"6.5\":\"\\u0438\",\"7.5\":\"\\u043e\\u0431\\u0449\\u0430\\u044f\",\"8.5\":\"\\u0433\\u043e\\u0441\\u0442\\u0438\\u043d\\u0430\\u044f\",\"9.5\":\".\"},\"plot\":{\"id\":\"ac402a46-341c-4f4b-8891-fa1df0e2da3a\",\"subtype\":\"Figure\",\"type\":\"Plot\"},\"ticker\":{\"id\":\"69e1b7e2-7fdb-4f09-a8dc-21d9c66f6674\",\"type\":\"FixedTicker\"}},\"id\":\"7af4186c-412b-4fe1-ab73-487861498c25\",\"type\":\"LinearAxis\"},{\"attributes\":{\"source\":{\"id\":\"ff19bae9-f290-48fc-a52a-e2c7e65274aa\",\"type\":\"ColumnDataSource\"}},\"id\":\"208dcd85-75af-4bb7-b4e7-0447bee7043a\",\"type\":\"CDSView\"},{\"attributes\":{\"palette\":[\"#000000\",\"#252525\",\"#525252\",\"#737373\",\"#969696\",\"#bdbdbd\",\"#d9d9d9\",\"#f0f0f0\",\"#ffffff\"]},\"id\":\"174f9f70-694c-41ad-93e5-a6a4d4bbc038\",\"type\":\"LinearColorMapper\"},{\"attributes\":{},\"id\":\"2b302618-dbea-47ef-9faf-b40e1aabd0e2\",\"type\":\"LinearScale\"},{\"attributes\":{\"ticks\":[0.5,1.5,2.5,3.5,4.5,5.5,6.5,7.5,8.5,9.5,10.5,11.5,12.5]},\"id\":\"3c1308dd-acd5-4fa7-b192-77117c325278\",\"type\":\"FixedTicker\"},{\"attributes\":{\"active_drag\":\"auto\",\"active_inspect\":\"auto\",\"active_multi\":null,\"active_scroll\":\"auto\",\"active_tap\":\"auto\"},\"id\":\"356b1719-63e7-4b44-9664-f3916da540fd\",\"type\":\"Toolbar\"},{\"attributes\":{},\"id\":\"b0f37f78-8750-4d11-a9f1-b2c2fcbd7bdf\",\"type\":\"BasicTickFormatter\"},{\"attributes\":{\"callback\":null,\"data\":{\"image\":[{\"__ndarray__\":\"alaBPgreVT5HiB0++c7HPQW4tz2HMJI9+5EqPUHavzzDabA8ebyyPIhikDxHw6g9qKeDPa9VRD1GFO08qA+JPbZMIT4C3yw+WSHOPSXD2D2UH8g9mrOhPX2XWT3DJSU96PfvPIh5kjxs2UM9cjn7PQxNQD7hBwE+eMIMPjMtBz7BTtg9umgnPnIiDT4CQvM9UEixPdg2+D25O/s9xN2hPYm8UT0sMys9CTArPVv7ET2ZfRM+YwbSPR+Uij0G3iM9JXR6PV+c0D0SnxY+bcqQPdydsT1aPMI9YamqPdVfCT5Pku49FNbXPcKytT3Dbd89YbzHPQWRmj2t7XE9oHuIPYgsmz1twpI9OELnPXJB1T2Rcs09eia0PcUJAj49Dx4+YTHTPVZ/iD1jq0o9w+RJPdVtNz0ZY9E9aG22PeoZoT1tS4Q97Mi6PSx/8z0gaOg9Bvu2PT/MrD1w47M9D22kPQXjlj1tUoA98GhWPYe3GT31Kng90Ii+PeXELT6zm8I9RqD4PeCJAT4yNNw9J5HKPTZntT2uwKY9zcKSPSKRwT0xPNc9M6b1PYU9tz14LbM9fNqxPXnGmz3uKRM+CQ0JPiUWAT7NmeE9zFfbPWkivj3DZKE9A0lZPcFQdT1b8VA9OUcyPQul9j0vgu895KjrPfM63j0XrOg9ECLdPaHHsT2GcYA9tzN+PTbXYz3MzE09C6X2PS+C7z3kqOs98zrePRes6D0QIt09ocexPYZxgD23M349NtdjPczMTT0=\",\"dtype\":\"float32\",\"shape\":[13,11]}]},\"selected\":{\"id\":\"a818f50b-f853-455b-b3ff-dfd23bc7c1d8\",\"type\":\"Selection\"},\"selection_policy\":{\"id\":\"33dad520-501b-4713-8261-e908af0093c3\",\"type\":\"UnionRenderers\"}},\"id\":\"ff19bae9-f290-48fc-a52a-e2c7e65274aa\",\"type\":\"ColumnDataSource\"},{\"attributes\":{},\"id\":\"1eb6a3e4-ea18-4c58-b34b-f1de0c353544\",\"type\":\"BasicTickFormatter\"},{\"attributes\":{\"palette\":[\"#000000\",\"#252525\",\"#525252\",\"#737373\",\"#969696\",\"#bdbdbd\",\"#d9d9d9\",\"#f0f0f0\",\"#ffffff\"]},\"id\":\"45106990-a0c0-4367-99ba-8ae01abaa21b\",\"type\":\"LinearColorMapper\"},{\"attributes\":{},\"id\":\"97f90607-ec73-4bd4-b962-4be24ac4186a\",\"type\":\"LinearScale\"}],\"root_ids\":[\"ac402a46-341c-4f4b-8891-fa1df0e2da3a\"]},\"title\":\"Bokeh Application\",\"version\":\"0.13.0\"}};\n",
       "  var render_items = [{\"docid\":\"1df8da65-5d42-483f-9a7c-4abed20c2673\",\"roots\":{\"ac402a46-341c-4f4b-8891-fa1df0e2da3a\":\"5f00eae9-ffac-400c-b6b8-575fb5bcd776\"}}];\n",
       "  root.Bokeh.embed.embed_items_notebook(docs_json, render_items);\n",
       "\n",
       "  }\n",
       "  if (root.Bokeh !== undefined) {\n",
       "    embed_document(root);\n",
       "  } else {\n",
       "    var attempts = 0;\n",
       "    var timer = setInterval(function(root) {\n",
       "      if (root.Bokeh !== undefined) {\n",
       "        embed_document(root);\n",
       "        clearInterval(timer);\n",
       "      }\n",
       "      attempts++;\n",
       "      if (attempts > 100) {\n",
       "        console.log(\"Bokeh: ERROR: Unable to run BokehJS code because BokehJS library is missing\")\n",
       "        clearInterval(timer);\n",
       "      }\n",
       "    }, 10, root)\n",
       "  }\n",
       "})(window);"
      ],
      "application/vnd.bokehjs_exec.v0+json": ""
     },
     "metadata": {
      "application/vnd.bokehjs_exec.v0+json": {
       "id": "ac402a46-341c-4f4b-8891-fa1df0e2da3a"
      }
     },
     "output_type": "display_data"
    },
    {
     "data": {
      "text/html": [
       "\n",
       "\n",
       "\n",
       "\n",
       "\n",
       "\n",
       "  <div class=\"bk-root\" id=\"a83774c8-a697-46f1-a92b-4e7c8ba9f762\"></div>\n"
      ]
     },
     "metadata": {},
     "output_type": "display_data"
    },
    {
     "data": {
      "application/javascript": [
       "(function(root) {\n",
       "  function embed_document(root) {\n",
       "    \n",
       "  var docs_json = {\"1f909ee2-e071-4bac-9c9c-46c812bd5bf4\":{\"roots\":{\"references\":[{\"attributes\":{\"above\":[{\"id\":\"ee645f72-d5a9-4ca2-9c2f-a0cb84bf2e8c\",\"type\":\"LinearAxis\"}],\"left\":[{\"id\":\"b42ec868-382e-4f25-a268-f9eee8801156\",\"type\":\"LinearAxis\"}],\"renderers\":[{\"id\":\"ab4ceaea-3801-47a2-be73-6d40cb7b2025\",\"type\":\"GlyphRenderer\"},{\"id\":\"ee645f72-d5a9-4ca2-9c2f-a0cb84bf2e8c\",\"type\":\"LinearAxis\"},{\"id\":\"b42ec868-382e-4f25-a268-f9eee8801156\",\"type\":\"LinearAxis\"}],\"title\":{\"id\":\"01a09f35-2426-4d18-b73e-fb72ce49c53c\",\"type\":\"Title\"},\"toolbar\":{\"id\":\"5b01348a-e759-4c95-a0fc-064d3fec61ed\",\"type\":\"Toolbar\"},\"x_range\":{\"id\":\"0be50a1b-d6f9-485a-b68a-9a1a579891e1\",\"type\":\"Range1d\"},\"x_scale\":{\"id\":\"2773c0df-dfc4-49db-a6e8-289d1b6944d3\",\"type\":\"LinearScale\"},\"y_range\":{\"id\":\"522e0baa-e37a-48b3-b165-7029b1a9ea82\",\"type\":\"Range1d\"},\"y_scale\":{\"id\":\"4e24d8c7-cd94-4cf7-9e35-8a9d9adecbfb\",\"type\":\"LinearScale\"}},\"id\":\"262de3fb-11ff-41b4-946f-0e4cfd383a5d\",\"subtype\":\"Figure\",\"type\":\"Plot\"},{\"attributes\":{\"active_drag\":\"auto\",\"active_inspect\":\"auto\",\"active_multi\":null,\"active_scroll\":\"auto\",\"active_tap\":\"auto\"},\"id\":\"5b01348a-e759-4c95-a0fc-064d3fec61ed\",\"type\":\"Toolbar\"},{\"attributes\":{},\"id\":\"4e24d8c7-cd94-4cf7-9e35-8a9d9adecbfb\",\"type\":\"LinearScale\"},{\"attributes\":{\"palette\":[\"#000000\",\"#252525\",\"#525252\",\"#737373\",\"#969696\",\"#bdbdbd\",\"#d9d9d9\",\"#f0f0f0\",\"#ffffff\"]},\"id\":\"1c8a8ccb-10d0-4dc8-847a-b2ec344929d9\",\"type\":\"LinearColorMapper\"},{\"attributes\":{\"axis_label\":\"translation tokens\",\"formatter\":{\"id\":\"11e09667-f512-48c6-a90c-c71e34548a13\",\"type\":\"BasicTickFormatter\"},\"major_label_overrides\":{\"0.5\":\"_EOS_\",\"1.5\":\".\",\"10.5\":\"rental\",\"11.5\":\"car\",\"12.5\":\"_BOS_\",\"2.5\":\"property\",\"3.5\":\"the\",\"4.5\":\"at\",\"5.5\":\"available\",\"6.5\":\"are\",\"7.5\":\"rental\",\"8.5\":\"car\",\"9.5\":\"and\"},\"plot\":{\"id\":\"262de3fb-11ff-41b4-946f-0e4cfd383a5d\",\"subtype\":\"Figure\",\"type\":\"Plot\"},\"ticker\":{\"id\":\"c7b6193c-988b-44b7-8c1b-75ccda30b3fd\",\"type\":\"FixedTicker\"}},\"id\":\"b42ec868-382e-4f25-a268-f9eee8801156\",\"type\":\"LinearAxis\"},{\"attributes\":{\"callback\":null,\"data\":{\"image\":[{\"__ndarray__\":\"+dn1PU/ttD0UPYE9faG0PXavmD0pqYI9ZuMkPfy5KT3YWhY9yI0DPTTLiD0TzmA9BKvCPU+8pT1pSFw9vmYEPqjBuT1CPII9GQTHPZt7jj0aKFM9YeEQPWHYQj2llBE9hQPZPIdioj0eoTE9CHunPZWZrj3574E97W+WPYEvTT25LAw9DyGAPTiGXj28VTk9xsUXPQZwUj3hky09AXj/PBHq5T14pIg9BJvjPTZhCT53I8A9/bfOPQJ0iD2xWC89mT+ePf6Xhj3302Q9shopPYLgUj1FGC89oKcaPTNGuD3sz4Q9GDPkPbKEwT3Mc2g9NIBKPRyg6DyrwoM8bRkHPScMED2nLig9R94UPbGEoT1MT3s9WBIQPaHHKD6TpoI9PW+3Pd8lHT4cZOg9EAIbPiS+8z2c4L49fabnPWEAwD2HNoc9TSoXPYa8KD0Qaws9Sor0PLW2Yz3FiP88UXdMPcAeSD28VRM9T0LvPW+2vj0muJQ9LNmxPdypmT2rIY49DZtaPbKBQz16sSs9O24nPcXiiz1ms0o9Z8qGPT0xiT1ipVM9fzDVPZ2Oqz2ysoo9pgjFPc9IsD2henc9bhklPccUOj2HQxA9sAUJPfzOnD0bYFM9zBytPbQupj2/8Fo9YzvIPQ+5oj1hyoQ9RIezPUPAnj3mVHM9jTFGPfKqej3GSFs9xHNHPdO+rj0lUVQ9ZL1+PfzhhD0Hsmo9BIzbPUwNqD3mmn09Es+mPY6Hmj0nrHM9SXtAPfXRYj28ykg9bqotPbTNsz1mRU89o/iIPSbmkT24c349240JPiKE+T16n+E9vk3zPUli1D3C0509be1FPb04Gj0vJ988+ZK0PPshMz10cAw9wWFRPSIaKD0Zx+o8xrCXPYhAaT3SRzw9OWeDPeUUiT0+dpE9McCIPQQRqD1rhY09+1lnPcQhmz1PfXk9SrR/PUXTlz1r+pU9xrCXPYhAaT3SRzw9OWeDPeUUiT0+dpE9McCIPQQRqD1rhY09+1lnPcQhmz1PfXk9SrR/PUXTlz1r+pU9\",\"dtype\":\"float32\",\"shape\":[13,15]}]},\"selected\":{\"id\":\"3baa9c31-f8db-47e4-a6f6-5c11caf46860\",\"type\":\"Selection\"},\"selection_policy\":{\"id\":\"39c0bb8a-ae82-43a3-8aa4-3553583eb3ff\",\"type\":\"UnionRenderers\"}},\"id\":\"236a2a1e-5eb3-490c-bfa9-e69e4e7d6948\",\"type\":\"ColumnDataSource\"},{\"attributes\":{},\"id\":\"3baa9c31-f8db-47e4-a6f6-5c11caf46860\",\"type\":\"Selection\"},{\"attributes\":{\"axis_label\":\"source tokens\",\"formatter\":{\"id\":\"709c4aea-a78a-417e-9892-120019bfae80\",\"type\":\"BasicTickFormatter\"},\"major_label_orientation\":45,\"major_label_overrides\":{\"0.5\":\"_BOS_\",\"1.5\":\"\\u043a\\u0440\\u043e\\u043c\\u0435\",\"10.5\":\"\\u0438\",\"11.5\":\"\\u0431\\u0435\\u0441\\u043f\\u043b\\u0430\\u0442\\u043d\\u0430\\u044f\",\"12.5\":\"\\u043f\\u0430\\u0440\\u043a\\u043e\\u0432\\u043a\\u0430\",\"13.5\":\".\",\"14.5\":\"_EOS_\",\"2.5\":\"\\u0442\\u043e\\u0433\\u043e\",\"3.5\":\",\",\"4.5\":\"\\u043f\\u0440\\u0435\\u0434\\u043e\\u0441\\u0442\\u0430\\u0432\\u043b\\u044f\\u0435\\u0442\\u0441\\u044f\",\"5.5\":\"\\u043f\\u0440\\u043e\\u043a\\u0430\\u0442\",\"6.5\":\"\\u0432\\u0435\\u043b\\u043e\\u0441\\u0438\\u043f\\u0435\\u0434\\u043e\\u0432\",\"7.5\":\",\",\"8.5\":\"\\u0443\\u0441\\u043b\\u0443\\u0433\\u0438\",\"9.5\":\"\\u0442\\u0440\\u0430\\u043d\\u0441\\u0444\\u0435\\u0440\\u0430\"},\"plot\":{\"id\":\"262de3fb-11ff-41b4-946f-0e4cfd383a5d\",\"subtype\":\"Figure\",\"type\":\"Plot\"},\"ticker\":{\"id\":\"fbb80782-7291-44d9-a0d2-15b395d128e0\",\"type\":\"FixedTicker\"}},\"id\":\"ee645f72-d5a9-4ca2-9c2f-a0cb84bf2e8c\",\"type\":\"LinearAxis\"},{\"attributes\":{\"palette\":[\"#000000\",\"#252525\",\"#525252\",\"#737373\",\"#969696\",\"#bdbdbd\",\"#d9d9d9\",\"#f0f0f0\",\"#ffffff\"]},\"id\":\"5286725d-1050-4da9-9988-1eed6032c33e\",\"type\":\"LinearColorMapper\"},{\"attributes\":{\"ticks\":[0.5,1.5,2.5,3.5,4.5,5.5,6.5,7.5,8.5,9.5,10.5,11.5,12.5]},\"id\":\"c7b6193c-988b-44b7-8c1b-75ccda30b3fd\",\"type\":\"FixedTicker\"},{\"attributes\":{},\"id\":\"11e09667-f512-48c6-a90c-c71e34548a13\",\"type\":\"BasicTickFormatter\"},{\"attributes\":{},\"id\":\"2773c0df-dfc4-49db-a6e8-289d1b6944d3\",\"type\":\"LinearScale\"},{\"attributes\":{\"ticks\":[0.5,1.5,2.5,3.5,4.5,5.5,6.5,7.5,8.5,9.5,10.5,11.5,12.5,13.5,14.5]},\"id\":\"fbb80782-7291-44d9-a0d2-15b395d128e0\",\"type\":\"FixedTicker\"},{\"attributes\":{\"plot\":null,\"text\":\"\"},\"id\":\"01a09f35-2426-4d18-b73e-fb72ce49c53c\",\"type\":\"Title\"},{\"attributes\":{\"source\":{\"id\":\"236a2a1e-5eb3-490c-bfa9-e69e4e7d6948\",\"type\":\"ColumnDataSource\"}},\"id\":\"f8d69026-588c-493e-baba-fbabd83308c2\",\"type\":\"CDSView\"},{\"attributes\":{},\"id\":\"709c4aea-a78a-417e-9892-120019bfae80\",\"type\":\"BasicTickFormatter\"},{\"attributes\":{\"data_source\":{\"id\":\"236a2a1e-5eb3-490c-bfa9-e69e4e7d6948\",\"type\":\"ColumnDataSource\"},\"glyph\":{\"id\":\"cfe71bcd-3d90-4089-aac3-5059785315ad\",\"type\":\"Image\"},\"hover_glyph\":null,\"muted_glyph\":null,\"nonselection_glyph\":{\"id\":\"cff6a0e7-1587-40b5-b5ba-7c708f917e14\",\"type\":\"Image\"},\"selection_glyph\":null,\"view\":{\"id\":\"f8d69026-588c-493e-baba-fbabd83308c2\",\"type\":\"CDSView\"}},\"id\":\"ab4ceaea-3801-47a2-be73-6d40cb7b2025\",\"type\":\"GlyphRenderer\"},{\"attributes\":{\"callback\":null,\"end\":15},\"id\":\"0be50a1b-d6f9-485a-b68a-9a1a579891e1\",\"type\":\"Range1d\"},{\"attributes\":{},\"id\":\"39c0bb8a-ae82-43a3-8aa4-3553583eb3ff\",\"type\":\"UnionRenderers\"},{\"attributes\":{\"color_mapper\":{\"id\":\"5286725d-1050-4da9-9988-1eed6032c33e\",\"type\":\"LinearColorMapper\"},\"dh\":{\"units\":\"data\",\"value\":13},\"dw\":{\"units\":\"data\",\"value\":15},\"image\":{\"field\":\"image\"},\"x\":{\"value\":0},\"y\":{\"value\":0}},\"id\":\"cfe71bcd-3d90-4089-aac3-5059785315ad\",\"type\":\"Image\"},{\"attributes\":{\"callback\":null,\"end\":13},\"id\":\"522e0baa-e37a-48b3-b165-7029b1a9ea82\",\"type\":\"Range1d\"},{\"attributes\":{\"color_mapper\":{\"id\":\"1c8a8ccb-10d0-4dc8-847a-b2ec344929d9\",\"type\":\"LinearColorMapper\"},\"dh\":{\"units\":\"data\",\"value\":13},\"dw\":{\"units\":\"data\",\"value\":15},\"image\":{\"field\":\"image\"},\"x\":{\"value\":0},\"y\":{\"value\":0}},\"id\":\"cff6a0e7-1587-40b5-b5ba-7c708f917e14\",\"type\":\"Image\"}],\"root_ids\":[\"262de3fb-11ff-41b4-946f-0e4cfd383a5d\"]},\"title\":\"Bokeh Application\",\"version\":\"0.13.0\"}};\n",
       "  var render_items = [{\"docid\":\"1f909ee2-e071-4bac-9c9c-46c812bd5bf4\",\"roots\":{\"262de3fb-11ff-41b4-946f-0e4cfd383a5d\":\"a83774c8-a697-46f1-a92b-4e7c8ba9f762\"}}];\n",
       "  root.Bokeh.embed.embed_items_notebook(docs_json, render_items);\n",
       "\n",
       "  }\n",
       "  if (root.Bokeh !== undefined) {\n",
       "    embed_document(root);\n",
       "  } else {\n",
       "    var attempts = 0;\n",
       "    var timer = setInterval(function(root) {\n",
       "      if (root.Bokeh !== undefined) {\n",
       "        embed_document(root);\n",
       "        clearInterval(timer);\n",
       "      }\n",
       "      attempts++;\n",
       "      if (attempts > 100) {\n",
       "        console.log(\"Bokeh: ERROR: Unable to run BokehJS code because BokehJS library is missing\")\n",
       "        clearInterval(timer);\n",
       "      }\n",
       "    }, 10, root)\n",
       "  }\n",
       "})(window);"
      ],
      "application/vnd.bokehjs_exec.v0+json": ""
     },
     "metadata": {
      "application/vnd.bokehjs_exec.v0+json": {
       "id": "262de3fb-11ff-41b4-946f-0e4cfd383a5d"
      }
     },
     "output_type": "display_data"
    },
    {
     "data": {
      "text/html": [
       "\n",
       "\n",
       "\n",
       "\n",
       "\n",
       "\n",
       "  <div class=\"bk-root\" id=\"fb8605f9-54f9-4704-b430-687cf82ac2e7\"></div>\n"
      ]
     },
     "metadata": {},
     "output_type": "display_data"
    },
    {
     "data": {
      "application/javascript": [
       "(function(root) {\n",
       "  function embed_document(root) {\n",
       "    \n",
       "  var docs_json = {\"54fee35c-221b-4ac5-a882-114f4e04f481\":{\"roots\":{\"references\":[{\"attributes\":{\"ticks\":[0.5,1.5,2.5,3.5,4.5,5.5,6.5,7.5,8.5,9.5,10.5,11.5,12.5]},\"id\":\"85453d1a-43a7-4159-8ca4-c88f80adb5d9\",\"type\":\"FixedTicker\"},{\"attributes\":{\"above\":[{\"id\":\"485b5ead-095f-4fcb-a75d-8313a07e1152\",\"type\":\"LinearAxis\"}],\"left\":[{\"id\":\"f1db1bb2-3e1d-4d63-914e-77c86eea6865\",\"type\":\"LinearAxis\"}],\"renderers\":[{\"id\":\"d5725940-ec73-477f-b832-094ddb514acb\",\"type\":\"GlyphRenderer\"},{\"id\":\"485b5ead-095f-4fcb-a75d-8313a07e1152\",\"type\":\"LinearAxis\"},{\"id\":\"f1db1bb2-3e1d-4d63-914e-77c86eea6865\",\"type\":\"LinearAxis\"}],\"title\":{\"id\":\"6b482c9a-e59a-4246-a662-e03e15d47223\",\"type\":\"Title\"},\"toolbar\":{\"id\":\"44d08add-07ee-4cde-98f0-80d176034b3d\",\"type\":\"Toolbar\"},\"x_range\":{\"id\":\"470beda6-9f0f-4b6b-8cfb-0652b8abe0e8\",\"type\":\"Range1d\"},\"x_scale\":{\"id\":\"96c50e25-b993-46d2-88c6-3f3b4d3111e8\",\"type\":\"LinearScale\"},\"y_range\":{\"id\":\"cefda74d-478b-4035-a7eb-c200110bf679\",\"type\":\"Range1d\"},\"y_scale\":{\"id\":\"adf027e7-ad47-4a74-a251-ec4c6e66dafa\",\"type\":\"LinearScale\"}},\"id\":\"eb37b24d-e776-442e-81bd-0dd0799f9bf4\",\"subtype\":\"Figure\",\"type\":\"Plot\"},{\"attributes\":{},\"id\":\"96c50e25-b993-46d2-88c6-3f3b4d3111e8\",\"type\":\"LinearScale\"},{\"attributes\":{\"data_source\":{\"id\":\"8f552788-0ec4-4b88-b815-e9982683fb60\",\"type\":\"ColumnDataSource\"},\"glyph\":{\"id\":\"545d9bb4-21cb-4fc3-b05f-825573742dc9\",\"type\":\"Image\"},\"hover_glyph\":null,\"muted_glyph\":null,\"nonselection_glyph\":{\"id\":\"eeca5ef4-2909-4791-9889-8144fec105f5\",\"type\":\"Image\"},\"selection_glyph\":null,\"view\":{\"id\":\"0c2c61e4-1f10-4ebc-b544-424682fae971\",\"type\":\"CDSView\"}},\"id\":\"d5725940-ec73-477f-b832-094ddb514acb\",\"type\":\"GlyphRenderer\"},{\"attributes\":{},\"id\":\"4b7bdbf4-fa23-4f57-8c1b-f8dd7582336c\",\"type\":\"UnionRenderers\"},{\"attributes\":{\"axis_label\":\"translation tokens\",\"formatter\":{\"id\":\"281b361c-d106-459a-9d5d-a1b9a25a517d\",\"type\":\"BasicTickFormatter\"},\"major_label_overrides\":{\"0.5\":\"_EOS_\",\"1.5\":\".\",\"10.5\":\"the\",\"11.5\":\"_BOS_\",\"2.5\":\"property\",\"3.5\":\"the\",\"4.5\":\"from\",\"5.5\":\"km\",\"6.5\":\"vaclav\",\"7.5\":\"is\",\"8.5\":\"airport\",\"9.5\":\"nearest\"},\"plot\":{\"id\":\"eb37b24d-e776-442e-81bd-0dd0799f9bf4\",\"subtype\":\"Figure\",\"type\":\"Plot\"},\"ticker\":{\"id\":\"58a7ad50-c029-48b1-b238-8783d8a0edc0\",\"type\":\"FixedTicker\"}},\"id\":\"f1db1bb2-3e1d-4d63-914e-77c86eea6865\",\"type\":\"LinearAxis\"},{\"attributes\":{\"color_mapper\":{\"id\":\"3947384f-0776-4a22-bcaf-96cbcf707b52\",\"type\":\"LinearColorMapper\"},\"dh\":{\"units\":\"data\",\"value\":12},\"dw\":{\"units\":\"data\",\"value\":13},\"image\":{\"field\":\"image\"},\"x\":{\"value\":0},\"y\":{\"value\":0}},\"id\":\"545d9bb4-21cb-4fc3-b05f-825573742dc9\",\"type\":\"Image\"},{\"attributes\":{\"palette\":[\"#000000\",\"#252525\",\"#525252\",\"#737373\",\"#969696\",\"#bdbdbd\",\"#d9d9d9\",\"#f0f0f0\",\"#ffffff\"]},\"id\":\"a0bb2411-d044-4f01-bbdd-230e053f1dea\",\"type\":\"LinearColorMapper\"},{\"attributes\":{},\"id\":\"45f7abab-cb61-40f0-92ca-79268e3582bf\",\"type\":\"Selection\"},{\"attributes\":{\"palette\":[\"#000000\",\"#252525\",\"#525252\",\"#737373\",\"#969696\",\"#bdbdbd\",\"#d9d9d9\",\"#f0f0f0\",\"#ffffff\"]},\"id\":\"3947384f-0776-4a22-bcaf-96cbcf707b52\",\"type\":\"LinearColorMapper\"},{\"attributes\":{\"callback\":null,\"end\":12},\"id\":\"cefda74d-478b-4035-a7eb-c200110bf679\",\"type\":\"Range1d\"},{\"attributes\":{\"plot\":null,\"text\":\"\"},\"id\":\"6b482c9a-e59a-4246-a662-e03e15d47223\",\"type\":\"Title\"},{\"attributes\":{\"callback\":null,\"end\":13},\"id\":\"470beda6-9f0f-4b6b-8cfb-0652b8abe0e8\",\"type\":\"Range1d\"},{\"attributes\":{\"source\":{\"id\":\"8f552788-0ec4-4b88-b815-e9982683fb60\",\"type\":\"ColumnDataSource\"}},\"id\":\"0c2c61e4-1f10-4ebc-b544-424682fae971\",\"type\":\"CDSView\"},{\"attributes\":{},\"id\":\"adf027e7-ad47-4a74-a251-ec4c6e66dafa\",\"type\":\"LinearScale\"},{\"attributes\":{},\"id\":\"281b361c-d106-459a-9d5d-a1b9a25a517d\",\"type\":\"BasicTickFormatter\"},{\"attributes\":{\"active_drag\":\"auto\",\"active_inspect\":\"auto\",\"active_multi\":null,\"active_scroll\":\"auto\",\"active_tap\":\"auto\"},\"id\":\"44d08add-07ee-4cde-98f0-80d176034b3d\",\"type\":\"Toolbar\"},{\"attributes\":{\"ticks\":[0.5,1.5,2.5,3.5,4.5,5.5,6.5,7.5,8.5,9.5,10.5,11.5]},\"id\":\"58a7ad50-c029-48b1-b238-8783d8a0edc0\",\"type\":\"FixedTicker\"},{\"attributes\":{\"axis_label\":\"source tokens\",\"formatter\":{\"id\":\"d2c2c320-69eb-45c0-a83d-6ed6cecc52a4\",\"type\":\"BasicTickFormatter\"},\"major_label_orientation\":45,\"major_label_overrides\":{\"0.5\":\"_BOS_\",\"1.5\":\"\\u0440\\u0430\\u0441\\u0441\\u0442\\u043e\\u044f\\u043d\\u0438\\u0435\",\"10.5\":\"\\u043a\\u043c\",\"11.5\":\".\",\"12.5\":\"_EOS_\",\"2.5\":\"\\u0434\\u043e\",\"3.5\":\"\\u0433\\u043e\\u0440\\u043e\\u0434\\u0430\",\"4.5\":\"\\u043a\\u0438@@\",\"5.5\":\"\\u0441\\u0441\\u0438@@\",\"6.5\":\"\\u043c@@\",\"7.5\":\"\\u043c\\u0438\",\"8.5\":\"\\u0441\\u043e\\u0441\\u0442\\u0430\\u0432\\u043b\\u044f\\u0435\\u0442\",\"9.5\":\"26\"},\"plot\":{\"id\":\"eb37b24d-e776-442e-81bd-0dd0799f9bf4\",\"subtype\":\"Figure\",\"type\":\"Plot\"},\"ticker\":{\"id\":\"85453d1a-43a7-4159-8ca4-c88f80adb5d9\",\"type\":\"FixedTicker\"}},\"id\":\"485b5ead-095f-4fcb-a75d-8313a07e1152\",\"type\":\"LinearAxis\"},{\"attributes\":{},\"id\":\"d2c2c320-69eb-45c0-a83d-6ed6cecc52a4\",\"type\":\"BasicTickFormatter\"},{\"attributes\":{\"color_mapper\":{\"id\":\"a0bb2411-d044-4f01-bbdd-230e053f1dea\",\"type\":\"LinearColorMapper\"},\"dh\":{\"units\":\"data\",\"value\":12},\"dw\":{\"units\":\"data\",\"value\":13},\"image\":{\"field\":\"image\"},\"x\":{\"value\":0},\"y\":{\"value\":0}},\"id\":\"eeca5ef4-2909-4791-9889-8144fec105f5\",\"type\":\"Image\"},{\"attributes\":{\"callback\":null,\"data\":{\"image\":[{\"__ndarray__\":\"MO6RPiA6Jj5v0hk+wZj3PVq2lD2e71E9OrjiPO09iDxnP3A8xDWCPBmhizwJvA89mjH7PMBpSj4KLN09bUXxPWNj1T23ppc9e+Z5PQBGKj26EPE8LIvYPOA+AT0LNCk9iSm1PZXMoD3Yuhs+L0+rPUCxxD1UbaY9UVZdPWhDTT1ZkSk93qwRPSgOAz3/Chc9zfE9PS6OFD7C+RQ+rjvfPXLsbz3ZiVg9L1k6PV3fFz1XgBY9Jl4RPUgsGj34GCE9srIrPWpPLD2qSF4+vp58PkG5pj2Oik49wwNPPThCKT1wCO088KvWPG2UzDxFgfg8G+EgPVggLz0GXA89kbVvPjwMoT5Ja3I8fe8APGaLITxnFxI8B5P3O0nXATxYeiI831KBPE2o2Txcru88hrwJPeW0oj7QHQI/dXZDPuo1Jz71SxY+p1sEPmlovz3XeJA9mpcvPZEd3zw36Kc81FiuPFb8sDzDUxU9Z8ISPURYEj7wLuA9HdXsPQVH3z3Ooqk9UTGLPYMvWj1Bxzg9kSYtPY/2OT3BBz49LOSPPdM4jj3yNKs9n02ZPe9Jpj0nXKw9uqurPcOZrD3Ck609z6eaPaPCgj0FGo09QjCXPR8smj0fFoc9QKbdPQfc0z0QXdc9tL3UPdt/wT1b2bI9skeePZE/gz03OUs9yWhYPU6mcT1SEFU9m38uPb6kBD7PQAY+js0CPu7EAz55V/c99s7QPWs7nz0cFkc9d178PH7v8TzQD/886VfEPKDNljy+pAQ+z0AGPo7NAj7uxAM+eVf3PfbO0D1rO589HBZHPXde/Dx+7/E80A//POlXxDygzZY8\",\"dtype\":\"float32\",\"shape\":[12,13]}]},\"selected\":{\"id\":\"45f7abab-cb61-40f0-92ca-79268e3582bf\",\"type\":\"Selection\"},\"selection_policy\":{\"id\":\"4b7bdbf4-fa23-4f57-8c1b-f8dd7582336c\",\"type\":\"UnionRenderers\"}},\"id\":\"8f552788-0ec4-4b88-b815-e9982683fb60\",\"type\":\"ColumnDataSource\"}],\"root_ids\":[\"eb37b24d-e776-442e-81bd-0dd0799f9bf4\"]},\"title\":\"Bokeh Application\",\"version\":\"0.13.0\"}};\n",
       "  var render_items = [{\"docid\":\"54fee35c-221b-4ac5-a882-114f4e04f481\",\"roots\":{\"eb37b24d-e776-442e-81bd-0dd0799f9bf4\":\"fb8605f9-54f9-4704-b430-687cf82ac2e7\"}}];\n",
       "  root.Bokeh.embed.embed_items_notebook(docs_json, render_items);\n",
       "\n",
       "  }\n",
       "  if (root.Bokeh !== undefined) {\n",
       "    embed_document(root);\n",
       "  } else {\n",
       "    var attempts = 0;\n",
       "    var timer = setInterval(function(root) {\n",
       "      if (root.Bokeh !== undefined) {\n",
       "        embed_document(root);\n",
       "        clearInterval(timer);\n",
       "      }\n",
       "      attempts++;\n",
       "      if (attempts > 100) {\n",
       "        console.log(\"Bokeh: ERROR: Unable to run BokehJS code because BokehJS library is missing\")\n",
       "        clearInterval(timer);\n",
       "      }\n",
       "    }, 10, root)\n",
       "  }\n",
       "})(window);"
      ],
      "application/vnd.bokehjs_exec.v0+json": ""
     },
     "metadata": {
      "application/vnd.bokehjs_exec.v0+json": {
       "id": "eb37b24d-e776-442e-81bd-0dd0799f9bf4"
      }
     },
     "output_type": "display_data"
    },
    {
     "data": {
      "text/html": [
       "\n",
       "\n",
       "\n",
       "\n",
       "\n",
       "\n",
       "  <div class=\"bk-root\" id=\"8c59d056-872a-4856-8984-0b159b08306a\"></div>\n"
      ]
     },
     "metadata": {},
     "output_type": "display_data"
    },
    {
     "data": {
      "application/javascript": [
       "(function(root) {\n",
       "  function embed_document(root) {\n",
       "    \n",
       "  var docs_json = {\"e7366d83-02c5-4522-9a78-559ae39c06af\":{\"roots\":{\"references\":[{\"attributes\":{},\"id\":\"83b4dbab-e6c4-4020-8539-20166b3b1c4a\",\"type\":\"BasicTickFormatter\"},{\"attributes\":{},\"id\":\"8e9c09d4-20a5-4565-8edd-f521364e3604\",\"type\":\"LinearScale\"},{\"attributes\":{\"axis_label\":\"source tokens\",\"formatter\":{\"id\":\"3883f0cf-46fa-4fc9-bbcb-5a3f6c242ab7\",\"type\":\"BasicTickFormatter\"},\"major_label_orientation\":45,\"major_label_overrides\":{\"0.5\":\"_BOS_\",\"1.5\":\"\\u0430\\u043f\\u0430\\u0440\\u0442\\u0430\\u043c\\u0435\\u043d\\u0442\\u044b\",\"10.5\":\"\\u0441\\u0430\\u0434\\u043e\\u043c\",\"11.5\":\",\",\"12.5\":\"\\u043a\\u043e\\u043d\\u0434\\u0438\\u0446\\u0438\\u043e\\u043d\\u0435\\u0440\\u043e\\u043c\",\"13.5\":\"\\u0438\",\"14.5\":\"\\u0442\\u0435\\u0440\\u0440\\u0430\\u0441\\u043e\\u0439\",\"15.5\":\"\\u0434\\u043b\\u044f\",\"16.5\":\"\\u0437\\u0430\\u0433\\u0430\\u0440\\u0430\",\"17.5\":\"\\u0440\\u0430\\u0441\\u043f\\u043e\\u043b\\u043e\\u0436\\u0435\\u043d\\u044b\",\"18.5\":\"\\u0432\",\"19.5\":\"5\",\"2.5\":\"\\u0432\",\"20.5\":\"\\u043c\\u0438\\u043d\\u0443\\u0442\\u0430\\u0445\",\"21.5\":\"\\u0445\\u043e\\u0434\\u044c\\u0431\\u044b\",\"22.5\":\"\\u043e\\u0442\",\"23.5\":\"\\u043f\\u043b\\u044f\\u0436\\u0430\",\"24.5\":\"\\u043d\\u0430\",\"25.5\":\"\\u043a\\u0443\\u0440\\u043e\\u0440\\u0442\\u0435\",\"26.5\":\"\\u043a\\u0430@@\",\"27.5\":\"\\u0431\\u043e\",\"28.5\":\"-\",\"29.5\":\"\\u0440\\u043e\\u0439\",\"3.5\":\"\\u043f\\u0435\\u043d\\u0442@@\",\"30.5\":\".\",\"31.5\":\"_EOS_\",\"4.5\":\"\\u0445\\u0430\\u0443\\u0441\\u0435\",\"5.5\":\"\\u0441\",\"6.5\":\"\\u043e\\u0431\\u0449\\u0438\\u043c\",\"7.5\":\"\\u043e\\u0442\\u043a\\u0440\\u044b\\u0442\\u044b\\u043c\",\"8.5\":\"\\u0431\\u0430\\u0441\\u0441\\u0435\\u0439\\u043d\\u043e\\u043c\",\"9.5\":\",\"},\"plot\":{\"id\":\"98d468f6-6d11-43aa-b886-095eb7243930\",\"subtype\":\"Figure\",\"type\":\"Plot\"},\"ticker\":{\"id\":\"e3251ec0-d60c-40fc-96ca-63e323c65c79\",\"type\":\"FixedTicker\"}},\"id\":\"229e6934-6226-4444-b6ed-be83084ee69e\",\"type\":\"LinearAxis\"},{\"attributes\":{},\"id\":\"3883f0cf-46fa-4fc9-bbcb-5a3f6c242ab7\",\"type\":\"BasicTickFormatter\"},{\"attributes\":{\"data_source\":{\"id\":\"0dbab37c-9823-4030-b856-3a078e2e7ec2\",\"type\":\"ColumnDataSource\"},\"glyph\":{\"id\":\"b03d43a9-6a10-4a2a-969c-9207c3cef79b\",\"type\":\"Image\"},\"hover_glyph\":null,\"muted_glyph\":null,\"nonselection_glyph\":{\"id\":\"a81f7665-2df0-47b3-8436-17c6498cc10a\",\"type\":\"Image\"},\"selection_glyph\":null,\"view\":{\"id\":\"436e4629-bf35-4a08-9098-156aa6d76012\",\"type\":\"CDSView\"}},\"id\":\"bc93d7dc-d781-4bb3-bfc0-3fb301d00ed2\",\"type\":\"GlyphRenderer\"},{\"attributes\":{},\"id\":\"8c7ccd90-8dfc-4c1c-985f-f25cc1ddb569\",\"type\":\"UnionRenderers\"},{\"attributes\":{\"active_drag\":\"auto\",\"active_inspect\":\"auto\",\"active_multi\":null,\"active_scroll\":\"auto\",\"active_tap\":\"auto\"},\"id\":\"72d1caf8-5528-430a-b1af-07f2d39eb956\",\"type\":\"Toolbar\"},{\"attributes\":{\"ticks\":[0.5,1.5,2.5,3.5,4.5,5.5,6.5,7.5,8.5,9.5,10.5,11.5,12.5,13.5,14.5,15.5,16.5,17.5,18.5,19.5,20.5,21.5,22.5,23.5,24.5,25.5,26.5,27.5,28.5,29.5,30.5,31.5,32.5,33.5]},\"id\":\"efe53c9f-0ffa-482f-93fb-da67100201a1\",\"type\":\"FixedTicker\"},{\"attributes\":{\"callback\":null,\"end\":32},\"id\":\"3023d889-5b25-49c6-a744-89fe816e47a9\",\"type\":\"Range1d\"},{\"attributes\":{\"callback\":null,\"data\":{\"image\":[{\"__ndarray__\":\"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\",\"dtype\":\"float32\",\"shape\":[34,32]}]},\"selected\":{\"id\":\"0e929beb-d1d0-42e8-b654-fdf524ed0120\",\"type\":\"Selection\"},\"selection_policy\":{\"id\":\"8c7ccd90-8dfc-4c1c-985f-f25cc1ddb569\",\"type\":\"UnionRenderers\"}},\"id\":\"0dbab37c-9823-4030-b856-3a078e2e7ec2\",\"type\":\"ColumnDataSource\"},{\"attributes\":{\"ticks\":[0.5,1.5,2.5,3.5,4.5,5.5,6.5,7.5,8.5,9.5,10.5,11.5,12.5,13.5,14.5,15.5,16.5,17.5,18.5,19.5,20.5,21.5,22.5,23.5,24.5,25.5,26.5,27.5,28.5,29.5,30.5,31.5]},\"id\":\"e3251ec0-d60c-40fc-96ca-63e323c65c79\",\"type\":\"FixedTicker\"},{\"attributes\":{\"above\":[{\"id\":\"229e6934-6226-4444-b6ed-be83084ee69e\",\"type\":\"LinearAxis\"}],\"left\":[{\"id\":\"4e125b99-7df8-4919-8fe2-7dcbec165f31\",\"type\":\"LinearAxis\"}],\"renderers\":[{\"id\":\"bc93d7dc-d781-4bb3-bfc0-3fb301d00ed2\",\"type\":\"GlyphRenderer\"},{\"id\":\"229e6934-6226-4444-b6ed-be83084ee69e\",\"type\":\"LinearAxis\"},{\"id\":\"4e125b99-7df8-4919-8fe2-7dcbec165f31\",\"type\":\"LinearAxis\"}],\"title\":{\"id\":\"981f3ffb-da75-4081-b79f-e779e9f15894\",\"type\":\"Title\"},\"toolbar\":{\"id\":\"72d1caf8-5528-430a-b1af-07f2d39eb956\",\"type\":\"Toolbar\"},\"x_range\":{\"id\":\"3023d889-5b25-49c6-a744-89fe816e47a9\",\"type\":\"Range1d\"},\"x_scale\":{\"id\":\"8e9c09d4-20a5-4565-8edd-f521364e3604\",\"type\":\"LinearScale\"},\"y_range\":{\"id\":\"baa99135-9720-47bf-9939-eea1436c370b\",\"type\":\"Range1d\"},\"y_scale\":{\"id\":\"abb476e9-719f-4e14-9636-ada15a37a5fc\",\"type\":\"LinearScale\"}},\"id\":\"98d468f6-6d11-43aa-b886-095eb7243930\",\"subtype\":\"Figure\",\"type\":\"Plot\"},{\"attributes\":{\"axis_label\":\"translation tokens\",\"formatter\":{\"id\":\"83b4dbab-e6c4-4020-8539-20166b3b1c4a\",\"type\":\"BasicTickFormatter\"},\"major_label_overrides\":{\"0.5\":\"_EOS_\",\"1.5\":\".\",\"10.5\":\"with\",\"11.5\":\"terrace\",\"12.5\":\"a\",\"13.5\":\"and\",\"14.5\":\"terrace\",\"15.5\":\"a\",\"16.5\":\",\",\"17.5\":\"terrace\",\"18.5\":\"a\",\"19.5\":\",\",\"2.5\":\"terrace\",\"20.5\":\"garden\",\"21.5\":\"a\",\"22.5\":\"features\",\"23.5\":\"property\",\"24.5\":\"the\",\"25.5\":\",\",\"26.5\":\"city\",\"27.5\":\"the\",\"28.5\":\"of\",\"29.5\":\"centre\",\"3.5\":\"a\",\"30.5\":\"the\",\"31.5\":\"in\",\"32.5\":\"located\",\"33.5\":\"_BOS_\",\"4.5\":\"and\",\"5.5\":\"terrace\",\"6.5\":\"a\",\"7.5\":\",\",\"8.5\":\"terrace\",\"9.5\":\"a\"},\"plot\":{\"id\":\"98d468f6-6d11-43aa-b886-095eb7243930\",\"subtype\":\"Figure\",\"type\":\"Plot\"},\"ticker\":{\"id\":\"efe53c9f-0ffa-482f-93fb-da67100201a1\",\"type\":\"FixedTicker\"}},\"id\":\"4e125b99-7df8-4919-8fe2-7dcbec165f31\",\"type\":\"LinearAxis\"},{\"attributes\":{\"palette\":[\"#000000\",\"#252525\",\"#525252\",\"#737373\",\"#969696\",\"#bdbdbd\",\"#d9d9d9\",\"#f0f0f0\",\"#ffffff\"]},\"id\":\"0c8e319c-579c-4043-9fa4-bb6b5d95832e\",\"type\":\"LinearColorMapper\"},{\"attributes\":{\"color_mapper\":{\"id\":\"e3dd9ede-b7ef-4778-8eda-c114ee151f40\",\"type\":\"LinearColorMapper\"},\"dh\":{\"units\":\"data\",\"value\":34},\"dw\":{\"units\":\"data\",\"value\":32},\"image\":{\"field\":\"image\"},\"x\":{\"value\":0},\"y\":{\"value\":0}},\"id\":\"b03d43a9-6a10-4a2a-969c-9207c3cef79b\",\"type\":\"Image\"},{\"attributes\":{},\"id\":\"0e929beb-d1d0-42e8-b654-fdf524ed0120\",\"type\":\"Selection\"},{\"attributes\":{\"source\":{\"id\":\"0dbab37c-9823-4030-b856-3a078e2e7ec2\",\"type\":\"ColumnDataSource\"}},\"id\":\"436e4629-bf35-4a08-9098-156aa6d76012\",\"type\":\"CDSView\"},{\"attributes\":{\"palette\":[\"#000000\",\"#252525\",\"#525252\",\"#737373\",\"#969696\",\"#bdbdbd\",\"#d9d9d9\",\"#f0f0f0\",\"#ffffff\"]},\"id\":\"e3dd9ede-b7ef-4778-8eda-c114ee151f40\",\"type\":\"LinearColorMapper\"},{\"attributes\":{},\"id\":\"abb476e9-719f-4e14-9636-ada15a37a5fc\",\"type\":\"LinearScale\"},{\"attributes\":{\"plot\":null,\"text\":\"\"},\"id\":\"981f3ffb-da75-4081-b79f-e779e9f15894\",\"type\":\"Title\"},{\"attributes\":{\"callback\":null,\"end\":34},\"id\":\"baa99135-9720-47bf-9939-eea1436c370b\",\"type\":\"Range1d\"},{\"attributes\":{\"color_mapper\":{\"id\":\"0c8e319c-579c-4043-9fa4-bb6b5d95832e\",\"type\":\"LinearColorMapper\"},\"dh\":{\"units\":\"data\",\"value\":34},\"dw\":{\"units\":\"data\",\"value\":32},\"image\":{\"field\":\"image\"},\"x\":{\"value\":0},\"y\":{\"value\":0}},\"id\":\"a81f7665-2df0-47b3-8436-17c6498cc10a\",\"type\":\"Image\"}],\"root_ids\":[\"98d468f6-6d11-43aa-b886-095eb7243930\"]},\"title\":\"Bokeh Application\",\"version\":\"0.13.0\"}};\n",
       "  var render_items = [{\"docid\":\"e7366d83-02c5-4522-9a78-559ae39c06af\",\"roots\":{\"98d468f6-6d11-43aa-b886-095eb7243930\":\"8c59d056-872a-4856-8984-0b159b08306a\"}}];\n",
       "  root.Bokeh.embed.embed_items_notebook(docs_json, render_items);\n",
       "\n",
       "  }\n",
       "  if (root.Bokeh !== undefined) {\n",
       "    embed_document(root);\n",
       "  } else {\n",
       "    var attempts = 0;\n",
       "    var timer = setInterval(function(root) {\n",
       "      if (root.Bokeh !== undefined) {\n",
       "        embed_document(root);\n",
       "        clearInterval(timer);\n",
       "      }\n",
       "      attempts++;\n",
       "      if (attempts > 100) {\n",
       "        console.log(\"Bokeh: ERROR: Unable to run BokehJS code because BokehJS library is missing\")\n",
       "        clearInterval(timer);\n",
       "      }\n",
       "    }, 10, root)\n",
       "  }\n",
       "})(window);"
      ],
      "application/vnd.bokehjs_exec.v0+json": ""
     },
     "metadata": {
      "application/vnd.bokehjs_exec.v0+json": {
       "id": "98d468f6-6d11-43aa-b886-095eb7243930"
      }
     },
     "output_type": "display_data"
    },
    {
     "data": {
      "text/html": [
       "\n",
       "\n",
       "\n",
       "\n",
       "\n",
       "\n",
       "  <div class=\"bk-root\" id=\"7ba187ee-8803-4a60-9da2-ced61c31e267\"></div>\n"
      ]
     },
     "metadata": {},
     "output_type": "display_data"
    },
    {
     "data": {
      "application/javascript": [
       "(function(root) {\n",
       "  function embed_document(root) {\n",
       "    \n",
       "  var docs_json = {\"f74edfe0-f5a8-46df-bc29-4a1aaef21659\":{\"roots\":{\"references\":[{\"attributes\":{},\"id\":\"75231e5a-9afc-47e0-9f1b-45190e607647\",\"type\":\"BasicTickFormatter\"},{\"attributes\":{},\"id\":\"29df8ac5-7013-40fd-98a3-06ca49389d53\",\"type\":\"LinearScale\"},{\"attributes\":{\"palette\":[\"#000000\",\"#252525\",\"#525252\",\"#737373\",\"#969696\",\"#bdbdbd\",\"#d9d9d9\",\"#f0f0f0\",\"#ffffff\"]},\"id\":\"e9408568-bac0-402d-ad80-d2e957c7a2a0\",\"type\":\"LinearColorMapper\"},{\"attributes\":{\"source\":{\"id\":\"95af916f-43f0-45cd-be41-93a141bf5ee1\",\"type\":\"ColumnDataSource\"}},\"id\":\"2f4ad02b-cd05-43f6-9ed8-f1a2b4f415cf\",\"type\":\"CDSView\"},{\"attributes\":{\"axis_label\":\"source tokens\",\"formatter\":{\"id\":\"75231e5a-9afc-47e0-9f1b-45190e607647\",\"type\":\"BasicTickFormatter\"},\"major_label_orientation\":45,\"major_label_overrides\":{\"0.5\":\"_BOS_\",\"1.5\":\"\\u0430\\u043f\\u0430\\u0440\\u0442\\u0430\\u043c\\u0435\\u043d\\u0442\\u044b\",\"10.5\":\"square\",\"11.5\":\"\\u043d\\u0430\\u0445\\u043e\\u0434\\u044f\\u0442\\u0441\\u044f\",\"12.5\":\"\\u0432\",\"13.5\":\"\\u043c\\u043e\\u0441\\u043a\\u0432\\u0435\",\"14.5\":\",\",\"15.5\":\"\\u0432\",\"16.5\":\"200\",\"17.5\":\"\\u043c\\u0435\\u0442\\u0440\\u0430\\u0445\",\"18.5\":\"\\u043e\\u0442\",\"19.5\":\"\\u0431\\u043e\\u043b\\u044c\\u0448\\u043e\\u0433\\u043e\",\"2.5\":\"mo@@\",\"20.5\":\"\\u0442\\u0435\\u0430\\u0442\\u0440\\u0430\",\"21.5\":\".\",\"22.5\":\"_EOS_\",\"3.5\":\"s@@\",\"4.5\":\"co@@\",\"5.5\":\"w\",\"6.5\":\"point\",\"7.5\":\"-\",\"8.5\":\"loft\",\"9.5\":\"red\"},\"plot\":{\"id\":\"84700543-4318-41f4-9c50-7e26d8722049\",\"subtype\":\"Figure\",\"type\":\"Plot\"},\"ticker\":{\"id\":\"d826312b-ad35-4fb3-b6af-6fef59b2d4bd\",\"type\":\"FixedTicker\"}},\"id\":\"49430dfa-109d-44d4-af3c-144308e9ae43\",\"type\":\"LinearAxis\"},{\"attributes\":{\"plot\":null,\"text\":\"\"},\"id\":\"ea3a0ab0-ed09-4a61-9699-0f188dd1bad3\",\"type\":\"Title\"},{\"attributes\":{\"callback\":null,\"end\":23},\"id\":\"9f6dcbb6-2c3f-48cf-a44e-dad608035310\",\"type\":\"Range1d\"},{\"attributes\":{},\"id\":\"d26e25b0-6df0-406b-b0da-99275ff3622d\",\"type\":\"UnionRenderers\"},{\"attributes\":{\"above\":[{\"id\":\"49430dfa-109d-44d4-af3c-144308e9ae43\",\"type\":\"LinearAxis\"}],\"left\":[{\"id\":\"30fc75ca-711e-4a2d-9591-c8088f5085bf\",\"type\":\"LinearAxis\"}],\"renderers\":[{\"id\":\"cd315051-cb98-4b53-98bb-8d1992165a5f\",\"type\":\"GlyphRenderer\"},{\"id\":\"49430dfa-109d-44d4-af3c-144308e9ae43\",\"type\":\"LinearAxis\"},{\"id\":\"30fc75ca-711e-4a2d-9591-c8088f5085bf\",\"type\":\"LinearAxis\"}],\"title\":{\"id\":\"ea3a0ab0-ed09-4a61-9699-0f188dd1bad3\",\"type\":\"Title\"},\"toolbar\":{\"id\":\"09947262-ef50-4c41-8612-d6d639093df1\",\"type\":\"Toolbar\"},\"x_range\":{\"id\":\"9f6dcbb6-2c3f-48cf-a44e-dad608035310\",\"type\":\"Range1d\"},\"x_scale\":{\"id\":\"29df8ac5-7013-40fd-98a3-06ca49389d53\",\"type\":\"LinearScale\"},\"y_range\":{\"id\":\"3f036e2d-49db-4b9a-a2ab-b40644f332fd\",\"type\":\"Range1d\"},\"y_scale\":{\"id\":\"7c228080-65df-488a-bb70-a9f7f8771138\",\"type\":\"LinearScale\"}},\"id\":\"84700543-4318-41f4-9c50-7e26d8722049\",\"subtype\":\"Figure\",\"type\":\"Plot\"},{\"attributes\":{},\"id\":\"35df3933-ce50-437b-8fe5-f84e0202080d\",\"type\":\"Selection\"},{\"attributes\":{},\"id\":\"7c228080-65df-488a-bb70-a9f7f8771138\",\"type\":\"LinearScale\"},{\"attributes\":{},\"id\":\"5e085a4f-f203-4db9-b51a-4e87caa8cdce\",\"type\":\"BasicTickFormatter\"},{\"attributes\":{\"data_source\":{\"id\":\"95af916f-43f0-45cd-be41-93a141bf5ee1\",\"type\":\"ColumnDataSource\"},\"glyph\":{\"id\":\"0d56b981-6979-4d13-972a-1eb33d3c93b2\",\"type\":\"Image\"},\"hover_glyph\":null,\"muted_glyph\":null,\"nonselection_glyph\":{\"id\":\"72a37b7f-0e84-4991-a536-4776273005af\",\"type\":\"Image\"},\"selection_glyph\":null,\"view\":{\"id\":\"2f4ad02b-cd05-43f6-9ed8-f1a2b4f415cf\",\"type\":\"CDSView\"}},\"id\":\"cd315051-cb98-4b53-98bb-8d1992165a5f\",\"type\":\"GlyphRenderer\"},{\"attributes\":{\"color_mapper\":{\"id\":\"e9408568-bac0-402d-ad80-d2e957c7a2a0\",\"type\":\"LinearColorMapper\"},\"dh\":{\"units\":\"data\",\"value\":43},\"dw\":{\"units\":\"data\",\"value\":23},\"image\":{\"field\":\"image\"},\"x\":{\"value\":0},\"y\":{\"value\":0}},\"id\":\"72a37b7f-0e84-4991-a536-4776273005af\",\"type\":\"Image\"},{\"attributes\":{\"callback\":null,\"data\":{\"image\":[{\"__ndarray__\":\"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\",\"dtype\":\"float32\",\"shape\":[43,23]}]},\"selected\":{\"id\":\"35df3933-ce50-437b-8fe5-f84e0202080d\",\"type\":\"Selection\"},\"selection_policy\":{\"id\":\"d26e25b0-6df0-406b-b0da-99275ff3622d\",\"type\":\"UnionRenderers\"}},\"id\":\"95af916f-43f0-45cd-be41-93a141bf5ee1\",\"type\":\"ColumnDataSource\"},{\"attributes\":{\"active_drag\":\"auto\",\"active_inspect\":\"auto\",\"active_multi\":null,\"active_scroll\":\"auto\",\"active_tap\":\"auto\"},\"id\":\"09947262-ef50-4c41-8612-d6d639093df1\",\"type\":\"Toolbar\"},{\"attributes\":{\"palette\":[\"#000000\",\"#252525\",\"#525252\",\"#737373\",\"#969696\",\"#bdbdbd\",\"#d9d9d9\",\"#f0f0f0\",\"#ffffff\"]},\"id\":\"197397cf-f69a-48ec-8999-3f2c9c2dca0e\",\"type\":\"LinearColorMapper\"},{\"attributes\":{\"ticks\":[0.5,1.5,2.5,3.5,4.5,5.5,6.5,7.5,8.5,9.5,10.5,11.5,12.5,13.5,14.5,15.5,16.5,17.5,18.5,19.5,20.5,21.5,22.5,23.5,24.5,25.5,26.5,27.5,28.5,29.5,30.5,31.5,32.5,33.5,34.5,35.5,36.5,37.5,38.5,39.5,40.5,41.5,42.5]},\"id\":\"edcbe928-dba4-4e1e-8518-3d8a3d75ded3\",\"type\":\"FixedTicker\"},{\"attributes\":{\"color_mapper\":{\"id\":\"197397cf-f69a-48ec-8999-3f2c9c2dca0e\",\"type\":\"LinearColorMapper\"},\"dh\":{\"units\":\"data\",\"value\":43},\"dw\":{\"units\":\"data\",\"value\":23},\"image\":{\"field\":\"image\"},\"x\":{\"value\":0},\"y\":{\"value\":0}},\"id\":\"0d56b981-6979-4d13-972a-1eb33d3c93b2\",\"type\":\"Image\"},{\"attributes\":{\"callback\":null,\"end\":43},\"id\":\"3f036e2d-49db-4b9a-a2ab-b40644f332fd\",\"type\":\"Range1d\"},{\"attributes\":{\"axis_label\":\"translation tokens\",\"formatter\":{\"id\":\"5e085a4f-f203-4db9-b51a-4e87caa8cdce\",\"type\":\"BasicTickFormatter\"},\"major_label_overrides\":{\"0.5\":\"_EOS_\",\"1.5\":\".\",\"10.5\":\"of\",\"11.5\":\"city\",\"12.5\":\"the\",\"13.5\":\"of\",\"14.5\":\"city\",\"15.5\":\"the\",\"16.5\":\"of\",\"17.5\":\"city\",\"18.5\":\"the\",\"19.5\":\"of\",\"2.5\":\"city\",\"20.5\":\"city\",\"21.5\":\"the\",\"22.5\":\"of\",\"23.5\":\"town\",\"24.5\":\"old\",\"25.5\":\"the\",\"26.5\":\"of\",\"27.5\":\"town\",\"28.5\":\"old\",\"29.5\":\"the\",\"3.5\":\"the\",\"30.5\":\"of\",\"31.5\":\"town\",\"32.5\":\"old\",\"33.5\":\"the\",\"34.5\":\"of\",\"35.5\":\"centre\",\"36.5\":\"the\",\"37.5\":\"in\",\"38.5\":\"located\",\"39.5\":\"is\",\"4.5\":\"of\",\"40.5\":\"property\",\"41.5\":\"the\",\"42.5\":\"_BOS_\",\"5.5\":\"city\",\"6.5\":\"the\",\"7.5\":\"of\",\"8.5\":\"city\",\"9.5\":\"the\"},\"plot\":{\"id\":\"84700543-4318-41f4-9c50-7e26d8722049\",\"subtype\":\"Figure\",\"type\":\"Plot\"},\"ticker\":{\"id\":\"edcbe928-dba4-4e1e-8518-3d8a3d75ded3\",\"type\":\"FixedTicker\"}},\"id\":\"30fc75ca-711e-4a2d-9591-c8088f5085bf\",\"type\":\"LinearAxis\"},{\"attributes\":{\"ticks\":[0.5,1.5,2.5,3.5,4.5,5.5,6.5,7.5,8.5,9.5,10.5,11.5,12.5,13.5,14.5,15.5,16.5,17.5,18.5,19.5,20.5,21.5,22.5]},\"id\":\"d826312b-ad35-4fb3-b6af-6fef59b2d4bd\",\"type\":\"FixedTicker\"}],\"root_ids\":[\"84700543-4318-41f4-9c50-7e26d8722049\"]},\"title\":\"Bokeh Application\",\"version\":\"0.13.0\"}};\n",
       "  var render_items = [{\"docid\":\"f74edfe0-f5a8-46df-bc29-4a1aaef21659\",\"roots\":{\"84700543-4318-41f4-9c50-7e26d8722049\":\"7ba187ee-8803-4a60-9da2-ced61c31e267\"}}];\n",
       "  root.Bokeh.embed.embed_items_notebook(docs_json, render_items);\n",
       "\n",
       "  }\n",
       "  if (root.Bokeh !== undefined) {\n",
       "    embed_document(root);\n",
       "  } else {\n",
       "    var attempts = 0;\n",
       "    var timer = setInterval(function(root) {\n",
       "      if (root.Bokeh !== undefined) {\n",
       "        embed_document(root);\n",
       "        clearInterval(timer);\n",
       "      }\n",
       "      attempts++;\n",
       "      if (attempts > 100) {\n",
       "        console.log(\"Bokeh: ERROR: Unable to run BokehJS code because BokehJS library is missing\")\n",
       "        clearInterval(timer);\n",
       "      }\n",
       "    }, 10, root)\n",
       "  }\n",
       "})(window);"
      ],
      "application/vnd.bokehjs_exec.v0+json": ""
     },
     "metadata": {
      "application/vnd.bokehjs_exec.v0+json": {
       "id": "84700543-4318-41f4-9c50-7e26d8722049"
      }
     },
     "output_type": "display_data"
    }
   ],
   "source": [
    "for i in range(5):\n",
    "    draw_attention(inp[i], trans[i], attention_probs[i])"
   ]
  },
  {
   "cell_type": "markdown",
   "metadata": {},
   "source": [
    "## Grand Finale (4+ points)\n",
    "\n",
    "We want you to find the best model for the task. Use everything you know.\n",
    "\n",
    "* different recurrent units: rnn/gru/lstm; deeper architectures\n",
    "* bidirectional encoder, different attention methods for decoder\n",
    "* word dropout, training schedules, anything you can imagine\n",
    "\n",
    "As usual, we want you to describe what you tried and what results you obtained."
   ]
  },
  {
   "cell_type": "markdown",
   "metadata": {
    "collapsed": true
   },
   "source": [
    "`[your report/log here or anywhere you please]`"
   ]
  },
  {
   "cell_type": "code",
   "execution_count": null,
   "metadata": {},
   "outputs": [],
   "source": []
  }
 ],
 "metadata": {
  "kernelspec": {
   "display_name": "Python 3",
   "language": "python",
   "name": "python3"
  },
  "language_info": {
   "codemirror_mode": {
    "name": "ipython",
    "version": 3
   },
   "file_extension": ".py",
   "mimetype": "text/x-python",
   "name": "python",
   "nbconvert_exporter": "python",
   "pygments_lexer": "ipython3",
   "version": "3.6.6"
  },
  "toc": {
   "base_numbering": 1,
   "nav_menu": {},
   "number_sections": true,
   "sideBar": true,
   "skip_h1_title": false,
   "title_cell": "Table of Contents",
   "title_sidebar": "Contents",
   "toc_cell": false,
   "toc_position": {},
   "toc_section_display": true,
   "toc_window_display": false
  }
 },
 "nbformat": 4,
 "nbformat_minor": 1
}
