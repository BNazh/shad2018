{
 "cells": [
  {
   "cell_type": "markdown",
   "metadata": {},
   "source": [
    "## Seminar and homework (10 points total)\n",
    "\n",
    "Today we shall compose encoder-decoder neural networks and apply them to the task of machine translation.\n",
    "\n",
    "![img](https://esciencegroup.files.wordpress.com/2016/03/seq2seq.jpg)\n",
    "_(img: esciencegroup.files.wordpress.com)_\n",
    "\n",
    "\n",
    "Encoder-decoder architectures are about converting anything to anything, including\n",
    " * Machine translation and spoken dialogue systems\n",
    " * [Image captioning](http://mscoco.org/dataset/#captions-challenge2015) and [image2latex](https://openai.com/requests-for-research/#im2latex) (convolutional encoder, recurrent decoder)\n",
    " * Generating [images by captions](https://arxiv.org/abs/1511.02793) (recurrent encoder, convolutional decoder)\n",
    " * Grapheme2phoneme - convert words to transcripts"
   ]
  },
  {
   "cell_type": "markdown",
   "metadata": {},
   "source": [
    "## Our task: machine translation\n",
    "\n",
    "We gonna try our encoder-decoder models on russian to english machine translation problem. More specifically, we'll translate hotel and hostel descriptions. This task shows the scale of machine translation while not requiring you to train your model for weeks if you don't use GPU.\n",
    "\n",
    "Before we get to the architecture, there's some preprocessing to be done. ~~Go tokenize~~ Alright, this time we've done preprocessing for you. As usual, the data will be tokenized with WordPunctTokenizer.\n",
    "\n",
    "However, there's one more thing to do. Our data lines contain unique rare words. If we operate on a word level, we will have to deal with large vocabulary size. If instead we use character-level models, it would take lots of iterations to process a sequence. This time we're gonna pick something inbetween.\n",
    "\n",
    "One popular approach is called [Byte Pair Encoding](https://github.com/rsennrich/subword-nmt) aka __BPE__. The algorithm starts with a character-level tokenization and then iteratively merges most frequent pairs for N iterations. This results in frequent words being merged into a single token and rare words split into syllables or even characters.\n",
    "\n"
   ]
  },
  {
   "cell_type": "code",
   "execution_count": 32,
   "metadata": {
    "ExecuteTime": {
     "end_time": "2018-10-19T20:24:53.627645Z",
     "start_time": "2018-10-19T20:24:53.624741Z"
    }
   },
   "outputs": [],
   "source": [
    "# !pip install subword-nmt &> log\n",
    "# !wget https://github.com/yandexdataschool/nlp_course/raw/62c1410427385336ef2bea74b09cba39c956207d/week4_seq2seq/data.txt -O data.txt 2> log\n",
    "# !wget https://github.com/yandexdataschool/nlp_course/raw/62c1410427385336ef2bea74b09cba39c956207d/week4_seq2seq/utils.py -O utils.py 2> log\n",
    "# !wget https://github.com/yandexdataschool/nlp_course/raw/62c1410427385336ef2bea74b09cba39c956207d/week4_seq2seq/dummy_checkpoint.npz -O dummy_checkpoint.npz 2> log\n",
    "#thanks to tilda and deephack teams for the data"
   ]
  },
  {
   "cell_type": "code",
   "execution_count": 33,
   "metadata": {
    "ExecuteTime": {
     "end_time": "2018-10-19T20:25:23.456269Z",
     "start_time": "2018-10-19T20:24:53.796785Z"
    }
   },
   "outputs": [],
   "source": [
    "from nltk.tokenize import WordPunctTokenizer\n",
    "from subword_nmt.learn_bpe import learn_bpe\n",
    "from subword_nmt.apply_bpe import BPE\n",
    "tokenizer = WordPunctTokenizer()\n",
    "def tokenize(x):\n",
    "    return ' '.join(tokenizer.tokenize(x.lower()))\n",
    "\n",
    "# split and tokenize the data\n",
    "with open('train.en', 'w') as f_src,  open('train.ru', 'w') as f_dst:\n",
    "    for line in open('data.txt'):\n",
    "        src_line, dst_line = line.strip().split('\\t')\n",
    "        f_src.write(tokenize(src_line) + '\\n')\n",
    "        f_dst.write(tokenize(dst_line) + '\\n')\n",
    "\n",
    "# build and apply bpe vocs\n",
    "bpe = {}\n",
    "for lang in ['en', 'ru']:\n",
    "    learn_bpe(open('./train.' + lang), open('bpe_rules.' + lang, 'w'), num_symbols=8000)\n",
    "    bpe[lang] = BPE(open('./bpe_rules.' + lang))\n",
    "    \n",
    "    with open('train.bpe.' + lang, 'w') as f_out:\n",
    "        for line in open('train.' + lang):\n",
    "            f_out.write(bpe[lang].process_line(line.strip()) + '\\n')"
   ]
  },
  {
   "cell_type": "markdown",
   "metadata": {},
   "source": [
    "### Building vocabularies\n",
    "\n",
    "We now need to build vocabularies that map strings to token ids and vice versa. We're gonna need these fellas when we feed training data into model or convert output matrices into words."
   ]
  },
  {
   "cell_type": "code",
   "execution_count": 34,
   "metadata": {
    "ExecuteTime": {
     "end_time": "2018-10-19T20:25:23.470673Z",
     "start_time": "2018-10-19T20:25:23.458955Z"
    }
   },
   "outputs": [],
   "source": [
    "import numpy as np\n",
    "import matplotlib.pyplot as plt\n",
    "%matplotlib inline"
   ]
  },
  {
   "cell_type": "code",
   "execution_count": 35,
   "metadata": {
    "ExecuteTime": {
     "end_time": "2018-10-19T20:25:23.859802Z",
     "start_time": "2018-10-19T20:25:23.474504Z"
    }
   },
   "outputs": [
    {
     "name": "stdout",
     "output_type": "stream",
     "text": [
      "inp: на территории обустроена бесплатная частная парковка .\n",
      "out: free private parking is available on site .\n",
      "\n",
      "inp: кроме того , в 5 минутах ходьбы работают многочисленные бары и рестораны .\n",
      "out: guests can find many bars and restaurants within a 5 - minute walk .\n",
      "\n",
      "inp: отель san mi@@ gu@@ el расположен в центре мор@@ ели@@ и , в 750 метрах от главной площади города и кафедрального собора .\n",
      "out: hotel san miguel is located in central more@@ lia , 750 metres from the city ’ s main square and cathedral .\n",
      "\n"
     ]
    }
   ],
   "source": [
    "data_inp = np.array(open('./train.bpe.ru').read().split('\\n'))\n",
    "data_out = np.array(open('./train.bpe.en').read().split('\\n'))\n",
    "\n",
    "from sklearn.model_selection import train_test_split\n",
    "train_inp, dev_inp, train_out, dev_out = train_test_split(data_inp, data_out, test_size=3000,\n",
    "                                                          random_state=42)\n",
    "for i in range(3):\n",
    "    print('inp:', train_inp[i])\n",
    "    print('out:', train_out[i], end='\\n\\n')"
   ]
  },
  {
   "cell_type": "code",
   "execution_count": 36,
   "metadata": {
    "ExecuteTime": {
     "end_time": "2018-10-19T20:25:24.319519Z",
     "start_time": "2018-10-19T20:25:23.864228Z"
    }
   },
   "outputs": [],
   "source": [
    "from utils import Vocab\n",
    "inp_voc = Vocab.from_lines(train_inp)\n",
    "out_voc = Vocab.from_lines(train_out)"
   ]
  },
  {
   "cell_type": "code",
   "execution_count": 37,
   "metadata": {
    "ExecuteTime": {
     "end_time": "2018-10-19T20:25:24.421384Z",
     "start_time": "2018-10-19T20:25:24.321873Z"
    }
   },
   "outputs": [
    {
     "name": "stdout",
     "output_type": "stream",
     "text": [
      "lines\n",
      "['гостевой дом r .', 'до афин — 20 км .', 'работает боулинг .', 'оборудован балкон .', 'подключен wi - fi .']\n",
      "\n",
      "words to ids (0 = bos, 1 = eos):\n",
      "[[   0 2688 2943 1108   29    1    1    1]\n",
      " [   0 2922 1834 8035   59 3800   29    1]\n",
      " [   0 6030 2083   29    1    1    1    1]\n",
      " [   0 4927 1870   29    1    1    1    1]\n",
      " [   0 5549 1453   27  592   29    1    1]]\n",
      "\n",
      "back to words\n",
      "['гостевой дом r .', 'до афин — 20 км .', 'работает боулинг .', 'оборудован балкон .', 'подключен wi - fi .']\n"
     ]
    }
   ],
   "source": [
    "# Here's how you cast lines into ids and backwards.\n",
    "batch_lines = sorted(train_inp, key=len)[5:10]\n",
    "batch_ids = inp_voc.to_matrix(batch_lines)\n",
    "batch_lines_restored = inp_voc.to_lines(batch_ids)\n",
    "\n",
    "print(\"lines\")\n",
    "print(batch_lines)\n",
    "print(\"\\nwords to ids (0 = bos, 1 = eos):\")\n",
    "print(batch_ids)\n",
    "print(\"\\nback to words\")\n",
    "print(batch_lines_restored)"
   ]
  },
  {
   "cell_type": "markdown",
   "metadata": {},
   "source": [
    "Draw source and translation length distributions to estimate the scope of the task."
   ]
  },
  {
   "cell_type": "code",
   "execution_count": 38,
   "metadata": {
    "ExecuteTime": {
     "end_time": "2018-10-19T20:25:25.115564Z",
     "start_time": "2018-10-19T20:25:24.424195Z"
    }
   },
   "outputs": [
    {
     "data": {
      "image/png": "[encoded data removed]",
      "text/plain": [
       "<Figure size 576x288 with 2 Axes>"
      ]
     },
     "metadata": {
      "needs_background": "light"
     },
     "output_type": "display_data"
    }
   ],
   "source": [
    "plt.figure(figsize=[8, 4])\n",
    "plt.subplot(1, 2, 1)\n",
    "plt.title(\"source length\")\n",
    "plt.hist(list(map(len, map(str.split, train_inp))), bins=20);\n",
    "\n",
    "plt.subplot(1, 2, 2)\n",
    "plt.title(\"translation length\")\n",
    "plt.hist(list(map(len, map(str.split, train_out))), bins=20);"
   ]
  },
  {
   "cell_type": "markdown",
   "metadata": {},
   "source": [
    "### Encoder-decoder model\n",
    "\n",
    "The code below contas a template for a simple encoder-decoder model: single GRU encoder/decoder, no attention or anything. This model is implemented for you as a reference and a baseline for your homework assignment."
   ]
  },
  {
   "cell_type": "code",
   "execution_count": 39,
   "metadata": {
    "ExecuteTime": {
     "end_time": "2018-10-19T20:25:25.121722Z",
     "start_time": "2018-10-19T20:25:25.118029Z"
    }
   },
   "outputs": [],
   "source": [
    "import tensorflow as tf\n",
    "import keras.layers as L\n",
    "from utils import infer_length, infer_mask"
   ]
  },
  {
   "cell_type": "code",
   "execution_count": 40,
   "metadata": {
    "ExecuteTime": {
     "end_time": "2018-10-19T20:25:25.152169Z",
     "start_time": "2018-10-19T20:25:25.124557Z"
    }
   },
   "outputs": [],
   "source": [
    "class BasicModel:\n",
    "    def __init__(self, name, inp_voc, out_voc, emb_size=64, hid_size=128):\n",
    "        \"\"\"\n",
    "        A simple encoder-decoder model\n",
    "        \"\"\"\n",
    "        self.name, self.inp_voc, self.out_voc = name, inp_voc, out_voc\n",
    "\n",
    "        with tf.variable_scope(name):\n",
    "            self.emb_inp = L.Embedding(len(inp_voc), emb_size)\n",
    "            self.emb_out = L.Embedding(len(out_voc), emb_size)\n",
    "            self.enc0 = tf.nn.rnn_cell.GRUCell(hid_size)\n",
    "\n",
    "            self.dec_start = L.Dense(hid_size)\n",
    "            self.dec0 = tf.nn.rnn_cell.GRUCell(hid_size)\n",
    "            self.logits = L.Dense(len(out_voc))\n",
    "\n",
    "            # prepare to translate_lines\n",
    "            self.inp = tf.placeholder('int32', [None, None])\n",
    "            self.initial_state = self.prev_state = self.encode(self.inp)\n",
    "            self.prev_tokens = tf.placeholder('int32', [None])\n",
    "            self.next_state, self.next_logits = self.decode(self.prev_state, self.prev_tokens)\n",
    "        \n",
    "        self.weights = tf.get_collection(tf.GraphKeys.TRAINABLE_VARIABLES, scope=name)\n",
    "\n",
    "    def encode(self, inp, **flags):\n",
    "        \"\"\"\n",
    "        Takes symbolic input sequence, computes initial state\n",
    "        :param inp: matrix of input tokens [batch, time]\n",
    "        :returns: initial decoder state tensors, one or many\n",
    "        \"\"\"\n",
    "        inp_lengths = infer_length(inp, self.inp_voc.eos_ix)\n",
    "        inp_emb = self.emb_inp(inp)\n",
    "        with tf.variable_scope('enc0'):\n",
    "            _, enc_last = tf.nn.dynamic_rnn(\n",
    "                              self.enc0, inp_emb,\n",
    "                              sequence_length=inp_lengths,\n",
    "                              dtype = inp_emb.dtype)\n",
    "        dec_start = self.dec_start(enc_last)\n",
    "        return [dec_start]\n",
    "\n",
    "    def decode(self, prev_state, prev_tokens, **flags):\n",
    "        \"\"\"\n",
    "        Takes previous decoder state and tokens, returns new state and logits for next tokens\n",
    "        :param prev_state: a list of previous decoder state tensors\n",
    "        :param prev_tokens: previous output tokens, an int vector of [batch_size]\n",
    "        :return: a list of next decoder state tensors, a tensor of logits [batch, n_tokens]\n",
    "        \"\"\"\n",
    "        [prev_dec] = prev_state\n",
    "        prev_emb = self.emb_out(prev_tokens[:,None])[:,0]\n",
    "        with tf.variable_scope('dec0'):\n",
    "            new_dec_out, new_dec_state = self.dec0(prev_emb, prev_dec)\n",
    "        output_logits = self.logits(new_dec_out)\n",
    "        return [new_dec_state], output_logits\n",
    "\n",
    "    def translate_lines(self, inp_lines, max_len=100):\n",
    "        \"\"\"\n",
    "        Translates a list of lines by greedily selecting most likely next token at each step\n",
    "        :returns: a list of output lines, a sequence of model states at each step\n",
    "        \"\"\"\n",
    "        state = sess.run(self.initial_state, {self.inp: inp_voc.to_matrix(inp_lines)})\n",
    "        outputs = [[self.out_voc.bos_ix] for _ in range(len(inp_lines))]\n",
    "        all_states = [state]\n",
    "        finished = [False] * len(inp_lines)\n",
    "\n",
    "        for t in range(max_len):\n",
    "            state, logits = sess.run([self.next_state, self.next_logits], {**dict(zip(self.prev_state, state)),\n",
    "                                           self.prev_tokens: [out_i[-1] for out_i in outputs]})\n",
    "            next_tokens = np.argmax(logits, axis=-1)\n",
    "            all_states.append(state)\n",
    "            for i in range(len(next_tokens)):\n",
    "                outputs[i].append(next_tokens[i])\n",
    "                finished[i] |= next_tokens[i] == self.out_voc.eos_ix\n",
    "        return out_voc.to_lines(outputs), all_states"
   ]
  },
  {
   "cell_type": "code",
   "execution_count": 41,
   "metadata": {
    "ExecuteTime": {
     "end_time": "2018-10-19T20:25:25.440621Z",
     "start_time": "2018-10-19T20:25:25.154887Z"
    }
   },
   "outputs": [
    {
     "name": "stderr",
     "output_type": "stream",
     "text": [
      "/home/n/anaconda3/envs/tf/lib/python3.6/site-packages/tensorflow/python/client/session.py:1662: UserWarning: An interactive session is already active. This can cause out-of-memory errors in some cases. You must explicitly call `InteractiveSession.close()` to release resources held by the other session(s).\n",
      "  warnings.warn('An interactive session is already active. This can '\n"
     ]
    }
   ],
   "source": [
    "# with tf.device('/device:GPU:0'):\n",
    "tf.reset_default_graph()\n",
    "sess = tf.InteractiveSession(config=tf.ConfigProto(log_device_placement=True, allow_soft_placement=True))\n",
    "# ^^^ if you get \"variable *** already exists\": re-run this cell again - it will clear all tf operations youve 'built\n",
    "\n",
    "model = BasicModel('model', inp_voc, out_voc)\n",
    "sess.run(tf.global_variables_initializer())"
   ]
  },
  {
   "cell_type": "markdown",
   "metadata": {},
   "source": [
    "### Training loss (2 points)\n",
    "\n",
    "Our training objetive is almost the same as it was for neural language models:\n",
    "$$ L = {\\frac1{|D|}} \\sum_{X, Y \\in D} \\sum_{y_t \\in Y} - \\log p(y_t \\mid y_1, \\dots, y_{t-1}, X, \\theta) $$\n",
    "\n",
    "where $|D|$ is the __total length of all sequences__, including BOS and first EOS, but excluding PAD."
   ]
  },
  {
   "cell_type": "code",
   "execution_count": 42,
   "metadata": {
    "ExecuteTime": {
     "end_time": "2018-10-19T20:25:25.457338Z",
     "start_time": "2018-10-19T20:25:25.443242Z"
    }
   },
   "outputs": [],
   "source": [
    "def compute_logits(model, inp, out, **flags):\n",
    "    \"\"\"\n",
    "    :param inp: input tokens matrix, int32[batch, time]\n",
    "    :param out: reference tokens matrix, int32[batch, time]\n",
    "    :returns: logits of shape [batch, time, voc_size]\n",
    "    \n",
    "    * logits must be a linear output of your neural network.\n",
    "    * logits [:, 0, :] should always predic BOS\n",
    "    * logits [:, -1, :] should be probabilities of last token in out\n",
    "    This function should NOT return logits predicted when taking out[:, -1] as y_prev\n",
    "    \"\"\"\n",
    "    batch_size = tf.shape(inp)[0]\n",
    "    \n",
    "    # Encode inp, get initial state\n",
    "    first_state = model.encode(inp)\n",
    "    \n",
    "    # initial logits: always predict BOS\n",
    "    first_logits = tf.log(tf.one_hot(tf.fill([batch_size], model.out_voc.bos_ix),\n",
    "                                     len(model.out_voc)) + 1e-30)\n",
    "    \n",
    "    # Decode step\n",
    "    def step(blob, y_prev):\n",
    "        # Given previous state, obtain next state and next token logits\n",
    "        prev_state, logits = blob\n",
    "        state, logits = model.decode(prev_state, y_prev)\n",
    "        return [state, logits]\n",
    "\n",
    "    # You can now use tf.scan to run step several times.\n",
    "    # use tf.transpose(out) as elems (to process one time-step at a time)\n",
    "    # docs: https://www.tensorflow.org/api_docs/python/tf/scan\n",
    "    \n",
    "    out = tf.scan(\n",
    "        step,\n",
    "        elems=tf.transpose(out)[:-1],\n",
    "        initializer=[first_state, first_logits],\n",
    "    )\n",
    "    \n",
    "    logits_seq = out[1]\n",
    "    \n",
    "#     # prepend first_logits to logits_seq\n",
    "    logits_seq = tf.concat([tf.reshape(first_logits, (1, batch_size, -1)), \n",
    "                           logits_seq], axis=0)\n",
    "    \n",
    "#     # Make sure you convert logits_seq from [time, batch, voc_size] to [batch, time, voc_size]\n",
    "    logits_seq = tf.transpose(logits_seq, (1, 0, 2))\n",
    "    \n",
    "#     return logits_seq\n",
    "    return logits_seq"
   ]
  },
  {
   "cell_type": "code",
   "execution_count": 43,
   "metadata": {
    "ExecuteTime": {
     "end_time": "2018-10-19T20:25:25.923667Z",
     "start_time": "2018-10-19T20:25:25.463749Z"
    }
   },
   "outputs": [],
   "source": [
    "from utils import load\n",
    "load(tf.trainable_variables(), 'dummy_checkpoint.npz')\n",
    "dummy_inp = tf.constant(inp_voc.to_matrix(train_inp[:3]))\n",
    "dummy_out = tf.constant(out_voc.to_matrix(train_out[:3]))\n",
    "dummy_logits = sess.run(compute_logits(model, dummy_inp, dummy_out))\n",
    "dummy_ref = np.array([-0.13257082, -0.11084784, -0.09024167, -0.14910498], dtype='float32')\n",
    "assert np.allclose(dummy_logits.sum(-1)[0, 1:5], dummy_ref)\n",
    "ref_shape = (dummy_out.shape[0], dummy_out.shape[1], len(out_voc))\n",
    "assert dummy_logits.shape == ref_shape, \"Your logits shape should be {} but got {}\".format(dummy_logits.shape, ref_shape)\n",
    "assert all(dummy_logits[:, 0].argmax(-1) == out_voc.bos_ix), \"first step must always be BOS\""
   ]
  },
  {
   "cell_type": "code",
   "execution_count": 44,
   "metadata": {
    "ExecuteTime": {
     "end_time": "2018-10-19T20:25:25.932376Z",
     "start_time": "2018-10-19T20:25:25.926972Z"
    },
    "scrolled": true
   },
   "outputs": [],
   "source": [
    "from utils import select_values_over_last_axis\n",
    "\n",
    "def compute_loss(model, inp, out, **flags):\n",
    "    \"\"\"\n",
    "    Compute loss (float32 scalar) as in the formula above\n",
    "    :param inp: input tokens matrix, int32[batch, time]\n",
    "    :param out: reference tokens matrix, int32[batch, time]\n",
    "    \n",
    "    In order to pass the tests, your function should\n",
    "    * include loss at first EOS but not the subsequent ones\n",
    "    * divide sum of losses by a sum of input lengths (use infer_length or infer_mask)\n",
    "    \"\"\"\n",
    "    mask = infer_mask(out, out_voc.eos_ix)    \n",
    "    logits_seq = compute_logits(model, inp, out, **flags)\n",
    "    \n",
    "    # Compute loss as per instructions above\n",
    "    logp_out= select_values_over_last_axis(tf.nn.log_softmax(logits_seq, -1), out)\n",
    "    \n",
    "    return - tf.reduce_sum(logp_out * mask) / tf.reduce_sum(mask)"
   ]
  },
  {
   "cell_type": "code",
   "execution_count": 45,
   "metadata": {
    "ExecuteTime": {
     "end_time": "2018-10-19T20:25:26.387880Z",
     "start_time": "2018-10-19T20:25:25.934730Z"
    }
   },
   "outputs": [
    {
     "name": "stdout",
     "output_type": "stream",
     "text": [
      "Loss: 8.424398\n"
     ]
    }
   ],
   "source": [
    "dummy_loss = sess.run(compute_loss(model, dummy_inp, dummy_out))\n",
    "print(\"Loss:\", dummy_loss)\n",
    "assert np.allclose(dummy_loss, 8.425, rtol=0.1, atol=0.1), \"We're sorry for your loss\""
   ]
  },
  {
   "cell_type": "markdown",
   "metadata": {},
   "source": [
    "### Evaluation: BLEU\n",
    "\n",
    "Machine translation is commonly evaluated with [BLEU](https://en.wikipedia.org/wiki/BLEU) score. This metric simply computes which fraction of predicted n-grams is actually present in the reference translation. It does so for n=1,2,3 and 4 and computes the geometric average with penalty if translation is shorter than reference.\n",
    "\n",
    "While BLEU [has many drawbacks](http://www.cs.jhu.edu/~ccb/publications/re-evaluating-the-role-of-bleu-in-mt-research.pdf), it still remains the most commonly used metric and one of the simplest to compute."
   ]
  },
  {
   "cell_type": "code",
   "execution_count": 46,
   "metadata": {
    "ExecuteTime": {
     "end_time": "2018-10-19T20:25:26.395456Z",
     "start_time": "2018-10-19T20:25:26.390845Z"
    }
   },
   "outputs": [],
   "source": [
    "from nltk.translate.bleu_score import corpus_bleu\n",
    "def compute_bleu(model, inp_lines, out_lines, bpe_sep='@@ ', **flags):\n",
    "    \"\"\" Estimates corpora-level BLEU score of model's translations given inp and reference out \"\"\"\n",
    "    translations, _ = model.translate_lines(inp_lines, **flags)\n",
    "    # Note: if you experience out-of-memory error, split input lines into batches and translate separately\n",
    "    return corpus_bleu([[ref] for ref in out_lines], translations) * 100"
   ]
  },
  {
   "cell_type": "code",
   "execution_count": 47,
   "metadata": {
    "ExecuteTime": {
     "end_time": "2018-10-19T20:25:52.242412Z",
     "start_time": "2018-10-19T20:25:26.398035Z"
    }
   },
   "outputs": [
    {
     "data": {
      "text/plain": [
       "4.764888431368293"
      ]
     },
     "execution_count": 47,
     "metadata": {},
     "output_type": "execute_result"
    }
   ],
   "source": [
    "compute_bleu(model, dev_inp, dev_out)"
   ]
  },
  {
   "cell_type": "markdown",
   "metadata": {},
   "source": [
    "### Training loop\n",
    "\n",
    "Training encoder-decoder models isn't that different from any other models: sample batches, compute loss, backprop and update"
   ]
  },
  {
   "cell_type": "code",
   "execution_count": 48,
   "metadata": {
    "ExecuteTime": {
     "end_time": "2018-10-19T20:25:53.580881Z",
     "start_time": "2018-10-19T20:25:52.245238Z"
    }
   },
   "outputs": [],
   "source": [
    "inp = tf.placeholder('int32', [None, None])\n",
    "out = tf.placeholder('int32', [None, None])\n",
    "\n",
    "loss = compute_loss(model, inp, out)\n",
    "\n",
    "train_step = tf.train.AdamOptimizer().minimize(loss)"
   ]
  },
  {
   "cell_type": "code",
   "execution_count": 49,
   "metadata": {
    "ExecuteTime": {
     "end_time": "2018-10-19T20:25:53.824717Z",
     "start_time": "2018-10-19T20:25:53.582983Z"
    },
    "scrolled": false
   },
   "outputs": [],
   "source": [
    "from IPython.display import clear_output\n",
    "from tqdm import tqdm, trange\n",
    "metrics = {'train_loss': [], 'dev_bleu': [] }\n",
    "\n",
    "sess.run(tf.global_variables_initializer())\n",
    "batch_size = 32"
   ]
  },
  {
   "cell_type": "code",
   "execution_count": 27,
   "metadata": {
    "ExecuteTime": {
     "end_time": "2018-10-18T18:34:33.707769Z",
     "start_time": "2018-10-18T17:54:35.349527Z"
    },
    "scrolled": true
   },
   "outputs": [
    {
     "data": {
      "image/png": "[encoded data removed]",
      "text/plain": [
       "<Figure size 864x288 with 2 Axes>"
      ]
     },
     "metadata": {
      "needs_background": "light"
     },
     "output_type": "display_data"
    },
    {
     "name": "stdout",
     "output_type": "stream",
     "text": [
      "Mean loss=1.361\n"
     ]
    },
    {
     "name": "stderr",
     "output_type": "stream",
     "text": [
      "100%|██████████| 25000/25000 [39:58<00:00,  2.13it/s]\n"
     ]
    }
   ],
   "source": [
    "for _ in trange(25000):\n",
    "    step = len(metrics['train_loss']) + 1\n",
    "    batch_ix = np.random.randint(len(train_inp), size=batch_size)\n",
    "    feed_dict = {\n",
    "        inp: inp_voc.to_matrix(train_inp[batch_ix]),\n",
    "        out: out_voc.to_matrix(train_out[batch_ix]),\n",
    "    }\n",
    "    \n",
    "    loss_t, _ = sess.run([loss, train_step], feed_dict)\n",
    "    metrics['train_loss'].append((step, loss_t))\n",
    "    \n",
    "    if step % 100 == 0:\n",
    "        metrics['dev_bleu'].append((step, compute_bleu(model, dev_inp, dev_out)))\n",
    "        \n",
    "        clear_output(True)\n",
    "        plt.figure(figsize=(12,4))\n",
    "        for i, (name, history) in enumerate(sorted(metrics.items())):\n",
    "            plt.subplot(1, len(metrics), i + 1)\n",
    "            plt.title(name)\n",
    "            plt.plot(*zip(*history))\n",
    "            plt.grid()\n",
    "        plt.show()\n",
    "        print(\"Mean loss=%.3f\" % np.mean(metrics['train_loss'][-10:], axis=0)[1], flush=True)\n",
    "        \n",
    "# Note: it's okay if bleu oscillates up and down as long as it gets better on average over long term (e.g. 5k batches)"
   ]
  },
  {
   "cell_type": "code",
   "execution_count": 28,
   "metadata": {
    "ExecuteTime": {
     "end_time": "2018-10-18T18:34:48.293140Z",
     "start_time": "2018-10-18T18:34:48.280664Z"
    }
   },
   "outputs": [
    {
     "data": {
      "text/plain": [
       "47.7145378336999"
      ]
     },
     "execution_count": 28,
     "metadata": {},
     "output_type": "execute_result"
    }
   ],
   "source": [
    "np.mean(metrics['dev_bleu'][-10:], axis=0)[1]"
   ]
  },
  {
   "cell_type": "code",
   "execution_count": 29,
   "metadata": {
    "ExecuteTime": {
     "end_time": "2018-10-18T18:34:53.728163Z",
     "start_time": "2018-10-18T18:34:53.725841Z"
    }
   },
   "outputs": [],
   "source": [
    "assert np.mean(metrics['dev_bleu'][-10:], axis=0)[1] > 35, \"We kind of need a higher bleu BLEU from you. Kind of right now.\""
   ]
  },
  {
   "cell_type": "code",
   "execution_count": 30,
   "metadata": {
    "ExecuteTime": {
     "end_time": "2018-10-18T18:34:54.771320Z",
     "start_time": "2018-10-18T18:34:54.688706Z"
    }
   },
   "outputs": [
    {
     "name": "stdout",
     "output_type": "stream",
     "text": [
      "в распоряжении гостей общая кухня и общая гостиная .\n",
      "at the hostel you will find a shared kitchen and shared kitchen .\n",
      "\n",
      "кроме того , предоставляется прокат велосипедов , услуги трансфера и бесплатная парковка .\n",
      "bicycle rental service and car rental are available at this hotel .\n",
      "\n",
      "расстояние до города ки@@ сси@@ м@@ ми составляет 26 км .\n",
      "latina is 26 km from the property .\n",
      "\n",
      "апартаменты в пент@@ хаусе с общим открытым бассейном , садом , кондиционером и террасой для загара расположены в 5 минутах ходьбы от пляжа на курорте ка@@ бо - рой .\n",
      "featuring a private beach area , and 5 sun loungers , a children ’ s playground and a children ' s playground , and the centre of sunny beach is a 5 - minute walk from the centre .\n",
      "\n",
      "апартаменты mo@@ s@@ co@@ w point - loft red square находятся в москве , в 200 метрах от большого театра .\n",
      "apartment backpackers hostel is located in moscow , a 4 - minute walk from the museum of arts .\n",
      "\n",
      "в вашем распоряжении собственная ванная комната с душем и полотенцами .\n",
      "featuring a shower , private bathrooms also come with towels .\n",
      "\n"
     ]
    }
   ],
   "source": [
    "for inp_line, trans_line in zip(dev_inp[::500], model.translate_lines(dev_inp[::500])[0]):\n",
    "    print(inp_line)\n",
    "    print(trans_line)\n",
    "    print()"
   ]
  },
  {
   "cell_type": "markdown",
   "metadata": {},
   "source": [
    "### Your Attention Required (4 points)\n",
    "\n",
    "In this section we want you to improve over the basic model by implementing a simple attention mechanism.\n",
    "\n",
    "This is gonna be a two-parter: building the __attention layer__ and using it for an __attentive seq2seq model__."
   ]
  },
  {
   "cell_type": "markdown",
   "metadata": {},
   "source": [
    "### Attention layer\n",
    "\n",
    "Here you will have to implement a layer that computes a simple additive attention:\n",
    "\n",
    "Given encoder sequence $ h^e_0, h^e_1, h^e_2, ..., h^e_T$ and a single decoder state $h^d$,\n",
    "\n",
    "* Compute logits with a 2-layer neural network\n",
    "$$a_t = linear_{out}(tanh(linear_{e}(h^e_t) + linear_{d}(h_d)))$$\n",
    "* Get probabilities from logits, \n",
    "$$ p_t = {{e ^ {a_t}} \\over { \\sum_\\tau e^{a_\\tau} }} $$\n",
    "\n",
    "* Add up encoder states with probabilities to get __attention response__\n",
    "$$ attn = \\sum_t p_t \\cdot h^e_t $$\n",
    "\n",
    "You can learn more about attention layers in the leture slides or [from this post](https://distill.pub/2016/augmented-rnns/)."
   ]
  },
  {
   "cell_type": "code",
   "execution_count": 50,
   "metadata": {
    "ExecuteTime": {
     "end_time": "2018-10-19T20:25:53.837387Z",
     "start_time": "2018-10-19T20:25:53.827023Z"
    }
   },
   "outputs": [],
   "source": [
    "class AttentionLayer:\n",
    "    def __init__(self, name, enc_size, dec_size, hid_size, activ=tf.tanh,):\n",
    "        \"\"\" A layer that computes additive attention response and weights \"\"\"\n",
    "        self.name = name\n",
    "        self.enc_size = enc_size # num units in encoder state\n",
    "        self.dec_size = dec_size # num units in decoder state\n",
    "        self.hid_size = hid_size # attention layer hidden units\n",
    "        self.activ = activ       # attention layer hidden nonlinearity\n",
    "        with tf.variable_scope(self.name):\n",
    "            self.lin = L.Dense(self.hid_size)\n",
    "            self.lin_1 = L.Dense(1) \n",
    "            self.act = L.Activation('tanh')\n",
    "\n",
    "    def __call__(self, enc, dec, inp_mask):\n",
    "        \"\"\"\n",
    "        Computes attention response and weights\n",
    "        :param enc: encoder activation sequence, float32[batch_size, ninp, enc_size]\n",
    "        :param dec: single decoder state used as \"query\", float32[batch_size, dec_size]\n",
    "        :param inp_mask: mask on enc activatons (0 after first eos), float32 [batch_size, ninp]\n",
    "        :returns: attn[batch_size, enc_size], probs[batch_size, ninp]\n",
    "            - attn - attention response vector (weighted sum of enc)\n",
    "            - probs - attention weights after softmax\n",
    "        \"\"\"\n",
    "        with tf.variable_scope(self.name):\n",
    "            \n",
    "            # Compute logits\n",
    "            logits_seq = self.lin_1(self.act(self.lin(enc) + self.lin(dec[:, None, :])))\n",
    "            logits_seq = tf.keras.backend.squeeze(logits_seq, 2)\n",
    "            \n",
    "            # Apply mask - if mask is 0, logits should be -inf or -1e9\n",
    "            # You may need tf.where\n",
    "            logits_seq = L.multiply([logits_seq, inp_mask]) \n",
    "#             + tf.subtract(inp_mask, 1) * 1e9\n",
    "            \n",
    "            # Compute attention probabilities (softmax)\n",
    "            probs = L.Softmax()(logits_seq)\n",
    "            \n",
    "            # Compute attention response using enc and probs\n",
    "            attn = L.dot([enc, probs], [1, 1])\n",
    "                        \n",
    "            return attn, probs"
   ]
  },
  {
   "cell_type": "markdown",
   "metadata": {},
   "source": [
    "### Seq2seq model with attention\n",
    "\n",
    "You can now use the attention layer to build a network. The simplest way to implement attention is to use it in decoder phase:\n",
    "![img](https://i.imgur.com/6fKHlHb.png)\n",
    "_image from distill.pub [article](https://distill.pub/2016/augmented-rnns/)_\n",
    "\n",
    "On every step, use __previous__ decoder state to obtain attention response. Then feed concat this response to the inputs of next attetion layer.\n",
    "\n",
    "The key implementation detail here is __model state__. Put simply, you can add any tensor into the list of `encode` outputs. You will then have access to them at each `decode` step. This may include:\n",
    "* Last RNN hidden states (as in basic model)\n",
    "* The whole sequence of encoder outputs (to attend to) and mask\n",
    "* Attention probabilities (to visualize)\n",
    "\n",
    "_There are, of course, alternative ways to wire attention into your network and different kinds of attention. Take a look at [this](https://arxiv.org/abs/1609.08144), [this](https://arxiv.org/abs/1706.03762) and [this](https://arxiv.org/abs/1808.03867) for ideas. And for image captioning/im2latex there's [visual attention](https://arxiv.org/abs/1502.03044)_"
   ]
  },
  {
   "cell_type": "code",
   "execution_count": 51,
   "metadata": {
    "ExecuteTime": {
     "end_time": "2018-10-19T20:25:53.861207Z",
     "start_time": "2018-10-19T20:25:53.839576Z"
    }
   },
   "outputs": [],
   "source": [
    "class AttentiveModel(BasicModel):\n",
    "    def __init__(self, name, inp_voc, out_voc,\n",
    "                 emb_size=64, hid_size=128, attn_size=128):\n",
    "        \"\"\" Translation model that uses attention. See instructions above. \"\"\"\n",
    "        self.name = name\n",
    "        self.inp_voc = inp_voc\n",
    "        self.out_voc = out_voc\n",
    "\n",
    "        with tf.variable_scope(name):\n",
    "            \n",
    "            # YOUR CODE - define model layers\n",
    "            self.emb_inp = L.Embedding(len(inp_voc), emb_size)\n",
    "            self.emb_out = L.Embedding(len(out_voc), emb_size)\n",
    "            self.enc0 = tf.nn.rnn_cell.GRUCell(hid_size)\n",
    "\n",
    "            self.dec_start = L.Dense(hid_size)\n",
    "            self.dec0 = tf.nn.rnn_cell.GRUCell(hid_size)\n",
    "            self.logits = L.Dense(len(out_voc))\n",
    "            \n",
    "            self.attn = AttentionLayer('attention', hid_size, hid_size, attn_size)\n",
    "            \n",
    "            # END OF YOUR CODE\n",
    "            \n",
    "            # prepare to translate_lines\n",
    "            self.inp = tf.placeholder('int32', [None, None])\n",
    "            self.initial_state = self.prev_state = self.encode(self.inp)\n",
    "            self.prev_tokens = tf.placeholder('int32', [None])\n",
    "            self.next_state, self.next_logits = self.decode(self.prev_state, self.prev_tokens)\n",
    "\n",
    "        self.weights = tf.get_collection(tf.GraphKeys.TRAINABLE_VARIABLES, scope=name)\n",
    "\n",
    "    def encode(self, inp, **flags):\n",
    "        \"\"\"\n",
    "        Takes symbolic input sequence, computes initial state\n",
    "        :param inp: matrix of input tokens [batch, time]\n",
    "        :return: a list of initial decoder state tensors\n",
    "        \"\"\"\n",
    "        \n",
    "        # encode input sequence, create initial decoder states\n",
    "        inp_lengths = infer_length(inp, self.inp_voc.eos_ix)\n",
    "        inp_mask = infer_mask(inp, self.inp_voc.eos_ix)\n",
    "        inp_emb = self.emb_inp(inp)\n",
    "        with tf.variable_scope('enc0'):\n",
    "            enc_output, enc_last = tf.nn.dynamic_rnn(\n",
    "                              self.enc0, inp_emb,\n",
    "                              sequence_length=inp_lengths,\n",
    "                              dtype = inp_emb.dtype)\n",
    "        dec_start = self.dec_start(enc_last)\n",
    "        \n",
    "        # apply attention layer from initial decoder hidden state\n",
    "        _, first_attn_probas = self.attn(enc_output, dec_start, inp_mask)\n",
    "        \n",
    "        # Build first state: include\n",
    "        # * initial states for decoder recurrent layers\n",
    "        # * encoder sequence and encoder attn mask (for attention)\n",
    "        # * make sure that last state item is attention probabilities tensor\n",
    "        \n",
    "        first_state = [dec_start, enc_output, inp_mask, first_attn_probas]\n",
    "        return first_state\n",
    "\n",
    "    def decode(self, prev_state, prev_tokens, **flags):\n",
    "        \"\"\"\n",
    "        Takes previous decoder state and tokens, returns new state and logits\n",
    "        :param prev_state: a list of previous decoder state tensors\n",
    "        :param prev_tokens: previous output tokens, an int vector of [batch_size]\n",
    "        :return: a list of next decoder state tensors, a tensor of logits [batch,n_tokens]\n",
    "        \"\"\"\n",
    "        # Unpack your state: you will get tensors in the same order that you've packed in encode\n",
    "        [prev_state, prev_enc_output, attn_mask, prev_attn_probas] = prev_state\n",
    "        \n",
    "        \n",
    "        # Perform decoder step\n",
    "        # * predict next attn response and attn probas given previous decoder state\n",
    "        # * use prev token embedding and attn response to update decoder states \n",
    "        #               (concatenate and feed into decoder cell)\n",
    "        # * predict logits\n",
    "        \n",
    "        next_attn_response, next_attn_probas = self.attn(prev_enc_output, prev_state, attn_mask)\n",
    "        \n",
    "        prev_emb = self.emb_out(prev_tokens[:,None])[:,0]\n",
    "        with tf.variable_scope('dec0'):\n",
    "            new_dec_out, new_dec_state = self.dec0(tf.concat((prev_emb, next_attn_response), 1), prev_state)\n",
    "        output_logits = self.logits(new_dec_out)\n",
    "        \n",
    "        # Pack new state:\n",
    "        # * replace previous decoder state with next one\n",
    "        # * copy encoder sequence and mask from prev_state\n",
    "        # * append new attention probas\n",
    "        next_state = [new_dec_state, prev_enc_output, attn_mask, next_attn_probas]\n",
    "        return next_state, output_logits\n"
   ]
  },
  {
   "cell_type": "code",
   "execution_count": 52,
   "metadata": {
    "ExecuteTime": {
     "end_time": "2018-10-19T20:25:54.251167Z",
     "start_time": "2018-10-19T20:25:53.863498Z"
    }
   },
   "outputs": [],
   "source": [
    "# WARNING! this cell will clear your TF graph from the regular model. All trained variables will be gone!\n",
    "tf.reset_default_graph()\n",
    "sess = tf.InteractiveSession()\n",
    "model = AttentiveModel('model_attn', inp_voc, out_voc)"
   ]
  },
  {
   "cell_type": "markdown",
   "metadata": {},
   "source": [
    "### Training attentive model\n",
    "\n",
    "We'll reuse the infrastructure you've built for the regular model. I hope you didn't hard-code anything :)"
   ]
  },
  {
   "cell_type": "code",
   "execution_count": 53,
   "metadata": {
    "ExecuteTime": {
     "end_time": "2018-10-19T20:25:56.265770Z",
     "start_time": "2018-10-19T20:25:54.254528Z"
    }
   },
   "outputs": [],
   "source": [
    "inp = tf.placeholder('int32', [None, None])\n",
    "out = tf.placeholder('int32', [None, None])\n",
    "\n",
    "loss = compute_loss(model, inp, out)\n",
    "train_step = tf.train.AdamOptimizer().minimize(loss)"
   ]
  },
  {
   "cell_type": "code",
   "execution_count": 54,
   "metadata": {
    "ExecuteTime": {
     "end_time": "2018-10-19T20:25:56.407663Z",
     "start_time": "2018-10-19T20:25:56.267915Z"
    }
   },
   "outputs": [],
   "source": [
    "metrics = {'train_loss': [], 'dev_bleu': []}\n",
    "sess.run(tf.global_variables_initializer())\n",
    "batch_size = 32"
   ]
  },
  {
   "cell_type": "code",
   "execution_count": 55,
   "metadata": {
    "ExecuteTime": {
     "end_time": "2018-10-19T20:25:56.413045Z",
     "start_time": "2018-10-19T20:25:56.409889Z"
    }
   },
   "outputs": [],
   "source": [
    "from tqdm import trange"
   ]
  },
  {
   "cell_type": "code",
   "execution_count": 56,
   "metadata": {
    "ExecuteTime": {
     "end_time": "2018-10-20T11:08:46.372158Z",
     "start_time": "2018-10-19T20:25:56.416057Z"
    }
   },
   "outputs": [
    {
     "data": {
      "image/png": "[encoded data removed]",
      "text/plain": [
       "<Figure size 864x288 with 2 Axes>"
      ]
     },
     "metadata": {
      "needs_background": "light"
     },
     "output_type": "display_data"
    },
    {
     "name": "stdout",
     "output_type": "stream",
     "text": [
      "Mean loss=1.502\n"
     ]
    },
    {
     "name": "stderr",
     "output_type": "stream",
     "text": [
      "100%|██████████| 25000/25000 [14:42:49<00:00,  7.35s/it]\n"
     ]
    }
   ],
   "source": [
    "for _ in trange(25000):\n",
    "    step = len(metrics['train_loss']) + 1\n",
    "    batch_ix = np.random.randint(len(train_inp), size=batch_size)\n",
    "    feed_dict = {\n",
    "        inp: inp_voc.to_matrix(train_inp[batch_ix]),\n",
    "        out: out_voc.to_matrix(train_out[batch_ix]),\n",
    "    }\n",
    "    \n",
    "    loss_t, _ = sess.run([loss, train_step], feed_dict)\n",
    "    metrics['train_loss'].append((step, loss_t))\n",
    "    \n",
    "    if step % 100 == 0:\n",
    "        metrics['dev_bleu'].append((step, compute_bleu(model, dev_inp, dev_out)))\n",
    "        \n",
    "        clear_output(True)\n",
    "        plt.figure(figsize=(12,4))\n",
    "        for i, (name, history) in enumerate(sorted(metrics.items())):\n",
    "            plt.subplot(1, len(metrics), i + 1)\n",
    "            plt.title(name)\n",
    "            plt.plot(*zip(*history))\n",
    "            plt.grid()\n",
    "        plt.show()\n",
    "        print(\"Mean loss=%.3f\" % np.mean(metrics['train_loss'][-10:], axis=0)[1], flush=True)\n",
    "\n",
    "# Your model may train slower than the basic one. check that it's at least >30 bleu by 5k steps\n",
    "# Also: you don't have to train for 25k steps. It was chosen by a squirrel."
   ]
  },
  {
   "cell_type": "code",
   "execution_count": 57,
   "metadata": {
    "ExecuteTime": {
     "end_time": "2018-10-20T11:08:46.376185Z",
     "start_time": "2018-10-20T11:08:46.373410Z"
    }
   },
   "outputs": [
    {
     "data": {
      "text/plain": [
       "50.56797407450112"
      ]
     },
     "execution_count": 57,
     "metadata": {},
     "output_type": "execute_result"
    }
   ],
   "source": [
    "np.mean(metrics['dev_bleu'][-10:], axis=0)[1]"
   ]
  },
  {
   "cell_type": "code",
   "execution_count": 58,
   "metadata": {
    "ExecuteTime": {
     "end_time": "2018-10-20T11:08:46.384694Z",
     "start_time": "2018-10-20T11:08:46.377352Z"
    }
   },
   "outputs": [],
   "source": [
    "assert np.mean(metrics['dev_bleu'][-10:], axis=0)[1] > 45, \"Something might be wrong with the model...\""
   ]
  },
  {
   "cell_type": "code",
   "execution_count": 59,
   "metadata": {
    "ExecuteTime": {
     "end_time": "2018-10-20T11:08:46.403881Z",
     "start_time": "2018-10-20T11:08:46.385949Z"
    }
   },
   "outputs": [
    {
     "data": {
      "text/html": [
       "\n",
       "    <div class=\"bk-root\">\n",
       "        <a href=\"https://bokeh.pydata.org\" target=\"_blank\" class=\"bk-logo bk-logo-small bk-logo-notebook\"></a>\n",
       "        <span id=\"ac0f8239-59fa-49ba-8a4e-c4782410c064\">Loading BokehJS ...</span>\n",
       "    </div>"
      ]
     },
     "metadata": {},
     "output_type": "display_data"
    },
    {
     "data": {
      "application/javascript": [
       "\n",
       "(function(root) {\n",
       "  function now() {\n",
       "    return new Date();\n",
       "  }\n",
       "\n",
       "  var force = true;\n",
       "\n",
       "  if (typeof (root._bokeh_onload_callbacks) === \"undefined\" || force === true) {\n",
       "    root._bokeh_onload_callbacks = [];\n",
       "    root._bokeh_is_loading = undefined;\n",
       "  }\n",
       "\n",
       "  var JS_MIME_TYPE = 'application/javascript';\n",
       "  var HTML_MIME_TYPE = 'text/html';\n",
       "  var EXEC_MIME_TYPE = 'application/vnd.bokehjs_exec.v0+json';\n",
       "  var CLASS_NAME = 'output_bokeh rendered_html';\n",
       "\n",
       "  /**\n",
       "   * Render data to the DOM node\n",
       "   */\n",
       "  function render(props, node) {\n",
       "    var script = document.createElement(\"script\");\n",
       "    node.appendChild(script);\n",
       "  }\n",
       "\n",
       "  /**\n",
       "   * Handle when an output is cleared or removed\n",
       "   */\n",
       "  function handleClearOutput(event, handle) {\n",
       "    var cell = handle.cell;\n",
       "\n",
       "    var id = cell.output_area._bokeh_element_id;\n",
       "    var server_id = cell.output_area._bokeh_server_id;\n",
       "    // Clean up Bokeh references\n",
       "    if (id != null && id in Bokeh.index) {\n",
       "      Bokeh.index[id].model.document.clear();\n",
       "      delete Bokeh.index[id];\n",
       "    }\n",
       "\n",
       "    if (server_id !== undefined) {\n",
       "      // Clean up Bokeh references\n",
       "      var cmd = \"from bokeh.io.state import curstate; print(curstate().uuid_to_server['\" + server_id + \"'].get_sessions()[0].document.roots[0]._id)\";\n",
       "      cell.notebook.kernel.execute(cmd, {\n",
       "        iopub: {\n",
       "          output: function(msg) {\n",
       "            var id = msg.content.text.trim();\n",
       "            if (id in Bokeh.index) {\n",
       "              Bokeh.index[id].model.document.clear();\n",
       "              delete Bokeh.index[id];\n",
       "            }\n",
       "          }\n",
       "        }\n",
       "      });\n",
       "      // Destroy server and session\n",
       "      var cmd = \"import bokeh.io.notebook as ion; ion.destroy_server('\" + server_id + \"')\";\n",
       "      cell.notebook.kernel.execute(cmd);\n",
       "    }\n",
       "  }\n",
       "\n",
       "  /**\n",
       "   * Handle when a new output is added\n",
       "   */\n",
       "  function handleAddOutput(event, handle) {\n",
       "    var output_area = handle.output_area;\n",
       "    var output = handle.output;\n",
       "\n",
       "    // limit handleAddOutput to display_data with EXEC_MIME_TYPE content only\n",
       "    if ((output.output_type != \"display_data\") || (!output.data.hasOwnProperty(EXEC_MIME_TYPE))) {\n",
       "      return\n",
       "    }\n",
       "\n",
       "    var toinsert = output_area.element.find(\".\" + CLASS_NAME.split(' ')[0]);\n",
       "\n",
       "    if (output.metadata[EXEC_MIME_TYPE][\"id\"] !== undefined) {\n",
       "      toinsert[toinsert.length - 1].firstChild.textContent = output.data[JS_MIME_TYPE];\n",
       "      // store reference to embed id on output_area\n",
       "      output_area._bokeh_element_id = output.metadata[EXEC_MIME_TYPE][\"id\"];\n",
       "    }\n",
       "    if (output.metadata[EXEC_MIME_TYPE][\"server_id\"] !== undefined) {\n",
       "      var bk_div = document.createElement(\"div\");\n",
       "      bk_div.innerHTML = output.data[HTML_MIME_TYPE];\n",
       "      var script_attrs = bk_div.children[0].attributes;\n",
       "      for (var i = 0; i < script_attrs.length; i++) {\n",
       "        toinsert[toinsert.length - 1].firstChild.setAttribute(script_attrs[i].name, script_attrs[i].value);\n",
       "      }\n",
       "      // store reference to server id on output_area\n",
       "      output_area._bokeh_server_id = output.metadata[EXEC_MIME_TYPE][\"server_id\"];\n",
       "    }\n",
       "  }\n",
       "\n",
       "  function register_renderer(events, OutputArea) {\n",
       "\n",
       "    function append_mime(data, metadata, element) {\n",
       "      // create a DOM node to render to\n",
       "      var toinsert = this.create_output_subarea(\n",
       "        metadata,\n",
       "        CLASS_NAME,\n",
       "        EXEC_MIME_TYPE\n",
       "      );\n",
       "      this.keyboard_manager.register_events(toinsert);\n",
       "      // Render to node\n",
       "      var props = {data: data, metadata: metadata[EXEC_MIME_TYPE]};\n",
       "      render(props, toinsert[toinsert.length - 1]);\n",
       "      element.append(toinsert);\n",
       "      return toinsert\n",
       "    }\n",
       "\n",
       "    /* Handle when an output is cleared or removed */\n",
       "    events.on('clear_output.CodeCell', handleClearOutput);\n",
       "    events.on('delete.Cell', handleClearOutput);\n",
       "\n",
       "    /* Handle when a new output is added */\n",
       "    events.on('output_added.OutputArea', handleAddOutput);\n",
       "\n",
       "    /**\n",
       "     * Register the mime type and append_mime function with output_area\n",
       "     */\n",
       "    OutputArea.prototype.register_mime_type(EXEC_MIME_TYPE, append_mime, {\n",
       "      /* Is output safe? */\n",
       "      safe: true,\n",
       "      /* Index of renderer in `output_area.display_order` */\n",
       "      index: 0\n",
       "    });\n",
       "  }\n",
       "\n",
       "  // register the mime type if in Jupyter Notebook environment and previously unregistered\n",
       "  if (root.Jupyter !== undefined) {\n",
       "    var events = require('base/js/events');\n",
       "    var OutputArea = require('notebook/js/outputarea').OutputArea;\n",
       "\n",
       "    if (OutputArea.prototype.mime_types().indexOf(EXEC_MIME_TYPE) == -1) {\n",
       "      register_renderer(events, OutputArea);\n",
       "    }\n",
       "  }\n",
       "\n",
       "  \n",
       "  if (typeof (root._bokeh_timeout) === \"undefined\" || force === true) {\n",
       "    root._bokeh_timeout = Date.now() + 5000;\n",
       "    root._bokeh_failed_load = false;\n",
       "  }\n",
       "\n",
       "  var NB_LOAD_WARNING = {'data': {'text/html':\n",
       "     \"<div style='background-color: #fdd'>\\n\"+\n",
       "     \"<p>\\n\"+\n",
       "     \"BokehJS does not appear to have successfully loaded. If loading BokehJS from CDN, this \\n\"+\n",
       "     \"may be due to a slow or bad network connection. Possible fixes:\\n\"+\n",
       "     \"</p>\\n\"+\n",
       "     \"<ul>\\n\"+\n",
       "     \"<li>re-rerun `output_notebook()` to attempt to load from CDN again, or</li>\\n\"+\n",
       "     \"<li>use INLINE resources instead, as so:</li>\\n\"+\n",
       "     \"</ul>\\n\"+\n",
       "     \"<code>\\n\"+\n",
       "     \"from bokeh.resources import INLINE\\n\"+\n",
       "     \"output_notebook(resources=INLINE)\\n\"+\n",
       "     \"</code>\\n\"+\n",
       "     \"</div>\"}};\n",
       "\n",
       "  function display_loaded() {\n",
       "    var el = document.getElementById(\"ac0f8239-59fa-49ba-8a4e-c4782410c064\");\n",
       "    if (el != null) {\n",
       "      el.textContent = \"BokehJS is loading...\";\n",
       "    }\n",
       "    if (root.Bokeh !== undefined) {\n",
       "      if (el != null) {\n",
       "        el.textContent = \"BokehJS \" + root.Bokeh.version + \" successfully loaded.\";\n",
       "      }\n",
       "    } else if (Date.now() < root._bokeh_timeout) {\n",
       "      setTimeout(display_loaded, 100)\n",
       "    }\n",
       "  }\n",
       "\n",
       "\n",
       "  function run_callbacks() {\n",
       "    try {\n",
       "      root._bokeh_onload_callbacks.forEach(function(callback) { callback() });\n",
       "    }\n",
       "    finally {\n",
       "      delete root._bokeh_onload_callbacks\n",
       "    }\n",
       "    console.info(\"Bokeh: all callbacks have finished\");\n",
       "  }\n",
       "\n",
       "  function load_libs(js_urls, callback) {\n",
       "    root._bokeh_onload_callbacks.push(callback);\n",
       "    if (root._bokeh_is_loading > 0) {\n",
       "      console.log(\"Bokeh: BokehJS is being loaded, scheduling callback at\", now());\n",
       "      return null;\n",
       "    }\n",
       "    if (js_urls == null || js_urls.length === 0) {\n",
       "      run_callbacks();\n",
       "      return null;\n",
       "    }\n",
       "    console.log(\"Bokeh: BokehJS not loaded, scheduling load and callback at\", now());\n",
       "    root._bokeh_is_loading = js_urls.length;\n",
       "    for (var i = 0; i < js_urls.length; i++) {\n",
       "      var url = js_urls[i];\n",
       "      var s = document.createElement('script');\n",
       "      s.src = url;\n",
       "      s.async = false;\n",
       "      s.onreadystatechange = s.onload = function() {\n",
       "        root._bokeh_is_loading--;\n",
       "        if (root._bokeh_is_loading === 0) {\n",
       "          console.log(\"Bokeh: all BokehJS libraries loaded\");\n",
       "          run_callbacks()\n",
       "        }\n",
       "      };\n",
       "      s.onerror = function() {\n",
       "        console.warn(\"failed to load library \" + url);\n",
       "      };\n",
       "      console.log(\"Bokeh: injecting script tag for BokehJS library: \", url);\n",
       "      document.getElementsByTagName(\"head\")[0].appendChild(s);\n",
       "    }\n",
       "  };var element = document.getElementById(\"ac0f8239-59fa-49ba-8a4e-c4782410c064\");\n",
       "  if (element == null) {\n",
       "    console.log(\"Bokeh: ERROR: autoload.js configured with elementid 'ac0f8239-59fa-49ba-8a4e-c4782410c064' but no matching script tag was found. \")\n",
       "    return false;\n",
       "  }\n",
       "\n",
       "  var js_urls = [\"https://cdn.pydata.org/bokeh/release/bokeh-0.13.0.min.js\", \"https://cdn.pydata.org/bokeh/release/bokeh-widgets-0.13.0.min.js\", \"https://cdn.pydata.org/bokeh/release/bokeh-tables-0.13.0.min.js\", \"https://cdn.pydata.org/bokeh/release/bokeh-gl-0.13.0.min.js\"];\n",
       "\n",
       "  var inline_js = [\n",
       "    function(Bokeh) {\n",
       "      Bokeh.set_log_level(\"info\");\n",
       "    },\n",
       "    \n",
       "    function(Bokeh) {\n",
       "      \n",
       "    },\n",
       "    function(Bokeh) {\n",
       "      console.log(\"Bokeh: injecting CSS: https://cdn.pydata.org/bokeh/release/bokeh-0.13.0.min.css\");\n",
       "      Bokeh.embed.inject_css(\"https://cdn.pydata.org/bokeh/release/bokeh-0.13.0.min.css\");\n",
       "      console.log(\"Bokeh: injecting CSS: https://cdn.pydata.org/bokeh/release/bokeh-widgets-0.13.0.min.css\");\n",
       "      Bokeh.embed.inject_css(\"https://cdn.pydata.org/bokeh/release/bokeh-widgets-0.13.0.min.css\");\n",
       "      console.log(\"Bokeh: injecting CSS: https://cdn.pydata.org/bokeh/release/bokeh-tables-0.13.0.min.css\");\n",
       "      Bokeh.embed.inject_css(\"https://cdn.pydata.org/bokeh/release/bokeh-tables-0.13.0.min.css\");\n",
       "    }\n",
       "  ];\n",
       "\n",
       "  function run_inline_js() {\n",
       "    \n",
       "    if ((root.Bokeh !== undefined) || (force === true)) {\n",
       "      for (var i = 0; i < inline_js.length; i++) {\n",
       "        inline_js[i].call(root, root.Bokeh);\n",
       "      }if (force === true) {\n",
       "        display_loaded();\n",
       "      }} else if (Date.now() < root._bokeh_timeout) {\n",
       "      setTimeout(run_inline_js, 100);\n",
       "    } else if (!root._bokeh_failed_load) {\n",
       "      console.log(\"Bokeh: BokehJS failed to load within specified timeout.\");\n",
       "      root._bokeh_failed_load = true;\n",
       "    } else if (force !== true) {\n",
       "      var cell = $(document.getElementById(\"ac0f8239-59fa-49ba-8a4e-c4782410c064\")).parents('.cell').data().cell;\n",
       "      cell.output_area.append_execute_result(NB_LOAD_WARNING)\n",
       "    }\n",
       "\n",
       "  }\n",
       "\n",
       "  if (root._bokeh_is_loading === 0) {\n",
       "    console.log(\"Bokeh: BokehJS loaded, going straight to plotting\");\n",
       "    run_inline_js();\n",
       "  } else {\n",
       "    load_libs(js_urls, function() {\n",
       "      console.log(\"Bokeh: BokehJS plotting callback run at\", now());\n",
       "      run_inline_js();\n",
       "    });\n",
       "  }\n",
       "}(window));"
      ],
      "application/vnd.bokehjs_load.v0+json": "\n(function(root) {\n  function now() {\n    return new Date();\n  }\n\n  var force = true;\n\n  if (typeof (root._bokeh_onload_callbacks) === \"undefined\" || force === true) {\n    root._bokeh_onload_callbacks = [];\n    root._bokeh_is_loading = undefined;\n  }\n\n  \n\n  \n  if (typeof (root._bokeh_timeout) === \"undefined\" || force === true) {\n    root._bokeh_timeout = Date.now() + 5000;\n    root._bokeh_failed_load = false;\n  }\n\n  var NB_LOAD_WARNING = {'data': {'text/html':\n     \"<div style='background-color: #fdd'>\\n\"+\n     \"<p>\\n\"+\n     \"BokehJS does not appear to have successfully loaded. If loading BokehJS from CDN, this \\n\"+\n     \"may be due to a slow or bad network connection. Possible fixes:\\n\"+\n     \"</p>\\n\"+\n     \"<ul>\\n\"+\n     \"<li>re-rerun `output_notebook()` to attempt to load from CDN again, or</li>\\n\"+\n     \"<li>use INLINE resources instead, as so:</li>\\n\"+\n     \"</ul>\\n\"+\n     \"<code>\\n\"+\n     \"from bokeh.resources import INLINE\\n\"+\n     \"output_notebook(resources=INLINE)\\n\"+\n     \"</code>\\n\"+\n     \"</div>\"}};\n\n  function display_loaded() {\n    var el = document.getElementById(\"ac0f8239-59fa-49ba-8a4e-c4782410c064\");\n    if (el != null) {\n      el.textContent = \"BokehJS is loading...\";\n    }\n    if (root.Bokeh !== undefined) {\n      if (el != null) {\n        el.textContent = \"BokehJS \" + root.Bokeh.version + \" successfully loaded.\";\n      }\n    } else if (Date.now() < root._bokeh_timeout) {\n      setTimeout(display_loaded, 100)\n    }\n  }\n\n\n  function run_callbacks() {\n    try {\n      root._bokeh_onload_callbacks.forEach(function(callback) { callback() });\n    }\n    finally {\n      delete root._bokeh_onload_callbacks\n    }\n    console.info(\"Bokeh: all callbacks have finished\");\n  }\n\n  function load_libs(js_urls, callback) {\n    root._bokeh_onload_callbacks.push(callback);\n    if (root._bokeh_is_loading > 0) {\n      console.log(\"Bokeh: BokehJS is being loaded, scheduling callback at\", now());\n      return null;\n    }\n    if (js_urls == null || js_urls.length === 0) {\n      run_callbacks();\n      return null;\n    }\n    console.log(\"Bokeh: BokehJS not loaded, scheduling load and callback at\", now());\n    root._bokeh_is_loading = js_urls.length;\n    for (var i = 0; i < js_urls.length; i++) {\n      var url = js_urls[i];\n      var s = document.createElement('script');\n      s.src = url;\n      s.async = false;\n      s.onreadystatechange = s.onload = function() {\n        root._bokeh_is_loading--;\n        if (root._bokeh_is_loading === 0) {\n          console.log(\"Bokeh: all BokehJS libraries loaded\");\n          run_callbacks()\n        }\n      };\n      s.onerror = function() {\n        console.warn(\"failed to load library \" + url);\n      };\n      console.log(\"Bokeh: injecting script tag for BokehJS library: \", url);\n      document.getElementsByTagName(\"head\")[0].appendChild(s);\n    }\n  };var element = document.getElementById(\"ac0f8239-59fa-49ba-8a4e-c4782410c064\");\n  if (element == null) {\n    console.log(\"Bokeh: ERROR: autoload.js configured with elementid 'ac0f8239-59fa-49ba-8a4e-c4782410c064' but no matching script tag was found. \")\n    return false;\n  }\n\n  var js_urls = [\"https://cdn.pydata.org/bokeh/release/bokeh-0.13.0.min.js\", \"https://cdn.pydata.org/bokeh/release/bokeh-widgets-0.13.0.min.js\", \"https://cdn.pydata.org/bokeh/release/bokeh-tables-0.13.0.min.js\", \"https://cdn.pydata.org/bokeh/release/bokeh-gl-0.13.0.min.js\"];\n\n  var inline_js = [\n    function(Bokeh) {\n      Bokeh.set_log_level(\"info\");\n    },\n    \n    function(Bokeh) {\n      \n    },\n    function(Bokeh) {\n      console.log(\"Bokeh: injecting CSS: https://cdn.pydata.org/bokeh/release/bokeh-0.13.0.min.css\");\n      Bokeh.embed.inject_css(\"https://cdn.pydata.org/bokeh/release/bokeh-0.13.0.min.css\");\n      console.log(\"Bokeh: injecting CSS: https://cdn.pydata.org/bokeh/release/bokeh-widgets-0.13.0.min.css\");\n      Bokeh.embed.inject_css(\"https://cdn.pydata.org/bokeh/release/bokeh-widgets-0.13.0.min.css\");\n      console.log(\"Bokeh: injecting CSS: https://cdn.pydata.org/bokeh/release/bokeh-tables-0.13.0.min.css\");\n      Bokeh.embed.inject_css(\"https://cdn.pydata.org/bokeh/release/bokeh-tables-0.13.0.min.css\");\n    }\n  ];\n\n  function run_inline_js() {\n    \n    if ((root.Bokeh !== undefined) || (force === true)) {\n      for (var i = 0; i < inline_js.length; i++) {\n        inline_js[i].call(root, root.Bokeh);\n      }if (force === true) {\n        display_loaded();\n      }} else if (Date.now() < root._bokeh_timeout) {\n      setTimeout(run_inline_js, 100);\n    } else if (!root._bokeh_failed_load) {\n      console.log(\"Bokeh: BokehJS failed to load within specified timeout.\");\n      root._bokeh_failed_load = true;\n    } else if (force !== true) {\n      var cell = $(document.getElementById(\"ac0f8239-59fa-49ba-8a4e-c4782410c064\")).parents('.cell').data().cell;\n      cell.output_area.append_execute_result(NB_LOAD_WARNING)\n    }\n\n  }\n\n  if (root._bokeh_is_loading === 0) {\n    console.log(\"Bokeh: BokehJS loaded, going straight to plotting\");\n    run_inline_js();\n  } else {\n    load_libs(js_urls, function() {\n      console.log(\"Bokeh: BokehJS plotting callback run at\", now());\n      run_inline_js();\n    });\n  }\n}(window));"
     },
     "metadata": {},
     "output_type": "display_data"
    }
   ],
   "source": [
    "import bokeh.plotting as pl\n",
    "import bokeh.models as bm\n",
    "from bokeh.io import output_notebook, show\n",
    "output_notebook()\n",
    "\n",
    "def draw_attention(inp_line, translation, probs):\n",
    "    \"\"\" An intentionally ambiguous function to visualize attention weights \"\"\"\n",
    "    inp_tokens = inp_voc.tokenize(inp_line)\n",
    "    trans_tokens = out_voc.tokenize(translation)\n",
    "    probs = probs[:len(trans_tokens), :len(inp_tokens)]\n",
    "    \n",
    "    fig = pl.figure(x_range=(0, len(inp_tokens)), y_range=(0, len(trans_tokens)),\n",
    "                    x_axis_type=None, y_axis_type=None, tools=[])\n",
    "    fig.image([probs[::-1]], 0, 0, len(inp_tokens), len(trans_tokens))\n",
    "\n",
    "    fig.add_layout(bm.LinearAxis(axis_label='source tokens'), 'above')\n",
    "    fig.xaxis.ticker = np.arange(len(inp_tokens)) + 0.5\n",
    "    fig.xaxis.major_label_overrides = dict(zip(np.arange(len(inp_tokens)) + 0.5, inp_tokens))\n",
    "    fig.xaxis.major_label_orientation = 45\n",
    "\n",
    "    fig.add_layout(bm.LinearAxis(axis_label='translation tokens'), 'left')\n",
    "    fig.yaxis.ticker = np.arange(len(trans_tokens)) + 0.5\n",
    "    fig.yaxis.major_label_overrides = dict(zip(np.arange(len(trans_tokens)) + 0.5, trans_tokens[::-1]))\n",
    "\n",
    "    show(fig)"
   ]
  },
  {
   "cell_type": "code",
   "execution_count": 62,
   "metadata": {
    "ExecuteTime": {
     "end_time": "2018-10-20T11:22:29.932811Z",
     "start_time": "2018-10-20T11:22:29.753665Z"
    }
   },
   "outputs": [],
   "source": [
    "inp = dev_inp[::500]\n",
    "\n",
    "trans, states = model.translate_lines(inp)\n",
    "\n",
    "# select attention probs from model state (you may need to change this for your custom model)\n",
    "attention_probs = np.stack([state[-1] for state in states], axis=1)"
   ]
  },
  {
   "cell_type": "code",
   "execution_count": 63,
   "metadata": {
    "ExecuteTime": {
     "end_time": "2018-10-20T11:22:43.649382Z",
     "start_time": "2018-10-20T11:22:43.476357Z"
    },
    "scrolled": false
   },
   "outputs": [
    {
     "data": {
      "text/html": [
       "\n",
       "\n",
       "\n",
       "\n",
       "\n",
       "\n",
       "  <div class=\"bk-root\" id=\"04a4bae1-53fb-4030-b558-4a2e268a6c92\"></div>\n"
      ]
     },
     "metadata": {},
     "output_type": "display_data"
    },
    {
     "data": {
      "application/javascript": [
       "(function(root) {\n",
       "  function embed_document(root) {\n",
       "    \n",
       "  var docs_json = {\"f7b3c12f-a95a-41b1-9a44-93cce12b7943\":{\"roots\":{\"references\":[{\"attributes\":{\"axis_label\":\"source tokens\",\"formatter\":{\"id\":\"e1476656-c1f4-4767-8d25-87b56d766a78\",\"type\":\"BasicTickFormatter\"},\"major_label_orientation\":45,\"major_label_overrides\":{\"0.5\":\"_BOS_\",\"1.5\":\"\\u0432\",\"10.5\":\"_EOS_\",\"2.5\":\"\\u0440\\u0430\\u0441\\u043f\\u043e\\u0440\\u044f\\u0436\\u0435\\u043d\\u0438\\u0438\",\"3.5\":\"\\u0433\\u043e\\u0441\\u0442\\u0435\\u0439\",\"4.5\":\"\\u043e\\u0431\\u0449\\u0430\\u044f\",\"5.5\":\"\\u043a\\u0443\\u0445\\u043d\\u044f\",\"6.5\":\"\\u0438\",\"7.5\":\"\\u043e\\u0431\\u0449\\u0430\\u044f\",\"8.5\":\"\\u0433\\u043e\\u0441\\u0442\\u0438\\u043d\\u0430\\u044f\",\"9.5\":\".\"},\"plot\":{\"id\":\"abdd2f8b-ac27-430c-baf3-86c6be65e30f\",\"subtype\":\"Figure\",\"type\":\"Plot\"},\"ticker\":{\"id\":\"fb31d477-342c-49c0-ba53-ae61aaa538f5\",\"type\":\"FixedTicker\"}},\"id\":\"7b5c741c-dd58-4cc6-adb6-0b5350cbddc1\",\"type\":\"LinearAxis\"},{\"attributes\":{\"ticks\":[0.5,1.5,2.5,3.5,4.5,5.5,6.5,7.5,8.5,9.5,10.5,11.5]},\"id\":\"7c1478a1-3d9e-4acd-a364-7152ad211bfb\",\"type\":\"FixedTicker\"},{\"attributes\":{\"plot\":null,\"text\":\"\"},\"id\":\"6e9edeca-f7d8-43c1-9067-73fb829b637b\",\"type\":\"Title\"},{\"attributes\":{\"callback\":null,\"end\":12},\"id\":\"87d67d8f-1b25-48cd-b656-3474424bc0b2\",\"type\":\"Range1d\"},{\"attributes\":{\"above\":[{\"id\":\"7b5c741c-dd58-4cc6-adb6-0b5350cbddc1\",\"type\":\"LinearAxis\"}],\"left\":[{\"id\":\"f6927e70-114a-433a-8f23-b212b496a11e\",\"type\":\"LinearAxis\"}],\"renderers\":[{\"id\":\"01eaba6e-35c3-4340-bcbc-34221ca880f2\",\"type\":\"GlyphRenderer\"},{\"id\":\"7b5c741c-dd58-4cc6-adb6-0b5350cbddc1\",\"type\":\"LinearAxis\"},{\"id\":\"f6927e70-114a-433a-8f23-b212b496a11e\",\"type\":\"LinearAxis\"}],\"title\":{\"id\":\"6e9edeca-f7d8-43c1-9067-73fb829b637b\",\"type\":\"Title\"},\"toolbar\":{\"id\":\"ee514e63-87c9-401f-9bee-7926269bc8b8\",\"type\":\"Toolbar\"},\"x_range\":{\"id\":\"ca366018-eafb-4156-9df4-a43d7e3fa357\",\"type\":\"Range1d\"},\"x_scale\":{\"id\":\"d360a10c-2c2c-4afc-af98-17c1f54fbe16\",\"type\":\"LinearScale\"},\"y_range\":{\"id\":\"87d67d8f-1b25-48cd-b656-3474424bc0b2\",\"type\":\"Range1d\"},\"y_scale\":{\"id\":\"28d03175-f253-46c8-917d-3332a1d58a17\",\"type\":\"LinearScale\"}},\"id\":\"abdd2f8b-ac27-430c-baf3-86c6be65e30f\",\"subtype\":\"Figure\",\"type\":\"Plot\"},{\"attributes\":{\"callback\":null,\"data\":{\"image\":[{\"__ndarray__\":\"uJFkPg6S9z20eSI+9j3vPc3Dyz0U1eQ6cjisOs+2mjxzZOo9hbUdPSkk2T2f5sI9EZw1PUYZ7jxe82o8etTTPPexeTw/ziA8t4+OPHnm0T4TUmg+gD/lPbvVlTucQSo7nY7qOnNoiTr5/MM7CYeIPQL/gD0+m387ObvaPpBlxT7mdRo9WAWtPBRsUzz3DsY718QjO7Ap+zvNdwc8hXopPPB/5D3IySc/Z1MAPl8YHz1i3lI9TIHKPGVGpzxucxw8EJETPESFqTufHk08fkQBP/Z0dj5sBW89lFGBPfR5Cz4GH3s9NJdbPfFcCD0UthU9CRQvPXV/cD3fkgQ+GWukPpg7oD3zn0c9EluqPHrRGjy89jk8ihAUPDn2yDw2Yoo+u5HMPkTfCz3qDLA9xM7tPQrWmTwCg7c5LdVKOQ/xxzn6S2k6gOc3PC4J9j7oQ/o++rBFO4LlETyh6aQ7BTUvOh43czzRE9o7fre6PGe/ez3smA4+HXlkPivd4z6dx1s96V+jPIe3Bzz87KE7ktQBPEdupDvc8T08r9/BPAsemz0sPqE+sYcAP4LeJj2b2EU8FvWoO/acjjrPvb87uTGDO1BRbzxHuTk9xtg3Pptsxz6XwpA+bI5uPed7UTx1NKE7+TwiO8+9vzu5MYM7UFFvPEe5OT3G2Dc+m2zHPpfCkD5sjm4953tRPHU0oTv5PCI7\",\"dtype\":\"float32\",\"shape\":[12,11]}]},\"selected\":{\"id\":\"df4ffe26-e316-417d-84a1-d5ae01dbbbf3\",\"type\":\"Selection\"},\"selection_policy\":{\"id\":\"a62837ec-0079-4002-8c12-1afaa5290018\",\"type\":\"UnionRenderers\"}},\"id\":\"5464ccd2-1e1c-42f9-8497-ed645113322a\",\"type\":\"ColumnDataSource\"},{\"attributes\":{\"color_mapper\":{\"id\":\"8e26ccb0-da83-4007-b353-4632ab21bca1\",\"type\":\"LinearColorMapper\"},\"dh\":{\"units\":\"data\",\"value\":12},\"dw\":{\"units\":\"data\",\"value\":11},\"image\":{\"field\":\"image\"},\"x\":{\"value\":0},\"y\":{\"value\":0}},\"id\":\"0dfc31dd-7266-4547-9a39-b603a8738db5\",\"type\":\"Image\"},{\"attributes\":{\"source\":{\"id\":\"5464ccd2-1e1c-42f9-8497-ed645113322a\",\"type\":\"ColumnDataSource\"}},\"id\":\"f7b45a9c-5dae-45b8-8eaa-465204bc0e49\",\"type\":\"CDSView\"},{\"attributes\":{\"callback\":null,\"end\":11},\"id\":\"ca366018-eafb-4156-9df4-a43d7e3fa357\",\"type\":\"Range1d\"},{\"attributes\":{},\"id\":\"a62837ec-0079-4002-8c12-1afaa5290018\",\"type\":\"UnionRenderers\"},{\"attributes\":{\"data_source\":{\"id\":\"5464ccd2-1e1c-42f9-8497-ed645113322a\",\"type\":\"ColumnDataSource\"},\"glyph\":{\"id\":\"0dfc31dd-7266-4547-9a39-b603a8738db5\",\"type\":\"Image\"},\"hover_glyph\":null,\"muted_glyph\":null,\"nonselection_glyph\":{\"id\":\"1a1fa6f7-1c55-412c-b52c-e5fcb1501bd7\",\"type\":\"Image\"},\"selection_glyph\":null,\"view\":{\"id\":\"f7b45a9c-5dae-45b8-8eaa-465204bc0e49\",\"type\":\"CDSView\"}},\"id\":\"01eaba6e-35c3-4340-bcbc-34221ca880f2\",\"type\":\"GlyphRenderer\"},{\"attributes\":{\"ticks\":[0.5,1.5,2.5,3.5,4.5,5.5,6.5,7.5,8.5,9.5,10.5]},\"id\":\"fb31d477-342c-49c0-ba53-ae61aaa538f5\",\"type\":\"FixedTicker\"},{\"attributes\":{},\"id\":\"d360a10c-2c2c-4afc-af98-17c1f54fbe16\",\"type\":\"LinearScale\"},{\"attributes\":{},\"id\":\"28d03175-f253-46c8-917d-3332a1d58a17\",\"type\":\"LinearScale\"},{\"attributes\":{},\"id\":\"df4ffe26-e316-417d-84a1-d5ae01dbbbf3\",\"type\":\"Selection\"},{\"attributes\":{},\"id\":\"e1476656-c1f4-4767-8d25-87b56d766a78\",\"type\":\"BasicTickFormatter\"},{\"attributes\":{},\"id\":\"63adac13-3c55-4723-b5e1-804730d52d3d\",\"type\":\"BasicTickFormatter\"},{\"attributes\":{\"active_drag\":\"auto\",\"active_inspect\":\"auto\",\"active_multi\":null,\"active_scroll\":\"auto\",\"active_tap\":\"auto\"},\"id\":\"ee514e63-87c9-401f-9bee-7926269bc8b8\",\"type\":\"Toolbar\"},{\"attributes\":{\"color_mapper\":{\"id\":\"93d9042f-5b74-4994-939b-25644c5bb35b\",\"type\":\"LinearColorMapper\"},\"dh\":{\"units\":\"data\",\"value\":12},\"dw\":{\"units\":\"data\",\"value\":11},\"image\":{\"field\":\"image\"},\"x\":{\"value\":0},\"y\":{\"value\":0}},\"id\":\"1a1fa6f7-1c55-412c-b52c-e5fcb1501bd7\",\"type\":\"Image\"},{\"attributes\":{\"palette\":[\"#000000\",\"#252525\",\"#525252\",\"#737373\",\"#969696\",\"#bdbdbd\",\"#d9d9d9\",\"#f0f0f0\",\"#ffffff\"]},\"id\":\"8e26ccb0-da83-4007-b353-4632ab21bca1\",\"type\":\"LinearColorMapper\"},{\"attributes\":{\"axis_label\":\"translation tokens\",\"formatter\":{\"id\":\"63adac13-3c55-4723-b5e1-804730d52d3d\",\"type\":\"BasicTickFormatter\"},\"major_label_overrides\":{\"0.5\":\"_EOS_\",\"1.5\":\".\",\"10.5\":\"there\",\"11.5\":\"_BOS_\",\"2.5\":\"lounge\",\"3.5\":\"shared\",\"4.5\":\"a\",\"5.5\":\"and\",\"6.5\":\"kitchen\",\"7.5\":\"shared\",\"8.5\":\"a\",\"9.5\":\"is\"},\"plot\":{\"id\":\"abdd2f8b-ac27-430c-baf3-86c6be65e30f\",\"subtype\":\"Figure\",\"type\":\"Plot\"},\"ticker\":{\"id\":\"7c1478a1-3d9e-4acd-a364-7152ad211bfb\",\"type\":\"FixedTicker\"}},\"id\":\"f6927e70-114a-433a-8f23-b212b496a11e\",\"type\":\"LinearAxis\"},{\"attributes\":{\"palette\":[\"#000000\",\"#252525\",\"#525252\",\"#737373\",\"#969696\",\"#bdbdbd\",\"#d9d9d9\",\"#f0f0f0\",\"#ffffff\"]},\"id\":\"93d9042f-5b74-4994-939b-25644c5bb35b\",\"type\":\"LinearColorMapper\"}],\"root_ids\":[\"abdd2f8b-ac27-430c-baf3-86c6be65e30f\"]},\"title\":\"Bokeh Application\",\"version\":\"0.13.0\"}};\n",
       "  var render_items = [{\"docid\":\"f7b3c12f-a95a-41b1-9a44-93cce12b7943\",\"roots\":{\"abdd2f8b-ac27-430c-baf3-86c6be65e30f\":\"04a4bae1-53fb-4030-b558-4a2e268a6c92\"}}];\n",
       "  root.Bokeh.embed.embed_items_notebook(docs_json, render_items);\n",
       "\n",
       "  }\n",
       "  if (root.Bokeh !== undefined) {\n",
       "    embed_document(root);\n",
       "  } else {\n",
       "    var attempts = 0;\n",
       "    var timer = setInterval(function(root) {\n",
       "      if (root.Bokeh !== undefined) {\n",
       "        embed_document(root);\n",
       "        clearInterval(timer);\n",
       "      }\n",
       "      attempts++;\n",
       "      if (attempts > 100) {\n",
       "        console.log(\"Bokeh: ERROR: Unable to run BokehJS code because BokehJS library is missing\")\n",
       "        clearInterval(timer);\n",
       "      }\n",
       "    }, 10, root)\n",
       "  }\n",
       "})(window);"
      ],
      "application/vnd.bokehjs_exec.v0+json": ""
     },
     "metadata": {
      "application/vnd.bokehjs_exec.v0+json": {
       "id": "abdd2f8b-ac27-430c-baf3-86c6be65e30f"
      }
     },
     "output_type": "display_data"
    },
    {
     "data": {
      "text/html": [
       "\n",
       "\n",
       "\n",
       "\n",
       "\n",
       "\n",
       "  <div class=\"bk-root\" id=\"cc6244d6-4aca-4928-9f73-6b223072db38\"></div>\n"
      ]
     },
     "metadata": {},
     "output_type": "display_data"
    },
    {
     "data": {
      "application/javascript": [
       "(function(root) {\n",
       "  function embed_document(root) {\n",
       "    \n",
       "  var docs_json = {\"ea8cb37a-8e9a-45a5-bf83-dc7a1362ebb9\":{\"roots\":{\"references\":[{\"attributes\":{},\"id\":\"26a7cd42-b81c-4372-ba5a-8d34790d8aa8\",\"type\":\"BasicTickFormatter\"},{\"attributes\":{\"active_drag\":\"auto\",\"active_inspect\":\"auto\",\"active_multi\":null,\"active_scroll\":\"auto\",\"active_tap\":\"auto\"},\"id\":\"caddb8db-a7dd-4abd-8df1-829caba216c3\",\"type\":\"Toolbar\"},{\"attributes\":{\"callback\":null,\"end\":15},\"id\":\"4a1e5d72-cd26-4830-96bc-332fd5faf062\",\"type\":\"Range1d\"},{\"attributes\":{\"data_source\":{\"id\":\"c4ad4f73-7096-45da-8da9-f987b1dc46db\",\"type\":\"ColumnDataSource\"},\"glyph\":{\"id\":\"e33ff01f-dc0c-4554-9b2c-a3859c5fc1d1\",\"type\":\"Image\"},\"hover_glyph\":null,\"muted_glyph\":null,\"nonselection_glyph\":{\"id\":\"6d7bfed3-bb71-481c-b112-abe5d7fa55a4\",\"type\":\"Image\"},\"selection_glyph\":null,\"view\":{\"id\":\"fcfe4155-9da9-469b-99c4-0d33e42351fa\",\"type\":\"CDSView\"}},\"id\":\"154f41cd-9d27-4855-8809-b8350451d957\",\"type\":\"GlyphRenderer\"},{\"attributes\":{},\"id\":\"110f8270-199a-460b-8383-e75f098a814b\",\"type\":\"UnionRenderers\"},{\"attributes\":{\"axis_label\":\"source tokens\",\"formatter\":{\"id\":\"12c30cac-c9dd-4c5a-84cf-4327c1aef4fa\",\"type\":\"BasicTickFormatter\"},\"major_label_orientation\":45,\"major_label_overrides\":{\"0.5\":\"_BOS_\",\"1.5\":\"\\u043a\\u0440\\u043e\\u043c\\u0435\",\"10.5\":\"\\u0438\",\"11.5\":\"\\u0431\\u0435\\u0441\\u043f\\u043b\\u0430\\u0442\\u043d\\u0430\\u044f\",\"12.5\":\"\\u043f\\u0430\\u0440\\u043a\\u043e\\u0432\\u043a\\u0430\",\"13.5\":\".\",\"14.5\":\"_EOS_\",\"2.5\":\"\\u0442\\u043e\\u0433\\u043e\",\"3.5\":\",\",\"4.5\":\"\\u043f\\u0440\\u0435\\u0434\\u043e\\u0441\\u0442\\u0430\\u0432\\u043b\\u044f\\u0435\\u0442\\u0441\\u044f\",\"5.5\":\"\\u043f\\u0440\\u043e\\u043a\\u0430\\u0442\",\"6.5\":\"\\u0432\\u0435\\u043b\\u043e\\u0441\\u0438\\u043f\\u0435\\u0434\\u043e\\u0432\",\"7.5\":\",\",\"8.5\":\"\\u0443\\u0441\\u043b\\u0443\\u0433\\u0438\",\"9.5\":\"\\u0442\\u0440\\u0430\\u043d\\u0441\\u0444\\u0435\\u0440\\u0430\"},\"plot\":{\"id\":\"deb3a8c6-cade-45f1-b6a5-520743715f20\",\"subtype\":\"Figure\",\"type\":\"Plot\"},\"ticker\":{\"id\":\"21236abc-527b-4fb0-a227-37917d2526a2\",\"type\":\"FixedTicker\"}},\"id\":\"9ed12bc8-f940-4765-b7e8-15e75882ad5b\",\"type\":\"LinearAxis\"},{\"attributes\":{\"callback\":null,\"end\":15},\"id\":\"decd4eac-204e-4b22-93fa-a0bba04c32d4\",\"type\":\"Range1d\"},{\"attributes\":{\"palette\":[\"#000000\",\"#252525\",\"#525252\",\"#737373\",\"#969696\",\"#bdbdbd\",\"#d9d9d9\",\"#f0f0f0\",\"#ffffff\"]},\"id\":\"727677ef-b780-47d0-a10f-a1c001911c95\",\"type\":\"LinearColorMapper\"},{\"attributes\":{\"palette\":[\"#000000\",\"#252525\",\"#525252\",\"#737373\",\"#969696\",\"#bdbdbd\",\"#d9d9d9\",\"#f0f0f0\",\"#ffffff\"]},\"id\":\"4a210ff1-9734-49de-8dc4-8f044ce966c4\",\"type\":\"LinearColorMapper\"},{\"attributes\":{},\"id\":\"f905c03c-ead3-4a2d-bcbf-a1d72d15a27e\",\"type\":\"Selection\"},{\"attributes\":{\"plot\":null,\"text\":\"\"},\"id\":\"648c1a8e-f5a4-4d5e-b9a5-262bbacf82ed\",\"type\":\"Title\"},{\"attributes\":{\"callback\":null,\"data\":{\"image\":[{\"__ndarray__\":\"+xy/PEinEzwzbpc7iugePD6CEzwJM7s7eNBrO16Q4zm9SoM6L4JCPKJiUjp7rDM9UKsvPmX9Gj8S8Mw9vbExPq2Dlz2KKiI9ynCtPfQDFz3DDrE8mYXePEFJ8DqHeL07psGVPKcZ2ztguVM9ZcsLPrxmZj4fMMY9PZHNPWoMTj2faw89Ju+zO4uQkDvZ//06/HtNOrGhNTlakqE6dxXrO/CQ7DpypGY9kgCtPoRebT7BQCk+sTzLOyIy5zpQok064rI9OyRYtzpHpA863f/yObcLnzi+voQ6+cKvO9wuNjq8AuA9K2esPuD99j5j+U09GtYrPe76ajzQSfA7ElwVPFxlCTzI6p07ZPBSO/yDdDqPLKg7jkELPQRrkzuRcE8+0prJPquaTD6SnY89/eLEPLdLwTs0iig736aTPKuXGzzLfqw7QIh1PIUbNT1NRhA+Ai5yPijaRT5WKXI9zNKbPRFT7j2uZlo9clMJPSV3WDw7Qt87MbfxPDny2TyuQY88WT+QPHfqQTwdugs+0r6IPsFwRj3wza09/5DfPYrBDz7agmk9fJuYPAbUqjsHshU7srmOPPLLkDzHL9M7v3UrPKw0aDztgxg+9FPhPs7npD0F+J89hiMGPfPj3z28HZM8OY8QO77UmzkVTsE4SPddO9+7ijvs/eU6V7HFOyG1wD7FxhU+O1cKPiNqfj4c5DE8QcqmPJs/JD1K0pI7ENhRO27n0Dn3AO84z782PMRC/zvbiZo7Rg0pPKghfj5aFcA+lwkHPm6PJT7Vz3w7kwVqPEIczjxOpAo7thFPPLSnjDt0PRQ7EgMePKTx1Ts/IoA8EOBVPe+9JT8GPco9hUHSPH/F3zxmtpo8h1kFPXeaID3DN+Q7ea2dPaA1OD2r5xE9w/kiPeaL+jxVl4A9e0X4PdsxeT6pKfY9c5mFPZ9EhT3N5Dw8WX1BPfHPvTzOY0g8crSVPJ40+Dvocok7W165PG6+LDwXTgQ9qZ0wPrE3tT5DbcY9p7A1PVj4Fz55bqk8Ke34PJNA/zzsqMo794h2PcHTnD1LlYs9YGaDPQ6Hyj110+M91xUuPoSe8T0VM6o9v2iLPWVaPz0WkQM8eo9nPPJx1DuZMs0794h2PcHTnD1LlYs9YGaDPQ6Hyj110+M91xUuPoSe8T0VM6o9v2iLPWVaPz0WkQM8eo9nPPJx1DuZMs07\",\"dtype\":\"float32\",\"shape\":[15,15]}]},\"selected\":{\"id\":\"f905c03c-ead3-4a2d-bcbf-a1d72d15a27e\",\"type\":\"Selection\"},\"selection_policy\":{\"id\":\"110f8270-199a-460b-8383-e75f098a814b\",\"type\":\"UnionRenderers\"}},\"id\":\"c4ad4f73-7096-45da-8da9-f987b1dc46db\",\"type\":\"ColumnDataSource\"},{\"attributes\":{},\"id\":\"f585c6f0-12b2-46ee-9e51-acb115e5bcc5\",\"type\":\"LinearScale\"},{\"attributes\":{\"source\":{\"id\":\"c4ad4f73-7096-45da-8da9-f987b1dc46db\",\"type\":\"ColumnDataSource\"}},\"id\":\"fcfe4155-9da9-469b-99c4-0d33e42351fa\",\"type\":\"CDSView\"},{\"attributes\":{\"ticks\":[0.5,1.5,2.5,3.5,4.5,5.5,6.5,7.5,8.5,9.5,10.5,11.5,12.5,13.5,14.5]},\"id\":\"f098900f-29e9-4d68-b16b-207bdcf97024\",\"type\":\"FixedTicker\"},{\"attributes\":{\"color_mapper\":{\"id\":\"727677ef-b780-47d0-a10f-a1c001911c95\",\"type\":\"LinearColorMapper\"},\"dh\":{\"units\":\"data\",\"value\":15},\"dw\":{\"units\":\"data\",\"value\":15},\"image\":{\"field\":\"image\"},\"x\":{\"value\":0},\"y\":{\"value\":0}},\"id\":\"e33ff01f-dc0c-4554-9b2c-a3859c5fc1d1\",\"type\":\"Image\"},{\"attributes\":{},\"id\":\"9cfc06bd-01f5-48fc-889e-6b913b4374eb\",\"type\":\"LinearScale\"},{\"attributes\":{\"color_mapper\":{\"id\":\"4a210ff1-9734-49de-8dc4-8f044ce966c4\",\"type\":\"LinearColorMapper\"},\"dh\":{\"units\":\"data\",\"value\":15},\"dw\":{\"units\":\"data\",\"value\":15},\"image\":{\"field\":\"image\"},\"x\":{\"value\":0},\"y\":{\"value\":0}},\"id\":\"6d7bfed3-bb71-481c-b112-abe5d7fa55a4\",\"type\":\"Image\"},{\"attributes\":{},\"id\":\"12c30cac-c9dd-4c5a-84cf-4327c1aef4fa\",\"type\":\"BasicTickFormatter\"},{\"attributes\":{\"ticks\":[0.5,1.5,2.5,3.5,4.5,5.5,6.5,7.5,8.5,9.5,10.5,11.5,12.5,13.5,14.5]},\"id\":\"21236abc-527b-4fb0-a227-37917d2526a2\",\"type\":\"FixedTicker\"},{\"attributes\":{\"above\":[{\"id\":\"9ed12bc8-f940-4765-b7e8-15e75882ad5b\",\"type\":\"LinearAxis\"}],\"left\":[{\"id\":\"ef64f016-7a7a-4dc4-b258-690355fa0429\",\"type\":\"LinearAxis\"}],\"renderers\":[{\"id\":\"154f41cd-9d27-4855-8809-b8350451d957\",\"type\":\"GlyphRenderer\"},{\"id\":\"9ed12bc8-f940-4765-b7e8-15e75882ad5b\",\"type\":\"LinearAxis\"},{\"id\":\"ef64f016-7a7a-4dc4-b258-690355fa0429\",\"type\":\"LinearAxis\"}],\"title\":{\"id\":\"648c1a8e-f5a4-4d5e-b9a5-262bbacf82ed\",\"type\":\"Title\"},\"toolbar\":{\"id\":\"caddb8db-a7dd-4abd-8df1-829caba216c3\",\"type\":\"Toolbar\"},\"x_range\":{\"id\":\"4a1e5d72-cd26-4830-96bc-332fd5faf062\",\"type\":\"Range1d\"},\"x_scale\":{\"id\":\"f585c6f0-12b2-46ee-9e51-acb115e5bcc5\",\"type\":\"LinearScale\"},\"y_range\":{\"id\":\"decd4eac-204e-4b22-93fa-a0bba04c32d4\",\"type\":\"Range1d\"},\"y_scale\":{\"id\":\"9cfc06bd-01f5-48fc-889e-6b913b4374eb\",\"type\":\"LinearScale\"}},\"id\":\"deb3a8c6-cade-45f1-b6a5-520743715f20\",\"subtype\":\"Figure\",\"type\":\"Plot\"},{\"attributes\":{\"axis_label\":\"translation tokens\",\"formatter\":{\"id\":\"26a7cd42-b81c-4372-ba5a-8d34790d8aa8\",\"type\":\"BasicTickFormatter\"},\"major_label_overrides\":{\"0.5\":\"_EOS_\",\"1.5\":\".\",\"10.5\":\"offers\",\"11.5\":\"also\",\"12.5\":\"property\",\"13.5\":\"the\",\"14.5\":\"_BOS_\",\"2.5\":\"parking\",\"3.5\":\"free\",\"4.5\":\"and\",\"5.5\":\"rental\",\"6.5\":\"bicycle\",\"7.5\":\",\",\"8.5\":\"rental\",\"9.5\":\"bike\"},\"plot\":{\"id\":\"deb3a8c6-cade-45f1-b6a5-520743715f20\",\"subtype\":\"Figure\",\"type\":\"Plot\"},\"ticker\":{\"id\":\"f098900f-29e9-4d68-b16b-207bdcf97024\",\"type\":\"FixedTicker\"}},\"id\":\"ef64f016-7a7a-4dc4-b258-690355fa0429\",\"type\":\"LinearAxis\"}],\"root_ids\":[\"deb3a8c6-cade-45f1-b6a5-520743715f20\"]},\"title\":\"Bokeh Application\",\"version\":\"0.13.0\"}};\n",
       "  var render_items = [{\"docid\":\"ea8cb37a-8e9a-45a5-bf83-dc7a1362ebb9\",\"roots\":{\"deb3a8c6-cade-45f1-b6a5-520743715f20\":\"cc6244d6-4aca-4928-9f73-6b223072db38\"}}];\n",
       "  root.Bokeh.embed.embed_items_notebook(docs_json, render_items);\n",
       "\n",
       "  }\n",
       "  if (root.Bokeh !== undefined) {\n",
       "    embed_document(root);\n",
       "  } else {\n",
       "    var attempts = 0;\n",
       "    var timer = setInterval(function(root) {\n",
       "      if (root.Bokeh !== undefined) {\n",
       "        embed_document(root);\n",
       "        clearInterval(timer);\n",
       "      }\n",
       "      attempts++;\n",
       "      if (attempts > 100) {\n",
       "        console.log(\"Bokeh: ERROR: Unable to run BokehJS code because BokehJS library is missing\")\n",
       "        clearInterval(timer);\n",
       "      }\n",
       "    }, 10, root)\n",
       "  }\n",
       "})(window);"
      ],
      "application/vnd.bokehjs_exec.v0+json": ""
     },
     "metadata": {
      "application/vnd.bokehjs_exec.v0+json": {
       "id": "deb3a8c6-cade-45f1-b6a5-520743715f20"
      }
     },
     "output_type": "display_data"
    },
    {
     "data": {
      "text/html": [
       "\n",
       "\n",
       "\n",
       "\n",
       "\n",
       "\n",
       "  <div class=\"bk-root\" id=\"f03e94e2-a9ad-4abe-9d9d-d2b27e5b1ea9\"></div>\n"
      ]
     },
     "metadata": {},
     "output_type": "display_data"
    },
    {
     "data": {
      "application/javascript": [
       "(function(root) {\n",
       "  function embed_document(root) {\n",
       "    \n",
       "  var docs_json = {\"0ff59712-83e6-4239-90ee-6b28328bf09a\":{\"roots\":{\"references\":[{\"attributes\":{\"color_mapper\":{\"id\":\"b485de09-6dda-44e2-9184-0e500b5da4c4\",\"type\":\"LinearColorMapper\"},\"dh\":{\"units\":\"data\",\"value\":11},\"dw\":{\"units\":\"data\",\"value\":13},\"image\":{\"field\":\"image\"},\"x\":{\"value\":0},\"y\":{\"value\":0}},\"id\":\"724632be-7acd-48af-87a8-8cc809b367af\",\"type\":\"Image\"},{\"attributes\":{\"palette\":[\"#000000\",\"#252525\",\"#525252\",\"#737373\",\"#969696\",\"#bdbdbd\",\"#d9d9d9\",\"#f0f0f0\",\"#ffffff\"]},\"id\":\"937db322-e863-4317-8cc0-a43f49805278\",\"type\":\"LinearColorMapper\"},{\"attributes\":{\"callback\":null,\"end\":11},\"id\":\"3604e80e-43af-4de5-93e6-d2a49da0ff01\",\"type\":\"Range1d\"},{\"attributes\":{\"active_drag\":\"auto\",\"active_inspect\":\"auto\",\"active_multi\":null,\"active_scroll\":\"auto\",\"active_tap\":\"auto\"},\"id\":\"800e0ba5-dbd3-4b99-ada8-6f1e814e8fc7\",\"type\":\"Toolbar\"},{\"attributes\":{\"data_source\":{\"id\":\"2d7c9443-080f-4743-8249-2d5e0efcf1fe\",\"type\":\"ColumnDataSource\"},\"glyph\":{\"id\":\"724632be-7acd-48af-87a8-8cc809b367af\",\"type\":\"Image\"},\"hover_glyph\":null,\"muted_glyph\":null,\"nonselection_glyph\":{\"id\":\"562872f6-635b-4826-934c-4c51770c30e9\",\"type\":\"Image\"},\"selection_glyph\":null,\"view\":{\"id\":\"90713201-8d33-4ba9-b2bd-a23a2ac487fc\",\"type\":\"CDSView\"}},\"id\":\"5501bf6c-56a4-4d63-aa59-f574ec65cb75\",\"type\":\"GlyphRenderer\"},{\"attributes\":{},\"id\":\"fcecb963-8d5c-499e-a23b-795c58ebefd2\",\"type\":\"Selection\"},{\"attributes\":{\"ticks\":[0.5,1.5,2.5,3.5,4.5,5.5,6.5,7.5,8.5,9.5,10.5,11.5,12.5]},\"id\":\"b18558df-636b-4cce-a0c8-31e9f12400ad\",\"type\":\"FixedTicker\"},{\"attributes\":{},\"id\":\"76d29651-cbd2-4b26-9138-5f6a382aa813\",\"type\":\"LinearScale\"},{\"attributes\":{},\"id\":\"c3766d17-7ac0-4d5f-8439-df21c60dc3e4\",\"type\":\"BasicTickFormatter\"},{\"attributes\":{},\"id\":\"9ea34324-b753-44bd-ae99-f2c93520ccad\",\"type\":\"UnionRenderers\"},{\"attributes\":{},\"id\":\"e29eb705-b5e7-4c61-bdcf-582efe85c981\",\"type\":\"LinearScale\"},{\"attributes\":{},\"id\":\"eec825fb-a772-4f9b-bf34-9165123fb027\",\"type\":\"BasicTickFormatter\"},{\"attributes\":{\"source\":{\"id\":\"2d7c9443-080f-4743-8249-2d5e0efcf1fe\",\"type\":\"ColumnDataSource\"}},\"id\":\"90713201-8d33-4ba9-b2bd-a23a2ac487fc\",\"type\":\"CDSView\"},{\"attributes\":{\"axis_label\":\"translation tokens\",\"formatter\":{\"id\":\"eec825fb-a772-4f9b-bf34-9165123fb027\",\"type\":\"BasicTickFormatter\"},\"major_label_overrides\":{\"0.5\":\"_EOS_\",\"1.5\":\".\",\"10.5\":\"_BOS_\",\"2.5\":\"away\",\"3.5\":\"km\",\"4.5\":\"26\",\"5.5\":\"is\",\"6.5\":\"26\",\"7.5\":\",\",\"8.5\":\"26\",\"9.5\":\"\\u0161i@@\"},\"plot\":{\"id\":\"a2b43ed3-8d15-427c-b8a7-f486b72d1276\",\"subtype\":\"Figure\",\"type\":\"Plot\"},\"ticker\":{\"id\":\"bdc8e74f-52c7-4fdd-ae64-baf4af437750\",\"type\":\"FixedTicker\"}},\"id\":\"e739f709-1af8-4ca5-b916-59fc87d155e4\",\"type\":\"LinearAxis\"},{\"attributes\":{\"palette\":[\"#000000\",\"#252525\",\"#525252\",\"#737373\",\"#969696\",\"#bdbdbd\",\"#d9d9d9\",\"#f0f0f0\",\"#ffffff\"]},\"id\":\"b485de09-6dda-44e2-9184-0e500b5da4c4\",\"type\":\"LinearColorMapper\"},{\"attributes\":{\"axis_label\":\"source tokens\",\"formatter\":{\"id\":\"c3766d17-7ac0-4d5f-8439-df21c60dc3e4\",\"type\":\"BasicTickFormatter\"},\"major_label_orientation\":45,\"major_label_overrides\":{\"0.5\":\"_BOS_\",\"1.5\":\"\\u0440\\u0430\\u0441\\u0441\\u0442\\u043e\\u044f\\u043d\\u0438\\u0435\",\"10.5\":\"\\u043a\\u043c\",\"11.5\":\".\",\"12.5\":\"_EOS_\",\"2.5\":\"\\u0434\\u043e\",\"3.5\":\"\\u0433\\u043e\\u0440\\u043e\\u0434\\u0430\",\"4.5\":\"\\u043a\\u0438@@\",\"5.5\":\"\\u0441\\u0441\\u0438@@\",\"6.5\":\"\\u043c@@\",\"7.5\":\"\\u043c\\u0438\",\"8.5\":\"\\u0441\\u043e\\u0441\\u0442\\u0430\\u0432\\u043b\\u044f\\u0435\\u0442\",\"9.5\":\"26\"},\"plot\":{\"id\":\"a2b43ed3-8d15-427c-b8a7-f486b72d1276\",\"subtype\":\"Figure\",\"type\":\"Plot\"},\"ticker\":{\"id\":\"b18558df-636b-4cce-a0c8-31e9f12400ad\",\"type\":\"FixedTicker\"}},\"id\":\"b753b2e0-9f61-4d5d-a016-0d29dfb4cf10\",\"type\":\"LinearAxis\"},{\"attributes\":{\"ticks\":[0.5,1.5,2.5,3.5,4.5,5.5,6.5,7.5,8.5,9.5,10.5]},\"id\":\"bdc8e74f-52c7-4fdd-ae64-baf4af437750\",\"type\":\"FixedTicker\"},{\"attributes\":{\"callback\":null,\"data\":{\"image\":[{\"__ndarray__\":\"xOwFPwRwiz7pE7U9CXyBPWuYAT3+E0U8UTEgOyOSEjqD3iU5d9GjOiy/7DlkakM7zZCyOvn7Aj+Hw38+yi2tPSdUoT1sdks9RRRFPEziojvHXKY6iEICOl33SjpC0sE5U9VTO2DdHjv5jMA+pFEFPh03Sj0dhEk98jAtPIOJijtUsjQ82rsWO/hWBDrqzhA8hRmJPKvBij61QI89T1EhPcJAvjxpOZ08euTKPM3B7TpeQIo61uWhOauiWjpCVCo5GFiWPIL+oj7tnQM/v2cdPXoePT1RXa48si1ZPKjEizziKT08zBi+PMqt4jzth348LyKOO9vlVD70+WY+aeZwPg3WGj5rYJY9Ww+PPRwrKT39TGA93cYzPQSYwD2zAzc9fQyOPU9xJT27x4A+i6ndPfMgWT2lcWM99B5XPevGdT1C6Y49S1+7PatW1jzETDo92HinPA1AmDyZhow7/UJdPrPT0T23qyc+XhAEPjGnjj3jWiE972DsPMwMBj1WIIE9NVdLPVO6jD26UC899clDPSckOj3eZGI8FLeFPhSfcj4NWgs9arVSPU4zVj2y1uU9yD6dPrz3Uz5+A0w9xcXKPLIdLDzcZ2g8b04lO6h5fT0o8pM95c+SPMk8izw/u5Y85JUvPQhFNz5Vh8M9v6EIPm/5Dz5pyZE96qT3PSKuqDzK1BI9B7faPeXPkjzJPIs8P7uWPOSVLz0IRTc+VYfDPb+hCD5v+Q8+acmRPeqk9z0irqg8ytQSPQe32j0=\",\"dtype\":\"float32\",\"shape\":[11,13]}]},\"selected\":{\"id\":\"fcecb963-8d5c-499e-a23b-795c58ebefd2\",\"type\":\"Selection\"},\"selection_policy\":{\"id\":\"9ea34324-b753-44bd-ae99-f2c93520ccad\",\"type\":\"UnionRenderers\"}},\"id\":\"2d7c9443-080f-4743-8249-2d5e0efcf1fe\",\"type\":\"ColumnDataSource\"},{\"attributes\":{\"callback\":null,\"end\":13},\"id\":\"b26e55d5-d78f-4d1f-8c86-402d8275c23c\",\"type\":\"Range1d\"},{\"attributes\":{\"color_mapper\":{\"id\":\"937db322-e863-4317-8cc0-a43f49805278\",\"type\":\"LinearColorMapper\"},\"dh\":{\"units\":\"data\",\"value\":11},\"dw\":{\"units\":\"data\",\"value\":13},\"image\":{\"field\":\"image\"},\"x\":{\"value\":0},\"y\":{\"value\":0}},\"id\":\"562872f6-635b-4826-934c-4c51770c30e9\",\"type\":\"Image\"},{\"attributes\":{\"plot\":null,\"text\":\"\"},\"id\":\"97df0cd6-dbd0-497d-9528-cb7cb68804f5\",\"type\":\"Title\"},{\"attributes\":{\"above\":[{\"id\":\"b753b2e0-9f61-4d5d-a016-0d29dfb4cf10\",\"type\":\"LinearAxis\"}],\"left\":[{\"id\":\"e739f709-1af8-4ca5-b916-59fc87d155e4\",\"type\":\"LinearAxis\"}],\"renderers\":[{\"id\":\"5501bf6c-56a4-4d63-aa59-f574ec65cb75\",\"type\":\"GlyphRenderer\"},{\"id\":\"b753b2e0-9f61-4d5d-a016-0d29dfb4cf10\",\"type\":\"LinearAxis\"},{\"id\":\"e739f709-1af8-4ca5-b916-59fc87d155e4\",\"type\":\"LinearAxis\"}],\"title\":{\"id\":\"97df0cd6-dbd0-497d-9528-cb7cb68804f5\",\"type\":\"Title\"},\"toolbar\":{\"id\":\"800e0ba5-dbd3-4b99-ada8-6f1e814e8fc7\",\"type\":\"Toolbar\"},\"x_range\":{\"id\":\"b26e55d5-d78f-4d1f-8c86-402d8275c23c\",\"type\":\"Range1d\"},\"x_scale\":{\"id\":\"76d29651-cbd2-4b26-9138-5f6a382aa813\",\"type\":\"LinearScale\"},\"y_range\":{\"id\":\"3604e80e-43af-4de5-93e6-d2a49da0ff01\",\"type\":\"Range1d\"},\"y_scale\":{\"id\":\"e29eb705-b5e7-4c61-bdcf-582efe85c981\",\"type\":\"LinearScale\"}},\"id\":\"a2b43ed3-8d15-427c-b8a7-f486b72d1276\",\"subtype\":\"Figure\",\"type\":\"Plot\"}],\"root_ids\":[\"a2b43ed3-8d15-427c-b8a7-f486b72d1276\"]},\"title\":\"Bokeh Application\",\"version\":\"0.13.0\"}};\n",
       "  var render_items = [{\"docid\":\"0ff59712-83e6-4239-90ee-6b28328bf09a\",\"roots\":{\"a2b43ed3-8d15-427c-b8a7-f486b72d1276\":\"f03e94e2-a9ad-4abe-9d9d-d2b27e5b1ea9\"}}];\n",
       "  root.Bokeh.embed.embed_items_notebook(docs_json, render_items);\n",
       "\n",
       "  }\n",
       "  if (root.Bokeh !== undefined) {\n",
       "    embed_document(root);\n",
       "  } else {\n",
       "    var attempts = 0;\n",
       "    var timer = setInterval(function(root) {\n",
       "      if (root.Bokeh !== undefined) {\n",
       "        embed_document(root);\n",
       "        clearInterval(timer);\n",
       "      }\n",
       "      attempts++;\n",
       "      if (attempts > 100) {\n",
       "        console.log(\"Bokeh: ERROR: Unable to run BokehJS code because BokehJS library is missing\")\n",
       "        clearInterval(timer);\n",
       "      }\n",
       "    }, 10, root)\n",
       "  }\n",
       "})(window);"
      ],
      "application/vnd.bokehjs_exec.v0+json": ""
     },
     "metadata": {
      "application/vnd.bokehjs_exec.v0+json": {
       "id": "a2b43ed3-8d15-427c-b8a7-f486b72d1276"
      }
     },
     "output_type": "display_data"
    },
    {
     "data": {
      "text/html": [
       "\n",
       "\n",
       "\n",
       "\n",
       "\n",
       "\n",
       "  <div class=\"bk-root\" id=\"d488430d-498a-4b95-b351-2fd54d5c246f\"></div>\n"
      ]
     },
     "metadata": {},
     "output_type": "display_data"
    },
    {
     "data": {
      "application/javascript": [
       "(function(root) {\n",
       "  function embed_document(root) {\n",
       "    \n",
       "  var docs_json = {\"0d523b6e-a5f7-432b-9dd5-feedbe8a1e45\":{\"roots\":{\"references\":[{\"attributes\":{\"source\":{\"id\":\"2b6e8e46-b0a6-4c10-9f00-cb4cb8cc9f9e\",\"type\":\"ColumnDataSource\"}},\"id\":\"967d4fff-d217-4343-9a13-7b3973e8d750\",\"type\":\"CDSView\"},{\"attributes\":{},\"id\":\"090fec58-e7df-4b48-8a0d-f23b643175f7\",\"type\":\"Selection\"},{\"attributes\":{},\"id\":\"9a141379-9b21-49f5-a061-a1ed892174ba\",\"type\":\"BasicTickFormatter\"},{\"attributes\":{\"palette\":[\"#000000\",\"#252525\",\"#525252\",\"#737373\",\"#969696\",\"#bdbdbd\",\"#d9d9d9\",\"#f0f0f0\",\"#ffffff\"]},\"id\":\"60ed4059-3e25-461d-8a84-df95cc8fcee3\",\"type\":\"LinearColorMapper\"},{\"attributes\":{\"above\":[{\"id\":\"9073b8c2-89ef-47c4-9bcd-7909cc2a2a79\",\"type\":\"LinearAxis\"}],\"left\":[{\"id\":\"c3a22b35-1680-4fa4-a6e4-f0b88fbcb6d2\",\"type\":\"LinearAxis\"}],\"renderers\":[{\"id\":\"7735f47c-bd0f-4c18-ab52-f0191c070e2e\",\"type\":\"GlyphRenderer\"},{\"id\":\"9073b8c2-89ef-47c4-9bcd-7909cc2a2a79\",\"type\":\"LinearAxis\"},{\"id\":\"c3a22b35-1680-4fa4-a6e4-f0b88fbcb6d2\",\"type\":\"LinearAxis\"}],\"title\":{\"id\":\"300d8b80-971f-49f8-947f-74e5e259f05d\",\"type\":\"Title\"},\"toolbar\":{\"id\":\"3e95dbb3-1a5f-4327-b006-a7e5c206d627\",\"type\":\"Toolbar\"},\"x_range\":{\"id\":\"d5301abb-4e98-4ee1-b039-f308b8653c45\",\"type\":\"Range1d\"},\"x_scale\":{\"id\":\"4d55dc6e-abdd-41e9-83ba-50327f11cd86\",\"type\":\"LinearScale\"},\"y_range\":{\"id\":\"60388031-f6d7-46af-b8a8-6a8a7c273bc0\",\"type\":\"Range1d\"},\"y_scale\":{\"id\":\"3570999a-0706-4565-809f-7c736a84040c\",\"type\":\"LinearScale\"}},\"id\":\"386dd95e-7972-44c7-a0e9-270eb30f2e25\",\"subtype\":\"Figure\",\"type\":\"Plot\"},{\"attributes\":{\"callback\":null,\"data\":{\"image\":[{\"__ndarray__\":\"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\",\"dtype\":\"float32\",\"shape\":[29,32]}]},\"selected\":{\"id\":\"090fec58-e7df-4b48-8a0d-f23b643175f7\",\"type\":\"Selection\"},\"selection_policy\":{\"id\":\"1bd31a38-d94a-4b7b-9ea1-b311aba8cc80\",\"type\":\"UnionRenderers\"}},\"id\":\"2b6e8e46-b0a6-4c10-9f00-cb4cb8cc9f9e\",\"type\":\"ColumnDataSource\"},{\"attributes\":{},\"id\":\"4d55dc6e-abdd-41e9-83ba-50327f11cd86\",\"type\":\"LinearScale\"},{\"attributes\":{\"color_mapper\":{\"id\":\"60ed4059-3e25-461d-8a84-df95cc8fcee3\",\"type\":\"LinearColorMapper\"},\"dh\":{\"units\":\"data\",\"value\":29},\"dw\":{\"units\":\"data\",\"value\":32},\"image\":{\"field\":\"image\"},\"x\":{\"value\":0},\"y\":{\"value\":0}},\"id\":\"3c6b9e82-b2cd-46ae-b56a-2b36c2a39217\",\"type\":\"Image\"},{\"attributes\":{\"axis_label\":\"source tokens\",\"formatter\":{\"id\":\"06df6937-eb22-4588-b891-3b225a02b6f8\",\"type\":\"BasicTickFormatter\"},\"major_label_orientation\":45,\"major_label_overrides\":{\"0.5\":\"_BOS_\",\"1.5\":\"\\u0430\\u043f\\u0430\\u0440\\u0442\\u0430\\u043c\\u0435\\u043d\\u0442\\u044b\",\"10.5\":\"\\u0441\\u0430\\u0434\\u043e\\u043c\",\"11.5\":\",\",\"12.5\":\"\\u043a\\u043e\\u043d\\u0434\\u0438\\u0446\\u0438\\u043e\\u043d\\u0435\\u0440\\u043e\\u043c\",\"13.5\":\"\\u0438\",\"14.5\":\"\\u0442\\u0435\\u0440\\u0440\\u0430\\u0441\\u043e\\u0439\",\"15.5\":\"\\u0434\\u043b\\u044f\",\"16.5\":\"\\u0437\\u0430\\u0433\\u0430\\u0440\\u0430\",\"17.5\":\"\\u0440\\u0430\\u0441\\u043f\\u043e\\u043b\\u043e\\u0436\\u0435\\u043d\\u044b\",\"18.5\":\"\\u0432\",\"19.5\":\"5\",\"2.5\":\"\\u0432\",\"20.5\":\"\\u043c\\u0438\\u043d\\u0443\\u0442\\u0430\\u0445\",\"21.5\":\"\\u0445\\u043e\\u0434\\u044c\\u0431\\u044b\",\"22.5\":\"\\u043e\\u0442\",\"23.5\":\"\\u043f\\u043b\\u044f\\u0436\\u0430\",\"24.5\":\"\\u043d\\u0430\",\"25.5\":\"\\u043a\\u0443\\u0440\\u043e\\u0440\\u0442\\u0435\",\"26.5\":\"\\u043a\\u0430@@\",\"27.5\":\"\\u0431\\u043e\",\"28.5\":\"-\",\"29.5\":\"\\u0440\\u043e\\u0439\",\"3.5\":\"\\u043f\\u0435\\u043d\\u0442@@\",\"30.5\":\".\",\"31.5\":\"_EOS_\",\"4.5\":\"\\u0445\\u0430\\u0443\\u0441\\u0435\",\"5.5\":\"\\u0441\",\"6.5\":\"\\u043e\\u0431\\u0449\\u0438\\u043c\",\"7.5\":\"\\u043e\\u0442\\u043a\\u0440\\u044b\\u0442\\u044b\\u043c\",\"8.5\":\"\\u0431\\u0430\\u0441\\u0441\\u0435\\u0439\\u043d\\u043e\\u043c\",\"9.5\":\",\"},\"plot\":{\"id\":\"386dd95e-7972-44c7-a0e9-270eb30f2e25\",\"subtype\":\"Figure\",\"type\":\"Plot\"},\"ticker\":{\"id\":\"f48b35b4-13d5-4887-a7f3-148b2ed055b2\",\"type\":\"FixedTicker\"}},\"id\":\"9073b8c2-89ef-47c4-9bcd-7909cc2a2a79\",\"type\":\"LinearAxis\"},{\"attributes\":{\"callback\":null,\"end\":32},\"id\":\"d5301abb-4e98-4ee1-b039-f308b8653c45\",\"type\":\"Range1d\"},{\"attributes\":{\"palette\":[\"#000000\",\"#252525\",\"#525252\",\"#737373\",\"#969696\",\"#bdbdbd\",\"#d9d9d9\",\"#f0f0f0\",\"#ffffff\"]},\"id\":\"5b16b59a-627c-4c2d-a59b-2c0e5ff1d546\",\"type\":\"LinearColorMapper\"},{\"attributes\":{\"color_mapper\":{\"id\":\"5b16b59a-627c-4c2d-a59b-2c0e5ff1d546\",\"type\":\"LinearColorMapper\"},\"dh\":{\"units\":\"data\",\"value\":29},\"dw\":{\"units\":\"data\",\"value\":32},\"image\":{\"field\":\"image\"},\"x\":{\"value\":0},\"y\":{\"value\":0}},\"id\":\"9549dbb1-91fa-49f0-af3b-b48ab8f80b7c\",\"type\":\"Image\"},{\"attributes\":{},\"id\":\"1bd31a38-d94a-4b7b-9ea1-b311aba8cc80\",\"type\":\"UnionRenderers\"},{\"attributes\":{\"ticks\":[0.5,1.5,2.5,3.5,4.5,5.5,6.5,7.5,8.5,9.5,10.5,11.5,12.5,13.5,14.5,15.5,16.5,17.5,18.5,19.5,20.5,21.5,22.5,23.5,24.5,25.5,26.5,27.5,28.5]},\"id\":\"36d89c9a-b669-45a0-9c44-573c6856fb9f\",\"type\":\"FixedTicker\"},{\"attributes\":{\"callback\":null,\"end\":29},\"id\":\"60388031-f6d7-46af-b8a8-6a8a7c273bc0\",\"type\":\"Range1d\"},{\"attributes\":{\"axis_label\":\"translation tokens\",\"formatter\":{\"id\":\"9a141379-9b21-49f5-a061-a1ed892174ba\",\"type\":\"BasicTickFormatter\"},\"major_label_overrides\":{\"0.5\":\"_EOS_\",\"1.5\":\".\",\"10.5\":\",\",\"11.5\":\"area\",\"12.5\":\"rol\",\"13.5\":\"la@@\",\"14.5\":\"agios\",\"15.5\":\"in\",\"16.5\":\"located\",\"17.5\":\"is\",\"18.5\":\"villa\",\"19.5\":\"apartment\",\"2.5\":\"garden\",\"20.5\":\"garden\",\"21.5\":\",\",\"22.5\":\"facilities\",\"23.5\":\"barbecue\",\"24.5\":\"with\",\"25.5\":\"garden\",\"26.5\":\"a\",\"27.5\":\"offering\",\"28.5\":\"_BOS_\",\"3.5\":\"a\",\"4.5\":\"and\",\"5.5\":\"garden\",\"6.5\":\"a\",\"7.5\":\"with\",\"8.5\":\"garden\",\"9.5\":\"a\"},\"plot\":{\"id\":\"386dd95e-7972-44c7-a0e9-270eb30f2e25\",\"subtype\":\"Figure\",\"type\":\"Plot\"},\"ticker\":{\"id\":\"36d89c9a-b669-45a0-9c44-573c6856fb9f\",\"type\":\"FixedTicker\"}},\"id\":\"c3a22b35-1680-4fa4-a6e4-f0b88fbcb6d2\",\"type\":\"LinearAxis\"},{\"attributes\":{\"active_drag\":\"auto\",\"active_inspect\":\"auto\",\"active_multi\":null,\"active_scroll\":\"auto\",\"active_tap\":\"auto\"},\"id\":\"3e95dbb3-1a5f-4327-b006-a7e5c206d627\",\"type\":\"Toolbar\"},{\"attributes\":{},\"id\":\"3570999a-0706-4565-809f-7c736a84040c\",\"type\":\"LinearScale\"},{\"attributes\":{},\"id\":\"06df6937-eb22-4588-b891-3b225a02b6f8\",\"type\":\"BasicTickFormatter\"},{\"attributes\":{\"plot\":null,\"text\":\"\"},\"id\":\"300d8b80-971f-49f8-947f-74e5e259f05d\",\"type\":\"Title\"},{\"attributes\":{\"data_source\":{\"id\":\"2b6e8e46-b0a6-4c10-9f00-cb4cb8cc9f9e\",\"type\":\"ColumnDataSource\"},\"glyph\":{\"id\":\"9549dbb1-91fa-49f0-af3b-b48ab8f80b7c\",\"type\":\"Image\"},\"hover_glyph\":null,\"muted_glyph\":null,\"nonselection_glyph\":{\"id\":\"3c6b9e82-b2cd-46ae-b56a-2b36c2a39217\",\"type\":\"Image\"},\"selection_glyph\":null,\"view\":{\"id\":\"967d4fff-d217-4343-9a13-7b3973e8d750\",\"type\":\"CDSView\"}},\"id\":\"7735f47c-bd0f-4c18-ab52-f0191c070e2e\",\"type\":\"GlyphRenderer\"},{\"attributes\":{\"ticks\":[0.5,1.5,2.5,3.5,4.5,5.5,6.5,7.5,8.5,9.5,10.5,11.5,12.5,13.5,14.5,15.5,16.5,17.5,18.5,19.5,20.5,21.5,22.5,23.5,24.5,25.5,26.5,27.5,28.5,29.5,30.5,31.5]},\"id\":\"f48b35b4-13d5-4887-a7f3-148b2ed055b2\",\"type\":\"FixedTicker\"}],\"root_ids\":[\"386dd95e-7972-44c7-a0e9-270eb30f2e25\"]},\"title\":\"Bokeh Application\",\"version\":\"0.13.0\"}};\n",
       "  var render_items = [{\"docid\":\"0d523b6e-a5f7-432b-9dd5-feedbe8a1e45\",\"roots\":{\"386dd95e-7972-44c7-a0e9-270eb30f2e25\":\"d488430d-498a-4b95-b351-2fd54d5c246f\"}}];\n",
       "  root.Bokeh.embed.embed_items_notebook(docs_json, render_items);\n",
       "\n",
       "  }\n",
       "  if (root.Bokeh !== undefined) {\n",
       "    embed_document(root);\n",
       "  } else {\n",
       "    var attempts = 0;\n",
       "    var timer = setInterval(function(root) {\n",
       "      if (root.Bokeh !== undefined) {\n",
       "        embed_document(root);\n",
       "        clearInterval(timer);\n",
       "      }\n",
       "      attempts++;\n",
       "      if (attempts > 100) {\n",
       "        console.log(\"Bokeh: ERROR: Unable to run BokehJS code because BokehJS library is missing\")\n",
       "        clearInterval(timer);\n",
       "      }\n",
       "    }, 10, root)\n",
       "  }\n",
       "})(window);"
      ],
      "application/vnd.bokehjs_exec.v0+json": ""
     },
     "metadata": {
      "application/vnd.bokehjs_exec.v0+json": {
       "id": "386dd95e-7972-44c7-a0e9-270eb30f2e25"
      }
     },
     "output_type": "display_data"
    },
    {
     "data": {
      "text/html": [
       "\n",
       "\n",
       "\n",
       "\n",
       "\n",
       "\n",
       "  <div class=\"bk-root\" id=\"dfb8bc86-1102-47f2-a6db-aa07b5a10740\"></div>\n"
      ]
     },
     "metadata": {},
     "output_type": "display_data"
    },
    {
     "data": {
      "application/javascript": [
       "(function(root) {\n",
       "  function embed_document(root) {\n",
       "    \n",
       "  var docs_json = {\"f3669a28-2208-4196-beee-578e67f16f09\":{\"roots\":{\"references\":[{\"attributes\":{\"ticks\":[0.5,1.5,2.5,3.5,4.5,5.5,6.5,7.5,8.5,9.5,10.5,11.5,12.5,13.5,14.5,15.5,16.5,17.5,18.5,19.5,20.5,21.5,22.5]},\"id\":\"48c4a285-146e-4bf0-a314-490972bfd4c6\",\"type\":\"FixedTicker\"},{\"attributes\":{\"axis_label\":\"translation tokens\",\"formatter\":{\"id\":\"a660e8a2-7e46-441d-af6d-5faa4caa202b\",\"type\":\"BasicTickFormatter\"},\"major_label_overrides\":{\"0.5\":\"_EOS_\",\"1.5\":\".\",\"10.5\":\",\",\"11.5\":\"petersburg\",\"12.5\":\"saint\",\"13.5\":\"in\",\"14.5\":\"located\",\"15.5\":\"are\",\"16.5\":\"apartments\",\"17.5\":\"trastevere\",\"18.5\":\"in\",\"19.5\":\"apartments\",\"2.5\":\"petersburg\",\"20.5\":\"all\",\"21.5\":\"_BOS_\",\"3.5\":\"saint\",\"4.5\":\"of\",\"5.5\":\"cathedral\",\"6.5\":\"the\",\"7.5\":\"from\",\"8.5\":\"metres\",\"9.5\":\"200\"},\"plot\":{\"id\":\"61327dac-6c0e-4224-86c3-c0bba2bc5a25\",\"subtype\":\"Figure\",\"type\":\"Plot\"},\"ticker\":{\"id\":\"7c1275c5-9b7b-48db-9e4f-2f0d714ce75d\",\"type\":\"FixedTicker\"}},\"id\":\"2ec1c555-cc50-4cd7-9777-0fca6dbfe198\",\"type\":\"LinearAxis\"},{\"attributes\":{\"callback\":null,\"end\":22},\"id\":\"29bb3287-b1db-4661-8120-ebdf8b76384e\",\"type\":\"Range1d\"},{\"attributes\":{\"color_mapper\":{\"id\":\"39053a89-7d5d-47b7-8653-59d89d290229\",\"type\":\"LinearColorMapper\"},\"dh\":{\"units\":\"data\",\"value\":22},\"dw\":{\"units\":\"data\",\"value\":23},\"image\":{\"field\":\"image\"},\"x\":{\"value\":0},\"y\":{\"value\":0}},\"id\":\"691bde1e-bf2b-4b13-b60e-7d22432a4aae\",\"type\":\"Image\"},{\"attributes\":{\"source\":{\"id\":\"2872094a-d376-4321-9c64-877937f59d2a\",\"type\":\"ColumnDataSource\"}},\"id\":\"4247a979-a095-4310-b0d3-03bca5581609\",\"type\":\"CDSView\"},{\"attributes\":{},\"id\":\"a660e8a2-7e46-441d-af6d-5faa4caa202b\",\"type\":\"BasicTickFormatter\"},{\"attributes\":{},\"id\":\"f827fcf4-be78-4296-8b6e-e0187f6f10b7\",\"type\":\"Selection\"},{\"attributes\":{\"data_source\":{\"id\":\"2872094a-d376-4321-9c64-877937f59d2a\",\"type\":\"ColumnDataSource\"},\"glyph\":{\"id\":\"7d79f89b-bf57-4417-a1a9-87c9d6f909cc\",\"type\":\"Image\"},\"hover_glyph\":null,\"muted_glyph\":null,\"nonselection_glyph\":{\"id\":\"691bde1e-bf2b-4b13-b60e-7d22432a4aae\",\"type\":\"Image\"},\"selection_glyph\":null,\"view\":{\"id\":\"4247a979-a095-4310-b0d3-03bca5581609\",\"type\":\"CDSView\"}},\"id\":\"6a4e5718-8a32-400d-9d88-1dab0c656ded\",\"type\":\"GlyphRenderer\"},{\"attributes\":{\"ticks\":[0.5,1.5,2.5,3.5,4.5,5.5,6.5,7.5,8.5,9.5,10.5,11.5,12.5,13.5,14.5,15.5,16.5,17.5,18.5,19.5,20.5,21.5]},\"id\":\"7c1275c5-9b7b-48db-9e4f-2f0d714ce75d\",\"type\":\"FixedTicker\"},{\"attributes\":{\"callback\":null,\"end\":23},\"id\":\"c58fd81f-6c35-4bb9-9a21-1be4a5853819\",\"type\":\"Range1d\"},{\"attributes\":{},\"id\":\"6ecdf9b2-478e-4dba-95d8-a60e5763efbd\",\"type\":\"UnionRenderers\"},{\"attributes\":{},\"id\":\"73ac2a96-13f8-4948-9b85-7ff694d3fde5\",\"type\":\"BasicTickFormatter\"},{\"attributes\":{\"palette\":[\"#000000\",\"#252525\",\"#525252\",\"#737373\",\"#969696\",\"#bdbdbd\",\"#d9d9d9\",\"#f0f0f0\",\"#ffffff\"]},\"id\":\"39053a89-7d5d-47b7-8653-59d89d290229\",\"type\":\"LinearColorMapper\"},{\"attributes\":{},\"id\":\"a207ac1c-8d86-46be-9cfb-c53445562dc1\",\"type\":\"LinearScale\"},{\"attributes\":{\"axis_label\":\"source tokens\",\"formatter\":{\"id\":\"73ac2a96-13f8-4948-9b85-7ff694d3fde5\",\"type\":\"BasicTickFormatter\"},\"major_label_orientation\":45,\"major_label_overrides\":{\"0.5\":\"_BOS_\",\"1.5\":\"\\u0430\\u043f\\u0430\\u0440\\u0442\\u0430\\u043c\\u0435\\u043d\\u0442\\u044b\",\"10.5\":\"square\",\"11.5\":\"\\u043d\\u0430\\u0445\\u043e\\u0434\\u044f\\u0442\\u0441\\u044f\",\"12.5\":\"\\u0432\",\"13.5\":\"\\u043c\\u043e\\u0441\\u043a\\u0432\\u0435\",\"14.5\":\",\",\"15.5\":\"\\u0432\",\"16.5\":\"200\",\"17.5\":\"\\u043c\\u0435\\u0442\\u0440\\u0430\\u0445\",\"18.5\":\"\\u043e\\u0442\",\"19.5\":\"\\u0431\\u043e\\u043b\\u044c\\u0448\\u043e\\u0433\\u043e\",\"2.5\":\"mo@@\",\"20.5\":\"\\u0442\\u0435\\u0430\\u0442\\u0440\\u0430\",\"21.5\":\".\",\"22.5\":\"_EOS_\",\"3.5\":\"s@@\",\"4.5\":\"co@@\",\"5.5\":\"w\",\"6.5\":\"point\",\"7.5\":\"-\",\"8.5\":\"loft\",\"9.5\":\"red\"},\"plot\":{\"id\":\"61327dac-6c0e-4224-86c3-c0bba2bc5a25\",\"subtype\":\"Figure\",\"type\":\"Plot\"},\"ticker\":{\"id\":\"48c4a285-146e-4bf0-a314-490972bfd4c6\",\"type\":\"FixedTicker\"}},\"id\":\"8f550b3e-b3ee-4b07-a298-c891cea8fd73\",\"type\":\"LinearAxis\"},{\"attributes\":{},\"id\":\"4efda822-4075-4add-8f6e-b4ed929c338a\",\"type\":\"LinearScale\"},{\"attributes\":{\"color_mapper\":{\"id\":\"bf764492-dbfb-41c8-b37c-4ea2cc4dec09\",\"type\":\"LinearColorMapper\"},\"dh\":{\"units\":\"data\",\"value\":22},\"dw\":{\"units\":\"data\",\"value\":23},\"image\":{\"field\":\"image\"},\"x\":{\"value\":0},\"y\":{\"value\":0}},\"id\":\"7d79f89b-bf57-4417-a1a9-87c9d6f909cc\",\"type\":\"Image\"},{\"attributes\":{\"active_drag\":\"auto\",\"active_inspect\":\"auto\",\"active_multi\":null,\"active_scroll\":\"auto\",\"active_tap\":\"auto\"},\"id\":\"37af7dfb-1f21-4e41-9e6e-a44277fb1d31\",\"type\":\"Toolbar\"},{\"attributes\":{\"above\":[{\"id\":\"8f550b3e-b3ee-4b07-a298-c891cea8fd73\",\"type\":\"LinearAxis\"}],\"left\":[{\"id\":\"2ec1c555-cc50-4cd7-9777-0fca6dbfe198\",\"type\":\"LinearAxis\"}],\"renderers\":[{\"id\":\"6a4e5718-8a32-400d-9d88-1dab0c656ded\",\"type\":\"GlyphRenderer\"},{\"id\":\"8f550b3e-b3ee-4b07-a298-c891cea8fd73\",\"type\":\"LinearAxis\"},{\"id\":\"2ec1c555-cc50-4cd7-9777-0fca6dbfe198\",\"type\":\"LinearAxis\"}],\"title\":{\"id\":\"5f65cc2d-fea7-4936-8ec2-dcfe55519245\",\"type\":\"Title\"},\"toolbar\":{\"id\":\"37af7dfb-1f21-4e41-9e6e-a44277fb1d31\",\"type\":\"Toolbar\"},\"x_range\":{\"id\":\"c58fd81f-6c35-4bb9-9a21-1be4a5853819\",\"type\":\"Range1d\"},\"x_scale\":{\"id\":\"a207ac1c-8d86-46be-9cfb-c53445562dc1\",\"type\":\"LinearScale\"},\"y_range\":{\"id\":\"29bb3287-b1db-4661-8120-ebdf8b76384e\",\"type\":\"Range1d\"},\"y_scale\":{\"id\":\"4efda822-4075-4add-8f6e-b4ed929c338a\",\"type\":\"LinearScale\"}},\"id\":\"61327dac-6c0e-4224-86c3-c0bba2bc5a25\",\"subtype\":\"Figure\",\"type\":\"Plot\"},{\"attributes\":{\"plot\":null,\"text\":\"\"},\"id\":\"5f65cc2d-fea7-4936-8ec2-dcfe55519245\",\"type\":\"Title\"},{\"attributes\":{\"callback\":null,\"data\":{\"image\":[{\"__ndarray__\":\"aTV7PqyEsT3xa7U8l2mBO/ne0Dv7sEk87QFEPDnQRjyY26U8t5YlPOauZj1TWrM8RcQ4PAOuYz19Y4M8gHyXPG+MrD2NjYQ9cZ2jPO8fNT1nXIM9FfiRPRE3Jj07lHI+uzuvPVidGjwozTE7BWA2O+qb5DwgPYA8m3yPPJjKpzy7jbs8deqwPUPWIDzjo7M778wjPRNwATuDQM06YdJePDYvbTxKu6Q8hgmQPULOmT3q8Q8+KkqhPVvUXT13Xlc9dFkwPBmPyjoJWAE7sDHfOwXroDuJO8Y7ywozPA2w4juKLA4+YDSaPCJ7+zs7o/49tm2SPDdMPjxhqVQ+pU2iPbJWDT2Lz4I9iVImPSJOOT3RRVk9DM+iPgnHbT5cUrs8BKy+OiX2fTqAWSY7nFIFO5zOUTrH+wI8cGyEO480nT3LSKI7nMjkOoZ3iTyqcpY7GOOYO3KChT3hDzE9+u7cO1qAOD0l9Rg9XuU5PRT6Xz3rGVE9v4ZDPd3mSTxkMQs7YQf+OjAiXzyy+ic8FqzKOxoZrDyhZp48fGRrPkJilDw1jIU79VqfPXC2fzyMMZ0702R7PTwwyD3vnws9yvVHPbrFXD2Aef89iRMyPfKKjj2twYQ9civRPJs18zu7OSI8olMQPY6ewDyyKGA8KdJgPDgDkTx1DwM+AxX6OyPrRzuolzg9Rk+ZPPhSjzt/pW48EtdpPCl+Djzqzh4+e3NKPd3FQD49Zac9Rv1+PDJXOz2monY9Zw2XPNHEPzxb8II9wEn8PH2yfjwy7cw8x5y4PKO68T2BEwI8tU39OmIFtj0LVKE8/333Oy1Xmj2Eh5E8ltWjO0rh0j1VWo49nAjJPa4snz1sJ2k7Mdb9O6ivDjwQMJk6TI4jOmq+mzoBj4Y7x1uFO1NSgTuQNDg6HLOuO2gNxzo0dmo6JeBIPcdAgzzrbkc7ZB8RPhB4Bz7ZSZ48+62YPiC3Iz4+jcM9+q4pPfKYOzuDts87d6ozO5fnqjlbegk5KPv+Oc164jnT+9o4PLg8O1aEczrzHU08xWaUOi46+jmxSIQ9CY9ZPTR5Bjs/Hmk98WZ9PrTF8Tya1ys+RrtKPl3QCD63an88UJImO1rvLDs3qlw62jvTOPdqUTkm4RM6VgD+OncGrDrSbRI874PQOkz0vTw2H8M7TTUdO2ff3T3Jh4U9bdQiPHCVKD7yAXk+YvV3PUx5Az5A2L09wSNYPUkztTyiAXw779sXPMHF+TrbpVk58ipFOc2EszpPdzc7vAWIOgwbozttm7o7DBvOPG6T9DqFAlc6ObiIPYXKOT6YRPo6Et5NPFh8+DzyEoQ8rLabPoh0ET727A4++Fs8PdgLODwMbgE9moDDPMaocjt7I/o6qOVjPHRhUzxits879i+PPKuDlDxxb4M9jH4gPN5MLDyUVIk9lvvJPpkWazyA3KM8k6cZPSZOjTxDLcc9rhl4PenVRD3hmJI8QHLKOkpQHDyahFI8NX9SOwN++DoXVTY8TT+CPN2bujueGPY8tYouPNzWqT1mkRk8/3gvO950Mj5YqnM+OxEGPCjeXj3q5gA+5p7ZPLNllj3Ywq89p1AnPFjUvjvXevE7j/GrPDSVmTwwCHw794clO8byvjtmSAA8Tj7BO9p+PzzZA3U7ZCAdPKMmKTy0NoE7OucKPnW7nD1KBMI7NJZhPQdq/j2UVyU94a4aPnaEhD4RbwU9lXf0O6IBuDvRAec7vTGTO8zLtzrNxAI7BAkQPMXhAjx87pE7zq0MPT9a2zzPHcI9QlBrPaB5IT0NqAI+qXexPua6Mz0fXuA8MR7nPJEvjTw8/VI9wZr9PEE2jDx0hnQ8YadrPQtPnT1uilg9kP9kPAgywzxl22I9SVzePNS4jjzV4Cw9GcxgPcTNHz6Lip8994ccPV5Coj37Qoo9nrY3Pa9JIT0q+c08QZ8MPLX4XDzRLWg8Y5hmO+c2IjzL9bA6fb6TPBSvAj4Tg2o9OgIqPbmczT3gZsg9p6gvPaGNmT2U+489I9MwPlUVzD1yHTw9aMVEPMPbzDy5M1E7LdbBOsVu1TphZbI6YTsXO1rt6DoI3bs5vuzmOTr+yjlIdgI70SrnPPg8LD1xNl89qVD9PR6iIT6RmL89r5EGPrk00j3QVMo9R1mTPVluozxc9/w8KmLAPMr8mDtzVgE7JXa9OlNpTzoH7CQ7lBSxOw/DPTro+5Q6u7YeOB5DCjqVjJ88nE3xPDn8Cz1iJhA+Dtm1Pe7noTzOOiI97gGJPS1drj7pHBs+Y2YEPQo9wjv+Yec8HIHwOdUZNzgxWzI4s87LOAXAtTnzyiQ6SFgZOfpqUjmKPQ46pn5JOxUyPD1Cq9U9Uk65PeAVjD7Eajs+fRWnPeN3yT3Zm409CkCdPFrTQzyz8II76gagO7h2mju90oM6/MzvOi3pOjqZHAQ5YK69OfHkMjp7rC85abOLOaSBWTwMDoM80YAHPQeiSz1O2Vw9fDS9Pd91ST5N5xk9ms+hPWHrmT3wUhA+dO+hPSc0/DzELbY8DWCMPHFGGjw1xQk8car1Oztjnjs76hg8aZYZPFx55Tuo+Og7pIFZPAwOgzzRgAc9B6JLPU7ZXD18NL0933VJPk3nGT2az6E9YeuZPfBSED5076E9JzT8PMQttjwNYIw8cUYaPDXFCTxxqvU7O2OeOzvqGDxplhk8XHnlO6j46Ds=\",\"dtype\":\"float32\",\"shape\":[22,23]}]},\"selected\":{\"id\":\"f827fcf4-be78-4296-8b6e-e0187f6f10b7\",\"type\":\"Selection\"},\"selection_policy\":{\"id\":\"6ecdf9b2-478e-4dba-95d8-a60e5763efbd\",\"type\":\"UnionRenderers\"}},\"id\":\"2872094a-d376-4321-9c64-877937f59d2a\",\"type\":\"ColumnDataSource\"},{\"attributes\":{\"palette\":[\"#000000\",\"#252525\",\"#525252\",\"#737373\",\"#969696\",\"#bdbdbd\",\"#d9d9d9\",\"#f0f0f0\",\"#ffffff\"]},\"id\":\"bf764492-dbfb-41c8-b37c-4ea2cc4dec09\",\"type\":\"LinearColorMapper\"}],\"root_ids\":[\"61327dac-6c0e-4224-86c3-c0bba2bc5a25\"]},\"title\":\"Bokeh Application\",\"version\":\"0.13.0\"}};\n",
       "  var render_items = [{\"docid\":\"f3669a28-2208-4196-beee-578e67f16f09\",\"roots\":{\"61327dac-6c0e-4224-86c3-c0bba2bc5a25\":\"dfb8bc86-1102-47f2-a6db-aa07b5a10740\"}}];\n",
       "  root.Bokeh.embed.embed_items_notebook(docs_json, render_items);\n",
       "\n",
       "  }\n",
       "  if (root.Bokeh !== undefined) {\n",
       "    embed_document(root);\n",
       "  } else {\n",
       "    var attempts = 0;\n",
       "    var timer = setInterval(function(root) {\n",
       "      if (root.Bokeh !== undefined) {\n",
       "        embed_document(root);\n",
       "        clearInterval(timer);\n",
       "      }\n",
       "      attempts++;\n",
       "      if (attempts > 100) {\n",
       "        console.log(\"Bokeh: ERROR: Unable to run BokehJS code because BokehJS library is missing\")\n",
       "        clearInterval(timer);\n",
       "      }\n",
       "    }, 10, root)\n",
       "  }\n",
       "})(window);"
      ],
      "application/vnd.bokehjs_exec.v0+json": ""
     },
     "metadata": {
      "application/vnd.bokehjs_exec.v0+json": {
       "id": "61327dac-6c0e-4224-86c3-c0bba2bc5a25"
      }
     },
     "output_type": "display_data"
    }
   ],
   "source": [
    "for i in range(5):\n",
    "    draw_attention(inp[i], trans[i], attention_probs[i])"
   ]
  },
  {
   "cell_type": "markdown",
   "metadata": {},
   "source": [
    "## Grand Finale (4+ points)\n",
    "\n",
    "We want you to find the best model for the task. Use everything you know.\n",
    "\n",
    "* different recurrent units: rnn/gru/lstm; deeper architectures\n",
    "* bidirectional encoder, different attention methods for decoder\n",
    "* word dropout, training schedules, anything you can imagine\n",
    "\n",
    "As usual, we want you to describe what you tried and what results you obtained."
   ]
  },
  {
   "cell_type": "markdown",
   "metadata": {
    "collapsed": true
   },
   "source": [
    "`[your report/log here or anywhere you please]`"
   ]
  },
  {
   "cell_type": "code",
   "execution_count": null,
   "metadata": {},
   "outputs": [],
   "source": []
  }
 ],
 "metadata": {
  "kernelspec": {
   "display_name": "Python 3",
   "language": "python",
   "name": "python3"
  },
  "language_info": {
   "codemirror_mode": {
    "name": "ipython",
    "version": 3
   },
   "file_extension": ".py",
   "mimetype": "text/x-python",
   "name": "python",
   "nbconvert_exporter": "python",
   "pygments_lexer": "ipython3",
   "version": "3.6.6"
  },
  "toc": {
   "base_numbering": 1,
   "nav_menu": {},
   "number_sections": true,
   "sideBar": true,
   "skip_h1_title": false,
   "title_cell": "Table of Contents",
   "title_sidebar": "Contents",
   "toc_cell": false,
   "toc_position": {},
   "toc_section_display": true,
   "toc_window_display": false
  }
 },
 "nbformat": 4,
 "nbformat_minor": 1
}
