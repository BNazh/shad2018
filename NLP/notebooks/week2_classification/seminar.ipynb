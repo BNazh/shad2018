{
 "cells": [
  {
   "cell_type": "markdown",
   "metadata": {
    "toc": true
   },
   "source": [
    "<h1>Table of Contents<span class=\"tocSkip\"></span></h1>\n",
    "<div class=\"toc\"><ul class=\"toc-item\"><li><span><a href=\"#Large-scale-text-analysis-with-deep-learning-(3-points)\" data-toc-modified-id=\"Large-scale-text-analysis-with-deep-learning-(3-points)-1\"><span class=\"toc-item-num\">1&nbsp;&nbsp;</span>Large scale text analysis with deep learning (3 points)</a></span><ul class=\"toc-item\"><li><ul class=\"toc-item\"><li><span><a href=\"#About-the-challenge\" data-toc-modified-id=\"About-the-challenge-1.0.1\"><span class=\"toc-item-num\">1.0.1&nbsp;&nbsp;</span>About the challenge</a></span></li><li><span><a href=\"#Preprocessing-text-data\" data-toc-modified-id=\"Preprocessing-text-data-1.0.2\"><span class=\"toc-item-num\">1.0.2&nbsp;&nbsp;</span>Preprocessing text data</a></span></li><li><span><a href=\"#The-deep-learning-part\" data-toc-modified-id=\"The-deep-learning-part-1.0.3\"><span class=\"toc-item-num\">1.0.3&nbsp;&nbsp;</span>The deep learning part</a></span><ul class=\"toc-item\"><li><span><a href=\"#Architecture\" data-toc-modified-id=\"Architecture-1.0.3.1\"><span class=\"toc-item-num\">1.0.3.1&nbsp;&nbsp;</span>Architecture</a></span></li><li><span><a href=\"#Training-and-evaluation\" data-toc-modified-id=\"Training-and-evaluation-1.0.3.2\"><span class=\"toc-item-num\">1.0.3.2&nbsp;&nbsp;</span>Training and evaluation</a></span></li></ul></li><li><span><a href=\"#Model-training\" data-toc-modified-id=\"Model-training-1.0.4\"><span class=\"toc-item-num\">1.0.4&nbsp;&nbsp;</span>Model training</a></span></li><li><span><a href=\"#Bonus-part:-explaining-model-predictions\" data-toc-modified-id=\"Bonus-part:-explaining-model-predictions-1.0.5\"><span class=\"toc-item-num\">1.0.5&nbsp;&nbsp;</span>Bonus part: explaining model predictions</a></span></li></ul></li></ul></li></ul></div>"
   ]
  },
  {
   "cell_type": "code",
   "execution_count": null,
   "metadata": {},
   "outputs": [],
   "source": []
  },
  {
   "cell_type": "markdown",
   "metadata": {},
   "source": [
    "# Large scale text analysis with deep learning (3 points)\n",
    "\n",
    "Today we're gonna apply the newly learned tools for the task of predicting job salary.\n",
    "\n",
    "<img src=\"https://kaggle2.blob.core.windows.net/competitions/kaggle/3342/media/salary%20prediction%20engine%20v2.png\" width=400px>\n",
    "\n",
    "_Special thanks to [Oleg Vasilev](https://github.com/Omrigan/) for the core assignment idea._"
   ]
  },
  {
   "cell_type": "code",
   "execution_count": 2,
   "metadata": {
    "ExecuteTime": {
     "end_time": "2018-09-26T08:59:36.504767Z",
     "start_time": "2018-09-26T08:59:35.855781Z"
    }
   },
   "outputs": [],
   "source": [
    "import numpy as np\n",
    "import pandas as pd\n",
    "import matplotlib.pyplot as plt\n",
    "%matplotlib inline"
   ]
  },
  {
   "cell_type": "markdown",
   "metadata": {},
   "source": [
    "### About the challenge\n",
    "For starters, let's download and unpack the data from [here](https://www.dropbox.com/s/5msc5ix7ndyba10/Train_rev1.csv.tar.gz?dl=0). \n",
    "\n",
    "You can also get it from [yadisk url](https://yadi.sk/d/vVEOWPFY3NruT7) the competition [page](https://www.kaggle.com/c/job-salary-prediction/data) (pick `Train_rev1.*`)."
   ]
  },
  {
   "cell_type": "code",
   "execution_count": 3,
   "metadata": {
    "ExecuteTime": {
     "end_time": "2018-09-26T08:59:41.941093Z",
     "start_time": "2018-09-26T08:59:36.506797Z"
    },
    "scrolled": true
   },
   "outputs": [
    {
     "data": {
      "text/plain": [
       "(244768, 12)"
      ]
     },
     "execution_count": 3,
     "metadata": {},
     "output_type": "execute_result"
    }
   ],
   "source": [
    "# !curl -L https://www.dropbox.com/s/5msc5ix7ndyba10/Train_rev1.csv.tar.gz?dl=1 -o Train_rev1.csv.tar.gz\n",
    "# !tar -xvzf ./Train_rev1.csv.tar.gz\n",
    "data = pd.read_csv(\"./Train_rev1.csv\", index_col=None)\n",
    "data.shape"
   ]
  },
  {
   "cell_type": "markdown",
   "metadata": {},
   "source": [
    "One problem with salary prediction is that it's oddly distributed: there are many people who are paid standard salaries and a few that get tons o money. The distribution is fat-tailed on the right side, which is inconvenient for MSE minimization.\n",
    "\n",
    "There are several techniques to combat this: using a different loss function, predicting log-target instead of raw target or even replacing targets with their percentiles among all salaries in the training set. We gonna use logarithm for now.\n",
    "\n",
    "_You can read more [in the official description](https://www.kaggle.com/c/job-salary-prediction#description)._"
   ]
  },
  {
   "cell_type": "code",
   "execution_count": 4,
   "metadata": {
    "ExecuteTime": {
     "end_time": "2018-09-26T08:59:42.250971Z",
     "start_time": "2018-09-26T08:59:41.943602Z"
    }
   },
   "outputs": [
    {
     "data": {
      "image/png": "[encoded data removed]",
      "text/plain": [
       "<Figure size 576x288 with 2 Axes>"
      ]
     },
     "metadata": {
      "needs_background": "light"
     },
     "output_type": "display_data"
    }
   ],
   "source": [
    "data['Log1pSalary'] = np.log1p(data['SalaryNormalized']).astype('float32')\n",
    "\n",
    "plt.figure(figsize=[8, 4])\n",
    "plt.subplot(1, 2, 1)\n",
    "plt.hist(data[\"SalaryNormalized\"], bins=20);\n",
    "\n",
    "plt.subplot(1, 2, 2)\n",
    "plt.hist(data['Log1pSalary'], bins=20);"
   ]
  },
  {
   "cell_type": "markdown",
   "metadata": {},
   "source": [
    "Our task is to predict one number, __Log1pSalary__.\n",
    "\n",
    "To do so, our model can access a number of features:\n",
    "* Free text: __`Title`__ and  __`FullDescription`__\n",
    "* Categorical: __`Category`__, __`Company`__, __`LocationNormalized`__, __`ContractType`__, and __`ContractTime`__."
   ]
  },
  {
   "cell_type": "code",
   "execution_count": 5,
   "metadata": {
    "ExecuteTime": {
     "end_time": "2018-09-26T08:59:42.396861Z",
     "start_time": "2018-09-26T08:59:42.253492Z"
    }
   },
   "outputs": [
    {
     "data": {
      "text/html": [
       "<div>\n",
       "<style scoped>\n",
       "    .dataframe tbody tr th:only-of-type {\n",
       "        vertical-align: middle;\n",
       "    }\n",
       "\n",
       "    .dataframe tbody tr th {\n",
       "        vertical-align: top;\n",
       "    }\n",
       "\n",
       "    .dataframe thead th {\n",
       "        text-align: right;\n",
       "    }\n",
       "</style>\n",
       "<table border=\"1\" class=\"dataframe\">\n",
       "  <thead>\n",
       "    <tr style=\"text-align: right;\">\n",
       "      <th></th>\n",
       "      <th>Id</th>\n",
       "      <th>Title</th>\n",
       "      <th>FullDescription</th>\n",
       "      <th>LocationRaw</th>\n",
       "      <th>LocationNormalized</th>\n",
       "      <th>ContractType</th>\n",
       "      <th>ContractTime</th>\n",
       "      <th>Company</th>\n",
       "      <th>Category</th>\n",
       "      <th>SalaryRaw</th>\n",
       "      <th>SalaryNormalized</th>\n",
       "      <th>SourceName</th>\n",
       "      <th>Log1pSalary</th>\n",
       "    </tr>\n",
       "  </thead>\n",
       "  <tbody>\n",
       "    <tr>\n",
       "      <th>232073</th>\n",
       "      <td>72460915</td>\n",
       "      <td>ALM WithProfits Support Actuary</td>\n",
       "      <td>Our client is seeking an actuarial expert to t...</td>\n",
       "      <td>South East</td>\n",
       "      <td>South East London</td>\n",
       "      <td>NaN</td>\n",
       "      <td>permanent</td>\n",
       "      <td>Star Actuarial Futures</td>\n",
       "      <td>Accounting &amp; Finance Jobs</td>\n",
       "      <td>up to 80k + bonus + benefits</td>\n",
       "      <td>80000</td>\n",
       "      <td>actuaryjobs.co.uk</td>\n",
       "      <td>11.289794</td>\n",
       "    </tr>\n",
       "    <tr>\n",
       "      <th>194297</th>\n",
       "      <td>71793372</td>\n",
       "      <td>Activities Assistant</td>\n",
       "      <td>To assist residents with breakfast and interac...</td>\n",
       "      <td>Southport</td>\n",
       "      <td>Southport</td>\n",
       "      <td>part_time</td>\n",
       "      <td>NaN</td>\n",
       "      <td>NaN</td>\n",
       "      <td>Healthcare &amp; Nursing Jobs</td>\n",
       "      <td>4.98 - 6.19 per hour MEETS NMW</td>\n",
       "      <td>10723</td>\n",
       "      <td>Jobcentre Plus</td>\n",
       "      <td>9.280239</td>\n",
       "    </tr>\n",
       "    <tr>\n",
       "      <th>81523</th>\n",
       "      <td>69027168</td>\n",
       "      <td>IT Vendor Manager</td>\n",
       "      <td>We are currently seeking an experienced Vendor...</td>\n",
       "      <td>Bromley, England</td>\n",
       "      <td>Bromley</td>\n",
       "      <td>NaN</td>\n",
       "      <td>NaN</td>\n",
       "      <td>NaN</td>\n",
       "      <td>IT Jobs</td>\n",
       "      <td>50000</td>\n",
       "      <td>50000</td>\n",
       "      <td>britishjobsonthe.net</td>\n",
       "      <td>10.819798</td>\n",
       "    </tr>\n",
       "  </tbody>\n",
       "</table>\n",
       "</div>"
      ],
      "text/plain": [
       "              Id                            Title  \\\n",
       "232073  72460915  ALM WithProfits Support Actuary   \n",
       "194297  71793372             Activities Assistant   \n",
       "81523   69027168                IT Vendor Manager   \n",
       "\n",
       "                                          FullDescription       LocationRaw  \\\n",
       "232073  Our client is seeking an actuarial expert to t...        South East   \n",
       "194297  To assist residents with breakfast and interac...         Southport   \n",
       "81523   We are currently seeking an experienced Vendor...  Bromley, England   \n",
       "\n",
       "       LocationNormalized ContractType ContractTime                 Company  \\\n",
       "232073  South East London          NaN    permanent  Star Actuarial Futures   \n",
       "194297          Southport    part_time          NaN                     NaN   \n",
       "81523             Bromley          NaN          NaN                     NaN   \n",
       "\n",
       "                         Category                       SalaryRaw  \\\n",
       "232073  Accounting & Finance Jobs    up to 80k + bonus + benefits   \n",
       "194297  Healthcare & Nursing Jobs  4.98 - 6.19 per hour MEETS NMW   \n",
       "81523                     IT Jobs                           50000   \n",
       "\n",
       "        SalaryNormalized            SourceName  Log1pSalary  \n",
       "232073             80000     actuaryjobs.co.uk    11.289794  \n",
       "194297             10723        Jobcentre Plus     9.280239  \n",
       "81523              50000  britishjobsonthe.net    10.819798  "
      ]
     },
     "execution_count": 5,
     "metadata": {},
     "output_type": "execute_result"
    }
   ],
   "source": [
    "text_columns = [\"Title\", \"FullDescription\"]\n",
    "categorical_columns = [\"Category\", \"Company\", \"LocationNormalized\", \"ContractType\", \"ContractTime\"]\n",
    "target_column = \"Log1pSalary\"\n",
    "\n",
    "data[categorical_columns] = data[categorical_columns].fillna('NaN') # cast missing values to string \"NaN\"\n",
    "\n",
    "data.sample(3)"
   ]
  },
  {
   "cell_type": "markdown",
   "metadata": {},
   "source": [
    "### Preprocessing text data\n",
    "\n",
    "Just like last week, applying NLP to a problem begins from tokenization: splitting raw text into sequences of tokens (words, punctuation, etc).\n",
    "\n",
    "__Your task__ is to lowercase and tokenize all texts under `Title` and `FullDescription` columns. Store the tokenized data as a __space-separated__ string of tokens for performance reasons.\n",
    "\n",
    "It's okay to use nltk tokenizers. Assertions were designed for WordPunctTokenizer, slight deviations are okay."
   ]
  },
  {
   "cell_type": "code",
   "execution_count": 6,
   "metadata": {
    "ExecuteTime": {
     "end_time": "2018-09-26T08:59:42.454067Z",
     "start_time": "2018-09-26T08:59:42.399871Z"
    }
   },
   "outputs": [
    {
     "name": "stdout",
     "output_type": "stream",
     "text": [
      "Raw text:\n",
      "2         Mathematical Modeller / Simulation Analyst / O...\n",
      "100002    A successful and high achieving specialist sch...\n",
      "200002    Web Designer  HTML, CSS, JavaScript, Photoshop...\n",
      "Name: FullDescription, dtype: object\n"
     ]
    }
   ],
   "source": [
    "print(\"Raw text:\")\n",
    "print(data[\"FullDescription\"][2::100000])"
   ]
  },
  {
   "cell_type": "code",
   "execution_count": 7,
   "metadata": {
    "ExecuteTime": {
     "end_time": "2018-09-26T09:00:21.534786Z",
     "start_time": "2018-09-26T08:59:42.457091Z"
    }
   },
   "outputs": [],
   "source": [
    "import nltk\n",
    "tokenizer = nltk.tokenize.WordPunctTokenizer()\n",
    "\n",
    "# see task above\n",
    "data.FullDescription = data.FullDescription.fillna('').str.lower().apply(tokenizer.tokenize).apply(' '.join)\n",
    "data.Title = data.Title.fillna('').str.lower().apply(tokenizer.tokenize).apply(' '.join)"
   ]
  },
  {
   "cell_type": "markdown",
   "metadata": {},
   "source": [
    "Now we can assume that our text is a space-separated list of tokens:"
   ]
  },
  {
   "cell_type": "code",
   "execution_count": 8,
   "metadata": {
    "ExecuteTime": {
     "end_time": "2018-09-26T09:00:21.555844Z",
     "start_time": "2018-09-26T09:00:21.537293Z"
    }
   },
   "outputs": [
    {
     "name": "stdout",
     "output_type": "stream",
     "text": [
      "Tokenized:\n",
      "2         mathematical modeller / simulation analyst / o...\n",
      "100002    a successful and high achieving specialist sch...\n",
      "200002    web designer html , css , javascript , photosh...\n",
      "Name: FullDescription, dtype: object\n"
     ]
    }
   ],
   "source": [
    "print(\"Tokenized:\")\n",
    "print(data[\"FullDescription\"][2::100000])\n",
    "assert data[\"FullDescription\"][2][:50] == 'mathematical modeller / simulation analyst / opera'\n",
    "assert data[\"Title\"][54321] == 'international digital account manager ( german )'"
   ]
  },
  {
   "cell_type": "markdown",
   "metadata": {},
   "source": [
    "Not all words are equally useful. Some of them are typos or rare words that are only present a few times. \n",
    "\n",
    "Let's count how many times is each word present in the data so that we can build a \"white list\" of known words."
   ]
  },
  {
   "cell_type": "code",
   "execution_count": 9,
   "metadata": {
    "ExecuteTime": {
     "end_time": "2018-09-26T09:00:41.742124Z",
     "start_time": "2018-09-26T09:00:21.558371Z"
    }
   },
   "outputs": [],
   "source": [
    "from collections import Counter\n",
    "from itertools import chain\n",
    "\n",
    "# Count how many times does each token occur in both \"Title\" and \"FullDescription\" in total\n",
    "# build a dictionary { token -> it's count }\n",
    "token_counts = Counter(chain.from_iterable(data.FullDescription.str.split()))\n",
    "token_counts.update(Counter(chain.from_iterable(data.Title.str.split())))\n",
    "\n",
    "# hint: you may or may not want to use collections.Counter"
   ]
  },
  {
   "cell_type": "code",
   "execution_count": 10,
   "metadata": {
    "ExecuteTime": {
     "end_time": "2018-09-26T09:00:41.800752Z",
     "start_time": "2018-09-26T09:00:41.744102Z"
    }
   },
   "outputs": [
    {
     "data": {
      "text/plain": [
       "[('and', 2657388),\n",
       " ('.', 2523216),\n",
       " (',', 2318606),\n",
       " ('the', 2080994),\n",
       " ('to', 2019884),\n",
       " ('a', 1521925),\n",
       " ('of', 1426213),\n",
       " ('in', 1035792),\n",
       " ('for', 867233),\n",
       " ('with', 728884)]"
      ]
     },
     "execution_count": 10,
     "metadata": {},
     "output_type": "execute_result"
    }
   ],
   "source": [
    "token_counts.most_common(10)"
   ]
  },
  {
   "cell_type": "code",
   "execution_count": 11,
   "metadata": {
    "ExecuteTime": {
     "end_time": "2018-09-26T09:00:42.020068Z",
     "start_time": "2018-09-26T09:00:41.802256Z"
    }
   },
   "outputs": [
    {
     "name": "stdout",
     "output_type": "stream",
     "text": [
      "Total unique tokens : 202704\n",
      "('and', 2657388)\n",
      "('.', 2523216)\n",
      "(',', 2318606)\n",
      "('the', 2080994)\n",
      "('to', 2019884)\n",
      "...\n",
      "('improvemen', 1)\n",
      "('techniciancivil', 1)\n",
      "('mlnlycke', 1)\n",
      "Correct!\n"
     ]
    }
   ],
   "source": [
    "print(\"Total unique tokens :\", len(token_counts))\n",
    "print('\\n'.join(map(str, token_counts.most_common(n=5))))\n",
    "print('...')\n",
    "print('\\n'.join(map(str, token_counts.most_common()[-3:])))\n",
    "\n",
    "assert token_counts.most_common(1)[0][1] in  range(2600000, 2700000)\n",
    "assert len(token_counts) in range(200000, 210000)\n",
    "print('Correct!')"
   ]
  },
  {
   "cell_type": "code",
   "execution_count": 12,
   "metadata": {
    "ExecuteTime": {
     "end_time": "2018-09-26T09:00:42.657477Z",
     "start_time": "2018-09-26T09:00:42.022589Z"
    }
   },
   "outputs": [
    {
     "data": {
      "image/png": "[encoded data removed]",
      "text/plain": [
       "<Figure size 432x288 with 1 Axes>"
      ]
     },
     "metadata": {
      "needs_background": "light"
     },
     "output_type": "display_data"
    }
   ],
   "source": [
    "# Let's see how many words are there for each count\n",
    "plt.hist(list(token_counts.values()), range=[0, 10**4], bins=50, log=True)\n",
    "plt.xlabel(\"Word counts\");"
   ]
  },
  {
   "cell_type": "markdown",
   "metadata": {},
   "source": [
    "Now filter tokens a list of all tokens that occur at least 10 times."
   ]
  },
  {
   "cell_type": "code",
   "execution_count": 13,
   "metadata": {
    "ExecuteTime": {
     "end_time": "2018-09-26T09:00:42.692551Z",
     "start_time": "2018-09-26T09:00:42.659964Z"
    }
   },
   "outputs": [],
   "source": [
    "min_count = 10\n",
    "\n",
    "# tokens from token_counts keys that had at least min_count occurrences throughout the dataset\n",
    "tokens = [k for k, v in token_counts.items() if v >= min_count]"
   ]
  },
  {
   "cell_type": "code",
   "execution_count": 14,
   "metadata": {
    "ExecuteTime": {
     "end_time": "2018-09-26T09:00:42.870559Z",
     "start_time": "2018-09-26T09:00:42.694556Z"
    }
   },
   "outputs": [
    {
     "name": "stdout",
     "output_type": "stream",
     "text": [
      "Vocabulary size: 34158\n",
      "Correct!\n"
     ]
    }
   ],
   "source": [
    "# Add a special tokens for unknown and empty words\n",
    "UNK, PAD = \"UNK\", \"PAD\"\n",
    "tokens = [UNK, PAD] + sorted(tokens)\n",
    "print(\"Vocabulary size:\", len(tokens))\n",
    "\n",
    "assert type(tokens) == list\n",
    "assert len(tokens) in range(32000, 35000)\n",
    "assert 'me' in tokens\n",
    "assert UNK in tokens\n",
    "print(\"Correct!\")"
   ]
  },
  {
   "cell_type": "markdown",
   "metadata": {},
   "source": [
    "Build an inverse token index: a dictionary from token(string) to it's index in `tokens` (int)"
   ]
  },
  {
   "cell_type": "code",
   "execution_count": 15,
   "metadata": {
    "ExecuteTime": {
     "end_time": "2018-09-26T09:00:43.074797Z",
     "start_time": "2018-09-26T09:00:42.872558Z"
    }
   },
   "outputs": [],
   "source": [
    "token_to_id = {tok: idx for idx, tok in enumerate(tokens)}"
   ]
  },
  {
   "cell_type": "code",
   "execution_count": 16,
   "metadata": {
    "ExecuteTime": {
     "end_time": "2018-09-26T09:00:43.199331Z",
     "start_time": "2018-09-26T09:00:43.076804Z"
    }
   },
   "outputs": [
    {
     "name": "stdout",
     "output_type": "stream",
     "text": [
      "Correct!\n"
     ]
    }
   ],
   "source": [
    "assert isinstance(token_to_id, dict)\n",
    "assert len(token_to_id) == len(tokens)\n",
    "for tok in tokens:\n",
    "    assert tokens[token_to_id[tok]] == tok\n",
    "\n",
    "print(\"Correct!\")"
   ]
  },
  {
   "cell_type": "markdown",
   "metadata": {},
   "source": [
    "And finally, let's use the vocabulary you've built to map text lines into neural network-digestible matrices."
   ]
  },
  {
   "cell_type": "code",
   "execution_count": 17,
   "metadata": {
    "ExecuteTime": {
     "end_time": "2018-09-26T09:00:43.298275Z",
     "start_time": "2018-09-26T09:00:43.202337Z"
    }
   },
   "outputs": [],
   "source": [
    "UNK_IX, PAD_IX = map(token_to_id.get, [UNK, PAD])\n",
    "\n",
    "def as_matrix(sequences, max_len=None):\n",
    "    \"\"\" Convert a list of tokens into a matrix with padding \"\"\"\n",
    "    if isinstance(sequences[0], str):\n",
    "        sequences = list(map(str.split, sequences))\n",
    "        \n",
    "    max_len = min(max(map(len, sequences)), max_len or float('inf'))\n",
    "    \n",
    "    matrix = np.full((len(sequences), max_len), np.int32(PAD_IX))\n",
    "    for i,seq in enumerate(sequences):\n",
    "        row_ix = [token_to_id.get(word, UNK_IX) for word in seq[:max_len]]\n",
    "        matrix[i, :len(row_ix)] = row_ix\n",
    "    \n",
    "    return matrix"
   ]
  },
  {
   "cell_type": "code",
   "execution_count": 18,
   "metadata": {
    "ExecuteTime": {
     "end_time": "2018-09-26T09:00:43.425047Z",
     "start_time": "2018-09-26T09:00:43.300772Z"
    }
   },
   "outputs": [
    {
     "name": "stdout",
     "output_type": "stream",
     "text": [
      "Lines:\n",
      "engineering systems analyst\n",
      "hr assistant\n",
      "senior ec & i engineer\n",
      "\n",
      "Matrix:\n",
      "[[10807 30161  2166     1     1]\n",
      " [15020  2844     1     1     1]\n",
      " [27645 10201    16 15215 10804]]\n"
     ]
    }
   ],
   "source": [
    "print(\"Lines:\")\n",
    "print('\\n'.join(data[\"Title\"][::100000].values), end='\\n\\n')\n",
    "print(\"Matrix:\")\n",
    "print(as_matrix(data[\"Title\"][::100000]))"
   ]
  },
  {
   "cell_type": "markdown",
   "metadata": {},
   "source": [
    "Now let's  encode the categirical data we have.\n",
    "\n",
    "As usual, we shall use one-hot encoding for simplicity. Kudos if you implement more advanced encodings: tf-idf, pseudo-time-series, etc."
   ]
  },
  {
   "cell_type": "code",
   "execution_count": 19,
   "metadata": {
    "ExecuteTime": {
     "end_time": "2018-09-26T09:01:01.050643Z",
     "start_time": "2018-09-26T09:00:43.427013Z"
    }
   },
   "outputs": [
    {
     "data": {
      "text/plain": [
       "DictVectorizer(dtype=<class 'numpy.float32'>, separator='=', sort=True,\n",
       "        sparse=False)"
      ]
     },
     "execution_count": 19,
     "metadata": {},
     "output_type": "execute_result"
    }
   ],
   "source": [
    "from sklearn.feature_extraction import DictVectorizer\n",
    "\n",
    "# we only consider top-1k most frequent companies to minimize memory usage\n",
    "top_companies, top_counts = zip(*Counter(data['Company']).most_common(1000))\n",
    "recognized_companies = set(top_companies)\n",
    "data[\"Company\"] = data[\"Company\"].apply(lambda comp: comp if comp in recognized_companies else \"Other\")\n",
    "\n",
    "categorical_vectorizer = DictVectorizer(dtype=np.float32, sparse=False)\n",
    "categorical_vectorizer.fit(data[categorical_columns].apply(dict, axis=1))"
   ]
  },
  {
   "cell_type": "markdown",
   "metadata": {},
   "source": [
    "### The deep learning part\n",
    "\n",
    "Once we've learned to tokenize the data, let's design a machine learning experiment.\n",
    "\n",
    "As before, we won't focus too much on validation, opting for a simple train-test split.\n",
    "\n",
    "__To be completely rigorous,__ we've comitted a small crime here: we used the whole data for tokenization and vocabulary building. A more strict way would be to do that part on training set only. You may want to do that and measure the magnitude of changes."
   ]
  },
  {
   "cell_type": "code",
   "execution_count": 20,
   "metadata": {
    "ExecuteTime": {
     "end_time": "2018-09-26T09:01:01.176130Z",
     "start_time": "2018-09-26T09:01:01.053149Z"
    }
   },
   "outputs": [
    {
     "name": "stdout",
     "output_type": "stream",
     "text": [
      "Train size =  195814\n",
      "Validation size =  48954\n"
     ]
    }
   ],
   "source": [
    "from sklearn.model_selection import train_test_split\n",
    "\n",
    "data_train, data_val = train_test_split(data, test_size=0.2, random_state=42)\n",
    "data_train.index = range(len(data_train))\n",
    "data_val.index = range(len(data_val))\n",
    "\n",
    "print(\"Train size = \", len(data_train))\n",
    "print(\"Validation size = \", len(data_val))"
   ]
  },
  {
   "cell_type": "code",
   "execution_count": 21,
   "metadata": {
    "ExecuteTime": {
     "end_time": "2018-09-26T09:01:01.188663Z",
     "start_time": "2018-09-26T09:01:01.178135Z"
    }
   },
   "outputs": [],
   "source": [
    "def make_batch(data, max_len=None, word_dropout=0):\n",
    "    \"\"\"\n",
    "    Creates a keras-friendly dict from the batch data.\n",
    "    :param word_dropout: replaces token index with UNK_IX with this probability\n",
    "    :returns: a dict with {'title' : int64[batch, title_max_len]\n",
    "    \"\"\"\n",
    "    batch = {}\n",
    "    batch[\"Title\"] = as_matrix(data[\"Title\"].values, max_len)\n",
    "    batch[\"FullDescription\"] = as_matrix(data[\"FullDescription\"].values, max_len)\n",
    "    batch['Categorical'] = categorical_vectorizer.transform(data[categorical_columns].apply(dict, axis=1))\n",
    "    \n",
    "    if word_dropout != 0:\n",
    "        batch[\"FullDescription\"] = apply_word_dropout(batch[\"FullDescription\"], 1. - word_dropout)\n",
    "    \n",
    "    if target_column in data.columns:\n",
    "        batch[target_column] = data[target_column].values\n",
    "    \n",
    "    return batch\n",
    "\n",
    "def apply_word_dropout(matrix, keep_prop, replace_with=UNK_IX, pad_ix=PAD_IX,):\n",
    "    dropout_mask = np.random.choice(2, np.shape(matrix), p=[keep_prop, 1 - keep_prop])\n",
    "    dropout_mask &= matrix != pad_ix\n",
    "    return np.choose(dropout_mask, [matrix, np.full_like(matrix, replace_with)])"
   ]
  },
  {
   "cell_type": "code",
   "execution_count": 22,
   "metadata": {
    "ExecuteTime": {
     "end_time": "2018-09-26T09:01:01.327129Z",
     "start_time": "2018-09-26T09:01:01.190669Z"
    }
   },
   "outputs": [
    {
     "data": {
      "text/plain": [
       "{'Title': array([[27645, 29893, 33674,     1,     1,     1,     1],\n",
       "        [29239,   197, 19175, 20042, 15554, 23162,  4051],\n",
       "        [10609, 30412, 17746,    33,  8705, 29157,    65]]),\n",
       " 'FullDescription': array([[27645, 29893, 33674, 32939,   982, 27645, 29893, 33674, 16451,\n",
       "         32939],\n",
       "        [29239,   197, 19175, 20042, 15554, 23162,  4051, 25511,   907,\n",
       "            82],\n",
       "        [30746, 21956, 20601,  6409, 16451,  8165, 27493,   982, 30412,\n",
       "         17746]]),\n",
       " 'Categorical': array([[0., 0., 0., ..., 0., 0., 0.],\n",
       "        [0., 0., 0., ..., 0., 0., 0.],\n",
       "        [0., 0., 0., ..., 0., 0., 0.]], dtype=float32),\n",
       " 'Log1pSalary': array([ 9.71154 , 10.463132, 10.71444 ], dtype=float32)}"
      ]
     },
     "execution_count": 22,
     "metadata": {},
     "output_type": "execute_result"
    }
   ],
   "source": [
    "make_batch(data_train[:3], max_len=10)"
   ]
  },
  {
   "cell_type": "markdown",
   "metadata": {},
   "source": [
    "#### Architecture\n",
    "\n",
    "Our basic model consists of three branches:\n",
    "* Title encoder\n",
    "* Description encoder\n",
    "* Categorical features encoder\n",
    "\n",
    "We will then feed all 3 branches into one common network that predicts salary.\n",
    "\n",
    "<img src=\"https://github.com/yandexdataschool/nlp_course/raw/master/resources/w2_conv_arch.png\" width=600px>"
   ]
  },
  {
   "cell_type": "markdown",
   "metadata": {},
   "source": [
    "This clearly doesn't fit into keras' __Sequential__ interface. To build such a network, one will have to use __[Keras Functional API](https://keras.io/models/model/)__."
   ]
  },
  {
   "cell_type": "code",
   "execution_count": 23,
   "metadata": {
    "ExecuteTime": {
     "end_time": "2018-09-26T09:01:01.455019Z",
     "start_time": "2018-09-26T09:01:01.330637Z"
    }
   },
   "outputs": [],
   "source": [
    "import keras\n",
    "import keras.layers as L"
   ]
  },
  {
   "cell_type": "code",
   "execution_count": 86,
   "metadata": {
    "ExecuteTime": {
     "end_time": "2018-09-26T10:51:47.311029Z",
     "start_time": "2018-09-26T10:51:47.302992Z"
    }
   },
   "outputs": [],
   "source": [
    "def build_model(n_tokens=len(tokens), n_cat_features=len(categorical_vectorizer.vocabulary_), hid_size=64):\n",
    "    \n",
    "    \n",
    "    l_title = L.Input(shape=[None], name=\"Title\")\n",
    "    l_descr = L.Input(shape=[None], name=\"FullDescription\")\n",
    "    l_categ = L.Input(shape=[n_cat_features], name=\"Categorical\")\n",
    "\n",
    "    # Build your monster!\n",
    "    \n",
    "    emb_size = 50\n",
    "\n",
    "    l_title_emb  = L.Embedding(n_tokens, emb_size)(l_title)\n",
    "    l_title_conv = L.Conv1D(5, emb_size, padding='same')(l_title_emb)\n",
    "    l_title_pool = L.GlobalMaxPool1D()(l_title_conv)\n",
    "    # l_title_flat = L.Flatten()(l_title_pool)\n",
    "\n",
    "    l_descr_emb  = L.Embedding(n_tokens, emb_size)(l_descr)\n",
    "    l_descr_conv = L.Conv1D(5, emb_size, padding='same')(l_descr_emb)\n",
    "    l_descr_pool = L.GlobalMaxPool1D()(l_descr_conv)\n",
    "    # l_descr_flat = L.Flatten()(l_descr_pool)\n",
    "\n",
    "    l_categ_dens = L.Dense(64)(l_categ)\n",
    "\n",
    "    concat = L.Concatenate()([l_title_pool, l_descr_pool, l_categ_dens])\n",
    "    hid = L.Dense(hid_size)(concat)\n",
    "    output_layer = L.Dense(1)(hid)\n",
    "    # end of your code\n",
    "\n",
    "    model = keras.models.Model(inputs=[l_title, l_descr, l_categ], outputs=[output_layer])\n",
    "    model.compile('adam', 'mean_squared_error', metrics=['mean_absolute_error'])\n",
    "\n",
    "\n",
    "\n",
    "\n",
    "#     \"\"\" Build a model that maps three data sources to a single linear output: predicted log1p(salary) \"\"\"\n",
    "    \n",
    "#     l_title = L.Input(shape=[None], name=\"Title\")\n",
    "#     l_descr = L.Input(shape=[None], name=\"FullDescription\")\n",
    "#     l_categ = L.Input(shape=[n_cat_features], name=\"Categorical\")\n",
    "    \n",
    "#     # Build your monster!\n",
    "    \n",
    "    \n",
    "    \n",
    "#     # <YOUR CODE>\n",
    "    \n",
    "#     output_layer = <...>\n",
    "#     # end of your code\n",
    "    \n",
    "#     model = keras.models.Model(inputs=[l_title, l_descr, l_categ], outputs=[output_layer])\n",
    "#     model.compile('adam', 'mean_squared_error', metrics=['mean_absolute_error'])\n",
    "    return model\n",
    "    "
   ]
  },
  {
   "cell_type": "code",
   "execution_count": 87,
   "metadata": {
    "ExecuteTime": {
     "end_time": "2018-09-26T10:52:55.447349Z",
     "start_time": "2018-09-26T10:51:47.928684Z"
    }
   },
   "outputs": [
    {
     "name": "stdout",
     "output_type": "stream",
     "text": [
      "__________________________________________________________________________________________________\n",
      "Layer (type)                    Output Shape         Param #     Connected to                     \n",
      "==================================================================================================\n",
      "Title (InputLayer)              (None, None)         0                                            \n",
      "__________________________________________________________________________________________________\n",
      "FullDescription (InputLayer)    (None, None)         0                                            \n",
      "__________________________________________________________________________________________________\n",
      "embedding_56 (Embedding)        (None, None, 50)     1707900     Title[0][0]                      \n",
      "__________________________________________________________________________________________________\n",
      "embedding_57 (Embedding)        (None, None, 50)     1707900     FullDescription[0][0]            \n",
      "__________________________________________________________________________________________________\n",
      "conv1d_54 (Conv1D)              (None, None, 5)      12505       embedding_56[0][0]               \n",
      "__________________________________________________________________________________________________\n",
      "conv1d_55 (Conv1D)              (None, None, 5)      12505       embedding_57[0][0]               \n",
      "__________________________________________________________________________________________________\n",
      "Categorical (InputLayer)        (None, 3768)         0                                            \n",
      "__________________________________________________________________________________________________\n",
      "global_max_pooling1d_19 (Global (None, 5)            0           conv1d_54[0][0]                  \n",
      "__________________________________________________________________________________________________\n",
      "global_max_pooling1d_20 (Global (None, 5)            0           conv1d_55[0][0]                  \n",
      "__________________________________________________________________________________________________\n",
      "dense_70 (Dense)                (None, 64)           241216      Categorical[0][0]                \n",
      "__________________________________________________________________________________________________\n",
      "concatenate_29 (Concatenate)    (None, 74)           0           global_max_pooling1d_19[0][0]    \n",
      "                                                                 global_max_pooling1d_20[0][0]    \n",
      "                                                                 dense_70[0][0]                   \n",
      "__________________________________________________________________________________________________\n",
      "dense_71 (Dense)                (None, 64)           4800        concatenate_29[0][0]             \n",
      "__________________________________________________________________________________________________\n",
      "dense_72 (Dense)                (None, 1)            65          dense_71[0][0]                   \n",
      "==================================================================================================\n",
      "Total params: 3,686,891\n",
      "Trainable params: 3,686,891\n",
      "Non-trainable params: 0\n",
      "__________________________________________________________________________________________________\n"
     ]
    }
   ],
   "source": [
    "model = build_model()\n",
    "model.summary()\n",
    "\n",
    "dummy_pred = model.predict(make_batch(data_train[:100]))\n",
    "dummy_loss = model.train_on_batch(make_batch(data_train[:100]), data_train['Log1pSalary'][:100])[0]\n",
    "assert dummy_pred.shape == (100, 1)\n",
    "assert len(np.unique(dummy_pred)) > 20, \"model returns suspiciously few unique outputs. Check your initialization\"\n",
    "assert np.ndim(dummy_loss) == 0 and 0. <= dummy_loss <= 250., \"make sure you minimize MSE\""
   ]
  },
  {
   "cell_type": "markdown",
   "metadata": {},
   "source": [
    "#### Training and evaluation\n",
    "\n",
    "As usual, we gonna feed our monster with random minibatches of data. \n",
    "\n",
    "As we train, we want to monitor not only loss function, which is computed in log-space, but also the actual error measured in dollars."
   ]
  },
  {
   "cell_type": "code",
   "execution_count": 88,
   "metadata": {
    "ExecuteTime": {
     "end_time": "2018-09-26T10:53:13.621132Z",
     "start_time": "2018-09-26T10:53:13.616122Z"
    }
   },
   "outputs": [],
   "source": [
    "def iterate_minibatches(data, batch_size=256, shuffle=True, cycle=False, **kwargs):\n",
    "    \"\"\" iterates minibatches of data in random order \"\"\"\n",
    "    while True:\n",
    "        indices = np.arange(len(data))\n",
    "        if shuffle:\n",
    "            indices = np.random.permutation(indices)\n",
    "\n",
    "        for start in range(0, len(indices), batch_size):\n",
    "            batch = make_batch(data.iloc[indices[start : start + batch_size]], **kwargs)\n",
    "            target = batch.pop(target_column)\n",
    "            yield batch, target\n",
    "        \n",
    "        if not cycle: break"
   ]
  },
  {
   "cell_type": "markdown",
   "metadata": {},
   "source": [
    "### Model training\n",
    "\n",
    "We can now fit our model the usual minibatch way. The interesting part is that we train on an infinite stream of minibatches, produced by `iterate_minibatches` function."
   ]
  },
  {
   "cell_type": "code",
   "execution_count": 89,
   "metadata": {
    "ExecuteTime": {
     "end_time": "2018-09-26T14:20:08.163234Z",
     "start_time": "2018-09-26T10:53:21.000317Z"
    }
   },
   "outputs": [
    {
     "name": "stdout",
     "output_type": "stream",
     "text": [
      "Epoch 1/10\n",
      "100/100 [==============================] - 1237s 12s/step - loss: 17.9129 - mean_absolute_error: 2.6154 - val_loss: 0.3341 - val_mean_absolute_error: 0.4577\n",
      "Epoch 2/10\n",
      "100/100 [==============================] - 1199s 12s/step - loss: 0.2279 - mean_absolute_error: 0.3728 - val_loss: 0.1628 - val_mean_absolute_error: 0.3133\n",
      "Epoch 3/10\n",
      "100/100 [==============================] - 1197s 12s/step - loss: 0.1408 - mean_absolute_error: 0.2889 - val_loss: 0.1168 - val_mean_absolute_error: 0.2610\n",
      "Epoch 4/10\n",
      "100/100 [==============================] - 1245s 12s/step - loss: 0.1083 - mean_absolute_error: 0.2508 - val_loss: 0.1007 - val_mean_absolute_error: 0.2402\n",
      "Epoch 5/10\n",
      "100/100 [==============================] - 1262s 13s/step - loss: 0.0957 - mean_absolute_error: 0.2328 - val_loss: 0.0889 - val_mean_absolute_error: 0.2240\n",
      "Epoch 6/10\n",
      "100/100 [==============================] - 1312s 13s/step - loss: 0.0874 - mean_absolute_error: 0.2221 - val_loss: 0.0822 - val_mean_absolute_error: 0.2159\n",
      "Epoch 7/10\n",
      "100/100 [==============================] - 1236s 12s/step - loss: 0.0835 - mean_absolute_error: 0.2158 - val_loss: 0.0830 - val_mean_absolute_error: 0.2153\n",
      "Epoch 8/10\n",
      "100/100 [==============================] - 1196s 12s/step - loss: 0.0781 - mean_absolute_error: 0.2098 - val_loss: 0.0766 - val_mean_absolute_error: 0.2071\n",
      "Epoch 9/10\n",
      "100/100 [==============================] - 1223s 12s/step - loss: 0.0688 - mean_absolute_error: 0.1968 - val_loss: 0.0764 - val_mean_absolute_error: 0.2073\n",
      "Epoch 10/10\n",
      "100/100 [==============================] - 1296s 13s/step - loss: 0.0682 - mean_absolute_error: 0.1951 - val_loss: 0.0760 - val_mean_absolute_error: 0.2058\n"
     ]
    },
    {
     "data": {
      "text/plain": [
       "<keras.callbacks.History at 0x2cb02b20f60>"
      ]
     },
     "execution_count": 89,
     "metadata": {},
     "output_type": "execute_result"
    }
   ],
   "source": [
    "batch_size = 256\n",
    "epochs = 10            # definitely too small\n",
    "steps_per_epoch = 100  # for full pass over data: (len(data_train) - 1) // batch_size + 1\n",
    "\n",
    "model = build_model()\n",
    "\n",
    "model.fit_generator(iterate_minibatches(data_train, batch_size, cycle=True, word_dropout=0.05), \n",
    "                    epochs=epochs, steps_per_epoch=steps_per_epoch,\n",
    "                    \n",
    "                    validation_data=iterate_minibatches(data_val, batch_size, cycle=True),\n",
    "                    validation_steps=data_val.shape[0] // batch_size\n",
    "                   )"
   ]
  },
  {
   "cell_type": "code",
   "execution_count": 90,
   "metadata": {
    "ExecuteTime": {
     "end_time": "2018-09-26T15:00:53.975971Z",
     "start_time": "2018-09-26T14:20:08.170237Z"
    }
   },
   "outputs": [
    {
     "name": "stdout",
     "output_type": "stream",
     "text": [
      "Train results:\n",
      "Mean square error: 0.06470\n",
      "Mean absolute error: 0.18816\n",
      "Val results:\n",
      "Mean square error: 0.07658\n",
      "Mean absolute error: 0.20624\n"
     ]
    }
   ],
   "source": [
    "def print_metrics(model, data, batch_size=batch_size, name=\"\", **kw):\n",
    "    squared_error = abs_error = num_samples = 0.0\n",
    "    for batch_x, batch_y in iterate_minibatches(data, batch_size=batch_size, shuffle=False, **kw):\n",
    "        batch_pred = model.predict(batch_x)[:, 0]\n",
    "        squared_error += np.sum(np.square(batch_pred - batch_y))\n",
    "        abs_error += np.sum(np.abs(batch_pred - batch_y))\n",
    "        num_samples += len(batch_y)\n",
    "    print(\"%s results:\" % (name or \"\"))\n",
    "    print(\"Mean square error: %.5f\" % (squared_error / num_samples))\n",
    "    print(\"Mean absolute error: %.5f\" % (abs_error / num_samples))\n",
    "    return squared_error, abs_error\n",
    "    \n",
    "print_metrics(model, data_train, name='Train')\n",
    "print_metrics(model, data_val, name='Val');"
   ]
  },
  {
   "cell_type": "markdown",
   "metadata": {},
   "source": [
    "### Bonus part: explaining model predictions\n",
    "\n",
    "It's usually a good idea to understand how your model works before you let it make actual decisions. It's simple for linear models: just see which words learned positive or negative weights. However, its much harder for neural networks that learn complex nonlinear dependencies.\n",
    "\n",
    "There are, however, some ways to look inside the black box:\n",
    "* Seeing how model responds to input perturbations\n",
    "* Finding inputs that maximize/minimize activation of some chosen neurons (_read more [on distill.pub](https://distill.pub/2018/building-blocks/)_)\n",
    "* Building local linear approximations to your neural network: [article](https://arxiv.org/abs/1602.04938), [eli5 library](https://github.com/TeamHG-Memex/eli5/tree/master/eli5/formatters)\n",
    "\n",
    "Today we gonna try the first method just because it's the simplest one."
   ]
  },
  {
   "cell_type": "code",
   "execution_count": 91,
   "metadata": {
    "ExecuteTime": {
     "end_time": "2018-09-26T15:00:53.991012Z",
     "start_time": "2018-09-26T15:00:53.980985Z"
    }
   },
   "outputs": [],
   "source": [
    "def explain(model, sample, col_name='Title'):\n",
    "    \"\"\" Computes the effect each word had on model predictions \"\"\"\n",
    "    sample = dict(sample)\n",
    "    sample_col_tokens = [tokens[token_to_id.get(tok, 0)] for tok in sample[col_name].split()]\n",
    "    data_drop_one_token = pd.DataFrame([sample] * (len(sample_col_tokens) + 1))\n",
    "\n",
    "    for drop_i in range(len(sample_col_tokens)):\n",
    "        data_drop_one_token.loc[drop_i, col_name] = ' '.join(UNK if i == drop_i else tok\n",
    "                                                   for i, tok in enumerate(sample_col_tokens)) \n",
    "\n",
    "    *predictions_drop_one_token, baseline_pred = model.predict(make_batch(data_drop_one_token))[:, 0]\n",
    "    diffs = baseline_pred - predictions_drop_one_token\n",
    "    return list(zip(sample_col_tokens, diffs))"
   ]
  },
  {
   "cell_type": "code",
   "execution_count": 92,
   "metadata": {
    "ExecuteTime": {
     "end_time": "2018-09-26T15:00:54.145924Z",
     "start_time": "2018-09-26T15:00:53.993518Z"
    }
   },
   "outputs": [],
   "source": [
    "from IPython.display import HTML, display_html\n",
    "\n",
    "def draw_html(tokens_and_weights, cmap=plt.get_cmap(\"bwr\"), display=True,\n",
    "              token_template=\"\"\"<span style=\"background-color: {color_hex}\">{token}</span>\"\"\",\n",
    "              font_style=\"font-size:14px;\"\n",
    "             ):\n",
    "    \n",
    "    def get_color_hex(weight):\n",
    "        rgba = cmap(1. / (1 + np.exp(weight)), bytes=True)\n",
    "        return '#%02X%02X%02X' % rgba[:3]\n",
    "    \n",
    "    tokens_html = [\n",
    "        token_template.format(token=token, color_hex=get_color_hex(weight))\n",
    "        for token, weight in tokens_and_weights\n",
    "    ]\n",
    "    \n",
    "    \n",
    "    raw_html = \"\"\"<p style=\"{}\">{}</p>\"\"\".format(font_style, ' '.join(tokens_html))\n",
    "    if display:\n",
    "        display_html(HTML(raw_html))\n",
    "        \n",
    "    return raw_html\n",
    "    "
   ]
  },
  {
   "cell_type": "code",
   "execution_count": 93,
   "metadata": {
    "ExecuteTime": {
     "end_time": "2018-09-26T15:00:55.917879Z",
     "start_time": "2018-09-26T15:00:54.147930Z"
    }
   },
   "outputs": [
    {
     "data": {
      "text/html": [
       "<p style=\"font-size:20px;\"><span style=\"background-color: #FFF8F8\">sales</span> <span style=\"background-color: #FFFCFC\">specialist</span> <span style=\"background-color: #FF9E9E\">iv</span> <span style=\"background-color: #FFB0B0\">access</span> <span style=\"background-color: #CCCCFF\">and</span> <span style=\"background-color: #FF9696\">infusion</span></p>"
      ]
     },
     "metadata": {},
     "output_type": "display_data"
    },
    {
     "data": {
      "text/html": [
       "<p style=\"font-size:14px;\"><span style=\"background-color: #FFFEFE\">sales</span> <span style=\"background-color: #FFFEFE\">representative</span> <span style=\"background-color: #FFFEFE\">medical</span> <span style=\"background-color: #FFFEFE\">sales</span> <span style=\"background-color: #FFFEFE\">iv</span> <span style=\"background-color: #FFFEFE\">access</span> <span style=\"background-color: #FFFEFE\">and</span> <span style=\"background-color: #FFFEFE\">infusion</span> <span style=\"background-color: #FFFEFE\">an</span> <span style=\"background-color: #FFFEFE\">opportunity</span> <span style=\"background-color: #FFFEFE\">to</span> <span style=\"background-color: #FFFEFE\">work</span> <span style=\"background-color: #FFFEFE\">for</span> <span style=\"background-color: #FFFEFE\">the</span> <span style=\"background-color: #FFFEFE\">industry</span> <span style=\"background-color: #FFFEFE\">leading</span> <span style=\"background-color: #FFFEFE\">manufacturer</span> <span style=\"background-color: #FFFEFE\">of</span> <span style=\"background-color: #FFFEFE\">iv</span> <span style=\"background-color: #FFFEFE\">access</span> <span style=\"background-color: #FFFEFE\">and</span> <span style=\"background-color: #FFFEFE\">infusion</span> <span style=\"background-color: #FFFEFE\">solutions</span> <span style=\"background-color: #FFFEFE\">.</span> <span style=\"background-color: #FFFEFE\">formally</span> <span style=\"background-color: #FFFEFE\">recognised</span> <span style=\"background-color: #FFFEFE\">as</span> <span style=\"background-color: #FFFEFE\">the</span> <span style=\"background-color: #FFFEFE\">number</span> <span style=\"background-color: #FFFEFE\">****</span> <span style=\"background-color: #FFFEFE\">company</span> <span style=\"background-color: #FFFEFE\">in</span> <span style=\"background-color: #FFFEFE\">this</span> <span style=\"background-color: #FFFEFE\">market</span> <span style=\"background-color: #FFFEFE\">space</span> <span style=\"background-color: #FFFEFE\">,</span> <span style=\"background-color: #FFFEFE\">our</span> <span style=\"background-color: #FFFEFE\">client</span> <span style=\"background-color: #FFFEFE\">are</span> <span style=\"background-color: #FFFEFE\">an</span> <span style=\"background-color: #FFFEFE\">ethical</span> <span style=\"background-color: #FFFEFE\">and</span> <span style=\"background-color: #FFFEFE\">dynamic</span> <span style=\"background-color: #FFFEFE\">organisation</span> <span style=\"background-color: #FFFEFE\">absolutely</span> <span style=\"background-color: #FFFEFE\">committed</span> <span style=\"background-color: #FFFEFE\">to</span> <span style=\"background-color: #FFFEFE\">the</span> <span style=\"background-color: #FFFEFE\">advancement</span> <span style=\"background-color: #FFFEFE\">of</span> <span style=\"background-color: #FFFEFE\">innovative</span> <span style=\"background-color: #FFFEFE\">technologies</span> <span style=\"background-color: #FFFEFE\">.</span> <span style=\"background-color: #FFFEFE\">job</span> <span style=\"background-color: #FFFEFE\">title</span> <span style=\"background-color: #FFFEFE\">:</span> <span style=\"background-color: #FFFEFE\">sales</span> <span style=\"background-color: #FFFEFE\">specialist</span> <span style=\"background-color: #FFFEFE\">iv</span> <span style=\"background-color: #FFFEFE\">access</span> <span style=\"background-color: #FFFEFE\">and</span> <span style=\"background-color: #FFFEFE\">infusion</span> <span style=\"background-color: #FFFEFE\">selling</span> <span style=\"background-color: #FFFEFE\">:</span> <span style=\"background-color: #FFFEFE\">medication</span> <span style=\"background-color: #FFFEFE\">delivery</span> <span style=\"background-color: #FFFEFE\">solutions</span> <span style=\"background-color: #FFFEFE\">selling</span> <span style=\"background-color: #FFFEFE\">to</span> <span style=\"background-color: #FFFEFE\">:</span> <span style=\"background-color: #FFFEFE\">iv</span> <span style=\"background-color: #FFFEFE\">teams</span> <span style=\"background-color: #FFFEFE\">,</span> <span style=\"background-color: #FFFEFE\">infection</span> <span style=\"background-color: #FFFEFE\">control</span> <span style=\"background-color: #FFFEFE\">,</span> <span style=\"background-color: #FFFEFE\">lead</span> <span style=\"background-color: #FFFEFE\">intensive</span> <span style=\"background-color: #FFFEFE\">care</span> <span style=\"background-color: #FFFEFE\">nurse</span> <span style=\"background-color: #FFFEFE\">specialists</span> <span style=\"background-color: #FFFEFE\">,</span> <span style=\"background-color: #FFFEFE\">ward</span> <span style=\"background-color: #FFFEFE\">managers</span> <span style=\"background-color: #FFFEFE\">territory</span> <span style=\"background-color: #FFFEFE\">:</span> <span style=\"background-color: #FFFEFE\">east</span> <span style=\"background-color: #FFFEFE\">midlands</span> <span style=\"background-color: #FFFEFE\">location</span> <span style=\"background-color: #FFFEFE\">:</span> <span style=\"background-color: #FFFEFE\">east</span> <span style=\"background-color: #F8F8FF\">midlands</span> <span style=\"background-color: #FCFCFF\">package</span> <span style=\"background-color: #FFFCFC\">:</span> <span style=\"background-color: #FFFCFC\">basic</span> <span style=\"background-color: #F2F2FF\">:</span> <span style=\"background-color: #F6F6FF\">****</span> <span style=\"background-color: #F0F0FF\">k</span> <span style=\"background-color: #FEFEFF\">****</span> <span style=\"background-color: #FEFEFF\">k</span> <span style=\"background-color: #FEFEFF\">,</span> <span style=\"background-color: #FFDCDC\">uncapped</span> <span style=\"background-color: #FAFAFF\">bonus</span> <span style=\"background-color: #FFF8F8\">in</span> <span style=\"background-color: #FFEEEE\">addition</span> <span style=\"background-color: #FFF8F8\">,</span> <span style=\"background-color: #FFF4F4\">full</span> <span style=\"background-color: #F6F6FF\">corporate</span> <span style=\"background-color: #FCFCFF\">benefits</span> <span style=\"background-color: #FEFEFF\">company</span> <span style=\"background-color: #FFFCFC\">information</span> <span style=\"background-color: #FFF8F8\">hugely</span> <span style=\"background-color: #FFF2F2\">ethical</span> <span style=\"background-color: #ECECFF\">and</span> <span style=\"background-color: #FFFCFC\">professional</span> <span style=\"background-color: #C3C3FF\">global</span> <span style=\"background-color: #FFEAEA\">organisation</span> <span style=\"background-color: #D2D2FF\">extremely</span> <span style=\"background-color: #CACAFF\">well</span> <span style=\"background-color: #FFBCBC\">established</span> <span style=\"background-color: #FFFAFA\">in</span> <span style=\"background-color: #EAEAFF\">the</span> <span style=\"background-color: #FFE8E8\">uk</span> <span style=\"background-color: #E8E8FF\">the</span> <span style=\"background-color: #D3D3FF\">market</span> <span style=\"background-color: #FFDEDE\">leader</span> <span style=\"background-color: #FCFCFF\">across</span> <span style=\"background-color: #FAFAFF\">all</span> <span style=\"background-color: #EAEAFF\">of</span> <span style=\"background-color: #FFFAFA\">their</span> <span style=\"background-color: #E0E0FF\">core</span> <span style=\"background-color: #F8F8FF\">business</span> <span style=\"background-color: #FCFCFF\">areas</span> <span style=\"background-color: #FFE0E0\">focus</span> <span style=\"background-color: #F6F6FF\">on</span> <span style=\"background-color: #FFDCDC\">providing</span> <span style=\"background-color: #E0E0FF\">cutting</span> <span style=\"background-color: #B8B8FF\">edge</span> <span style=\"background-color: #E6E6FF\">solutions</span> <span style=\"background-color: #FFF2F2\">along</span> <span style=\"background-color: #FFFAFA\">with</span> <span style=\"background-color: #FFFEFE\">outstanding</span> <span style=\"background-color: #FFE0E0\">service</span> <span style=\"background-color: #ECECFF\">and</span> <span style=\"background-color: #FFF2F2\">support</span> <span style=\"background-color: #F0F0FF\">a</span> <span style=\"background-color: #D6D6FF\">business</span> <span style=\"background-color: #F8F8FF\">that</span> <span style=\"background-color: #FFF4F4\">retain</span> <span style=\"background-color: #EEEEFF\">talented</span> <span style=\"background-color: #FFECEC\">personnel</span> <span style=\"background-color: #FFE0E0\">by</span> <span style=\"background-color: #FFFEFE\">offering</span> <span style=\"background-color: #F0F0FF\">a</span> <span style=\"background-color: #FFF6F6\">strong</span> <span style=\"background-color: #D3D3FF\">platform</span> <span style=\"background-color: #D0D0FF\">for</span> <span style=\"background-color: #FFDEDE\">career</span> <span style=\"background-color: #DEDEFF\">development</span> <span style=\"background-color: #FCFCFF\">sales</span> <span style=\"background-color: #FFE0E0\">specialist</span> <span style=\"background-color: #FAFAFF\">iv</span> <span style=\"background-color: #F6F6FF\">access</span> <span style=\"background-color: #FEFEFF\">and</span> <span style=\"background-color: #FFF4F4\">infusion</span> <span style=\"background-color: #FEFEFF\">you</span> <span style=\"background-color: #F8F8FF\">must</span> <span style=\"background-color: #FFF4F4\">have</span> <span style=\"background-color: #FCFCFF\">/</span> <span style=\"background-color: #FFFEFE\">be</span> <span style=\"background-color: #FFF0F0\">the</span> <span style=\"background-color: #F8F8FF\">following</span> <span style=\"background-color: #F6F6FF\">at</span> <span style=\"background-color: #FCFCFF\">least</span> <span style=\"background-color: #FFF0F0\">2</span> <span style=\"background-color: #F6F6FF\">years</span> <span style=\"background-color: #F6F6FF\">medical</span> <span style=\"background-color: #FAFAFF\">device</span> <span style=\"background-color: #FCFCFF\">sales</span> <span style=\"background-color: #FAFAFF\">experience</span> <span style=\"background-color: #FFFEFE\">.</span> <span style=\"background-color: #FFFEFE\">candidates</span> <span style=\"background-color: #FFF8F8\">who</span> <span style=\"background-color: #FFFEFE\">have</span> <span style=\"background-color: #FFFEFE\">sold</span> <span style=\"background-color: #FFF0F0\">disposables</span> <span style=\"background-color: #FFFEFE\">/</span> <span style=\"background-color: #FFFEFE\">consumables</span> <span style=\"background-color: #FFFCFC\">or</span> <span style=\"background-color: #FFFCFC\">similar</span> <span style=\"background-color: #FFFEFE\">into</span> <span style=\"background-color: #FFFEFE\">hospitals</span> <span style=\"background-color: #FFFEFE\">would</span> <span style=\"background-color: #FFFEFE\">be</span> <span style=\"background-color: #FFFEFE\">of</span> <span style=\"background-color: #FFFEFE\">particular</span> <span style=\"background-color: #FFFEFE\">interest</span> <span style=\"background-color: #FFFCFC\">.</span> <span style=\"background-color: #FFFEFE\">candidates</span> <span style=\"background-color: #FFFEFE\">must</span> <span style=\"background-color: #FFFCFC\">have</span> <span style=\"background-color: #FFFEFE\">sold</span> <span style=\"background-color: #FFFEFE\">into</span> <span style=\"background-color: #FFFAFA\">hospitals</span> <span style=\"background-color: #FFFEFE\">demonstrable</span> <span style=\"background-color: #FFFEFE\">performance</span> <span style=\"background-color: #FFFCFC\">and</span> <span style=\"background-color: #FFFEFE\">achievements</span> <span style=\"background-color: #FFFEFE\">so</span> <span style=\"background-color: #FFFEFE\">far</span> <span style=\"background-color: #FFFEFE\">personable</span> <span style=\"background-color: #FFFEFE\">,</span> <span style=\"background-color: #FFF0F0\">adaptable</span> <span style=\"background-color: #FFFEFE\">and</span> <span style=\"background-color: #FFFEFE\">willing</span> <span style=\"background-color: #FFFEFE\">to</span> <span style=\"background-color: #FFEEEE\">learn</span> <span style=\"background-color: #FFF0F0\">keen</span> <span style=\"background-color: #FFFEFE\">and</span> <span style=\"background-color: #FFF8F8\">eager</span> <span style=\"background-color: #FFFCFC\">to</span> <span style=\"background-color: #FFFAFA\">be</span> <span style=\"background-color: #FFF8F8\">a</span> <span style=\"background-color: #FFFEFE\">success</span> <span style=\"background-color: #FFFEFE\">candidates</span> <span style=\"background-color: #FFFEFE\">must</span> <span style=\"background-color: #FFFEFE\">have</span> <span style=\"background-color: #FFF6F6\">a</span> <span style=\"background-color: #FFFEFE\">degree</span> <span style=\"background-color: #FFFEFE\">or</span> <span style=\"background-color: #FFFEFE\">at</span> <span style=\"background-color: #FFFEFE\">least</span> <span style=\"background-color: #FFFAFA\">be</span> <span style=\"background-color: #FFFCFC\">able</span> <span style=\"background-color: #FFFAFA\">to</span> <span style=\"background-color: #FFF6F6\">show</span> <span style=\"background-color: #FFFEFE\">a</span> <span style=\"background-color: #FFFEFE\">strong</span> <span style=\"background-color: #FFFEFE\">ability</span> <span style=\"background-color: #FFECEC\">to</span> <span style=\"background-color: #FFEEEE\">learn</span> <span style=\"background-color: #FFFCFC\">role</span> <span style=\"background-color: #FFFEFE\">information</span> <span style=\"background-color: #FFFEFE\">managing</span> <span style=\"background-color: #FFFEFE\">the</span> <span style=\"background-color: #FFFAFA\">east</span> <span style=\"background-color: #FFFEFE\">midlands</span> <span style=\"background-color: #FFFEFE\">region</span> <span style=\"background-color: #FFFEFE\">selling</span> <span style=\"background-color: #FFFEFE\">across</span> <span style=\"background-color: #FFF8F8\">the</span> <span style=\"background-color: #FFEEEE\">company</span> <span style=\"background-color: #FFFEFE\">'</span> <span style=\"background-color: #FFFEFE\">s</span> <span style=\"background-color: #FFF8F8\">range</span> <span style=\"background-color: #FFFEFE\">of</span> <span style=\"background-color: #FFFEFE\">iv</span> <span style=\"background-color: #FFF2F2\">and</span> <span style=\"background-color: #FFFCFC\">infusion</span> <span style=\"background-color: #FFFEFE\">solutions</span> <span style=\"background-color: #FFFEFE\">portfolio</span> <span style=\"background-color: #FFFEFE\">selling</span> <span style=\"background-color: #FFFEFE\">into</span> <span style=\"background-color: #FFFCFC\">lead</span> <span style=\"background-color: #FFF4F4\">intensive</span> <span style=\"background-color: #FFFEFE\">care</span> <span style=\"background-color: #FFF0F0\">nurse</span> <span style=\"background-color: #FCFCFF\">specialists</span> <span style=\"background-color: #FCFCFF\">,</span> <span style=\"background-color: #FCFCFF\">ward</span> <span style=\"background-color: #FFECEC\">managers</span> <span style=\"background-color: #FCFCFF\">,</span> <span style=\"background-color: #FFECEC\">iv</span> <span style=\"background-color: #FCFCFF\">teams</span> <span style=\"background-color: #FFF2F2\">,</span> <span style=\"background-color: #FCFCFF\">infection</span> <span style=\"background-color: #FFF8F8\">control</span> <span style=\"background-color: #FCFCFF\">teams</span> <span style=\"background-color: #FFFCFC\">,</span> <span style=\"background-color: #FFF6F6\">procurement</span> <span style=\"background-color: #FCFCFF\">sales</span> <span style=\"background-color: #FFFCFC\">specialist</span> <span style=\"background-color: #FFF0F0\">iv</span> <span style=\"background-color: #FEFEFF\">access</span> <span style=\"background-color: #FFF8F8\">and</span> <span style=\"background-color: #FCFCFF\">infusion</span> <span style=\"background-color: #FFECEC\">candidates</span> <span style=\"background-color: #FCFCFF\">must</span> <span style=\"background-color: #FFFEFE\">be</span> <span style=\"background-color: #FCFCFF\">eligible</span> <span style=\"background-color: #FCFCFF\">to</span> <span style=\"background-color: #FEFEFF\">work</span> <span style=\"background-color: #FFF6F6\">and</span> <span style=\"background-color: #FCFCFF\">live</span> <span style=\"background-color: #FCFCFF\">in</span> <span style=\"background-color: #FFF0F0\">the</span> <span style=\"background-color: #FCFCFF\">uk</span> <span style=\"background-color: #FFFAFA\">.</span> <span style=\"background-color: #FFEEEE\">please</span> <span style=\"background-color: #FCFCFF\">contact</span> <span style=\"background-color: #FFFCFC\">allan</span> <span style=\"background-color: #FFF0F0\">waller</span> <span style=\"background-color: #FFFEFE\">on</span> <span style=\"background-color: #FCFCFF\">****</span> <span style=\"background-color: #FFF2F2\">****</span> <span style=\"background-color: #FFFCFC\">****</span> <span style=\"background-color: #FEFEFF\">or</span> <span style=\"background-color: #FCFCFF\">please</span> <span style=\"background-color: #FCFCFF\">hit</span> <span style=\"background-color: #FCFCFF\">the</span> <span style=\"background-color: #FCFCFF\">apply</span> <span style=\"background-color: #FFF6F6\">button</span> <span style=\"background-color: #FCFCFF\">.</span> <span style=\"background-color: #FFFAFA\">this</span> <span style=\"background-color: #FFFEFE\">job</span> <span style=\"background-color: #FFFEFE\">was</span> <span style=\"background-color: #FFFEFE\">originally</span> <span style=\"background-color: #FFFEFE\">posted</span> <span style=\"background-color: #FFFEFE\">as</span> <span style=\"background-color: #FFFEFE\">www</span> <span style=\"background-color: #FFFEFE\">.</span> <span style=\"background-color: #FFFEFE\">salestarget</span> <span style=\"background-color: #FFFEFE\">.</span> <span style=\"background-color: #FFFEFE\">co</span> <span style=\"background-color: #FFFEFE\">.</span> <span style=\"background-color: #FFFEFE\">uk</span> <span style=\"background-color: #FFFEFE\">/</span> <span style=\"background-color: #FFFEFE\">jobseeking</span> <span style=\"background-color: #FFFEFE\">/</span> <span style=\"background-color: #FFFEFE\">UNK</span> <span style=\"background-color: #FFFEFE\">****</span></p>"
      ]
     },
     "metadata": {},
     "output_type": "display_data"
    }
   ],
   "source": [
    "i = 36605\n",
    "tokens_and_weights = explain(model, data.loc[i], \"Title\")\n",
    "draw_html([(tok, weight * 5) for tok, weight in tokens_and_weights], font_style='font-size:20px;');\n",
    "\n",
    "tokens_and_weights = explain(model, data.loc[i], \"FullDescription\")\n",
    "draw_html([(tok, weight * 10) for tok, weight in tokens_and_weights]);"
   ]
  },
  {
   "cell_type": "code",
   "execution_count": 94,
   "metadata": {
    "ExecuteTime": {
     "end_time": "2018-09-26T15:00:56.044892Z",
     "start_time": "2018-09-26T15:00:55.919884Z"
    }
   },
   "outputs": [
    {
     "data": {
      "text/html": [
       "<p style=\"font-size:20px;\"><span style=\"background-color: #FFC0C0\">cleaning</span> <span style=\"background-color: #FF9C9C\">operative</span></p>"
      ]
     },
     "metadata": {},
     "output_type": "display_data"
    },
    {
     "data": {
      "text/html": [
       "<p style=\"font-size:14px;\"><span style=\"background-color: #FFF2F2\">12</span> <span style=\"background-color: #FFF8F8\">.</span> <span style=\"background-color: #FEFEFF\">5</span> <span style=\"background-color: #FFF6F6\">hours</span> <span style=\"background-color: #FCFCFF\">per</span> <span style=\"background-color: #FCFCFF\">week</span> <span style=\"background-color: #FFF2F2\">monday</span> <span style=\"background-color: #FCFCFF\">friday</span> <span style=\"background-color: #FFFEFE\">9am</span> <span style=\"background-color: #FFFEFE\">11</span> <span style=\"background-color: #FFF6F6\">.</span> <span style=\"background-color: #FFD8D8\">30am</span> <span style=\"background-color: #FFECEC\">duties</span> <span style=\"background-color: #E3E3FF\">to</span> <span style=\"background-color: #F8F8FF\">include</span> <span style=\"background-color: #FFCECE\">sweeping</span> <span style=\"background-color: #FFFAFA\">,</span> <span style=\"background-color: #FFE4E4\">mopping</span> <span style=\"background-color: #FFE0E0\">,</span> <span style=\"background-color: #FFF0F0\">vacuuming</span> <span style=\"background-color: #DCDCFF\">,</span> <span style=\"background-color: #FFB6B6\">buffing</span> <span style=\"background-color: #FFECEC\">,</span> <span style=\"background-color: #FFA2A2\">cleaning</span> <span style=\"background-color: #FFD6D6\">staff</span> <span style=\"background-color: #FFDCDC\">toilets</span> <span style=\"background-color: #FFF2F2\">and</span> <span style=\"background-color: #FFE6E6\">rest</span> <span style=\"background-color: #FFC3C3\">room</span> <span style=\"background-color: #F3F3FF\">.</span> <span style=\"background-color: #F8F8FF\">must</span> <span style=\"background-color: #F6F6FF\">be</span> <span style=\"background-color: #FFDCDC\">able</span> <span style=\"background-color: #DADAFF\">to</span> <span style=\"background-color: #FFD3D3\">read</span> <span style=\"background-color: #FFE4E4\">as</span> <span style=\"background-color: #FFF0F0\">they</span> <span style=\"background-color: #FFF0F0\">will</span> <span style=\"background-color: #FFE2E2\">be</span> <span style=\"background-color: #F8F8FF\">using</span> <span style=\"background-color: #FEFEFF\">UNK</span> <span style=\"background-color: #E2E2FF\">which</span> <span style=\"background-color: #DCDCFF\">need</span> <span style=\"background-color: #FEFEFF\">UNK</span> <span style=\"background-color: #FFDCDC\">as</span> <span style=\"background-color: #E0E0FF\">per</span> <span style=\"background-color: #FFCACA\">instructions</span> <span style=\"background-color: #CACAFF\">on</span> <span style=\"background-color: #FFF2F2\">the</span> <span style=\"background-color: #FFDADA\">containers</span> <span style=\"background-color: #E3E3FF\">.</span> <span style=\"background-color: #FFE4E4\">sucessfull</span> <span style=\"background-color: #FFF4F4\">applicants</span> <span style=\"background-color: #FFE8E8\">will</span> <span style=\"background-color: #FAFAFF\">be</span> <span style=\"background-color: #FFD8D8\">trained</span> <span style=\"background-color: #EAEAFF\">on</span> <span style=\"background-color: #FFF4F4\">all</span> <span style=\"background-color: #FCFCFF\">electrical</span> <span style=\"background-color: #FFA3A3\">appliances</span> <span style=\"background-color: #FAFAFF\">and</span> <span style=\"background-color: #FEFEFF\">UNK</span> <span style=\"background-color: #FEFEFF\">of</span> <span style=\"background-color: #FFD2D2\">cleaning</span> <span style=\"background-color: #F6F6FF\">materials</span> <span style=\"background-color: #F0F0FF\">.</span></p>"
      ]
     },
     "metadata": {},
     "output_type": "display_data"
    }
   ],
   "source": [
    "i = 12077\n",
    "tokens_and_weights = explain(model, data.loc[i], \"Title\")\n",
    "draw_html([(tok, weight * 5) for tok, weight in tokens_and_weights], font_style='font-size:20px;');\n",
    "\n",
    "tokens_and_weights = explain(model, data.loc[i], \"FullDescription\")\n",
    "draw_html([(tok, weight * 10) for tok, weight in tokens_and_weights]);"
   ]
  },
  {
   "cell_type": "code",
   "execution_count": 152,
   "metadata": {
    "ExecuteTime": {
     "end_time": "2018-09-26T15:22:48.003146Z",
     "start_time": "2018-09-26T15:22:47.999130Z"
    }
   },
   "outputs": [
    {
     "data": {
      "text/plain": [
       "Index(['Id', 'Title', 'FullDescription', 'LocationRaw', 'LocationNormalized',\n",
       "       'ContractType', 'ContractTime', 'Company', 'Category', 'SalaryRaw',\n",
       "       'SalaryNormalized', 'SourceName', 'Log1pSalary'],\n",
       "      dtype='object')"
      ]
     },
     "execution_count": 152,
     "metadata": {},
     "output_type": "execute_result"
    }
   ],
   "source": [
    "data.columns"
   ]
  },
  {
   "cell_type": "code",
   "execution_count": 154,
   "metadata": {
    "ExecuteTime": {
     "end_time": "2018-09-26T15:24:57.182040Z",
     "start_time": "2018-09-26T15:24:56.440583Z"
    }
   },
   "outputs": [
    {
     "name": "stdout",
     "output_type": "stream",
     "text": [
      "Index: 184180\n",
      "[PRED]: Salary (gbp): 17840.217\n",
      "[TRUE]: Salary (gbp): 62499\n"
     ]
    },
    {
     "data": {
      "text/html": [
       "<p style=\"font-size:20px;\"><span style=\"background-color: #FFECEC\">it</span> <span style=\"background-color: #FFCECE\">audit</span> <span style=\"background-color: #FEFEFF\">manager</span> <span style=\"background-color: #D0D0FF\">(</span> <span style=\"background-color: #FFBCBC\">avp</span> <span style=\"background-color: #E2E2FF\">)</span></p>"
      ]
     },
     "metadata": {},
     "output_type": "display_data"
    },
    {
     "data": {
      "text/html": [
       "<p style=\"font-size:14px;\"><span style=\"background-color: #FFFEFE\">it</span> <span style=\"background-color: #FFEEEE\">audit</span> <span style=\"background-color: #F2F2FF\">senior</span> <span style=\"background-color: #FFFAFA\">it</span> <span style=\"background-color: #EEEEFF\">auditor</span> <span style=\"background-color: #EEEEFF\">banking</span> <span style=\"background-color: #FFF4F4\">internal</span> <span style=\"background-color: #FFF6F6\">audit</span> <span style=\"background-color: #FFCCCC\">fs</span> <span style=\"background-color: #FFF8F8\">london</span> <span style=\"background-color: #FFFAFA\">****</span> <span style=\"background-color: #EAEAFF\">k</span> <span style=\"background-color: #FEFEFF\">****</span> <span style=\"background-color: #FFFEFE\">k</span> <span style=\"background-color: #FFFEFE\">i</span> <span style=\"background-color: #FFF6F6\">am</span> <span style=\"background-color: #F8F8FF\">currently</span> <span style=\"background-color: #F8F8FF\">seeking</span> <span style=\"background-color: #FFECEC\">an</span> <span style=\"background-color: #FFFEFE\">it</span> <span style=\"background-color: #FAFAFF\">auditor</span> <span style=\"background-color: #FFF4F4\">to</span> <span style=\"background-color: #FFEEEE\">join</span> <span style=\"background-color: #FCFCFF\">a</span> <span style=\"background-color: #FFFEFE\">prestigious</span> <span style=\"background-color: #EAEAFF\">investment</span> <span style=\"background-color: #F3F3FF\">bank</span> <span style=\"background-color: #EAEAFF\">at</span> <span style=\"background-color: #F8F8FF\">the</span> <span style=\"background-color: #EAEAFF\">senior</span> <span style=\"background-color: #FFF0F0\">it</span> <span style=\"background-color: #F6F6FF\">auditor</span> <span style=\"background-color: #EAEAFF\">level</span> <span style=\"background-color: #EAEAFF\">based</span> <span style=\"background-color: #F0F0FF\">in</span> <span style=\"background-color: #FFEEEE\">london</span> <span style=\"background-color: #EAEAFF\">.</span> <span style=\"background-color: #F2F2FF\">this</span> <span style=\"background-color: #FCFCFF\">is</span> <span style=\"background-color: #FFF6F6\">a</span> <span style=\"background-color: #F0F0FF\">fantastic</span> <span style=\"background-color: #FEFEFF\">opportunity</span> <span style=\"background-color: #F2F2FF\">for</span> <span style=\"background-color: #FFFEFE\">the</span> <span style=\"background-color: #EAEAFF\">successful</span> <span style=\"background-color: #FFF0F0\">applicant</span> <span style=\"background-color: #F3F3FF\">to</span> <span style=\"background-color: #F6F6FF\">join</span> <span style=\"background-color: #FFF8F8\">a</span> <span style=\"background-color: #ECECFF\">top</span> <span style=\"background-color: #F3F3FF\">performing</span> <span style=\"background-color: #FFFEFE\">team</span> <span style=\"background-color: #FFFEFE\">in</span> <span style=\"background-color: #FFFEFE\">both</span> <span style=\"background-color: #FFFEFE\">the</span> <span style=\"background-color: #FFFEFE\">it</span> <span style=\"background-color: #FFF8F8\">auditing</span> <span style=\"background-color: #FFFEFE\">and</span> <span style=\"background-color: #FFFEFE\">financial</span> <span style=\"background-color: #FFFEFE\">services</span> <span style=\"background-color: #FFFEFE\">sector</span> <span style=\"background-color: #FFFEFE\">.</span> <span style=\"background-color: #FFFEFE\">the</span> <span style=\"background-color: #FFFEFE\">core</span> <span style=\"background-color: #FFFEFE\">responsibilities</span> <span style=\"background-color: #FFFEFE\">of</span> <span style=\"background-color: #FFFEFE\">the</span> <span style=\"background-color: #FFFEFE\">role</span> <span style=\"background-color: #FFFEFE\">include</span> <span style=\"background-color: #FFFEFE\">:</span> <span style=\"background-color: #FFFEFE\">constructing</span> <span style=\"background-color: #FFFEFE\">annual</span> <span style=\"background-color: #FFFEFE\">audit</span> <span style=\"background-color: #FFFEFE\">plans</span> <span style=\"background-color: #FFFEFE\">in</span> <span style=\"background-color: #FFFEFE\">accordance</span> <span style=\"background-color: #FFFEFE\">with</span> <span style=\"background-color: #FFFEFE\">the</span> <span style=\"background-color: #FFFEFE\">relevant</span> <span style=\"background-color: #FFFEFE\">policies</span> <span style=\"background-color: #FFFEFE\">,</span> <span style=\"background-color: #FFFEFE\">procedures</span> <span style=\"background-color: #FFFEFE\">and</span> <span style=\"background-color: #FFFEFE\">to</span> <span style=\"background-color: #FFFEFE\">a</span> <span style=\"background-color: #FFFEFE\">high</span> <span style=\"background-color: #FFFEFE\">standard</span> <span style=\"background-color: #FFFEFE\">of</span> <span style=\"background-color: #FFFEFE\">quality</span> <span style=\"background-color: #FFFEFE\">,</span> <span style=\"background-color: #FFFEFE\">include</span> <span style=\"background-color: #FFFEFE\">identifying</span> <span style=\"background-color: #FFFEFE\">,</span> <span style=\"background-color: #FFFEFE\">assessing</span> <span style=\"background-color: #FFFEFE\">and</span> <span style=\"background-color: #FFFEFE\">documenting</span> <span style=\"background-color: #FFFEFE\">risk</span> <span style=\"background-color: #FFFEFE\">and</span> <span style=\"background-color: #FFFEFE\">controls</span> <span style=\"background-color: #FFFEFE\">,</span> <span style=\"background-color: #FFFEFE\">evaluating</span> <span style=\"background-color: #FFFEFE\">the</span> <span style=\"background-color: #FFFEFE\">design</span> <span style=\"background-color: #FFFEFE\">and</span> <span style=\"background-color: #FFFEFE\">operating</span> <span style=\"background-color: #FFFEFE\">effectiveness</span> <span style=\"background-color: #FFFEFE\">of</span> <span style=\"background-color: #FFFEFE\">controls</span> <span style=\"background-color: #FFFEFE\">providing</span> <span style=\"background-color: #FFFEFE\">suggestions</span> <span style=\"background-color: #FFFEFE\">to</span> <span style=\"background-color: #FFFEFE\">management</span> <span style=\"background-color: #FFFEFE\">on</span> <span style=\"background-color: #FFFEFE\">how</span> <span style=\"background-color: #FFFEFE\">to</span> <span style=\"background-color: #FFFEFE\">address</span> <span style=\"background-color: #FFFEFE\">any</span> <span style=\"background-color: #FFFEFE\">control</span> <span style=\"background-color: #FFFEFE\">issues</span> <span style=\"background-color: #FFFEFE\">that</span> <span style=\"background-color: #FFFEFE\">have</span> <span style=\"background-color: #FFFEFE\">been</span> <span style=\"background-color: #FFFEFE\">discovered</span> <span style=\"background-color: #FFFEFE\">.</span> <span style=\"background-color: #FFFEFE\">for</span> <span style=\"background-color: #FFFEFE\">this</span> <span style=\"background-color: #FFF0F0\">it</span> <span style=\"background-color: #FAFAFF\">audit</span> <span style=\"background-color: #EAEAFF\">senior</span> <span style=\"background-color: #FFFAFA\">role</span> <span style=\"background-color: #F2F2FF\">,</span> <span style=\"background-color: #F3F3FF\">the</span> <span style=\"background-color: #FFF6F6\">perfect</span> <span style=\"background-color: #FCFCFF\">candidate</span> <span style=\"background-color: #FFFAFA\">will</span> <span style=\"background-color: #FFFEFE\">already</span> <span style=\"background-color: #FFFAFA\">have</span> <span style=\"background-color: #FFF6F6\">2</span> <span style=\"background-color: #EEEEFF\">years</span> <span style=\"background-color: #EEEEFF\">experience</span> <span style=\"background-color: #F6F6FF\">in</span> <span style=\"background-color: #E3E3FF\">risk</span> <span style=\"background-color: #FAFAFF\">based</span> <span style=\"background-color: #FFF0F0\">auditing</span> <span style=\"background-color: #EEEEFF\">,</span> <span style=\"background-color: #EEEEFF\">with</span> <span style=\"background-color: #FEFEFF\">a</span> <span style=\"background-color: #ECECFF\">strong</span> <span style=\"background-color: #D2D2FF\">background</span> <span style=\"background-color: #F8F8FF\">in</span> <span style=\"background-color: #A6A6FF\">investment</span> <span style=\"background-color: #D0D0FF\">banking</span> <span style=\"background-color: #ECECFF\">,</span> <span style=\"background-color: #FFDCDC\">either</span> <span style=\"background-color: #FCFCFF\">within</span> <span style=\"background-color: #FCFCFF\">a</span> <span style=\"background-color: #E0E0FF\">big</span> <span style=\"background-color: #FFF8F8\">4</span> <span style=\"background-color: #ECECFF\">or</span> <span style=\"background-color: #FFCECE\">internal</span> <span style=\"background-color: #E0E0FF\">audit</span> <span style=\"background-color: #FFE2E2\">environment</span> <span style=\"background-color: #F2F2FF\">.</span> <span style=\"background-color: #FFFAFA\">in</span> <span style=\"background-color: #FFD6D6\">addition</span> <span style=\"background-color: #FFF8F8\">,</span> <span style=\"background-color: #FCFCFF\">a</span> <span style=\"background-color: #EEEEFF\">proven</span> <span style=\"background-color: #DADAFF\">technical</span> <span style=\"background-color: #FFDCDC\">knowledge</span> <span style=\"background-color: #EAEAFF\">and</span> <span style=\"background-color: #E6E6FF\">record</span> <span style=\"background-color: #E2E2FF\">of</span> <span style=\"background-color: #E0E0FF\">high</span> <span style=\"background-color: #F0F0FF\">performance</span> <span style=\"background-color: #EEEEFF\">in</span> <span style=\"background-color: #FFF2F2\">previous</span> <span style=\"background-color: #FFF8F8\">roles</span> <span style=\"background-color: #FFF6F6\">as</span> <span style=\"background-color: #F6F6FF\">well</span> <span style=\"background-color: #FFEEEE\">as</span> <span style=\"background-color: #F6F6FF\">the</span> <span style=\"background-color: #F3F3FF\">relevant</span> <span style=\"background-color: #FFF6F6\">qualifications</span> <span style=\"background-color: #FCFCFF\">,</span> <span style=\"background-color: #FFF2F2\">including</span> <span style=\"background-color: #CCCCFF\">cisa</span> <span style=\"background-color: #FFF2F2\">,</span> <span style=\"background-color: #FEFEFF\">are</span> <span style=\"background-color: #F2F2FF\">preferred</span> <span style=\"background-color: #ECECFF\">.</span> <span style=\"background-color: #FCFCFF\">to</span> <span style=\"background-color: #F3F3FF\">find</span> <span style=\"background-color: #E8E8FF\">out</span> <span style=\"background-color: #FFF2F2\">more</span> <span style=\"background-color: #FFFEFE\">about</span> <span style=\"background-color: #FFFCFC\">real</span> <span style=\"background-color: #FFFEFE\">please</span> <span style=\"background-color: #FFFEFE\">visit</span> <span style=\"background-color: #FFFEFE\">www</span> <span style=\"background-color: #FFFEFE\">.</span> <span style=\"background-color: #FFFEFE\">realstaffing</span> <span style=\"background-color: #FFFEFE\">.</span> <span style=\"background-color: #FFFEFE\">com</span></p>"
      ]
     },
     "metadata": {},
     "output_type": "display_data"
    }
   ],
   "source": [
    "i = np.random.randint(len(data))\n",
    "print(\"Index:\", i)\n",
    "print(\"[PRED]: Salary (gbp):\", np.expm1(model.predict(make_batch(data.iloc[i: i+1]))[0, 0]))\n",
    "print(\"[TRUE]: Salary (gbp):\", data.loc[i, 'SalaryNormalized'])\n",
    "\n",
    "tokens_and_weights = explain(model, data.loc[i], \"Title\")\n",
    "draw_html([(tok, weight * 5) for tok, weight in tokens_and_weights], font_style='font-size:20px;');\n",
    "\n",
    "tokens_and_weights = explain(model, data.loc[i], \"FullDescription\")\n",
    "draw_html([(tok, weight * 10) for tok, weight in tokens_and_weights]);"
   ]
  },
  {
   "cell_type": "code",
   "execution_count": 98,
   "metadata": {
    "ExecuteTime": {
     "end_time": "2018-09-26T15:11:06.410614Z",
     "start_time": "2018-09-26T15:11:06.407105Z"
    }
   },
   "outputs": [],
   "source": [
    "case = data.loc[i].copy()"
   ]
  },
  {
   "cell_type": "code",
   "execution_count": 100,
   "metadata": {
    "ExecuteTime": {
     "end_time": "2018-09-26T15:11:18.715068Z",
     "start_time": "2018-09-26T15:11:18.711057Z"
    }
   },
   "outputs": [
    {
     "data": {
      "text/plain": [
       "'italian speaking customer support manager'"
      ]
     },
     "execution_count": 100,
     "metadata": {},
     "output_type": "execute_result"
    }
   ],
   "source": [
    "case.Title"
   ]
  },
  {
   "cell_type": "code",
   "execution_count": 135,
   "metadata": {
    "ExecuteTime": {
     "end_time": "2018-09-26T15:18:07.851261Z",
     "start_time": "2018-09-26T15:18:07.847751Z"
    }
   },
   "outputs": [],
   "source": [
    "case.Title = 'data engineer'\n",
    "case.FullDescription = \"not so much info here\""
   ]
  },
  {
   "cell_type": "code",
   "execution_count": 136,
   "metadata": {
    "ExecuteTime": {
     "end_time": "2018-09-26T15:18:08.300598Z",
     "start_time": "2018-09-26T15:18:08.272140Z"
    }
   },
   "outputs": [
    {
     "name": "stdout",
     "output_type": "stream",
     "text": [
      "Salary (gbp): 591.87665\n"
     ]
    },
    {
     "data": {
      "text/html": [
       "<p style=\"font-size:20px;\"><span style=\"background-color: #FFF0F0\">data</span> <span style=\"background-color: #FFEEEE\">engineer</span></p>"
      ]
     },
     "metadata": {},
     "output_type": "display_data"
    },
    {
     "data": {
      "text/html": [
       "<p style=\"font-size:14px;\"><span style=\"background-color: #FFE2E2\">not</span> <span style=\"background-color: #FFFCFC\">so</span> <span style=\"background-color: #E8E8FF\">much</span> <span style=\"background-color: #FFE6E6\">info</span> <span style=\"background-color: #D0D0FF\">here</span></p>"
      ]
     },
     "metadata": {},
     "output_type": "display_data"
    }
   ],
   "source": [
    "print(\"Salary (gbp):\", np.expm1(model.predict(make_batch(case.to_frame().T))[0, 0]))\n",
    "\n",
    "tokens_and_weights_title = explain(model, case, \"Title\")\n",
    "draw_html([(tok, weight * 5) for tok, weight in tokens_and_weights_title], font_style='font-size:20px;');\n",
    "\n",
    "tokens_and_weights_descr = explain(model, case, \"FullDescription\")\n",
    "draw_html([(tok, weight * 10) for tok, weight in tokens_and_weights_descr]);"
   ]
  },
  {
   "cell_type": "code",
   "execution_count": 137,
   "metadata": {
    "ExecuteTime": {
     "end_time": "2018-09-26T15:18:09.347863Z",
     "start_time": "2018-09-26T15:18:09.336087Z"
    }
   },
   "outputs": [
    {
     "data": {
      "text/html": [
       "<div>\n",
       "<style scoped>\n",
       "    .dataframe tbody tr th:only-of-type {\n",
       "        vertical-align: middle;\n",
       "    }\n",
       "\n",
       "    .dataframe tbody tr th {\n",
       "        vertical-align: top;\n",
       "    }\n",
       "\n",
       "    .dataframe thead th {\n",
       "        text-align: right;\n",
       "    }\n",
       "</style>\n",
       "<table border=\"1\" class=\"dataframe\">\n",
       "  <thead>\n",
       "    <tr style=\"text-align: right;\">\n",
       "      <th></th>\n",
       "      <th>0</th>\n",
       "      <th>1</th>\n",
       "    </tr>\n",
       "  </thead>\n",
       "  <tbody>\n",
       "    <tr>\n",
       "      <th>0</th>\n",
       "      <td>data</td>\n",
       "      <td>-0.023366</td>\n",
       "    </tr>\n",
       "    <tr>\n",
       "      <th>1</th>\n",
       "      <td>engineer</td>\n",
       "      <td>-0.025332</td>\n",
       "    </tr>\n",
       "    <tr>\n",
       "      <th>0</th>\n",
       "      <td>not</td>\n",
       "      <td>-0.022086</td>\n",
       "    </tr>\n",
       "    <tr>\n",
       "      <th>1</th>\n",
       "      <td>so</td>\n",
       "      <td>-0.001782</td>\n",
       "    </tr>\n",
       "    <tr>\n",
       "      <th>2</th>\n",
       "      <td>much</td>\n",
       "      <td>0.017561</td>\n",
       "    </tr>\n",
       "    <tr>\n",
       "      <th>3</th>\n",
       "      <td>info</td>\n",
       "      <td>-0.019735</td>\n",
       "    </tr>\n",
       "    <tr>\n",
       "      <th>4</th>\n",
       "      <td>here</td>\n",
       "      <td>0.037857</td>\n",
       "    </tr>\n",
       "  </tbody>\n",
       "</table>\n",
       "</div>"
      ],
      "text/plain": [
       "          0         1\n",
       "0      data -0.023366\n",
       "1  engineer -0.025332\n",
       "0       not -0.022086\n",
       "1        so -0.001782\n",
       "2      much  0.017561\n",
       "3      info -0.019735\n",
       "4      here  0.037857"
      ]
     },
     "execution_count": 137,
     "metadata": {},
     "output_type": "execute_result"
    }
   ],
   "source": [
    "pd.concat((pd.DataFrame(tokens_and_weights_title), pd.DataFrame(tokens_and_weights_descr)))"
   ]
  },
  {
   "cell_type": "code",
   "execution_count": 103,
   "metadata": {
    "ExecuteTime": {
     "end_time": "2018-09-26T15:13:23.485955Z",
     "start_time": "2018-09-26T15:13:22.799808Z"
    },
    "deletable": false,
    "editable": false,
    "run_control": {
     "frozen": true
    }
   },
   "outputs": [
    {
     "name": "stdout",
     "output_type": "stream",
     "text": [
      "Salary (gbp): 4506.908\n"
     ]
    },
    {
     "data": {
      "text/html": [
       "<p style=\"font-size:20px;\"><span style=\"background-color: #FFB3B3\">italian</span> <span style=\"background-color: #FAFAFF\">speaking</span> <span style=\"background-color: #FFD6D6\">customer</span> <span style=\"background-color: #FFE0E0\">support</span> <span style=\"background-color: #FFFEFE\">manager</span></p>"
      ]
     },
     "metadata": {},
     "output_type": "display_data"
    },
    {
     "data": {
      "text/html": [
       "<p style=\"font-size:14px;\"><span style=\"background-color: #FFFEFE\">baltic</span> <span style=\"background-color: #FFFEFE\">recruitment</span> <span style=\"background-color: #FFFEFE\">are</span> <span style=\"background-color: #FFFEFE\">currently</span> <span style=\"background-color: #FFFEFE\">looking</span> <span style=\"background-color: #FFFEFE\">to</span> <span style=\"background-color: #FFFEFE\">recruit</span> <span style=\"background-color: #FFFEFE\">a</span> <span style=\"background-color: #FFFEFE\">native</span> <span style=\"background-color: #FFFEFE\">italian</span> <span style=\"background-color: #FFFEFE\">speaker</span> <span style=\"background-color: #FFFEFE\">who</span> <span style=\"background-color: #FFFEFE\">has</span> <span style=\"background-color: #FFFEFE\">a</span> <span style=\"background-color: #FFFEFE\">stong</span> <span style=\"background-color: #FFFEFE\">knowledge</span> <span style=\"background-color: #FFFEFE\">of</span> <span style=\"background-color: #FFFEFE\">online</span> <span style=\"background-color: #FFFEFE\">gaming</span> <span style=\"background-color: #FFFEFE\">,</span> <span style=\"background-color: #FFFEFE\">excellent</span> <span style=\"background-color: #FFFEFE\">customer</span> <span style=\"background-color: #FFFCFC\">service</span> <span style=\"background-color: #FFFEFE\">skills</span> <span style=\"background-color: #FEFEFF\">and</span> <span style=\"background-color: #FFFEFE\">experience</span> <span style=\"background-color: #F6F6FF\">in</span> <span style=\"background-color: #FFECEC\">dealing</span> <span style=\"background-color: #FAFAFF\">with</span> <span style=\"background-color: #F8F8FF\">technical</span> <span style=\"background-color: #FFD3D3\">queries</span> <span style=\"background-color: #FCFCFF\">.</span> <span style=\"background-color: #FFFCFC\">fluency</span> <span style=\"background-color: #FAFAFF\">in</span> <span style=\"background-color: #FFE8E8\">english</span> <span style=\"background-color: #FEFEFF\">,</span> <span style=\"background-color: #FFFAFA\">italian</span> <span style=\"background-color: #FAFAFF\">native</span> <span style=\"background-color: #FFFEFE\">experience</span> <span style=\"background-color: #FFFEFE\">in</span> <span style=\"background-color: #F8F8FF\">free</span> <span style=\"background-color: #F8F8FF\">to</span> <span style=\"background-color: #F8F8FF\">play</span> <span style=\"background-color: #FFFCFC\">games</span> <span style=\"background-color: #FFFEFE\">experience</span> <span style=\"background-color: #FFCACA\">working</span> <span style=\"background-color: #F2F2FF\">with</span> <span style=\"background-color: #FFFAFA\">online</span> <span style=\"background-color: #FFB3B3\">communities</span> <span style=\"background-color: #E6E6FF\">strong</span> <span style=\"background-color: #FFCECE\">communication</span> <span style=\"background-color: #FFE8E8\">skills</span> <span style=\"background-color: #F2F2FF\">experience</span> <span style=\"background-color: #FFF2F2\">with</span> <span style=\"background-color: #FFE8E8\">online</span> <span style=\"background-color: #F2F2FF\">and</span> <span style=\"background-color: #FFEEEE\">offline</span> <span style=\"background-color: #FFC6C6\">events</span> <span style=\"background-color: #FFFAFA\">familiar</span> <span style=\"background-color: #FAFAFF\">with</span> <span style=\"background-color: #FFFAFA\">social</span> <span style=\"background-color: #FFD0D0\">media</span> <span style=\"background-color: #EAEAFF\">and</span> <span style=\"background-color: #FEFEFF\">social</span> <span style=\"background-color: #FFE0E0\">media</span> <span style=\"background-color: #FFD8D8\">communication</span> <span style=\"background-color: #C8C8FF\">strategies</span> <span style=\"background-color: #F6F6FF\">familiar</span> <span style=\"background-color: #E8E8FF\">with</span> <span style=\"background-color: #FAFAFF\">rules</span> <span style=\"background-color: #EAEAFF\">of</span> <span style=\"background-color: #FFD6D6\">conduct</span> <span style=\"background-color: #F6F6FF\">,</span> <span style=\"background-color: #FFFEFE\">UNK</span> <span style=\"background-color: #EEEEFF\">and</span> <span style=\"background-color: #FFDEDE\">moderation</span> <span style=\"background-color: #EAEAFF\">familiar</span> <span style=\"background-color: #EEEEFF\">with</span> <span style=\"background-color: #FFF4F4\">cms</span> <span style=\"background-color: #F6F6FF\">(</span> <span style=\"background-color: #F3F3FF\">e</span> <span style=\"background-color: #FAFAFF\">.</span> <span style=\"background-color: #F6F6FF\">g</span> <span style=\"background-color: #FEFEFF\">.</span> <span style=\"background-color: #F6F6FF\">drupal</span> <span style=\"background-color: #FFF6F6\">)</span> <span style=\"background-color: #EEEEFF\">and</span> <span style=\"background-color: #FFB6B6\">forum</span> <span style=\"background-color: #FAFAFF\">software</span> <span style=\"background-color: #FAFAFF\">familiar</span> <span style=\"background-color: #FFFCFC\">with</span> <span style=\"background-color: #FFCCCC\">microsoft</span> <span style=\"background-color: #FFE4E4\">office</span> <span style=\"background-color: #E3E3FF\">core</span> <span style=\"background-color: #FFF0F0\">competencies</span> <span style=\"background-color: #FCFCFF\">and</span> <span style=\"background-color: #F2F2FF\">key</span> <span style=\"background-color: #FFE8E8\">responsibilities</span> <span style=\"background-color: #FFF4F4\">community</span> <span style=\"background-color: #FCFCFF\">building</span> <span style=\"background-color: #FCFCFF\">by</span> <span style=\"background-color: #FFF2F2\">human</span> <span style=\"background-color: #FFFEFE\">communication</span> <span style=\"background-color: #F6F6FF\">and</span> <span style=\"background-color: #FFF6F6\">interaction</span> <span style=\"background-color: #F2F2FF\">with</span> <span style=\"background-color: #FEFEFF\">the</span> <span style=\"background-color: #FFEEEE\">community</span> <span style=\"background-color: #FFFCFC\">information</span> <span style=\"background-color: #FFFCFC\">distribution</span> <span style=\"background-color: #FFFEFE\">from</span> <span style=\"background-color: #FFF8F8\">the</span> <span style=\"background-color: #FFF0F0\">company</span> <span style=\"background-color: #FFEAEA\">to</span> <span style=\"background-color: #F8F8FF\">the</span> <span style=\"background-color: #FFF2F2\">community</span> <span style=\"background-color: #FCFCFF\">in</span> <span style=\"background-color: #FFECEC\">a</span> <span style=\"background-color: #FFFCFC\">clear</span> <span style=\"background-color: #FFFEFE\">,</span> <span style=\"background-color: #FFEEEE\">consistent</span> <span style=\"background-color: #FFF6F6\">manner</span> <span style=\"background-color: #FFFCFC\">feedback</span> <span style=\"background-color: #FFF4F4\">gathering</span> <span style=\"background-color: #F3F3FF\">from</span> <span style=\"background-color: #FFF8F8\">the</span> <span style=\"background-color: #FFF8F8\">community</span> <span style=\"background-color: #FFFAFA\">for</span> <span style=\"background-color: #FFFEFE\">game</span> <span style=\"background-color: #FFF6F6\">design</span> <span style=\"background-color: #FFFCFC\">,</span> <span style=\"background-color: #FEFEFF\">development</span> <span style=\"background-color: #FAFAFF\">team</span> <span style=\"background-color: #FFF0F0\">and</span> <span style=\"background-color: #F8F8FF\">management</span> <span style=\"background-color: #FFF2F2\">working</span> <span style=\"background-color: #FFF6F6\">closelyknit</span> <span style=\"background-color: #FFFCFC\">with</span> <span style=\"background-color: #FFF4F4\">the</span> <span style=\"background-color: #FFFCFC\">support</span> <span style=\"background-color: #FCFCFF\">to</span> <span style=\"background-color: #FFE6E6\">streamline</span> <span style=\"background-color: #FFE0E0\">outgoing</span> <span style=\"background-color: #FFF2F2\">communication</span> <span style=\"background-color: #FFFAFA\">plan</span> <span style=\"background-color: #FFF2F2\">and</span> <span style=\"background-color: #F0F0FF\">execute</span> <span style=\"background-color: #FFFAFA\">content</span> <span style=\"background-color: #FFF0F0\">for</span> <span style=\"background-color: #FFF2F2\">all</span> <span style=\"background-color: #F3F3FF\">platforms</span> <span style=\"background-color: #FFFCFC\">(</span> <span style=\"background-color: #FFE2E2\">website</span> <span style=\"background-color: #FCFCFF\">,</span> <span style=\"background-color: #F8F8FF\">facebook</span> <span style=\"background-color: #F8F8FF\">,</span> <span style=\"background-color: #FFE4E4\">youtube</span> <span style=\"background-color: #F8F8FF\">,</span> <span style=\"background-color: #FFECEC\">twitter</span> <span style=\"background-color: #F8F8FF\">,</span> <span style=\"background-color: #FFD0D0\">forum</span> <span style=\"background-color: #FFF8F8\">)</span> <span style=\"background-color: #FEFEFF\">together</span> <span style=\"background-color: #FEFEFF\">with</span> <span style=\"background-color: #FFFCFC\">marketing</span> <span style=\"background-color: #FEFEFF\">and</span> <span style=\"background-color: #FEFEFF\">game</span> <span style=\"background-color: #FFF0F0\">mastering</span> <span style=\"background-color: #FEFEFF\">strategic</span> <span style=\"background-color: #FFF4F4\">community</span> <span style=\"background-color: #FFFEFE\">planning</span> <span style=\"background-color: #FEFEFF\">and</span> <span style=\"background-color: #FFF6F6\">moderation</span> <span style=\"background-color: #FEFEFF\">management</span> <span style=\"background-color: #FFFEFE\">plan</span> <span style=\"background-color: #FEFEFF\">and</span> <span style=\"background-color: #FEFEFF\">execute</span> <span style=\"background-color: #FFF6F6\">event</span> <span style=\"background-color: #FFFEFE\">concepts</span> <span style=\"background-color: #FFFEFE\">online</span> <span style=\"background-color: #FFFEFE\">and</span> <span style=\"background-color: #FFFEFE\">offline</span> <span style=\"background-color: #FFFEFE\">preferred</span> <span style=\"background-color: #FFFEFE\">additional</span> <span style=\"background-color: #FFFEFE\">experience</span> <span style=\"background-color: #FFFEFE\">passionate</span> <span style=\"background-color: #FFFEFE\">about</span> <span style=\"background-color: #FFFEFE\">online</span> <span style=\"background-color: #FFFEFE\">gaming</span> <span style=\"background-color: #FFFEFE\">additional</span> <span style=\"background-color: #FFFEFE\">languages</span> <span style=\"background-color: #FFFEFE\">uptodate</span> <span style=\"background-color: #FFFEFE\">on</span> <span style=\"background-color: #FFFEFE\">online</span> <span style=\"background-color: #FFFEFE\">and</span> <span style=\"background-color: #FFFEFE\">offline</span> <span style=\"background-color: #FFFEFE\">trends</span> <span style=\"background-color: #FFFEFE\">this</span> <span style=\"background-color: #FFFEFE\">role</span> <span style=\"background-color: #FFFEFE\">is</span> <span style=\"background-color: #FFFEFE\">a</span> <span style=\"background-color: #FFFEFE\">part</span> <span style=\"background-color: #FFFEFE\">time</span> <span style=\"background-color: #FFFEFE\">role</span> <span style=\"background-color: #FFFEFE\">with</span> <span style=\"background-color: #FFFEFE\">a</span> <span style=\"background-color: #FFFEFE\">view</span> <span style=\"background-color: #FFFEFE\">to</span> <span style=\"background-color: #FFFEFE\">going</span> <span style=\"background-color: #FFFEFE\">full</span> <span style=\"background-color: #FFFEFE\">time</span></p>"
      ]
     },
     "metadata": {},
     "output_type": "display_data"
    }
   ],
   "source": [
    "print(\"Salary (gbp):\", np.expm1(model.predict(make_batch(case.to_frame().T))[0, 0]))\n",
    "\n",
    "tokens_and_weights = explain(model, case, \"Title\")\n",
    "draw_html([(tok, weight * 5) for tok, weight in tokens_and_weights], font_style='font-size:20px;');\n",
    "\n",
    "tokens_and_weights = explain(model, case, \"FullDescription\")\n",
    "draw_html([(tok, weight * 10) for tok, weight in tokens_and_weights]);"
   ]
  },
  {
   "cell_type": "markdown",
   "metadata": {},
   "source": [
    "__Terrible start-up idea #1962:__ make a tool that automaticaly rephrases your job description (or CV) to meet salary expectations :)"
   ]
  }
 ],
 "metadata": {
  "kernelspec": {
   "display_name": "Python 3",
   "language": "python",
   "name": "python3"
  },
  "language_info": {
   "codemirror_mode": {
    "name": "ipython",
    "version": 3
   },
   "file_extension": ".py",
   "mimetype": "text/x-python",
   "name": "python",
   "nbconvert_exporter": "python",
   "pygments_lexer": "ipython3",
   "version": "3.6.0"
  },
  "toc": {
   "base_numbering": 1,
   "nav_menu": {},
   "number_sections": true,
   "sideBar": true,
   "skip_h1_title": false,
   "title_cell": "Table of Contents",
   "title_sidebar": "Contents",
   "toc_cell": true,
   "toc_position": {},
   "toc_section_display": true,
   "toc_window_display": false
  }
 },
 "nbformat": 4,
 "nbformat_minor": 2
}
